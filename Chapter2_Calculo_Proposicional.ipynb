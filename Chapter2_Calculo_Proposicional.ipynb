{
 "cells": [
  {
   "cell_type": "markdown",
   "metadata": {
    "id": "TqORnU8SJpAJ"
   },
   "source": [
    "# Cálculo Proposicional\n",
    "\n",
    "\n",
    "[Abrir no Colab este ficheiro para o poder executar](https://colab.research.google.com/github/melroleandro-solidreturn/Matematica-Discreta-para-Hackers/blob/main/Chapter2_Calculo_Proposicional.ipynb)"
   ]
  },
  {
   "cell_type": "markdown",
   "metadata": {},
   "source": [
    "## Lógica Proposicional\n",
    "\n",
    "> \"Poder-se-á definir a Lógica como a ciência das regras que legitimam a utilização da palavra 'portanto'.\" - B. Ruyer in Logique.\n",
    "\n",
    "### Proposição\n",
    "\n",
    "Nas instruções *if* e *while*, a execução de um bloco de código está dependente da avaliação de uma função proposicional (condição). Com o objetivo de estudar estas instruções e formalizar a noção de função proposicional, começamos por rever algumas noções de lógica proposicional e cálculo de predicados.\n",
    "\n",
    "\n",
    "Os elementos básicos da lógica são as *proposições* ou *sentenças*, que se entendem como afirmações precisas. Na lógica clássica que abordamos, a avaliação de uma proposição é regida por dois princípios fundamentais:\n",
    "\n",
    "- **Princípio da Não Contradição**: Uma proposição não pode ser simultaneamente verdadeira e falsa.\n",
    "- **Princípio do Terceiro Excluído**: Uma proposição é verdadeira ou é falsa.\n",
    "\n",
    "Por exemplo, \"1 é maior que 3\" é uma proposição cujo valor lógico é \"falsidade\", enquanto \"todos os triângulos têm três lados e três ângulos\" é uma proposição cujo valor lógico é \"verdade\".\n",
    "\n",
    "No entanto, \"*x < 3*\" não é uma proposição (depende do valor que venha a ser atribuído à variável *x*), sendo denominada *função proposicional*.\n",
    "\n",
    "Representamos por letras (geralmente minúsculas) as proposições genéricas (ou variáveis proposicionais) e por 1 (ou V) e 0 (ou F) os valores lógicos de \"*verdade*\" e \"*falsidade*\", respectivamente.\n",
    "\n",
    "A área da lógica que trata das proposições neste contexto é designada por *cálculo proposicional* ou *lógica proposicional*."
   ]
  },
  {
   "cell_type": "markdown",
   "metadata": {
    "id": "AG7KlxHpKm0Z"
   },
   "source": [
    "### Controle de Fluxo em Python: if e while\n",
    "\n",
    "#### Estruturas Condicionais: if\n",
    "A estrutura condicional if é utilizada para executar um bloco de código se uma condição for verdadeira."
   ]
  },
  {
   "cell_type": "code",
   "execution_count": 1,
   "metadata": {
    "id": "d85Bo6_8Kzap"
   },
   "outputs": [
    {
     "name": "stdout",
     "output_type": "stream",
     "text": [
      "Você é maior de idade.\n",
      "The history saving thread hit an unexpected error (OperationalError('attempt to write a readonly database')).History will not be written to the database.\n"
     ]
    }
   ],
   "source": [
    "idade = 18\n",
    "\n",
    "if idade >= 18:\n",
    "    print(\"Você é maior de idade.\")"
   ]
  },
  {
   "cell_type": "markdown",
   "metadata": {
    "id": "jrs9GFBpK3S5"
   },
   "source": [
    "#### Função Lógica ou Condição\n",
    "A função lógica ou condição é a expressão que determina se o bloco de código dentro do if será executado."
   ]
  },
  {
   "cell_type": "code",
   "execution_count": 2,
   "metadata": {
    "id": "KX_nNpVEK84Q"
   },
   "outputs": [
    {
     "name": "stdout",
     "output_type": "stream",
     "text": [
      "Você é maior de idade.\n"
     ]
    }
   ],
   "source": [
    "idade = 18\n",
    "\n",
    "# Função lógica ou condição\n",
    "if idade >= 18:\n",
    "    print(\"Você é maior de idade.\")"
   ]
  },
  {
   "cell_type": "markdown",
   "metadata": {
    "id": "5ycRxCVZLCy4"
   },
   "source": [
    "#### Estruturas de Controle de Fluxo: while\n",
    "A estrutura de repetição while é utilizada para executar um bloco de código enquanto uma condição for verdadeira."
   ]
  },
  {
   "cell_type": "code",
   "execution_count": 3,
   "metadata": {
    "id": "bGFNQN23LI2w"
   },
   "outputs": [
    {
     "name": "stdout",
     "output_type": "stream",
     "text": [
      "0\n",
      "1\n",
      "2\n",
      "3\n",
      "4\n"
     ]
    }
   ],
   "source": [
    "contador = 0\n",
    "\n",
    "while contador < 5:\n",
    "    print(contador)\n",
    "    contador += 1"
   ]
  },
  {
   "cell_type": "markdown",
   "metadata": {
    "id": "WBaYOTqcLklX"
   },
   "source": [
    "Exemplo Combinando if e while"
   ]
  },
  {
   "cell_type": "code",
   "execution_count": 4,
   "metadata": {
    "id": "04SrQ4ZzLsM3"
   },
   "outputs": [
    {
     "name": "stdout",
     "output_type": "stream",
     "text": [
      "0 é um número par.\n",
      "1 é um número ímpar.\n",
      "2 é um número par.\n",
      "3 é um número ímpar.\n",
      "4 é um número par.\n",
      "5 é um número ímpar.\n",
      "6 é um número par.\n",
      "7 é um número ímpar.\n",
      "8 é um número par.\n",
      "9 é um número ímpar.\n"
     ]
    }
   ],
   "source": [
    "contador = 0\n",
    "\n",
    "while contador < 10:\n",
    "    if contador % 2 == 0:  # Condição para números pares\n",
    "        print(f\"{contador} é um número par.\")\n",
    "    else:\n",
    "        print(f\"{contador} é um número ímpar.\")\n",
    "\n",
    "    contador += 1"
   ]
  },
  {
   "cell_type": "markdown",
   "metadata": {
    "id": "majVdyzHLx3I"
   },
   "source": [
    "Exemplo com Condição e Operadores Lógicos"
   ]
  },
  {
   "cell_type": "code",
   "execution_count": 5,
   "metadata": {
    "id": "lggADQVVL1gs"
   },
   "outputs": [
    {
     "name": "stdout",
     "output_type": "stream",
     "text": [
      "Você pode dirigir.\n"
     ]
    }
   ],
   "source": [
    "idade = 25\n",
    "tem_carteira = True\n",
    "\n",
    "if idade >= 18 and tem_carteira:\n",
    "    print(\"Você pode dirigir.\")\n",
    "else:\n",
    "    print(\"Você não pode dirigir.\")"
   ]
  },
  {
   "cell_type": "markdown",
   "metadata": {
    "id": "Z2TpXdJtL6C0"
   },
   "source": [
    "Operadores Lógicos\n",
    "- and: Retorna True se ambas as condições forem verdadeiras\n",
    "- or: Retorna True se pelo menos uma das condições for verdadeira\n",
    "- not: Inverte o valor da condição\n",
    "Exemplo com or"
   ]
  },
  {
   "cell_type": "code",
   "execution_count": 6,
   "metadata": {
    "id": "rovTO_EBMA1X"
   },
   "outputs": [
    {
     "name": "stdout",
     "output_type": "stream",
     "text": [
      "Você pode entrar no cinema.\n"
     ]
    }
   ],
   "source": [
    "idade = 16\n",
    "tem_permissao_pais = True\n",
    "\n",
    "if idade >= 18 or tem_permissao_pais:\n",
    "    print(\"Você pode entrar no cinema.\")\n",
    "else:\n",
    "    print(\"Você não pode entrar no cinema.\")"
   ]
  },
  {
   "cell_type": "markdown",
   "metadata": {
    "id": "jKKDOs9KLriY"
   },
   "source": [
    "Os operadores lógicos como and, or, e not utilizados no controle de fluxo em Python têm uma relação direta com os operadores lógicos do cálculo proposicional."
   ]
  },
  {
   "cell_type": "markdown",
   "metadata": {
    "id": "vd_GjYcKJpAL"
   },
   "source": [
    "\n",
    "### Proposição Simples e Proposição Composta\n",
    "\n",
    "Por vezes, combinam-se várias proposições para obter proposições mais expressivas. Neste sentido, classificamos as proposições como **simples** (também denominadas atómicas) ou **compostas** (também denominadas moleculares).\n",
    "\n",
    "As proposições simples apresentam apenas uma afirmação:\n",
    "\n",
    "- $p$: $\\sqrt{2}$ não é um número racional.\n",
    "- $q$: Existem mais números reais do que inteiros.\n",
    "- $v$: $1=2$.\n",
    "- $r$: $2+3>4$.\n",
    "\n",
    "As proposições compostas são definidas por uma ou mais proposições, usando na sua formação **operadores lógicos** (também designados de **conectivas lógicas** ou operadores para formação de proposições):\n",
    "\n",
    "- $x = 2$ e $y = 1$.\n",
    "- Se $x > y$, então $y < x$.\n",
    "- Não é verdade que $2+3>4$.\n",
    "\n"
   ]
  },
  {
   "cell_type": "markdown",
   "metadata": {
    "id": "4gdtFesnJpAM"
   },
   "source": [
    "#### Conectivas lógicas\n",
    "Em cálculo proposicional as proposições são geradas a partir de proposições simples, usando operadores para formação de proposições. Vamos tomar como sintacticamente válidas proposições compostas da forma:\n",
    "\n",
    "- *não* $p$,\n",
    "- $p$ *e* $q$,\n",
    "- $p$ *ou* $q$,\n",
    "- *ou* $p$ *ou* (exclusivo) $q$,\n",
    "- *se* $p$ *então* $q$,\n",
    "- $p$ *se e só se* $q$.\n",
    "\n",
    "onde $p$ e $q$ são proposições (simples ou compostas). Neste casos, em geral, pretende-se obter os valores lógicos das proposições compostas em função dos valores lógicos conhecidos das proposições mais simples que as compõem. Por forma a podermos formalizar a lógica e a avaliação de proposições, convencionamos a seguinte representação para os operadores sintácticos usados na formação de proposições:"
   ]
  },
  {
   "cell_type": "markdown",
   "metadata": {
    "id": "GRKfM1fRJpAN"
   },
   "source": [
    "Operações Lógicas | Símbolos | Notação | Significado\n",
    "------------------|----------|---------|------------\n",
    "Negação | $\\neg$ ou $\\sim$ | $\\neg p$ | não *p*\n",
    "Conjunção | $\\wedge$ | $p \\wedge q$ | *p* e *q*\n",
    "Disjunção | $\\vee$ | $p \\vee q$ | *p* ou *q*\n",
    "Disjunção exclusiva | $\\oplus$ ou $\\dot{\\vee}$ | $p\\oplus q$ |  ou *p* ou (exclusivo) *q*\n",
    "Implicação | $\\rightarrow$ | $p\\rightarrow q$ | se *p* então *q*\n",
    "Bi-implicação | $\\leftrightarrow$ | $p\\leftrightarrow q$ | *p* se só se *q*"
   ]
  },
  {
   "cell_type": "markdown",
   "metadata": {
    "id": "JSLdP-olJpAN"
   },
   "source": [
    "#### Negação\n",
    "Seja $p$ uma proposição. A afirmação \"não se verifica que\n",
    "*p*\" é uma nova proposição, designada de **negação** de $p$. A\n",
    "negação de $p$ é denotada por $\\neg p$ ou $\\sim p$. A proposição\n",
    "$\\neg p$ deve ler-se \"não *p*\" e é verdadeira se *p* é falsa. A proposição $\\neg p$ é falsa se *p* é verdadeira.\n",
    "\n",
    "É usual definir a interpretação dum operador lógico através de\n",
    "tabelas do tipo:\n",
    "\n",
    "\n",
    "\n",
    "  $p$ | $\\neg p$\n",
    ":----:|:-------:\n",
    "  T | F\n",
    "  F | T\n",
    "\n",
    " ou\n",
    "\n",
    "  $p$ | $\\neg p$\n",
    ":----:|:--------:  \n",
    "  1 | 0\n",
    "  0 | 1\n",
    "\n",
    "stas tabelas são designadas por **tabelas de verdade**. Neste\n",
    "caso define completamente o operador negação, relacionando os\n",
    "valores lógicos de *p* e $\\neg p$.\n",
    "\n",
    "Note que, em linguagem corrente nem sempre se pode negar logicamente uma proposição,\n",
    "antepondo o advérbio \"não\" ao verbo da proposição, isto apenas se verifica nos casos mais simples.\n",
    "\n",
    "Por exemplo: negar \"Hoje é sábado.\" é afirmar \"Hoje não é sábado\".\n",
    "\n",
    "Mas negar que \"Todas as aves voam\" é o mesmo que afirmar \"não se verifica que todas as aves voam\" o que é equivalente a afirmar que \"Nem todas as aves voam\" mas não é afirmar que \"Todas as aves não voam\".\n",
    "\n",
    "Em linguagem Matemática, dado o rigor da interpretação das\n",
    "designações usadas, o processo de negação fica simplificado. Por\n",
    "exemplo, negar \"*5>2*\" é o mesmo que afirmar \"$\\neg$*(5>2)*\" que é equivalente, por definição da relação *>*, a escrever \"*5*$\\leq$*2*\". Assim como \"*5>2*\" é verdade, temos pela interpretação da negação que \"$\\neg$*(5>2)*\" é falso."
   ]
  },
  {
   "cell_type": "code",
   "execution_count": 7,
   "metadata": {
    "id": "71AaToZuJpAO",
    "outputId": "29a948d8-9329-42ba-945a-786a1eb86cda"
   },
   "outputs": [
    {
     "name": "stdout",
     "output_type": "stream",
     "text": [
      "not True = False\n",
      "not False = True\n"
     ]
    }
   ],
   "source": [
    "#\n",
    "# Tabela da Negação\n",
    "#\n",
    "for p in [True,False]:\n",
    "    print('not',p,\"=\", not p)"
   ]
  },
  {
   "cell_type": "markdown",
   "metadata": {
    "id": "4MgAQ-EFJpAP"
   },
   "source": [
    "#### Conjunção\n",
    "Sejam $p$ e $q$ proposições. A proposição \"$p$ e $q$\", denotada\n",
    "$p\\wedge q$, é a proposição que é verdadeira apenas quando $p$ e $q$\n",
    "são ambas verdadeiras, caso contrário é falsa. A proposição $p\\wedge q$\n",
    "diz-se a \\textbf{conjunção} de $p$ e $q$.\n",
    "\n",
    "Assim, os valores lógicos das três proposições $p$, $q$, e $p\\wedge\n",
    "q$ estão relacionados pela tabela de verdade:\n",
    "    \n",
    "  $p$ |  $q$ | $p$ $\\wedge$ $q$\n",
    ":-----:|:----:|:--------:\n",
    "  V | V  |   V\n",
    "  V | F  |   F\n",
    "  F | V  |   F\n",
    "  F | F  |   F\n",
    "\n",
    "Note que a tabela tem quatro linhas, uma por cada combinação\n",
    "possível de valores de verdade para as proposições $p$ e $q$.\n"
   ]
  },
  {
   "cell_type": "code",
   "execution_count": 8,
   "metadata": {
    "id": "-4v0X5E8JpAP",
    "outputId": "2034ae40-3cf3-46ff-b961-07405f65c8f9"
   },
   "outputs": [
    {
     "name": "stdout",
     "output_type": "stream",
     "text": [
      "True and True = True\n",
      "True and False = False\n",
      "False and True = False\n",
      "False and False = False\n"
     ]
    }
   ],
   "source": [
    "#\n",
    "# Tabela da conjunção\n",
    "#\n",
    "for p in [True,False]:\n",
    "    for q in [True,False]:\n",
    "        print(p,'and',q,'=', p and q)"
   ]
  },
  {
   "cell_type": "markdown",
   "metadata": {
    "id": "lzJasgLgJpAP"
   },
   "source": [
    "#### Disjunção\n",
    "Sejam *p* e *q* proposições. A proposição \"$p$ ou $q$\", denotada\n",
    "*p$\\vee$q*, é a proposição que é falsa apenas quando $p$ e $q$ são\n",
    "ambas falsas, caso contrário é verdade. A proposição *p$\\vee$q*\n",
    "diz-se a **disjunção** de *p* e *q*.\n",
    "A tabela de verdade de *p $\\vee$q* toma assim a forma:\n",
    "\n",
    "  $p$ | $q$ | $p$ $\\vee$ $q$\n",
    ":------:|:-----:|:---------:\n",
    "   V  | V   |    V\n",
    "   V  | F   |    V\n",
    "   F  | V   |    V\n",
    "   F  | F   |    F\n",
    "\n",
    "A conectiva **ou** é interpretada na versão inclusiva da\n",
    "palavra \"ou\" em linguagem corrente. Note que, nas proposições seguintes *ou* tem ou *significado inclusivo* ou *significado\n",
    "exclusivo* consoante o contexto de interpretação:\n",
    "- O João pratica futebol ou natação.[ou ambas as coisas]\n",
    "- Ele é do Sporting ou do Porto.[mas não as duas coisas]\n"
   ]
  },
  {
   "cell_type": "code",
   "execution_count": 9,
   "metadata": {
    "id": "ygXnWd6uJpAP",
    "outputId": "2e2abd3b-0649-419d-b64c-2353426bfc65"
   },
   "outputs": [
    {
     "name": "stdout",
     "output_type": "stream",
     "text": [
      "True or True = True\n",
      "True or False = True\n",
      "False or True = True\n",
      "False or False = False\n"
     ]
    }
   ],
   "source": [
    "#\n",
    "# Tabela da disjunção\n",
    "#\n",
    "for p in [True,False]:\n",
    "    for q in [True,False]:\n",
    "        print(p,'or',q,'=', p or q)"
   ]
  },
  {
   "cell_type": "markdown",
   "metadata": {
    "id": "T36n46jpJpAQ"
   },
   "source": [
    "#### Disjunção exclusiva\n",
    "\n",
    "Para tornar a interpretação da disjunção independente do contexto definimos:  A **disjunção exclusiva**\n",
    "de *p* e *q*, denotada *p$\\oplus$q* ou *p$\\dot{\\vee}$q*, é a\n",
    "proposição que é verdade apenas quando, ou *p* é verdadeira ou *q* é\n",
    "verdadeira, caso contrário é falsa.\n",
    "\n",
    "A tabela de verdade de *p$\\oplus$q* toma assim a forma:\n",
    "\n",
    "  $p$ | $q$ | $p$ $\\oplus$  $q$\n",
    ":------:|:-----:|:--------:\n",
    "   V  |  V  |  F\n",
    "   V  |  F  |  V\n",
    "   F  |  V  |  V\n",
    "   F  |  F  |  F\n",
    "   "
   ]
  },
  {
   "cell_type": "code",
   "execution_count": 10,
   "metadata": {
    "id": "42MvQHytJpAQ",
    "outputId": "05916af1-8d30-4a39-cb99-1422193d54e9"
   },
   "outputs": [
    {
     "name": "stdout",
     "output_type": "stream",
     "text": [
      "True xor True = False\n",
      "True xor False = True\n",
      "False xor True = True\n",
      "False xor False = False\n"
     ]
    }
   ],
   "source": [
    "#\n",
    "# Tabela da disjunção exclusiva\n",
    "#\n",
    "for p in [True,False]:\n",
    "    for q in [True,False]:\n",
    "        if p!=q:\n",
    "            print(p,'xor',q,'=', True)\n",
    "        else:\n",
    "            print(p,'xor',q,'=', False)"
   ]
  },
  {
   "cell_type": "markdown",
   "metadata": {
    "id": "JYfc1Rd2JpAQ"
   },
   "source": [
    "**Exercício 1:**\n",
    "Relacione o valor lógico das proposições $p$, $q$, $r$ e\n",
    "$(p\\wedge (\\neg q))\\oplus (r\\vee p)$.\n",
    "\n",
    "**Exercício 2:**\n",
    "  Indique os valores (de verdade ou falsidade) das seguintes afirmações:\n",
    "- $3\\leq 7$ e 4 é um número inteiro ímpar.\n",
    "- $3\\leq 7$ ou 4 é um número inteiro ímpar.\n",
    "- 5 é ímpar ou divisível por 4."
   ]
  },
  {
   "cell_type": "markdown",
   "metadata": {
    "id": "VkuJTfCOJpAQ"
   },
   "source": [
    "#### Implicação\n",
    "Sejam *p* e *q* proposições. A implicação *p$\\rightarrow$q* é\n",
    "a proposição que é falsa quando *p* é verdadeira e *q* é falsa, nos\n",
    "outros casos é verdadeira.\n",
    "\n",
    "A tabela de verdade de *p$\\rightarrow$q* toma assim a forma:\n",
    "\n",
    "  $p$ | $q$ | $p$ $\\rightarrow$ $q$\n",
    ":------:|:-----:|:----------:\n",
    "   V  |  V  |   V\n",
    "   V  |  F  |   F\n",
    "   F  |  V  |   V\n",
    "   F  |  F  |   V\n",
    "\n",
    "Numa proposição do tipo *p$\\rightarrow$q* a proposição *p* recebe o\n",
    "nome de **hipótese** (antecedente ou premissa) e a *q* chama-se\n",
    "**tese** (conclusão ou consequente). A proposição *p$\\rightarrow$q* também é muitas vezes designada por **declaração\n",
    "condicional**. Estas designações são compatíveis com o uso da implicação em linguagem corrente, devemos no entanto notar que a tabela entra em conflito com a interpretação que fazemos da implicação: neste caso não se dirá \"*p* implica *q*\" quando se sabe à priori que *p* é falsa. Na interpretação que apresentamos para a implicação ela é verdade sempre que \"*p*\" é falsa independentemente do valor lógico de \"*q*\". Esta situação pode ilustrar-se com a implicação \"se 1+1=1 então 2=3\" que é verdadeira, uma vez que o antecedente é falso.\n"
   ]
  },
  {
   "cell_type": "code",
   "execution_count": 11,
   "metadata": {
    "id": "me_6JvYKJpAR",
    "outputId": "f06e3910-2412-4ad9-9101-f094443c8fdf"
   },
   "outputs": [
    {
     "name": "stdout",
     "output_type": "stream",
     "text": [
      "True --> True = True\n",
      "True --> False = False\n",
      "False --> True = True\n",
      "False --> False = True\n"
     ]
    }
   ],
   "source": [
    "#\n",
    "# Tabela da implicação\n",
    "#\n",
    "\n",
    "for p in [True,False]:\n",
    "    for q in [True,False]:\n",
    "        if p and not q:\n",
    "            print(p,'-->',q,'=',False)\n",
    "        else:\n",
    "            print(p,'-->',q,'=',True)"
   ]
  },
  {
   "cell_type": "markdown",
   "metadata": {
    "id": "OC_CXvLTJpAR"
   },
   "source": [
    "#### Bi-implicação\n",
    "Sejam *p* e *q* proposições. A **bi-condicional** ou **bi-implicação** de *p* e *q* é a proposição *p$\\leftrightarrow$q* que é verdadeira\n",
    "quando *p* e *q* têm o mesmo valor lógico.\n",
    "\n",
    "A tabela de verdade de *p$\\leftrightarrow$q* toma assim a forma:\n",
    "\n",
    "\n",
    "  $p$ | $q$ | $p$ $\\leftrightarrow$ $q$\n",
    ":------:|:-----:|:----------:\n",
    "   V  |  V  |   V\n",
    "   V  |  F  |   F\n",
    "   F  |  V  |   F\n",
    "   F  |  F  |   V\n",
    "\n",
    "A proposição *p$\\leftrightarrow$q* deve ler-se \"*p* se e só se *q*\"\n",
    "(abreviado por \"*p* sse *q*\") ou \"*p* é condição necessária e\n",
    "suficiente para *q*\"."
   ]
  },
  {
   "cell_type": "code",
   "execution_count": 12,
   "metadata": {
    "id": "sX_GndeSJpAR",
    "outputId": "f33aa8fd-c962-442f-f4de-1d5129dde209"
   },
   "outputs": [
    {
     "name": "stdout",
     "output_type": "stream",
     "text": [
      "True <-> True = True\n",
      "True <-> False = False\n",
      "False <-> True = False\n",
      "False <-> False = True\n"
     ]
    }
   ],
   "source": [
    "#\n",
    "# Tabela da disjunção exclusiva\n",
    "#\n",
    "for p in [True,False]:\n",
    "    for q in [True,False]:\n",
    "        if p==q:\n",
    "            print(p,'<->',q,'=', True)\n",
    "        else:\n",
    "            print(p,'<->',q,'=', False)"
   ]
  },
  {
   "cell_type": "markdown",
   "metadata": {
    "id": "4CElYIsFJpAR"
   },
   "source": [
    "Facilmente podemos mostrar que as proposições *p$\\leftrightarrow$q*\n",
    "e  $(p\\rightarrow q)\\wedge(q\\rightarrow p)$ têm os mesmos valores\n",
    "lógicos, ou seja a proposição $(p\\leftrightarrow  q)\\leftrightarrow\n",
    "((p\\rightarrow q)\\wedge(q\\rightarrow p))$ é sempre verdadeira.\n",
    "\n",
    "\n",
    "(p | $\\leftrightarrow$ | q) | $\\leftrightarrow$ | ((p | $\\rightarrow$ | q) | $\\wedge$ | (q | $\\rightarrow$  | p))\n",
    ":------:|:----:|:----:|:----:|:----:|:----:|:----:|:----:|:----:|:----:|:----:\n",
    "  V   |  V | V  |  V |  V |  V |  V |  V |  V |  V |  V\n",
    "  V   |  F | F  |  V |  V |  F |  F |  F |  F |  V |  V\n",
    "  F   |  F | V  |  V |  F |  V |  V |  F |  V |  F |  F\n",
    "  F   |  V | F  |  V |  F |  V |  F |  V |  F |  V |  F\n",
    "------|----|----|----|----|----|----|----|----|----|----\n",
    "1  | 2 | 1 | 4 | 1 | 2 | 1 | 3 | 1 | 2 | 1\n",
    "\n"
   ]
  },
  {
   "cell_type": "markdown",
   "metadata": {
    "id": "2lETevbTJpAR"
   },
   "source": [
    "**Exercício 3:**\n",
    "Suponhamos que *p,q,r* representam as seguintes sentenças:\n",
    "\n",
    ">$p:$\"7 é um número inteiro par\"\n",
    "\n",
    ">$q:3+1=4$\n",
    "\n",
    ">$r:$\"24 é divisível por 8\""
   ]
  },
  {
   "cell_type": "markdown",
   "metadata": {
    "id": "i2TjVdFQJpAR"
   },
   "source": [
    "1. Escreva em linguagem simbólica as proposições\n",
    "\n",
    "    1. $(3+1\\neq 4)$ e 24 é divisível por 8\n",
    "    \n",
    "    1. não é verdade que 7 seja ímpar ou 3+1=4\n",
    "    \n",
    "    1. se 3+1=4 então 24 não é divisível por 8\n",
    "    \n",
    "1. Escreva por palavras as sentenças\n",
    "\n",
    "    1. $(p\\vee(\\neg q))$\n",
    "    \n",
    "    1. $(\\neg(p\\wedge q))$\n",
    "    \n",
    "    1. $((\\neg r)\\vee (\\neg q))$\n",
    "    "
   ]
  },
  {
   "cell_type": "markdown",
   "metadata": {
    "id": "aXahywbcJpAS"
   },
   "source": [
    "**Exercício 4:**\n",
    "Construir as tabelas de verdade das seguintes proposições:\n",
    "1. $((p\\rightarrow q)\\wedge p)\\rightarrow q$\n",
    "1. $p\\leftrightarrow(q\\rightarrow r)$\n",
    "1. $(p\\wedge(\\neg p))\\rightarrow q$\n",
    "1. $((p\\vee r)\\wedge(q\\vee r))\\wedge((\\neg p)\\vee (\\neg r))$\n",
    "1. $(p\\wedge(q\\vee r))\\wedge (q\\wedge (p\\vee r))$\n",
    "\n",
    "**Exercício 5:**\n",
    "Quantas linhas tem a tabela de verdade de uma proposição com $n$ variáveis proposicionais?"
   ]
  },
  {
   "cell_type": "markdown",
   "metadata": {
    "id": "fVC8H06UTj0_"
   },
   "source": [
    "Em Python, os operadores lógicos and, or, e not são usados para combinar ou inverter condições lógicas."
   ]
  },
  {
   "cell_type": "code",
   "execution_count": 13,
   "metadata": {
    "id": "5A9AWr70Tqd7"
   },
   "outputs": [
    {
     "name": "stdout",
     "output_type": "stream",
     "text": [
      "Você pode entrar no cinema.\n"
     ]
    }
   ],
   "source": [
    "idade = 16\n",
    "tem_permissao_pais = True\n",
    "\n",
    "if idade >= 18 or tem_permissao_pais:\n",
    "    print(\"Você pode entrar no cinema.\")\n",
    "else:\n",
    "    print(\"Você não pode entrar no cinema.\")"
   ]
  },
  {
   "cell_type": "markdown",
   "metadata": {
    "id": "MmEiS59KTuSm"
   },
   "source": [
    "#### Operadores Lógicos no Cálculo Proposicional\n",
    "No cálculo proposicional, os operadores lógicos fundamentais são:\n",
    "\n",
    "∧ (E, AND): Representa a conjunção lógica, e é verdadeira apenas se ambas as proposições forem verdadeiras.\n",
    "∨ (OU, OR): Representa a disjunção lógica, e é verdadeira se pelo menos uma das proposições for verdadeira.\n",
    "¬ (NÃO, NOT): Representa a negação lógica, e inverte o valor da proposição.\n",
    "\n",
    "#### Booleanos em Python\n",
    "Os booleanos em Python representam os valores verdadeiro (True) e falso (False). Eles são fundamentais para as estruturas de controle de fluxo condicionais."
   ]
  },
  {
   "cell_type": "code",
   "execution_count": 14,
   "metadata": {
    "id": "11p-CImcT96F"
   },
   "outputs": [],
   "source": [
    "verdadeiro = True\n",
    "falso = False"
   ]
  },
  {
   "cell_type": "markdown",
   "metadata": {
    "id": "rnoDiEptUCOR"
   },
   "source": [
    "#### Estruturas de Dados Booleanas\n",
    "Os booleanos são frequentemente usados em estruturas de dados como listas e dicionários para representar condições."
   ]
  },
  {
   "cell_type": "code",
   "execution_count": 15,
   "metadata": {
    "id": "q0U1YTxVUJW-"
   },
   "outputs": [
    {
     "name": "stdout",
     "output_type": "stream",
     "text": [
      "João está presente.\n",
      "Maria está ausente.\n",
      "Carlos está presente.\n"
     ]
    }
   ],
   "source": [
    "presenca = {\n",
    "    \"João\": True,\n",
    "    \"Maria\": False,\n",
    "    \"Carlos\": True\n",
    "}\n",
    "\n",
    "for aluno, presente in presenca.items():\n",
    "    if presente:\n",
    "        print(f\"{aluno} está presente.\")\n",
    "    else:\n",
    "        print(f\"{aluno} está ausente.\")"
   ]
  },
  {
   "cell_type": "markdown",
   "metadata": {
    "id": "rhwVk1I0UOP0"
   },
   "source": [
    "#### Relação entre Python, Cálculo Proposicional e Estruturas de Dados\n",
    "O operador and em Python corresponde à conjunção ∧ no cálculo proposicional, o operador or em Python corresponde à disjunção ∨, e o operador not em Python corresponde à negação ¬.\n",
    "\n",
    "#### Em python"
   ]
  },
  {
   "cell_type": "code",
   "execution_count": 16,
   "metadata": {
    "id": "vb-0lgi3UWh-"
   },
   "outputs": [],
   "source": [
    "if idade >= 18 and tem_carta:\n",
    "    print(\"Você pode condusir.\")"
   ]
  },
  {
   "cell_type": "markdown",
   "metadata": {
    "id": "xAicTX9fU0dD"
   },
   "source": [
    "#### No Cálculo Proposicional:\n",
    "\n",
    "P∧Q\n",
    "\n",
    "P: \"idade >= 18\" é verdadeiro.\n",
    "Q: \"tem_carta\" é verdadeiro.\n",
    "A proposição é verdadeira apenas se P e Q forem verdadeiros.\n",
    "\n",
    "Exemplo com Condição e Operadores Lógicos"
   ]
  },
  {
   "cell_type": "code",
   "execution_count": 17,
   "metadata": {
    "id": "R0gB6ji9U_Rz"
   },
   "outputs": [
    {
     "name": "stdout",
     "output_type": "stream",
     "text": [
      "Você pode condusir.\n"
     ]
    }
   ],
   "source": [
    "idade = 25\n",
    "tem_carta = True\n",
    "\n",
    "if idade >= 18 and tem_carta:\n",
    "    print(\"Você pode condusir.\")\n",
    "else:\n",
    "    print(\"Você não pode condusir.\")"
   ]
  },
  {
   "cell_type": "markdown",
   "metadata": {
    "id": "S_gv6zukUlhF"
   },
   "source": [
    "Neste exemplo, a função lógica idade >= 18 and tem_carta corresponde à proposição P∧Q no cálculo proposicional."
   ]
  },
  {
   "cell_type": "markdown",
   "metadata": {
    "id": "q8eb8P6NJpAS"
   },
   "source": [
    "#### Ordem de precedência das conectivas lógicas\n",
    "Até aqui, temos usado parêntesis para definir a ordem de\n",
    "aplicação dos operadores lógicos numa proposição composta. Por forma\n",
    "a reduzir o número de parêntesis adoptamos a seguinte convenção: Sempre que numa expressão estiverem presentes várias operações lógicas, **convenciona-se**, na ausência de parêntesis, que as operações se efectuem na ordem seguinte:\n",
    "1. a negação;\n",
    "1. a conjunção e a disjunção;\n",
    "1. a implicação e a bi-implicação."
   ]
  },
  {
   "cell_type": "markdown",
   "metadata": {
    "id": "pDS7k3vWJpAS"
   },
   "source": [
    "Assim,\n",
    "1. $p\\rightarrow ((\\neg p)\\vee r)$ pode escrever-se $p\\rightarrow \\neg p\\vee r$;\n",
    "1. $(p\\wedge (\\neg q))\\leftrightarrow c$ pode escrever-se $p\\wedge \\neg q\\leftrightarrow c$;\n",
    "1. $p\\vee q\\wedge \\neg r \\rightarrow p \\rightarrow\\neg q$ deve ser entendida como\n",
    "$(((p\\vee q)\\wedge(\\neg r))\\rightarrow p) \\rightarrow(\\neg q)$."
   ]
  },
  {
   "cell_type": "markdown",
   "metadata": {
    "id": "q3vKyt7KJpAS"
   },
   "source": [
    "### Tautologia\n",
    "\n",
    "\n",
    "\n",
    "Chama-se **tautologia** (ou fórmula logicamente\n",
    "verdadeira) a uma proposição que é verdadeira, para quaisquer que sejam os valores lógicos atribuídos às variáveis proposicionais que a compõem. Dito de outra forma, chama-se tautologia a uma proposição cuja coluna correspondente na tabela de verdade possui apenas Vs ou 1s. Exemplo duma tautologia é a proposição $p\\vee(\\neg p)$, designada de \"Princípio do terceiro excluído\",\n",
    "\n",
    "  $p$ | $\\neg p$ | $p$ $\\vee$ $\\neg p$\n",
    ":------:|:-----:|:----------:\n",
    "   V  |  F  |   V\n",
    "   F  |  V  |   V\n",
    "\n",
    "\n",
    "A negação duma tautologia, ou seja uma proposição que é sempre falsa, diz-se uma **contra-tautologia** ou **contradição**. Se uma proposição não é nem uma tautologia nem uma contradição denomina-se por **contingência**.\n",
    "\n",
    "Não deve confundir-se contradição com proposição falsa, assim como não deve confundir-se tautologia com proposição verdadeira. O facto de uma tautologia ser sempre verdadeira e uma contradição ser sempre falsa deve-se à sua forma lógica (sintaxe) e não ao significado que se lhes pode atribuir (semântica).\n",
    "\n"
   ]
  },
  {
   "cell_type": "markdown",
   "metadata": {
    "id": "11hVNijlJpAS"
   },
   "source": [
    "**Exercício 6:**\n",
    "Mostre que são tautologias:\n",
    "1. $(\\neg q\\rightarrow \\neg p)\\leftrightarrow(p\\rightarrow q)$\n",
    "1. $(p\\leftrightarrow  q)\\leftrightarrow ((p\\rightarrow q)\\wedge(q\\rightarrow p))$"
   ]
  },
  {
   "cell_type": "markdown",
   "metadata": {
    "id": "iSx4RwDVJpAS"
   },
   "source": [
    "### Equivalências proposicionais\n",
    "\n",
    "As proposições $p$ e $q$ dizem-se **logicamente\n",
    "equivalentes** se $p\\leftrightarrow q$ é uma tautologia. Por $p\\equiv\n",
    "q$ ou $p\\Leftrightarrow q$ denotamos que $p$ e $q$ são logicamente\n",
    "equivalentes.\n",
    "\n",
    "Diz-se que a proposição $p$ **implica logicamente** a proposição $q$ se a veracidade da primeira arrastar necessariamente a veracidade da segunda, ou seja, se a proposição *p$\\rightarrow$q* for uma tautologia.\n",
    "\n",
    "\n",
    "1. $\\neg q\\rightarrow \\neg p \\Leftrightarrow p\\rightarrow q$\n",
    "\n",
    "$\\neg$ |  $q$  | $\\rightarrow$ | $\\neg$ | $p$\n",
    ":-----------:|:-------:|:---------------:|:--------:|:-----:\n",
    "F  |  V  |  V  |   F   |   V\n",
    "V  |  F  |  F  |   F   |   V\n",
    "F  |  V  |  V  |   V   |   F\n",
    "V  |  F  |  V  |   V   |   F\n",
    "-----------|-------|---------------|--------|-----\n",
    "2  |  1  |  3  |   2   |   1\n",
    "\n",
    "e\n",
    "\n",
    "\n",
    "$p$  | $\\rightarrow$ |  $q$\n",
    ":-----:|:-------------:|:----:  \n",
    "V | V | V\n",
    "V | F | F\n",
    "F | V | V\n",
    "F | V | F\n",
    "-------|---------------|------\n",
    "1 | 2 | 1\n",
    "\n",
    "\n",
    "1. $p\\leftrightarrow  q\\Leftrightarrow (p\\rightarrow q)\\wedge(q\\rightarrow p)$\n",
    "\n",
    "\n",
    "($p$ | $\\leftrightarrow$ | q) | $\\leftrightarrow$ | (($p$ | $\\rightarrow$ | $q$) | $\\wedge$ | ($q$ | $\\rightarrow$  | $p$))\n",
    ":----:|:----:|:----:|:----:|:----:|:----:|:----:|:----:|:----:|:----:|:----:\n",
    "V | V | V | V | V | V | V | V | V | V | V\n",
    "V | F | F | V | V | F | F | F | F | V | V\n",
    "F | F | V | V | F | V | V | F | V | F | F\n",
    "F | V | F | V | F | V | F | V | F | V | F\n",
    "----|----|----|----|----|----|----|----|----|----|----\n",
    "  1 |  2 |  1 |  4 |  1 |  2 |  1 |  3 |  1 |  2 |  1\n",
    "\n",
    "Deste modo,  a equivalência proposicional pode ser sempre verificada através duma tabela de verdade. Em particular, as proposições $p$ e $q$ são equivalentes se e só se as colunas, na tabela de verdade, que determinam os seu valores lógicos coincidirem.\n"
   ]
  },
  {
   "cell_type": "markdown",
   "metadata": {
    "id": "p8v6VZVjJpAT"
   },
   "source": [
    "**Exercício 7:**\n",
    "Mostre que são exemplos de equivalências proposicionais:\n",
    "1. $\\neg(p\\vee \\neg p) \\Leftrightarrow p \\wedge \\neg p$\n",
    "1. $\\neg (p\\vee q)\\Leftrightarrow \\neg p \\wedge \\neg q$\n",
    "1. $\\neg p\\vee q \\Leftrightarrow p \\rightarrow q$\n",
    "1. $p\\vee(q\\wedge r)\\Leftrightarrow(p\\vee q)\\wedge(p\\vee r)$"
   ]
  },
  {
   "cell_type": "markdown",
   "metadata": {
    "id": "pU3NWHAYJpAT"
   },
   "source": [
    "**Exercício 8:**\n",
    "Indique quais das sentenças seguintes são equivalentes:\n",
    "1. $p\\wedge(\\neg q)$\n",
    "1. $p\\rightarrow q$\n",
    "1. $\\neg((\\neg p)\\vee q)$\n",
    "1. $q\\rightarrow(\\neg q)$\n",
    "1. $(\\neg p)\\vee q$\n",
    "1. $\\neg(p\\rightarrow q)$\n",
    "1. $p\\rightarrow(\\neg q)$\n",
    "1. $(\\neg p)\\rightarrow (\\neg q)$"
   ]
  },
  {
   "cell_type": "markdown",
   "metadata": {
    "id": "weWU1IArJpAT"
   },
   "source": [
    "**Exercício 9:**\n",
    "Mostre que cada uma das proposições que se seguem:\n",
    "1. $(\\neg p)\\vee q$\n",
    "1. $(\\neg q)\\rightarrow (\\neg p)$\n",
    "1. $\\neg(p\\wedge (\\neg q))$\n",
    "é equivalente a $p\\rightarrow q$.\n"
   ]
  },
  {
   "cell_type": "markdown",
   "metadata": {
    "id": "QrFIDJWRJpAT"
   },
   "source": [
    "**Exercício 10:**\n",
    "Mostre que:\n",
    "1. $p\\vee(q\\wedge r)$ não é logicamente equivalente a $(p\\vee q)\\wedge r$.\n",
    "1. $p\\vee (q\\wedge r)$ é logicamente equivalente a $(p\\vee q)\\wedge (p\\vee r)$.\n",
    "1. $p\\vee(\\neg (q  \\vee r))$ é logicamente equivalente a $(p\\vee(\\neg q))\\vee(\\neg r)$"
   ]
  },
  {
   "cell_type": "markdown",
   "metadata": {
    "id": "DxU2MZ7lJpAT"
   },
   "source": [
    "De seguida apresentamos exemplos de equivalências úteis para o que se segue (que podem ser verificadas através de tabelas de verdade):"
   ]
  },
  {
   "cell_type": "markdown",
   "metadata": {
    "id": "4-FKjegeJpAT"
   },
   "source": [
    "   Nome      |      Propriedade     |    Propriedade\n",
    "-------------|----------------------|-------------------\n",
    "Comutatividade | $p \\wedge q \\Leftrightarrow q \\wedge p$ | $p \\vee q \\Leftrightarrow q \\vee p$\n",
    "Associativa| $(p\\wedge q)\\wedge r \\Leftrightarrow p \\wedge (q \\wedge r)$ | $(p\\vee q)\\vee r \\Leftrightarrow p \\vee (q \\vee r)$\n",
    "Idempotência | $p\\wedge p \\Leftrightarrow p$ | $p\\vee p \\Leftrightarrow p$\n",
    "Identidade | $p\\wedge V\\Leftrightarrow p$ | $p\\vee F\\Leftrightarrow p$\n",
    "Dominância | $p\\wedge F\\Leftrightarrow F$ | $p\\vee V\\Leftrightarrow V$\n",
    "Absorção | $p\\wedge(p\\vee r)\\Leftrightarrow p$ |$p\\vee(p\\wedge r)\\Leftrightarrow p$\n",
    "Distributivas | $p\\wedge(q\\vee r)\\Leftrightarrow(p\\wedge q)\\vee(p\\wedge r)$ | $p\\vee(q\\wedge r)\\Leftrightarrow(p\\vee q)\\wedge(p\\vee r)$\n",
    "Distributivas | $p\\rightarrow(q\\vee r)\\Leftrightarrow(p\\rightarrow q)\\vee(p\\rightarrow r)$ | $p\\rightarrow(q\\wedge r)\\Leftrightarrow (p\\rightarrow q)\\wedge(p\\rightarrow r)$\n",
    "Leis de De Morgan | $\\neg (p\\wedge q)\\Leftrightarrow \\neg p \\vee \\neg q$ |  $\\neg (p\\vee q)\\Leftrightarrow \\neg p \\wedge \\neg q$\n",
    "Def. Implicação | $p\\rightarrow q \\Leftrightarrow \\neg p \\vee q$ | $p\\rightarrow q\\Leftrightarrow \\neg(p\\wedge\\neg q)$\n",
    "Def. Bi-condicional | $p\\leftrightarrow q \\Leftrightarrow (p\\rightarrow q) \\wedge (q \\rightarrow p)$ | $p\\leftrightarrow q \\Leftrightarrow (\\neg p \\vee q) \\wedge (\\neg q \\vee p)$\n",
    "Negação | $\\neg(\\neg p)\\Leftrightarrow p$ |\n",
    "Contraposição | $p\\rightarrow q \\Leftrightarrow \\neg q \\rightarrow \\neg p$|\n",
    "Troca de premissas | $p\\rightarrow (q\\rightarrow r)\\Leftrightarrow q\\rightarrow (p\\rightarrow r)$ |"
   ]
  },
  {
   "cell_type": "markdown",
   "metadata": {
    "id": "w2bovjLBJpAT"
   },
   "source": [
    "As equivalências lógicas apresentadas na tabela anterior, podem ser usadas na determinação de equivalências lógicas adicionais. Isso porque, podemos numa proposição composta, substituir\n",
    "proposições por proposições que lhes sejam equivalentes\n",
    "sem que isso altere os valores de verdade da proposição original.\n",
    "\n",
    "Por exemplo:\n",
    "\n",
    "$$\n",
    "\\begin{array}{rcll}\n",
    "  \\neg(p\\vee(\\neg p \\wedge q)) & \\Leftrightarrow & \\neg p \\wedge \\neg(\\neg p \\wedge q) & \\text{da segunda lei de De Morgan} \\\\\n",
    "  & \\Leftrightarrow & \\neg p \\wedge [\\neg(\\neg p) \\vee \\neg q] & \\text{da primeira lei de De Morgan} \\\\\n",
    "  & \\Leftrightarrow & \\neg p \\wedge (p\\vee \\neg q) & \\text{da lei da dupla negação} \\\\\n",
    "  & \\Leftrightarrow & (\\neg p \\wedge p) \\vee (\\neg p \\wedge \\neg q) & \\text{da segunda distributividade} \\\\\n",
    "  & \\Leftrightarrow & F \\vee (\\neg p \\wedge \\neg q) & \\text{já que } \\neg p \\wedge p \\Leftrightarrow F \\\\\n",
    "  & \\Leftrightarrow & \\neg p \\wedge \\neg q & \\text{da lei identidade}\n",
    "\\end{array}\n",
    "$$\n",
    "\n",
    "Donde podemos concluir que $\\neg(p\\vee(\\neg p \\wedge q))$ e $\\neg p\n",
    "\\wedge \\neg q$ são proposições logicamente equivalentes:\n",
    "$$\n",
    " \\neg(p\\vee(\\neg p \\wedge q)) \\Leftrightarrow \\neg p \\wedge \\neg q\n",
    "$$\n"
   ]
  },
  {
   "cell_type": "markdown",
   "metadata": {
    "id": "d-hKKX4gJpAT"
   },
   "source": [
    "**Exercício 11:**\n",
    "Simplifique as seguintes proposições:\n",
    "1. $p\\vee(q\\wedge (\\neg p))$\n",
    "1. $\\neg(p\\vee(q\\wedge(\\neg r)))\\wedge q$\n",
    "1. $\\neg((\\neg p)\\wedge(\\neg q))$\n",
    "1. $\\neg((\\neg p)\\vee q)\\vee(p\\wedge(\\neg r))$\n",
    "1. $(p\\wedge q)\\vee (p\\wedge (\\neg q))$\n",
    "1. $(p\\wedge r)\\vee((\\neg r)\\wedge (p\\vee q))$\n"
   ]
  },
  {
   "cell_type": "markdown",
   "metadata": {
    "id": "1TqgIItoJpAU"
   },
   "source": [
    "**Exercício 12:**\n",
    "Por vezes usa-se o símbolo $\\downarrow$ para construir proposições compostas $p\\downarrow q$ definidas por duas proposições $p$ e $q$, que é verdadeira quando e só quando $p$ e $q$ são simultaneamente falsas, e é falsa em todos os outros casos. A proposição $p\\downarrow q$ lê-se \"nem $p$ nem $q$\".\n",
    "1. Apresente a tabela de verdade de $p\\downarrow q$.\n",
    "1. Expresse $p\\downarrow q$ em termos das conectivas $\\wedge,\\vee$ e $\\neg$.\n",
    "1. Determine proposições apenas definidas pela conectiva $\\downarrow$ que sejam equivalentes a $\\neg p$, $p\\wedge q$ e $p\\vee q$."
   ]
  },
  {
   "cell_type": "markdown",
   "metadata": {
    "id": "kg4yaIsvJpAU"
   },
   "source": [
    "**Exercício 13:**\n",
    "Expresse a proposição $p\\leftrightarrow q$ usando apenas os símbolos $\\wedge,\\vee$ e $\\neg$."
   ]
  },
  {
   "cell_type": "markdown",
   "metadata": {
    "id": "lyeuE29IJpAU"
   },
   "source": [
    "### Considerações sobre a implicação\n",
    "As duas primeiras linhas da tabela da implicação\n",
    "\n",
    "\n",
    "  $p$  |  $q$  |  $p\\rightarrow q$\n",
    ":-------:|:-------:|:------------:\n",
    "  V  |  V | V\n",
    "  V  |  F | F\n",
    "  F  |  V | V\n",
    "  F  |  F | V\n",
    "\n",
    "\n",
    "não apresentam qualquer problema sob o ponto de vista intuitivo do senso comum. Quanto às duas últimas, qualquer outra escolha possível apresenta desvantagens sob o ponto de vista lógico, o que levou à escolha das soluções apresentadas, já que:\n",
    "\n",
    "1. fazendo F na 3º linha e F na 4º linha, obtém-se a tabela da conjunção\n",
    "1. fazendo F na 3º linha e V na 4º linha, obtém-se a tabela da bi-implicação\n",
    "1. resta a possibilidade de fazer V na 3º linha e F na 4º linha que também não é, pois isso equivaleria a recusar a equivalência\n",
    "$$\n",
    "(p\\rightarrow q)\\Leftrightarrow(\\neg q\\rightarrow\\neg p)\n",
    "$$\n",
    "que é uma equivalência aconselhável, já que a proposição \"se o Pedro fala, existe\" é (intuitivamente) equivalente à proposição \"se o Pedro não existe, não fala\". A aceitação desta equivalência impõe a tabela considerada para a implicação.\n",
    "\n",
    "\n",
    "$\\neg$ | $q$ | $\\rightarrow$ | $\\neg$ | $p$\n",
    ":-------:|:-----:|:---------------:|:--------:|:-------:\n",
    " F | V | V | F | V\n",
    " V | F | F | F | V\n",
    " F | V | V | V | F\n",
    " V | F | V | V | F\n",
    "-------|-----|---------------|--------|-------\n",
    "2 | 1 | 3 | 2 | 1\n",
    "\n",
    "e\n",
    "\n",
    "$p$ | $\\rightarrow$ | $q$\n",
    ":----:|:---------------:|:-------:\n",
    "V | V | V\n",
    "V | F | F\n",
    "F | V | V\n",
    "F | V | F\n",
    "----|---------------|-------\n",
    "1 | 2 | 1\n",
    "\n",
    "A partir duma implicação $r$ dada por $p\\rightarrow q$ define-se as\n",
    "proposições:\n",
    "1. $q\\rightarrow p$, designada de *recíproca* da implicação $r$;\n",
    "1. $\\neg q\\rightarrow \\neg p$, designada por *contra-recíproca* de $r$;\n",
    "1. $\\neg p\\rightarrow \\neg q$, designada por *inversa* de $r$.\n",
    "Observe-se que, embora a contra-recíproca seja equivalente à proposição original, o mesmo não acontece com a recíproca (e a inversa, que lhe é equivalente) o que se pode verificar através das respectivas tabelas de verdade.\n"
   ]
  },
  {
   "cell_type": "markdown",
   "metadata": {
    "id": "EM9mx5uOJpAU"
   },
   "source": [
    "**Exercício 14:**\n",
    "Determine:\n",
    "1. a contra-recíproca de $(\\neg p)\\rightarrow q$\n",
    "1. a inversa de $(\\neg q)\\rightarrow p$\n",
    "1. a recíproca da inversa de $q\\rightarrow (\\neg p)$\n",
    "1. a negação de $p\\rightarrow (\\neg q)$"
   ]
  },
  {
   "cell_type": "markdown",
   "metadata": {
    "id": "cnIFzR-lJpAU"
   },
   "source": [
    "## Voltando ao Python"
   ]
  },
  {
   "cell_type": "markdown",
   "metadata": {
    "id": "NAbUag-iJpAV"
   },
   "source": [
    "### Python: de volta às cláusulas if\n"
   ]
  },
  {
   "cell_type": "markdown",
   "metadata": {
    "id": "wdJ4bDtGJpAV"
   },
   "source": [
    "O mecanismo que mais temos usado para controlo de fluxo da execução são cláusulas if. Por exemplo:\n"
   ]
  },
  {
   "cell_type": "code",
   "execution_count": 18,
   "metadata": {
    "id": "EzXAR4GZJpAV",
    "outputId": "8768bf39-1cdf-435e-ce2f-410539a33c53"
   },
   "outputs": [
    {
     "name": "stdin",
     "output_type": "stream",
     "text": [
      "Escreva um inteiro:  11\n"
     ]
    }
   ],
   "source": [
    "x = int(input(\"Escreva um inteiro: \"))"
   ]
  },
  {
   "cell_type": "code",
   "execution_count": 19,
   "metadata": {
    "id": "2mxILM_ZJpAV",
    "outputId": "41be389e-1a05-473f-8bdb-b611586ad219"
   },
   "outputs": [
    {
     "name": "stdout",
     "output_type": "stream",
     "text": [
      "É num número grande!\n"
     ]
    }
   ],
   "source": [
    "if x < 0:\n",
    "    x = 0\n",
    "    print('É negativo... vou transforma-lo em zero!')\n",
    "elif x == 0:\n",
    "    print('É zero')\n",
    "elif x == 1:\n",
    "    print('É a unidade.')\n",
    "else:\n",
    "    print('É num número grande!')"
   ]
  },
  {
   "cell_type": "markdown",
   "metadata": {
    "id": "9c-WK9TBJpAV"
   },
   "source": [
    "Já vimos que podem existir um ou mais blocos elif, e o bloco else é opcional. O comando elif é uma abreviação para ``else if'', sendo útil para reduzir a quantidade de indentações. Uma sequência if ... elif ... elif ... é o substituto para os comandos switch ou case disponíveis noutras linguagens de programação.\n"
   ]
  },
  {
   "cell_type": "markdown",
   "metadata": {
    "id": "W5qLNzxBJpAV"
   },
   "source": [
    "### Python: de volta  ao comando for"
   ]
  },
  {
   "cell_type": "markdown",
   "metadata": {
    "id": "kFZu-x9rJpAV"
   },
   "source": [
    "Como vimos no Python o comando *for* permite iterar sobre objectos de qualquer sequência (uma lista ou uma string) ou um conjunto, nas sequências o ciclo *for* segue a ordem pela qual os objectos aparecem na sequência. Por examplo:"
   ]
  },
  {
   "cell_type": "code",
   "execution_count": 20,
   "metadata": {
    "id": "cJvSviU4JpAW",
    "outputId": "cd586b8f-7eb8-4b59-c68b-55f9fac1b6d3"
   },
   "outputs": [
    {
     "name": "stdout",
     "output_type": "stream",
     "text": [
      "Platão 6\n",
      "Sócrates 8\n",
      "Eu 2\n"
     ]
    }
   ],
   "source": [
    "# Medindo strings\n",
    "words = ['Platão', 'Sócrates', 'Eu']\n",
    "for w in words:\n",
    "    print(w, len(w))"
   ]
  },
  {
   "cell_type": "markdown",
   "metadata": {
    "id": "yHvW5zUfJpAW"
   },
   "source": [
    "Caso tenha de modificar a sequência durante o ciclo *for* (por exemplo para duplicar elementos seleccionados), é conveniente fazer primeiro uma cópia. A noção de slice torna isso possível:"
   ]
  },
  {
   "cell_type": "code",
   "execution_count": 21,
   "metadata": {
    "id": "DEMrngW2JpAW"
   },
   "outputs": [],
   "source": [
    "for w in words[:]:\n",
    "    if len(w) > 6:\n",
    "        words.insert(0, w)"
   ]
  },
  {
   "cell_type": "code",
   "execution_count": 22,
   "metadata": {
    "id": "sCjeutCIJpAW",
    "outputId": "f0731bdf-2531-4b9e-c2c9-ad7a3377044d"
   },
   "outputs": [
    {
     "data": {
      "text/plain": [
       "['Sócrates', 'Platão', 'Sócrates', 'Eu']"
      ]
     },
     "execution_count": 22,
     "metadata": {},
     "output_type": "execute_result"
    }
   ],
   "source": [
    "words"
   ]
  },
  {
   "cell_type": "markdown",
   "metadata": {
    "id": "K4yOQwh5JpAW"
   },
   "source": [
    "### Python: A função range()\n",
    "Quando temos de iterar numa sequência de números, a função built-in  *range*() trata do assunto. Permitindo gerar progressões aritméticas"
   ]
  },
  {
   "cell_type": "code",
   "execution_count": 23,
   "metadata": {
    "id": "0s6S4u1BJpAW"
   },
   "outputs": [],
   "source": [
    "L=range(10)"
   ]
  },
  {
   "cell_type": "code",
   "execution_count": 24,
   "metadata": {
    "id": "PIIFvGumJpAW",
    "outputId": "35d44ce9-3c6b-414e-e7fa-7fc63cc4aa4a"
   },
   "outputs": [
    {
     "name": "stdout",
     "output_type": "stream",
     "text": [
      "0  1  2  3  4  5  6  7  8  9  "
     ]
    }
   ],
   "source": [
    "for i in L: print(i,' ',end='')"
   ]
  },
  {
   "cell_type": "markdown",
   "metadata": {
    "id": "AohCCgm3JpAX"
   },
   "source": [
    "O ponto final nunca é parte da lista gerada; range(10) gera uma sequência de 10 valores, os índices de uma lista com 10 objectos. É possível fazer o domínio ter inicio noutro número, ou indicar um incremento diferente (mesmo negativo; este incremento é usualmente designado de 'passo'):"
   ]
  },
  {
   "cell_type": "code",
   "execution_count": 25,
   "metadata": {
    "id": "k8zKuXNmJpAX",
    "outputId": "039c1a5d-bc47-4f3d-ef41-1fb87ceacc29"
   },
   "outputs": [
    {
     "name": "stdout",
     "output_type": "stream",
     "text": [
      "5  6  7  8  9  "
     ]
    }
   ],
   "source": [
    "for i in range(5, 10): print(i,' ',end='')"
   ]
  },
  {
   "cell_type": "code",
   "execution_count": 26,
   "metadata": {
    "id": "AobXpU7vJpAX",
    "outputId": "00703d62-d393-4cd3-d0dd-47c790f01535"
   },
   "outputs": [
    {
     "name": "stdout",
     "output_type": "stream",
     "text": [
      "0  3  6  9  "
     ]
    }
   ],
   "source": [
    "for i in range(0, 10, 3): print(i,' ',end='')"
   ]
  },
  {
   "cell_type": "code",
   "execution_count": 27,
   "metadata": {
    "id": "on26P92_JpAX",
    "outputId": "c77066cb-2064-4969-c6f3-7601e145ee18"
   },
   "outputs": [
    {
     "name": "stdout",
     "output_type": "stream",
     "text": [
      "-10  -40  -70  "
     ]
    }
   ],
   "source": [
    "for i in range(-10, -100, -30): print(i,' ',end='')"
   ]
  },
  {
   "cell_type": "markdown",
   "metadata": {
    "id": "YDIlJoINJpAX"
   },
   "source": [
    "Para iterar nos índices de uma sequência, pode combinar *range*() com a função *len*() como por exemplo:"
   ]
  },
  {
   "cell_type": "code",
   "execution_count": 28,
   "metadata": {
    "id": "KxglOK-EJpAY",
    "outputId": "01114f02-9865-4099-8dc7-e5566f72c72d"
   },
   "outputs": [
    {
     "name": "stdout",
     "output_type": "stream",
     "text": [
      "0 Euler\n",
      "1 Decarte\n",
      "2 Pascal\n",
      "3 Newton\n",
      "4 Eu\n"
     ]
    }
   ],
   "source": [
    "a = ['Euler', 'Decarte', 'Pascal', 'Newton', 'Eu']\n",
    "for i in range(len(a)):\n",
    "    print( i, a[i])"
   ]
  },
  {
   "cell_type": "markdown",
   "metadata": {
    "id": "ClN3lKtJJpAY"
   },
   "source": [
    "Na maioria dos casos, é conveniente usar a função enumerate()."
   ]
  },
  {
   "cell_type": "markdown",
   "metadata": {
    "id": "OBNWmpMyJpAY"
   },
   "source": [
    "### Python:Comando break e continue, e cláusulas else nos ciclos"
   ]
  },
  {
   "cell_type": "markdown",
   "metadata": {
    "id": "qQR0UH2fJpAY"
   },
   "source": [
    "O comando *break*, permite encurtar os ciclos *for* ou *while*.\n",
    "\n",
    "Os ciclos podem ter uma cláusula *else*; que é executado após ter percorrido todo o domínio do ciclo *for* ou quando a condição dum ciclo  *while* se torna falsa, mas nunca quando o ciclo é interrompido com um comando *break*. Exemplificamos isto no ciclo seguinte, que tem por objectivo determinar números primos (recorde quando é um número natural primo):"
   ]
  },
  {
   "cell_type": "code",
   "execution_count": 29,
   "metadata": {
    "id": "f4RXiARNJpAY",
    "outputId": "08616e2f-53f2-42f6-c00f-d448f9fd6460"
   },
   "outputs": [
    {
     "name": "stdout",
     "output_type": "stream",
     "text": [
      "3  é um primo\n",
      "4 = 2 * 2 => 4 não é primo\n",
      "5  é um primo\n",
      "5  é um primo\n",
      "5  é um primo\n",
      "6 = 2 * 3 => 6 não é primo\n",
      "7  é um primo\n",
      "7  é um primo\n",
      "7  é um primo\n",
      "7  é um primo\n",
      "7  é um primo\n",
      "8 = 2 * 4 => 8 não é primo\n",
      "9  é um primo\n",
      "9 = 3 * 3 => 9 não é primo\n"
     ]
    }
   ],
   "source": [
    "#\n",
    "# O crivo de Eratóstenes\n",
    "#\n",
    "for n in range(2, 10):\n",
    "    for m in range(2, n):\n",
    "        if n % m == 0:\n",
    "            print(n, '=', m, '*', n//m, \"=>\",n,'não é primo')\n",
    "            break\n",
    "        else:\n",
    "            print(n,' é um primo')"
   ]
  },
  {
   "cell_type": "markdown",
   "metadata": {
    "id": "VlA0hg5NJpAZ"
   },
   "source": [
    "O que faz a operador binário %?"
   ]
  },
  {
   "cell_type": "code",
   "execution_count": null,
   "metadata": {
    "collapsed": true,
    "id": "nqa1pkPnJpAZ",
    "jupyter": {
     "outputs_hidden": true
    }
   },
   "outputs": [],
   "source": []
  },
  {
   "cell_type": "markdown",
   "metadata": {
    "id": "uu5PNnEVJpAZ"
   },
   "source": [
    "O que faz a operador binário //? Onde está a diferênça entre / e //"
   ]
  },
  {
   "cell_type": "code",
   "execution_count": null,
   "metadata": {
    "collapsed": true,
    "id": "t77bfHcqJpAZ",
    "jupyter": {
     "outputs_hidden": true
    }
   },
   "outputs": [],
   "source": []
  },
  {
   "cell_type": "markdown",
   "metadata": {
    "id": "260drj-OJpAZ"
   },
   "source": [
    "O comando *continue* pára a iteração corrente, saltando para a iteração seguinte do *loop*:"
   ]
  },
  {
   "cell_type": "code",
   "execution_count": 30,
   "metadata": {
    "id": "eOpGBhcVJpAZ",
    "outputId": "63eca677-0817-457e-e5ba-332553e2b667"
   },
   "outputs": [
    {
     "name": "stdout",
     "output_type": "stream",
     "text": [
      "É par o número  2\n",
      "O número  3 é ímpar\n",
      "É par o número  4\n",
      "O número  5 é ímpar\n",
      "É par o número  6\n",
      "O número  7 é ímpar\n",
      "É par o número  8\n",
      "O número  9 é ímpar\n"
     ]
    }
   ],
   "source": [
    "for num in range(2, 10):\n",
    "    if num % 2 == 0:\n",
    "        print(\"É par o número \", num)\n",
    "        continue\n",
    "    print(\"O número \", num, \"é ímpar\")"
   ]
  },
  {
   "cell_type": "markdown",
   "metadata": {
    "id": "KunSWta1JpAZ"
   },
   "source": [
    "## Exercícios de python"
   ]
  },
  {
   "cell_type": "markdown",
   "metadata": {
    "id": "jOKZO8BjJpAZ"
   },
   "source": [
    "**Exercício 15:**\n",
    "\n",
    "Implemente os operadores de implicação e bi-implicação, através de funções\n",
    "\n",
    "    imp(bool,bool)->bool e biimp(bool,bool)->bool.\n"
   ]
  },
  {
   "cell_type": "code",
   "execution_count": 31,
   "metadata": {
    "id": "rH3aXIaMJpAa"
   },
   "outputs": [],
   "source": [
    "def imp(p,q):\n",
    "    u''' imp(bool,bool)->bool\n",
    "         Operador de implicação '''\n",
    "    return not p or q"
   ]
  },
  {
   "cell_type": "code",
   "execution_count": 32,
   "metadata": {
    "id": "C_3TJyP9JpAa"
   },
   "outputs": [],
   "source": [
    "def biimp(p,q):\n",
    "    u''' biimp(bool,bool)->bool\n",
    "         Operador de bi-implicação'''\n",
    "    return imp(p,q) and imp(q,p)"
   ]
  },
  {
   "cell_type": "code",
   "execution_count": 33,
   "metadata": {
    "id": "t1ofiabDJpAa",
    "outputId": "07612bbd-5a6b-4ea5-c42f-73d7c9f34b0a"
   },
   "outputs": [
    {
     "data": {
      "text/plain": [
       "True"
      ]
     },
     "execution_count": 33,
     "metadata": {},
     "output_type": "execute_result"
    }
   ],
   "source": [
    "imp(False,True)"
   ]
  },
  {
   "cell_type": "code",
   "execution_count": 34,
   "metadata": {
    "id": "NL3gcazPJpAa",
    "outputId": "e7ea41c7-6915-4f93-cd87-e9265ca8e6a7"
   },
   "outputs": [
    {
     "data": {
      "text/plain": [
       "False"
      ]
     },
     "execution_count": 34,
     "metadata": {},
     "output_type": "execute_result"
    }
   ],
   "source": [
    "biimp(False,True)"
   ]
  },
  {
   "cell_type": "markdown",
   "metadata": {
    "id": "mcYb6GU9JpAa"
   },
   "source": [
    "**Exercício 16:**\n",
    "Apresente as tabelas de verdade  da implicação da bi-implicação e da proposição $P4:(p\\rightarrow q)\\vee h$. Por exemplo, tal que\n",
    "\n",
    "      >>> TabelaP4()\n",
    "      -----------------------------\n",
    "        p  |  q  |  h  | (p->q)|h\n",
    "      -----------------------------\n",
    "      False|False|False|   True\n",
    "      False|False| True|   True\n",
    "      False| True|False|   True\n",
    "      False| True| True|   True\n",
    "       True|False|False|  False\n",
    "       True|False| True|   True\n",
    "       True| True|False|   True\n",
    "       True| True| True|   True"
   ]
  },
  {
   "cell_type": "code",
   "execution_count": 35,
   "metadata": {
    "id": "R7doPEGlJpAa"
   },
   "outputs": [],
   "source": [
    "def TabelaP4():\n",
    "    u''' TabelaP4()->\n",
    "\n",
    "       tabela de (p->q)|h'''\n",
    "    print('p'.center(5)+'|'+'q'.center(5)+'|'+'h'.center(5)+'| (p->q)|h')\n",
    "    print('-'*27)\n",
    "    for p in [False,True]:\n",
    "        for q in [False,True]:\n",
    "            for h in [False,True]:\n",
    "                aval = imp(p,q) or h\n",
    "                print(str(p).center(5)+'|'+str(q).center(5)+'|'+str(h).center(5)+'|'+str(aval).center(10))"
   ]
  },
  {
   "cell_type": "code",
   "execution_count": 36,
   "metadata": {
    "id": "tUkOp9lbJpAa",
    "outputId": "b7dcc5e2-e29a-4367-d4ef-4342013f60fe"
   },
   "outputs": [
    {
     "name": "stdout",
     "output_type": "stream",
     "text": [
      "  p  |  q  |  h  | (p->q)|h\n",
      "---------------------------\n",
      "False|False|False|   True   \n",
      "False|False| True|   True   \n",
      "False| True|False|   True   \n",
      "False| True| True|   True   \n",
      " True|False|False|  False   \n",
      " True|False| True|   True   \n",
      " True| True|False|   True   \n",
      " True| True| True|   True   \n"
     ]
    }
   ],
   "source": [
    "TabelaP4()"
   ]
  },
  {
   "cell_type": "markdown",
   "metadata": {
    "id": "3lLschUkJpAb"
   },
   "source": [
    "**Exercício 17:**\n",
    "Defina a função\n",
    "     cab(list)->\n",
    "em que dado uma lista de strings ['p1','p2','p3',...,'pn'], imprima o cabeçalho duma tabela de verdade. Por exemplo, tal que\n",
    "    >>> cab(['p1','p2','imp(p1,p2)'])\n",
    "    -------------------------\n",
    "     p1  | p2  |  imp(p1,p2)\n",
    "    -------------------------\n"
   ]
  },
  {
   "cell_type": "code",
   "execution_count": 37,
   "metadata": {
    "id": "2qLi7MLaJpAb"
   },
   "outputs": [],
   "source": [
    "def cab(lista):\n",
    "    u''' cab(list)->\n",
    "\n",
    "         Imprime cabeçalho de tabela'''\n",
    "    print('-'*5*(len(lista)+1))\n",
    "    for prop in lista[:-1]:\n",
    "        print(prop.center(5)+'|', end='')\n",
    "    print(lista[-1])  # imprime último elemento\n",
    "    print('-'*5*(len(lista)+1))"
   ]
  },
  {
   "cell_type": "code",
   "execution_count": 38,
   "metadata": {
    "id": "GOzA2HQGJpAb",
    "outputId": "bf272262-e82e-4802-e57d-b7d393f558f0"
   },
   "outputs": [
    {
     "name": "stdout",
     "output_type": "stream",
     "text": [
      "--------------------\n",
      "  p1 |  p2 |imp(p1,p2)\n",
      "--------------------\n"
     ]
    }
   ],
   "source": [
    "cab(['p1','p2','imp(p1,p2)'])"
   ]
  },
  {
   "cell_type": "markdown",
   "metadata": {
    "id": "vhw9spNyJpAb"
   },
   "source": [
    "**Exercício 18:**\n",
    "Defina a função\n",
    "    linha(list)->\n",
    "em que dada uma lista de valores lógicos ['p1','p2','p3',...,'pn'], imprima uma linha 'p1|p2|p3|...|pn' duma tabela de verdade, onde cada valor lógico está numa string com 5 posições. Por exemplo, tal que\n",
    "      >>> linha([True,False,True])\n",
    "       True|False| True"
   ]
  },
  {
   "cell_type": "code",
   "execution_count": 39,
   "metadata": {
    "id": "6PNCeD3qJpAb"
   },
   "outputs": [],
   "source": [
    "def linha(lista):\n",
    "    u''' linha(list)->\n",
    "\n",
    "         Imprime linha de tabela'''\n",
    "    for prop in lista[:-1]:\n",
    "        print(str(prop).center(5)+'|', end='')\n",
    "    print(str(lista[-1]))  # imprime último elemento"
   ]
  },
  {
   "cell_type": "code",
   "execution_count": 40,
   "metadata": {
    "id": "BvB5UwnTJpAb",
    "outputId": "15f08ad7-7409-4678-bf5f-20419c0d86e7"
   },
   "outputs": [
    {
     "name": "stdout",
     "output_type": "stream",
     "text": [
      " True|False|True\n"
     ]
    }
   ],
   "source": [
    "linha([True,False,True])"
   ]
  },
  {
   "cell_type": "markdown",
   "metadata": {
    "id": "oAi-DRdNJpAc"
   },
   "source": [
    "**Exercício 19:**\n",
    "Defina uma função trad(string)->string que faça a tradução duma expressão proposicional codificada, usando os símbolos 0,1,\\&,$|$ e $\\sim$, numa expressão proposicional no Python usando False, True, and, or e not. Por exemplo, tal que\n",
    "      >>>  trad('(p&~(q|w))')\n",
    "      '(p and  not (q or w))'"
   ]
  },
  {
   "cell_type": "code",
   "execution_count": 41,
   "metadata": {
    "id": "Km32Or8mJpAc"
   },
   "outputs": [],
   "source": [
    "def trad(exp):\n",
    "    u''' trans(str)->str\n",
    "\n",
    "         Tradução duma expressão proposicional codificada,\n",
    "         usando os símbolos 0,1,\\&,$|$ e $\\sim$, numa expressão\n",
    "         proposicional no Python usando False, True, and, or e not.\n",
    "         '''\n",
    "    exp = exp.replace('0','False')\n",
    "    exp = exp.replace('1','True')\n",
    "    exp = exp.replace('&',' and ')\n",
    "    exp = exp.replace('|',' or ')\n",
    "    exp = exp.replace('~',' not ')\n",
    "    return exp"
   ]
  },
  {
   "cell_type": "code",
   "execution_count": 42,
   "metadata": {
    "id": "LKJDk7Q8JpAc",
    "outputId": "cead248f-ced8-4972-fcfc-d1409fb00ff4"
   },
   "outputs": [
    {
     "data": {
      "text/plain": [
       "'(p and  not (q or w))'"
      ]
     },
     "execution_count": 42,
     "metadata": {},
     "output_type": "execute_result"
    }
   ],
   "source": [
    "trad('(p&~(q|w))')"
   ]
  },
  {
   "cell_type": "markdown",
   "metadata": {
    "id": "OvTdK7gLJpAc"
   },
   "source": [
    "**Exercício 20:**\n",
    "Defina a função\n",
    "\n",
    "       Eval(string,list)->bool\n",
    "       \n",
    "que avalia a expressão proposicional, na sintaxe do Python, associando a cada variável usada <var> o valor lógico <bool>. A associação entre variáveis e valores lógicos deve ser descrita por pares (<var>,<bool>) na lista que serve de argumento.\n",
    "\n",
    "    Eval('(p1 and  not (p2 or p3))',[('p1',True),('p2',False),('p3',True)])} avalia '(True and  not (False or True))'.\n",
    "\n",
    "Por exemplo, tal que\n",
    "\n",
    "    >>>  Eval('not(p1 and p2) or p1',[('p1',True),('p2',False)])\n",
    "    True"
   ]
  },
  {
   "cell_type": "code",
   "execution_count": 43,
   "metadata": {
    "id": "Pp6LlZH7JpAc"
   },
   "outputs": [],
   "source": [
    "def Eval(exp, atrib):\n",
    "    u''' Eval(string,list)->bool\n",
    "\n",
    "         Avalia a expressão proposicional, na sintaxe do Python,\n",
    "         associando a cada variável usada <var> o valor lógico <bool>.\n",
    "         A associação entre variáveis e valores lógicos deve ser descrita\n",
    "         por pares (<var>,<bool>) na lista que serve de argumento.\n",
    "             '''\n",
    "    for var in atrib:\n",
    "        exp = exp.replace(var[0],str(var[1]))\n",
    "    return eval(exp)"
   ]
  },
  {
   "cell_type": "code",
   "execution_count": 44,
   "metadata": {
    "id": "TXRxdTUKJpAc",
    "outputId": "73cfe039-01f2-4fcf-e20d-f8c76203635e"
   },
   "outputs": [
    {
     "data": {
      "text/plain": [
       "True"
      ]
     },
     "execution_count": 44,
     "metadata": {},
     "output_type": "execute_result"
    }
   ],
   "source": [
    "Eval('not(p1 and p2) or p1',[('p1',True),('p2',False)])"
   ]
  },
  {
   "cell_type": "markdown",
   "metadata": {
    "id": "SHDnk4xVJpAc"
   },
   "source": [
    "**Exercício 21:**\n",
    "Represente em representação binário os números de $2^n-1$ até zero. Exemplo:\n",
    "\n",
    "    >>> binlist(3)\n",
    "    111\n",
    "    110\n",
    "    101\n",
    "    100\n",
    "    011\n",
    "    010\n",
    "    001\n",
    "    000"
   ]
  },
  {
   "cell_type": "code",
   "execution_count": 45,
   "metadata": {
    "id": "rJ9W0G1JJpAd"
   },
   "outputs": [],
   "source": [
    "def binlist(nvar):\n",
    "    u''' binlist(int)->\n",
    "\n",
    "         lista em representação binária os números de 2**n-1 até 0\n",
    "             '''\n",
    "    for n in range(2**nvar-1,-1,-1):\n",
    "        print(bin(n)[2:].rjust(nvar,'0'))"
   ]
  },
  {
   "cell_type": "code",
   "execution_count": 46,
   "metadata": {
    "id": "GP4EHJMyJpAd",
    "outputId": "65bfbf5b-017a-47bb-8af9-99840d65bc73"
   },
   "outputs": [
    {
     "name": "stdout",
     "output_type": "stream",
     "text": [
      "111\n",
      "110\n",
      "101\n",
      "100\n",
      "011\n",
      "010\n",
      "001\n",
      "000\n"
     ]
    }
   ],
   "source": [
    "binlist(3)"
   ]
  },
  {
   "cell_type": "markdown",
   "metadata": {
    "id": "alfdHGPnJpAd"
   },
   "source": [
    "**Exercício 22:**\n",
    "Usando as funções anteriores, defina uma função\n",
    "     tabela(string, list)->\n",
    "que imprima a tabela de verdade da proposição $q$, descrita pela string, assumindo que as suas variáveis estão na lista $[p1,p2,...,pn]$. (USANDO: a linguagem proposicional de símbolos 0,1,\\&,$|$ e $\\sim$, mais as funções imp(bool,bool)->bool e biimp(bool,bool)->bool))\n",
    "    Por exemplo, tal que\n",
    "\n",
    "      >>> tabela('imp(u,q)|w',['u','q','w'])\n",
    "        -------------------------\n",
    "          u  |  q  |  w  |imp(u,q)|w\n",
    "        -------------------------\n",
    "         True| True| True|True\n",
    "         True| True|False|True\n",
    "         True|False| True|True\n",
    "         True|False|False|False\n",
    "        False| True| True|True\n",
    "        False| True|False|True\n",
    "        False|False| True|True\n",
    "        False|False|False|True\n",
    "\n"
   ]
  },
  {
   "cell_type": "code",
   "execution_count": 47,
   "metadata": {
    "id": "V4vI6wzgJpAd"
   },
   "outputs": [],
   "source": [
    "def tabela(exp,var):\n",
    "    u''' tabela(str,list)->\n",
    "\n",
    "         Imprime a tabela de verdade da proposição descrita pela string,\n",
    "         assumindo que as suas variáveis estão na lista.\n",
    "         USANDO: a linguagem proposicional de símbolos 0,1,\\&,$|$ e $\\sim$,\n",
    "                 mais as funções imp(bool,bool)->bool e biimp(bool,bool)->bool)\n",
    "             '''\n",
    "    cab(var+[exp])\n",
    "    nvar = len(var)\n",
    "    for n in range(2**nvar-1,-1,-1):\n",
    "        l=bin(n)[2:].rjust(nvar,'0')\n",
    "        cont=0\n",
    "        lista = []\n",
    "        vlog = []\n",
    "        for v in var:\n",
    "            lista.append((v,bool(int(l[cont]))))\n",
    "            vlog.append(bool(int(l[cont])))\n",
    "            cont = cont + 1\n",
    "        linha(vlog+ [Eval(trad(exp),lista)])"
   ]
  },
  {
   "cell_type": "code",
   "execution_count": 48,
   "metadata": {
    "id": "GyRdlT2AJpAd",
    "outputId": "ad41839d-8386-4eaf-e126-2e7db0411fda"
   },
   "outputs": [
    {
     "name": "stdout",
     "output_type": "stream",
     "text": [
      "-------------------------\n",
      "  u  |  q  |  w  |imp(u,q)|w\n",
      "-------------------------\n",
      " True| True| True|True\n",
      " True| True|False|True\n",
      " True|False| True|True\n",
      " True|False|False|False\n",
      "False| True| True|True\n",
      "False| True|False|True\n",
      "False|False| True|True\n",
      "False|False|False|True\n"
     ]
    }
   ],
   "source": [
    "tabela('imp(u,q)|w',['u','q','w'])"
   ]
  },
  {
   "cell_type": "markdown",
   "metadata": {
    "id": "zICYNRk_JpAd"
   },
   "source": [
    "**Exercício 23:**\n",
    "Usando as funções anteriores, defina uma função\n",
    "\n",
    "    tautologia(string, list)->bool\n",
    "\n",
    "que verifica se a proposição $q$, descrita pela string, é uma tautologia e assumindo que as suas variáveis estão descritas na lista $[p1,p2,...p_n]$. (USANDO: a linguagem proposicional de símbolos 0,1,\\&,$|$ e $\\sim$, mais as funções imp(bool,bool)->bool e biimp(bool,bool)->bool)\n",
    "\n",
    "      >>>  tautologia('biimp(~q | w, imp(q,w))',['q','w'])\n",
    "      False\n"
   ]
  },
  {
   "cell_type": "code",
   "execution_count": 49,
   "metadata": {
    "id": "xdnY-4zrJpAd"
   },
   "outputs": [],
   "source": [
    "def tautologia(exp,var):\n",
    "    u''' tautologia(str,list)->bool\n",
    "\n",
    "         Verifica se a proposição descrita pela string é uma tautologia,\n",
    "         assumindo que as suas variáveis estão descritas na lista.\n",
    "         USANDO: a linguagem proposicional de símbolos 0,1,\\&,$|$ e $\\sim$,\n",
    "         mais as funções imp(bool,bool)->bool e biimp(bool,bool)->bool\n",
    "             '''\n",
    "    sai = True\n",
    "    nvar = len(var)\n",
    "    for n in range(2**nvar-1,-1,-1):\n",
    "        l=str(bin(n))[2:].rjust(nvar,'0')\n",
    "        cont=0\n",
    "        lista = []\n",
    "        for v in var:\n",
    "            lista.append((v,bool(int(l[cont]))))\n",
    "            cont = cont + 1\n",
    "        sai = sai and bool(Eval(exp,lista))\n",
    "    return sai"
   ]
  },
  {
   "cell_type": "code",
   "execution_count": 50,
   "metadata": {
    "id": "VaMy3aalJpAe",
    "outputId": "260c7ede-9f6c-44d1-ffbe-c2c436ccb31d"
   },
   "outputs": [
    {
     "data": {
      "text/plain": [
       "False"
      ]
     },
     "execution_count": 50,
     "metadata": {},
     "output_type": "execute_result"
    }
   ],
   "source": [
    "tautologia('biimp(~q | w, imp(q,w))',['q','w'])"
   ]
  },
  {
   "cell_type": "markdown",
   "metadata": {
    "collapsed": true,
    "id": "yO2gp6o_JpAe",
    "jupyter": {
     "outputs_hidden": true
    }
   },
   "source": [
    "## Referências:\n",
    "\n",
    "1. **\"Introduction to Logic: Propositional Logic\"**\n",
    "   - **Autores:** Howard Pospesel\n",
    "   - **Descrição:** Este livro clássico introduz a lógica proposicional contemporânea, explicando a simbolização de sentenças em inglês e desenvolvendo técnicas de prova formal, tabelas de verdade e árvores de verdade para avaliar argumentos.\n",
    "   - **Tópicos-chave:** Simbolização, provas formais, tabelas de verdade, árvores de verdade.\n",
    "\n",
    "2. **\"Propositional and Predicate Calculus: A Model of Argument\"**\n",
    "   - **Autor:** Derek Goldrei\n",
    "   - **Descrição:** Projetado tanto para autoestudo quanto para cursos, este livro cobre a representação de declarações matemáticas por fórmulas em uma linguagem formal, interpretação de fórmulas como verdadeiras ou falsas em uma estrutura matemática e consequência lógica de uma fórmula a partir de outras. Inclui exercícios com soluções completas. \n",
    "   - **Tópicos-chave:** Lógica proposicional, lógica de predicados, provas formais, interpretação semântica.\n",
    "\n",
    "3. **\"Logic in Computer Science: Modelling and Reasoning about Systems\"**\n",
    "   - **Autores:** Michael Huth e Mark Ryan\n",
    "   - **Descrição:** Este livro oferece uma introdução à lógica proposicional e sua aplicação na ciência da computação. Embora cubra outros tópicos, fornece uma base sólida em lógica proposicional e é adequado para estudantes de ciência da computação. citeturn0search4\n",
    "   - **Tópicos-chave:** Lógica proposicional, modelagem de sistemas, raciocínio lógico, aplicações em ciência da computação.\n",
    "\n",
    "4. **\"An Introduction to Formal Logic\"**\n",
    "   - **Autor:** Peter Smith\n",
    "   - **Descrição:** Este livro fornece uma introdução acessível à lógica formal, cobrindo tanto a lógica proposicional quanto a lógica de predicados. É adequado para iniciantes e inclui numerosos exemplos e exercícios para reforçar a compreensão. \n",
    "   - **Tópicos-chave:** Lógica proposicional, lógica de predicados, técnicas de prova, aplicações da lógica.\n",
    "\n",
    "5. **\"Logic and Structure\"**\n",
    "   - **Autor:** Dirk van Dalen\n",
    "   - **Descrição:** Este livro oferece uma introdução abrangente à lógica matemática, incluindo capítulos sobre lógica proposicional, lógica de primeira ordem e lógica de segunda ordem. É conhecido por sua clareza e profundidade, sendo adequado para estudantes que desejam uma compreensão mais profunda dos fundamentos da lógica. \n",
    "   - **Tópicos-chave:** Lógica proposicional, lógica de primeira ordem, lógica de segunda ordem, fundamentos da lógica matemática."
   ]
  },
  {
   "cell_type": "code",
   "execution_count": null,
   "metadata": {},
   "outputs": [],
   "source": []
  }
 ],
 "metadata": {
  "colab": {
   "provenance": []
  },
  "kernelspec": {
   "display_name": "Python 3 (ipykernel)",
   "language": "python",
   "name": "python3"
  },
  "language_info": {
   "codemirror_mode": {
    "name": "ipython",
    "version": 3
   },
   "file_extension": ".py",
   "mimetype": "text/x-python",
   "name": "python",
   "nbconvert_exporter": "python",
   "pygments_lexer": "ipython3",
   "version": "3.10.12"
  }
 },
 "nbformat": 4,
 "nbformat_minor": 4
}
