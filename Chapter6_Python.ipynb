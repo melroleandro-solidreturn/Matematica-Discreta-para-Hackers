{
 "cells": [
  {
   "cell_type": "markdown",
   "metadata": {
    "id": "O-DuR0SF9MQE"
   },
   "source": [
    "# Python\n",
    "\n",
    "\n",
    "Este capítulo aprofunda técnicas essenciais de Python para resolver problemas matemáticos complexos. Dominar estruturas de controle, funções avançadas e paradigmas de programação ampliará sua capacidade de traduzir conceitos abstratos em código eficiente."
   ]
  },
  {
   "cell_type": "markdown",
   "metadata": {
    "id": "vIGveN5I4qde"
   },
   "source": [
    "## Python: de volta às cláusulas if"
   ]
  },
  {
   "cell_type": "markdown",
   "metadata": {
    "id": "ius54mAJ4zUz"
   },
   "source": [
    "As cláusulas if são a espinha dorsal do controle de fluxo em Python, permitindo decisões lógicas baseadas em condições. Embora simples à primeira vista, seu uso estratégico requer atenção a detalhes como ordem das condições, aninhamento e legibilidade."
   ]
  },
  {
   "cell_type": "markdown",
   "metadata": {
    "id": "KnKAAhJN4qdf"
   },
   "source": [
    "O mecanismo que mais temos usado para controlo de fluxo da execução são cláusulas *if*. Por exemplo:"
   ]
  },
  {
   "cell_type": "code",
   "execution_count": 61,
   "metadata": {
    "colab": {
     "base_uri": "https://localhost:8080/",
     "height": 287
    },
    "executionInfo": {
     "elapsed": 78564,
     "status": "error",
     "timestamp": 1743224985314,
     "user": {
      "displayName": "Carlos Leandro",
      "userId": "02142946371031398041"
     },
     "user_tz": 0
    },
    "id": "B_Qn8p9k4qdg",
    "outputId": "97afba29-4072-4235-adc2-637fe49c7f75"
   },
   "outputs": [],
   "source": [
    "#x = int(input(\"Escreva um inteiro: \"))\n",
    "x=11"
   ]
  },
  {
   "cell_type": "code",
   "execution_count": 62,
   "metadata": {
    "id": "z6tCWQsz4qdg"
   },
   "outputs": [
    {
     "name": "stdout",
     "output_type": "stream",
     "text": [
      "More\n"
     ]
    }
   ],
   "source": [
    "if x < 0:\n",
    "...      x = 0\n",
    "...      print('Negative changed to zero')\n",
    "... elif x == 0:\n",
    "...      print('Zero')\n",
    "... elif x == 1:\n",
    "...      print('Single')\n",
    "... else:\n",
    "...      print('More')\n",
    "..."
   ]
  },
  {
   "cell_type": "markdown",
   "metadata": {
    "id": "xMsi1avZ4qdg"
   },
   "source": [
    "Já vimos que podem existir um ou mais blocos *elif*, e o bloco else é opcional.\n",
    "O comando *elif* é uma abreviação para ``*else if*'', sendo útil para reduzir a quantidade de indentações. Uma sequência *if ... elif ... elif ...* é o substituto para os comandos *switch* ou *case* disponíveis noutras linguagens de programação."
   ]
  },
  {
   "cell_type": "markdown",
   "metadata": {
    "id": "UXZWDDsd5pbe"
   },
   "source": [
    "** Este exemplo ilustra: ** \n",
    "1. **Condição Primária**: `if x < 0` é avaliada primeiro.  \n",
    "2. **Condições Secundárias**: `elif` (abreviação de *else if*) testa casos específicos sequencialmente.  \n",
    "3. **Caso Padrão**: O bloco `else` cobre todas as situações não previstas.  \n",
    "\n",
    "**Nuances Importantes**  \n",
    "1. **Ordem das Condições**:  \n",
    "   A ordem dos blocos `elif` é crítica. Se uma condição genérica vier antes de uma específica, esta última nunca será alcançada:  \n",
    "   ```python\n",
    "   # ERRADO: x == 1 nunca será verificado\n",
    "   if x < 10:\n",
    "       print(\"Menor que 10\")\n",
    "   elif x == 1:\n",
    "       print(\"Um\")\n",
    "   ```  \n",
    "\n",
    "2. **Aninhamento de `if`**:  \n",
    "   Estruturas complexas podem exigir `if` dentro de `if`:  \n",
    "   ```python\n",
    "   if x >= 0:\n",
    "       if x == 0:\n",
    "           print(\"Zero\")\n",
    "       else:\n",
    "           print(\"Positivo\")\n",
    "   else:\n",
    "       print(\"Negativo\")\n",
    "   ```  \n",
    "\n",
    "3. **Operadores Booleanos**:  \n",
    "   Combine condições com `and`, `or`, e `not` para evitar aninhamento excessivo:  \n",
    "   ```python\n",
    "   if (x % 2 == 0) and (x > 10):\n",
    "       print(\"Par e maior que 10\")\n",
    "   ```  \n",
    "\n",
    "**Alternativa ao `switch`: Padrão `match-case` (Python 3.10+)**  \n",
    "Python introduziu o `match-case` para simplificar cadeias longas de `elif`:  \n",
    "```python\n",
    "match x:\n",
    "    case 0:\n",
    "        print(\"Zero\")\n",
    "    case 1:\n",
    "        print(\"Single\")\n",
    "    case _ if x < 0:\n",
    "        print(\"Negativo\")\n",
    "    case _:\n",
    "        print(\"Outro valor\")\n",
    "```  \n",
    "\n",
    "**Boas Práticas**  \n",
    "- **Legibilidade**: Evite condições excessivamente longas. Use variáveis intermediárias:  \n",
    "  ```python\n",
    "  é_par = x % 2 == 0\n",
    "  é_positivo = x > 0\n",
    "  if é_par and é_positivo:\n",
    "      print(\"Par positivo\")\n",
    "  ```  \n",
    "- **Evite Redundância**: Não repita condições já validadas.  \n",
    "- **Pense Matematicamente**: Use condições para modelar propriedades discretas (ex: primalidade, paridade).  \n"
   ]
  },
  {
   "cell_type": "markdown",
   "metadata": {
    "id": "p105H_ht6CnV"
   },
   "source": [
    "**Exercício 1:**  \n",
    "Implemente uma função `classificar_numero(n)` que retorne:  \n",
    "- \"Negativo\" se `n < 0`,  \n",
    "- \"Zero\" se `n == 0`,  \n",
    "- \"Potência de 2\" se `n` for potência de 2 (dica: use `n & (n-1) == 0`),  \n",
    "- \"Par\" se `n` for par e maior que 0,  \n",
    "- \"Ímpar\" caso contrário.  "
   ]
  },
  {
   "cell_type": "markdown",
   "metadata": {
    "id": "zx3wi-VO9MQJ"
   },
   "source": [
    "## Python: De Volta ao Comando `for`"
   ]
  },
  {
   "cell_type": "markdown",
   "metadata": {
    "id": "xOWtsYfv9MQJ"
   },
   "source": [
    "Como vimos no Python o comando *for* permite iterar sobre objectos de qualquer sequência (uma lista ou uma string) ou um conjunto, nas sequências o ciclo *for* segue a ordem pela qual os objectos aparecem na sequência. Por examplo:"
   ]
  },
  {
   "cell_type": "markdown",
   "metadata": {
    "id": "bz5nqdPn8QEY"
   },
   "source": [
    "### Iteração Básica e Modificação Segura de Sequências "
   ]
  },
  {
   "cell_type": "code",
   "execution_count": 65,
   "metadata": {
    "id": "G7FCh_S09MQJ"
   },
   "outputs": [
    {
     "name": "stdout",
     "output_type": "stream",
     "text": [
      "Platão 6\n",
      "Sócrates 8\n",
      "Eu 2\n"
     ]
    }
   ],
   "source": [
    "# Medindo strings\n",
    "words = ['Platão', 'Sócrates', 'Eu']\n",
    "for w in words:\n",
    "    print(w, len(w))"
   ]
  },
  {
   "cell_type": "markdown",
   "metadata": {
    "id": "pKdlSQGb65zS"
   },
   "source": []
  },
  {
   "cell_type": "markdown",
   "metadata": {
    "id": "oCTpFbcL9MQK"
   },
   "source": [
    "\n",
    "**Modificando Sequências Durante Iteração**:  \n",
    "\n",
    "Modificar a lista original durante o loop pode levar a comportamentos inesperados (como loops infinitos). Use uma cópia via slice `[:]`:  "
   ]
  },
  {
   "cell_type": "code",
   "execution_count": 66,
   "metadata": {
    "id": "kxkoYA-V9MQK"
   },
   "outputs": [],
   "source": [
    "for w in words[:]:\n",
    "    if len(w) > 6:\n",
    "        words.insert(0, w)"
   ]
  },
  {
   "cell_type": "code",
   "execution_count": 67,
   "metadata": {
    "id": "6GbArMCZ9MQL"
   },
   "outputs": [
    {
     "data": {
      "text/plain": [
       "['Sócrates', 'Platão', 'Sócrates', 'Eu']"
      ]
     },
     "execution_count": 67,
     "metadata": {},
     "output_type": "execute_result"
    }
   ],
   "source": [
    "words"
   ]
  },
  {
   "cell_type": "markdown",
   "metadata": {
    "id": "P_TS48IV7Nm7"
   },
   "source": [
    "**Por Que Usar uma Cópia?**  \n",
    "Sem a cópia, o loop iteraria sobre a lista em expansão, processando o novo elemento `'Sócrates'` repetidamente."
   ]
  },
  {
   "cell_type": "markdown",
   "metadata": {
    "id": "RAh0gxP_7RWx"
   },
   "source": [
    "### Iteração com `range()`: Controle Numérico  \n",
    "Gera sequências numéricas para iteração indexada:  \n",
    "```python\n",
    "# Soma dos quadrados de 0 a 4\n",
    "soma = 0\n",
    "for i in range(5):\n",
    "    soma += i ** 2\n",
    "print(soma)  # Resultado: 30\n",
    "```\n",
    "\n",
    "**Combinação com `len()` para Acesso Indexado**:  \n",
    "```python\n",
    "for i in range(len(words)):\n",
    "    print(f\"Posição {i}: {words[i]}\")\n",
    "```\n"
   ]
  },
  {
   "cell_type": "markdown",
   "metadata": {
    "id": "e4E3bFXc7V25"
   },
   "source": [
    "### Iteração Avançada: `enumerate()` e `zip()`\n",
    "**`enumerate()`** – Acesse índices e valores simultaneamente:  \n",
    "```python\n",
    "for índice, valor in enumerate(words):\n",
    "    print(f\"{índice}: {valor}\")\n",
    "```\n",
    "\n",
    "**`zip()`** – Iterar sobre múltiplas sequências em paralelo:  \n",
    "```python\n",
    "nomes = ['Alice', 'Bob', 'Carlos']\n",
    "idades = [25, 32, 19]\n",
    "for nome, idade in zip(nomes, idades):\n",
    "    print(f\"{nome} tem {idade} anos\")\n",
    "```\n"
   ]
  },
  {
   "cell_type": "markdown",
   "metadata": {
    "id": "jNgQ_1HA7Ym5"
   },
   "source": [
    "### Compreensão de Listas: `for` de Alta Performance  \n",
    "Transforme loops em estruturas concisas para criar listas:  \n",
    "```python\n",
    "# Quadrados dos números pares de 0 a 10\n",
    "quadrados_pares = [x**2 for x in range(11) if x % 2 == 0]\n",
    "print(quadrados_pares)  # Saída: [0, 4, 16, 36, 64, 100]\n",
    "```"
   ]
  },
  {
   "cell_type": "markdown",
   "metadata": {
    "id": "JTOQcQXt7baZ"
   },
   "source": [
    "### Iteração Aninhada e Aplicações Matemáticas\n",
    "**Matrizes (Lista de Listas)**:  \n",
    "```python\n",
    "matriz = [[1, 2, 3], [4, 5, 6], [7, 8, 9]]\n",
    "for linha in matriz:\n",
    "    for elemento in linha:\n",
    "        print(elemento, end=' ')\n",
    "    print()\n",
    "```\n",
    "**Saída**:  \n",
    "```\n",
    "1 2 3  \n",
    "4 5 6  \n",
    "7 8 9  \n",
    "```\n",
    "\n",
    "**Gerando Combinações**:  \n",
    "```python\n",
    "# Todas as combinações entre duas listas\n",
    "A = [1, 2]\n",
    "B = ['a', 'b']\n",
    "combinacoes = [(x, y) for x in A for y in B]\n",
    "print(combinacoes)  # Saída: [(1, 'a'), (1, 'b'), (2, 'a'), (2, 'b')]\n",
    "```"
   ]
  },
  {
   "cell_type": "markdown",
   "metadata": {
    "id": "sG_T74Db7oBo"
   },
   "source": [
    "### Controle de Fluxo: `break`, `continue`, e `else`\n",
    "- **`break`**: Interrompe o loop imediatamente.  \n",
    "- **`continue`**: Pula para a próxima iteração.  \n",
    "- **`else`**: Executa após conclusão normal do loop (sem `break`).  \n",
    "\n",
    "**Exemplo 1:** \"Buscando\" Primos \n",
    "```python\n",
    "for n in range(2, 10):\n",
    "    for x in range(2, n):\n",
    "        if n % x == 0:\n",
    "            print(f\"{n} = {x}*{n//x}\")\n",
    "            break\n",
    "    else:  # Executa se nenhum divisor foi encontrado\n",
    "        print(f\"{n} é primo\")\n",
    "```\n"
   ]
  },
  {
   "cell_type": "markdown",
   "metadata": {
    "id": "180et8HR7utj"
   },
   "source": [
    "### Iteração em Conjuntos e Dicionários  \n",
    "**Conjuntos**:  \n",
    "```python\n",
    "s = {'a', 'b', 'c'}\n",
    "for elemento in s:\n",
    "    print(elemento)  # Ordem não garantida!\n",
    "```\n",
    "\n",
    "**Dicionários – Iteração por Chaves, Valores ou Pares**:  \n",
    "```python\n",
    "dados = {'nome': 'Maria', 'idade': 30, 'cidade': 'Lisboa'}\n",
    "for chave in dados:          # Chaves\n",
    "    print(chave)\n",
    "for valor in dados.values(): # Valores\n",
    "    print(valor)\n",
    "for chave, valor in dados.items():  # Pares (chave, valor)\n",
    "    print(f\"{chave}: {valor}\")\n",
    "```\n"
   ]
  },
  {
   "cell_type": "markdown",
   "metadata": {
    "id": "F__XuDSS7zng"
   },
   "source": [
    "**Exercício 1:**  \n",
    "Escreva uma função `matriz_transposta(matriz)` que use loops aninhados para transpor uma matriz (transformar linhas em colunas).  \n",
    "**Entrada**:  \n",
    "```python\n",
    "matriz = [[1, 2], [3, 4], [5, 6]]\n",
    "```  \n",
    "**Saída Esperada**:  \n",
    "`[[1, 3, 5], [2, 4, 6]]`  \n"
   ]
  },
  {
   "cell_type": "code",
   "execution_count": null,
   "metadata": {
    "id": "N5tloczNtmnL"
   },
   "outputs": [],
   "source": []
  },
  {
   "cell_type": "markdown",
   "metadata": {
    "id": "c5ptQGrHtu6Y"
   },
   "source": [
    "### Otimizando a Composição\n",
    "Vamos criar uma função chamada `composicao_relacoes` que:\n",
    "1. Recebe $R$ e $S$ como conjuntos de pares ordenados (usando `set` em Python).\n",
    "2. Usa um dicionário para mapear os elementos $b$ de $S$ aos seus respectivos $c$, tornando a busca mais eficiente.\n",
    "3. Itera sobre $R$ e constrói o conjunto $S \\circ R$ com base na definição."
   ]
  },
  {
   "cell_type": "code",
   "execution_count": 68,
   "metadata": {
    "colab": {
     "base_uri": "https://localhost:8080/"
    },
    "executionInfo": {
     "elapsed": 35,
     "status": "ok",
     "timestamp": 1743584370612,
     "user": {
      "displayName": "Carlos Leandro",
      "userId": "02142946371031398041"
     },
     "user_tz": -60
    },
    "id": "HK89A1pbt_5O",
    "outputId": "077bacab-d2bb-4257-eace-722410aca066"
   },
   "outputs": [
    {
     "name": "stdout",
     "output_type": "stream",
     "text": [
      "S ∘ R = {('beta', 'c'), ('gamma', 'a'), ('gamma', 'b'), ('alpha', 'a'), ('beta', 'b'), ('alpha', 'b')}\n"
     ]
    }
   ],
   "source": [
    "def composicao_relacoes(R, S):\n",
    "    # Criar um dicionário para armazenar os pares de S\n",
    "    S_dict = {}\n",
    "    for b, c in S:\n",
    "        if b not in S_dict:\n",
    "            S_dict[b] = set()\n",
    "        S_dict[b].add(c)\n",
    "\n",
    "    # Inicializar o conjunto da composição\n",
    "    composicao = set()\n",
    "\n",
    "    # Iterar sobre cada par em R\n",
    "    for a, b in R:\n",
    "        # Se b está em S_dict, adicionar os pares (a, c) ao resultado\n",
    "        if b in S_dict:\n",
    "            for c in S_dict[b]:\n",
    "                composicao.add((a, c))\n",
    "\n",
    "    return composicao\n",
    "\n",
    "# Exemplo de teste\n",
    "R = {('alpha', 1), ('alpha', 4), ('beta', 3), ('gamma', 1), ('gamma', 4)}\n",
    "S = {(1, 'a'), (2, 'a'), (3, 'b'), (3, 'c'), (4, 'b')}\n",
    "\n",
    "# Calcular a composição\n",
    "resultado = composicao_relacoes(R, S)\n",
    "print(\"S ∘ R =\", resultado)\n"
   ]
  },
  {
   "cell_type": "markdown",
   "metadata": {
    "id": "XZuAQaQpukPB"
   },
   "source": [
    "**Explicação do Código**\n",
    "1. **Dicionário `S_dict`**:\n",
    "   - Para cada par $(b, c)$ em $S$, criamos uma entrada no dicionário onde a chave é $b$ e o valor é um conjunto de todos os $c$ associados a esse $b$. Isso permite buscar rapidamente todos os $c$ para um dado $b$.\n",
    "\n",
    "2. **Construção da Composição**:\n",
    "   - Para cada par $(a, b)$ em $R$:\n",
    "     - Verificamos se $b$ está em S_dict.\n",
    "     - Se estiver, para cada $c$ no conjunto associado a $b$, adicionamos $(a, c)$ ao conjunto `composicao`.\n",
    "\n",
    "3. **Uso de Conjuntos**:\n",
    "   - Usamos `set` para evitar duplicatas, já que uma relação é um conjunto de pares ordenados."
   ]
  },
  {
   "cell_type": "markdown",
   "metadata": {
    "id": "0enPOrYC8obN"
   },
   "source": [
    "### Otimizando a Transitividade\n",
    "\n",
    "Para verificar se uma relação binária $R$ sobre um conjunto $A$ é transitiva em Python, precisamos garantir que, para todos os pares $ (a, b) \\in R $ e $ (b, c) \\in R $, o par $ (a, c) $ também esteja em $ R $. Vamos criar uma função que implementa essa verificação de forma clara e eficiente.\n",
    "\n",
    "**Passo a Passo da Implementação**\n",
    "\n",
    "1. **Representação da Relação**:\n",
    "   - A relação $ R $ será representada como um conjunto de pares ordenados (tuplas em Python, como `(a, b)`).\n",
    "   - Não precisamos definir explicitamente o conjunto $A $, pois ele pode ser inferido a partir dos elementos presentes em $ R $.\n",
    "\n",
    "2. **Condição de Transitividade**:\n",
    "   - Para cada par $ (a, b) $ em $ R $, procuramos todos os pares $ (b, c) $ em $ R $.\n",
    "   - Para cada $ (b, c) $ encontrado, verificamos se $ (a, c) $ está em $ R $.\n",
    "   - Se existir algum caso em que $ (a, b) \\in R $, $ (b, c) \\in R $, mas $ (a, c) \\notin R $, a relação não é transitiva.\n",
    "   - Se todas as combinações satisfizerem a condição, a relação é transitiva.\n",
    "\n",
    "3. **Otimização com Dicionário**:\n",
    "   - Usaremos um dicionário para mapear cada elemento $ a $ aos elementos $ b $ com os quais ele se relaciona em $ R $. Isso torna a busca mais eficiente.\n"
   ]
  },
  {
   "cell_type": "code",
   "execution_count": 69,
   "metadata": {
    "executionInfo": {
     "elapsed": 19,
     "status": "ok",
     "timestamp": 1743588337880,
     "user": {
      "displayName": "Carlos Leandro",
      "userId": "02142946371031398041"
     },
     "user_tz": -60
    },
    "id": "0akga0GQ32Sz"
   },
   "outputs": [],
   "source": [
    "def e_transitiva(R):\n",
    "    # Criar um dicionário para mapear cada a aos seus b tais que (a, b) está em R\n",
    "    rel_dict = {}\n",
    "    for a, b in R:\n",
    "        if a not in rel_dict:\n",
    "            rel_dict[a] = set()\n",
    "        rel_dict[a].add(b)\n",
    "\n",
    "    # Verificar a transitividade\n",
    "    for a in rel_dict:\n",
    "        for b in rel_dict.get(a, []):  # Para cada b relacionado a a\n",
    "            for c in rel_dict.get(b, []):  # Para cada c relacionado a b\n",
    "                if c not in rel_dict.get(a, []):  # Se (a, c) não está em R\n",
    "                    return False\n",
    "    return True"
   ]
  },
  {
   "cell_type": "markdown",
   "metadata": {
    "id": "IR3X0Ai99sJI"
   },
   "source": [
    "**Explicação do Código**\n",
    "\n",
    "- **Construção do Dicionário**:\n",
    "  - O dicionário `rel_dict` associa cada chave $ a $ a um conjunto de elementos $ b $ tais que $ (a, b) \\in R $. Usamos `set()` para evitar duplicatas e facilitar a verificação de pertencimento.\n",
    "\n",
    "- **Verificação da Transitividade**:\n",
    "  - Iteramos sobre cada $ a $ no dicionário.\n",
    "  - Para cada $ b $ relacionado a $ a $ (em `rel_dict[a]`), olhamos os elementos $ c $ relacionados a $ b $ (em `rel_dict[b]`).\n",
    "  - Verificamos se $ c $ está em `rel_dict[a]`. Se não estiver, a relação não é transitiva, e retornamos `False`.\n",
    "  - O método `.get()` é usado com um valor padrão `[]` para evitar erros caso $ b $ não esteja no dicionário (ou seja, $ b $ não se relaciona com nenhum elemento).\n",
    "\n",
    "- **Retorno**:\n",
    "  - Se o loop terminar sem encontrar violações, retornamos `True`, indicando que a relação é transitiva.\n",
    "\n",
    "**Exemplo 2:**\n",
    "\n",
    "Vamos testar a função com dois exemplos:"
   ]
  },
  {
   "cell_type": "code",
   "execution_count": 70,
   "metadata": {
    "colab": {
     "base_uri": "https://localhost:8080/"
    },
    "executionInfo": {
     "elapsed": 8,
     "status": "ok",
     "timestamp": 1743588584748,
     "user": {
      "displayName": "Carlos Leandro",
      "userId": "02142946371031398041"
     },
     "user_tz": -60
    },
    "id": "GqFm2Jra-FhJ",
    "outputId": "00a73c7b-9219-4a5e-c49a-28b11aa27482"
   },
   "outputs": [
    {
     "name": "stdout",
     "output_type": "stream",
     "text": [
      "R é transitiva? True\n"
     ]
    }
   ],
   "source": [
    "# Relação transitiva\n",
    "R = {(1, 2), (2, 3), (1, 3)}\n",
    "print(\"R é transitiva?\", e_transitiva(R))  # Saída: True"
   ]
  },
  {
   "cell_type": "code",
   "execution_count": 71,
   "metadata": {
    "colab": {
     "base_uri": "https://localhost:8080/"
    },
    "executionInfo": {
     "elapsed": 20,
     "status": "ok",
     "timestamp": 1743588599196,
     "user": {
      "displayName": "Carlos Leandro",
      "userId": "02142946371031398041"
     },
     "user_tz": -60
    },
    "id": "0JBPiivi-VCM",
    "outputId": "ace83863-4c00-4f1a-de1a-14ac7d85a61c"
   },
   "outputs": [
    {
     "name": "stdout",
     "output_type": "stream",
     "text": [
      "R é transitiva? False\n"
     ]
    }
   ],
   "source": [
    "# Relação não transitiva\n",
    "R = {(1, 2), (2, 3)}\n",
    "print(\"R é transitiva?\", e_transitiva(R))  # Saída: False"
   ]
  },
  {
   "cell_type": "markdown",
   "metadata": {
    "id": "HWiweS84-70E"
   },
   "source": [
    "**Eficiência**: A versão sem dicionários tem complexidade $ O(|R|^2) $ no pior caso, pois faz uma busca linear para cada par. Esta versão com dicionários é mais eficiente para relações grandes, com complexidade reduzida para $ O(|R| \\cdot k) $, onde $ k $ é o número médio de elementos relacionados a cada chave.\n",
    "\n",
    "**Exemplo 3:**\n",
    "Considere $ R = \\{(1, 2), (1, 3), (2, 4), (3, 4), (4, 5)\\} $, com $ |R| = 5 $.\n",
    "\n",
    "1. **Sem Dicionários**\n",
    "- Para cada $ (a, b) $, verificamos todos os $ (b_s, c) $:\n",
    "  - $ (1, 2) $ com $ (2, 4) $: $ (1, 4) \\notin R $, retorna `False` logo aqui.\n",
    "- Total de comparações possíveis: $ 5 \\times 5 = 25 $ no pior caso (se não parasse cedo).\n",
    "- Complexidade: $ O(|R|^2) = O(25) $.\n",
    "\n",
    "2. **Com Dicionários**\n",
    "- Dicionário:\n",
    "  - $ rel_dict[1] = \\{2, 3\\} $,\n",
    "  - $ rel_dict[2] = \\{4\\} $,\n",
    "  - $ rel_dict[3] = \\{4\\} $,\n",
    "  - $ rel_dict[4] = \\{5\\} $.\n",
    "  - Custo: $ O(5) $.\n",
    "- Verificação:\n",
    "  - a = 1 , {2, 3} :\n",
    "    -  b = 2 ,{ 4 },  $4 \\notin $ {2, 3}, retorna `False`.\n",
    "  - Total de iterações até falha: $ 2 $ chaves verificadas, $ k \\approx 5/4 = 1.25 $.\n",
    "- Complexidade: $ O(|R| \\cdot k) = O(5 \\cdot 1.25) = O(6.25) $.\n",
    "\n",
    "**Comparação**: $ O(25) $ vs. $ O(6.25) $. Para relações maiores, a diferença cresce significativamente."
   ]
  },
  {
   "cell_type": "markdown",
   "metadata": {
    "id": "YXYceVdg9MQL"
   },
   "source": [
    "### A Função `range()`  \n",
    "A função `range()` é essencial para gerar sequências numéricas eficientes, especialmente em contextos matemáticos e de iteração controlada."
   ]
  },
  {
   "cell_type": "markdown",
   "metadata": {
    "id": "67npAnJ29e0V"
   },
   "source": [
    "**Anatomia da Função `range()`**\n",
    "\n",
    "A sintaxe completa é `range(start, stop, step)`, onde:  \n",
    "- **`start`** (opcional): Valor inicial (padrão: 0).  \n",
    "- **`stop`** (obrigatório): Valor final (não incluso na sequência).  \n",
    "- **`step`** (opcional): Incremento (padrão: 1).  \n",
    "\n",
    "**Exemplo 4:**  \n"
   ]
  },
  {
   "cell_type": "code",
   "execution_count": 72,
   "metadata": {
    "id": "aXYU95Su9MQL"
   },
   "outputs": [],
   "source": [
    "L=range(10) # Sequência de 0 a 9 (10 elementos)"
   ]
  },
  {
   "cell_type": "code",
   "execution_count": 73,
   "metadata": {
    "id": "XD99P03f9MQL"
   },
   "outputs": [
    {
     "name": "stdout",
     "output_type": "stream",
     "text": [
      "0  1  2  3  4  5  6  7  8  9  "
     ]
    }
   ],
   "source": [
    "for i in L: print(i,' ',end='')"
   ]
  },
  {
   "cell_type": "markdown",
   "metadata": {
    "id": "bK_XO9L39MQL"
   },
   "source": []
  },
  {
   "cell_type": "code",
   "execution_count": 74,
   "metadata": {
    "id": "WxW5q1Iq9MQL"
   },
   "outputs": [
    {
     "name": "stdout",
     "output_type": "stream",
     "text": [
      "5  6  7  8  9  "
     ]
    }
   ],
   "source": [
    "for i in range(5, 10): print(i,' ',end='')"
   ]
  },
  {
   "cell_type": "code",
   "execution_count": 75,
   "metadata": {
    "id": "Yo_lyTGr9MQM"
   },
   "outputs": [
    {
     "name": "stdout",
     "output_type": "stream",
     "text": [
      "0  3  6  9  "
     ]
    }
   ],
   "source": [
    "for i in range(0, 10, 3): print(i,' ',end='')"
   ]
  },
  {
   "cell_type": "code",
   "execution_count": 76,
   "metadata": {
    "id": "_nu0QUSn9MQM"
   },
   "outputs": [
    {
     "name": "stdout",
     "output_type": "stream",
     "text": [
      "-10  -40  -70  "
     ]
    }
   ],
   "source": [
    "for i in range(-10, -100, -30): print(i,' ',end='')"
   ]
  },
  {
   "cell_type": "markdown",
   "metadata": {
    "id": "b2TorLzg-BGz"
   },
   "source": [
    "#### `range()` vs Listas: Eficiência de Memória \n",
    "Em Python 3, `range()` retorna um **iterador imutável**, gerando valores sob demanda. Comparado a listas, consome memória constante, mesmo para intervalos grandes:  \n",
    "```python\n",
    "# Python 3: range() não aloca toda a memória de uma vez\n",
    "grande_sequencia = range(1_000_000)  # Memória: ~48 bytes\n",
    "lista_grande = list(grande_sequencia)  # Memória: ~8 MB\n",
    "```\n"
   ]
  },
  {
   "cell_type": "markdown",
   "metadata": {
    "id": "t-Dq0JuR9MQM"
   },
   "source": [
    "#### Uso Clássico: Iteração com Índices Controlados\n",
    "**Exemplo 5:** Acesso Indexado a Listas  "
   ]
  },
  {
   "cell_type": "code",
   "execution_count": 77,
   "metadata": {
    "id": "0SaZ1Ne09MQM"
   },
   "outputs": [
    {
     "name": "stdout",
     "output_type": "stream",
     "text": [
      "0 Euler\n",
      "1 Decarte\n",
      "2 Pascal\n",
      "3 Newton\n",
      "4 Eu\n"
     ]
    }
   ],
   "source": [
    "a = ['Euler', 'Decarte', 'Pascal', 'Newton', 'Eu']\n",
    "for i in range(len(a)):\n",
    "    print( i, a[i])"
   ]
  },
  {
   "cell_type": "markdown",
   "metadata": {
    "id": "DOZVlbB9-bCz"
   },
   "source": [
    "#### Quando Preferir `enumerate()`  \n",
    "A função `enumerate()` simplifica iterações que requerem índice e valor, evitando o uso explícito de `range(len())`:  \n",
    "```python\n",
    "for índice, nome in enumerate(matematicos):\n",
    "    print(f\"{índice}: {nome}\")  # Equivalente ao exemplo anterior, mas mais legível\n",
    "```"
   ]
  },
  {
   "cell_type": "markdown",
   "metadata": {
    "id": "iKRW_2wm-kuS"
   },
   "source": [
    "#### Erros Comuns e Armadilhas\n",
    "- **Passo Zero**: `range(1, 5, 0)` causa `ValueError`.  \n",
    "- **Direção Inconsistente**:  \n",
    "  ```python\n",
    "  # Não gera valores se o passo não \"alcançar\" o stop\n",
    "  range(5, 1) → Vazio (passo padrão é +1)\n",
    "  range(5, 1, -1) → 5, 4, 3, 2\n",
    "  ```  \n",
    "- **Valores Não Inteiros**: `range(1.5, 5)` causa `TypeError`. Use `numpy.arange()` para floats."
   ]
  },
  {
   "cell_type": "markdown",
   "metadata": {
    "id": "4-hamCbn-r3q"
   },
   "source": [
    "#### Aplicações Matemáticas  \n",
    "**Gerando Progressões Aritméticas**:  \n",
    "```python\n",
    "# Soma da PA: 2, 5, 8, 11, 14\n",
    "soma = sum(range(2, 15, 3))  # Resultado: 2 + 5 + 8 + 11 + 14 = 40\n",
    "```  \n",
    "\n",
    "**Grade de Coordenadas 2D**:  \n",
    "```python\n",
    "# Todas as coordenadas (x, y) para x ∈ [0, 2], y ∈ [0, 2]\n",
    "coordenadas = [(x, y) for x in range(3) for y in range(3)]\n",
    "print(coordenadas)  # Saída: [(0,0), (0,1), ..., (2,2)]\n",
    "```"
   ]
  },
  {
   "cell_type": "markdown",
   "metadata": {
    "id": "6E9lQDtD-0TU"
   },
   "source": [
    "#### Exemplo: Crivo de Eratóstenes \n",
    "Implementação eficiente usando `range()` para encontrar primos até *n*:  \n",
    "```python\n",
    "def crivo_eratostenes(n):\n",
    "    sieve = [True] * (n+1)\n",
    "    sieve[0:2] = [False, False]\n",
    "    for i in range(2, int(n**0.5)+1):\n",
    "        if sieve[i]:\n",
    "            sieve[i*i : n+1 : i] = [False] * len(sieve[i*i : n+1 : i])\n",
    "    return [i for i, is_prime in enumerate(sieve) if is_prime]\n",
    "\n",
    "print(crivo_eratostenes(20))  # Saída: [2, 3, 5, 7, 11, 13, 17, 19]\n",
    "```"
   ]
  },
  {
   "cell_type": "markdown",
   "metadata": {
    "id": "wA-sPThC-71T"
   },
   "source": [
    "**Exercício 2:**  \n",
    "Escreva uma função `progressao_geometrica(a, r, n)` que retorne uma lista com os primeiros *n* termos de uma progressão geométrica iniciando em *a* com razão *r*. Use `range()` para controle do número de termos.  \n",
    "\n",
    "1. **Entrada**:  \n",
    "`progressao_geometrica(3, 2, 4)`  \n",
    "\n",
    "2. **Saída Esperada**:  \n",
    "`[3, 6, 12, 24]`  \n"
   ]
  },
  {
   "cell_type": "markdown",
   "metadata": {
    "id": "vxgWC5L59MQM"
   },
   "source": [
    "### Comando `break` e `continue`, e Cláusulas `else` em Ciclos  \n",
    "Entender o fluxo de controle em loops é essencial para algoritmos eficientes. Vamos explorar como `break`, `continue` e `else` modificam esse fluxo, com ênfase em aplicações matemáticas.\n"
   ]
  },
  {
   "cell_type": "markdown",
   "metadata": {
    "id": "Ia0AM_rL9MQM"
   },
   "source": [
    "O comando *break*, permite encurtar os ciclos *for* ou *while*.\n",
    "\n",
    "O `break` encerra imediatamente o loop mais interno (se aninhado). É útil para evitar processamento desnecessário.  \n",
    "\n",
    "**Exemplo 6:**"
   ]
  },
  {
   "cell_type": "code",
   "execution_count": 78,
   "metadata": {
    "id": "UAkI5wA89MQM"
   },
   "outputs": [
    {
     "name": "stdout",
     "output_type": "stream",
     "text": [
      "2 é primo\n",
      "3 é primo\n",
      "4 = 2 * 2 → 4 não é primo\n",
      "5 é primo\n",
      "6 = 2 * 3 → 6 não é primo\n",
      "7 é primo\n",
      "8 = 2 * 4 → 8 não é primo\n",
      "9 = 3 * 3 → 9 não é primo\n"
     ]
    }
   ],
   "source": [
    "#\n",
    "# O crivo de Eratóstenes: Verificação de Números Primos\n",
    "#\n",
    "for n in range(2, 10):\n",
    "    for m in range(2, n):\n",
    "        if n % m == 0:\n",
    "            print(f\"{n} = {m} * {n//m} → {n} não é primo\")\n",
    "            break\n",
    "    else:  # Executa se o loop interno NÃO encontrar um divisor (sem break)\n",
    "        print(f\"{n} é primo\")"
   ]
  },
  {
   "cell_type": "markdown",
   "metadata": {
    "id": "XjFufAc39MQN"
   },
   "source": [
    "**Operadores `%` e `//`: Entendendo a Divisão**  \n",
    "\n",
    "- **`%` (Módulo)**: Retorna o resto da divisão.  \n",
    "  ```python\n",
    "  10 % 3 → 1    # 10 dividido por 3 dá resto 1\n",
    "  ```  \n",
    "- **`//` (Divisão Inteira)**: Retorna o quociente truncado (arredondado para baixo).  \n",
    "  ```python\n",
    "  10 // 3 → 3   # Parte inteira de 10/3\n",
    "  ```  \n",
    "- **`/` (Divisão Real)**: Retorna um float.  \n",
    "  ```python\n",
    "  10 / 3 → 3.333...\n",
    "  ```  "
   ]
  },
  {
   "cell_type": "markdown",
   "metadata": {
    "id": "RyGdcupT9MQN"
   },
   "source": [
    "### O Comando `continue`: Pulando Iterações \n",
    "O `continue` interrompe a iteração atual e avança para a próxima.  \n",
    "\n",
    "**Exemplo 7:**"
   ]
  },
  {
   "cell_type": "code",
   "execution_count": 79,
   "metadata": {
    "id": "379UfI7b9MQN"
   },
   "outputs": [
    {
     "name": "stdout",
     "output_type": "stream",
     "text": [
      "É par o número  2\n",
      "O número  3 é ímpar\n",
      "É par o número  4\n",
      "O número  5 é ímpar\n",
      "É par o número  6\n",
      "O número  7 é ímpar\n",
      "É par o número  8\n",
      "O número  9 é ímpar\n"
     ]
    }
   ],
   "source": [
    "for num in range(2, 10):\n",
    "    if num % 2 == 0:\n",
    "        print(\"É par o número \", num)\n",
    "        continue\n",
    "    print(\"O número \", num, \"é ímpar\")"
   ]
  },
  {
   "cell_type": "markdown",
   "metadata": {
    "id": "hGZzUMQNA_ID"
   },
   "source": [
    "### Cláusula `else` em Loops: Execução Pós-Loop  \n",
    "A cláusula `else` em loops é executada **apenas se o loop terminar naturalmente** (sem `break`).  \n",
    "\n",
    "**Aplicação Clássica – Busca sem Resultado**:  \n",
    "```python\n",
    "alvo = 7\n",
    "for x in range(2, 5):\n",
    "    if x == alvo:\n",
    "        print(f\"{alvo} encontrado!\")\n",
    "        break\n",
    "else:\n",
    "    print(f\"{alvo} não está no intervalo [2, 4]\")  # Executa aqui\n",
    "```  \n"
   ]
  },
  {
   "cell_type": "markdown",
   "metadata": {
    "id": "5iMdFK6LBB72"
   },
   "source": [
    "### Erros Comuns e Boas Práticas \n",
    "- **`else` Mal Posicionado**:  \n",
    "  ```python\n",
    "  # ERRADO (else alinhado com if, não com for)\n",
    "  for n in range(2, 5):\n",
    "      if n % 2 == 0:\n",
    "          print(\"Par\")\n",
    "      else:\n",
    "          print(\"Ímpar\")  # Este else é do if, não do for!\n",
    "  ```  \n",
    "\n",
    "- **`break` em Loops Aninhados**: Só interrompe o loop mais interno.  "
   ]
  },
  {
   "cell_type": "markdown",
   "metadata": {
    "id": "2rXp7mikBEXu"
   },
   "source": [
    "### Aplicação Avançada: Crivo de Eratóstenes \n",
    "Implementação eficiente usando `break` e `else`:  \n",
    "```python\n",
    "def primos_ate(n):\n",
    "    primos = []\n",
    "    for candidato in range(2, n+1):\n",
    "        for divisor in range(2, int(candidato**0.5) + 1):\n",
    "            if candidato % divisor == 0:\n",
    "                break\n",
    "        else:\n",
    "            primos.append(candidato)\n",
    "    return primos\n",
    "\n",
    "print(primos_ate(20))  # Saída: [2, 3, 5, 7, 11, 13, 17, 19]\n",
    "```  \n"
   ]
  },
  {
   "cell_type": "markdown",
   "metadata": {
    "id": "caL69GR0BJ4r"
   },
   "source": [
    "**Exercício 3:**  \n",
    "Escreva uma função `primeiro_multiplo(n, lista)` que retorne o primeiro número em `lista` que seja múltiplo de `n`. Use `break` e `else`:  \n",
    "- Se nenhum múltiplo for encontrado, retorne `None`.  \n",
    "\n",
    "1- Entrada:  \n",
    "`primeiro_multiplo(5, [2, 8, 10, 3])`  \n",
    "\n",
    "2- Saída Esperada:  \n",
    "`10`  \n",
    "\n",
    "```  "
   ]
  },
  {
   "cell_type": "markdown",
   "metadata": {
    "id": "L_ZcyJI0GB4A"
   },
   "source": [
    "## Funções em Python\n",
    "Funções são definidas com `def`, seguido do nome e parâmetros entre parênteses. A primeira string é a *docstring* para documentação."
   ]
  },
  {
   "cell_type": "markdown",
   "metadata": {
    "id": "dlXGMz1JCovd"
   },
   "source": [
    "\n",
    "```python\n",
    "def quadrado(n):\n",
    "    \"\"\"Retorna o quadrado de um número.\"\"\"\n",
    "    return n ** 2\n",
    "\n",
    "print(quadrado(4))  # Saída: 16\n",
    "print(quadrado.__doc__)  # Exibe a docstring\n",
    "```\n"
   ]
  },
  {
   "cell_type": "markdown",
   "metadata": {
    "id": "sbWDr2o6CxSz"
   },
   "source": [
    "\n",
    "### Escopo de Variáveis: Local vs Global\n",
    "- **Variáveis locais**: Existem apenas dentro da função.\n",
    "- **Variáveis globais**: Acessíveis, mas não modificáveis sem `global`.\n",
    "\n",
    "```python\n",
    "x = 10  # Global\n",
    "\n",
    "def muda_x():\n",
    "    global x  # Permite modificar a global\n",
    "    x = 20\n",
    "    y = 5  # Local\n",
    "    \n",
    "muda_x()\n",
    "print(x)  # 20\n",
    "print(y)  # NameError: y não existe\n",
    "```\n"
   ]
  },
  {
   "cell_type": "markdown",
   "metadata": {
    "id": "a_5hvEBKC2XL"
   },
   "source": [
    "### Passagem de Parâmetros e Mutabilidade\n",
    "Parâmetros são passados por referência. Objetos mutáveis (listas, dicionários) podem ser alterados dentro da função.\n",
    "\n",
    "```python\n",
    "def adiciona_item(lista, item):\n",
    "    lista.append(item)\n",
    "\n",
    "nums = [1, 2]\n",
    "adiciona_item(nums, 3)\n",
    "print(nums)  # [1, 2, 3]\n",
    "```\n"
   ]
  },
  {
   "cell_type": "markdown",
   "metadata": {
    "id": "4CLB7ilpC93N"
   },
   "source": [
    "### Valor de Retorno e `None`\n",
    "Funções sem `return` retornam `None`. Use `return` para sair antecipadamente.\n",
    "\n",
    "```python\n",
    "def eh_par(n):\n",
    "    if n % 2 == 0:\n",
    "        return True\n",
    "    # Retorno implícito: None\n",
    "\n",
    "print(eh_par(4))  # True\n",
    "print(eh_par(5))  # None\n",
    "```"
   ]
  },
  {
   "cell_type": "markdown",
   "metadata": {
    "id": "TJvfsZF1DBCT"
   },
   "source": [
    "### Argumentos Padrão (Valores Pré-Definidos)\n",
    "Parâmetros podem ter valores padrão. **Cuidado com objetos mutáveis!**\n",
    "\n",
    "```python\n",
    "def cumprimento(nome, mensagem=\"Olá\"):\n",
    "    print(f\"{mensagem}, {nome}!\")\n",
    "\n",
    "cumprimento(\"Ana\")  # Olá, Ana!\n",
    "cumprimento(\"João\", \"Bom dia\")  # Bom dia, João!\n",
    "```\n",
    "\n",
    "**Armadilha Comum**:\n",
    "```python\n",
    "def acumula(valor, lista=[]):  # Lista é criada UMA vez!\n",
    "    lista.append(valor)\n",
    "    return lista\n",
    "\n",
    "print(acumula(1))  # [1]\n",
    "print(acumula(2))  # [1, 2] (não [2]!)\n",
    "```\n"
   ]
  },
  {
   "cell_type": "markdown",
   "metadata": {
    "id": "OEQundIYEA8c"
   },
   "source": [
    "**Exercício 4:**\n",
    "Escreva uma função `media` que aceite números variáveis e retorne a média. Use `*args`.\n"
   ]
  },
  {
   "cell_type": "markdown",
   "metadata": {
    "id": "gBwQsHADFGol"
   },
   "source": [
    "### Argumentos com Valores por Defeito (Default Arguments) \n",
    "Os argumentos com valores por defeito são uma ferramenta poderosa em Python, permitindo maior flexibilidade na chamada de funções. No entanto, seu uso requer atenção a detalhes sutis, especialmente quando envolvem objetos mutáveis. Vamos explorar esse tópico em profundidade.\n"
   ]
  },
  {
   "cell_type": "markdown",
   "metadata": {
    "id": "vunsrHaOFI8f"
   },
   "source": [
    "\n",
    "A função `ask_ok` demonstra como definir valores padrão para parâmetros:  \n",
    "```python\n",
    "def ask_ok(prompt, retries=4, complaint='Yes or no, please!'):\n",
    "    while True:\n",
    "        ok = input(prompt)\n",
    "        if ok in ('y', 'ye', 'yes'):\n",
    "            return True\n",
    "        if ok in ('n', 'no', 'nop', 'nope'):\n",
    "            return False\n",
    "        retries -= 1\n",
    "        if retries < 0:\n",
    "            raise IOError('Usuário recusou resposta')\n",
    "        print(complaint)\n",
    "```\n",
    "\n",
    "**Chamadas Válidas**:  \n",
    "```python\n",
    "ask_ok('Deseja realmente sair?')                  # Usa retries=4 e complaint padrão\n",
    "ask_ok('Sobrescrever o arquivo?', 2)             # Usa complaint padrão\n",
    "ask_ok('Confirmar?', 2, 'Apenas sim ou não!')    # Todos os argumentos fornecidos\n",
    "```\n"
   ]
  },
  {
   "cell_type": "markdown",
   "metadata": {
    "id": "cVDWQSs4FMo5"
   },
   "source": [
    "\n",
    "Os valores padrão são avaliados **uma única vez**, no momento da definição da função. Isso pode causar comportamentos inesperados com objetos mutáveis (listas, dicionários, etc.):  "
   ]
  },
  {
   "cell_type": "markdown",
   "metadata": {
    "id": "M6Ng12BYFPOh"
   },
   "source": [
    "**Exemplo 8:** Inteiros (Imutáveis)  \n",
    "```python\n",
    "i = 5\n",
    "\n",
    "def f(arg=i):\n",
    "    print(arg)\n",
    "\n",
    "i = 6\n",
    "f()  # Saída: 5 (o valor padrão é \"congelado\" no momento da definição)\n",
    "```"
   ]
  },
  {
   "cell_type": "markdown",
   "metadata": {
    "id": "aYPd64FyFTNM"
   },
   "source": [
    "**Exemplo 9:** Listas (Mutáveis)  \n",
    "```python\n",
    "def f(a, L=[]):\n",
    "    L.append(a)\n",
    "    return L\n",
    "\n",
    "print(f(1))  # [1]\n",
    "print(f(2))  # [1, 2] (a lista é preservada entre chamadas!)\n",
    "```\n"
   ]
  },
  {
   "cell_type": "markdown",
   "metadata": {
    "id": "uIDu2lrPFVYv"
   },
   "source": [
    "### O Problema dos Objetos Mutáveis \n",
    "Quando o valor padrão é um objeto mutável (como `L=[]`), todas as chamadas subsequentes **compartilham a mesma instância**. Isso geralmente **não é desejado** e pode levar a bugs difíceis de rastrear.  \n",
    "\n",
    "**Cenário de Bug Comum**:  \n",
    "```python\n",
    "def registrar_evento(evento, historico=[]):\n",
    "    historico.append(evento)\n",
    "    return historico\n",
    "\n",
    "print(registrar_evento('Login'))        # ['Login']\n",
    "print(registrar_evento('Logout'))       # ['Login', 'Logout'] (acumulação indesejada)\n",
    "```\n"
   ]
  },
  {
   "cell_type": "markdown",
   "metadata": {
    "id": "FDdvTQqzFYfA"
   },
   "source": [
    "\n",
    "Para evitar que objetos mutáveis sejam compartilhados entre chamadas, use `None` e inicialize o objeto dentro da função:  \n",
    "```python\n",
    "def f(a, L=None):\n",
    "    if L is None:\n",
    "        L = []    # Nova lista criada a cada chamada\n",
    "    L.append(a)\n",
    "    return L\n",
    "\n",
    "print(f(1))  # [1]\n",
    "print(f(2))  # [2] (sem acumulação)\n",
    "```\n",
    "\n",
    "**Funciona Para Todos os Tipos Mutáveis**:  \n",
    "```python\n",
    "def criar_perfil(nome, dados=None):\n",
    "    if dados is None:\n",
    "        dados = {}    # Novo dicionário a cada chamada\n",
    "    dados['nome'] = nome\n",
    "    return dados\n",
    "```"
   ]
  },
  {
   "cell_type": "markdown",
   "metadata": {
    "id": "kb7HtQw4FbLH"
   },
   "source": [
    "**Por Que Assim?**\n",
    "\n",
    "- **Eficiência**: Avaliar valores padrão uma única vez reduz custos computacionais.  \n",
    "- **Consistência**: Valores padrão são parte da definição da função, não do seu código de execução.  "
   ]
  },
  {
   "cell_type": "markdown",
   "metadata": {
    "id": "gl6e0OMLFdOf"
   },
   "source": [
    "### Boas Práticas \n",
    "1. **Use Objetos Imutáveis para Valores Padrão**:  \n",
    "   ```python\n",
    "   # Recomendado\n",
    "   def calcular(a, b, casas_decimais=2):\n",
    "       return round(a + b, casas_decimais)\n",
    "   ```\n",
    "\n",
    "2. **Documente Comportamentos Não Óbvios**:  \n",
    "   ```python\n",
    "   def processar_dados(dados, cache=None):\n",
    "       \"\"\"Se cache=None, um novo dicionário é criado a cada chamada.\"\"\"\n",
    "       if cache is None:\n",
    "           cache = {}\n",
    "       # ... lógica ...\n",
    "   ```\n",
    "\n",
    "3. **Evite Armadilhas com Múltiplos Parâmetros Mutáveis**:  \n",
    "   ```python\n",
    "   # Perigoso!\n",
    "   def exemplo(a, b=10, c=[]):\n",
    "       ...\n",
    "\n",
    "   # Seguro\n",
    "   def exemplo(a, b=10, c=None):\n",
    "       c = [] if c is None else c\n",
    "   ```\n"
   ]
  },
  {
   "cell_type": "markdown",
   "metadata": {
    "id": "GVx1s478FjB3"
   },
   "source": [
    "**Exercício 5:**  \n",
    "\n",
    "Escreva uma função `contador_letras(palavra, letras=None)` que conte as letras especificadas em `palavra`. Se `letras=None`, conte todas as letras.  \n"
   ]
  },
  {
   "cell_type": "markdown",
   "metadata": {
    "id": "4GTX3aFQ9MQO"
   },
   "source": [
    "### Listas \n",
    "As listas são estruturas de dados versáteis e mutáveis, essenciais para armazenar coleções ordenadas de elementos. Dominar seus métodos é crucial para manipulação eficiente de dados. Vamos explorar cada método com exemplos práticos e detalhes técnicos.\n"
   ]
  },
  {
   "cell_type": "markdown",
   "metadata": {
    "id": "azKwcZJ_H6kb"
   },
   "source": [
    "####  Métodos Principais de Listas \n",
    "1. **`list.append(x)`**  \n",
    "   Adiciona um elemento `x` ao final da lista.  \n",
    "   ```python\n",
    "   numeros = [1, 2, 3]\n",
    "   numeros.append(4)  # [1, 2, 3, 4]\n",
    "   ```\n",
    "\n",
    "2. **`list.extend(L)`**  \n",
    "   Adiciona todos os elementos de uma lista `L` ao final.  \n",
    "   ```python\n",
    "   lista1 = [1, 2]\n",
    "   lista2 = [3, 4]\n",
    "   lista1.extend(lista2)  # [1, 2, 3, 4]\n",
    "   ```\n",
    "\n",
    "3. **`list.insert(i, x)`**  \n",
    "   Insere `x` na posição `i` (desloca elementos à direita).  \n",
    "   ```python\n",
    "   letras = ['a', 'c']\n",
    "   letras.insert(1, 'b')  # ['a', 'b', 'c']\n",
    "   ```\n",
    "\n",
    "4. **`list.remove(x)`**  \n",
    "   Remove a primeira ocorrência de `x`. Gera `ValueError` se não encontrado.  \n",
    "   ```python\n",
    "   palavras = ['foo', 'bar', 'baz']\n",
    "   palavras.remove('bar')  # ['foo', 'baz']\n",
    "   ```\n",
    "\n",
    "5. **`list.pop([i])`**  \n",
    "   Remove e retorna o elemento na posição `i` (ou o último, se `i` não for fornecido).  \n",
    "   ```python\n",
    "   stack = [10, 20, 30]\n",
    "   ultimo = stack.pop()  # ultimo = 30, stack = [10, 20]\n",
    "   segundo = stack.pop(0)  # segundo = 10, stack = [20]\n",
    "   ```\n",
    "\n",
    "6. **`list.index(x)`**  \n",
    "   Retorna o índice da primeira ocorrência de `x`. Gera `ValueError` se ausente.  \n",
    "   ```python\n",
    "   cores = ['red', 'green', 'blue']\n",
    "   idx = cores.index('green')  # idx = 1\n",
    "   ```\n",
    "\n",
    "7. **`list.count(x)`**  \n",
    "   Conta o número de ocorrências de `x`.  \n",
    "   ```python\n",
    "   valores = [5, 2, 5, 3, 5]\n",
    "   contagem = valores.count(5)  # contagem = 3\n",
    "   ```\n",
    "\n",
    "8. **`list.sort()`**  \n",
    "   Ordena a lista in-place (suporta parâmetros `key` e `reverse`).  \n",
    "   ```python\n",
    "   numeros = [3, 1, 4, 1, 5]\n",
    "   numeros.sort()  # [1, 1, 3, 4, 5]\n",
    "   numeros.sort(reverse=True)  # [5, 4, 3, 1, 1]\n",
    "   ```\n",
    "\n",
    "9. **`list.reverse()`**  \n",
    "   Inverte a ordem dos elementos in-place.  \n",
    "   ```python\n",
    "   letras = ['a', 'b', 'c']\n",
    "   letras.reverse()  # ['c', 'b', 'a']\n",
    "   ```\n"
   ]
  },
  {
   "cell_type": "markdown",
   "metadata": {
    "id": "rdEGJJ1uIAWq"
   },
   "source": [
    "**Exemplo 10:** \n",
    "\n"
   ]
  },
  {
   "cell_type": "code",
   "execution_count": 80,
   "metadata": {},
   "outputs": [
    {
     "name": "stdout",
     "output_type": "stream",
     "text": [
      "2 1 0\n",
      "1\n",
      "[-1, 1, 66.25, 333, 333, 1234.5]\n"
     ]
    }
   ],
   "source": [
    "a = [66.25, 333, 333, 1, 1234.5]\n",
    "print(a.count(333), a.count(66.25), a.count('x'))  # 2 1 0\n",
    "a.insert(2, -1)  # [66.25, 333, -1, 333, 1, 1234.5]\n",
    "a.append(333)     # [66.25, 333, -1, 333, 1, 1234.5, 333]\n",
    "print(a.index(333))  # 1\n",
    "a.remove(333)     # Remove a primeira ocorrência: [66.25, -1, 333, 1, 1234.5, 333]\n",
    "a.reverse()        # [333, 1234.5, 1, 333, -1, 66.25]\n",
    "a.sort()           # [-1, 1, 66.25, 333, 333, 1234.5]\n",
    "print(a)"
   ]
  },
  {
   "cell_type": "markdown",
   "metadata": {
    "id": "h4cknJYrIEEY"
   },
   "source": [
    "#### Boas Práticas e Armadilhas\n",
    "- **Cuidado com Métodos In-Place**:  \n",
    "  Métodos como `sort()` e `reverse()` modificam a lista original. Use `sorted(lista)` para criar uma nova lista ordenada.  \n",
    "\n",
    "- **Eficiência de Operações**:  \n",
    "  - `append()` e `pop()` no final são O(1).  \n",
    "  - `insert(0, x)` e `pop(0)` são O(n) (evite para listas grandes).  \n",
    "\n",
    "- **Comparação com `+`**:  \n",
    "  `lista1 + lista2` cria uma nova lista, enquanto `extend()` modifica a original."
   ]
  },
  {
   "cell_type": "markdown",
   "metadata": {
    "id": "RAcwPJq1IHHS"
   },
   "source": [
    "**Exercício 6:**  \n",
    "Escreva uma função `remover_duplicados(lista)` que retorne uma nova lista sem elementos repetidos, mantendo a ordem original.  \n",
    "- Entrada: `[1, 2, 2, 3, 4, 4, 5]`  \n",
    "- Saída: `[1, 2, 3, 4, 5]`  \n"
   ]
  },
  {
   "cell_type": "markdown",
   "metadata": {
    "id": "e4UQg4Ix9MQO"
   },
   "source": [
    "### **Uso da Lista como uma Pilha**  \n",
    "As listas em Python são estruturas versáteis que podem simular o comportamento de uma **pilha** (LIFO: *Last-In, First-Out*), onde o último elemento adicionado é o primeiro a ser removido. Essa abordagem é eficiente e intuitiva graças aos métodos `append()` e `pop()`, que operam no final da lista em tempo constante $O(1)$.\n"
   ]
  },
  {
   "cell_type": "markdown",
   "metadata": {
    "id": "opE2pGX-JDjx"
   },
   "source": [
    "#### **Operações Básicas de uma Pilha**  \n",
    "1. **Push (Empilhar)**: Adiciona um elemento ao topo da pilha.  \n",
    "   ```python\n",
    "   stack = []\n",
    "   stack.append(10)  # Pilha: [10]\n",
    "   stack.append(20)  # Pilha: [10, 20]\n",
    "   ```  \n",
    "\n",
    "2. **Pop (Desempilhar)**: Remove e retorna o elemento do topo.  \n",
    "   ```python\n",
    "   ultimo = stack.pop()  # ultimo = 20 → Pilha: [10]\n",
    "   ```  \n",
    "\n",
    "3. **Peek (Observar Topo)**: Acessar o último elemento sem remover.  \n",
    "   ```python\n",
    "   topo = stack[-1]  # topo = 10 (pilha permanece inalterada)\n",
    "   ```  "
   ]
  },
  {
   "cell_type": "markdown",
   "metadata": {
    "id": "Pv8xplTZJPhy"
   },
   "source": [
    "**Exemplo 11:**  \n"
   ]
  },
  {
   "cell_type": "code",
   "execution_count": 81,
   "metadata": {},
   "outputs": [
    {
     "name": "stdout",
     "output_type": "stream",
     "text": [
      "Pilha inicial: ['salvar', 'abrir']\n",
      "Após empilhar: ['salvar', 'abrir', 'editar', 'copiar']\n",
      "Ação revertida: copiar\n",
      "Pilha atualizada: ['salvar', 'abrir', 'editar']\n"
     ]
    }
   ],
   "source": [
    "# Inicialização\n",
    "historico_acoes = ['salvar', 'abrir']\n",
    "print(\"Pilha inicial:\", historico_acoes)  # ['salvar', 'abrir']\n",
    "\n",
    "# Adicionando ações (push)\n",
    "historico_acoes.append('editar')\n",
    "historico_acoes.append('copiar')\n",
    "print(\"Após empilhar:\", historico_acoes)  # ['salvar', 'abrir', 'editar', 'copiar']\n",
    "\n",
    "# Desfazendo ações (pop)\n",
    "acao_revertida = historico_acoes.pop()  # Remove 'copiar'\n",
    "print(\"Ação revertida:\", acao_revertida)  # 'copiar'\n",
    "print(\"Pilha atualizada:\", historico_acoes)  # ['salvar', 'abrir', 'editar']"
   ]
  },
  {
   "cell_type": "markdown",
   "metadata": {
    "id": "6KiqVFMXJTe5"
   },
   "source": [
    "#### **Aplicações Comuns**  \n",
    "1. **Undo/Redo em Editores**:  \n",
    "   Cada ação do usuário é empilhada. O \"desfazer\" (`pop()`) reverte a última ação.  \n",
    "\n",
    "2. **Verificação de Parênteses Balanceados**:  \n",
    "   ```python\n",
    "   def verificar_parenteses(expressao):\n",
    "       pilha = []\n",
    "       for char in expressao:\n",
    "           if char == '(':\n",
    "               pilha.append(char)\n",
    "           elif char == ')':\n",
    "               if not pilha:\n",
    "                   return False\n",
    "               pilha.pop()\n",
    "       return len(pilha) == 0\n",
    "\n",
    "   print(verificar_parenteses(\"(()))\"))  # False (desequilibrado)\n",
    "   print(verificar_parenteses(\"((()))\"))  # True (balanceado)\n",
    "   ```  \n",
    "\n",
    "3. **Avaliação de Expressões Pós-fixadas**:  \n",
    "   Algoritmos como o de avaliação de notação polonesa reversa usam pilhas para cálculos.  \n"
   ]
  },
  {
   "cell_type": "markdown",
   "metadata": {
    "id": "J7itoVoSJZNp"
   },
   "source": [
    "#### **Considerações de Eficiência**  \n",
    "- **`append()` e `pop()`**: Operações $O(1)$ (tempo constante).  \n",
    "- **Evite `pop(0)` ou `insert(0, x)`**: Remover ou adicionar no início da lista é $O(n)$, ineficiente para pilhas.  \n"
   ]
  },
  {
   "cell_type": "markdown",
   "metadata": {
    "id": "dJiUDSFFJcOl"
   },
   "source": [
    "**Boas Práticas**  \n",
    "- **Verifique se a Pilha está Vazia Antes de `pop()`**:  \n",
    "  ```python\n",
    "  if len(stack) > 0:\n",
    "      elemento = stack.pop()\n",
    "  else:\n",
    "      print(\"Pilha vazia!\")\n",
    "  ```  \n",
    "\n",
    "- **Use Coleções Especializadas para Casos Complexos**:  \n",
    "  Para filas (FIFO), prefira `deque` do módulo `collections`.  "
   ]
  },
  {
   "cell_type": "markdown",
   "metadata": {
    "id": "s2-0fBHyJjt6"
   },
   "source": [
    "**Exercício 7:**  \n",
    "Use uma pilha para inverter uma string:  "
   ]
  },
  {
   "cell_type": "markdown",
   "metadata": {
    "id": "RgOFyxE79MQO"
   },
   "source": [
    "### **Python: Usando Listas como Filas**  \n",
    "Embora listas possam simular filas (FIFO: *First-In, First-Out*), elas não são eficientes para esse propósito. Vamos explorar por que isso ocorre e como a estrutura `deque` do módulo `collections` resolve o problema, oferecendo operações otimizadas."
   ]
  },
  {
   "cell_type": "markdown",
   "metadata": {
    "id": "5FOeNXMmLDYX"
   },
   "source": [
    "Filas exigem duas operações principais:  \n",
    "- **Enfileirar (enqueue)**: Adicionar elementos no final.  \n",
    "- **Desenfileirar (dequeue)**: Remover elementos do início.  "
   ]
  },
  {
   "cell_type": "markdown",
   "metadata": {},
   "source": [
    "Usando listas:  "
   ]
  },
  {
   "cell_type": "code",
   "execution_count": 82,
   "metadata": {},
   "outputs": [],
   "source": [
    "fila = [\"Ana\", \"Bruno\", \"Carlos\"]\n",
    "fila.append(\"Daniel\")  # Enfileirar → O(1)\n",
    "primeiro = fila.pop(0)  # Desenfileirar → O(n) (ineficiente para listas grandes!)"
   ]
  },
  {
   "cell_type": "markdown",
   "metadata": {
    "id": "5FOeNXMmLDYX"
   },
   "source": [
    " \n",
    "**Problema**: `pop(0)` desloca todos os elementos restantes uma posição à esquerda, tornando a operação lenta $O(n)$.  "
   ]
  },
  {
   "cell_type": "markdown",
   "metadata": {
    "id": "p1DPESrELGco"
   },
   "source": [
    "#### Introdução ao `deque`: Filas Eficientes \n",
    "A classe `deque` (double-ended queue) permite adições/remoções rápidas $O(1)$ em ambas as extremidades.  \n",
    "\n",
    "**Métodos Principais**:  \n",
    "- `append(x)`: Adiciona `x` ao final.  \n",
    "- `appendleft(x)`: Adiciona `x` ao início.  \n",
    "- `pop()`: Remove e retorna o último elemento.  \n",
    "- `popleft()`: Remove e retorna o primeiro elemento.  \n",
    "\n",
    "**Exemplo 12:**  \n",
    "```python\n",
    "from collections import deque\n",
    "\n",
    "fila = deque([\"Eric\", \"John\", \"Michael\"])\n",
    "fila.append(\"Terry\")    # Enfileirar: O(1)\n",
    "fila.append(\"Graham\")   # Enfileirar: O(1)\n",
    "\n",
    "# Desenfileirar: O(1)\n",
    "print(fila.popleft())   # Eric (primeiro a entrar)\n",
    "print(fila.popleft())   # John\n",
    "\n",
    "print(fila)  # deque(['Michael', 'Terry', 'Graham'])\n",
    "```"
   ]
  },
  {
   "cell_type": "markdown",
   "metadata": {
    "id": "KpNtaAjJLJ7F"
   },
   "source": [
    "#### Comparação de Desempenho: Lista vs Deque  \n",
    "Para ilustrar a diferença, vamos medir o tempo de processamento:  \n",
    "```python\n",
    "import time\n",
    "from collections import deque\n",
    "\n",
    "def testar_desempenho(estrutura, n=10**4):\n",
    "    inicio = time.time()\n",
    "    for i in range(n):\n",
    "        estrutura.append(i)\n",
    "    for i in range(n):\n",
    "        estrutura.pop(0) if isinstance(estrutura, list) else estrutura.popleft()\n",
    "    return time.time() - inicio\n",
    "\n",
    "# Teste com lista\n",
    "tempo_lista = testar_desempenho([])\n",
    "# Teste com deque\n",
    "tempo_deque = testar_desempenho(deque())\n",
    "\n",
    "print(f\"Lista: {tempo_lista:.5f} segundos\")\n",
    "print(f\"Deque: {tempo_deque:.5f} segundos\")\n",
    "```  \n",
    "**Saída Típica**:  \n",
    "```\n",
    "Lista: 0.250 segundos  \n",
    "Deque: 0.005 segundos  \n",
    "```  \n"
   ]
  },
  {
   "cell_type": "markdown",
   "metadata": {
    "id": "7viNZDUDLNcf"
   },
   "source": [
    "#### Aplicações Comuns de Filas\n",
    "1. **Algoritmo BFS (Breadth-First Search)**:  \n",
    "   ```python\n",
    "   def bfs(grafo, inicio):\n",
    "       visitados = set()\n",
    "       fila = deque([inicio])\n",
    "       while fila:\n",
    "           vertice = fila.popleft()\n",
    "           if vertice not in visitados:\n",
    "               visitados.add(vertice)\n",
    "               print(vertice)\n",
    "               for vizinho in grafo[vertice]:\n",
    "                   fila.append(vizinho)\n",
    "   ```  \n",
    "\n",
    "2. **Sistemas de Task Scheduling**:  \n",
    "   ```python\n",
    "   tarefas = deque()\n",
    "   tarefas.append((\"backup\", \"dados.csv\"))\n",
    "   tarefas.append((\"enviar_email\", \"cliente@exemplo.com\"))\n",
    "\n",
    "   while tarefas:\n",
    "       acao, parametro = tarefas.popleft()\n",
    "       executar_tarefa(acao, parametro)\n",
    "   ```  \n"
   ]
  },
  {
   "cell_type": "markdown",
   "metadata": {
    "id": "WyLwnt8BLRju"
   },
   "source": [
    "#### Funcionalidades Avançadas do `deque` \n",
    "- **Tamanho Máximo (`maxlen`)**:  \n",
    "  Cria um deque de tamanho fixo, descartando elementos automaticamente quando cheio.  \n",
    "  ```python\n",
    "  historico = deque(maxlen=3)\n",
    "  historico.append(\"pagina1\")\n",
    "  historico.append(\"pagina2\")\n",
    "  historico.append(\"pagina3\")\n",
    "  historico.append(\"pagina4\")  # Remove \"pagina1\" automaticamente\n",
    "  print(historico)  # deque(['pagina2', 'pagina3', 'pagina4'], maxlen=3)\n",
    "  ```  \n",
    "\n",
    "- **Extensão com Múltiplos Elementos**:  \n",
    "  ```python\n",
    "  fila.extend([\"Laura\", \"Miguel\"])  # Adiciona ao final\n",
    "  fila.extendleft([\"Zara\"])         # Adiciona ao início (ordem invertida: [\"Zara\", ...])\n",
    "  ```  "
   ]
  },
  {
   "cell_type": "markdown",
   "metadata": {
    "id": "wT0ZwCBILVGK"
   },
   "source": [
    "**Quando Não Usar `deque`?**  \n",
    "- **Acesso Aleatório Frequente**: `deque` não é otimizado para acesso por índice (`fila[2]` é $O(n)$).  \n",
    "- **Operações no Meio da Estrutura**: Para inserções/remoções frequentes no meio, prefira listas ligadas ou estruturas especializadas.  \n"
   ]
  },
  {
   "cell_type": "markdown",
   "metadata": {
    "id": "foge5DJ_LXwO"
   },
   "source": []
  },
  {
   "cell_type": "markdown",
   "metadata": {
    "id": "tTQDsHaJ9MQO"
   },
   "source": [
    "### **Python: Listas em Compreensão**  \n",
    "As listas em compreensão (*list comprehensions*) são uma forma concisa, elegante e eficiente de criar listas em Python. Elas substituem loops tradicionais por uma sintaxe compacta, combinando iteração, filtragem e transformação de dados em uma única linha. Vamos explorar sua estrutura, aplicações e boas práticas."
   ]
  },
  {
   "cell_type": "markdown",
   "metadata": {
    "id": "Mdxju65pMhb0"
   },
   "source": [
    "#### Sintaxe Básica\n",
    "A estrutura geral é:  \n",
    "```python\n",
    "[expressão for item in iterável if condição]\n",
    "```  \n",
    "- **expressão**: Operação aplicada a cada elemento.  \n",
    "- **for item in iterável**: Loop sobre um iterável (lista, string, range, etc.).  \n",
    "- **if condição** (opcional): Filtra elementos que satisfazem a condição.  \n",
    "\n",
    "**Exemplo 13:**:  \n",
    "```python\n",
    "quadrados = [x**2 for x in range(10)]  # [0, 1, 4, ..., 81]\n",
    "```\n"
   ]
  },
  {
   "cell_type": "markdown",
   "metadata": {
    "id": "lfBM9QdSMkMY"
   },
   "source": [
    "#### Filtragem de Elementos\n",
    "Use `if` para incluir apenas elementos que atendam a critérios:  \n",
    "```python\n",
    "numeros = [-4, -2, 0, 2, 4]\n",
    "positivos = [x for x in numeros if x > 0]  # [2, 4]\n",
    "```"
   ]
  },
  {
   "cell_type": "markdown",
   "metadata": {
    "id": "TbP3cInoMm0u"
   },
   "source": [
    "#### Expressões Complexas e Funções \n",
    "A expressão pode envolver funções, métodos ou operações complexas:  \n",
    "```python\n",
    "# Arredondar π para 1 a 5 casas decimais\n",
    "from math import pi\n",
    "arredondamentos = [str(round(pi, i)) for i in range(1, 6)]  # ['3.1', '3.14', ..., '3.14159']\n",
    "\n",
    "# Limpar espaços em strings\n",
    "frutas = ['  banana', '  loganberry ', 'passion fruit  ']\n",
    "limpas = [fruta.strip() for fruta in frutas]  # ['banana', 'loganberry', 'passion fruit']\n",
    "```"
   ]
  },
  {
   "cell_type": "markdown",
   "metadata": {
    "id": "pmBZQF9xMp77"
   },
   "source": [
    "#### Múltiplos Loops e Condições \n",
    "É possível aninhar loops e combinar múltiplas condições:  \n",
    "```python\n",
    "# Combinações de elementos onde x ≠ y\n",
    "combinacoes = [(x, y) for x in [1, 2, 3] for y in [3, 1, 4] if x != y]\n",
    "# Resultado: [(1,3), (1,4), (2,3), ..., (3,4)]\n",
    "\n",
    "# Equivalente em loops tradicionais:\n",
    "combinacoes = []\n",
    "for x in [1, 2, 3]:\n",
    "    for y in [3, 1, 4]:\n",
    "        if x != y:\n",
    "            combinacoes.append((x, y))\n",
    "```\n"
   ]
  },
  {
   "cell_type": "markdown",
   "metadata": {
    "id": "rKqtCbQVMsz1"
   },
   "source": [
    "#### Achatamento de Listas\n",
    "Use listas em compreensão para simplificar listas de listas:  \n",
    "```python\n",
    "matriz = [[1, 2, 3], [4, 5, 6], [7, 8, 9]]\n",
    "achatada = [num for linha in matriz for num in linha]  # [1, 2, 3, 4, ..., 9]\n",
    "```\n"
   ]
  },
  {
   "cell_type": "markdown",
   "metadata": {
    "id": "DCp5UlEuMuyE"
   },
   "source": [
    "#### Condicionais Ternários  \n",
    "Incorpore lógica condicional diretamente na expressão:  \n",
    "```python\n",
    "# Substitui negativos por zero\n",
    "numeros = [-4, -2, 0, 2, 4]\n",
    "ajustados = [x if x >= 0 else 0 for x in numeros]  # [0, 0, 0, 2, 4]\n",
    "```\n"
   ]
  },
  {
   "cell_type": "markdown",
   "metadata": {
    "id": "ZFvCAqQhMxfa"
   },
   "source": [
    "#### Listas Aninhadas \n",
    "Crie estruturas multidimensionais, como matrizes:  \n",
    "```python\n",
    "# Matriz 3x3 de zeros\n",
    "matriz = [[0 for _ in range(3)] for _ in range(3)]  # [[0,0,0], [0,0,0], [0,0,0]]\n",
    "\n",
    "# Transposição de matriz\n",
    "original = [[1, 2, 3], [4, 5, 6], [7, 8, 9]]\n",
    "transposta = [[linha[i] for linha in original] for i in range(3)]  # [[1,4,7], [2,5,8], [3,6,9]]\n",
    "```\n"
   ]
  },
  {
   "cell_type": "markdown",
   "metadata": {
    "id": "CLxKuCMWMz0M"
   },
   "source": [
    "#### Comparação com `map()` e `filter()`\n",
    "Listas em compreensão geralmente são mais legíveis que `map/filter`:  \n",
    "```python\n",
    "# Usando map e filter\n",
    "quadrados_pares = list(map(lambda x: x**2, filter(lambda x: x % 2 == 0, range(10))))\n",
    "\n",
    "# Equivalente com list comprehension\n",
    "quadrados_pares = [x**2 for x in range(10) if x % 2 == 0]  # [0, 4, 16, 36, 64]\n",
    "```\n"
   ]
  },
  {
   "cell_type": "markdown",
   "metadata": {
    "id": "nEO8O1jhM2LN"
   },
   "source": [
    "#### Boas Práticas e Armadilhas\n",
    "- **Legibilidade**: Evite compreensões muito longas (>2 loops ou condições).  \n",
    "- **Eficiência**: Prefira listas em compreensão a loops tradicionais para simplicidade e velocidade.  \n",
    "- **Erro Comum**: Esquecer parênteses em tuplas:  \n",
    "  ```python\n",
    "  # Errado: [x, x**2 for x in range(6)] → SyntaxError\n",
    "  # Correto: [(x, x**2) for x in range(6)]\n",
    "  ```"
   ]
  },
  {
   "cell_type": "markdown",
   "metadata": {
    "id": "DpftZXr1M4zg"
   },
   "source": [
    "#### Exercícios \n",
    "1. **Filtrar Palíndromos**:  \n",
    "   ```python\n",
    "   palavras = [\"radar\", \"python\", \"ovo\", \"sol\"]\n",
    "   palindromos = [p for p in palavras if p == p[::-1]]  # ['radar', 'ovo']\n",
    "   ```  \n",
    "\n",
    "2. **Matriz de Multiplicação**:  \n",
    "   ```python\n",
    "   tabela = [[i * j for j in range(1, 6)] for i in range(1, 6)]  # Tabuada 5x5\n",
    "   ```  \n",
    "\n",
    "3. **Lista de Números Primos**:  \n",
    "   ```python\n",
    "   primos = [x for x in range(2, 30) if all(x % y != 0 for y in range(2, int(x**0.5)+1))]\n",
    "   # [2, 3, 5, 7, 11, 13, 17, 19, 23, 29]\n",
    "   ```\n"
   ]
  },
  {
   "cell_type": "markdown",
   "metadata": {
    "id": "00OZmO419MQO"
   },
   "source": [
    "### Matrizes como Listas\n",
    "Em Python, matrizes são representadas como **listas de listas**, onde cada sublista corresponde a uma linha. Essa abordagem permite operações flexíveis e eficientes usando list comprehensions. Vamos explorar técnicas para manipulação de matrizes e resolver os exercícios propostos."
   ]
  },
  {
   "cell_type": "markdown",
   "metadata": {
    "id": "qF3WcKtYOSN_"
   },
   "source": [
    "#### Transposição de Matrizes \n",
    "A transposição troca linhas por colunas. Veja três formas equivalentes de transpor uma matriz 3x4:  \n",
    "\n",
    "**Usando List Comprehensions Aninhadas**:  \n",
    " "
   ]
  },
  {
   "cell_type": "code",
   "execution_count": 83,
   "metadata": {},
   "outputs": [
    {
     "name": "stdout",
     "output_type": "stream",
     "text": [
      "[[1, 5, 9], [2, 6, 10], [3, 7, 11], [4, 8, 12]]\n"
     ]
    }
   ],
   "source": [
    "matrix = [\n",
    "    [1, 2, 3, 4],\n",
    "    [5, 6, 7, 8],\n",
    "    [9, 10, 11, 12]\n",
    "]\n",
    "\n",
    "transposta = [[linha[i] for linha in matrix] for i in range(4)]\n",
    "print(transposta)"
   ]
  },
  {
   "cell_type": "markdown",
   "metadata": {
    "id": "qF3WcKtYOSN_"
   },
   "source": [
    "**Usando Loops Tradicionais**:  \n"
   ]
  },
  {
   "cell_type": "code",
   "execution_count": 84,
   "metadata": {},
   "outputs": [
    {
     "name": "stdout",
     "output_type": "stream",
     "text": [
      "[[1, 5, 9], [2, 6, 10], [3, 7, 11], [4, 8, 12]]\n"
     ]
    }
   ],
   "source": [
    "transposta = []\n",
    "for i in range(4):\n",
    "    transposta.append([linha[i] for linha in matrix])\n",
    "print(transposta)"
   ]
  },
  {
   "cell_type": "markdown",
   "metadata": {
    "id": "qF3WcKtYOSN_"
   },
   "source": [
    "**Versão Expandida com Loops Aninhados**:  \n"
   ]
  },
  {
   "cell_type": "code",
   "execution_count": 85,
   "metadata": {},
   "outputs": [
    {
     "name": "stdout",
     "output_type": "stream",
     "text": [
      "[[1, 5, 9], [2, 6, 10], [3, 7, 11], [4, 8, 12]]\n"
     ]
    }
   ],
   "source": [
    "transposta = []\n",
    "for i in range(4):\n",
    "    linha_transposta = []\n",
    "    for linha in matrix:\n",
    "        linha_transposta.append(linha[i])\n",
    "    transposta.append(linha_transposta)\n",
    "print(transposta)"
   ]
  },
  {
   "cell_type": "code",
   "execution_count": null,
   "metadata": {},
   "outputs": [],
   "source": []
  },
  {
   "cell_type": "markdown",
   "metadata": {
    "id": "QW9Kjw-eOVE7"
   },
   "source": [
    "**Exemplos** \n",
    "\n",
    "1- Matriz Nula  \n",
    "Cria uma matriz quadrada $ n \\times n $ com todos os elementos iguais a $0$.  \n",
    "```python\n",
    "def nul(n):\n",
    "    return [[0 for _ in range(n)] for _ in range(n)]\n",
    "\n",
    "# Exemplo (n=3):\n",
    "# [[0, 0, 0],\n",
    "#  [0, 0, 0],\n",
    "#  [0, 0, 0]]\n",
    "```  \n",
    "\n",
    "2- Matriz Identidade \n",
    "Cria uma matriz identidade $ n \\times n $ (1s na diagonal, 0s fora).  \n",
    "```python\n",
    "def Id(n):\n",
    "    return [[1 if i == j else 0 for j in range(n)] for i in range(n)]\n",
    "\n",
    "# Exemplo (n=3):\n",
    "# [[1, 0, 0],\n",
    "#  [0, 1, 0],\n",
    "#  [0, 0, 1]]\n",
    "```  \n",
    "\n",
    "3- Matriz de Lagrange \n",
    "Cria uma matriz $ n \\times n $ onde $ a_{ij} = i + j + 2 $ (índices começando em 0).  \n",
    "```python\n",
    "def Lagrange(n):\n",
    "    return [[i + j + 2 for j in range(n)] for i in range(n)]\n",
    "\n",
    "# Exemplo (n=2):\n",
    "# [[2, 3],\n",
    "#  [3, 4]]\n",
    "```  \n"
   ]
  },
  {
   "cell_type": "markdown",
   "metadata": {
    "id": "7Gi9HPiTObOO"
   },
   "source": [
    "**Comparação de Desempenho**  \n",
    "List comprehensions são geralmente mais eficientes que loops tradicionais:  \n",
    "\n",
    "| Método               | Tempo (n=1000) |  \n",
    "|----------------------|----------------|  \n",
    "| Loops Tradicionais   | ~120 ms        |  \n",
    "| List Comprehensions  | ~80 ms         |  \n"
   ]
  },
  {
   "cell_type": "markdown",
   "metadata": {
    "id": "1S3nw55EPGWC"
   },
   "source": [
    "## Tuplos  \n",
    "Os tuplos (*tuples*) são estruturas de dados imutáveis e ordenadas, ideais para armazenar coleções heterogêneas de elementos. Sua imutabilidade os torna seguros para uso em cenários onde a integridade dos dados deve ser preservada. Vamos explorar suas características, diferenças em relação às listas, e resolver os exercícios propostos.\n"
   ]
  },
  {
   "cell_type": "markdown",
   "metadata": {
    "id": "TX-xK_voPnmQ"
   },
   "source": [
    "**Características Principais**  \n",
    "- **Imutabilidade**: Não é possível alterar, adicionar ou remover elementos após a criação.  \n",
    "- **Sintaxe**: Definidos com `()` ou apenas separando elementos por vírgulas.  \n",
    "- **Heterogeneidade**: Podem conter elementos de tipos diferentes (inteiros, strings, listas, etc.).  \n",
    "\n",
    "**Exemplo 14:**  \n"
   ]
  },
  {
   "cell_type": "code",
   "execution_count": 86,
   "metadata": {},
   "outputs": [
    {
     "name": "stdout",
     "output_type": "stream",
     "text": [
      "12345\n",
      "(12345, 54321, 'hello!')\n",
      "((12345, 54321, 'hello!'), (1, 2, 3))\n",
      "([1, 2, 3], [3, 4])\n"
     ]
    }
   ],
   "source": [
    "t = 12345, 54321, 'hello!'  # Empacotamento\n",
    "print(t[0])  # 12345\n",
    "print(t)     # (12345, 54321, 'hello!')\n",
    "\n",
    "u = t, (1, 2, 3)  # Tuplos aninhados\n",
    "print(u)  # ((12345, 54321, 'hello!'), (1, 2, 3))\n",
    "\n",
    "v = ([1, 2], [3, 4])  # Tuplo com listas (mutáveis)\n",
    "v[0].append(3)  # Permitido: listas internas são mutáveis\n",
    "print(v)  # ([1, 2, 3], [3, 4])"
   ]
  },
  {
   "cell_type": "markdown",
   "metadata": {
    "id": "Gj8nVZcVPqmO"
   },
   "source": [
    "**Quando Usar Tuplos vs Listas**  \n",
    "| **Tuplos**                          | **Listas**                          |  \n",
    "|-------------------------------------|-------------------------------------|  \n",
    "| Imutáveis                           | Mutáveis                            |  \n",
    "| Uso para dados heterogêneos         | Uso para dados homogêneos           |  \n",
    "| Chaves em dicionários               | Não podem ser chaves de dicionários |  \n",
    "| Retorno de múltiplos valores        | Coleções dinâmicas                  |  \n",
    "\n",
    "**Exemplo 15:** Retorno de Função\n"
   ]
  },
  {
   "cell_type": "code",
   "execution_count": 87,
   "metadata": {},
   "outputs": [],
   "source": [
    "def estatisticas(numeros):\n",
    "    return min(numeros), max(numeros), sum(numeros)/len(numeros)\n",
    "\n",
    "minimo, maximo, media = estatisticas([5, 2, 9])  # Desempacotamento"
   ]
  },
  {
   "cell_type": "markdown",
   "metadata": {
    "id": "OrG2u-j0PuAI"
   },
   "source": [
    "### Empacotamento e Desempacotamento\n",
    "- **Empacotamento**: Criar um tuplo a partir de valores separados.  \n",
    "- **Desempacotamento**: Atribuir elementos de um tuplo a variáveis.  \n",
    "\n",
    "**Exemplo 16**:  \n"
   ]
  },
  {
   "cell_type": "code",
   "execution_count": 88,
   "metadata": {},
   "outputs": [],
   "source": [
    "coordenadas = (3, 5)  # Empacotamento\n",
    "x, y = coordenadas    # Desempacotamento: x=3, y=5\n",
    "\n",
    "# Troca de valores sem variável temporária\n",
    "a, b = 10, 20\n",
    "a, b = b, a  # a=20, b=10"
   ]
  },
  {
   "cell_type": "markdown",
   "metadata": {
    "id": "wpIsaTZgPxsP"
   },
   "source": [
    "**Exercício 8:** Função `Rec(m)` \n",
    "Gera os primeiros `m` termos da sequência definida por:  \n",
    "- $ a_0 = 1 $,  \n",
    "- $ a_1 = 2 $,  \n",
    "- $ a_{n+1} = a_n - a_{n-1} $.  \n",
    "\n",
    "**Exercício 9:** Triplas Pitagóricas \n",
    "Encontre todas as triplas $ (x, y, z) $ com $ x, y, z < 100 $ e $ x^2 + y^2 = z^2 $.  \n",
    "\n",
    "**Exercício 10:** Triplas com Desigualdades \n",
    "Encontre todas as triplas $ (x, y, z) $ com $ -100 < x, y, z < 100 $, satisfazendo:  \n",
    "- $ x^2 - y^2 \\leq 1 $,  \n",
    "- $ y^2 - z^2 \\leq 1 $,  \n",
    "- $ x^2 - z^2 > 1 $.  \n"
   ]
  },
  {
   "cell_type": "markdown",
   "metadata": {
    "id": "bL8e899rQ7F0"
   },
   "source": [
    "## Conjuntos  \n",
    "Conjuntos (*sets*) são coleções não ordenadas de elementos únicos, ideais para operações matemáticas como uniões, interseções e diferenças. Sua implementação em Python é altamente otimizada, oferecendo operações de pertinência e modificação em tempo constante $O(1)$ na maioria dos casos. Vamos explorar suas funcionalidades, métodos avançados e aplicações práticas.\n"
   ]
  },
  {
   "cell_type": "markdown",
   "metadata": {
    "id": "4cEju8zoRXVi"
   },
   "source": [
    "**Operações Básicas e Métodos**  \n",
    "- **Criação**:  \n",
    "  ```python\n",
    "  A = {2, 3, 4, 5}           # Conjunto explícito\n",
    "  B = set([3, 4, 5, 6])      # Conversão de lista\n",
    "  vazio = set()               # Conjunto vazio (não use {})\n",
    "  ```  \n",
    "\n",
    "- **Adição e Remoção**:  \n",
    "  ```python\n",
    "  A.add(7)                    # Adiciona 7 → {2, 3, 4, 5, 7}\n",
    "  A.remove(2)                 # Remove 2 → Gera KeyError se ausente\n",
    "  A.discard(10)               # Remove 10 sem erro se não existir\n",
    "  elemento = A.pop()          # Remove e retorna um elemento arbitrário\n",
    "  ```  \n",
    "\n",
    "- **Verificação de Pertinência**:  \n",
    "  ```python\n",
    "  print(3 in A)               # True\n",
    "  print(10 not in A)          # True\n",
    "  ```  \n"
   ]
  },
  {
   "cell_type": "markdown",
   "metadata": {
    "id": "DCRY0GKtRa7K"
   },
   "source": [
    "**Operações Matemáticas**  \n",
    "\n",
    "| **Operação**          | **Símbolo Matemático** | **Método Python**       | **Exemplo**                     |  \n",
    "|-----------------------|------------------------|-------------------------|----------------------------------|  \n",
    "| União                 | $A \\cup B$          | `A | B` ou `A.union(B)` | `{1,2} | {2,3} → {1,2,3}`       |  \n",
    "| Interseção            | $A \\cap B$           | `A & B` ou `A.intersection(B)` | `{1,2} & {2,3} → {2}` |  \n",
    "| Diferença             | $A - B$             | `A - B` ou `A.difference(B)` | `{1,2} - {2,3} → {1}`   |  \n",
    "| Diferença Simétrica   | $A \\Delta B$         | `A ^ B` ou `A.symmetric_difference(B)` | `{1,2} ^ {2,3} → {1,3}` |  \n"
   ]
  },
  {
   "cell_type": "markdown",
   "metadata": {
    "id": "7z9CDeJERd4B"
   },
   "source": [
    "**Exemplo 17:**  \n"
   ]
  },
  {
   "cell_type": "code",
   "execution_count": 89,
   "metadata": {},
   "outputs": [
    {
     "name": "stdout",
     "output_type": "stream",
     "text": [
      "{'r', 'b', 'd'}\n",
      "{'r', 'm', 'a', 'c', 'l', 'z', 'd', 'b'}\n",
      "{'c', 'a'}\n",
      "{'r', 'd', 'm', 'b', 'l', 'z'}\n"
     ]
    }
   ],
   "source": [
    "a = set('abracadabra')  # {'a', 'b', 'r', 'c', 'd'}\n",
    "b = set('alacazam')      # {'a', 'l', 'c', 'z', 'm'}\n",
    "\n",
    "print(a - b)  # {'r', 'd', 'b'}\n",
    "print(a | b)  # {'a', 'b', 'c', 'd', 'l', 'm', 'r', 'z'}\n",
    "print(a & b)  # {'a', 'c'}\n",
    "print(a ^ b)  # {'b', 'd', 'l', 'm', 'r', 'z'}\n"
   ]
  },
  {
   "cell_type": "markdown",
   "metadata": {
    "id": "h2U3-N00RiJi"
   },
   "source": [
    "### **Conjuntos em Compreensão**  \n",
    "Assim como listas, conjuntos podem ser definidos via compreensão:  \n",
    "```python\n",
    "# Números pares entre 0 e 99 não divisíveis por 3\n",
    "T = {x for x in range(100) if x % 2 == 0 and x % 3 != 0}\n",
    "# Resultado: {2, 4, 8, 10, ..., 98}\n",
    "\n",
    "# Letras únicas excluindo 'a', 'b', 'c'\n",
    "letras_filtradas = {c for c in 'abracadabra' if c not in 'abc'}  # {'d', 'r'}\n",
    "```  "
   ]
  },
  {
   "cell_type": "markdown",
   "metadata": {
    "id": "TnPqh-qYRlFC"
   },
   "source": [
    "### **Relações Binárias e Composição**  \n",
    "Uma relação binária \\(R\\) em um conjunto \\(A\\) pode ser representada como um conjunto de pares ordenados.  \n",
    "\n",
    "- **Domínio de uma Relação**:  \n",
    "  ```python\n",
    "  def dom(R):\n",
    "      return {x for (x, y) in R}\n",
    "\n",
    "  R = {(3,3), (4,5), (7,7)}\n",
    "  print(dom(R))  # {3, 4, 7}\n",
    "  ```  \n",
    "\n",
    "- **Composição de Relações (\\(S \\circ R\\))**:  \n",
    "  ```python\n",
    "  def composicao(S, R):\n",
    "      return {(a, c) for (a, b) in R for (d, c) in S if b == d}\n",
    "\n",
    "  R = {(1, 2), (2, 3)}\n",
    "  S = {(2, 4), (3, 5)}\n",
    "  print(composicao(S, R))  # {(1, 4), (2, 5)}\n",
    "  ```  "
   ]
  },
  {
   "cell_type": "markdown",
   "metadata": {
    "id": "wj4aEPudRoDb"
   },
   "source": [
    "### **Fecho Transitivo**  \n",
    "O fecho transitivo de uma relação \\(R\\) inclui todos os pares \\((a, b)\\) onde existe um caminho de \\(a\\) para \\(b\\) via \\(R\\).  \n",
    "\n",
    "**Implementação**:  \n",
    "```python\n",
    "def fecho_transitivo(R):\n",
    "    fecho = set(R)\n",
    "    while True:\n",
    "        novo = composicao(fecho, R)\n",
    "        if novo.issubset(fecho):\n",
    "            break\n",
    "        fecho |= novo  # União\n",
    "    return fecho\n",
    "\n",
    "R = {(1, 2), (2, 3)}\n",
    "print(fecho_transitivo(R))  # {(1, 2), (2, 3), (1, 3)}\n",
    "```  \n"
   ]
  },
  {
   "cell_type": "markdown",
   "metadata": {
    "id": "HYHz9iizRrDh"
   },
   "source": [
    "### **Aplicações Práticas**  \n",
    "1. **Remoção de Duplicatas**:  \n",
    "   ```python\n",
    "   lista = ['apple', 'orange', 'apple', 'pear']\n",
    "   frutas_unicas = set(lista)  # {'apple', 'orange', 'pear'}\n",
    "   ```  \n",
    "\n",
    "2. **Comparação de Conjuntos de Dados**:  \n",
    "   ```python\n",
    "   usuarios_ontem = {'Ana', 'Bruno', 'Carlos'}\n",
    "   usuarios_hoje = {'Bruno', 'Daniel', 'Eva'}\n",
    "   novos_usuarios = usuarios_hoje - usuarios_ontem  # {'Daniel', 'Eva'}\n",
    "   ```  \n",
    "\n",
    "3. **Verificação de Cobertura**:  \n",
    "   ```python\n",
    "   requisitos = {'Python', 'SQL', 'Git'}\n",
    "   habilidades = {'Python', 'Java', 'Git'}\n",
    "   falta = requisitos - habilidades  # {'SQL'}\n",
    "   ```  \n"
   ]
  },
  {
   "cell_type": "markdown",
   "metadata": {
    "id": "kl6CdEfYRuE6"
   },
   "source": [
    "\n",
    "**Considerações de Desempenho**  \n",
    "- **Pertinência**: `elemento in conjunto` é $O(1)$, enquanto em listas é $n$.  \n",
    "- **Operações de Conjunto**: União, interseção e diferença são otimizadas para conjuntos grandes.  "
   ]
  },
  {
   "cell_type": "markdown",
   "metadata": {
    "id": "eixsKfKD9MQP"
   },
   "source": [
    "\n",
    "## Exercícios\n",
    "\n",
    "1. **Crie uma função booleana `sim(set, set) -> bool`**  \n",
    "   Usando um ciclo `for`, devolva `True` se o primeiro conjunto está contido no segundo.\n",
    "\n",
    "2. **Defina `Prim(int) -> set`**  \n",
    "   Uma função que devolve o conjunto dos primeiros `m` números primos.\n",
    "\n",
    "3. **Determine o conjunto de tuplos `(x, y)`**  \n",
    "   Com `x, y ∈ ℕ` e menores que 100, tais que:\n",
    "   \n",
    "   $$\n",
    "   x^2 + y^2 < 5^2.\n",
    "   $$\n",
    "\n",
    "5. **Determine o conjunto de tuplos `(x, y, z)`**  \n",
    "   Com `x, y, z ∈ ℤ`, maiores que -100 e menores que 100, tais que:  \n",
    "\n",
    "   $$\n",
    "   x^2 + y^2 \\leq 1 \\wedge y^2 + z^2 \\leq 1 \\wedge x^2 + z^2 > 1.\n",
    "   $$\n",
    "\n",
    "7. **Crie uma função `Val(set, int) -> set`**  \n",
    "   Para uma relação `R` definida em `range(n)` e um inteiro `x`, retorne o conjunto:  \n",
    "\n",
    "   $$\n",
    "   \\{a : xRa\\}.\n",
    "   $$\n",
    "\n",
    "9. **Crie uma função `InVal(set, int) -> set`**  \n",
    "   Para uma relação `R` definida em `range(n)` e um inteiro `x`, retorne o conjunto:  \n",
    "\n",
    "   $$\n",
    "   \\{a : aRx\\}.\n",
    "   $$\n",
    "\n",
    "11. **Crie uma função `InVal(set, set) -> set`**  \n",
    "   Para uma relação `R` definida em `range(n)` e um subconjunto `A ⊆ range(n)`, retorne:  \n",
    "\n",
    "$$\n",
    "\\{a : aRx \\wedge x \\in A\\}.\n",
    "$$\n",
    "\n",
    "13. **Implemente funções para uma relação binária `R` em um conjunto `A`:**  \n",
    "   1. **`Im(set) -> set`**  \n",
    "      Retorna a imagem de `R`:  \n",
    "\n",
    "      $$\n",
    "      Im(R) = \\{y : (x, y) \\in R\\}.\n",
    "      $$\n",
    "      \n",
    "   3. **`fim(set) -> set`**  \n",
    "      Retorna o conjunto:  \n",
    "\n",
    "      $$\n",
    "      \\{z : \\exists x, y \\text{ tal que } (x, y) \\in R \\wedge (y, z) \\in R\\}.\n",
    "      $$\n",
    "      \n",
    "   5. **`meio(set) -> set`**  \n",
    "      Retorna o conjunto:  \n",
    "\n",
    "      $$\n",
    "      \\{y : \\exists x, z \\text{ tal que } (x, y) \\in R \\wedge (y, z) \\in R\\}.\n",
    "      $$\n",
    "      \n",
    "   7. **`inicio(set) -> set`**  \n",
    "      Retorna o conjunto:  \n",
    "\n",
    "      $$\n",
    "      \\{x : \\exists y, z \\text{ tal que } (x, y) \\in R \\wedge (y, z) \\in R\\}.\n",
    "      $$\n",
    "      \n",
    "   9. **`unico(set) -> set`**  \n",
    "      Retorna o conjunto:  \n",
    "\n",
    "      $$\n",
    "      \\{x : \\exists! y \\text{ tal que } (x, y) \\in R\\}.\n",
    "      $$\n",
    "       \n",
    "      (Elementos `x` com exatamente um arco saindo no diagrama sagital de `R`.)\n"
   ]
  },
  {
   "cell_type": "markdown",
   "metadata": {
    "collapsed": true,
    "id": "ODW4P3ND9MQQ",
    "jupyter": {
     "outputs_hidden": true
    }
   },
   "source": [
    "## Referências\n",
    "\n",
    "1. **\"The Discrete Math Workbook: A Companion Manual Using Python\"**\n",
    "   - **Autores:** Sergei Kurgalin e Sergei Borzunov\n",
    "   - **Descrição:** Este guia prático introduz os fundamentos da matemática discreta através de um conjunto extensivo de problemas testados em sala de aula. Cada capítulo apresenta uma introdução concisa à teoria relevante, seguida por desafios comuns e métodos para os superar. Os leitores são incentivados a resolver uma variedade de questões e tarefas de diferentes níveis de complexidade, utilizando Python para implementar soluções.\n",
    "   - **Tópicos-chave:** Matemática discreta, resolução de problemas, implementação em Python.\n",
    "\n",
    "2. **\"Doing Math with Python: Use Programming to Explore Algebra, Statistics, Calculus, and More!\"**\n",
    "   - **Autor:** Amit Saha\n",
    "   - **Descrição:** Este livro mostra como utilizar Python para explorar tópicos matemáticos de nível secundário, como estatística, geometria, probabilidade e cálculo. Começa com projetos simples, como um programa de fatoração e um solucionador de equações quadráticas, avançando para projetos mais complexos. Inclui exercícios práticos e exemplos de código para reforçar os conceitos aprendidos. \n",
    "   - **Tópicos-chave:** Álgebra, estatística, cálculo, programação em Python.\n",
    "\n",
    "3. **\"Think Python: How to Think Like a Computer Scientist\"**\n",
    "   - **Autor:** Allen B. Downey\n",
    "   - **Descrição:** Este livro é uma introdução concisa ao design de software usando a linguagem de programação Python. Destina-se a pessoas sem experiência prévia em programação, começando com os conceitos mais básicos e avançando gradualmente. Alguns dos tópicos mais desafiadores, como recursão e programação orientada a objetos, são divididos em etapas menores e introduzidos ao longo de vários capítulos.\n",
    "   - **Tópicos-chave:** Programação em Python, design de software, recursão, programação orientada a objetos.\n",
    "\n",
    "4. **\"Math for Programmers: 3D Graphics, Machine Learning, and Simulations with Python\"**\n",
    "   - **Autor:** Paul Orland\n",
    "   - **Descrição:** Este livro utiliza Python para ensinar a matemática necessária para construir jogos, simulações, gráficos 3D e algoritmos de aprendizagem automática. Apresenta conceitos de álgebra e cálculo de forma prática, mostrando como esses tópicos ganham vida quando implementados em código.\n",
    "   - **Tópicos-chave:** Álgebra, cálculo, gráficos 3D, aprendizagem automática, programação em Python.\n",
    "\n"
   ]
  }
 ],
 "metadata": {
  "colab": {
   "provenance": []
  },
  "kernelspec": {
   "display_name": "Python 3 (ipykernel)",
   "language": "python",
   "name": "python3"
  },
  "language_info": {
   "codemirror_mode": {
    "name": "ipython",
    "version": 3
   },
   "file_extension": ".py",
   "mimetype": "text/x-python",
   "name": "python",
   "nbconvert_exporter": "python",
   "pygments_lexer": "ipython3",
   "version": "3.10.12"
  }
 },
 "nbformat": 4,
 "nbformat_minor": 4
}
