{
 "cells": [
  {
   "cell_type": "markdown",
   "metadata": {
    "id": "pnsreB1CspXX"
   },
   "source": [
    "\n",
    "Dedução Natural\n",
    "======\n",
    "\n",
    "[Abrir no Colab este ficheiro para o poder executar](https://colab.research.google.com/github/melroleandro-solidreturn/Matematica-Discreta-para-Hackers/blob/main/Chapter3_Deducao_Natural.ipynb)"
   ]
  },
  {
   "cell_type": "markdown",
   "metadata": {
    "id": "mvuqW_L2spXa"
   },
   "source": [
    "### Fórmulas bem formadas\n",
    "\n",
    "Estamos a descrever um sistema formal, denominado de cálculo proposicional clássico, que formaliza a chamada lógica clássica, ou lógica proposicional clássica. O vocabulário desse sistema tem os seguintes símbolos primitivos:\n",
    "\n",
    "1. uma colecção de símbolos, $A,B,C,\\ldots$ ou $P_1,P_2,\\ldots$ ou $p,q,r,\\ldots$, chamados de símbolos proposicionais,\n",
    "1. símbolos lógicos $\\neg,\\wedge,\\vee,\\rightarrow,\\leftrightarrow,\\oplus$, e\n",
    "1. símbolos de pontuação $($ e $)$.\n",
    "\n",
    "As expressões da linguagem do cálculo proposicional são sequências finitas destes símbolos (\\emph{strings}), como $\\neg)\\vee A))(\\vee B$. Convém distinguir entre as expressões ou fórmulas bem formadas (fbf) das demais. Isso é feito impondo um conjunto de regras gramaticais para a linguagem.\n"
   ]
  },
  {
   "cell_type": "markdown",
   "metadata": {
    "id": "iRCK0yQ2spXa"
   },
   "source": [
    "As regras gramaticais, para esta linguagem formal, definem por fbf (expressões gramaticalmente bem formadas na linguagem) unicamente aquelas expressões $\\alpha$ obtidas por alguma das seguintes cláusulas:\n",
    "1. $\\alpha$ é igual a um símbolo proposicional $A,B,C,\\ldots$ ou $P_1,P_2,\\ldots$ ou $p,q,r,\\ldots$, ou\n",
    "1. $\\alpha$ é igual a $(\\neg \\beta)$ ou $(\\beta\\wedge\\gamma)$ ou  $(\\beta\\vee\\gamma)$ ou $(\\beta\\rightarrow\\gamma)$ ou  $(\\beta\\leftrightarrow\\gamma)$ ou $(\\beta\\oplus\\gamma)$, onde onde $\\beta$ e $\\gamma$,\n",
    "1. nada mais é uma fbf.\n",
    "Note que, os parêntesis são usados para evitar ambiguidade. Por exemplo, $(\\neg p\\vee q)$ deve ser distinguida de $\\neg(p \\vee q)$. No segundo caso, o operador $\\neg$ aplica-se à fórmula $(p\\vee q)$, ao passo que no primeiro ele é aplicado apenas a $p$.\n",
    "\n",
    "Na escrita das fbf do cálculo proposicional adoptámos a convenção de eliminar  parêntesis externos e impondo uma ordem de precedência aos operadores. Num sistema formal é frequente a definição de novos símbolos com base em símbolos lógicos primitivos. Na literatura é frequente usar como únicos símbolos primitivos, para o cálculo proposicional,  $\\neg$ e $\\vee$, a partir dos quais se pode definir os outros fazendo por exemplo:\n",
    "\n",
    "1. $p\\wedge q =_{def}\\neg(\\neg p\\vee\\neg q)$\n",
    "1. $p\\rightarrow q =_{def}\\neg p\\vee q$\n",
    "1. $p\\leftrightarrow q =_{def}(p\\rightarrow q)\\wedge (q\\rightarrow p)$\n",
    "\n",
    "Note que neste contexto os novos símbolos $\\wedge,\\rightarrow,\\leftrightarrow$ não fazem parte do vocabulário básico da linguagem.\n"
   ]
  },
  {
   "cell_type": "markdown",
   "metadata": {
    "id": "G2EB1zE-spXb"
   },
   "source": [
    "**Exercício 1:**\n",
    "Quais das seguintes expressões são proposições bem formadas?\n",
    "1. $\\neg((A\\rightarrow B)\\rightarrow \\neg(B\\rightarrow A)$\n",
    "1. $(S\\wedge (((P\\rightarrow Q)\\wedge (\\neg Q\\rightarrow R))\\rightarrow (Q\\vee \\neg Q)))$\n",
    "1. $((((A\\wedge \\neg B)\\vee (\\neg A \\wedge B))\\leftrightarrow \\neg\\neg\\neg\\neg C))$\n",
    "1. $(((A\\rightarrow B)\\rightarrow C)\\rightarrow \\neg ((A\\vee B)\\leftrightarrow \\neg\\neg(C\\wedge A)))$"
   ]
  },
  {
   "cell_type": "markdown",
   "metadata": {
    "id": "_wWmLYXzspXb"
   },
   "source": [
    "### Semântica\n",
    "\n",
    "Seja $V$ um conjunto de variáveis proposicionais. A atribuição de valores às variáveis proposicionais é descrita por uma aplicação $v$ de $V$ no conjunto $\\{0,1\\}$. Por $P(p_1,p_2,\\ldots,p_n)$ representamos uma fbf do cálculo proposicional que dependa dos símbolos proposicionais $p_1,p_2,\\ldots,p_n$. Entendendo os símbolos como variáveis proposicionais $p_1,p_2,\\ldots,p_n$ no conjunto $V$, a atribuição $v$ pode ser estendida a $P$, definindo a avaliação da fórmula $v(P)$. A avaliação de $P$ reflecte a sua estrutura sintáctica, sendo definida em função da avaliação das suas partes (definição indutiva):\n",
    "1. Se $P$ é definida apenas pelo símbolo $p_i$, define-se $v(P)=v(p_i)$.\n",
    "1. Se $P=(\\neg Q)$, define-se  $v(P)=\\neg v(Q)$.\n",
    "1. Se $P=(Q\\wedge R)$, define-se $v(P)=v(Q)\\wedge v(R)$.\n",
    "1. Se $P=(Q\\vee R)$, define-se  $v(P)=v(Q)\\vee v(R)$.\n",
    "1. Se $P=(Q\\rightarrow R)$, define-se $v(P)=v(Q)\\rightarrow v(R)$.\n",
    "1. Se $P=(Q\\leftrightarrow R)$, define-se $v(P)=v(Q)\\leftrightarrow v(R)$.\n",
    "1. Se $P=(Q\\oplus R)$, define-se $v(P)=v(Q)\\oplus v(R)$.\n",
    "onde por $Q$ e $R$ se entende uma parte de $P$ que é uma $fbf$, os operadores envolvidos devem ser interpretados pela correspondente tabela de verdade.\n"
   ]
  },
  {
   "cell_type": "markdown",
   "metadata": {
    "id": "vGcpsupmspXc"
   },
   "source": [
    "**Exercício 2:**\n",
    "Assumindo que as variáveis proposicionais $p$ e $q$ são verdadeiras e que $r$ e $s$ são falsas, avalie as fórmulas:\n",
    "1. $(\\neg(P\\wedge Q)\\wedge \\neg R)\\rightarrow ((Q\\leftrightarrow \\neg P)\\rightarrow (R\\rightarrow \\neg S))$\n",
    "1. $(P\\vee Q)\\rightarrow (\\neg Q\\rightarrow S)$\n",
    "1. $(P\\vee (Q\\vee(R\\rightarrow \\neg P)))\\leftrightarrow (Q\\vee \\neg S)$"
   ]
  },
  {
   "cell_type": "markdown",
   "metadata": {
    "id": "I8KuFWk8spXc"
   },
   "source": [
    "Seja $P(p_1,p_2,\\ldots,p_n)$ uma fórmula proposicional nas variáveis proposicionais $p_1,p_2,$ $\\ldots,p_n$. Se considerarmos todas as atribuições de valores de verdade possíveis a $p_1,p_2,\\ldots,p_n$, o valor de verdade de $P(p_1,p_2,\\ldots,p_n)$ define a tabela de verdade para $P$. Tal tabela com já vimos contem $2^n$ linhas."
   ]
  },
  {
   "cell_type": "markdown",
   "metadata": {
    "id": "_jgDjxH3spXc"
   },
   "source": [
    "### Argumento\n",
    "Sejam $P,Q$ e $R$ três proposições. Se da veracidade de $P$ e $Q$ se  pode concluir que a veracidade da implicação\n",
    "\n",
    "$$\n",
    "(P\\wedge Q)\\rightarrow R,\n",
    "$$\n",
    "\n",
    "( ou seja, que da veracidade de P e Q resulta sempre a veracidade de R) então pode argumentar-se que da hipótese de $P$ e $Q$ resulta a veracidade de $R$. Assim,  caso $P$ e $Q$ sejam aceites como verdadeiras bem como $(P\\wedge Q)\\rightarrow R$, então a veracidade de $R$ resulta logicamente dos pressupostos. A uma tal justificação damos o nome de *argumento* e constitui o método usado para a demonstração matemática.\n",
    "\n",
    "De um modo geral, chama-se argumento a uma sequência finita de proposições organizadas na forma seguinte\n",
    "\n",
    "$$\n",
    "P_1\\wedge P_2\\wedge\\ldots\\wedge P_n \\Rightarrow Q\n",
    "$$\n",
    "\n",
    "onde as proposições $P_1, P_2,\\ldots\\, P_n$ são designadas de *premissas* (ou hipóteses) e $Q$ a *conclusão* (ou tese). Ao fazer-se a leitura do argumento $(P_1\\wedge\\ldots\\wedge P_n)\\rightarrow Q$ é costume inserir uma das locuções ''portanto'', ''por conseguinte'', ''logo'', lendo-se por exemplo: ''$P_1,\\ldots,P_n$, portanto, $Q$''. Para sugerir esta leitura usa-se, uma das seguintes notações:\n",
    "\n",
    "$$\n",
    "\\begin{array}{c}\n",
    "  P_1 \\\\\n",
    "  \\vdots \\\\\n",
    "  P_n \\\\\n",
    "  \\hline\n",
    "  Q \\\\\n",
    "\\end{array}\n",
    "$$\n",
    "\n",
    "ou\n",
    "\n",
    "$$\n",
    "P_1,\\ldots, P_n\\therefore Q\\;\n",
    "$$\n",
    "\n",
    "\n",
    "Interessa distinguir entre argumentos correctos  e argumentos inválidos."
   ]
  },
  {
   "cell_type": "markdown",
   "metadata": {
    "id": "G3S-ZxxnspXc"
   },
   "source": [
    "### Argumento válido\n",
    "\n",
    "Um argumento \n",
    "\n",
    "$$\n",
    "P_1,\\ldots, P_n\\therefore Q\n",
    "$$ \n",
    "\n",
    "diz-se **correcto** ou **válido** se a conclusão for verdadeira sempre que as premissas \n",
    "\n",
    "$$\n",
    "P_1,\\ldots, P_n\n",
    "$$ \n",
    "\n",
    "forem simultaneamente verdadeiras e diz-se **incorrecto**, **inválido** ou **falacioso** no caso contrário, isto é, se alguma situação permitir que as premissas sejam todas verdadeiras e a conclusão falsa.\n",
    "\n",
    "As regras que permitem passar de hipóteses feitas e resultados já demonstrados a novas proposições são conhecidas por regras de inferência. A regra de inferência mais frequentemente usada é o **modus ponens**:\n",
    "\n",
    "$$\n",
    "\\begin{array}{l}\n",
    "  P\\rightarrow Q \\\\\n",
    "  P \\\\\n",
    "  \\hline\n",
    "  Q \\\\\n",
    "\\end{array}\n",
    "$$\n",
    "\n",
    "Se a implicação $P\\rightarrow Q$ é verdadeira e também a proposição $P$, então $Q$ tem de ser necessariamente verdadeira. A validade desta regra pode ser comprovada recorrendo a uma tabela de verdade.\n",
    "\n",
    "$$\n",
    "\\begin{array}{|c|c||c|c|c|}\n",
    "\\hline\n",
    "P & Q & P \\to Q & (P \\to Q) \\land P & ((P \\to Q) \\land P) \\to Q \\\\\n",
    "\\hline\n",
    "V & V & V & V & V \\\\\n",
    "V & F & F & F & V \\\\\n",
    "F & V & V & F & V \\\\\n",
    "F & F & V & F & V \\\\\n",
    "\\hline\n",
    "\\end{array}\n",
    "$$\n",
    "\n",
    "Neste caso dizemos que $P\\rightarrow Q,P\\therefore Q$ é um argumento válido.\n",
    "\n",
    "De um modo geral,\n",
    "\n",
    "$$\n",
    "P_1,\\ldots, P_n\\therefore Q\n",
    "$$ \n",
    "\n",
    "é um argumento válido  se e só se\n",
    "\n",
    "$$\n",
    "P_1\\wedge P_2\\wedge\\ldots\\wedge P_n\\Rightarrow Q,\n",
    "$$\n",
    "\n",
    "ou seja,  se e só se\n",
    "\n",
    "$$\n",
    "(P_1\\wedge P_2\\wedge\\ldots\\wedge P_n)\\rightarrow Q\n",
    "$$\n",
    "\n",
    "for uma tautologia."
   ]
  },
  {
   "cell_type": "markdown",
   "metadata": {
    "id": "234QGv16spXc"
   },
   "source": [
    "**Exercício 3:**\n",
    "\n",
    "O argumento \n",
    "\n",
    "$$\n",
    "p,q\\rightarrow r,\\neg r\\therefore \\neg q\n",
    "$$ \n",
    "\n",
    "é válido já que na tabela de verdade que relaciona os valores de verdade das proposições $p,q\\rightarrow r,\\neg r, \\neg q$ nas linhas onde as premissas são verdadeiras a conclusão também o é.\n",
    "\n",
    "$$\n",
    "\\begin{array}{|ccc||c|c|c||c|}\n",
    "\\hline\n",
    "p & q & r & p & q\\rightarrow r & \\neg r & \\neg q \\\\\n",
    "\\hline\n",
    "V & V & V & V & V & F & F \\\\\n",
    "V & V & F & V & F & V & F \\\\\n",
    "V & F & V & V & V & F & V \\\\\n",
    "\\hline\n",
    "V & F & F & \\mathbf{V} & \\mathbf{V} & \\mathbf{V} & \\mathbf{V} \\\\\n",
    "\\hline\n",
    "F & V & V & F & V & F & F \\\\\n",
    "F & V & F & F & F & V & F \\\\\n",
    "F & F & V & F & V & F & V \\\\\n",
    "F & F & F & F & V & V & V \\\\\n",
    "\\hline\n",
    "\\end{array}\n",
    "$$\n"
   ]
  },
  {
   "cell_type": "markdown",
   "metadata": {
    "id": "XWNZOgTPspXd"
   },
   "source": [
    "**Exemplo 2:**\n",
    "Mostremos que o argumento abaixo é válido:\n",
    "> \"Só se o Eclipse ganhar a corrida é que pagarei as minhas dívidas. Os meus credores não ficarão satisfeitos a não ser que eu pague as minhas dívidas. Logo, ou o Eclipse ganha a corrida ou os meus credores não ficarão satisfeitos.\"\n",
    "\n",
    "Interpretação:\n",
    "1. P: Eclipse ganha a corrida.\n",
    "1. Q: Pago as minhas dívidas.\n",
    "1. R: Os meus credores ficarão satisfeitos.\n",
    "\n",
    "Formalização:\n",
    "\n",
    "  $$Q\\rightarrow P, \\neg Q\\rightarrow \\neg R\\therefore P\\vee\\neg R$$\n",
    "\n",
    "Inspector de circunstâncias:\n",
    "\n",
    "$$\n",
    "\\begin{array}{cccccc}\n",
    "P & Q & R & Q \\to P & \\neg Q \\to \\neg P & P \\lor \\neg R \\\\\n",
    "\\hline\n",
    "1 & 1 & 1 & 1 & 1 & 1 \\\\\n",
    "1 & 1 & 0 & 1 & 1 & 1 \\\\\n",
    "1 & 0 & 1 & 1 & 0 & 0 \\\\\n",
    "1 & 0 & 0 & 1 & 1 & 1 \\\\\n",
    "0 & 1 & 1 & 0 & 1 & 1 \\\\\n",
    "0 & 1 & 0 & 0 & 1 & 1 \\\\\n",
    "0 & 0 & 1 & 1 & 0 & 0 \\\\\n",
    "0 & 0 & 0 & 1 & 1 & 1 \\\\\n",
    "\\end{array}\n",
    "$$\n",
    "\n",
    "\n",
    "O argumento é válido um vez que a formalização é um sequente tautológico, ou seja, a proposição\n",
    "\n",
    "$$\n",
    "((Q\\rightarrow P)\\wedge (\\neg Q\\rightarrow \\neg R))\\rightarrow (P\\vee\\neg R)\n",
    "$$\n",
    "\n",
    "é uma tautologia."
   ]
  },
  {
   "cell_type": "markdown",
   "metadata": {
    "id": "t1b8I1u-spXd"
   },
   "source": [
    "**Exemplo 3:**\n",
    "Verifiquemos se o argumento abaixo é válido:\n",
    "> \"Ou o Eclipse ganha a corrida ou ganha o Estrela da Manhã. Se o Eclipse ganhar, Icabod ficará satisfeito. Logo, se o Estrela da Manhã ganhar, Icabod não ficará satisfeito.\"\n",
    "\n",
    "Interpretação:\n",
    "1. Eclipse ganha a corrida.\n",
    "1. O Estrela da Manhã ganha a corrida.\n",
    "1. Icabod fica satisfeito.\n",
    "\n",
    "Formalização:\n",
    "\n",
    "  $$P \\vee Q, P\\rightarrow R\\therefore Q\\rightarrow\\neg R$$\n",
    "\n",
    "Inspector de circunstâncias:\n",
    "\n",
    "$$\n",
    "\\begin{array}{|c|c|c||c|c||c|}\n",
    "\\hline\n",
    "P & Q & R & P \\lor Q & P \\to R & Q \\to \\neg R \\\\\n",
    "\\hline\n",
    "V & V & V & V & V & F \\\\\n",
    "V & V & F & V & F & V \\\\\n",
    "V & F & V & V & V & V \\\\\n",
    "V & F & F & V & F & V \\\\\n",
    "F & V & V & V & V & F \\\\\n",
    "F & V & F & V & V & V \\\\\n",
    "F & F & V & F & V & V \\\\\n",
    "F & F & F & F & V & V \\\\\n",
    "\\hline\n",
    "\\end{array}\n",
    "$$\n",
    "\n",
    "\n",
    "O argumento não é válido,  pois há pelo menos uma circunstância que torna as premissas verdadeiras e a conclusão falsa o que faz com que a proposição\n",
    "\n",
    "$$\n",
    "((P \\vee Q)\\wedge ( P\\rightarrow R))\\rightarrow (Q\\rightarrow\\neg R)\n",
    "$$\n",
    "\n",
    "não seja uma tautologia."
   ]
  },
  {
   "cell_type": "markdown",
   "metadata": {
    "id": "YyM7WZkaspXd"
   },
   "source": [
    "**Exercício 4:**\n",
    "Formalize os seguintes argumentos e teste a sua validade usando inspectores de circunstância para determinar se a formalização é um sequente tautológico:\n",
    "1. \"Não existe tempo se não existe mudança. Não há mudança a não ser que existam objectos que possam mudar. Logo, ou existem alguns objectos que possam mudar ou o tempo não existe.\"\n",
    "1. \"A vaca não existe a não ser que eu a veja. Se a vaca não existe, os campos e até a Terra não existem. Se os campos e a Terra não existem, eu não posso existir. Mas eu só posso ver a vaca se eu existir. É por isso óbvio que eu não existo.\""
   ]
  },
  {
   "cell_type": "markdown",
   "metadata": {
    "id": "vM9FOUzZspXe"
   },
   "source": [
    "Podemos assim usar tautologias do tipo \n",
    "\n",
    "$$\n",
    "(A_1\\wedge A_2\\wedge \\ldots\\wedge A_n)\\rightarrow B\n",
    "$$\n",
    "\n",
    "para provar argumentos e definir regras de inferência.\n",
    "\n",
    "Usando tautologias deste tipo ou inspectores de circunstância podemos mostrar serem válidas as relações de inferência da tabela que se segue.\n",
    "\n",
    "  Name | Tautologia | Regra de inferência\n",
    "-------|------------|---------------------\n",
    "Modus Ponens | $_{(p\\wedge (p\\rightarrow q))\\rightarrow q}$ | $_{p, p\\rightarrow q \\therefore q}$\n",
    "Modus Tollens| $_{(\\neg q\\wedge (p\\rightarrow q))\\rightarrow \\neg p}$ | $_{\\neg q,p\\rightarrow q\\therefore  \\neg p}$\n",
    "Silogismo Hipotético | $_{((p\\rightarrow q)\\wedge(q\\rightarrow r))\\rightarrow(p\\rightarrow r)}$ | $_{p\\rightarrow q,q\\rightarrow r\\therefore p\\rightarrow r}$\n",
    "Silogismo Disjuntivo | $_{((p\\vee q)\\wedge\\neg p)\\rightarrow q}$ | $_{p\\vee q,\\neg p\\therefore q}$\n",
    "Simplificação | $_{(p \\wedge q)\\rightarrow p}$ | $_{p \\wedge q\\therefore p}$\n",
    "Adição | $_{p\\rightarrow (p\\vee q)}$ | $_{p\\therefore p\\vee q}$\n",
    "Lei da resolução | $_{((p\\vee q)\\wedge (\\neg p\\vee r))\\rightarrow(q\\vee r)}$ | $_{p\\vee q,\\neg p\\vee r\\therefore q\\vee r}$\n",
    "Eliminação | $_{((p\\rightarrow(q\\vee r))\\wedge \\neg q)\\rightarrow (p\\rightarrow r)}$ | $_{p\\rightarrow(q\\vee r)), \\neg q\\therefore p\\rightarrow r}$\n",
    "Prova por Casos | $_{((p\\rightarrow r)\\wedge (q \\rightarrow r))\\rightarrow ((p\\vee q)\\rightarrow r)}$ | $_{p\\rightarrow r,q \\rightarrow r\\therefore (p\\vee q)\\rightarrow r}$\n",
    "Lei da combinação | $_{(p\\wedge q)\\rightarrow (p\\wedge q)}$ | $_{p,q\\therefore p\\wedge q}$\n",
    "Redução ao absurdo | $_{(\\neg p\\rightarrow q \\wedge \\neg p \\rightarrow \\neg q)\\rightarrow p}$ | $_{\\neg p\\rightarrow q, \\neg p \\rightarrow \\neg q\\therefore p}$"
   ]
  },
  {
   "cell_type": "markdown",
   "metadata": {
    "id": "9v2m8cEhspXe"
   },
   "source": [
    "**Exercício 5:**\n",
    "Demonstre as seguintes regras de inferência:\n",
    "1. Modus Tollens\n",
    "1. Silogismo Hipotético\n",
    "1. Redução ao absurdo"
   ]
  },
  {
   "cell_type": "markdown",
   "metadata": {
    "id": "-QXRTDtWspXe"
   },
   "source": [
    "### Demonstração válida\n",
    "A sequência\n",
    "\n",
    "$$\n",
    "A_1,A_2,\\ldots,A_n,B\n",
    "$$\n",
    "\n",
    "é uma *demonstração válida* se e só se cada fórmula na sequência:\n",
    "1. ou é uma hipótese,\n",
    "1. ou é uma tautologia,\n",
    "1. ou é derivada por uma regra de inferência tendo por premissas fórmulas que a antecedem na sequência,\n",
    "1. ou é equivalente a uma fórmula que a antecede na sequência.\n",
    "\n",
    "Neste caso a proposição $A_1\\wedge A_2\\wedge \\ldots\\wedge A_n \\rightarrow B$, e dizemos que a sequência\n",
    "\n",
    "$$\n",
    "A_1,A_2,\\ldots,A_n,B\n",
    "$$\n",
    "\n",
    "é uma demonstração válida do sequente ou argumento\n",
    "\n",
    "$$\n",
    "C_1,C_2,\\ldots,C_m\\therefore B\n",
    "$$\n",
    "\n",
    "se  as únicas hipóteses usadas na demonstração $A_1,A_2,\\ldots,A_n,B$, estão na sequência\n",
    "$C_1,C_2,\\ldots,C_m$.\n"
   ]
  },
  {
   "cell_type": "markdown",
   "metadata": {
    "id": "cyTWGjKespXf"
   },
   "source": [
    "A definição de demonstração válida assenta nos seguintes factos:\n",
    "\n",
    "#### Terorema [Substituição por equivalência]\n",
    "1. Se $C_m\\Leftrightarrow D$ e $C_1,C_2,\\ldots,C_m\\therefore B$, então $C_1,C_2,\\ldots,C_{m-1},D\\therefore B$.\n",
    " \\]\n",
    "1. Se $B\\Leftrightarrow D$ e $C_1,C_2,\\ldots,C_m\\therefore B$, então $C_1,C_2,\\ldots,C_m\\therefore D$."
   ]
  },
  {
   "cell_type": "markdown",
   "metadata": {
    "id": "28h1s4fwspXf"
   },
   "source": [
    "Como exemplo de demonstração, seja $\\Gamma=\\{p,p\\rightarrow q, q\\rightarrow r\\}$. Mostremos que $\\Gamma\\therefore r$. Com efeito, temos (1) $p$ é hipótese (está em $\\Gamma$); (2) $p\\rightarrow q$ é hipótese (idem); (3) $q$ (de 1 e 2, por Modus Ponens); (4) $q\\rightarrow r$ é hipótese (está em $\\Gamma$); (5) $r$ (de 2 e 4, por Modus Ponens). Logo, como por hipótese $p,p\\rightarrow q, q\\rightarrow r$ são proposições verdadeiras temos de ter $r$ verdadeira.\n",
    "\n",
    "Admitindo agora que $\\Gamma$ tem duas fórmulas contraditórias, da forma $p$ e $\\neg p$. Provemos que se pode derivar qualquer fórmula $q$ a partir de $\\Gamma$ (ou seja, mostramos que ''duma falsidade tudo se segue'').  Como $p$ e $\\neg p$ são hipóteses, proposições válidas, podemos inferir que $p\\wedge\\neg p$ é válida.\n",
    "\n",
    "$$\n",
    "\\begin{array}{lll}\n",
    "  1 & p & \\text{hipótese} \\\\\n",
    "  2 & \\neg p & \\text{hipótese} \\\\\n",
    "  3 & p \\rightarrow (\\neg q\\rightarrow p) & \\text{tautologia} \\\\\n",
    "  4 & \\neg p \\rightarrow (\\neg q\\rightarrow \\neg p) & \\text{tautologia} \\\\\n",
    "  5 & \\neg q\\rightarrow p & \\text{Modus Ponens a 2 e 3}  \\\\\n",
    "  6 & \\neg q\\rightarrow \\neg p & \\text{Modus Ponens a 1 e 4}\\\\\n",
    "  7 & (\\neg q\\rightarrow \\neg p)\\rightarrow ((\\neg q\\rightarrow p)\\rightarrow q) & \\text{tautologia}\\\\\n",
    "  8 & (\\neg q\\rightarrow p)\\rightarrow q & \\text{Modus Ponens a 6 e 7} \\\\\n",
    "  \\hline\n",
    "  9 & q & \\text{Modus Ponens a 5 e 8} \\\\\n",
    "\\end{array}\n",
    "$$\n",
    "\n",
    "Assim podemos concluir que se tivermos premissas contraditórias, podemos derivar qualquer proposição.\n"
   ]
  },
  {
   "cell_type": "markdown",
   "metadata": {
    "collapsed": true,
    "id": "joNIKiYOspXf",
    "jupyter": {
     "outputs_hidden": true
    }
   },
   "source": [
    "**Exemplo 4:**\n",
    "Aplicando regras de inferência, demonstremos que o argumento abaixo é correcto.\n",
    "\n",
    "$$ \n",
    "\\neg p \\rightarrow \\neg q, (p \\vee\\neg q) \\rightarrow r, \\neg s \\rightarrow \\neg r, s\\rightarrow(\\neg w \\vee \\neg v) \\therefore \\neg w \\vee \\neg v\n",
    "$$\n",
    "\n",
    "Temos:\n",
    "\n",
    "$$\n",
    "\\begin{array}{lll}\n",
    "  1 & \\neg p \\rightarrow \\neg q & \\text{hipótese} \\\\\n",
    "  2 & (p \\vee\\neg q) \\rightarrow r &\\text{ hipótese} \\\\\n",
    "  3 & \\neg s \\rightarrow \\neg r & \\text{hipótese} \\\\\n",
    "  4 & s\\rightarrow(\\neg w \\vee \\neg v) & \\text{hipótese} \\\\\n",
    "  5 & p \\vee \\neg q & \\text{Def. implicação em 1} \\\\\n",
    "  6 & r & \\text{Modus Ponens a 2 e 5} \\\\\n",
    "  7 & r\\rightarrow s & \\text{Contraposição em 3}\\\\\n",
    "  8 & s & \\text{Modus Ponens a 6 e 7} \\\\\n",
    "  \\hline\n",
    "  9 & \\neg w \\vee \\neg v & \\text{Modus Ponens a 4 e 8} \\\\\n",
    "\\end{array}\n",
    "$$\n"
   ]
  },
  {
   "cell_type": "markdown",
   "metadata": {
    "id": "8K3GZaOQspXf"
   },
   "source": [
    "**Exemplo 5:**\n",
    "Aplicando regras de inferência, demonstremos que o argumento abaixo é correcto.\n",
    "\n",
    "$$ \n",
    "\\neg(\\neg p \\vee q),\\neg r \\rightarrow \\neg s, (p\\wedge \\neg q)\\rightarrow s, \\neg r \\vee t\\therefore t\n",
    "$$\n",
    "\n",
    "Temos:\n",
    "\n",
    "$$\n",
    "\\begin{array}{lll}\n",
    "  1 & \\neg(\\neg p \\vee q) & \\text{hipótese} \\\\\n",
    "  2 & \\neg r \\rightarrow \\neg s & \\text{hipótese} \\\\\n",
    "  3 & (p\\wedge \\neg q)\\rightarrow s & \\text{hipótese} \\\\\n",
    "  4 & \\neg r \\vee t & \\text{hipótese} \\\\\n",
    "  5 & \\neg \\neg p \\wedge \\neg q & \\text{Lei de De Morgan em 1} \\\\\n",
    "  6 & p \\wedge \\neg q & \\text{Dupla negação de 5} \\\\\n",
    "  7 & s & \\text{Modus Ponens a 3 e 6} \\\\\n",
    "  8 & s\\rightarrow r & \\text{Modus Tollens a 2 e 7} \\\\\n",
    "  9 & r & \\text{Modus Ponens a 7 e 8} \\\\\n",
    "  10 & r\\rightarrow t & \\text{Def. de implicação em 4} \\\\\n",
    "  \\hline\n",
    "  11 & t & \\text{Modus Ponens a 9 e 10} \\\\\n",
    "\\end{array}\n",
    "$$"
   ]
  },
  {
   "cell_type": "markdown",
   "metadata": {
    "id": "Y8bNWiijspXf"
   },
   "source": [
    "**Exercício 6:**\n",
    "Sendo $p,q,r$ e $s$ quatro proposições, classifique os argumentos abaixo se são ou não  válidos.\n",
    "1. $(\\neg p)\\vee q,p\\therefore q$\n",
    "1. $p,p\\rightarrow q, q\\rightarrow r \\therefore r$\n",
    "1. $p\\rightarrow q, r\\rightarrow (\\neg q)\\therefore p\\rightarrow (\\neg r)$\n",
    "1. $(\\neg p)\\vee q, (\\neg r)\\rightarrow (\\neg q)\\therefore p\\rightarrow (\\neg r)$\n"
   ]
  },
  {
   "cell_type": "markdown",
   "metadata": {
    "id": "RhksrwUlspXf"
   },
   "source": [
    "### Propriedades do operador $\\therefore$\n",
    "De forma simples podemos mostrar que o operador $\\therefore$ satisfaz as seguintes propriedades:\n",
    "1. (*Inclusão*) Para todo $p\\in \\Gamma$, tem-se que $\\Gamma\\therefore p$.\n",
    "1. (*Monotonia*) Se $\\Gamma\\subseteq\\Delta$ e se $\\Gamma\\therefore p$, então $\\Delta\\therefore p$. Informalmente, se algo é dedutível a partir dum dado conjunto de premissas $\\Gamma$, continua a ser dedutível em qualquer conjunto de premissas contendo $\\Gamma$.\n",
    "1. (*Corte*) Se $\\Delta\\therefore p$ e de $\\Gamma\\therefore q$ para cada $q\\in\\Delta$, então $\\Gamma\\therefore p$.\n",
    "1. (*Teorema da Dedução*) Se $\\Gamma,p\\therefore q$ então $\\Gamma\\therefore p\\rightarrow q$.\n",
    "\n",
    "Assim, por exemplo, como $p,p\\rightarrow q\\therefore q$, pelo Teorema da Dedução, temos que  $p\\therefore (p\\rightarrow q) \\rightarrow q$, ou seja $\\therefore p \\rightarrow((p\\rightarrow q) \\rightarrow q)$. Donde podemos concluir que $p \\rightarrow((p\\rightarrow q) \\rightarrow q)$ é uma tautologia, já que é ''sempre verdadeira'' o seu valor de verdade não depende de nenhuma hipótese. Assim, sempre que a proposição $P$ é uma tautologia escrevemos que $\\therefore P$ já que o seu valor de verdade não depende de nenhuma hipótese.\n",
    "\n"
   ]
  },
  {
   "cell_type": "markdown",
   "metadata": {
    "id": "BAzC1HUzspXg"
   },
   "source": [
    "**Exercício 7:**\n",
    "Mostre que:\n",
    "1. $\\therefore (\\neg p\\rightarrow p)\\rightarrow p$ (outra forma de redução ao absurdo)\n",
    "1. $\\therefore (p\\rightarrow q)\\rightarrow ((p\\rightarrow \\neg q)\\rightarrow \\neg p)$ (redução ao absurdo intuicionista)\n",
    "1. $\\therefore p\\rightarrow p\\vee q$ (regra da adição)\n",
    "1. $\\therefore \\neg p \\rightarrow (p\\rightarrow q)$\n",
    "1. $\\therefore (p\\rightarrow \\neg q)\\rightarrow (q \\rightarrow \\neg p)$\n",
    "1. $\\therefore (p\\wedge q)\\leftrightarrow \\neg (\\neg p \\wedge \\neg q)$ (regra de De Morgan)\n",
    "1. $\\therefore \\neg (p\\wedge \\neg p)$ (lei da contradição)\n",
    "1. $\\therefore (p \\wedge \\neg p)\\rightarrow q$ (Lei de Duns Scotus)\n"
   ]
  },
  {
   "cell_type": "markdown",
   "metadata": {
    "id": "F2vagzxZspXg"
   },
   "source": [
    "## Exercícios de revisão"
   ]
  },
  {
   "cell_type": "markdown",
   "metadata": {
    "id": "Sn8o0tqVspXg"
   },
   "source": [
    "**Exercício 8:**\n",
    "Usando as afirmações\n",
    "\n",
    "R: O Nuno é rico\n",
    "H: O Nuno é feliz\n",
    "\n",
    "escreva as seguintes afirmações na forma simbólica\n",
    "1. O Nuno é pobre mas feliz.\n",
    "1. O Nuno é rico ou feliz.\n",
    "1. O Nuno não é nem rico nem feliz.\n",
    "1. O Nuno é pobre ou ele é simultaneamente rico e feliz."
   ]
  },
  {
   "cell_type": "markdown",
   "metadata": {
    "id": "fhNzKAPyspXg"
   },
   "source": [
    "**Exercício 9:**\n",
    "Quatro indivíduos são suspeitos de terem cometido um crime. É sabido que um e só um deles cometeu o crime. Quando interrogados pela polícia fizeram as seguintes afirmações:\n",
    "1. [Artur]: Foi o José que cometeu o crime.\n",
    "1. [José]: Foi o Tiago que cometeu o crime,\n",
    "1. [Gabriel]: Eu não o fiz.\n",
    "1. [Tiago]: José mente quando diz que fui eu.\n",
    "\n",
    "Se exactamente uma destas afirmações é falsa, quem foi o criminoso?"
   ]
  },
  {
   "cell_type": "markdown",
   "metadata": {
    "id": "-HcV1QQMspXg"
   },
   "source": [
    "**Exercício 10:**\n",
    "Quais das seguintes expressões são proposições bem formadas?\n",
    "1. $\\neg((A\\rightarrow B)\\rightarrow \\neg(B\\rightarrow A)$\n",
    "1. $(S\\wedge (((P\\rightarrow Q)\\wedge (\\neg Q\\rightarrow R))\\rightarrow (Q\\vee \\neg Q)))$\n",
    "1. $((((A\\wedge \\neg B)\\vee (\\neg A \\wedge B))\\leftrightarrow \\neg\\neg\\neg\\neg C))$\n",
    "1. $(((A\\rightarrow B)\\rightarrow C)\\rightarrow \\neg ((A\\vee B)\\leftrightarrow \\neg\\neg(C\\wedge A)))$"
   ]
  },
  {
   "cell_type": "markdown",
   "metadata": {
    "id": "m88or6ZlspXg"
   },
   "source": [
    "**Exercício 11:**\n",
    "Construa a tabela de verdade para as seguintes fórmulas:\n",
    "1. $\\neg(\\neg P \\vee \\neg Q)$\n",
    "1. $\\neg(\\neg P \\wedge \\neg Q)$\n",
    "1. $P\\wedge(P\\vee Q)$\n",
    "1. $P\\wedge(Q\\wedge P)$\n",
    "1. $(\\neg P\\wedge(\\neg Q \\wedge R))\\vee (Q\\wedge R)\\vee (P\\wedge R)$\n",
    "1. $(P\\wedge Q)\\vee (\\neg P \\wedge Q)\\vee (P\\wedge\\neg Q)\\vee (\\neg P\\wedge\\neg Q)$"
   ]
  },
  {
   "cell_type": "markdown",
   "metadata": {
    "id": "bN17FiaespXg"
   },
   "source": [
    "**Exercício 12:**\n",
    "Assumindo que as variáveis proposicionais $P$ e $Q$ são verdadeiras e que $R$ e $S$ são falsas, determine o valor de verdade das afirmações:\n",
    "1. $P\\wedge(Q\\vee R)$\n",
    "1. $(P\\wedge (Q\\wedge R))\\vee\\neg((P\\vee Q)\\wedge(R\\vee S))$\n",
    "1. $(\\neg(P\\wedge Q)\\vee\\neg R)\\vee(((\\neg P\\wedge Q)\\vee \\neg R)\\wedge S)$"
   ]
  },
  {
   "cell_type": "markdown",
   "metadata": {
    "id": "G96fZhb_spXh"
   },
   "source": [
    "**Exercício 13:**\n",
    "Mostre que o valor lógico das fórmulas apresentadas abaixo é independente das suas componentes:\n",
    "1. $(P\\wedge (P\\rightarrow Q))\\rightarrow Q$\n",
    "1. $(P\\rightarrow Q)\\leftrightarrow (\\neg P \\vee Q)$\n",
    "1. $((P\\rightarrow Q)\\wedge (Q\\rightarrow R))\\rightarrow (P\\rightarrow R)$\n",
    "1. $(P\\leftrightarrow Q)\\leftrightarrow((P\\wedge Q)\\vee (\\neg P\\wedge \\neg Q))$"
   ]
  },
  {
   "cell_type": "markdown",
   "metadata": {
    "id": "OQm7Y8qvspXh"
   },
   "source": [
    "**Exercício 14:**\n",
    "Construa a tabela de verdade das seguintes fórmulas:\n",
    "1. $(Q\\wedge(P\\rightarrow Q))\\rightarrow P$\n",
    "1. $\\neg(P\\vee (Q\\wedge R))\\leftrightarrow ((P\\vee Q)\\wedge (P\\vee R))$"
   ]
  },
  {
   "cell_type": "markdown",
   "metadata": {
    "id": "SHn0A7QUspXh"
   },
   "source": [
    "**Exercício 15:**\n",
    "Assumindo que as variáveis proposicionais $P$ e $Q$ são verdadeiras e que $R$ e $S$ são falsas, determine os valores de verdade das seguintes fórmulas.\n",
    "1. $(\\neg(P\\wedge Q)\\vee \\neg R)\\vee ((Q\\leftrightarrow \\neg P)\\rightarrow (R\\vee \\neg S))$\n",
    "1. $(P\\leftrightarrow Q)\\wedge (\\neg Q\\rightarrow S)$\n",
    "1. $(P\\vee (Q\\rightarrow(R\\wedge \\neg P)))\\leftrightarrow (Q\\vee \\neg S)$"
   ]
  },
  {
   "cell_type": "markdown",
   "metadata": {
    "id": "MPoTBbsHspXh"
   },
   "source": [
    "**Exercício 16:**\n",
    "Suponha-se que se define uma nova conectiva, denotada por $\\ast$, tal que $p\\ast q$ é verdadeira quando $q$ é verdadeira e $p$ falsa, e é falsa em todos os outros casos. Construa as tabelas de verdade para\n",
    "1. $p\\ast q$\n",
    "1. $q\\ast p$\n",
    "1. $(p\\ast q)\\ast p$"
   ]
  },
  {
   "cell_type": "markdown",
   "metadata": {
    "id": "oUieoXOLspXh"
   },
   "source": [
    "**Exercício 17:**\n",
    "Elimine o maior número de parêntesis possível sem alterar o significado das expressões:\n",
    "1. $((p\\rightarrow (\\neg q))\\wedge r)$\n",
    "1. $(p\\vee (q \\vee r))$\n",
    "1. $(((p\\wedge (\\neg q))\\wedge r)\\vee s)$\n",
    "1. $((p\\vee(\\neg q))\\vee (p\\wedge q))$\n",
    "1. $((p\\leftrightarrow q)\\leftrightarrow(\\neg(r\\vee s)))$"
   ]
  },
  {
   "cell_type": "markdown",
   "metadata": {
    "id": "xvBx1qkLspXh"
   },
   "source": [
    "**Exercício 18:**\n",
    "Reponha os parêntesis:\n",
    "1. $s\\vee \\neg q\\wedge r$\n",
    "1. $s\\rightarrow \\neg\\neg\\neg\\neg q \\wedge r$\n",
    "1. $s\\rightarrow \\neg(q\\wedge r \\rightarrow s)\\wedge\\wedge q \\leftrightarrow r$\n",
    "1. $s\\rightarrow r\\rightarrow r\\leftrightarrow \\neg r \\vee t$"
   ]
  },
  {
   "cell_type": "markdown",
   "metadata": {
    "id": "WfIlg9IGspXi"
   },
   "source": [
    "**Exercício 19:**\n",
    "Mostre as seguintes equivalências\n",
    "1. $P\\rightarrow (Q\\rightarrow P)\\Leftrightarrow \\neg P\\rightarrow (P\\rightarrow Q)$\n",
    "1. $P\\rightarrow (Q\\vee R)\\Leftrightarrow (P\\rightarrow Q)\\vee (P\\rightarrow R)$\n",
    "1. $(P\\rightarrow Q)\\wedge (R\\rightarrow Q)\\Leftrightarrow (P\\rightarrow Q)\\vee (P\\rightarrow R)$\n",
    "1. $\\neg(P\\leftrightarrow Q)\\Leftrightarrow (P\\vee Q)\\wedge \\neg(P\\vee Q)$"
   ]
  },
  {
   "cell_type": "markdown",
   "metadata": {
    "id": "8pmby9J-spXi"
   },
   "source": [
    "**Exercício 20:**\n",
    "Mostre que $P$ é equivalente às seguintes fórmulas\n",
    "$\\neg\\neg P$, $P\\wedge P$, $P\\vee P$, $P\\vee (P\\wedge Q)$, $P\\wedge (P\\vee Q)$,\n",
    "$(P\\wedge Q)\\vee (P\\wedge \\neg Q)$, e $(P\\vee Q)\\wedge (P\\vee \\neg Q)$."
   ]
  },
  {
   "cell_type": "markdown",
   "metadata": {
    "id": "d_OypkdXspXi"
   },
   "source": [
    "**Exercício 21:**\n",
    "Mostre as seguintes equivalências\n",
    "1. $\\neg(P\\wedge Q)\\Leftrightarrow \\neg P \\vee \\neg Q$\n",
    "1. $\\neg(P\\wedge Q)\\Leftrightarrow \\neg P \\wedge \\neg Q$\n",
    "1. $\\neg(P\\rightarrow Q)\\Leftrightarrow P \\wedge \\neg Q$\n",
    "1. $\\neg(P\\leftrightarrow Q)\\Leftrightarrow (P \\wedge \\neg Q) \\vee (\\neg P\\wedge Q)$"
   ]
  },
  {
   "cell_type": "markdown",
   "metadata": {
    "id": "_rUxhQMsspXi"
   },
   "source": [
    "**Exercício 22:**\n",
    "Mostre as seguintes equivalências:\n",
    "1. $A\\rightarrow (P\\vee C)\\Leftrightarrow (A\\wedge \\neg P)\\rightarrow C$\n",
    "1. $(P\\rightarrow C)\\wedge (Q\\rightarrow C)\\Leftrightarrow (P\\vee Q)\\rightarrow C$\n",
    "1. $((Q\\wedge A)\\rightarrow C)\\wedge (A\\rightarrow (P\\vee C))\\Leftrightarrow (A\\wedge (P\\rightarrow Q))\\rightarrow C$\n",
    "1. $((P\\wedge Q \\wedge A)\\rightarrow C)\\wedge (A\\rightarrow (P\\vee Q\\vee C))\\Leftrightarrow (A\\wedge (P\\leftrightarrow Q))\\rightarrow C$"
   ]
  },
  {
   "cell_type": "markdown",
   "metadata": {
    "id": "oKHlHFh5spXi"
   },
   "source": [
    "**Exercício 23:**\n",
    "Simplifique as fórmulas abaixo:\n",
    "1. $((P\\rightarrow Q)\\leftrightarrow (\\neg Q\\rightarrow \\neg P))\\wedge R$\n",
    "1. $P\\vee (\\neg P \\vee (Q \\wedge \\neg Q))$\n",
    "1. $(P\\wedge (Q\\wedge S))\\vee (\\neg P \\wedge (Q \\wedge S))$"
   ]
  },
  {
   "cell_type": "markdown",
   "metadata": {
    "id": "IBjNV11ZspXi"
   },
   "source": [
    "**Exercício 24:**\n",
    "Mostre as seguintes implicações lógicas\n",
    "1. $(P\\wedge Q)\\Rightarrow(P\\rightarrow Q)$\n",
    "1. $P\\Rightarrow (Q\\rightarrow P)$\n",
    "1. $(P\\rightarrow(Q\\rightarrow R)\\Rightarrow (P\\rightarrow Q)\\rightarrow (P\\rightarrow R)$"
   ]
  },
  {
   "cell_type": "markdown",
   "metadata": {
    "id": "YFqXykxQspXi"
   },
   "source": [
    "**Exercício 25:**\n",
    "Escreva as fórmulas abaixo de forma equivalente, mas onde a negação seja aplicada apenas a variáveis.\n",
    "1. $\\neg(P\\vee Q)$\n",
    "1. $\\neg(P\\wedge Q)$\n",
    "1. $\\neg(P\\rightarrow Q)$\n",
    "1. $\\neg(P\\leftrightarrow Q)$"
   ]
  },
  {
   "cell_type": "markdown",
   "metadata": {
    "id": "6EhOKuEUspXj"
   },
   "source": [
    "**Exercício 26:**\n",
    "Mostre que a conclusão $C$ segue das premissas $H_1,H_2,H_3$ nos seguintes casos:\n",
    "1. $H_1:P\\rightarrow Q$, $\\therefore C:P\\rightarrow (P\\wedge Q)$\n",
    "1. $H_1:\\neg P\\vee Q, H_2:\\neg(Q\\wedge \\neg R), H_3:\\neg R$, $\\therefore C:\\neg P$\n",
    "1. $H_1:\\neg P, H_2:P\\vee Q$ $\\therefore C:Q$\n",
    "1. $H_1:\\neg Q, H_2:P\\rightarrow Q$ $\\therefore C:\\neg P$\n",
    "1. $H_1:P\\rightarrow Q, H_2:Q\\rightarrow R$ $\\therefore C:P\\rightarrow R$\n",
    "1. $H_1:R, H_2:P\\vee \\neg P$ $\\therefore C:R$"
   ]
  },
  {
   "cell_type": "markdown",
   "metadata": {
    "id": "5E-HX5k0spXj"
   },
   "source": [
    "**Exercício 27:**\n",
    "Mostre a validade dos seguintes argumentos, onde as premissas aparecem à esquerda e as conclusões à direita:\n",
    "1. $\\neg(P\\wedge \\neg Q),\\neg Q\\vee R,\\neg R \\therefore\\neg P$\n",
    "1. $(A\\rightarrow B)\\wedge (A\\rightarrow C), \\neg(B\\wedge C), D\\vee A \\therefore D$\n",
    "1. $\\neg J\\rightarrow (M\\vee N), (H\\vee G)\\rightarrow \\neg J, H\\vee G \\therefore M\\vee N$\n",
    "1. $P\\rightarrow Q, (\\neg Q\\vee R)\\wedge \\neg R, \\neg(\\neg P\\wedge S \\therefore \\neg S$\n",
    "1. $(P \\wedge Q)\\rightarrow R, \\neg R\\vee S, \\neg S \\therefore \\neg P \\vee \\neg Q$\n",
    "1. $P\\rightarrow Q, Q\\rightarrow \\neg R, R, P\\vee (J\\wedge S) \\therefore J\\wedge S$"
   ]
  },
  {
   "cell_type": "markdown",
   "metadata": {
    "id": "SLKw5YKqspXj"
   },
   "source": [
    "**Exercício 28:**\n",
    "Sendo $p,q,r$ e $s$ quatro proposições, classifique os argumentos abaixo se são ou não válidos.\n",
    "1. $p\\vee (\\neg q),\\neg q\\therefore p$\n",
    "1. $\\neg p\\therefore p\\rightarrow q $\n",
    "1. $(p\\wedge q)\\rightarrow (r\\wedge s),\\neg r\\therefore (\\neg p)\\vee(\\neg q)$\n",
    "1. $p\\rightarrow q, (\\neg q)\\rightarrow(\\neg r), s\\rightarrow(p\\vee r),s\\therefore q$\n",
    "1. $p\\vee q, q \\rightarrow (\\neg r),(\\neg r)\\rightarrow (\\neg p)\\therefore \\neg(p\\wedge q)$\n",
    "1. $p\\rightarrow q, (\\neg r)\\rightarrow (\\neg q), r \\rightarrow (\\neg p)\\therefore \\neg p$\n",
    "1. $p\\rightarrow (\\neg p)\\therefore \\neg p$\n",
    "1. $p\\vee q,p\\rightarrow r, \\neg r \\therefore q$\n",
    "1. $p,q\\rightarrow(\\neg p),(\\neg q)\\rightarrow(r\\vee (\\neg s)),\\neg r\\therefore \\neg s$\n",
    "1. $p\\rightarrow(q\\vee s),q\\rightarrow r\\therefore p\\rightarrow(r\\vee s)$\n",
    "1. $p\\rightarrow(\\neg q), q\\rightarrow p, r\\rightarrow p\\therefore \\neg q$\n",
    "1. $p\\rightarrow q, r\\rightarrow s, \\neg(p\\rightarrow s)\\therefore q\\wedge (\\neg r)$"
   ]
  },
  {
   "cell_type": "markdown",
   "metadata": {
    "id": "su-1zryTspXj"
   },
   "source": [
    "**Exercício 29:**\n",
    "Quais dos seguintes argumentos são válidos?\n",
    "1. $P\\rightarrow Q, \\neg Q\\rightarrow R, \\neg R, \\therefore P$\n",
    "1. $A\\rightarrow (A\\rightarrow (B\\rightarrow C)),B, \\therefore A\\rightarrow C$\n",
    "1. Se a Rute comprou um carro de luxo, foi porque ou assaltou um banco ou o seu tio rico morreu. Rute não assaltou um banco ou o seu tio rico não morreu. Consequentemente, o seu tio rico não morreu.\n",
    "1. Hoje é domingo. Amanhã não é domingo. Consequentemente a Lua é feita de queijo verde.\n",
    "1. O livro está na secretária ou na estante. Não está na estante. Consequentemente, está na secretária.\n",
    "1. Se a função $f$ não é contínua, então não é diferenciável. A função $f$ é diferenciável. Consequentemente, a função $f$ é contínua.\n",
    "1. Se existe vida em Marte, então os especialistas estão enganados e o governo está a mentir. Se o governo está a mentir, então os especialistas estão certos ou não existe vida em Marte. O governo está a mentir. Consequentemente, existe vida em Marte.\n",
    "1. (Lewis Carroll) Os bebés são ilógicos. Ninguém que consiga domar um crocodilo deve ser menosprezado. Pessoas ilógicas são  menosprezadas. Consequentemente, os bebés não conseguem domar crocodilos.\n",
    "1. (Lewis Carroll) Nenhum cão de caça vagueia pelo Zodíaco. Apenas os cometas vagueiam pelo Zodiaco. Só os cães de caça tem a cauda encaracolada. Consequentemente, nenhum cometa tem a cauda enrolada.\n",
    "1. As frutas verdes não são saudáveis. Todas estas maçãs não são saudáveis. Nenhum fruto, que tenha crescido na escuridão é saudável. Estas maçãs não cresceram ao sol. Consequentemente, toda a fruta madura é saudável."
   ]
  },
  {
   "cell_type": "markdown",
   "metadata": {
    "id": "YvAd5NDDspXj"
   },
   "source": [
    "## Exercícios de Python"
   ]
  },
  {
   "cell_type": "markdown",
   "metadata": {
    "id": "FLvhfx_EspXj"
   },
   "source": [
    "**Exercício 30:**\n",
    "Usando funções implementadas no capítulo anterior, defina uma função\n",
    "\n",
    "     argumento(list, list)->bool\n",
    "\n",
    "\n",
    "que verifica se a primeira lista [q1,q2,...,qm] é um argumento válido, onde cada proposição é definida por uma string e tem  variáveis na segunda lista $[p1,p2,...pn]$. (USANDO: a linguagem proposicional de símbolos 0,1,\\&,$|$ e $\\sim$, mais as funções imp(bool,bool)->bool e biimp(bool,bool)->bool )\n",
    "\n",
    "     >>>  argumento(['p1', 'imp(p1,p2)','p2'],['p1','p2'])\n",
    "     True\n"
   ]
  },
  {
   "cell_type": "markdown",
   "metadata": {
    "id": "Qb9NY-xYspXk"
   },
   "source": [
    "(Funções do capítulo anterior que vamos usar)"
   ]
  },
  {
   "cell_type": "code",
   "execution_count": 7,
   "metadata": {
    "executionInfo": {
     "elapsed": 35,
     "status": "ok",
     "timestamp": 1743181762727,
     "user": {
      "displayName": "Carlos Leandro",
      "userId": "02142946371031398041"
     },
     "user_tz": 0
    },
    "id": "i31mIcrSspXk"
   },
   "outputs": [],
   "source": [
    "def imp(p,q):\n",
    "    u''' imp(bool,bool)->bool\n",
    "         Operador de implicação '''\n",
    "    return not p or q\n",
    "\n",
    "def biimp(p,q):\n",
    "    u''' biimp(bool,bool)->bool\n",
    "         Operador de bi-implicação'''\n",
    "    return imp(p,q) and imp(q,p)\n",
    "\n",
    "def Eval(exp, atrib):\n",
    "    u''' Eval(string,list)->bool\n",
    "\n",
    "         Avalia a expressão proposicional, na sintaxe do Python,\n",
    "         associando a cada variável usada <var> o valor lógico <bool>.\n",
    "         A associação entre variáveis e valores lógicos deve ser descrita\n",
    "         por pares (<var>,<bool>) na lista que serve de argumento.\n",
    "             '''\n",
    "    for var in atrib:\n",
    "        exp = exp.replace(var[0],str(var[1]))\n",
    "    return eval(exp)\n",
    "\n",
    "def tautologia(exp,var):\n",
    "    u''' tautologia(str,list)->bool\n",
    "\n",
    "         Verifica se a proposição descrita pela string é uma tautologia,\n",
    "         assumindo que as suas variáveis estão descritas na lista.\n",
    "         USANDO: a linguagem proposicional de símbolos 0,1,\\&,$|$ e $\\sim$,\n",
    "         mais as funções imp(bool,bool)->bool e biimp(bool,bool)->bool\n",
    "             '''\n",
    "    sai = True\n",
    "    nvar = len(var)\n",
    "    for n in range(2**nvar-1,-1,-1):\n",
    "        l=str(bin(n))[2:].rjust(nvar,'0')\n",
    "        cont=0\n",
    "        lista = []\n",
    "        for v in var:\n",
    "            lista.append((v,bool(int(l[cont]))))\n",
    "            cont = cont + 1\n",
    "        sai = sai and bool(Eval(exp,lista))\n",
    "    return sai"
   ]
  },
  {
   "cell_type": "code",
   "execution_count": 8,
   "metadata": {
    "executionInfo": {
     "elapsed": 14,
     "status": "ok",
     "timestamp": 1743181762744,
     "user": {
      "displayName": "Carlos Leandro",
      "userId": "02142946371031398041"
     },
     "user_tz": 0
    },
    "id": "Zd9Cky5aspXl"
   },
   "outputs": [],
   "source": [
    "def argumento(lista,var):\n",
    "    u''' tautologia(list,list)->bool\n",
    "\n",
    "         Verifica se a primeira lista [q1,q2,...,qm] é um argumento válido,\n",
    "         onde cada proposição é definida por uma string e tem  variáveis na\n",
    "         segunda lista [p1,p2,...pn].\n",
    "         USANDO: a linguagem proposicional de símbolos 0,1,\\&,$|$ e $\\sim$,\n",
    "         mais as funções imp(bool,bool)->bool e biimp(bool,bool)->bool\n",
    "             '''\n",
    "    sequente = 'imp(' + lista[0]\n",
    "    for prop in lista[1:-1]:\n",
    "        sequente = sequente + ' and '+ prop\n",
    "    sequente = sequente + ',' + lista[-1] + ')'\n",
    "    return tautologia(sequente,var)"
   ]
  },
  {
   "cell_type": "code",
   "execution_count": 9,
   "metadata": {
    "colab": {
     "base_uri": "https://localhost:8080/"
    },
    "executionInfo": {
     "elapsed": 26,
     "status": "ok",
     "timestamp": 1743181762771,
     "user": {
      "displayName": "Carlos Leandro",
      "userId": "02142946371031398041"
     },
     "user_tz": 0
    },
    "id": "eJXFOlYKspXl",
    "outputId": "02a8429b-056b-49f4-e877-197e3cca3f68"
   },
   "outputs": [
    {
     "data": {
      "text/plain": [
       "True"
      ]
     },
     "execution_count": 9,
     "metadata": {},
     "output_type": "execute_result"
    }
   ],
   "source": [
    "argumento(['p1', 'imp(p1,p2)','p2'],['p1','p2'])"
   ]
  },
  {
   "cell_type": "markdown",
   "metadata": {},
   "source": [
    "## Referências\n",
    "\n",
    "1. **\"An Introduction to Logic - Second Edition: Using Natural Deduction, Real Arguments, a Little History, and Some Humour\"**\n",
    "   - **Autores:** Richard T. W. Arthur\n",
    "   - **Descrição:** Este livro oferece uma introdução abrangente à lógica, integrando métodos de análise de argumentos desenvolvidos na lógica informal moderna com técnicas de dedução natural. Apresenta o conteúdo de forma clara e envolvente, incluindo exemplos históricos e humorísticos para ilustrar os conceitos. \n",
    "   - **Tópicos-chave:** Dedução natural, análise de argumentos reais, história da lógica, técnicas de prova.\n",
    "\n",
    "2. **\"Logic Primer\"**\n",
    "   - **Autores:** Colin Allen e Michael Hand\n",
    "   - **Descrição:** Este livro apresenta uma introdução rigorosa aos sistemas de dedução natural da lógica proposicional e de primeira ordem. Projetado para promover a relação aluno-instrutor, os conceitos-chave são apresentados em definições e comentários concisos, com a expectativa de que o instrutor os elabore.\n",
    "   - **Tópicos-chave:** Dedução natural, lógica proposicional, lógica de primeira ordem, sistemas formais.\n",
    "\n",
    "3. **\"Natural Deduction: An Introduction to Logic with Real Arguments, a Little History, and Some Humour\"**\n",
    "   - **Autor:** Richard T. W. Arthur\n",
    "   - **Descrição:** Este livro fornece uma introdução abrangente à lógica, integrando métodos de análise de argumentos desenvolvidos na lógica informal moderna com técnicas de dedução natural. Apresenta o conteúdo de forma clara e envolvente, incluindo exemplos históricos e humorísticos para ilustrar os conceitos.\n",
    "   - **Tópicos-chave:** Dedução natural, análise de argumentos reais, história da lógica, técnicas de prova.\n",
    "\n",
    "4. **\"Logic: The Laws of Truth\"**\n",
    "   - **Autor:** Nicholas J. J. Smith\n",
    "   - **Descrição:** Este livro oferece uma introdução abrangente à lógica clássica, cobrindo ferramentas e técnicas formais, bem como seus fundamentos racionais e significados filosóficos mais amplos. Apresenta várias formas de prova, incluindo árvores de prova, variantes principais da dedução natural, provas axiomáticas e cálculo de sequentes.\n",
    "   - **Tópicos-chave:** Dedução natural, lógica clássica, técnicas de prova, fundamentos filosóficos da lógica.\n",
    "\n",
    "5. **\"Natural Deduction: An Introduction to Logic with Real Arguments, a Little History, and Some Humour\"**\n",
    "   - **Autor:** Richard T. W. Arthur\n",
    "   - **Descrição:** Richard Arthur apresenta uma abordagem inovadora ao estudo da lógica, integrando métodos de análise de argumentos desenvolvidos na lógica informal moderna com técnicas de dedução natural. O livro é reconhecido por sua clareza e estilo envolvente, tornando-o acessível para iniciantes.\n",
    "   - **Tópicos-chave:** Dedução natural, análise de argumentos reais, história da lógica, técnicas de prova.\n"
   ]
  },
  {
   "cell_type": "code",
   "execution_count": null,
   "metadata": {},
   "outputs": [],
   "source": []
  }
 ],
 "metadata": {
  "colab": {
   "provenance": []
  },
  "kernelspec": {
   "display_name": "Python 3 (ipykernel)",
   "language": "python",
   "name": "python3"
  },
  "language_info": {
   "codemirror_mode": {
    "name": "ipython",
    "version": 3
   },
   "file_extension": ".py",
   "mimetype": "text/x-python",
   "name": "python",
   "nbconvert_exporter": "python",
   "pygments_lexer": "ipython3",
   "version": "3.10.12"
  }
 },
 "nbformat": 4,
 "nbformat_minor": 4
}
