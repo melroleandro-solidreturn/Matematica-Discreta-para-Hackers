{
 "cells": [
  {
   "cell_type": "markdown",
   "metadata": {
    "id": "p43zriVb19dK"
   },
   "source": [
    "# Relações de ordem e de equivalência\n",
    "\n",
    "\n",
    "[Abrir no Colab este ficheiro para o poder executar](https://colab.research.google.com/github/melroleandro-solidreturn/Matematica-Discreta-para-Hackers/blob/main/Chapter7_Relacaoes_Equivalencia_Ordem.ipynb.ipynb)\n"
   ]
  },
  {
   "cell_type": "markdown",
   "metadata": {
    "id": "YZQ8_7LZ2RQc"
   },
   "source": [
    "Neste capítulo, abordamos os conceitos fundamentais das relações de ordem (incluindo ordens parciais) e das relações de equivalência, que constituem pilares na matemática discreta e desempenham um papel central na ciência da computação. Analisaremos como estas relações organizam os conjuntos, permitindo agrupar e classificar os elementos com base em propriedades definidas.\n",
    "\n",
    "Para além da exposição teórica, aplicaremos estes conceitos na prática, utilizando Python para desenvolver implementações que ilustram a  aplicação das relações de ordem e equivalência na resolução de problemas."
   ]
  },
  {
   "cell_type": "markdown",
   "metadata": {
    "id": "aAydtCAM2Yja"
   },
   "source": [
    "## Relações de Equivalência\n",
    "Uma relação de equivalência generaliza a noção de igualdade, agrupando elementos com características comuns.  \n",
    "\n",
    "**Definição 2:** Relação de Equivalência\n",
    "\n",
    "Uma relação binária $R$ num conjunto $A$ é uma **relação de equivalência** se for:  \n",
    "1. **Reflexiva:** $\\forall x \\in A, \\; x R x$.  \n",
    "2. **Simétrica:** $\\forall x, y \\in A, \\; x R y \\Rightarrow y R x$.  \n",
    "3. **Transitiva:** $\\forall x, y, z \\in A, \\; x R y \\wedge y R z \\Rightarrow x R z$.  \n",
    "\n",
    "**Exemplo 1:** Irmãos Biológicos  \n",
    "Seja $A$ o conjunto de todas as pessoas. A relação \"ser irmão biológico de\" é:  \n",
    "- **Reflexiva:** Toda pessoa $x$ é irmã de si mesma (considerando a mesma família).  \n",
    "- **Simétrica:** Se a pessoa $x$ é irmã da pessoa $x$, então a pessoa $y$ irmã da pessoa $x$.  \n",
    "- **Transitiva:** Se a pessoa $x$ é irmã da pessoa $y$ e a pessoa $y$ é irmã da pessoa $z$, então a pessoa $x$ é irmã da pessoa $z$.  \n",
    "\n",
    "**Exemplo 2:** Códigos Postais  \n",
    "Considere o conjunto de moradas em Portugal. Duas moradas são equivalentes se partilham o **mesmo código postal**:  \n",
    "- **Reflexiva:** Toda morada tem o mesmo código postal que si própria.  \n",
    "- **Simétrica:** Se a morada $X$ partilha código postal com $Y$, então $Y$ partilha com $X$.  \n",
    "- **Transitiva:** Se $X$ partilha com $Y$ e $Y$ com $Z$, então $X$ partilha com $Z$.  \n",
    "\n",
    "**Notação:** Para relações de equivalência, usamos $a \\sim b$ para denotar \"$a$ é equivalente a $b$."
   ]
  },
  {
   "cell_type": "markdown",
   "metadata": {
    "id": "kNfIealP2uf6"
   },
   "source": [
    "## Classes de Equivalência\n",
    "As relações de equivalência dividem o conjunto em subconjuntos disjuntos chamados **classes de equivalência**, onde todos os elementos são equivalentes entre si.  \n",
    "\n",
    "**Definição 3:** Classe de Equivalência \n",
    "Para $a \\in A$, a classe de equivalência de $a$, denotada por $[a]$, é:  \n",
    "\n",
    "$$\n",
    "[a] = \\{ x \\in A \\mid x \\sim a \\}.\n",
    "$$\n",
    "\n",
    "**Exemplo 3:** Códigos Postais  \n",
    "A classe de equivalência das moradas com código postal **1000-001 Lisboa** inclui todas as moradas nessa zona. Qualquer morada do grupo pode representar a classe (ex: Rua Augusta representa a mesma classe que o Terreiro do Paço).  \n",
    "\n",
    "**Exemplo 4:**  \n",
    "Considere a relação $x \\equiv y \\pmod{10}$ (resto da divisão por 10 igual). As classes são:  \n",
    "- $[0] = \\{0, 10, 20, \\ldots\\}$  \n",
    "- $[1] = \\{1, 11, 21, \\ldots\\}$  \n",
    "- ...  \n",
    "- $[9] = \\{9, 19, 29, \\ldots\\}$\n",
    "\n"
   ]
  },
  {
   "cell_type": "code",
   "execution_count": 22,
   "metadata": {
    "colab": {
     "base_uri": "https://localhost:8080/"
    },
    "executionInfo": {
     "elapsed": 12,
     "status": "ok",
     "timestamp": 1743590884598,
     "user": {
      "displayName": "Carlos Leandro",
      "userId": "02142946371031398041"
     },
     "user_tz": -60
    },
    "id": "m-BwjlkCGDBA",
    "outputId": "90cd78a9-bd8b-473e-d6b4-de31c8547c8b"
   },
   "outputs": [
    {
     "name": "stdout",
     "output_type": "stream",
     "text": [
      "É equivalência? True\n",
      "Classes: [{0, 2}, {1, 3}]\n"
     ]
    }
   ],
   "source": [
    "def e_equivalencia(R, A):\n",
    "    # Reflexividade\n",
    "    for a in A:\n",
    "        if (a, a) not in R:\n",
    "            return False\n",
    "    # Simetria\n",
    "    for a, b in R:\n",
    "        if (b, a) not in R:\n",
    "            return False\n",
    "    # Transitividade\n",
    "    for a, b in R:\n",
    "        for b_s, c in R:\n",
    "            if b == b_s and (a, c) not in R:\n",
    "                return False\n",
    "    return True\n",
    "\n",
    "def classes_equivalencia(R, A):\n",
    "    classes = {}\n",
    "    for a in A:\n",
    "        # Conjunto dos elementos x relacionados a a (x R a ou a R x)\n",
    "        classes[a] = {x for x, y in R if x == a or y == a}\n",
    "\n",
    "    # Converter os valores do dicionário em uma lista de conjuntos\n",
    "    lista_classes = list(classes.values())\n",
    "\n",
    "    # Remover duplicatas\n",
    "    classes_unicas = []\n",
    "    for classe in lista_classes:\n",
    "        if classe not in classes_unicas:\n",
    "            classes_unicas.append(classe)\n",
    "\n",
    "    return classes_unicas\n",
    "\n",
    "A = {0, 1, 2, 3}\n",
    "R = {(0, 0), (1, 1), (2, 2), (3, 3), (0, 2), (2, 0), (1, 3), (3, 1)}\n",
    "print(\"É equivalência?\", e_equivalencia(R, A))  # Saída: True\n",
    "print(\"Classes:\", classes_equivalencia(R, A))  # Saída: {frozenset({0, 2}), frozenset({1, 3})}"
   ]
  },
  {
   "cell_type": "markdown",
   "metadata": {
    "id": "9ukPaNOf3JD8"
   },
   "source": [
    "## Partições \n",
    "Uma partição divide um conjunto em subconjuntos não vazios e disjuntos.  \n",
    "\n",
    "**Definição 4:** Partição  \n",
    "Seja $I$ um conjunto de indices. Uma coleção de subconjuntos $\\{A_i\\}_{i\\in I}$ de $A$ é uma partição se:  \n",
    "1. $\\bigcup_{i\\in I} A_i = A$.  \n",
    "2. $A_i \\cap A_j = \\emptyset$ se $i \\neq j$ para todo $i,j\\in I$.  \n",
    "\n",
    "**Exemplos 5:** Partição \n",
    "1. **Dias da Semana:** Partição em dias úteis e fim de semana.  \n",
    "2. **Números Inteiros:** Partição em pares e ímpares.  \n",
    "3. **Cores do Arco-Íris:** Partição em 7 cores distintas.  \n",
    "\n",
    "**Relação com Classes de Equivalência:**\n",
    "\n",
    "**Teorema:**  \n",
    "As classes de equivalência de $A$ formam uma **partição** de $A$:  \n",
    "1. **União:** Cada elemento pertence a uma classe.  \n",
    "2. **Disjunção:** Classes diferentes são disjuntas.  \n",
    "\n",
    "\n",
    "Ou seja, toda relação de equivalência gera uma partição (suas classes), e toda partição define uma relação de equivalência (\"pertence ao mesmo subconjunto\").  \n"
   ]
  },
  {
   "cell_type": "markdown",
   "metadata": {
    "id": "kn6k60GB3jZX"
   },
   "source": [
    "**Exemplo 6: Agrupar Números por Resto**  \n",
    "O código abaixo agrupa números de 0 a 99 pelo resto da divisão por 10:  \n"
   ]
  },
  {
   "cell_type": "code",
   "execution_count": 23,
   "metadata": {
    "colab": {
     "base_uri": "https://localhost:8080/"
    },
    "executionInfo": {
     "elapsed": 49,
     "status": "ok",
     "timestamp": 1743519654504,
     "user": {
      "displayName": "Carlos Leandro",
      "userId": "02142946371031398041"
     },
     "user_tz": -60
    },
    "id": "ftgNCeAo1wjY",
    "outputId": "786823d3-6bae-4185-f88a-0d6158dc9a55"
   },
   "outputs": [
    {
     "name": "stdout",
     "output_type": "stream",
     "text": [
      "Classe 0: [0, 10, 20, 30, 40, 50, 60, 70, 80, 90]\n",
      "Classe 1: [1, 11, 21, 31, 41, 51, 61, 71, 81, 91]\n",
      "Classe 2: [2, 12, 22, 32, 42, 52, 62, 72, 82, 92]\n",
      "Classe 3: [3, 13, 23, 33, 43, 53, 63, 73, 83, 93]\n",
      "Classe 4: [4, 14, 24, 34, 44, 54, 64, 74, 84, 94]\n",
      "Classe 5: [5, 15, 25, 35, 45, 55, 65, 75, 85, 95]\n",
      "Classe 6: [6, 16, 26, 36, 46, 56, 66, 76, 86, 96]\n",
      "Classe 7: [7, 17, 27, 37, 47, 57, 67, 77, 87, 97]\n",
      "Classe 8: [8, 18, 28, 38, 48, 58, 68, 78, 88, 98]\n",
      "Classe 9: [9, 19, 29, 39, 49, 59, 69, 79, 89, 99]\n"
     ]
    }
   ],
   "source": [
    "classes = {}\n",
    "for i in range(100):\n",
    "    resto = i % 10\n",
    "    if resto in classes:\n",
    "        classes[resto].append(i)\n",
    "    else:\n",
    "        classes[resto] = [i]\n",
    "\n",
    "for chave, valores in classes.items():\n",
    "    print(f\"Classe {chave}: {valores}\")"
   ]
  },
  {
   "cell_type": "markdown",
   "metadata": {
    "id": "XIhWhGV-18JY"
   },
   "source": [
    "**Exemplo 7:** Verifica se uma coleção de conjuntos forma uma partição de um conjunto\n",
    "\n",
    "Uma função em Python que verifica se uma coleção de conjuntos forma uma partição de um conjunto AA:\n"
   ]
  },
  {
   "cell_type": "code",
   "execution_count": 24,
   "metadata": {
    "id": "IwZ8sI0Df4g8"
   },
   "outputs": [],
   "source": [
    "def eh_particao(colecao_conjuntos: list[set], A: set) -> bool:\n",
    "    \"\"\"\n",
    "    Verifica se uma coleção de conjuntos é uma partição do conjunto A.\n",
    "\n",
    "    Args:\n",
    "        colecao_conjuntos (list[set]): Lista de conjuntos a serem verificados.\n",
    "        A (set): Conjunto original.\n",
    "\n",
    "    Returns:\n",
    "        bool: True se a coleção é uma partição de A, False caso contrário.\n",
    "    \"\"\"\n",
    "\n",
    "    # Caso especial: se A é vazio, a partição também deve ser vazia\n",
    "    if not A:\n",
    "        return not colecao_conjuntos\n",
    "\n",
    "    # 1. Verificar se todos os conjuntos na coleção são não vazios\n",
    "    for conjunto in colecao_conjuntos:\n",
    "        if len(conjunto) == 0:\n",
    "            return False\n",
    "\n",
    "    # 2. Verificar se todos os elementos dos conjuntos pertencem a A\n",
    "    for conjunto in colecao_conjuntos:\n",
    "        if not conjunto.issubset(A):\n",
    "            return False\n",
    "\n",
    "    # 3. Verificar se a união dos conjuntos é igual a A\n",
    "    uniao = set().union(*colecao_conjuntos)\n",
    "    if uniao != A:\n",
    "        return False\n",
    "\n",
    "    # 4. Verificar se os conjuntos são disjuntos dois a dois\n",
    "    for i in range(len(colecao_conjuntos)):\n",
    "        for j in range(i + 1, len(colecao_conjuntos)):\n",
    "            if colecao_conjuntos[i].intersection(colecao_conjuntos[j]):\n",
    "                return False\n",
    "\n",
    "    return True"
   ]
  },
  {
   "cell_type": "markdown",
   "metadata": {
    "id": "x4d4tWtPgP1U"
   },
   "source": [
    "**Funcionamento da Função:**\n",
    "1. **Verificação de Conjuntos Não Vazios:** Garante que todos os subconjuntos na coleção tenham pelo menos um elemento.\n",
    "2. **Subconjuntos de $A$:** Confirma que todos os elementos dos subconjuntos pertencem a $A$.\n",
    "3. **União Igual a $A$:** A união dos subconjuntos deve cobrir todos os elementos de $A$.\n",
    "4. **Disjunção:** Os subconjuntos não podem compartilhar elementos entre si.\n"
   ]
  },
  {
   "cell_type": "markdown",
   "metadata": {
    "id": "NVTs-Huogmpx"
   },
   "source": [
    "**Exemplos 8:**\n",
    "\n",
    "1. **Partição válida**"
   ]
  },
  {
   "cell_type": "code",
   "execution_count": 25,
   "metadata": {
    "colab": {
     "base_uri": "https://localhost:8080/"
    },
    "executionInfo": {
     "elapsed": 237,
     "status": "ok",
     "timestamp": 1743530458956,
     "user": {
      "displayName": "Carlos Leandro",
      "userId": "02142946371031398041"
     },
     "user_tz": -60
    },
    "id": "McbfFvm6gVfq",
    "outputId": "cd48f25d-9df8-497e-e8e8-54e5e35a4f9b"
   },
   "outputs": [
    {
     "name": "stdout",
     "output_type": "stream",
     "text": [
      "True\n"
     ]
    }
   ],
   "source": [
    "A = {1, 2, 3, 4}\n",
    "colecao = [{1}, {2}, {3, 4}]\n",
    "print(eh_particao(colecao, A))  # Saída: True"
   ]
  },
  {
   "cell_type": "markdown",
   "metadata": {
    "id": "zmBrMiQLg8fB"
   },
   "source": [
    "2. **Conjunto vazio**"
   ]
  },
  {
   "cell_type": "code",
   "execution_count": 26,
   "metadata": {
    "colab": {
     "base_uri": "https://localhost:8080/"
    },
    "executionInfo": {
     "elapsed": 296,
     "status": "ok",
     "timestamp": 1743530514205,
     "user": {
      "displayName": "Carlos Leandro",
      "userId": "02142946371031398041"
     },
     "user_tz": -60
    },
    "id": "FC792W7hgxFm",
    "outputId": "a30565af-6044-4c26-b462-8a7cac646620"
   },
   "outputs": [
    {
     "name": "stdout",
     "output_type": "stream",
     "text": [
      "True\n"
     ]
    }
   ],
   "source": [
    "A = set()\n",
    "colecao = []\n",
    "print(eh_particao(colecao, A))  # Saída: True (partição vazia de A vazio)"
   ]
  },
  {
   "cell_type": "markdown",
   "metadata": {
    "id": "5OlCOnNshMKx"
   },
   "source": [
    "3. **Conjuntos com elementos fora de $A$**"
   ]
  },
  {
   "cell_type": "code",
   "execution_count": 27,
   "metadata": {
    "colab": {
     "base_uri": "https://localhost:8080/"
    },
    "executionInfo": {
     "elapsed": 238,
     "status": "ok",
     "timestamp": 1743530564467,
     "user": {
      "displayName": "Carlos Leandro",
      "userId": "02142946371031398041"
     },
     "user_tz": -60
    },
    "id": "FDatr8y-hFQp",
    "outputId": "49378d60-90b6-44b5-ddab-4393de71c6ac"
   },
   "outputs": [
    {
     "name": "stdout",
     "output_type": "stream",
     "text": [
      "False\n"
     ]
    }
   ],
   "source": [
    "A = {1, 2}\n",
    "colecao = [{1}, {2}, {3}]\n",
    "print(eh_particao(colecao, A))  # Saída: False (3 ∉ A)"
   ]
  },
  {
   "cell_type": "markdown",
   "metadata": {
    "id": "RhCZHWY-hkox"
   },
   "source": [
    "4. **Conjuntos não disjuntos**"
   ]
  },
  {
   "cell_type": "code",
   "execution_count": 28,
   "metadata": {
    "colab": {
     "base_uri": "https://localhost:8080/"
    },
    "executionInfo": {
     "elapsed": 262,
     "status": "ok",
     "timestamp": 1743530675418,
     "user": {
      "displayName": "Carlos Leandro",
      "userId": "02142946371031398041"
     },
     "user_tz": -60
    },
    "id": "TlxKUONdhqiB",
    "outputId": "29d4e49a-e4ae-4058-ebaf-20638088a684"
   },
   "outputs": [
    {
     "name": "stdout",
     "output_type": "stream",
     "text": [
      "False\n"
     ]
    }
   ],
   "source": [
    "A = {1, 2, 3}\n",
    "colecao = [{1, 2}, {2, 3}]\n",
    "print(eh_particao(colecao, A))  # Saída: False (interseção entre conjuntos)"
   ]
  },
  {
   "cell_type": "markdown",
   "metadata": {
    "id": "ntdLLQqcJYmC"
   },
   "source": [
    "## Relação de Ordem Parcial\n",
    "\n",
    "É frequente recorrer a ordens para organizar os elementos de um conjunto. Por exemplo, ordenam-se palavras $ w_1 $ e $ w_2 $, dizendo que $ w_1 \\leq w_2 $ se $ w_1 $ aparece no dicionário antes de $ w_2 $. Num cronograma de um projeto, descrito por uma relação entre tarefas, escrevemos $ x \\leq y $ se a tarefa $ x $ antecede a tarefa $ y $. No conjunto dos números inteiros, é habitual assumir que os números estão ordenados pela relação \"menor ou igual\".\n",
    "\n",
    "Uma **relação de ordem parcial** definida num conjunto $ A $ é uma relação que satisfaz as seguintes propriedades:\n",
    "1. **Reflexiva**: Para todo $ a \\in A $, $ (a, a) \\in R $.\n",
    "2. **Antissimétrica**: Para todo $ a, b \\in A $, se $ (a, b) \\in R $ e $ (b, a) \\in R $, então $ a = b $.\n",
    "3. **Transitiva**: Para todo $ a, b, c \\in A $, se $ (a, b) \\in R $ e $ (b, c) \\in R $, então $ (a, c) \\in R $.\n",
    "\n",
    "**Exemplo 9**: A relação \"menor ou igual\", $ \\leq $, definida no conjunto dos números inteiros $ \\mathbb{Z} $, é uma ordem parcial, pois:\n",
    "1. $ \\leq $ é reflexiva: para todo $ n \\in \\mathbb{Z} $, $ n \\leq n $.\n",
    "2. $ \\leq $ é antissimétrica: para todo $ n, m \\in \\mathbb{Z} $, se $ n \\leq m $ e $ m \\leq n $, então $ n = m $.\n",
    "3. $ \\leq $ é transitiva: para todo $ n, m, p \\in \\mathbb{Z} $, se $ n \\leq m $ e $ m \\leq p $, então $ n \\leq p $.\n",
    "\n",
    "Note-se que a relação inversa de $ \\leq $, denotada por $ \\geq $ (ou seja, $ \\leq^{-1} $), é também uma ordem parcial em $ \\mathbb{Z} $. Para enfatizar a ordenação, escrevemos $ (\\mathbb{Z}, \\leq) $ e $ (\\mathbb{Z}, \\geq)$, designando-os como conjuntos parcialmente ordenados.\n",
    "\n",
    "**Exemplo 10**: A relação $ R $ definida em $ A = \\{1, 2, 3, 4, 6\\} $, onde $ a R b $ se $ a $ divide $ b $, é uma ordem parcial em $ A $. Neste caso, a relação pode ser expressa em extensão por:\n",
    "\n",
    "$$ \n",
    "R = \\{(1, 1), (1, 2), (1, 3), (1, 4), (1, 6), (2, 2), (2, 4), (2, 6), (3, 3), (3, 6), (4, 4), (6, 6)\\} \n",
    "$$\n",
    "\n",
    "É comum escrever $ (A, R) $ para explicitar que a relação $ R $ é usada para ordenar os elementos do conjunto $ A $.\n",
    "\n",
    "**Definição 5:** Conjunto Parcialmente Ordenado \n",
    "O par $ P = (A, R) $ é um **conjunto parcialmente ordenado (CPO)** se $ A $ é um conjunto e $ R $ é uma ordem parcial em $ A $. É habitual representar as relações de ordem parcial pelo símbolo $ \\leq $, denotando genericamente um CPO por $ P = (A, \\leq) $, quando $ \\leq $ é uma ordem parcial definida em $ A $.\n",
    "\n",
    "Genericamente, para uma relação $ R $ definida num conjunto $ A $ e um par de elementos $ (a, b) \\in A \\times A $, dizemos que $ a $ e $ b $ estão em relação se $ a R b $ ou $ b R a $; caso contrário, $ a $ e $ b $ não estão em relação. Neste contexto, num CPO, definimos:\n",
    "\n",
    "**Definição 6:** Comparáveis\n",
    "Num conjunto parcialmente ordenado $P = (A, \\leq) $, dois elementos $ a $ e $ b $ de $ A $ dizem-se **comparáveis** se $ a \\leq b $ ou $ b \\leq a $.\n",
    "\n",
    "Por outro lado, se num CPO $P = (A, \\leq)$ não se verifica nem $a \\leq b $ nem $b \\leq a$, $ a $ e $ b $ dizem-se **não comparáveis**.\n",
    "\n",
    "**Exemplo 11**: Seja $\\leq $ a relação parcialmente ordenada definida em $A = \\{1, 2, 3, 4, 6\\}$, onde $a \\leq b$ se $a$ divide $b$. No CPO $ (A, \\leq) $:\n",
    "- Os elementos $2$ e $4$ são comparáveis, pois $2$ divide $4$ ($2 \\leq 4 $).\n",
    "- Os elementos $3$ e $4$ não são comparáveis, uma vez que $3$ não divide $4$ e $4$ não divide $3$.\n",
    "\n",
    "Neste sentido, o conjunto $ \\{1, 2, 3, 6\\}$ é formado por elementos comparáveis dois a dois, enquanto o conjunto $\\{3, 4\\}$ é formado por elementos não comparáveis.\n",
    "\n",
    "Um conjunto parcialmente ordenado $(A, \\leq)$ diz-se um **conjunto totalmente ordenado** se, para qualquer par de elementos $a$ e $b$ em $ A$, $a $ e $ b$ forem comparáveis, ou seja, se $a \\leq b $ ou $b \\leq a $ para todo $a, b \\in A$.\n",
    "\n",
    "O CPO $(\\mathbb{Z}, \\leq)$ é um exemplo de um conjunto totalmente ordenado, segundo a ordem usual de \"menor ou igual\". Para todo par de inteiros $x$ e $y$, ou $x \\leq y$, ou $y \\leq x$.\n",
    "\n"
   ]
  },
  {
   "cell_type": "markdown",
   "metadata": {
    "id": "3obwnOG1NScC"
   },
   "source": [
    "## Diagrama de Hasse\n",
    "\n",
    "Qualquer relação de ordem parcial num conjunto finito pode ser representada graficamente por um **diagrama de Hasse**. Ao contrário dos diagramas sagitais, neste diagrama os elementos são ligados por arcos não dirigidos. O diagrama de Hasse é obtido simplificando o diagrama sagital da relação, removendo todos os lacetes (devidos à reflexividade) e todos os arcos que podem ser deduzidos pela transitividade da relação. Convenciona-se, neste tipo de representação, que, se um elemento precede outro na relação \\( \\leq \\), o primeiro é posicionado mais abaixo na figura, permitindo suprimir a orientação usada no diagrama sagital sem gerar ambiguidade.\n",
    "\n",
    "**Exemplo 12**: Para desenhar o diagrama de Hasse que representa a ordem parcial $ \\leq = \\{(a, b) : a \\text{ divide } b\\} $ no conjunto $ A = \\{1, 2, 3, 4, 6, 8, 12\\} $.\n"
   ]
  },
  {
   "cell_type": "markdown",
   "metadata": {},
   "source": [
    "![image](images/hasse1.png)"
   ]
  },
  {
   "cell_type": "markdown",
   "metadata": {
    "id": "TM7neTweNkAx"
   },
   "source": [
    "Começamos por desenhar, em (a), o diagrama sagital da relação. Em (b), removemos todos os lacetes. De seguida, eliminamos todos os arcos que podem ser inferidos pela transitividade. Os arcos removidos neste terceiro passo são: $ (1, 4) $, $(1, 6) $, $ (1, 8) $, $ (1, 12) $, $ (2, 8) $, $ (2, 12) $ e $ (3, 12) $.\n",
    "\n",
    "Ordenando os vértices de forma a que as setas apontem todas para cima e removendo a orientação, obtemos o diagrama de Hasse. O diagrama resultante desta transformação é apresentado na figura acima, em (c).\n",
    "\n",
    "De seguida, apresentamos mais alguns exemplos de relações representadas através de diagramas de Hasse.\n",
    "\n",
    "**Exemplo 13**: Em baixo, apresentamos o diagrama de Hasse da relação parcialmente ordenada $ \\leq $, definida em $ A = \\{1, 2, 3, 4, 6\\} $, onde $ a \\leq b $ se $ a $ divide $ b $."
   ]
  },
  {
   "cell_type": "markdown",
   "metadata": {
    "id": "1WJwuGymOWQL"
   },
   "source": [
    "![image.png](data:image/png;base64,iVBORw0KGgoAAAANSUhEUgAAAMQAAAC9CAIAAABj6UU1AAAPXElEQVR4Ae2dfVBUVRvAb+o2DlFRjsWAzWh85IxomA2Ipo2lNpofVE5bGBhBlpIgm9D4kZoII5gfjJgyGNqKgGNqSVmKOaG4AUMqSmpqYYXFgAqvxjfs8zbueGdZzi67d8+599zdZ//xnuec85zn/M7PgvXuXQHwhQQoERAo5cE0SABQJpSAGgGUiRpKTIQyoQPUCKBM1FBiIpQJHaBGAGWihhIToUzoADUCKBM1lJgIZUIHqBFAmaihxEQoEzpAjQDKRA0lJkKZ0AFqBFAmaigxEcqEDlAjgDJRQ4mJUCZ0gBoBlIkaSkyEMqED1AigTNRQYiKUCR2gRgBlooYSE6FM6AA1AigTNZSYCGWy5UBTU5Otbv762tra/vjjD6XqQpkI5Nva2nQ6XXp6ek5OTmJi4vXr1wmDuAwtXrx47dq1SpWGMlmSb25uHjduXElJCQB0dnaOHDlyxYoVloO4bBsMBk9PT5SJo8NZs2aNVqsVC4qLizOJJUb4vGhra0tJSXn22WdRJl4O6Pbt256enrt37+alILvr2LRpU0NDA8pkNzD2Aw0GgyAIpaWlW+6+MjIybt68yX5ZZ1c4ffr0/v37AQBlchYlxfm5ubmCIKxevbqxsREALl68GBAQ8Pfff1Ncgnqqzs7O1atXm9KiTNTxSk+YmpoqCEJ2draYYvLkyfPmzRObHF5kZWWJuqNMHB1QZmamIAjl5eViTe+++663t7fY5O3il19+yc/PF6tCmUQUyl8UFRUJgnD27FmxlAULFgwYMKCrq0uMcHURERGRkJCw+N7rscceCwsLW7x48fnz5+WvE99n6sH8xo0bGo3m0KFDYjQyMjIoKEhscn7h7e2Nbw1wdEZRUVFLliwxFWQ0GgMDA7dv385RfTZLefTRR1euXGlzCMNO/C+TJdzGxsZZs2bl5eVdunQp4e7LaDRaDuKvvXPnzqioKA8PD39///j4+KtXr8pfI8pEYN7d3X3y5Mn8/PzLly8TujFkhQDKZAUMhh0ngDI5zgxnWCGAMlkBg2HHCbi1TAaDYeTIkY5Ca2ho4PBtzOrq6ujoaEf3Qne8+8pUW1vr6+sr7V7KU6dODR8+nO5JOJmtrKxs7NixTiZxcrqbytTY2Ojl5eUMu8rKyjFjxjiTge5clIkuT3uzdXR0aDQae0dbH1dSUjJx4kTr/bL2oEyy4hYX02g0HR0dYtOZi8OHD0+bNs2ZDLTmoky0SDqQx8vLy3SvkgNzbA7dt2/fnDlzbA6RoxNlkoOy+Ro+Pj4sPmqya9cuxe95QpnMD5r5dUBAALt/Htm6devChQuZ78H6AiiTdTa0e4KDg8+cOUM7a498GRkZSUlJPUIyNlAmmWCPHz++tLRUhsVWrVol3o4tw3LmS6BM5jRYXU+ZMuXo0aOssvfKm5SUlJGR0SvMPIAyMUccHh5+8OBB5sv0XGDhwoVbt27tGWPeQpnYIp47d25eXh7bNaxknzdv3q5du6x0MgmjTEywmpLOnz/f/BNLDFeyknrOnDn79u2z0kk/jDLRZ2rKmJiYuHHjRlbZ7c47bdq0w4cP2z3cqYEok1P4rE1evny5gp/QsKhq4sSJ8jz3AmWyIE+hmZaWtnTpUgqJ6KUYM2ZMZWUlvXzkTCgTmYvkaGZmZnx8vOTp7CYOHz784sWL7PIDAMpEE++OHTtiYmJoZqSa64knnvjzzz+ppuyRDGXqgcOZRkFBwRtvvOFMBhnmDho06MaNG4wWQpnogP36669nzZpFJxfjLAMHDmxtbWWxCMpEgeqxY8defPFFColkSdHd3d2vXz8WS6FMzlL96aefFL+L3tE93L59+8EHH3R0Vp/jUaY+EdkacO7cOQkfVLKVUa6+f/75h/qHpVAm6af322+/Pfnkk9LnKz3z6tWrfn5+FKtAmSTCZPE3W2IpTkyrqqoaNWqUEwl6TEWZeuCws8HoZw47V6c7zGAwhIWFUcmJMjmMkd1vQw6XQmkCrd9GUSaHD4Td+zQOl0JvApX3yVAmxw6E6TvIjpVCe3R+fv6bb77pTFaUyQF6rP9ty4FS2AzNycmJjY2VnBtlshedDP/qbm8pLMdt3rw5ISFB2gook13c5LkfyK5S2A9KTU1dtmyZhHVQpr6hyXanYt+lyDVi2bJlqampjq6GMvVBTM57qPsoRd7uhISEzZs3O7QmymQL12uvvfbll1/aGuHSfbGxsTk5OfZvEWWyyioqKuqLL76w2u0eHREREXv27LFzrygTGdSCBQs+++wzcp+bRWfPnv3VV1/Zs2mUiUBpyZIl69evJ3S4a2jy5MnFxcV97h5lskSk4FNELEvhqR0WFmYwGGxXhDL14JOenp6cnNwjhI17BEaNGlVVVXWvRfizqqpK8Y9U8PLo5qysrLi4OAIkDN0j4Ofnp8h3Nd1bv+8/uZBp0aJFL730Ut/Fuv2Ihx56iOmH75wEzIVM/7v7cnInbjL9zp073O5UJpmMRuPNmze5peAChbW3tzc3Nyu7EeYydXV1paSkrFu37vPPP3/55ZeTkpI6OzuV3bOLrV5XV7do0aLk5OR33nln9OjRRUVFSm2QuUxr165dvny5aXtNTU0DBgwQm0rt2ZXW7e7u1mq14mPyCwsL+/Xrd+zYMUX2yFwmrVar0WhaWlpM2xsyZAg/3zeiCHG6i1ZUVAQHB5u/a+Dr66vUN3Awl6mhoaG6utpE8NatWxqNRqfT0QXqztlKSkoEQTB/HmtISIi/v78iTJjLZL6r9PT0CRMmsHsSiPla7nNdU1Mjfr95V1fXoEGDZs+ercj2ZZIpPz8/MjJy+vTpbW1tiuzTTRbdu3dv//79ZXhQHZGnTDIBgNFo1Ov1w4YNM/8fPLEmDEojUF9f7+3trdfrpU13fpZ8MplqHTt2rJ+fX3t7u/OlYwZzAl1dXTNnzlTQJABgLlNubq74AzgAxMbGCoJQVlZmDgKvnSeQkJAgPiZaqfeH2cp04cIFQRDCw8NFWBEREYIgsH5aqLicm1ysX7/e/AHRaWlpimycrUwtLS1BQUHnzp0z7a27uzswMDAkJET87UORPbvYotnZ2TExMTvuvnJycjIzM5X65ju2MgHA8ePHk5OTi4uLr1y5Eh8fHxoaeu3aNRc7TgW3U1FR0b9/f6HnS6ln6jOXCQBaW1uLi4v1en1FRUV3d7eC6HFppgTkkInpBjA5PwRQJn7OQvWVoEyqP0J+NqC8TPX19Xq9Hn+/s8eJurq6b7/9VvGb4KyVqrxMABASErJp0yZrJWJcJPD8889/9NFHYpO3Cy5kAoDo6Ojc3Fze6HBVz+uvv753716uSrIohheZAECr1RYWFlrUh00Tgbfffnvnzp2c0+BIJgCYMWOGgrcwc3tUcXFxWVlZ3JYnFsaXTAAwadKk48ePi/XhRXJycnp6uio4cCeT6efx8vJyVeBjXeQnn3yycuVK1qvQys+jTAAwYsQI8xtXaO1WXXk+/fTTDz/8UEU1cyoTAAwdOrSmpkZFKOmWum3btvfff59uTtbZ+JUJAAYPHlxfX88aAYf59Xp9ZGQkh4XZLolrmQDAw8OD2zd8bZOV3Lt///5XX31V8nQFJ/IuEwDcd999CgKSeenvv/9evQ+EUYFMzc3NHh4eMh+qIsudOHFiwoQJiixNZVEVyAQA9fX1gwcPprJhbpP8/PPPzzzzDLfl2VOYOmQCgJqamqFDh9qzJTWOuXTp0lNPPaXGys1rVo1MAFBdXT1ixAjz6l3j+q+//hoyZIgL7EVNMgFAeXl5SEiIC3AXt3Dr1q1HHnlEbKr6QmUymT7uMmnSJFVDF4tvb2+///77xabaL9QnEwAUFRXNmDFD7egB4L9Hn7nSc/RUKRMAFBYWarVaVfv08MMPNzU1qXoLFsWrVSYAyM3NjY6OttiPWpo+Pj7Xr19XS7V21qlimQBgy5YtH3zwgZ1b5WeYv7//lStX+KmHViXqlgkA1q1bx/M99r3P6emnnz579mzvuAtEVC8TAHz88cdr1qxRxWGMGzfu1KlTqihVQpGuIBMA6HS6DRs2SNi/nFOmTJly9OhROVeUeS0XkQkA3nvvve3bt8uMz/7lwsPDDx48aP94NY50HZkA4K233tq9ezeHxzB37ty8vDwOC6NbkkvJBACvvPLKgQMH6DJyMtv8+fOzs7OdTKKK6a4mEwBMnTr1yJEjnNBPTEzcuHEjJ8WwLsMFZQKA55577uTJk6zZ9Zl/xYoVKSkpfQ5zmQGuKRMAjB49+vTp0wqeU1pa2tKlSxUsQP6lXVYmAAgMDPz111/lZwoAmZmZ8fHxiiyt4KKuLBMA+Pr61tbWysx3x44dMTExMi/Kw3IuLhMAeHl5iV/HJgPxgoICxb/FW4ZtEpdwfZkAQKPRdHR0EPdPN3jo0KGZM2fSzamibG4hU0dHh0ajYX0qP/zwwwsvvMB6FZ7zu4VMANDY2Ojl5cXuJMrKykJDQ9nlV0Vmd5Hpv+8Aqq2t9fX1ZXEq58+fDwoKYpFZXTndSCYAuHz5ckBAAN0T+v3334cNG0Y3p0qzuZdMAHDmzJng4GBap1VXV/f444/Tyqb2PG4nEwCUlpaOHz/e+ZO7c+eOp6en83lcJoM7ygQAR44cmTp1qjOnaDQa3erxLPawclOZAODAgQNhYWH2MOo95sKFCwMHDmxpaend5c4R95XJ9GGpbdu2STj+mJiYEydOSJjo2lPcWiYAcKUP1CpuqrvLZOMAWltbbfRiV28CKFNvJvDvv/8WFBT4+Pi45+NZCUTsC6FMlpz27NmzatWqDRs2CIJQV1dn2Y1t6wRQJjKbH3/8EWUio7EeRZnIbFAmMhebUZSJjAdlInOxGUWZyHhQJjIXm1GUiYwHZSJzsRlFmch4UCYyF5tRlImMB2Uic7EZRZnIeFAmMhebUZSJjOe7774TBOHatWvkboySCKBMllS++eYbnU4XGhr6wAMPTJ8+XafTVVZWWg7CNokAykSigjFJBFAmSdhwEokAykSigjFJBFAmSdhwEokAykSigjFJBFAmSdhwEokAykSigjFJBFAmSdhwEokAykSigjFJBFAmSdhwEokAykSigjFJBFAmSdhwEokAykSigjFJBFAmSdhwEokAykSigjFJBFAmSdhwEokAykSigjFJBFAmSdhwEokAykSigjFJBFAmSdhwEokAykSigjFJBFAmSdhwEokAykSigjFJBFAmSdhwEokAykSigjFJBFAmSdhwEokAykSigjFJBP4Ptf5vgyv+3UAAAAAASUVORK5CYII=)"
   ]
  },
  {
   "cell_type": "markdown",
   "metadata": {
    "id": "SuN4MApzOXzP"
   },
   "source": [
    "**Exemplo 14**: Em baixo apresentamos o diagrama de Hasse do conjunto das partes de $\\{1, 2, 3\\}$\n",
    "ordenadas pela relação de inclusão."
   ]
  },
  {
   "cell_type": "markdown",
   "metadata": {
    "id": "dfVOyyNaOwKx"
   },
   "source": [
    "![image.png](data:image/png;base64,iVBORw0KGgoAAAANSUhEUgAAAWUAAAEACAIAAADk3vAFAAAgAElEQVR4Ae2dd0AUV9fGR1A0YAQrIkUM2LCAlYhBsCtgSSxo1ASxoIINERWJgqCiCIoRVBCMEBUF7AUUC9gQRWMJWFAUCwRQQAHp93u/TN7NvNuY3Z2ZnZk9/JOZe88995zfmTzu7szciyH4AwJAAAiQI4CRMwMrIAAEgAACvYCLAAgAAbIEQC/IkgI7IAAEQC/gGgACQIAsAdALsqTADggAAdALuAaAABAgSwD0giwpsAMCQAD0Aq4BIAAEyBIAvSBLCuyAABAAvYBrAAgAAbIEQC/IkgI7IAAEQC/gGgACQIAsAdALsqTADggAAdALuAaAABAgSwD0giwpsAMCQAD0Aq4BIAAEyBIAvSBLCuyAABAAveDqNVBaWrp7925/f//S0lKW5HDt2jVvb+9bt26xJB4Ig3ICoBeUI2XC4cuXL42NjU+dOiV2si9fvohtl9RYVVVVXl4uqVdse319/YcPH0S7ioqKhg0bNmfOHNEuaOEBAdALThbR29vbwcFBNPSysrLDhw936NChoKBAtFe0JT8/f/HixZ6ens7Ozn369Dl9+rSojVBLbW2tn59fQEBAZGSkvb39ypUra2pqiDZPnjzBMOzjx4/ERjjmBwHQC07W0c3NbebMmUKhHzx4cP369UFBQRiG5efnC/WKntbV1Tk6OhYXF+NdsbGxampqycnJopbEFn9//7Vr1+ItJSUljRs3FpzijYWFhRiGZWdnE0fBMT8IgF5wso5i9QLP5OrVqyT1Ij093cLC4sGDBwIE+vr6Y8eOFZyKPXB0dGzSpElFRQXea2BgMGTIEKJlUVER6AURCJ+OQS84WU1K9CIlJQXDsNDQUAGCgQMHmpqaCk7FHhQWFj5+/Bjv+vjxY5MmTdzd3YmWoBdEGjw7Br3gZEFdXV1Fv4/gmZD/fIEQysnJqa+vxwfW1ta2bt16woQJ5Ils2bLF2tq6qKiIOAT0gkiDZ8egF5ws6NSpU93c3MSGLpNeED0cOXJEXV397t27xEZJx4cOHZo1a5adnV1lZaWQTXV1dePGjdPT04Xa4ZQHBEAvuFfEpKQkPT29zMxMsaHLpxcFBQXt27ePjo4W61NsY319fXR0dKdOnYi/gOCW69atE/3cIdYJNHKLAOgFl+pVUVExd+5cIyOjrKwsSXHLoRe1tbXjxo2TSSwEs3/77bcmJiZVVVWCFvzA19e3Y8eOx48fF2qHU04TAL3gXvlu3brVqlWr+/fviw1dDr1YunTpuXPncG9in8IiThQVFSX4vRMhNHfuXAzD0tLSiDYuLi7jx48X/apCtIFjLhIAveBi1dCsWbNcXV3Fhi6rXgQGBqakpAhcbdq0SXAsepCZmYlh2MSJEwVdP/74I4ZhxM87FRUVampqd+7cEdjAAW8IgF5wspRS7o+cP38ew7BXr14RE4uMjLSwsBC6kYEQ2rt375w5c/b9/RcRERESErJo0SJ8YEZGhpmZWWpqKtFPRUVFz549Hz58iDfW1dV16dJl4MCBgpssCCH8/sjz58+JA+GYHwRALzhZR7HPX5w5c8bd3d3S0lJLS8vOzs7d3V1wsyM4ONjQ0DAhIYGYbXp6urq6Ova/f/7+/rjN9evX9fT0vL29iUMQQpcvX/b09Lx48eLz58+XLFliaWkppE1wP1WIGJ9OQS84WU2xeiE9k4KCgv88MC7dRrR3x44doo1fvny5ePFidHR0enp6XV2dkAHohRAQPp2CXnCymnLoxcmTJ58+fSpTth8/fty3b59MQwTfR+D9EVm5ccIe9IITZRIO0tfXd8SIEcKtks+rqqp8fHwk94vv8fPzk/U9d4RQVlaWurp6g/dZxE8JrewmAHrB7vpIiC43N9fExGT79u2C974kGP7TnJ2dLesL5pWVlY8ePZLuVrQ3Ly9v5MiRQm+sippBC0cJgF5wtHCopqYmPj4+ICCgrKyMJTlcuXIlMDBQDpVhSfwQRoMEQC8aRAQGQAAI/EMA9AIuBSAABMgSAL0gSwrsgAAQAL3gyTVAZgE++lKVdYVh+iIBz7QSAL2gFS9DzseOHevk5CT3ZO/evRs+fLjcwxFCnTp1CgkJUcQDjOUEAdALTpRJYpBXrlxp167dzp07JVqQ6Hj16pWxsTEJQ2kmc+bMGTVqlGD1YGmm0MdZAqAXnC0dQgsXLrS1tf3rr78UzIESvUAIJSUl6ejo7NmzR8F4YDhrCYBesLY00gK7ePFiq1atwsLCpBmR7qNKL/AJXVxchg4dSnIDFNIxgiErCIBesKIMMgUxb968ESNGUPjANbV6gb/D2rZt219//VWmvMCY/QRAL9hfo38jPH/+fIsWLcLDw/9touKIcr3Ag3Jzc7O2tn7//j0VMYIPVhAAvWBFGcgE4eTkNGbMGDp2V6ZJLxBCqampenp627dvJ5Mg2LCfAOgF+2uETp8+rampuX//fppipU8v8ICXLVv27bffvn79mqb4wS1jBEAvGEMt50QzZ850cHCQ471y8vPRrRcIoVu3bhkZGQUGBpKPCixZSAD0goVF+Sek48ePN2nSJCYmhu4QGdALPAUPD4/+/fu/ePGC7ozAP00EQC9oAquo22nTpk2cOLG6ulpRRyTGM6YXCKE7d+5888030lchJxEymCiHAOiFcrhLmfXo0aONGjU6fPiwFBtqu5jUCzzyNWvWmJubP3nyhNpEwBvdBEAv6CYsg/+6urrJkydPmTKFuDy/DOPlNWVeLxBCf/zxR9euXTds2CBv1DBOCQRAL5QAXeyUhw4dUlNTi4uLE9tLa6NS9ALP6JdffunRowdxwzRaMwXnChIAvVAQIAXDq6qqJkyYMH36dAp8yeVCiXqBEHr8+HGPHj1++eUXuWKHQYwSAL1gFLfoZNHR0RoaGidOnBDtYqxFuXqBp7lhw4YuXbpI2hSWMRQwkXQCoBfS+dDYW15ebm9vP2vWLBrnIOeaDXqBEHr69KmFhcWaNWvIRQ1WSiAAeqEE6AihqKgoTU3NM2fOKGf6/52VJXqBB7Vp06ZvvvkGtmv+3xKx5Qz0gulKlJSUjB49evbs2UxPLHk+VukFQujFixf9+/f38PCQHDL0KIcA6AWj3MPDw7W1tRMTExmdtaHJ2KYXeLyBgYGGhoY3b95sKHzoZ44A6AVDrIuKioYPHz5v3jyG5pNlGnbqBUIoNzd30KBBy5YtkyUbsKWRAOgFjXAFrkNDQ1u3bp2cnCxoYdUBa/UCp7R9+3Y9Pb3U1FRWQVPNYEAv6K17fn6+jY3NokWL6J1GMe8s1wuE0Pv3762trV1dXRVLFEYrSgD0QlGCUsaHhITo6upevXpVig0butivFzilXbt2tWnT5vLly2yAppoxgF7QUve3b99aWVktWbKEFu9UO+WKXiCECgsLhw4d6uLiQjUD8EeKAOgFKUwyGQUFBenr69+4cUOmUUo05pBe4JT27Nmjo6OTlJSkRGiqOTXoBZV1f/Xq1cCBA93d3al0Sr8vzukFQqi4uHjUqFHOzs7044EZ/iUAevEvCwWPtmzZ0rFjx9u3byvoh/nhXNQLnFJkZKSWltbZs2eZh6aaM4JeUFD358+f9+3b19PTkwJfynDBXb1ACJWVldnZ2f3000/KIKdyc4JeKFryjRs3mpqaZmRkKOpIeeM5rRc4tgMHDjRt2lS5r/kqr4DMzQx6IT/rrKys3r17e3l5ye+CHSN5oBcIocrKSuUuI8KOYtIbBeiFnHx9fHy6dev24MEDOcezaRg/9AInii9TFh8fzybA/IkF9ELmWj569MjMzGz9+vUyj2TrAD7pBUKorq5u0qRJzC+DytbyUhkX6IVsNL29vXv27Pnnn3/KNozd1jzTCxw288uss7vI1EQHekGW4/379zt37uzn50d2AHfseKkXOH4mt3HhTsHljxT0ghS71atXW1hYPHv2jJQ114x4rBcIIca2ieNa2eWJF/SiAWp37tzp1KnT5s2bG7Djcje/9QKvDAPb0HL5EiAbO+iFNFL4fp8vX76UZsT9PlXQC4T+2eY+KiqK+xVTWgagF+LR37x509DQUEX2E1cRvcArPXv27NGjR5eWloovPLRKJQB6IQbPsmXLBg0alJubK6aPj00qpRcIocTExBYtWoSHh/OxmPTmBHohzNfGxsbNzU24ldfneXl548eP53WKYpIbNmwY7N4qhovUJtALYTyfP38WboJznhL4+PEjTzOjKy3QC7rIgl8gwD8CoBf8qylkBAToIgB6QRdZ8AsE+EeA7Xrx6tWrgICA3bt304Q+Ojra398/JyeHJv9KcUsrtKqqqo0bN4aGhvLslmRaWpqPj8+5c+foKNnr169/+eWX+Pj42tpaOvwz5pPVenH69OkuXbpkZWWJxfHlyxex7ZIaP3/+XFNTI9qblZXVoUOH/fv3i3ZxsYVaaOXl5RUVFUIc6uvrjx071rp164cPHwp1cfTUy8tr9OjRxcXFQvHX19fLIYvFxcWiulBZWenp6Wlubs7pH9RZrRfffffdtm3bhEqIEMrLy9u8eXOfPn1Eu8S23LlzZ+7cuV5eXuPHjx81apTo26V79uzp3bu32LGca5QELTMz08nJifzOSbdu3Vq7dm1oaKifn5+NjY3oPqbTpk3jyoYJ0otYUVGhoaFx9+5doll1dbW/v7+rq+uyZcssLCy2bdsmKgFEe/z4wIEDGzZsiIiIcHFxmTRp0vv374k2tbW1BgYGx44dIzZy65jVetGzZ899+/YJAfX19Q0KCnJ2du7WrZtQl9jT9+/fExd3XLBgQbt27fLz84nGcXFxBgYGxBbuHotCKywsdHd3/+233/r167dgwQIyqX3+/Llv375PnjzBjT08PFq0aPHhwwfiWFdX15kzZxJbOHpcVFSEYVh2djYxfi8vL8HSzS9fvtTU1Fy3bh3RQPQ4NTV17Nixnz59wrv69+8/ePBgIbMePXqIXtJCNmw+5Z5e4DTx5a3IkN26dev3339fUlKCGz979gzDsC1bthDHxsfH81gvBJna2tqS1IusrCwMw7y9vfGx+/btwzBMaGMxNzc3vupFXV2diYlJXFycAN2PP/6opaVVV1cnaBE92L17N4Zhgl1yZ86cqaamJvQVWFTNRf2wuYX/erFhwwYMwwTfQSoqKjAMmzt3LrEqoBdEGvhxenp6eXk5frxixYpmzZr99ddfRDMe68WXL180NTWnTJkiyNfT0/M/l83bt28FLaIHlZWVaWlp9fX1eFe/fv369u0rZAZ6IQSEylMpH97If76oqakhvgly//59DMO2b99ODJRPeiEFGvnPF0Q4xcXFpqamor8H80YvCgsLRb+PvH//nviD+oQJE3R0dKR/viBCu337tpGR0Z07d4iNCCHQCyEglJ3W19fr6upKWriVvF4IBbRw4UIDAwOh36gvX76so6NTVVUlZMy5U+nQZNWLnJycDRs2mJmZid15cN26dXZ2dpxDJBpwZmYmhmGFhYWiXXjLmzdvNDQ0duzYIcmA2H7t2jUPD4/evXu/fv2a2I4fDxkyZOvWraLtXGlh6feRuro6X1/ffv36ETWeyFQ+vbhy5UqbNm1E7wLW1NSMHDly6dKllZWVxFm4ddwgNFn1Ak+/sLDQ0tLS3d1d8Ekbb8/NzTUyMoqNjRVq5xa0T58+2dvbu7q6Sgq7vr5+2LBh8+bNk2Qgtv3evXtGRkaHDx8W6j179qyhoaHg27FQL/tP2agX2dnZNjY2Q4cOFfzULMpRDr3Iz88fMGDA/fv3Rb3h22Q5ODhYWVk9fvxYrAHLG8lAk08v8BfAMQwT/WE/Ozu7S5cuM2bMEPyczHJKQuElJSV16tTJw8NDqJ14unHjxoULF5L/JiIYu3r16iZNmmRmZgpa8IOzZ8+2a9eOowvBslEvcKxBQUFmZmaSJENWvfj06dOUKVNevHiBOxe6NVhZWWlubs6DRfekQyOvF0+fPt23b5/gg8Pbt28xDBszZgzx0s/MzGzbtm1KSgqxkXPHVVVVkyZNknSjJyYmRvDO++fPn6urq6UkmJycTHw89Pfff8cwLCAggDjk4MGD33zzTV5eHrGRQ8fs1Yv6+nojIyPiPS0iVpn0orq6evHixe/evRN4EJKGxMTE5s2bC/73EJhx7kA6NPJ6MXXqVAzD/vjjD5wAfhPa0dGRCGT16tX29vbEFo4ev3jxQuzvFxcuXPj1118FSe3atUvSv164Tbt27Vq2bCm4isLDwzEME3qV4dtvv+X0om3s1QuEkJSf+letWmVsbCyoJX4wb968yZMnCzXW19c7OTlt3Lhx399/4eHhXl5eERERRLP4+Hh9fX1iC3ePpUCztLR0cnIiplZRUTFw4MCgoCBiI0Jo06ZNy5cvF1z6MTExGIadOXOGaObm5jZjxgxiC0ePxd4fycjIGDt2LH7NREREhIWFCcRREjQ7OzviP29z5szR0dERugXbs2dPoWuPW9BYrRdibz6FhIQsWbLE2NhYS0trzpw57u7ugi/PP/zwg76+vtAP3UFBQZjI3/Xr14l14tP9VFFoNTU17u7u8+fP/88idB06dFi8ePGmTZvw9D99+mRiYjJixAgiDYRQTU3NqlWrwsPDHz9+fOnSpc6dOwcHBwvZ8OZ+qujznRUVFbq6ukJXjYCSJGhv3751dXVNSEh4/vx5VFRUx44dBc9uCdCJVkfQxYkD7umFdKxxcXHE7x3SjQW9/NYLQZqSDiTdKXz69GlsbOypU6eEHp/H/fBYLySBIrZLgpaWlhYTE3P58uWysjKiPX4MeiHKhLIWOeDKd3NbxfVCPmgqrhfyQZPjkqbsfycqHLH688XQoUP9/f3Jp5mdnR0ZGUneXmC5e/du8m+7Ckax80BWaHFxcffu3ZMjF0dHx+XLl8sxkG1DamtrGzduLPQVVXqQ8kGrr6/X09M7efKkdOds7mW1XiQlJbVv3z45OZnk3e+7d+8KfqIjDz0jI6Nr166nT58mP4TNlrJCE31mucHs6urqjh49ampqKrg/3eAQlhv4+fmZm5sL3sdtMFo5oFVUVKxcuXL48OGcfiaQ1XqBECouLg4PD6fvJ+X9+/eHhoaK/X7e4EXDWgNaoVVUVGzduvXgwYOi6+iwFgiZwLKzs4ODgy9evEjGWFabFy9ebN68+cKFC3L8eybrXLTas10vaE0enAMBICATAdALmXCBMRBQaQKgFypdfkgeCMhEAPRCGJfQ417C3Ww9V+5PMJJeI2YrrX/iKigoYHmEbAuPh3phYWGhyEoWw4cPJ7loHXtqOXbsWKEHvRmOzdjYWNLzSwxHQnK62traXr16CS2bRHIsbnb9+nVZX3KXyT87jXmoF1999ZWC/9z98ssvPXr04MQiBVeuXGnXrt3OnTuVfnk5OzuPGjVKdEl+pQcmGsDBgwfV1dUTEhJEu8i3JCYmCr2wS34sdy1BL8TX7vHjx2ZmZg0uCS1+MFOtCxcutLW1FVpWk6nJxcyTlJSko6OzZ88eMX3saKqsrBw/fvyPP/6oeDigF4ozZIUHxT9fCNLw9fXt2rWr4LVuQbvSDy5evNiqVauwsDClRyIagIuLy7Bhw1j4M9CBAweaNm1K1eOVoBeipedkC4V6gRB68uSJubm5l5cXe1jMnTt3xIgRQkv+sCc8hNClS5fatGmza9culkT1+fNnOzs74jY0igcGeqE4Q1Z4oFYv8JQ2btxoYmIitAUW89meP3++RYsW9D3tSm1Grq6u1tbWSl9LKjIysnnz5mfPnqU2O9ALankqzRsdeoEQys7O7tevn6enp7ISc3JyGjNmjBzbeSorYIRQampq+/btlXXrpLi4eNSoUc7OznQQAL2gg6oSfNKkF3gmW7Zs6dixY1paGpOJnT59WlNTU3QHECZjUGSupUuXDho06M2bN4o4kXXsnj17dHR0xO6EIKsrsfagF2KxcK+RVr1ACL169crS0pKxV7lnzpzp4OAg2GqMe/X4O+KbN28aGBiI3T2b8owKCwuHDRvm4uJCuWeiQ9ALIg0OH9OtFzia4OBgfX19mRZNkJXp8ePHmzRpEhMTI+tA1tqvWLFiwIABL1++pC/CXbt2tWnT5tKlS/RNgXsGvaCbMEP+mdELhNDbt28HDx68ePFiOhKbNm3axIkTpS9gT8e8dPtMT0/v1KmT0Cr7lEyal5dnbW0tZechSmYROAG9EKDg9gFjeoFj2rlzp66u7tWrV6midvTo0UaNGolujUWVfzb4WbVqVZ8+fZ49e0ZVMDt27Gjfvn1qaipVDhv0A3rRICJuGDCsFwih/Px8GxubhQsXKgiorq5u8uTJU6ZM4fqqKmQ43Lt3r3PnzjKttyjWbW5u7qBBg5YuXSq2l75G0Av62DLqmXm9wNMLCwtr1aqV6BLyJJM/dOiQmpoacQMLkgM5bbZ27dpevXqJbhpIMqlt27YZGhrevHmTpD2FZqAXFMJUpitl6QVC6MOHD8OHD5f1tcWqqqoJEyZMnz5dmdSUN/fDhw+7d+++fv16mUJ4+fLlgAEDVqxYIdMoCo1BLyiEqUxXStQLPO3w8PAWLVokJiaSoRAdHa2hoXHixAkyxjy28fHx6d69+8OHD8nkuHnz5k6dOqWnp5MxpskG9IImsEy7VbpeIIRKS0tHjx49e/ZsKcmXlZXZ29vPmjVLio1KdWVmZvbq1Wvt2rVSsn727FmfPn1Wr14txYaZLtALZjjTPgsb9AJPMioqSlNTU+xOBVFRUVpaWkI7ktKOhgsT+Pv7d+7cWeyWKH5+fpK6mM8M9IJ55rTMyB69QAiVl5c7ODgQP0SUlJQ0+NGDFi7ccYp/iFi1apUgZPyjh7e3t6BF6QegF0ovATUBsEov8JTwHymOHz++d+9ebW1tkj9tUIODs14CAgKMjY3/8yPF+vXryf+0wVi6oBeMoaZ3IhbqBULo/fv3bdu2NTExoTd5fnk/f/58s2bNrKysWJgW6AULiyJPSCzUi9DQ0NatWycnJ6vmQxbyVBEh/NGMrKysbdu2GRgYKOUhCymRg15IgcOlLlbpBf7o56JFiwQE8Yc4J0+erAoPcQqylukgIyPD1NSU+OjnmzdvlPIQp5SwQS+kwOFSF3v0IiQkRNKrJXFxcbx/SUS+i2bVqlV9+/Z9/vy56HD8JZGUlBTRLuZbQC+YZ07LjGzQi7dv31pZWS1ZskR6hvhLqIrsliLdP7d6b9++bWxsLP3V1by8vCFDhjD2EqoUgKAXUuBwqUvpehEUFKSvr3/jxg0y1I4fP66hocGnRS7IZC1q4+7uPnDgwJycHNEu0RbGFrkQnVrQAnohQMHtAyXqRU5OzsCBA93d3WUlyI9FtGTNGre/ceOGgYFBUFCQTMPxRbTmz58v0ygKjUEvKISpTFfK0ostW7YYGxvfvn1bvuS5vkinfFkvWbLEyspK7qU99+7dS+sinVKSAr2QAodLXczrxfPnz/v27UvJ0uFcXARcvosjJSVFV1c3JCREvuGCUbQuAi6YRfQA9EKUCSdbGNYLf39/U1PTjIwMqmDhm4yEh4dT5ZCFfhYtWjRkyBAK95SnaZMRKehAL6TA4VIXY3qRlZXVu3dv6e9Tyg1u3rx5I9i9iZl8qSUnJ7du3To0NFS+4VJG0bGJmZTpQC+kwOFSFzN64ePj061btwcPHtCHhs2bpMqX9fz584cPH15UVCTfcDKjqN0kVcqMoBdS4HCpi269ePTokRzrQclNkG2bsMuXSGJiora29t69e+UbLtMoCjdhlzIv6IUUOFzqolUvvL29e/bsKfd6k/JxvHLlSrt27Xbu3CnfcKWPcnZ2Hj16dElJCZORHDx4UF1dPSEhgaZJQS9oAsu0W5r04v79+507d/bz82M6n//Ot3jx4sGDB7979+6/DRz475kzZ7S0tCIjI5USa21t7Q8//DB16lQ6Zge9oIOqEnzSoRerV6+2sLCgcL8M+bhcv369Q4cOwcHB8g1neNSsWbPs7e3LysoYnldouiNHjjRq1Cg2NlaoXcFT0AsFAbJlOLV6ge/HtXnzZrakh9Dy5cstLS1fv37NnpCEIjlx4kTTpk2jo6OF2pV46ujo+MMPP9TU1FAVA+gFVSSV7IdCvfDw8BhA836f8sFKS0szMjLaunWrfMNpHTV9+vQJEyZUVlbSOosczhMSEho3bvz777/LMVZ0COiFKBNOtlCiFzdv3jQ0NAwMDGQzgpUrV/br1y87O5slQcbHx6upqR06dIgl8YgNY8aMGePHj//y5YvYXvKNoBfkWbHaUnG9WLp06aBBg3Jzc1md59/B3b1718TEZNOmTcoNtb6+fsqUKZMmTaqrq1NuJGRmP3nyZLNmzX777TcyxpJsQC8kkeFYu62trdwrSqSmpurp6e3YsYNbOa9Zs8bc3PzJkydKCfvw4cONGjU6evSoUmaXe9Kff/557Nixnz9/ls9DWlra8uXL5RvL3VEYd0OnNvKCgoIZM2ZYW1u/f/+eWs/MePvjjz+6du3q5OQk9/8AcsT56tWrMWPGTJs2TY6xbBhy7ty55s2by7H+ABuCV0oMoBf/YD969KiTk5NSakDhpA4ODkyui+vl5eXj40Nh/EpxZWVlVVhYqJSpOTcp6MU/JautreVc8cQGzJtExGYHjcolAHqhXP4wOxDgEgEO60VaWpqPj8+5c+ca5H3t2jVvb+9bt241aMlvg9ra2oSEBB8fnz///LPBTAEajqi0tHT37t3+/v6lpaUNQouOjvb39ye5CmmD3lhowFW98PLyGj16dHFxsSjTmr//hNqLioqGDRs2Z84coXbVOa2urra1tfXy8hL9wlJVVVVeXi6KAqC9fPnS2Nj41KlTonBqamrEvkGXlZXVoUOH/fv3iw7hQQsn9aKiokJDQ+Pu3btCBaipqUlJSRk0aJDYe3tPnjzBMOzjx49Co1TkNDk5WVtbW+j5iPz8/MWLF3t6ejo7O/fp00d0K3kVh70sXd0AAA5GSURBVObt7e3g4CB0heTl5Xl5eQUHB4eGhg4ZMkRUGvbs2dO7d2+hUfw45aReFBUVYRgm9FxjWlraf7a6OXXqFIZhYl8uKiwsFB3FjyqSySI+Pt7AwIBoWVdX5+joKPiMFhsbq6amlpycTLRRcWhubm4zZ84kAkEIjRs37uTJk3jjmTNnMAy7cOEC0SYuLk4INbGX08f80QtBGSTphViVEYzi/YGoXqSnp1tYWBCXCNPX1x87diwRhYpDE6sXurq63333HU4pOzsbw7B169YRoYmiJvZy+hj0gtPlkyF40Ys4JSUFwzDiUpoDBw40NTUlOgW9EP188fTpU8FDfadPn8YwTOgHDlHURKScPuakXkj/kAyfL8RekWI/JOfk5Ai2fa6trW3duvWECROIw1VcL1xdXUX1gsjH3t5+4cKFxBaEEOiFEBAln2ZmZmIYJumZPEl6UV1d3bhx4/T0dCVHr6Tpw8LCevbsKWXyI0eOqKurC/2KrOLQpk6d6ubmJgqtsrIyODjYxsbG19dXtPfy5cs6Ojpyv8Qk6pA9Ldz7fPHp0yd7e3spO+5K0guE0Lp166ytrWldn5o9pSVGkpOTY2JiIuVN84KCgvbt24td4UZloSUlJenp6UlZq7W6utrFxWXEiBFCN91qampGjhy5dOlSFi4CQrwq5DjmmF4kJSV16tTJw8NDSqpS9AIh5Ovr27Fjx+PHj0vxwLOu7du3t27dWsrKt7W1tePGjRMrFjgKVYNWUVExd+5cIyOjrKws6RdDaWlp06ZNRb+zlJWVOTg4WFlZPX78WLoHbvVyTC8QQlVVVZMmTRKtkIC7FL1wcXEZP348/1RfkLukg8LCQhMTE0l7pi1dulTwmOyHDx+EnKgstFu3brVq1er+/ftEICUlJWFhYcSPqKamppqamsQHWyorK83NzVm1hiMxBUWOuacXCKEXL17I8ftFRUWFmpranTt3FOHF3bGRkZE9evQQjT8wMDAlJUXQLrT0jopDmzVrltA337CwMAzDiCukdOjQoV27dgKACKHExMTmzZsLfkgmdnH9mJN6IeX+yJcvXzAME7t0Ev5T//Pnz7leM/niF3t/ZO/evXPmzNn3919ERERISMiiRYuI/lUcmuj9kRs3bowcObKgoACnlJubi2GY0Bfk+Ph4fX19IkbeHHNSL8Te5MvKylq+fPnEiRO1tLQsLCyWL19+5MgRYp3EjiIa8PtY9CZfenq6uro69r9//v7+RA4qDk3s81phYWEBAQFpaWkPHz60tbX96aefhG6FiKImIuX0MX/0osEyqPilL99FrOLQxOoFQuivv/46depUbGzs06dPRS88+VCL+mFhC+gFC4tCS0jyXcSgF1J+WZdUJ/lQS/LGqnZO6kVtbW3jxo2vX78uE8qsrCx1dXXR3/9lcsJd45SUFG1tbbHvrUtJSsWh+fr6jhgxQgofsV27d+/u06eP2C6uN3JSLxBCfn5+Mq2InZeXN3LkyLVr13K9YHLHX1tba2dnN2PGDMFvdQ26Ami5ubkmJibbt2+vqKhoEBdukJGR0bVrV9GVAUgOZ7kZV/UCIZSdnR0cHHzx4sUGEV+5ciUwMPDRo0cNWvLe4Nq1awEBAWK/dQvlDtBwIDU1NfHx8QEBAWQ2gt2/f39oaGh+fr4QTN6cclgveFMDSAQIcIUA6MU/leLxvwlcuRYhTvYTAL34p0a//fabjo7OvXv32F8ziJBCAocOHWrSpAnx+W4KnfPPFejFvzXNzMzs06fPihUr/m2CI/4SKCkpsbe3nz59On9TpD4z0Athptu2bWvfvv2lS5eEO/h7/u7dO1tbW/7mJyaz0NBQbW3tM2fOiOmDJskEQC/EsMnLyxs2bJizs7OYPj42vXr1ytjYmI+ZickpJyfHyspK6DUZMXbQJI4A6IU4Kn+3RUZGNm3aND4+XqIFXzpURy/8/f2NjY1v3LjBl9IxnQfohTTilZWVkyZN+v7778k/riPNHVv7VEEvMjIyunfvrsoP7FFy9YFeNIzx2LFjX331VURERMOm3LTgvV64u7v37dtXysp63KybEqIGvSALfe7cuba2tu/evSM7gDt2PNaL5ORkXV3doKAg7lSD1ZGCXshQnitXrnTo0GHr1q0yjOGCKV/1Yvbs2cOHD4cn8Si8BkEvZIa5cuXK3r178+ltFP7pRVxcnIaGRlRUlMzVhQFSCYBeSMUjofPBgwc9e/ZcvXq1hH6ONfNJL8rLyydOnDh58mShNa84VhK2hgt6IX9lNm/ebGhomJqaKr8LdozkjV6Eh4dramqq1GYRDF9BoBcKAc/NzbW2tnZxcVHIi7IH80Av3r59a2NjM2/ePGWz5Pn8oBcUFHjPnj3Nmzc/efIkBb6U4YLrehEQEKCvr3/16lVlwFOtOUEvqKn358+fx48fP3Xq1JqaGmo8MuiFu3rx8OHDXr16rVq1ikFaKj0V6AWV5T9y5Ejjxo3F7n5C5TRU++KoXqxatapXr14PHz6kmgf4k0gA9EIiGrk7fv75Z+KWNnL7YWwg5/QiJSXFwMAgICCAMUQwEU4A9IKWK+HChQtt27bdvn07Ld6pdsotvZg/f/6QIUPevHlDNQbw1zAB0IuGGcltsWzZsv79+5NZXFfuKSgZyBW9OHHihJaW1t69eynJGpzIQQD0Qg5oMgy5c+dOly5d1q1bJ8MYxk3ZrxfV1dVTpkyZMGECmUW6GeenQhOCXjBRbF9fXxMTk7S0NCYmk30OluvF/v37mzRpcvToUdkzgxEUEwC9oBioJHfZ2dmWlpaLFy+WZKDEdtbqRX5+/vDhw52cnJQIB6YmEgC9INKg/Xjnzp2tWrU6f/487TPJMgE79SIoKEhXVzc5OVmWVMCWXgKgF/TyFfX+4cOHMWPGyLGLr6grqlrYphdZWVl9+/Z1d3enKkHwQxUB0AuqSMrmJyYmplGjRocOHZJtGD3WrNILb2/vbt26ZWRk0JMreFWIAOiFQvgUGVxfXz99+nR7e/uSkhJF/Cg+liV6cfPmzU6dOvn5+SmeEXigiQDoBU1gybo9c+aMtrZ2aGgo2QE02LFBL1xdXQcNGvTy5Usa8gOXlBEAvaAMpSKOFi1aZGVllZOTo4gTuccqVy/Onj2ro6Oza9cuueOHgYwRAL1gDHUDE924ccPY2Njf378BOxq6laUX+DcyOzu74uJiGtICl9QTAL2gnqkiHteuXdu9e3eGf+1Til6w6hdfRUqmUmNBL1hX7szMTIbvJjKsFyy8o8y6i4CtAYFesLQyTD6txKResPOJNZZeBOwLC/SCfTX5b0T409CzZ8/+bwNd/2VGL9j8RDxdZHnnF/SC7SWNiorS0NCIi4ujL1AG9ILlb9zRx5ZnnkEvOFDQqqqqyZMnT5w4sby8nI5wadULTrzRTwdVXvoEveBMWY8fP66pqRkeHk55xPTpBVdWDKIcKV8dgl5wrLLz5s2zsbF5+/YthXHToRdJSUlt2rThyoqEFMLktyvQC+7V9+rVq/r6+lu2bKEqdMr14qeffho1alRhYSFVEYIflhAAvWBJIWQOw9PTk6ptnynUi9jYWHV19QMHDsicDwzgAgHQCy5USUKMVG37TIlefPr0ady4cY6OjrW1tRLihWbOEwC94HwJFd/2WXG92L1799dff33q1CnO04QEpBIAvZCKhyOdim/7LPeHgtevX3/33XcLFizgCCoIUyECoBcK4WPVYOa3fd60aZORkdG1a9dYxQGCoY8A6AV9bJXgmbFtn+/fv29mZrZmzRolJAlTKo8A6IXy2NM2M93bPnt4eFhYWPz555+0ZQCOWUoA9IKlhVE8LFm3fa6srHR2dpY+7+XLl/X09AIDA6WbQS9fCYBe8LWy/58XmW2fo6Oj9/z95+joKH11rzlz5gwdOvT9+/d8Rga5SSUAeiEVDy86pbzEcezYMQ8PDzzLhQsXDh06VOyNkoSEhGbNmu3bt48XPCAJ+QmAXsjPjkMj79y5o62tHRsbKxSzlZVVdnY23mhtbb1s2bKYmBghmxkzZlhaWn758kWoHU5VkADohQoVvaCggJjthw8fvv76a7zl8ePHCxYs2L9//9SpU4k2CCGBoAi1w6kKEgC9UMGi/5NyYmJi586d8ZMtW7acOnXqxIkTZmZmqksEMm+IAOhFQ4T42x8bG9urVy88v1GjRpWVlSUmJrZs2ZK/GUNmihIAvVCUIHfHR0REmJubI4SKi4vt7e0RQpcuXdLU1ORuRhA53QRAL+gmzF7/ERER3bt3RwjFxsaGhIQghE6ePAmfL9hbMBZEBnrBgiIoKYSEhAQTExOE0KxZs54/f44QiomJMTQ0VFI4MC0HCIBecKBINIWYkZHRtm3burq6wYMH41Ps2rVr9OjRNE0HbnlAAPSCB0WUM4Xa2tqWLVueP39++fLluIu1a9euX79eTncwTAUIgF6oQJElp7hixQozM7OLFy8ihOrr6wcMGIB/MZE8AnpUmgDohUqXv6KiomXLlpcvXy4tLfX29o6KilJpHJB8QwRALxoixOv+vLy8yZMn3759OzY29tWrV7zOFZKjgADoBQUQueuivLw8KyuLu/FD5AwTAL1gGDhMBwQ4TAD0gsPFg9CBAMMEQC8YBg7TAQEOEwC94HDxIHQgwDAB0AuGgcN0QIDDBEAvOFw8CB0IMEwA9IJh4DAdEOAwAdALDhcPQgcCDBMAvWAYOEwHBDhMAPSCw8WD0IEAwwRALxgGDtMBAQ4TAL3gcPEgdCDAMAHQC4aBw3RAgMMEQC84XDwIHQgwTAD0gmHgMB0Q4DAB0AsOFw9CBwIMEwC9YBg4TAcEOEwA9ILDxYPQgQDDBEAvGAYO0wEBDhMAveBw8SB0IMAwgf8D3CzHdUxoj6QAAAAASUVORK5CYII=)"
   ]
  },
  {
   "cell_type": "markdown",
   "metadata": {
    "id": "ja7W9GpLexGp"
   },
   "source": [
    "O diagrama de Hasse representa apenas as **relações de cobertura** de um poset. Uma relação $ (a, b) $ é de cobertura se:\n",
    "- $ a < b $ (ou seja, $ (a, b) \\in R$ e $ a \\neq b $),\n",
    "- Não existe $ c \\neq a, b $ tal que $ a < c < b $ (ou seja, $ (a, c) \\in R $ e $ (c, b) \\in R $).\n",
    "\n",
    "A função deve:\n",
    "1. Receber o conjunto $ X $ e a lista de pares $ R $ (assumindo que é um poset válido, com pares reflexivos como $ (x, x) $).\n",
    "2. Filtrar $ R$ para manter apenas os pares de cobertura.\n",
    "3. Retornar uma lista de pares representando o diagrama de Hasse."
   ]
  },
  {
   "cell_type": "code",
   "execution_count": 29,
   "metadata": {
    "colab": {
     "base_uri": "https://localhost:8080/"
    },
    "executionInfo": {
     "elapsed": 34,
     "status": "ok",
     "timestamp": 1743596977270,
     "user": {
      "displayName": "Carlos Leandro",
      "userId": "02142946371031398041"
     },
     "user_tz": -60
    },
    "id": "rbvSbLtdejmM",
    "outputId": "4f602d75-9843-49c9-9717-676fa4a168cc"
   },
   "outputs": [
    {
     "name": "stdout",
     "output_type": "stream",
     "text": [
      "Diagrama de Hasse: [(1, 2), (2, 3)]\n"
     ]
    }
   ],
   "source": [
    "def hasse_diagram(X, relations):\n",
    "    # Converter relations para um conjunto para busca eficiente\n",
    "    rel_set = set(relations)\n",
    "\n",
    "    # Inicializar a lista de pares do diagrama de Hasse\n",
    "    hasse_pairs = []\n",
    "\n",
    "    # Iterar sobre cada par (a, b) em relations\n",
    "    for a, b in relations:\n",
    "        # Ignorar pares reflexivos (a, a)\n",
    "        if a == b:\n",
    "            continue\n",
    "\n",
    "        # Verificar se (a, b) é uma relação de cobertura\n",
    "        is_cover = True\n",
    "        for c in X:\n",
    "            if c != a and c != b:\n",
    "                # Se existe c tal que (a, c) e (c, b) estão em relations,\n",
    "                # então (a, b) não é de cobertura\n",
    "                if (a, c) in rel_set and (c, b) in rel_set:\n",
    "                    is_cover = False\n",
    "                    break\n",
    "\n",
    "        # Se for uma relação de cobertura, adicionar à lista\n",
    "        if is_cover:\n",
    "            hasse_pairs.append((a, b))\n",
    "\n",
    "    return hasse_pairs\n",
    "\n",
    "# Teste com o exemplo fornecido\n",
    "X = {1, 2, 3}\n",
    "relations = [(1, 1), (2, 2), (3, 3), (1, 2), (1, 3), (2, 3)]\n",
    "resultado = hasse_diagram(X, relations)\n",
    "print(\"Diagrama de Hasse:\", resultado)"
   ]
  },
  {
   "cell_type": "markdown",
   "metadata": {
    "id": "9LuRDaYZeiXz"
   },
   "source": [
    "### **Explicação do Código**\n",
    "\n",
    "1. **Conversão para Conjunto**:\n",
    "   - `rel_set = set(relations)` converte a lista de pares num conjunto para buscas eficientes com $ O(1) $ em média.\n",
    "\n",
    "2. **Iteração sobre Pares**:\n",
    "   - Para cada $ (a, b) $ em $ \\text{relations} $, verificamos se é uma relação de cobertura.\n",
    "   - Ignoramos pares reflexivos ($ a = b $), pois o diagrama de Hasse não os inclui.\n",
    "\n",
    "3. **Verificação de Cobertura**:\n",
    "   - Para cada $(a, b) $ com $ a \\neq b $:\n",
    "     - Iteramos sobre todos os $ c \\in X $ onde $ c \\neq a $ e $ c \\neq b $.\n",
    "     - Se $ (a, c) \\in \\text{rel\\_set} $ e $ (c, b) \\in \\text{rel\\_set} $, existe um $ c $ entre $ a $ e $ b $, então $ (a, b) $ não é de cobertura.\n",
    "     - Se nenhum $ c $ satisfizer essa condição, $ (a, b) $ é adicionado a $ \\text{hasse\\_pairs} $.\n",
    "\n",
    "4. **Retorno**:\n",
    "   - A função retorna a lista $ \\text{hasse\\_pairs} $ com as relações de cobertura.\n"
   ]
  },
  {
   "cell_type": "markdown",
   "metadata": {
    "id": "2FqtbLhZOx-Z"
   },
   "source": [
    "**Exemplo 15:** Pelo diagrama de Hasse abaixo, que tem por suporte $A = \\{1, 2, 3, 4, 5, 6, 7, 8\\}$,"
   ]
  },
  {
   "cell_type": "markdown",
   "metadata": {},
   "source": [
    "![image](images/hasse3.png)"
   ]
  },
  {
   "cell_type": "markdown",
   "metadata": {
    "id": "oc5pBgLXPPbN"
   },
   "source": [
    "Podemos concluir, por exemplo, que proposições como $ 7 \\leq 3 \\leq 4 $, $ 7 \\leq 5 \\leq 2 \\leq 1 $, $ 8 \\leq 3 $, $ 8 \\leq 6 $, $ 8 \\leq 4 $ ou $ 8 \\leq 1 $ são falsas no CPO em questão. Em contrapartida, relações como $ 3 \\leq 7 $, $ 7 \\leq 8 $, $ 8 \\leq 7 $, $ 4 \\leq 1 $ e $ 3 \\leq 5 $ também não se verificam neste contexto.\n",
    "\n",
    "Uma forma de caracterizar a complexidade de um CPO recorre às noções de **altura** e **largura**, conceitos associados às ideias de cadeias e anticadeias.\n",
    "\n",
    "**Definição 7:** Cadeia e Anticadeia\n",
    "Seja $ P = (A, \\leq) $ um CPO e $ C \\subseteq A $. Diz-se que $ C $ é uma **cadeia** de $ P $ se todos os pares de elementos em $ C $ forem comparáveis. Diz-se que $ C $ é uma **anticadeia** de $ P $ se todos os pares de elementos em $ C $ forem não comparáveis.\n",
    "\n",
    "No CPO definido pelo diagrama de Hasse abaixo"
   ]
  },
  {
   "cell_type": "markdown",
   "metadata": {},
   "source": [
    "![image](images/LatticeDiv60.png)"
   ]
  },
  {
   "cell_type": "markdown",
   "metadata": {
    "id": "MiYbjSFLQlnR"
   },
   "source": [
    "- Os conjuntos $ \\emptyset $, $ \\{1\\} $, $ \\{1, 2, 6\\} $, $ \\{1, 3, 6\\} $, $ \\{1, 3, 15, 30, 60\\} $ definem cadeias.\n",
    "- Os conjuntos $ \\emptyset $, $ \\{3, 4\\} $, $ \\{5, 3, 4\\} $, $ \\{6, 10, 4\\} $ são anticadeias.\n",
    "\n",
    "Neste exemplo, como $ 60 $ é maior do que todos os outros elementos, diz-se que é o **elemento máximo**. O elemento $ 1 $ é o **elemento mínimo**, pois é inferior a todos os outros elementos.\n",
    "\n",
    "**Definição 8:** Altura e Largura\n",
    "\n",
    "Num CPO $ P $, designa-se por **altura** de $ P $ o tamanho máximo de uma cadeia. A **largura** de $ P $ é o tamanho máximo de uma anticadeia.\n",
    "\n",
    "No CPO definido pelo diagrama de Hasse anterior:\n",
    "- Exemplos de cadeias de comprimento máximo incluem $ \\{1, 2, 6, 30, 60\\} $ e $ \\{1, 5, 10, 30, 60\\} $. Neste sentido, o CPO tem altura 5.\n",
    "- Exemplos de anticadeias de comprimento máximo são $ \\{2, 3, 5\\} $ e $\\{2, 3, 5\\} $. Assim, o CPO tem largura 3.\n",
    "\n",
    "O diagrama de Hasse"
   ]
  },
  {
   "cell_type": "markdown",
   "metadata": {
    "id": "4drfTFNeRii1"
   },
   "source": [
    "![image.png](data:image/png;base64,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)"
   ]
  },
  {
   "cell_type": "markdown",
   "metadata": {
    "id": "Q9QzOVHkRknO"
   },
   "source": [
    "define um CPO com altura 2 e largura 2. Neste caso, o CPO não tem máximo. Cada elemento do conjunto $ \\{4, 6\\}$ é designado por **maximal**, pois nenhum deles tem elementos que lhe sejam superiores. No entanto, o CPO tem como mínimo o elemento $ 1 $.\n",
    "\n",
    "**Definição  9:** Máximo e Mínimo\n",
    "\n",
    "Seja $ P = (A, \\leq) $ um CPO. Dizemos que $ n \\in A $ é **máximo** se, para todo $ m \\in A $, $ m \\leq n $. Dizemos que $ n \\in A $ é **mínimo** se, para todo $ m \\in A $, $ n \\leq m $.\n",
    "\n",
    "**Definição 10:** Elemento Maximal e Elemento Minimal\n",
    "\n",
    "Seja $ P = (A, \\leq) $ um CPO. Dizemos que $ n \\in A $ é **maximal** se não existir $ m \\in A $ tal que $m \\neq n $ e $ n \\leq m $. Dizemos que $n \\in A $ é **minimal** se não existir $ m \\in A $ tal que $ m \\neq n $ e $ m \\leq n $.\n",
    "\n",
    "Relativamente à relação de ordem de um CPO, os seus subconjuntos são habitualmente caracterizados recorrendo às noções apresentadas abaixo.\n",
    "\n",
    "**Definição 11:** Máximos, Mínimos, Supremo, Ínfimo, Majorantes e Minorantes\n",
    "\n",
    "Seja $ P = (A, \\leq) $ um CPO e $ C $ um subconjunto de $ A $:\n",
    "1. $ m \\in A $ é **majorante** de $ C $ se e só se, para todo $ a \\in C $, $ a \\leq m $;\n",
    "2. $ m \\in A $ é **minorante** de $ C $ se e só se, para todo $ a \\in C $, $ m \\leq a $;\n",
    "3. $ s \\in A $ é **supremo** de $ C $ se e só se $ s $ é majorante de $ C $ e, para qualquer outro majorante $ s' $ de $ C $, temos $ s \\leq s' $. Se $ s \\in C $, então $ s $ designa-se por **elemento máximo** de $ C $;\n",
    "4. $ i \\in A $ é **ínfimo** de $ C $ se e só se $ i $ é minorante de $ C $ e, para qualquer outro minorante $ i' $ de $ C $, temos $ i' \\leq i $. Se $ i \\in C $, então $ i $ designa-se por **elemento mínimo** de $ C $;\n",
    "5. $ m \\in C $ é **elemento maximal** de $ C $ se não existir $ s' \\in C $ tal que $ s' \\neq m $ e $ m \\leq s' $;\n",
    "6. $ m \\in C $ é **elemento minimal** de $ C $ se não existir $ s' \\in C $ tal que $ s' \\neq m $ e $ s' \\leq m $.\n",
    "\n",
    "Apliquemos estas noções.\n",
    "\n",
    "**Exemplo 16**: O diagrama abaixo define um CPO com o conjunto de suporte $ A = \\{1, 2, 3, 4, 5, 6, 7, 8, 9, 10, 11\\} $. Consideremos o subconjunto de $ A $, $ S = \\{4, 5, 6\\} $. Relativamente à ordem parcial, $S $ tem:\n",
    "1. **Majorantes** $ M(S) = \\{6, 7, 8, 9\\} $, pois 6, 7, 8 e 9 são comparáveis e maiores ou iguais aos elementos de $ S $;\n",
    "2. **Minorantes** $ m(S) = \\{1, 2, 3\\} $, pois 1, 2 e 3 são comparáveis e menores ou iguais aos elementos de $ S $;\n",
    "3. **Supremo** $ \\sup(S) = 6 $, pois $ 6 $ é o menor dos majorantes;\n",
    "4. **Ínfimo** $ \\inf(S) = 3 $, pois $ 3 $ é o maior dos minorantes;\n",
    "5. **Elemento máximo** de $ S $ é $ 6 $, pois $6$ é o supremo e $ \\sup(S) \\in S $;\n",
    "6. Não existe **elemento mínimo**, pois $ \\inf(S) \\notin S $."
   ]
  },
  {
   "cell_type": "markdown",
   "metadata": {},
   "source": [
    "![image](images/CPO1.png)"
   ]
  },
  {
   "cell_type": "code",
   "execution_count": 30,
   "metadata": {
    "colab": {
     "base_uri": "https://localhost:8080/"
    },
    "executionInfo": {
     "elapsed": 41,
     "status": "ok",
     "timestamp": 1743597413667,
     "user": {
      "displayName": "Carlos Leandro",
      "userId": "02142946371031398041"
     },
     "user_tz": -60
    },
    "id": "PDMtDUN0gGfA",
    "outputId": "9b0291f9-1230-49ce-8015-d6392cef51a9"
   },
   "outputs": [
    {
     "name": "stdout",
     "output_type": "stream",
     "text": [
      "Supremo e Ínfimo de S: (2, 1)\n"
     ]
    }
   ],
   "source": [
    "def sup_inf(X, relations, S):\n",
    "    # Converter relations para um conjunto para busca eficiente\n",
    "    rel_set = set(relations)\n",
    "\n",
    "    # Encontrar limites superiores (upper bounds) de S\n",
    "    upper_bounds = set()\n",
    "    for x in X:\n",
    "        is_upper_bound = True\n",
    "        for a in S:\n",
    "            if (a, x) not in rel_set:  # Se algum a em S não é <= x\n",
    "                is_upper_bound = False\n",
    "                break\n",
    "        if is_upper_bound:\n",
    "            upper_bounds.add(x)\n",
    "\n",
    "    # Encontrar o supremo (menor limite superior)\n",
    "    sup = None\n",
    "    if upper_bounds:  # Se há limites superiores\n",
    "        for u in upper_bounds:\n",
    "            is_least = True\n",
    "            for v in upper_bounds:\n",
    "                if v != u and (u, v) not in rel_set:  # Se existe v <= u não satisfeito\n",
    "                    is_least = False\n",
    "                    break\n",
    "            if is_least:\n",
    "                sup = u\n",
    "                break\n",
    "\n",
    "    # Encontrar limites inferiores (lower bounds) de S\n",
    "    lower_bounds = set()\n",
    "    for x in X:\n",
    "        is_lower_bound = True\n",
    "        for a in S:\n",
    "            if (x, a) not in rel_set:  # Se algum x não é <= a\n",
    "                is_lower_bound = False\n",
    "                break\n",
    "        if is_lower_bound:\n",
    "            lower_bounds.add(x)\n",
    "\n",
    "    # Encontrar o ínfimo (maior limite inferior)\n",
    "    inf = None\n",
    "    if lower_bounds:  # Se há limites inferiores\n",
    "        for l in lower_bounds:\n",
    "            is_greatest = True\n",
    "            for m in lower_bounds:\n",
    "                if m != l and (m, l) not in rel_set:  # Se existe m <= l não satisfeito\n",
    "                    is_greatest = False\n",
    "                    break\n",
    "            if is_greatest:\n",
    "                inf = l\n",
    "                break\n",
    "\n",
    "    return (sup, inf)\n",
    "\n",
    "# Teste com o exemplo fornecido\n",
    "X = {1, 2, 3}\n",
    "relations = [(1, 1), (2, 2), (3, 3), (1, 2), (1, 3), (2, 3)]\n",
    "S = {1, 2}\n",
    "resultado = sup_inf(X, relations, S)\n",
    "print(\"Supremo e Ínfimo de S:\", resultado)"
   ]
  },
  {
   "cell_type": "markdown",
   "metadata": {
    "id": "LsNQ9O-ugUZe"
   },
   "source": [
    "**Explicação do Código**\n",
    "\n",
    "1. **Conversão para Conjunto**:\n",
    "   - `rel_set = set(relations)` facilita buscas rápidas ($ O(1) $ em média).\n",
    "\n",
    "2. **Encontrar Limites Superiores**:\n",
    "   - Para cada $ x \\in X $, verificamos se $ x $ é um limite superior de $ S $, ou seja, se $ a \\leq x $ para todo $ a \\in S $ (isto é, $ (a, x) \\in \\text{rel\\_set} $).\n",
    "   - Se $ x $ passar no teste, é adicionado a $ \\text{upper\\_bounds} $.\n",
    "\n",
    "3. **Determinar o Supremo**:\n",
    "   - Entre os limites superiores, procuramos o menor $ s $, tal que para todo outro limite superior $ s' $, $ s \\leq s' $ (ou seja, $ (s, s') \\in \\text{rel\\_set} $).\n",
    "   - Se não houver um único menor (ou nenhum limite superior), $ \\text{sup} = \\text{None} $.\n",
    "\n",
    "4. **Encontrar Limites Inferiores**:\n",
    "   - Para cada $ x \\in X $, verificamos se $ x $ é um limite inferior de $ S $, ou seja, se $ x \\leq a $ para todo $ a \\in S $ (isto é, $ (x, a) \\in \\text{rel\\_set} $).\n",
    "   - Se $ x $ passar no teste, é adicionado a $ \\text{lower\\_bounds} \\).\n",
    "\n",
    "5. **Determinar o Ínfimo**:\n",
    "   - Entre os limites inferiores, procuramos o maior ($ i $), tal que para todo outro limite inferior $ i' $, $ i' \\leq i $ (ou seja, $ (i', i) \\in \\text{rel\\_set} $).\n",
    "   - Se não houver um único maior (ou nenhum limite inferior), $ \\text{inf} = \\text{None} $.\n",
    "\n",
    "6. **Retorno**:\n",
    "   - Retorna a tupla $ (\\text{sup}, \\text{inf}) $."
   ]
  },
  {
   "cell_type": "markdown",
   "metadata": {},
   "source": [
    "## Exercícios de Revisão\n",
    "\n",
    "**Exercício 1**: Para cada uma das seguintes relações definidas no conjunto $ \\{1, 2, 3, 4, 5\\} $, determine se a relação é reflexiva, antissimétrica e/ou transitiva:\n",
    "1. $ \\{(1, 1), (2, 2), (3, 3), (4, 4), (5, 5)\\} $\n",
    "2. $ \\{(1, 2), (2, 3), (3, 4), (4, 5)\\} $\n",
    "3. $ \\{(1, 1), (1, 2), (1, 3), (1, 4), (1, 5)\\} $\n",
    "4. $ \\{(1, 1), (1, 2), (2, 1), (3, 4), (4, 3)\\} $\n",
    "5. $ \\{1, 2, 3, 4, 5\\} \\times \\{1, 2, 3, 4, 5\\} $\n",
    "\n",
    "**Exercício 2**: Dado $ S = \\{1, 2, \\ldots, 10\\} $ e a relação $ R $ em $ S $ definida por $ R = \\{(x, y) : x + y = 10\\} $, classifique a relação $ R $.\n",
    "\n",
    "**Exercício 3**: Determine $ R^{-1} $ para cada uma das seguintes relações:\n",
    "1. $ R = \\{(1, 2), (2, 3), (3, 4)\\} $\n",
    "2. $ R = \\{(1, 1), (2, 2), (3, 3)\\} $\n",
    "3. $ R = \\{(x, y) : x, y \\in \\mathbb{Z}, x - y = 1\\} $\n",
    "4. $ R = \\{(x, y) : x, y \\in \\mathbb{N}, y \\text{ divide } x\\} $\n",
    "5. $ R = \\{(x, y) : x, y \\in \\mathbb{Z}, xy > 0\\} $\n",
    "\n",
    "**Exercício 4**: Quais dos seguintes conjuntos são relações de equivalência?\n",
    "1. $ R = \\{(1, 1), (1, 2), (2, 1), (2, 2), (3, 3)\\} $ no conjunto $ A = \\{1, 2, 3\\} $\n",
    "2. $ R = \\{(1, 2), (2, 3), (3, 1)\\} $ no conjunto $ A = \\{1, 2, 3\\}$\n",
    "3. $ \\leq $ em $ \\mathbb{Z} $\n",
    "4. $ \\{1, 2, 3\\} \\times \\{1, 2, 3\\} $ no conjunto $ \\{1, 2, 3\\} $\n",
    "5. $ \\{1, 2, 3\\} \\times \\{1, 2, 3\\} $ no conjunto $ \\{1, 2, 3, 4\\} $\n",
    "\n",
    "**Exercício 5**: Para cada relação de equivalência, encontre a classe de equivalência pedida:\n",
    "1. $ R = \\{(1, 1), (1, 2), (2, 1), (2, 2), (3, 3), (4, 4)\\} $ em $ \\{1, 2, 3, 4\\} $. Determine $ [1] $.\n",
    "2. $ R = \\{(1, 1), (1, 2), (2, 1), (2, 2), (3, 3), (4, 4)\\} $ em $ \\{1, 2, 3, 4\\} $. Determine $ [4] $.\n",
    "3. Em $ \\{x \\in \\mathbb{Z} : 100 < x < 200\\} $, $ x R y $ se $ x $ e $ y $ têm o mesmo algarismo das dezenas. Determine $ [123] $.\n",
    "\n",
    "**Exercício 6**: Seja $ R $ a relação no conjunto de pares ordenados de inteiros positivos tal que $ (x, y) R (u, v) $se e só se $ xv = yu $. Mostre que $ R $ é uma relação de equivalência.\n",
    "\n",
    "**Exercício 7**: Mostre que uma relação $ R $ é simétrica se e só se $ R = R^{-1} $.\n",
    "\n",
    "**Exercício 8**: Dê um exemplo de uma relação que seja simétrica e transitiva, mas não reflexiva. Explique o que está errado no seguinte argumento:  \n",
    "“Seja $ R $ simétrica e transitiva. Pela simetria, se $ x R y $, então $ y R x $. Aplicando a transitividade a $ x R y $ e $ y R x $, obtemos $ x R x $. Portanto, $ R $ é reflexiva.”\n",
    "\n",
    "**Exercício 9**: Dado o conjunto $ S = \\{1, 2, 3, 4, 5\\} $, apresente uma relação de equivalência em $ S $ que determine a partição $ \\{\\{1, 2\\}, \\{3\\}, \\{4, 5\\}\\} $. Represente a relação graficamente.\n",
    "\n",
    "**Exercício 10**: Mostre que a relação “congruente módulo $ m $”, definida no conjunto dos inteiros por $ \\equiv = \\{(x, y) : x - y \\text{ é divisível por } m\\} $, é uma relação de equivalência. Demonstre que, se $ x_1 \\equiv y_1$ e $ x_2 \\equiv y_2 $, então $ (x_1 + x_2) \\equiv (y_1 + y_2) $.\n",
    "\n",
    "**Exercício 11**: Para duas relações de equivalência $ R $ e $ S $ definidas pelas matrizes:  \n",
    "\n",
    "$$\n",
    "M_R = \\begin{bmatrix} 1 & 1 & 0 \\\\ 1 & 1 & 0 \\\\ 0 & 0 & 1 \\end{bmatrix} \\quad \\text{e} \\quad M_S = \\begin{bmatrix} 1 & 1 & 0 \\\\ 1 & 1 & 1 \\\\ 0 & 1 & 1 \\end{bmatrix} \n",
    "$$  \n",
    "\n",
    "Obtenha relações de equivalência $ R_1 $ e $ R_2 $ em $ \\{1, 2, 3\\} $ tais que $ R_1 \\circ R_2 $ seja também uma relação de equivalência."
   ]
  },
  {
   "cell_type": "markdown",
   "metadata": {
    "id": "J4W5IF8qXRIh"
   },
   "source": [
    "**Exercício 1**: Desenhe os diagramas de Hasse dos conjuntos abaixo relativamente à relação de ordem parcial \"divide\" e indique se cada um constitui uma ordem total:\n",
    "- $ \\{2, 6, 24\\} $\n",
    "- $ \\{3, 5, 15\\} $\n",
    "- $ \\{1, 2, 3, 6, 12\\} $\n",
    "- $ \\{2, 4, 8, 16\\} $\n",
    "- $\\{3, 9, 27, 54\\} $\n",
    "\n",
    "**Exercício 12**: Se $ R $ é uma ordem parcial em $ X $ e $A \\subseteq X $, mostre que $ R \\cap (A \\times A) $ é uma ordem parcial em $ A $.\n",
    "\n",
    "**Exercício 13**: Apresente um exemplo de um conjunto $ X $ tal que $ (P(X), \\subseteq) $ seja um conjunto totalmente ordenado.\n",
    "\n",
    "**Exercício 14**: Apresente um exemplo de uma relação que seja simultaneamente uma ordem parcial e uma relação de equivalência num conjunto $ X $.\n",
    "\n",
    "**Exercício 15**: A figura abaixo representa o diagrama de Hasse de uma ordem parcial $ (P, R) $, onde $ P = \\{x_1, x_2, \\ldots, x_5\\} $:"
   ]
  },
  {
   "cell_type": "markdown",
   "metadata": {
    "id": "Pi5JCyrBXSbg"
   },
   "source": [
    "![image.png](data:image/png;base64,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)"
   ]
  },
  {
   "cell_type": "markdown",
   "metadata": {
    "id": "-ujnoSlnXXLx"
   },
   "source": [
    "Determine o valor de verdade das proposições: $ x_1 R x_2 $, $ x_4 R x_1 $, $ x_3 R x_5 $, $ x_2 R x_5 $, $ x_1 R x_1 $, $ x_2 R x_3 $ e $ x_4 R x_5 $. Caso exista, determine o maior elemento e o menor elemento em $ P $. Determine os majorantes e minorantes dos subconjuntos $ \\{x_2, x_3, x_4\\} $, $ \\{x_3, x_4, x_5\\} $ e $ \\{x_1, x_2, x_3\\} $. Caso existam, determine também, para estes conjuntos, o menor dos majorantes e o maior dos minorantes.\n",
    "\n",
    "**Exercício 16**: Considere os seguintes conjuntos e as relações neles definidas. Determine quais das relações são de ordem parcial:\n",
    "1. $ A = \\{3, 5, 6, 10, 15, 18, 20\\} $, $ R \\subset A \\times A $, tal que $(x, y) \\in R $ se e só se $ x $ é múltiplo de $ y $.\n",
    "2. $ R \\subset \\mathbb{N} \\times \\mathbb{N} $, tal que $ xy \\% 3 = 0 $ (o produto $ xy $ é divisível por 3).\n",
    "3. $ A = \\{1, 2, 3, 4, 5\\} $, $ R \\subset A \\times A $, tal que $ (x, y) \\in R $ se e só se $ x $ divide $ y $.\n",
    "\n",
    "**Exercício 17**: Considere o conjunto $ X = \\{1, 2, 3, 4, 5, 6, 7, 8\\} $, parcialmente ordenado de acordo com o diagrama de Hasse abaixo. Considere ainda os subconjuntos $ A = \\{4, 5, 7\\} $ e $ B = \\{1, 2, 4, 7\\} $. Determine, caso existam:\n",
    "1. Os elementos maximais, minimais, máximo e mínimo de $ X $.\n",
    "2. Os majorantes, minorantes, supremo e ínfimo de $ A $ e $ B $."
   ]
  },
  {
   "cell_type": "markdown",
   "metadata": {},
   "source": [
    "![image](images/hasse2.png)"
   ]
  },
  {
   "cell_type": "markdown",
   "metadata": {
    "id": "YCksFGdsXi43"
   },
   "source": [
    "Considere ainda os subconjuntos $ A = \\{4, 5, 7\\} $ e $B = \\{1, 2, 4, 7\\} $. Determine, caso existam:\n",
    "1. Os elementos maximais, minimais, máximo e mínimo de $ X $.\n",
    "2. Os majorantes, minorantes, supremo e ínfimo de  $A $ e $ B $.\n",
    "\n",
    "**Exercício 18**: Considere o conjunto $ X = \\{1, 2, 3, 4, 5, 6, 7, 8\\} $, parcialmente ordenado de acordo com o diagrama de Hasse abaixo ."
   ]
  },
  {
   "cell_type": "markdown",
   "metadata": {},
   "source": [
    "![image](images/hasse3.png)"
   ]
  },
  {
   "cell_type": "markdown",
   "metadata": {
    "id": "6WHFhc0SXyZQ"
   },
   "source": [
    " Considere ainda os subconjuntos $ A = \\{4, 5, 7\\} $ e $ B = \\{1, 2, 4, 7\\} $. Determine, caso existam:\n",
    "1. Os elementos maximais, minimais, máximo e mínimo de $ X $.\n",
    "2. Os majorantes, minorantes, supremo e ínfimo de $ A $ e $ B $.\n",
    "\n",
    "**Exercício 19**: Considere o conjunto $ X = \\{1, 2, 3, 4, 5, 6, 7, 8\\} $, parcialmente ordenado de acordo com o diagrama de Hasse antrior . Considere ainda os subconjuntos $ A = \\{4, 3, 7\\} $ e $ B = \\{2, 3, 4, 5\\} $. Determine, caso existam:\n",
    "1. Os elementos maximais, minimais, máximo e mínimo de $ X $.\n",
    "2. Os majorantes, minorantes, supremo e ínfimo de $A $ e $ B $.\n",
    "\n",
    "**Exercício 20**: Considere em $ \\mathbb{N} $ a relação $ | $ definida por $ x | y $ se e só se existe $ k \\in \\mathbb{N} $ tal que $ y = kx $ (i.e., $ x $ divide $ y $):\n",
    "1. Mostre que $ (\\mathbb{N}, |) $ é um CPO, mas não um conjunto totalmente ordenado.\n",
    "2. Dados $a, b \\in \\mathbb{N} $, determine, caso existam, o supremo e o ínfimo de $ \\{a, b\\} $.\n",
    "3. Diga, justificando, se $(\\mathbb{N}, |) $ tem elemento máximo ou elemento mínimo.\n",
    "4. Seja $ X = \\{1, 2, 3, 4, 6, 8, 9, 12\\} $:\n",
    "   (a) Construa o diagrama de Hasse de $ (X, |) $.\n",
    "   (b) Indique, caso existam, os elementos maximais e os elementos minimais de $ X $.\n",
    "\n",
    "**Exercício 21**: Considere os conjuntos:\n",
    "- $ A = \\{\\emptyset, \\{1\\}, \\{1, 2\\}, \\{1, 3\\}, \\{1, 2, 3\\}, \\{1, 2, 4\\}, \\{1, 2, 3, 4\\}, \\{4\\}\\} $,\n",
    "- $ X = \\{\\{1\\}, \\{4\\}, \\{1, 2\\}, \\{1, 3\\}\\} $.\n",
    "1. Construa o diagrama de Hasse de $ (A, \\subseteq) $.\n",
    "2. Indique, caso existam, os elementos maximais, minimais, supremo, ínfimo, máximo e mínimo de $ X $.\n",
    "\n",
    "**Exercício 22**: Considere no conjunto $ A = \\{1, 2, 3, 4\\} $ as relações:\n",
    "- $ R = \\{(1, 1), (2, 2), (3, 3), (4, 4), (1, 2), (1, 3), (4, 3)\\} $,\n",
    "- $ S = \\{(1, 1), (2, 2), (3, 3), (4, 4), (1, 3), (3, 2), (3, 4)\\} $.\n",
    "1. Indique quais das relações são relações de ordem parcial. Justifique.\n",
    "2. Construa os respetivos diagramas de Hasse."
   ]
  },
  {
   "cell_type": "markdown",
   "metadata": {
    "id": "F-LKJP1IcZB5"
   },
   "source": [
    "## Exercícios de Programação\n",
    "**Exercício 23:** Verificar se é um Poset\n",
    "Escreva uma função `is_poset(X, relations)` que recebe um conjunto $X$ e uma lista de pares `relations` onde cada par $(a,b)$ significa $a \\leq b$, e retorna True se `relations` define uma ordem parcial em $X$ (ou seja, é reflexiva, antissimétrica e transitiva), False caso contrário. Certifique-se de que `relations` inclui todos os pares reflexivos $(x,x)$ para $x \\in X$.  \n",
    "Teste com:  \n",
    "- $X = \\{1, 2, 3\\}$, `relations = [(1,1), (2,2), (3,3), (1,2), (2,3), (1,3)]` → True  \n",
    "- $X = \\{1, 2, 3\\}$, `relations = [(1,1), (2,2), (3,3), (1,2), (2,1)]` → False (falha na antissimetria)\n",
    "\n",
    "**Exercício 24:** Encontrar Elementos Maximais e Mínimos\n",
    "Escreva uma função `find_maximal_minimal(X, relations)` que recebe um conjunto $X$ e uma lista de pares `relations` (assumindo que é um poset, com todos os pares reflexivos), e retorna duas listas: os elementos maximais (aqueles sem $y \\neq x$ tal que $(x,y)$ em `relations`) e os elementos mínimos (sem $y \\neq x$ tal que $(y,x)$ em `relations`).  \n",
    "Teste com:  \n",
    "- $X = \\{1, 2, 3\\}$, `relations = [(1,1), (2,2), (3,3), (1,2), (1,3)]` → maximais=[2,3], mínimos=[1]\n",
    "\n",
    "**Exercício 25:** Calcular Altura e Largura\n",
    "Escreva uma função `height_width(X, relations)` que recebe um conjunto $X$ e uma lista de pares `relations` (assumindo poset), e retorna uma tupla `(altura, largura)` onde a altura é o número máximo de elementos numa cadeia (sequência mais longa $a_1 \\leq a_2 \\leq \\cdots \\leq a_k$), e a largura é o tamanho da maior anticadeia (maior conjunto onde nenhum par é comparável). Use uma abordagem gulosa para a largura: continue adicionando elementos incomparáveis.  \n",
    "Teste com:  \n",
    "- $X = \\{1, 2, 3\\}$, `relations = [(1,1), (2,2), (3,3), (1,2), (1,3)]` → altura=3 (ex.: cadeia 1,2,3), largura=1 (ex.: {2} ou {3})\n",
    "\n",
    "\n",
    "\n",
    "\n"
   ]
  },
  {
   "cell_type": "markdown",
   "metadata": {
    "id": "Gk1y5FUvNb1q"
   },
   "source": [
    "## Referências:\n",
    "\n",
    "1. **\"Discrete Mathematics and Its Applications\"**  \n",
    "   **Autor:** Kenneth H. Rosen  \n",
    "   **Descrição:** Este livro é um recurso abrangente que cobre diversos tópicos de matemática discreta, incluindo relações de equivalência e ordens parciais. Oferece uma abordagem prática com exemplos e exercícios aplicados à ciência da computação.  \n",
    "   **Tópicos-chave:** Relações binárias, relações de equivalência, ordens parciais, diagramas de Hasse, aplicações em algoritmos e estruturas de dados.\n",
    "\n",
    "2. **\"Introduction to Lattices and Order\"**  \n",
    "   **Autores:** B. A. Davey e H. A. Priestley  \n",
    "   **Descrição:** Este livro fornece uma introdução acessível às estruturas de ordens e reticulados, explorando conceitos fundamentais e suas aplicações. É particularmente útil para compreender a teoria das ordens parciais e suas implicações em várias áreas da matemática e ciência da computação.  \n",
    "   **Tópicos-chave:** Ordens parciais, reticulados, teoria das categorias, aplicações em lógica e ciência da computação.\n",
    "\n",
    "3. **\"Combinatorics: The Rota Way\"**  \n",
    "   **Autores:** Joseph P. S. Kung, Gian-Carlo Rota e Catherine H. Yan  \n",
    "   **Descrição:** Este texto aborda a análise combinatória de uma perspectiva algébrica, incluindo discussões sobre relações de equivalência e ordens parciais. Baseia-se nas palestras de Rota no MIT e oferece insights profundos sobre a interseção entre a análise combinatória e outras áreas matemáticas.  \n",
    "   **Tópicos-chave:** Relações de equivalência, ordens parciais, reticulados, teoria combinatória.\n",
    "\n",
    "4. **\"Discrete Mathematics: An Open Introduction\"**  \n",
    "   **Autor:** Oscar Levin  \n",
    "   **Descrição:** Este livro oferece uma introdução aos conceitos fundamentais da matemática discreta, incluindo um capítulo dedicado a relações e grafos, onde são exploradas as relações de equivalência e ordens parciais. O texto é acessível e inclui numerosos exemplos e exercícios.  \n",
    "   **Tópicos-chave:** Relações, grafos, relações de equivalência, ordens parciais, aplicações em ciência da computação.\n"
   ]
  },
  {
   "cell_type": "code",
   "execution_count": null,
   "metadata": {},
   "outputs": [],
   "source": []
  }
 ],
 "metadata": {
  "colab": {
   "authorship_tag": "ABX9TyOVxbUjzvDHoubteM2KNBqW",
   "provenance": []
  },
  "kernelspec": {
   "display_name": "Python 3 (ipykernel)",
   "language": "python",
   "name": "python3"
  },
  "language_info": {
   "codemirror_mode": {
    "name": "ipython",
    "version": 3
   },
   "file_extension": ".py",
   "mimetype": "text/x-python",
   "name": "python",
   "nbconvert_exporter": "python",
   "pygments_lexer": "ipython3",
   "version": "3.10.12"
  }
 },
 "nbformat": 4,
 "nbformat_minor": 4
}
