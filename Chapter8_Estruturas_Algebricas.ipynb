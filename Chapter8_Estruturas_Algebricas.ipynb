{
 "cells": [
  {
   "cell_type": "markdown",
   "metadata": {
    "id": "05GEteAjdYI_"
   },
   "source": [
    "# Estruturas Algébricas \n",
    "\n",
    "\n",
    "[Abrir no Colab este ficheiro para o poder executar](https://colab.research.google.com/github/melroleandro-solidreturn/Matematica-Discreta-para-Hackers/blob/main/Chapter7_Estruturas_Algebricas.ipynb)\n"
   ]
  },
  {
   "cell_type": "markdown",
   "metadata": {},
   "source": [
    "Neste capítulo, abordamos as estruturas algébricas como fundamentos essenciais para a compreensão dos sistemas de processamento de informação e para a modelação matemática das linguagens. Exploraremos as estruturas algébricas que fornecem as bases para a construção de modelos formais, permitindo a definição precisa de operações e relações entre elementos. Simultaneamente, introduziremos os princípios das linguagens formais, que estruturam a forma como os símbolos e as regras são organizados para representar informação e processos computacionais.\n",
    "\n",
    "Estes conceitos servirão de alicerce para os capítulos seguintes, nos quais serão apresentadas as linguagens, gramáticas e os autómatos."
   ]
  },
  {
   "cell_type": "markdown",
   "metadata": {
    "id": "QfduCIsjdYJB"
   },
   "source": [
    "## Semi-grupos\n",
    "\n",
    "Quer a adição quer a multiplicação em $\\mathbb{N}$, são operações que a cada par de números fazem corresponder um número natural. Diz-se, por tal facto, que a adição e a multiplicação são operações internas ou leis de composição interna em $\\mathbb{N}$."
   ]
  },
  {
   "cell_type": "markdown",
   "metadata": {
    "id": "NrzTWcqPdYJB"
   },
   "source": [
    "A operação $\\oplus$ é uma lei de composição interna ou operador binário no conjunto $A$, se e só se faz corresponder a cada par ordenado $(a,b)$ em $A\\times A$, um único elemento pertencente a $A$,\n",
    "\n",
    "$$\n",
    "\\oplus:A\\times A \\rightarrow A\n",
    "$$"
   ]
  },
  {
   "cell_type": "markdown",
   "metadata": {
    "id": "1BlJ6RJSdYJD"
   },
   "source": [
    "Assim, não estamos em presença de uma operação interna sempre que para dois elementos dados, o resultado da operação não pertença ao mesmo conjunto.\n",
    "\n",
    "**Definição 1:**\n",
    "\n",
    "Se $\\oplus$ é uma operação interna em $A$, diz-se que $A$ é fechado relativamente a $A$."
   ]
  },
  {
   "cell_type": "markdown",
   "metadata": {
    "id": "1518ICWYdYJE"
   },
   "source": [
    "São as leis de composição interna que conferem aos conjuntos o que habitualmente chamamos de estruturas. Assim podemos desde já definir a mais simples das estruturas, o grupóide.\n",
    "\n",
    "**Definição 2:**\n",
    "\n",
    "Um conjunto $A$ diz-se um **grupóide** relativamente à operação $\\oplus$, ou que a estrutura $(A,\\oplus)$ define um grupóide, se e só se $\\oplus$ é uma lei de composição interna em $A$."
   ]
  },
  {
   "cell_type": "markdown",
   "metadata": {
    "id": "qqoAeXbCdYJE"
   },
   "source": [
    "**Exemplo 1:**\n",
    "\n",
    "$$\n",
    "(\\mathbb{Z},+), (\\mathbb{Z},-),\\text{ e }(\\mathbb{R},\\times)\n",
    "$$\n",
    "\n",
    "são exemplos de grupóides. $(\\mathbb{Z},+)$ é grupóide porque a adição está definida para números inteiros e a soma de dois inteiros é um inteiro. De forma idêntica,  $(\\mathbb{Z},-)$ é um grupóide já que a diferença está definida para todo o par de inteiros, e o resultado é um único inteiro. $(\\mathbb{R},\\times)$ é um grupóide porque o produto está definido para todo o par de reais e o resultado é um real."
   ]
  },
  {
   "cell_type": "markdown",
   "metadata": {
    "id": "aB3QqqUhdYJF"
   },
   "source": [
    "**Exercícios 1:**\n",
    "\n",
    "Justifique que são grupóides:\n",
    "\n",
    "1. $(\\mathbb{N},+)$\n",
    "1. $(\\mathbb{R},\\times)$\n",
    "1. $(P(A),\\cap)$, em que $P(A)$ é o conjunto das partes de $A$.\n"
   ]
  },
  {
   "cell_type": "markdown",
   "metadata": {
    "id": "Tbv4XS6VdYJF"
   },
   "source": [
    "**Exercício 2:**\n",
    "\n",
    "Justifique que não são grupóides:\n",
    "1. $(\\mathbb{N},-)$\n",
    "1. $(\\mathbb{R},:)$, onde $:$ é a operação de divisão de reais\n",
    "1. $(B,\\oplus)$, em que $B=\\{0,1\\}$ e a operação $\\oplus$ está definida pela tabela\n",
    "\n",
    "$\\oplus$ | 0 | 1\n",
    "---------|---|---\n",
    "**0** | 0 | 1\n",
    "**1** | 1 | 2\n",
    "\n"
   ]
  },
  {
   "cell_type": "markdown",
   "metadata": {
    "id": "5pk0RRBfdYJG"
   },
   "source": [
    "Numa estrutura $(A,\\oplus)$ diz-se que a operação $\\oplus$ é **associativa** se e só se\n",
    "\n",
    "$$\n",
    "\\forall a,b,c\\in A:\\;(a\\oplus b)\\oplus c = a\\oplus (b\\oplus c).\n",
    "$$\n",
    "\n",
    "E diz-se que é **comutativo** se e só se\n",
    "\n",
    "$$\n",
    "\\forall a,b\\in A:\\;a\\oplus b = b\\oplus a.\n",
    "$$\n",
    "\n",
    "Recorde que a adição quer a multiplicação são operações associativas e comutativas em $\\mathbb{N}$."
   ]
  },
  {
   "cell_type": "markdown",
   "metadata": {
    "id": "BfkadKW5dYJG"
   },
   "source": [
    "**Exemplo 1:**\n",
    "\n",
    "Em $\\mathbb{Z}$ defina-se a operação $\\oplus$ por\n",
    "\n",
    "$$\n",
    "a\\oplus b =3a-ab.\n",
    "$$\n",
    "\n",
    "Calculemos por exemplo,\n",
    "\n",
    "$$\n",
    "(1\\oplus 2)\\oplus3=(3-2)\\oplus 3=1\\oplus3=3-3=0\n",
    "$$\n",
    "\n",
    "e, em seguida\n",
    "\n",
    "$$\n",
    "1\\oplus(2\\oplus 3)=1\\oplus(6-6)=1\\oplus0=3-0=3.\n",
    "$$\n",
    "\n",
    "Assim, $1,2,3\\in \\mathbb{Z}$, e $(1\\oplus 2)\\oplus3\\neq1\\oplus(2\\oplus 3)$.\n",
    "\n",
    "Então, a operação $\\oplus$ não é associativa, pois,\n",
    "\n",
    "$$\n",
    "\\exists a,b,c\\in \\mathbb{Z}:\\;(a\\oplus b)\\oplus c\\neq a\\oplus(b\\oplus c).\n",
    "$$\n",
    "\n",
    "Calculando agora\n",
    "\n",
    "$$\n",
    "1\\oplus 2 = 3-2=1\n",
    "$$\n",
    "\n",
    "e\n",
    "\n",
    "$$\n",
    "2\\oplus 1 =6-2 =4.\n",
    "$$\n",
    "\n",
    "Então\n",
    "\n",
    "$$\n",
    "\\exists a,b\\in \\mathbb{Z}:\\;a\\oplus b\\neq b\\oplus a\n",
    "$$\n",
    "\n",
    "e a operação $\\oplus$ também não é comutativa."
   ]
  },
  {
   "cell_type": "markdown",
   "metadata": {
    "id": "U42vx5eudYJG"
   },
   "source": [
    "**Exemplo 2:**\n",
    "\n",
    "Em $A=\\{1,2,3\\}$, defina-se agora o operador interno $\\oplus$ pela tabela\n",
    "\n",
    "$\\oplus$ | 1 | 2 | 3\n",
    "---------|---|---|---\n",
    "**1** | 2 | 1 | 3\n",
    "**2** | 1 | 3 | 1\n",
    "**3** | 3 | 1 | 1\n",
    "\n",
    "Para averiguar se a operação $\\oplus$ é associativa temos de verificar se, para todos os elementos de $A$, se verifica\n",
    "$\n",
    "(a\\oplus b)\\oplus c = a\\oplus (b\\oplus c).\n",
    "$\n",
    "Temos de examinar 27 possibilidades. No entanto, se se encontrar um termo em que não se verifique, podemos logo concluir que $\\oplus$ não é associativa. Por exemplo:\n",
    "$\n",
    "(1\\oplus 2)\\oplus 3 = 1\\oplus 3 = 3\n",
    "$\n",
    "e\n",
    "$\n",
    "1\\oplus (2\\oplus 3 )= 1\\oplus 1 = 2.\n",
    "$\n",
    "Logo, $\\oplus$ não é associativa.\n",
    "\n",
    "Para investigar se a operação é comutativa basta ver se existe simetria em relação à diagonal principal da tabela. Neste caso existe simetria, logo a operação $\\oplus$ é comutativa."
   ]
  },
  {
   "cell_type": "markdown",
   "metadata": {
    "id": "stBR4fmkdYJG"
   },
   "source": [
    "Se num conjunto $A$, está definida uma operação binária associativa, diz-se que $(E,\\oplus)$ é um semi-grupo.\n"
   ]
  },
  {
   "cell_type": "markdown",
   "metadata": {
    "id": "4EveVrRudYJH"
   },
   "source": [
    "**Definição 3:** Semi-grupo\n",
    "\n",
    "Seja $A$ um conjunto e $\\oplus$  uma operação. $(A,\\oplus)$ é um **semi-grupo** se $\\oplus$ é uma lei de composição interna em $A$ e $\\oplus$ é associativa. Caso num semi-grupo o operador seja comutativo, é usual designá-lo de **semi-grupo comutativo** ou **semi-grupo abeliano**."
   ]
  },
  {
   "cell_type": "markdown",
   "metadata": {
    "id": "e0CBH-UfdYJH"
   },
   "source": [
    "**Exemplo 3:**\n",
    "\n",
    "As estruturas algébricas\n",
    "\n",
    "$$\n",
    "(\\mathbb{N},+), (\\mathbb{N},\\times),\\text{ e }(P(A),\\cap)\n",
    "$$\n",
    "\n",
    "são **semi-grupos**."
   ]
  },
  {
   "cell_type": "markdown",
   "metadata": {
    "id": "HqvHKjFvdYJH"
   },
   "source": [
    "No semi-grupo comutativo $(\\mathbb{Z},+)$, o número 0 tem a seguinte propriedade:\n",
    "\n",
    "$$\n",
    "\\forall a\\in\\mathbb{Z}:\\; a+0=0+a=a.\n",
    "$$\n",
    "\n",
    "Por esta razão se diz que zero é o elemento neutro para a adição em $\\mathbb{Z}$."
   ]
  },
  {
   "cell_type": "markdown",
   "metadata": {
    "id": "mNh69mohdYJH"
   },
   "source": [
    "**Definição 4:**\n",
    "\n",
    "No semi-grupo $(A,\\oplus)$ diz-se que $e$ é **elemento neutro** para a operação $\\oplus$, se e só se\n",
    "\n",
    "$$\n",
    "\\forall a\\in A:\\; a+e=e+a=a.\n",
    "$$\n"
   ]
  },
  {
   "cell_type": "markdown",
   "metadata": {
    "id": "WruowH8cdYJH"
   },
   "source": [
    "Com base nesta definição podemos mostrar que:"
   ]
  },
  {
   "cell_type": "markdown",
   "metadata": {
    "id": "tvw6ig3mdYJH"
   },
   "source": [
    "**Teorema 1:**\n",
    "\n",
    "Se o semi-grupo $(A,\\oplus)$ tem elemento neutro, este é único."
   ]
  },
  {
   "cell_type": "markdown",
   "metadata": {
    "id": "xudvRtywdYJI"
   },
   "source": [
    "**Exemplo 4:**\n",
    "\n",
    "No semi-grupo $(\\{0,1,2\\},\\oplus)$, a operação $\\oplus$ está definida pela tabela:\n",
    "\n",
    "$\\oplus$ | 0 | 1 | 2\n",
    "---------|---|---|---\n",
    "**0** | 2 | 0 | 1\n",
    "**1** | 0 | 1 | 2\n",
    "**2** | 1 | 2 | 0\n",
    "\n",
    "O elemento neutro será o elemento a que corresponde uma linha e uma coluna iguais e pela mesma ordem dos elementos de suporte $A$. Logo o elemento neutro é 1."
   ]
  },
  {
   "cell_type": "markdown",
   "metadata": {
    "id": "FwLAgQuedYJI"
   },
   "source": [
    "**Exercício 3:**\n",
    "Verifique que $\\emptyset$ (conjunto vazio) é elemento neutro do semi-grupo $(P(A),\\cup)$, que tem por suporte o conjunto das partes de $A$."
   ]
  },
  {
   "cell_type": "markdown",
   "metadata": {
    "id": "7novzsb5dYJI"
   },
   "source": [
    "**Exercício 4:**\n",
    "Qual é o elemento neutro do semi-grupo $(P(A),\\cap)$? Justifique."
   ]
  },
  {
   "cell_type": "markdown",
   "metadata": {
    "id": "AKFO-PWwdYJI"
   },
   "source": [
    "**Exercício 5:**\n",
    "O semi-grupo $(\\mathbb{Z},-)$ tem elemento neutro? Justifique."
   ]
  },
  {
   "cell_type": "markdown",
   "metadata": {
    "id": "pW6KIeGWdYJI"
   },
   "source": [
    "**Exercício 6:**\n",
    "Indique os elementos neutros, se existem, das operações definidas pelas tabelas:\n",
    "\n",
    "$\\oplus$ | 1 | 2 | 3\n",
    "---------|---|---|---\n",
    "**1** | 2 | 3 | 1\n",
    "**2** | 3 | 1 | 2\n",
    "**3** | 1 | 2 | 3\n",
    "         \n",
    "\n",
    "$\\oplus$ | 1 | 2 | 3 | 4\n",
    "---------|---|---|---|---\n",
    "**1** | 2 | 3 | 1 | 4\n",
    "**2** | 4 | 1 | 2 | 3\n",
    "**3** | 1 | 2 | 3 | 4\n",
    "**4** | 1 | 4 | 4 | 2"
   ]
  },
  {
   "cell_type": "markdown",
   "metadata": {
    "id": "lVKREKLIdYJI"
   },
   "source": [
    "## Monóide\n",
    "\n",
    "A estrutura $(A,\\oplus,e)$ diz-se um **monóide** se\n",
    "\n",
    "1. $(A,\\oplus)$ é um semi-grupo e\n",
    "2. $e$ é elemento neutro da operação $\\oplus$.\n"
   ]
  },
  {
   "cell_type": "markdown",
   "metadata": {
    "id": "fKkCy0HydYJI"
   },
   "source": [
    "**Exercício 7:**\n",
    "1. $(\\mathbb{N},+)$ não tem elemento neutro.\n",
    "2. $(\\mathbb{Z},+,0)$ é um monóide porque $(\\mathbb{Z},+)$ é um semi-grupo e a adição tem por elemento neutro 0.\n",
    "3. $(\\mathbb{Z},\\times,1)$ é um monóide porque $(\\mathbb{Z},\\times)$ é um semi-grupo e a multiplicação tem por elemento neutro 1."
   ]
  },
  {
   "cell_type": "markdown",
   "metadata": {
    "id": "vLD-DpP_4psd"
   },
   "source": [
    "**Exemplo 5:** Monóide dos Inteiros com Operação Mínimo\n",
    "\n",
    "**Objetivo:**  \n",
    "Modele a operação de mínimo entre dois inteiros como um monóide, onde o elemento neutro é $ +\\infty $. Implemente e teste:  \n",
    "1. A operação $ \\text{min}(a, b) $.  \n",
    "2. A propriedade $ \\text{min}(a, \\text{neutro}) = a $.  \n",
    "\n",
    "**Teste:**  \n",
    "```python  \n",
    "a = 5  \n",
    "print(resultado == a)  # Deve retornar True  \n",
    "```"
   ]
  },
  {
   "cell_type": "code",
   "execution_count": 8,
   "metadata": {
    "colab": {
     "base_uri": "https://localhost:8080/"
    },
    "executionInfo": {
     "elapsed": 58,
     "status": "ok",
     "timestamp": 1743603847077,
     "user": {
      "displayName": "Carlos Leandro",
      "userId": "02142946371031398041"
     },
     "user_tz": -60
    },
    "id": "KwJ675CP4xE2",
    "outputId": "f60b0e2e-7fca-4ab8-a5f1-4f13aae8e49e"
   },
   "outputs": [
    {
     "name": "stdout",
     "output_type": "stream",
     "text": [
      "True\n"
     ]
    }
   ],
   "source": [
    "def operacao_min(a, b):\n",
    "    return min(a, b)\n",
    "\n",
    "def elemento_neutro():\n",
    "    return float('inf')\n",
    "\n",
    "# Teste do elemento neutro:\n",
    "a = 5\n",
    "neutro = elemento_neutro()\n",
    "resultado = operacao_min(a, neutro)\n",
    "print(resultado == a)  # Saída: True"
   ]
  },
  {
   "cell_type": "markdown",
   "metadata": {
    "id": "t3Jp0JHu4_rR"
   },
   "source": [
    "**Exemplo 6:** Composição de Funções como Semigrupo\n",
    "**Objetivo:**  \n",
    "Defina três funções matemáticas (ex: $ f(x) = x+1 $, $ g(x) = 2x $, $ h(x) = x^2 $) e verifique se a composição de funções é associativa, ou seja:  \n",
    "\n",
    "$$ (f \\circ g) \\circ h = f \\circ (g \\circ h). $$\n",
    "\n",
    "**Teste:**  \n",
    "```python  \n",
    "x = 3  \n",
    "print(comp_esq == comp_dir)  # Deve retornar True  \n",
    "```\n"
   ]
  },
  {
   "cell_type": "code",
   "execution_count": 9,
   "metadata": {
    "colab": {
     "base_uri": "https://localhost:8080/"
    },
    "executionInfo": {
     "elapsed": 39,
     "status": "ok",
     "timestamp": 1743603985544,
     "user": {
      "displayName": "Carlos Leandro",
      "userId": "02142946371031398041"
     },
     "user_tz": -60
    },
    "id": "EfBdtDW55Dtf",
    "outputId": "51f97dcd-f118-46dc-e803-4854b6a2bf90"
   },
   "outputs": [
    {
     "name": "stdout",
     "output_type": "stream",
     "text": [
      "True\n"
     ]
    }
   ],
   "source": [
    "def f(x):\n",
    "    return x + 1\n",
    "\n",
    "def g(x):\n",
    "    return 2 * x\n",
    "\n",
    "def h(x):\n",
    "    return x ** 2\n",
    "\n",
    "def composicao(funcao1, funcao2):\n",
    "    return lambda x: funcao1(funcao2(x))\n",
    "\n",
    "# Teste de associatividade:\n",
    "x = 3\n",
    "comp_esq = composicao(composicao(f, g), h)(x)  # (f∘g)∘h\n",
    "comp_dir = composicao(f, composicao(g, h))(x)  # f∘(g∘h)\n",
    "print(comp_esq == comp_dir)  # Saída: True (ambos = f(g(h(3))) = 19)"
   ]
  },
  {
   "cell_type": "markdown",
   "metadata": {
    "id": "HISzAobI41lm"
   },
   "source": []
  },
  {
   "cell_type": "markdown",
   "metadata": {
    "id": "UEDhY_St6Ecb"
   },
   "source": [
    "**Obs.:** As funções lambda são ferramentas poderosas para simplificar código em situações específicas, como operações rápidas ou integração com funções de alta ordem. Porém, devem ser usadas com moderação para evitar comprometer a clareza do código. Em casos de lógica complexa, prefira funções definidas com `def`.  "
   ]
  },
  {
   "cell_type": "markdown",
   "metadata": {
    "id": "PP5_XMuS6LJd"
   },
   "source": [
    "## Funções lambda do Python\n",
    "\n",
    "As *funções lambda* em Python são funções anónimas (sem nome) definidas com a palavra-chave `lambda`. São úteis para criar funções curtas e simples em uma única linha, especialmente quando uma função temporária é necessária. Derivam do conceito de *lambda calculus* na ciência da computação, sendo fundamentais em paradigmas de programação funcional.\n",
    "\n",
    "\n",
    "\n",
    "**Sintaxe Básica**  \n",
    "A estrutura geral de uma função lambda é:  \n",
    "```python  \n",
    "lambda argumentos: expressão  \n",
    "```  \n",
    "- **Argumentos:** Podem ser zero ou mais parâmetros (separados por vírgulas).  \n",
    "- **Expressão:** Um único cálculo ou operação. O resultado desta expressão é retornado automaticamente.  \n",
    "\n",
    "**Exemplo Simples:**  \n",
    "```python  \n",
    "dobro = lambda x: x * 2  \n",
    "print(dobro(5))  # Saída: 10  \n",
    "```  \n",
    "\n",
    "\n",
    "\n",
    "#### **Comparação com Funções Tradicionais (`def`)**  \n",
    "| **Característica**         | **Função Lambda**                          | **Função `def`**                          |  \n",
    "|----------------------------|--------------------------------------------|-------------------------------------------|  \n",
    "| **Nome**                   | Anónima (sem identificador).              | Requer um nome.                           |  \n",
    "| **Complexidade**           | Apenas uma expressão.                     | Pode ter múltiplas linhas e lógica complexa. |  \n",
    "| **Uso Típico**             | Operações rápidas e temporárias.          | Funções reutilizáveis ou complexas.       |  \n",
    "\n",
    "\n",
    "**Exemplo 1:**\n",
    "\n",
    "1. **Filtragem de Listas com `filter()`:**  \n",
    "   ```python  \n",
    "   numeros = [1, 2, 3, 4, 5]  \n",
    "   pares = list(filter(lambda x: x % 2 == 0, numeros))  \n",
    "   print(pares)  # Saída: [2, 4]  \n",
    "   ```  \n",
    "\n",
    "2. **Transformação com `map()`:**  \n",
    "   ```python  \n",
    "   quadrados = list(map(lambda x: x ** 2, [1, 2, 3]))  \n",
    "   print(quadrados)  # Saída: [1, 4, 9]  \n",
    "   ```  \n",
    "\n",
    "3. **Ordenação Personalizada com `sorted()`:**  \n",
    "   ```python  \n",
    "   tuplas = [(1, \"Z\"), (3, \"A\"), (2, \"M\")]  \n",
    "   ordenado = sorted(tuplas, key=lambda x: x[1])  # Ordena pelo segundo elemento  \n",
    "   print(ordenado)  # Saída: [(3, 'A'), (2, 'M'), (1, 'Z')]  \n",
    "   ```  \n",
    "\n",
    "---\n",
    "\n",
    "#### **Vantagens e Desvantagens**  \n",
    "| **Vantagens**              | **Desvantagens**                          |  \n",
    "|----------------------------|-------------------------------------------|  \n",
    "| - Sintaxe concisa.          | - Limitadas a uma única expressão.        |  \n",
    "| - Úteis para funções curtas.| - Podem reduzir legibilidade se abusadas. |  \n",
    "| - Integração com funções como `map()`, `filter()`. | - Não suportam instruções (e.g., `if` multi-linha). |  \n",
    "\n",
    "#### **Aplicações Comuns**  \n",
    "1. **Programação Funcional:**  \n",
    "   - Uso combinado com `map()`, `filter()`, `reduce()`.  \n",
    "   ```python  \n",
    "   from functools import reduce  \n",
    "   soma = reduce(lambda a, b: a + b, [1, 2, 3])  \n",
    "   print(soma)  # Saída: 6  \n",
    "   ```  \n",
    "\n",
    "2. **Callbacks em Interfaces Gráficas (GUI):**  \n",
    "   ```python  \n",
    "   # Exemplo simulado com tkinter:  \n",
    "   botao = Button(janela, text=\"Clique\", command=lambda: print(\"Ação executada!\"))  \n",
    "   ```  \n",
    "\n",
    "3. **Dicionários com Chaves Dinâmicas:**  \n",
    "   ```python  \n",
    "   chave_personalizada = lambda x: x % 3  \n",
    "   dicionario = {chave_personalizada(n): n for n in [1, 2, 3, 4]}  \n",
    "   print(dicionario)  # Saída: {1: 1, 2: 2, 0: 3, 1: 4}  \n",
    "   ```  "
   ]
  },
  {
   "cell_type": "markdown",
   "metadata": {
    "id": "P4BNLqxH29TD"
   },
   "source": [
    "**Exercício 8:** Verificação de Semigrupo com Adição Modular\n",
    "**Objetivo:**  \n",
    "Implemente uma função que verifique se a operação de **adição módulo \\( n \\)** (i.e., \\( a \\oplus b = (a + b) \\% n \\)) forma um semigrupo para o conjunto \\( \\{0, 1, ..., n-1\\} \\). A função deve testar:  \n",
    "1. **Fecho:** Todos os resultados da operação pertencem ao conjunto.  \n",
    "2. **Associatividade:** \\( (a \\oplus b) \\oplus c = a \\oplus (b \\oplus c) \\).  \n",
    "\n",
    "**Teste:**  \n",
    "```python  \n",
    "print(verifica_semigrupo(3))  # Deve retornar True  \n",
    "```"
   ]
  },
  {
   "cell_type": "markdown",
   "metadata": {
    "id": "5zKG2klc3G-f"
   },
   "source": [
    "**Exercício 9:** Associatividade na Concatenação de Strings \n",
    "**Objetivo:**  \n",
    "Verifique programaticamente que a operação de concatenação de strings é associativa. Use três strings de exemplo e compare:  \n",
    "\n",
    "$$\n",
    "(s_1 + s_2) + s_3 \\quad \\text{vs} \\quad s_1 + (s_2 + s_3). \n",
    "$$  \n",
    "\n",
    "**Teste:**  \n",
    "```python  \n",
    "s1 = \"Olá\"  \n",
    "s2 = \", \"  \n",
    "s3 = \"Mundo!\"  \n",
    "print(testa_associatividade(s1, s2, s3))  # Deve retornar True  \n",
    "```\n"
   ]
  },
  {
   "cell_type": "markdown",
   "metadata": {
    "id": "p3Dizeho3MNr"
   },
   "source": [
    "**Exercício 10:**  Monóide de Matrizes Booleanas com Multiplicação\n",
    "**Objetivo:**  \n",
    "Implemente a multiplicação de matrizes booleanas (usando `AND` e `OR` no lugar de multiplicação e adição) e verifique se a matriz identidade atua como **elemento neutro**.  \n",
    "\n",
    "**Tarefas:**  \n",
    "1. Defina a função `multiplica_matriz_bool(A, B)` para multiplicar duas matrizes booleanas.  \n",
    "2. Crie a matriz identidade booleana.  \n",
    "3. Teste se $ A \\times I = A $, onde $ I$ é a matriz identidade.  \n",
    "\n",
    "**Teste:**  \n",
    "```python  \n",
    "A = [[True, False], [False, True]]  \n",
    "print(resultado == A)  # Deve retornar True  \n",
    "```\n"
   ]
  },
  {
   "cell_type": "markdown",
   "metadata": {
    "id": "9neD7VFz3Cc8"
   },
   "source": [
    "## Referências:\n",
    "\n",
    "1. **\"Algebraic Structures in Computer Science\"**  \n",
    "   **Autor:** Roland Backhouse  \n",
    "   **Descrição:** Explora como as estruturas algébricas, como grupos, anéis e corpos, desempenham um papel central em diferentes áreas da ciência da computação, incluindo teoria da computação, criptografia e otimização. O livro também aborda a importância da álgebra abstrata na modelagem de algoritmos e linguagens de programação.  \n",
    "   **Tópicos-chave:** Estruturas algébricas, teoria da computação, modelagem matemática, criptografia.  \n",
    "\n",
    "2. **\"Functional Programming in Python\"**  \n",
    "   **Autor:** David Mertz  \n",
    "   **Descrição:** Este livro apresenta os princípios da programação funcional usando Python, com uma abordagem prática que destaca conceitos como imutabilidade, funções de ordem superior, recursão e cálculo lambda. O autor explica como a programação funcional se relaciona com estruturas algébricas e sua importância em linguagens modernas de programação.  \n",
    "   **Tópicos-chave:** Programação funcional, Python, cálculo lambda, imutabilidade.  \n",
    "\n",
    "3. **\"Category Theory for Programmers\"**  \n",
    "   **Autor:** Bartosz Milewski  \n",
    "   **Descrição:** Uma introdução acessível à teoria das categorias e sua aplicação em ciência da computação e programação funcional. O livro apresenta conceitos fundamentais como funtores, monoides e adjunções, demonstrando como essas ideias são aplicáveis ao design de linguagens de programação. Embora não seja centrado em Python, os conceitos apresentados são essenciais para compreender linguagens funcionais.  \n",
    "   **Tópicos-chave:** Teoria das categorias, programação funcional, linguagens de programação, estruturas algébricas.  \n"
   ]
  },
  {
   "cell_type": "markdown",
   "metadata": {
    "id": "2Gc00esEdYJI"
   },
   "source": [
    "# Linguagens e Gramáticas\n",
    "\n",
    "[Abrir no Colab este ficheiro para o poder executar](https://colab.research.google.com/github/melroleandro-solidreturn/Matematica-Discreta-para-Hackers/blob/main/Chapter7_Estruturas_Algebricas.ipynb)"
   ]
  },
  {
   "cell_type": "markdown",
   "metadata": {
    "id": "2Gc00esEdYJI"
   },
   "source": [
    "Neste capítulo, introduzimos o estudo das linguagens formais e das gramáticas, com especial enfoque nas linguagens regulares, expressões regulares e gramáticas regulares. Estas ferramentas constituintes dos fundamentos teóricos permitem a descrição precisa de conjuntos de cadeias de símbolos, definindo regras e padrões de formação que são essenciais para a modelação e análise de linguagens. As linguagens regulares, caracterizadas pela sua simplicidade e pela possibilidade de serem representadas através de autómatos finitos, formam a base para uma compreensão rigorosa do comportamento de sistemas de processamento de informação.\n",
    "\n",
    "Esta abordagem é crucial para sustentar o capítulo seguintr, pois estabelece os conceitos fundamentais que permitem a transição entre a teoria das linguagens formais e a implementação prática dos autómatos. Ao explorar expressões regulares e gramáticas regulares, os leitores poderão apreciar como estes mecanismos oferecem uma forma sistemática de definir, reconhecer e manipular padrões, contribuindo para o desenvolvimento de algoritmos eficientes e para a compreensão da sintaxe das linguagens de programação e dos sistemas computacionais."
   ]
  },
  {
   "cell_type": "markdown",
   "metadata": {
    "id": "Goxqi_D3dYJJ"
   },
   "source": [
    "**Definição 6:** Alfabeto\n",
    "Um alfabeto é um conjunto finito e não-vazio de símbolos."
   ]
  },
  {
   "cell_type": "code",
   "execution_count": null,
   "metadata": {
    "id": "3dDao2w1AUGX"
   },
   "outputs": [],
   "source": []
  },
  {
   "cell_type": "markdown",
   "metadata": {
    "id": "7FLKCLZWdYJJ"
   },
   "source": [
    "Em geral usamos a letra grega $\\Sigma$ para designar um alfabeto. Por exemplo consideramos $\\Sigma=\\{0,1\\}$ como sendo o alfabeto binário."
   ]
  },
  {
   "cell_type": "markdown",
   "metadata": {
    "id": "LFEsQvZXdYJJ"
   },
   "source": [
    "**Definição 7:** Palavra\n",
    "Uma palavra sobre um **alfabeto** $\\Sigma$ é uma sequência finita de símbolos de $\\Sigma$. O comprimento de uma palavra $w$ em $\\Sigma$ é o número de ocorrências de símbolos em $w$, denotado por $|w|$. Em particular a **palavra vazia**, denotada de $\\lambda$ (lambda), é a palavra com zero ocorrências de símbolos."
   ]
  },
  {
   "cell_type": "markdown",
   "metadata": {
    "id": "DUxM6RrtdYJJ"
   },
   "source": [
    "Por exemplo, **11011011** é uma palavra, de comprimento 8, sobre o alfabeto binário $\\Sigma=\\{0,1\\}$ e da mesma forma **python** é uma palavra, de comprimento 6, no alfabeto $\\Sigma=\\{h,n,o,p,t,y\\}$.\n",
    "\n",
    "O conjunto das palavras de comprimento $k$ sobre $\\Sigma$ é dado por\n",
    "\n",
    "$$\n",
    "\\Sigma^k=\\{a_1\\ldots a_k:\\;a_i\\in\\Sigma,\\text{ para }i=1,\\ldots,n\\}\n",
    "$$\n",
    "\n",
    "Em particular $\\Sigma^0=\\{\\lambda\\}$. Por exemplo, se tomarmos $\\Sigma=\\{0,1\\}$, tem-se $\\Sigma^0=\\{\\lambda\\}$, $\\Sigma^1=\\{0,1\\}$,$\\Sigma^2=\\{00,10,01,11\\}$,\n",
    "$\\Sigma^3=\\{000,010,001,011,100,110,101,111\\}$, $\\ldots$\n",
    "\n",
    "Como uma palavra não tem comprimento fixo, o conjunto das palavras sobre $\\Sigma$, denotado por $\\Sigma^\\ast$, é o conjunto definido por:\n",
    "\n",
    "$$\n",
    "\\Sigma^\\ast=\\bigcup_{k=0}^{\\infty}\\Sigma^k=\\Sigma^0\\cup\\Sigma^1\\cup\\Sigma^2\\cup\\ldots\n",
    "$$\n",
    "\n",
    "Em geral recorremos à notação $w^k$, para $k\\in \\mathbb{N}$ e $w\\in \\Sigma^\\ast$, para designar a palavra\n",
    "\n",
    "$$\n",
    "w^k=\\underbrace{ww\\ldots w}_{k \\text{ vezes}}\n",
    "$$\n",
    "\n",
    "Por exemplo, $0^3=000$ e $(10)^3=101010$. Onde se assume que $w^0=\\lambda$, por exemplo, $(101)^0=\\lambda$."
   ]
  },
  {
   "cell_type": "markdown",
   "metadata": {
    "id": "2oGJuy3d8nPs"
   },
   "source": [
    "**Exemplo 7:**\n",
    "\n",
    "Implementação em Python que gera todas as palavras de comprimento $n$ sobre um alfabeto $ \\Sigma $, seguindo a definição matemática apresentada:"
   ]
  },
  {
   "cell_type": "code",
   "execution_count": 10,
   "metadata": {
    "colab": {
     "base_uri": "https://localhost:8080/"
    },
    "executionInfo": {
     "elapsed": 16,
     "status": "ok",
     "timestamp": 1743605009866,
     "user": {
      "displayName": "Carlos Leandro",
      "userId": "02142946371031398041"
     },
     "user_tz": -60
    },
    "id": "lBC65MG985Tk",
    "outputId": "2a76a48e-3baa-4252-fa60-bc5836fa7d3f"
   },
   "outputs": [
    {
     "name": "stdout",
     "output_type": "stream",
     "text": [
      "['0000', '0001', '0010', '0011', '0100', '0101', '0110', '0111', '1000', '1001', '1010', '1011', '1100', '1101', '1110', '1111']\n"
     ]
    }
   ],
   "source": [
    "def gerar_palavras_recursivo(alfabeto, n):\n",
    "    if n == 0:\n",
    "        return ['']\n",
    "    palavras = []\n",
    "    for letra in alfabeto:\n",
    "        for palavra in gerar_palavras_recursivo(alfabeto, n-1):\n",
    "            palavras.append(letra + palavra)\n",
    "    return palavras\n",
    "\n",
    "# Exemplo:\n",
    "print(gerar_palavras_recursivo(['0', '1'], 4))"
   ]
  },
  {
   "cell_type": "markdown",
   "metadata": {
    "id": "R-Sk97ZjdYJJ"
   },
   "source": [
    "**Definição 8:** Concatenação\n",
    "\n",
    "Dadas duas palavras $w_1=a_1a_2\\ldots a_n$ e $w_2=b_1b_2\\ldots b_m$ sobre $\\Sigma$, definimos a sua concatenação $w_1\\cdot w_2$ (também representada simplesmente por $w_1w_2$) como sendo a palavra\n",
    "$\n",
    "a_1a_2\\ldots a_nb_1b_2\\ldots b_m\n",
    "$\n",
    "onde os símbolos de $w_2$ aparecem após os símbolos de $w_1$ e pela mesma ordem."
   ]
  },
  {
   "cell_type": "markdown",
   "metadata": {
    "id": "e9xkYSxzdYJJ"
   },
   "source": [
    "Para as palavras sobre o alfabeto binário $\\Sigma=\\{0,1\\}$, temos por exemplo, para $w_1=100101$ e $w_2=0001001$, que $w_1w_2=1001010001001$ e $w_2w_1=0001001100101$ (note que a operação não é comutativa). Neste caso $w_1\\lambda=100101$ e $\\lambda w_1=100101$. Genericamente para toda a palavra $w_1,w_2\\in\\Sigma^\\ast$, temos\n",
    "1. $|w_1w_2|=|w_1|+|w_2|$, e\n",
    "1. $\\lambda w=w\\lambda=\\lambda$.\n",
    "\n",
    "Neste sentido a palavra vazia é o elemento neuro para a concatenação de palavras. Garantido isto que, quando algebrizamos o conjunto das palavras com a concatenação a estrutura algébrica\n",
    "$\n",
    "(\\Sigma^\\ast,\\cdot,\\lambda),\n",
    "$\n",
    "define um monóide, já que para todo o alfabeto $\\Sigma$ e qualquer uma das suas palavras $w_1,w_2,w_3\\in \\Sigma^\\ast$, é válida a associatividade:\n",
    "$\n",
    "w_1(w_2w_3)=(w_1w_2)w_3.\n",
    "$"
   ]
  },
  {
   "cell_type": "markdown",
   "metadata": {
    "id": "etyacps5dYJK"
   },
   "source": [
    "**Definição 9:** Linguagem\n",
    "\n",
    "Uma linguagem sobre um alfabeto $\\Sigma$ é um subconjunto $L$ de $\\Sigma^\\ast$.\n"
   ]
  },
  {
   "cell_type": "markdown",
   "metadata": {
    "id": "YawnUB_idYJK"
   },
   "source": [
    "Por exemplo, $L=\\{1,11,111\\}$ é uma linguagem sobre $\\{0,1\\}^\\ast$, são exemplos de linguagens no mesmo alfabeto $$\\emptyset\\text{ ou }\\{w\\in \\{0,1\\}^\\ast:\\; \\text{ que tem o mesmo número de 1's e 0's} \\}.$$"
   ]
  },
  {
   "cell_type": "markdown",
   "metadata": {
    "id": "pKd4KCqtdYJK"
   },
   "source": [
    "**Exemplo 8:**\n",
    "\n",
    "São exemplos de linguagens no alfabeto $\\Sigma=\\{a,b,c\\}$:\n",
    "1. $\\emptyset$ o conjunto vazio\n",
    "1. $L_1=\\{a^n:\\;n\\geq 0\\}$\n",
    "1. $L_2=\\{a^n:\\;n> 0\\}$\n",
    "1. $L_3=\\{a,b,c\\}$\n",
    "1. $L_4=\\{aab,cab\\}$"
   ]
  },
  {
   "cell_type": "markdown",
   "metadata": {
    "id": "BgX2PYQWdYJK"
   },
   "source": [
    "**Definição 10:**\n",
    "\n",
    "Sejam $L_1$ e $L_2$ linguagens sobre o alfabeto $\\Sigma$. Definimos as seguintes operações cujo resultado são também linguagens sobre $\\Sigma$.\n",
    "1. **União**: $L_1\\cup L_2=\\{w\\in\\Sigma^\\ast:\\;w\\in L_1 \\vee w\\in L_2\\}$\n",
    "1. **Concatenação**: $L_1\\cdot L_2=\\{w_1w_2\\in\\Sigma^\\ast:\\;w_1\\in L_1 \\wedge w_2\\in L_2\\}$\n",
    "1. **Operador potência**: $L_1^k=\\{w_1w_2\\ldots w_k\\in\\Sigma^\\ast:\\;w_i\\in L_1\\}$\n",
    "1. **Operador de fecho**: $L_1^\\ast=\\{w_1w_2\\ldots w_k\\in\\Sigma^\\ast:\\;k\\geq 0 \\wedge w_i\\in L_1\\}$"
   ]
  },
  {
   "cell_type": "markdown",
   "metadata": {
    "id": "3tdO5R4HdYJK"
   },
   "source": [
    "Note que, $L_1^\\ast$ é o conjunto de todas as palavras que podem ser obtidas concatenando palavras de $L_1$, tantas vezes quanto se queira. Por $L_1^+$ denotamos o conjunto das palavras que podem ser obtidas concatenando palavras de $L_1$, excepto a palavra vazia.\n",
    "$\n",
    "L_1^+=\\{w_1w_2\\ldots w_k\\in\\Sigma^\\ast:\\;k> 0 \\wedge w_i\\in L_1\\}\n",
    "$"
   ]
  },
  {
   "cell_type": "markdown",
   "metadata": {
    "id": "FQp6T12F7z6F"
   },
   "source": []
  },
  {
   "cell_type": "markdown",
   "metadata": {
    "id": "ZXi8PHy9dYJK"
   },
   "source": [
    "Por exemplo, para $L_1=\\{10,11\\}$ e $L_2=\\{0,111\\}$,tem-se:\n",
    "\n",
    "1. $L_1\\cup L_2=\\{0,10,11,111\\}$\n",
    "1. $L_1\\cdot L_2=\\{100,10111,110,11111\\}$\n",
    "1. $L_1^0=\\{\\lambda\\}$\n",
    "1. $L_1^1=\\{10,11\\}$\n",
    "1. $L_1^2=\\{1010,1011,1110,1111\\}$\n",
    "1. $L_1^\\ast=\\{\\lambda,10,11,1011,1110,1111,101010,101011,\\ldots\\}$\n",
    "1. $L_1^+=\\{10,11,1011,1110,1111,101010,101011,\\ldots\\}$\n",
    "\n",
    "(concatenando zero palavras de $L_1$, obtém-se a palavra vazia. Concatenando uma palavra de $L_1$, obtém-se as palavras 10 e 11. Concatenando-se duas palavras de  $L_1$, obtém-se 1010, 1011, 1110 e 1111. Concatenando três palavras de $L_1$, obtém-se $\\ldots$)."
   ]
  },
  {
   "cell_type": "markdown",
   "metadata": {
    "id": "VFTLC3ShdYJK"
   },
   "source": [
    "Se o conjunto $\\Sigma$ estiver parcialmente ordenado, pode definir-se a ordem lexicográfica em $\\Sigma^\\ast$ como sendo a mesma que é utilizada num dicionário, excepto que palavras mais curtas precedem palavras mais longas. Por exemplo, para a ordem usual $0\\leq 1$ em $\\{0,1\\}$, é dada por:\n",
    "$\n",
    "\\lambda\\leq0\\leq1\\leq00\\leq01\\leq10\\leq11\\leq000\\leq\\cdots\n",
    "$\n",
    "Formalmente diz-se que $u\\leq v$, para $u,v\\in \\Sigma^\\ast$, se:\n",
    "1. $|u|<|v|$, ou\n",
    "1. se $|u|=|v|$, então existe $k$ tal que $u_i=v_i$, para $i=1,\\ldots,k-1$ e $u_k<v_k$."
   ]
  },
  {
   "cell_type": "markdown",
   "metadata": {
    "id": "QGeeDdQYdYJR"
   },
   "source": [
    "## Expressões regulares\n",
    "\n",
    "As expressões regulares são uma forma de caracterizar a sintaxe de linguagens.\n",
    "Com base num alfabeto, definimos indutivamente o que se entende por uma expressão regular."
   ]
  },
  {
   "cell_type": "markdown",
   "metadata": {
    "id": "RS7elUSzdYJR"
   },
   "source": [
    "**Definição 11:** Expressão regular\n",
    "\n",
    "Uma expressão regular sobre um alfabeto $\\Sigma$ é uma expressão à qual associamos uma linguagem sobre $\\Sigma$. Uma expressão regular pode somente ser obtida pelas seguintes regras:\n",
    "1. Se $a\\in \\Sigma$, então $a$ é uma expressão regular associada à linguagem $\\{a\\}$,\n",
    "1. $\\lambda$ e $\\emptyset$ são expressões regulares associadas às linguagens $\\{\\lambda\\}$ e $\\emptyset$, respectivamente,\n",
    "1. Se $r_1$ e $r_2$ são expressões regulares associadas a linguagens $L_1$ e $L_2$, respectivamente, então também são expressões regulares,\n",
    "    - $(r_1|r_2)$ associada à linguagem $L_1\\cup L_2$,\n",
    "    - $(r_1\\cdot r_2)$ associada à linguagem $L_1\\cdot L_2$,\n",
    "    - $(r_1^\\ast)$ associada à linguagem $L_1^*$, e\n",
    "    - $(r_1^+)$ associada à linguagem $L_1^+$.\n",
    "1. Nada mais é uma expressão regular."
   ]
  },
  {
   "cell_type": "markdown",
   "metadata": {
    "id": "rGJTPwLrdYJR"
   },
   "source": [
    "Para simplificar a notação, vamos utilizar as seguintes convenções quando escrevemos uma expressão regular:\n",
    "1. sempre que estamos a concatenar duas expressões regulares, omitimos o símbolo $\\cdot$;\n",
    "1. os operadores de fecho ($^*$ e $^+$) tem precedência sobre os restantes operadores;\n",
    "1. o operador de concatenação tem precedência sobre o operador de união.\n",
    "\n",
    "Utilizando estas precedências, podemos eliminar muitos dos parêntesis. Por exemplo, para $\\Sigma=\\{0,1\\}$, a expressão:\n",
    "$\n",
    "001^\\ast0|01\n",
    "$\n",
    "corresponde à expressão regular\n",
    "$\n",
    "((0\\cdot0\\cdot(1^\\ast)\\cdot0)|(0\\cdot1))\n",
    "$\n",
    "são exemplo de palavras associadas a esta expressão regular por exemplo,\n",
    "$\n",
    "01,000,0010\\text{ e }00110.\n",
    "$\n",
    "A linguagem associada a $001^\\ast0|01$ é dada por\n",
    "$\n",
    "\\{w\\in\\{0,1\\}^\\ast:\\;w=01\\vee w=001^k0\\text{ para algum }k\\in \\mathbb{N}\\}.\n",
    "$\n"
   ]
  },
  {
   "cell_type": "markdown",
   "metadata": {
    "id": "t4-kLXbhdYJS"
   },
   "source": [
    "**Definição 12:**  Linguagens Regulares\n",
    "\n",
    "As linguagens associadas a expressões regulares dizem-se linguagens regulares."
   ]
  },
  {
   "cell_type": "markdown",
   "metadata": {
    "id": "LDHdtd26dYJS"
   },
   "source": [
    "**Exemplo 9:**\n",
    "\n",
    "São exemplos de linguagens regulares no alfabeto $\\Sigma=\\{a,b,c\\}$:\n",
    "1. $L_1=\\{a^n:\\;n\\geq 0\\}$ associada à expressão regular $a^\\ast$;\n",
    "1. $L_2=\\{a^n:\\;n> 0\\}$ associada à expressão regular $a^+$;\n",
    "1. $L_3=\\{a,b,c\\}$ associada à expressão regular $a|b|c$;\n",
    "1. $L_4=\\{aab,cab\\}$ associada à expressão regular $aab|cab$;\n",
    "1. $L_5=\\{a^nb^mc^p:\\;n> 0,m\\geq 0,p> 0,\\}$ associada à expressão regular $a^+b^\\ast c^+$;\n",
    "1. $L_6=\\{ab^mac^pa:\\;n> 0,m\\geq 0,p> 0,\\}$ associada à expressão regular $ab^\\ast a c^+a$;"
   ]
  },
  {
   "cell_type": "markdown",
   "metadata": {
    "id": "sJ6CEGbUdYJS"
   },
   "source": [
    "**Exercício 11:**\n",
    "Determine exemplos de palavras que satisfazem a expressão regular:\n",
    "$\n",
    "(a|b|c)^+d^\\ast(a|c)(a|d)(a|b)\n",
    "$\n"
   ]
  },
  {
   "cell_type": "code",
   "execution_count": 11,
   "metadata": {
    "executionInfo": {
     "elapsed": 5,
     "status": "ok",
     "timestamp": 1743606145722,
     "user": {
      "displayName": "Carlos Leandro",
      "userId": "02142946371031398041"
     },
     "user_tz": -60
    },
    "id": "EdgM0HizA_VJ"
   },
   "outputs": [],
   "source": [
    "import re\n",
    "\n",
    "def verifica_palavra(s):\n",
    "    \"\"\"\n",
    "    Verifica se a string `s` satisfaz o padrão (a|b|c)^+d^*(a|c)(a|d)(a|b).\n",
    "\n",
    "    Padrão explicado:\n",
    "    - (a|b|c)^+: 1 ou mais ocorrências de 'a', 'b' ou 'c'.\n",
    "    - d^*: 0 ou mais ocorrências de 'd'.\n",
    "    - (a|c): Um 'a' ou 'c'.\n",
    "    - (a|d): Um 'a' ou 'd'.\n",
    "    - (a|b): Um 'a' ou 'b'.\n",
    "    \"\"\"\n",
    "    padrao = r'^[abc]+d*[ac][ad][ab]$'\n",
    "    return re.fullmatch(padrao, s) is not None"
   ]
  },
  {
   "cell_type": "code",
   "execution_count": 12,
   "metadata": {
    "colab": {
     "base_uri": "https://localhost:8080/"
    },
    "executionInfo": {
     "elapsed": 8,
     "status": "ok",
     "timestamp": 1743606146742,
     "user": {
      "displayName": "Carlos Leandro",
      "userId": "02142946371031398041"
     },
     "user_tz": -60
    },
    "id": "MhYhIiNgBlTi",
    "outputId": "688d9419-575f-4a29-a7bd-fd607b8642bc"
   },
   "outputs": [
    {
     "name": "stdout",
     "output_type": "stream",
     "text": [
      "True\n",
      "False\n",
      "True\n",
      "False\n",
      "False\n",
      "False\n"
     ]
    }
   ],
   "source": [
    "# Casos válidos:\n",
    "print(verifica_palavra(\"aacdaab\"))  # True (aac + d + aab)\n",
    "print(verifica_palavra(\"abddac\"))   # True (ab + dd + ac)\n",
    "print(verifica_palavra(\"caaa\"))     # True (c + aaa)\n",
    "\n",
    "# Casos inválidos:\n",
    "print(verifica_palavra(\"ddaab\"))    # False (começa com 'd')\n",
    "print(verifica_palavra(\"abc\"))      # False (comprimento 3 < 4)\n",
    "print(verifica_palavra(\"aacdxb\"))   # False ('x' inválido na penúltima posição)"
   ]
  },
  {
   "cell_type": "markdown",
   "metadata": {
    "id": "Q5abrkBfBpgW"
   },
   "source": [
    "**Explicação do Padrão** no Regex\n",
    "- `^[abc]+`: Começa com 1 ou mais caracteres `a`, `b` ou `c`.\n",
    "- `d*`: Seguido por 0 ou mais `d`.\n",
    "- `[ac]`: Após os `d`s, um `a` ou `c`.\n",
    "- `[ad]`: Em seguida, um `a` ou `d`.\n",
    "- `[ab]$`: Termina com um `a` ou `b`.\n"
   ]
  },
  {
   "cell_type": "markdown",
   "metadata": {
    "id": "-NyYTt0kHMDa"
   },
   "source": [
    "O módulo re em Python fornece suporte para expressões regulares, permitindo a busca, correspondência e manipulação de padrões em strings. Expressões regulares são sequências de caracteres que formam um padrão de pesquisa, utilizadas para identificar ou substituir substrings em textos\n",
    "\n",
    "Para utilizar o módulo `re`, é necessário importá-lo:\n",
    "\n",
    "\n",
    "```python\n",
    "import re\n",
    "```\n",
    "\n",
    "\n",
    "As funções mais comuns do módulo `re` incluem:\n",
    "\n",
    "- `re.search(pattern, string)`:\n",
    "  - Procura pelo padrão em qualquer posição da string e retorna um objeto `Match` se encontrar uma correspondência; caso contrário, retorna `None`.\n",
    "  - Exemplo:\n",
    "    ```python\n",
    "    import re\n",
    "\n",
    "    texto = \"O céu é azul\"\n",
    "    resultado = re.search(r\"céu\", texto)\n",
    "    if resultado:\n",
    "        print(\"Padrão encontrado!\")\n",
    "    else:\n",
    "        print(\"Padrão não encontrado.\")\n",
    "    ```\n",
    "    Saída:\n",
    "    ```\n",
    "    Padrão encontrado!\n",
    "    ```\n",
    "\n",
    "- `re.match(pattern, string)`:\n",
    "  - Verifica se o padrão corresponde ao início da string. Retorna um objeto `Match` se houver correspondência no início; caso contrário, retorna `None`.\n",
    "  - Exemplo:\n",
    "    ```python\n",
    "    import re\n",
    "\n",
    "    texto = \"O céu é azul\"\n",
    "    resultado = re.match(r\"O céu\", texto)\n",
    "    if resultado:\n",
    "        print(\"Correspondência no início da string!\")\n",
    "    else:\n",
    "        print(\"Sem correspondência no início.\")\n",
    "    ```\n",
    "    Saída:\n",
    "    ```\n",
    "    Correspondência no início da string!\n",
    "    ```\n",
    "\n",
    "- `re.findall(pattern, string)`:\n",
    "  - Retorna uma lista com todas as ocorrências não sobrepostas do padrão na string.\n",
    "  - Exemplo:\n",
    "    ```python\n",
    "    import re\n",
    "\n",
    "    texto = \"O céu é azul e o mar é azul\"\n",
    "    resultados = re.findall(r\"azul\", texto)\n",
    "    print(resultados)\n",
    "    ```\n",
    "    Saída:\n",
    "    ```\n",
    "    ['azul', 'azul']\n",
    "    ```\n",
    "\n",
    "- `re.sub(pattern, repl, string)`:\n",
    "  - Substitui todas as ocorrências do padrão na string por `repl`.\n",
    "  - Exemplo:\n",
    "    ```python\n",
    "    import re\n",
    "\n",
    "    texto = \"O céu é azul\"\n",
    "    novo_texto = re.sub(r\"azul\", \"cinza\", texto)\n",
    "    print(novo_texto)\n",
    "    ```\n",
    "    Saída:\n",
    "    ```\n",
    "    O céu é cinza\n",
    "    ```\n",
    "\n",
    "Ao trabalhar com expressões regulares em Python, é comum utilizar strings brutas (prefixadas com `r`) para evitar que caracteres de escape sejam processados pelo interpretador de Python, garantindo que a expressão seja interpretada corretamente."
   ]
  },
  {
   "cell_type": "markdown",
   "metadata": {
    "id": "kk7Sx7HgHjUf"
   },
   "source": [
    "A função `re.fullmatch(padrão, string, flags=0)` do módulo `re` em Python verifica se toda a string corresponde exatamente ao padrão especificado. Se houver uma correspondência completa, a função retorna um objeto `Match`; caso contrário, retorna `None`.\n",
    "\n",
    "**Sintaxe:**\n",
    "```python\n",
    "import re\n",
    "resultado = re.fullmatch(padrão, string, flags=0)\n",
    "```\n",
    "\n",
    "**Parâmetros:**\n",
    "- `padrão`: Expressão regular que define o padrão a ser correspondido. `string`: A string que será comparada com o padrão.\n",
    "- `flags` (opcional): Sinalizadores que modificam o comportamento da correspondência (por exemplo, `re.IGNORECASE` para correspondência sem distinção entre maiúsculas e minúsculas).\n",
    "\n",
    "**Exemplo:**\n",
    "```python\n",
    "import re\n",
    "\n",
    "texto = \"Python3\"\n",
    "padrao = r\"\\w+\\d\"\n",
    "resultado = re.fullmatch(padrao, texto)\n",
    "\n",
    "if resultado:\n",
    "    print(\"Correspondência completa!\")\n",
    "else:\n",
    "    print(\"Sem correspondência completa.\")\n",
    "```\n",
    "*Saída:*\n",
    "```\n",
    "Correspondência completa!\n",
    "```\n",
    "\n",
    "**Diferença entre `re.fullmatch()`, `re.match()` e `re.search()`:**\n",
    "- `re.match()`: Verifica se o início da string corresponde ao padrão.\n",
    "- `re.search()`: Procura o padrão em qualquer posição da string.\n",
    "- `re.fullmatch()`: Verifica se toda a string corresponde exatamente ao padrão.\n",
    "\n",
    "**Exemplo comparativo:**\n",
    "```python\n",
    "import re\n",
    "\n",
    "texto = \"Python3\"\n",
    "\n",
    "# Usando re.match()\n",
    "resultado_match = re.match(r\"\\w+\", texto)\n",
    "print(resultado_match)  # Correspondência no início: 'Python3'\n",
    "\n",
    "# Usando re.search()\n",
    "resultado_search = re.search(r\"\\d\", texto)\n",
    "print(resultado_search)  # Correspondência em qualquer posição: '3'\n",
    "\n",
    "# Usando re.fullmatch()\n",
    "resultado_fullmatch = re.fullmatch(r\"\\w+\\d\", texto)\n",
    "print(resultado_fullmatch)  # Correspondência completa: 'Python3'\n",
    "```"
   ]
  },
  {
   "cell_type": "code",
   "execution_count": null,
   "metadata": {
    "id": "zwPUEDDwBxMb"
   },
   "outputs": [],
   "source": []
  },
  {
   "cell_type": "markdown",
   "metadata": {
    "id": "PrTEBxT2A3nf"
   },
   "source": []
  },
  {
   "cell_type": "markdown",
   "metadata": {
    "id": "TLGnq-GbdYJT"
   },
   "source": [
    "Notemos que nem todas as linguagens podem ser descritas por expressões regulares. Exemplo disso são as linguagens\n",
    "1. $L=\\{0^k1^k:\\;k\\geq 0\\}$, ou\n",
    "1. $L=\\{0^k1^k0^k:\\;k\\geq 0\\}$.\n",
    "\n",
    "Nestes casos, a igualdade entre sequências de 0's e 1's, inviabiliza a sua representação através de uma expressão regular."
   ]
  },
  {
   "cell_type": "markdown",
   "metadata": {
    "id": "7dPvKL4RdYJT"
   },
   "source": [
    "**Exercício 12:**\n",
    "\n",
    "Para cada uma das seguintes expressões regulares, indique duas palavras que pertençam à linguagem que lhe está associada e duas palavras que não pertençam a esta linguagem. O alfabeto é $\\Sigma=\\{a,b\\}$.\n",
    "1. $a^\\ast b^\\ast$\n",
    "1. $a^+ b^\\ast a^\\ast$\n",
    "1. $a(ba)^\\ast b$\n",
    "1. $a(ba)^+ b^+$\n",
    "1. $a^\\ast|b^\\ast$\n",
    "1. $(aaa)^\\ast$\n",
    "1. $(a|b)^\\ast a(a|b)^\\ast b$\n",
    "1. $aba|bab$\n",
    "1. $(\\lambda|a)b$\n",
    "1. $(\\lambda|a)b^+$\n",
    "1. $(a|ba|bb)(a|b)^\\ast$"
   ]
  },
  {
   "cell_type": "markdown",
   "metadata": {
    "id": "Y11VA8IgdYJT"
   },
   "source": [
    "**Exercício 13:**\n",
    "\n",
    "Apresente um exemplo de uma palavra. de comprimento mínimo, pertencente a cada uma das linguagens associadas às expressões regulares do exercício anterior."
   ]
  },
  {
   "cell_type": "markdown",
   "metadata": {
    "id": "5vot3rf-dYJT"
   },
   "source": [
    "Sejam $r_1$, $r_2$ e $r_3$ expressões regulares. Então é válido afirmar:\n",
    "1. $(r_1|r_2)|r_3=r_1|(r_2|r_3)$, a operação $|$ é associativa,\n",
    "1. $r_1|r_2 = r_2|r_1$, a operação $|$ é comutativa,\n",
    "1. $r_1|r_1 = r_1$, a operação $|$ é idempotente,\n",
    "1. $(r_1\\cdot r_2)\\cdot r_3=r_1\\cdot(r_2\\cdot r_3)$, a concatenação é associativa,\n",
    "1. $r_1\\cdot \\lambda = \\lambda \\cdot r_1 = r_1$, a palavra vazia é elemento neutro para a concatenação,\n",
    "1. $r_1\\cdot(r_2|r_3)=r_1\\cdot r_2|r_1\\cdot r_3$, a concatenação é distributiva à esquerda relativamente à operação $|$,\n",
    "1. $(r_1|r_2)\\cdot r_3=r_1\\cdot r_3|r_2\\cdot r_3$, a concatenação é distributiva à direita relativamente à operação $|$,\n",
    "1. $r_1^+=r_1\\cdot r_1^\\ast=r_1^\\ast\\cdot r_1$\n",
    "1. $r_1^\\ast=\\lambda | a^+$\n",
    "1. $(r_1|\\lambda)^+=(r_1|\\lambda)^\\ast=r_1^\\ast$"
   ]
  },
  {
   "cell_type": "markdown",
   "metadata": {
    "collapsed": true,
    "id": "-V2DMAFddYJU",
    "jupyter": {
     "outputs_hidden": true
    }
   },
   "source": [
    "## Gramáticas\n",
    "\n",
    "Por gramáticas entende-se um mecanismo que permite definir indutivamene as palavras duma linguagem. As gramáticas desempenham um papel central na Ciência da Computação (CC), especialmente na definição, análise e processamento de linguagens formais e linguagens de programação. Sua relevância pode ser compreendida em três dimensões principais:  \n",
    "\n",
    "As gramáticas fornecem uma **base formal e indutiva** para definir quais sequências de símbolos (palavras) pertencem a uma linguagem. Por exemplo:  \n",
    "- **Linguagens de Programação:** Uma gramática define a sintaxe válida de um programa, como a estrutura de loops, condicionais ou expressões aritméticas.  \n",
    "- **Linguagens de Marcação:** HTML e XML são definidos por gramáticas que especificam como tags devem ser aninhadas.  \n",
    "\n",
    "As gramáticas estão intrinsecamente ligadas à **Teoria da Computação**, especialmente na classificação de linguagens pela Hierarquia de Chomsky:  \n",
    "- **Gramáticas Regulares:** Usadas em expressões regulares (e.g., reconhecimento de tokens como identificadores ou números).  \n",
    "- **Gramáticas Livres de Contexto (CFG):** Fundamentais para linguagens de programação, pois capturam estruturas aninhadas (e.g., parênteses balanceados).  \n",
    "- **Gramáticas Sensíveis ao Contexto:** Aplicadas em verificações mais complexas, como escopo de variáveis.  \n",
    "\n",
    "**Exemplo 9:**\n",
    "\n",
    "A sintaxe do Python é definida por uma CFG, enquanto a análise semântica (e.g., tipos de variáveis) requer regras mais complexas.\n",
    "\n",
    "Aqui limitamos o nosso estudo a Gramáticas Regulares."
   ]
  },
  {
   "cell_type": "markdown",
   "metadata": {
    "id": "GnvOQ-mHdYJU"
   },
   "source": [
    "**Definição 13:** Gramática\n",
    "\n",
    "Uma gramática é um tuplo\n",
    "\n",
    "$$\n",
    "G=(\\Sigma,V,P,S)\n",
    "$$\n",
    "\n",
    "onde:\n",
    "1. $\\Sigma$ é um alfabeto, cujos elementos designamos de conjunto de símbolos terminais;\n",
    "1. $V$ é um conjunto finito de símbolos não-terminais ou variáveis, diferentes de $\\Sigma$, tal que $\\Sigma\\cap V= \\emptyset$;\n",
    "1. $P$ é um conjunto finito de regras do tipo\n",
    "\n",
    "$$\n",
    "w_1\\rightarrow w_2,\n",
    "$$\n",
    "\n",
    "designadas de regras de produção, onde a primeira componente $w_1$ é uma palavra de $(\\Sigma\\cup V)^\\ast$, e a segunda componente $w_2$ é uma palavra de $(\\Sigma\\cup V)^\\ast$;\n",
    "- $S$ é um símbolo não terminal, elemento de $V$, denominado símbolo inicial."
   ]
  },
  {
   "cell_type": "markdown",
   "metadata": {
    "id": "Xf48KKMJdYJU"
   },
   "source": [
    "Os símbolos não terminais em $\\Sigma$ são aqueles que aparecem nas palavras geradas pela gramática. Os símbolos de $V$ são usados como variáveis auxiliares na geração de palavras. As produções definem as condições de geração de palavras. A aplicação de uma produção é denominada derivação. Uma regra $w_1\\rightarrow w_2$ indica que $w_1$ pode ser substituída por $w_2$ sempre que ocorre $w_1$. Enquanto houver símbolos não-terminais numa palavra, o processo de derivação deve continuar. O símbolo inicial é o símbolo usado para iniciar os processos de derivação. O processo termina quando deixar de existir símbolos não-terminais."
   ]
  },
  {
   "cell_type": "markdown",
   "metadata": {
    "id": "qmVtVh0BdYJU"
   },
   "source": [
    "Vamos usar as produções para a derivação de novas palavras à custa de palavras dadas. Assim substitui-se a parte igual ao lado esquerdo da regra pela do lado direito da mesma."
   ]
  },
  {
   "cell_type": "markdown",
   "metadata": {
    "id": "sT03LvJ9dYJU"
   },
   "source": [
    "**Exemplo 10:**\n",
    "\n",
    "Seja $G=(\\{a,b\\},\\{S,A,B\\},P,S)$ uma gramática onde o conjunto de regras de produção $P$ é dado por:\n",
    "1. $S\\rightarrow AB$\n",
    "1. $A\\rightarrow a$\n",
    "1. $B\\rightarrow b$\n",
    "\n",
    "Esta gramática permite gerar a linguagem com uma única palavra:\n",
    "\n",
    "$$\n",
    "L=\\{ab\\}\n",
    "$$\n",
    "\n",
    "que aparece associada às únicas  duas cadeias de derivações:\n",
    "\n",
    "$$\n",
    "S\\Rightarrow_{1} AB\\Rightarrow_{2} aB\\Rightarrow_{3} ab\n",
    "$$\n",
    "\n",
    "$$\n",
    "S\\Rightarrow_{1} AB\\Rightarrow_{3} Ab\\Rightarrow_{2} ab\n",
    "$$\n",
    "\n",
    "Onde por $\\Rightarrow_{1}$ denotamos a aplicação da primeira produção, por $\\Rightarrow_{2}$ e $\\Rightarrow_{3}$ referenciamos a aplicação das produções 2 e 3. Neste caso chamamos a $S$, $AB$, $Ab$ e $aB$ palavras não terminais e a $ab$ de palavra terminal."
   ]
  },
  {
   "cell_type": "markdown",
   "metadata": {
    "id": "QZC_eA7tdYJU"
   },
   "source": [
    "**Exemplo 11:**\n",
    "\n",
    "Seja $G=(\\{a,b,c\\},\\{A,B\\},P,A)$ uma gramática onde o conjunto de regras de produção $P$ é dado por:\n",
    "1. $A\\rightarrow aB$\n",
    "1. $B\\rightarrow bB$\n",
    "1. $B\\rightarrow c$\n",
    "\n",
    "Neste caso a gramática tem por símbolo inicial $A$, e é uma sequência de derivações válidas:\n",
    "\n",
    "$$\n",
    "A\\Rightarrow_{1} aB\\Rightarrow_{2} abB\\Rightarrow_{2} abbB \\Rightarrow_{3} abbc\n",
    "$$\n",
    "\n",
    "Se aplicarmos a primeira produção $n$ vezes, a segunda e uma vez a terceira, tem-se\n",
    "\n",
    "$$\n",
    "A\\Rightarrow_{1} aB\\Rightarrow_{2} abB\\Rightarrow_{2} abbB \\Rightarrow_{2}\\cdots \\Rightarrow_{2} ab^nB\\Rightarrow_{3}ab^nc\n",
    "$$\n",
    "\n",
    "Podemos assim dizer que a linguagem gerada contém todas as palavras do tipo $ab^nc$, onde $n\\geq 0$. A linguagem gerada pela gramática está assim associada à expressão regular $ab^\\ast c$."
   ]
  },
  {
   "cell_type": "markdown",
   "metadata": {
    "id": "n3Q0vOWwdYJV"
   },
   "source": [
    "**Exemplo 12:**\n",
    "\n",
    "Seja $G=(\\{a,b\\},\\{S\\},P,S)$ uma gramática onde o conjunto de regras de produção $P$ é dado por:\n",
    "1. $S\\rightarrow aSb$\n",
    "1. $S\\rightarrow ab$\n",
    "\n",
    "Assim $S$ é símbolo inicial e a única variável, $a$ e $b$ são símbolos terminais.\n",
    "\n",
    "É nosso objectivo determinar a linguagem gerada pela gramática $G$, $L(G)$.\n",
    "1. Ao aplicarmos a primeira produção $(n-1)$-vezes, seguida por uma aplicação da segunda produção tem-se\n",
    "\n",
    "$$\n",
    "S\\Rightarrow_{1} aSb\\Rightarrow_{1} aaSbb\\Rightarrow_{1} \\cdots \\Rightarrow_{1} a^{n-1}Sb^{n-1}\\Rightarrow_{1}a^nb^n.\n",
    "$$\n",
    "\n",
    "1. Reparemos agora que sempre que se faz uso da primeira produção, o número de $S$'s se mantém igual a 1. Na utilização da segunda produção o número de $S$'s decresce de uma unidade. Logo a utilização da segunda produção elimina os $S$'s da sequência. Como ambas as produções têm um único $S$ à esquerda, a ordem pela qual as produções podem ser aplicadas é $S\\rightarrow aSb$ um certo número de vezes, seguido de uma aplicação de $S\\rightarrow ab$.\n",
    "\n",
    "Logo $L(G)=\\{a^nb^n:\\;n\\geq 1\\}$.\n",
    "\n",
    "Neste exemplo, foi simples determinar as palavras que se podem derivar de $S$. Em geral pode ser difícil determinar a linguagem gerada por uma gramática dada."
   ]
  },
  {
   "cell_type": "markdown",
   "metadata": {
    "id": "slBnUJRjdYJV"
   },
   "source": [
    "**Exemplo 13:**\n",
    "\n",
    "Consideremos a gramática $G=(\\{a,b,c\\},\\{S,A,B\\},P,S)$ onde o conjunto de regras de produção $P$ é dado por:\n",
    "1. $S\\rightarrow ABc$\n",
    "1. $A\\rightarrow aB$\n",
    "1. $A\\rightarrow Bc$\n",
    "1. $B\\rightarrow aAc$\n",
    "1. $B\\rightarrow bc$\n",
    "\n",
    "A seguinte derivação em $G$\n",
    "\n",
    "$$\n",
    "S\\Rightarrow_{1} ABc\\Rightarrow_{4} AaAcc\\Rightarrow_{3} BcaAcc\\Rightarrow_{5}bccaAcc\\Rightarrow_{3}bccaBccc\\Rightarrow_{5}bccabcccc\n",
    "$$\n",
    "\n",
    "pode ser representada pela seguinte **árvore de derivação**."
   ]
  },
  {
   "cell_type": "markdown",
   "metadata": {
    "id": "XeLDS3X8_aUR"
   },
   "source": [
    "![image.png](data:image/png;base64,iVBORw0KGgoAAAANSUhEUgAAATEAAAEHCAIAAABJJOaPAAAgAElEQVR4Aey9d5QV15kv6rHfH2+t+9YYe97c997cuQOSfT1zl8dJ9nhsSTaS7LGVUbCsLEBCwfaIIBQNolECJKKQhACRJBEkQjcK5KZBSGToFplu6Kahc+4TqmrnevP7vnOKJghQo4ZWq2qd1X1ChV279m9/6be/72thvMU9EPdAZ+qBr3WmxsRtiXsg7oEwxmQ8COIe6Fw9EGOycz2PuDVxD8SYjMdA3AOdqwdiTHau5xG3Ju6BGJPxGIh7oHP1QIzJzvU84tbEPRBjMh4DcQ90rh6IMdm5nkfcmrgHYkzGYyDugc7VAzEmO9fziFsT90CMyXgMxD3QuXogxmTneh5xa+IeiDEZj4G4BzpXD8SY7FzPI25N3AMxJuMxEPdA5+qBGJOd63nErYl7IMZkPAbiHuhcPRBjsnM9j7g1cQ/EmIzHQNwDnasHYkx2rucRtybugRiT8RiIe6Bz9UCMyc71POLWxD0QY/KrOAZcdgtDF4bO4WUdvcfHzJZ9h5/wa3b7KvbYubznGJPnsrc7y7Wy6HJhaMNQuVDyKwxVGGrnrLPO2RBv3NFfnTN0YGe5i67ajhiTXfXJnuq+spi0zmnXBpMuxuSpuu0c/RZj8hx1dKe6TBaThjCZEZIkKnUYkjCEnHSxnDwvTy3G5Hnp9vN80c/EpCPFlexL2qcNaJ2Kdddz89hiTJ6bfu5cVzkWk1mLEag7DpORchv95JzrXPfS9VoTY7LrPdPT39EJmFSwKjOAjDDHHiAThppehpy0pz95vMdZ9kCMybPswC/l4VlMthGDJ8GkJa8sY9KEYYzJc/SsY0yeo47ulJex8OjA73qcnGQJGWHSEDhtLCfPzUOMMXlu+rlzXgWYREDyVJhkZPLfSK3tnLfTRVoVY7KLPMgzv42s4mocwh7aWnaoanKrIgBCm7EwLzXtQ4ERm9liaXnmXd2+PWNMtq/fvsRHEeSsc74LhTFCa4VApKUXRSSNM9YZZQJtBTl+jDHOaKekpp3tl/jmvwxNjzH5ZXhKX2gb22AyUMqXMnDOKWkBPGONMSQWjbFaW6WNkjJIp9NGGyBSQah+oc2JT3Z8D8SYPL5HuvpnEopWG5t0zjNaSCEBSO2kVEpJY7R1JpCBtlppKbUAOLWU9DMkZhyg7OAhEmOygzu4c50eDlXnjLVam2brUs4qGeiGutaP121YvnzFqlUr8levWLVq+ZHKig2bNhaXFKf9tAE4hVLCGB0D8hw8zxiT56CTO8MlsCaLQxqESaVNo7VJLYPqirpVy9e9MWXW9Okz5sx9e/bsmZOnvDbv3XeHDhu2dPmytJ/WVgrlaRuQbQmzszPcTxduQ4zJLvxwo1s7CkiWk1iB5Zqsbm2srV32/qpHBw7b9Mm2ZCLhnNLGP3yk9Lbb77zlj7ctWbrMOKstyHfa+sZJY6ySsY8n6tgOeRNjskO6tZOdtC0HALqrs8rZGiMb8petGDF87JyZefXVrUYpY3ypkg2N1a9Onjx6zPgtWwul1oH0XCis86yT1lkTy8kOfroxJju4g8//6Y8BZNaeVNZUpFoPvzx63F1/6Ldm+ZZ0IrBGWetbm06lGhd/8OGixR8Wl5RpY7WRQieUS5gw0MYqdf5vqWu3IMZk136+YWRGZvlxkZysrK/ZP/Txp664+JoFby9rbUxbeFx9Y5Npv3HDlq079xTXNyXghHVKmYR2SeMCbY3WXb7HzvMNxpg8zw/gbC7PjJu2fwmBbD1mOQAWIUfiAvA6ZfK7Oq1cdVPd/rHDh/X80S8fuOvBWTNnf7xxw/6y4rrm2pRIlldVN7WmA4FDrdXKpgPnBU4oq62J7cmzeWinPzbG5On7qNPu0RaNzASIhGEYIgQJgpy2SmlnHaHLZQhyzqRdjUofLpg3/b4rf/O//vu3e3yn+w133p7z0tiFS1aVVtWljfGVUdI65awyngqarUiEUhgVylh57dgREWOyY/u3Q89+HCbpWkcp45QtIJOUDkwdpbU21mbkpO+addAga8o3vZ971w3X/e3f/revff1vvv5//J//619+kvPs2IrWZKs2gvdV2oU2GYpUqJTRoZAdelPxyWNMfonHwGkxCQgChMgDyRwdIpora6VyygrfphKtVRW7tm9euWLJ9KlT/vPB//zVv1/2i3+7LHfNR4cSiI0IeFpxHd9Kz0plFQRudvsS910nbnqMyU78cE7XtCw02gbxj4YinbNaK2KNG+eMNpKWgEjnAmO8plYv1RqotLBCWOXLIFlfUbF59cc5g4Z+r/v3R89889O6unrnUhYhSyu1NloRA9bAPctQb3vd07U1/v2MeyDG5Bl3VefbMeu5OQYbWaBC7zRGaQ0o4uUkxB6iHSkpW9dv2n2gpDbZIozSxkirfZdKB1WNi6fPu+ifLxr71uzC+rrq0LY6K7WxQmmpjEFkROsYkx07FGJMdmz/dujZSRFlUjiLR1wti0nOBAlqq7HKYNUVS8ikMS2eXz9uwlur84vqa1NKGqmE1cIlk/6Rmg9mzvvtxVd88Mn6/YlEtbMt4PGAjSc8XwmJVSPZLea+dtDDjTHZQR17Lk6bxSTn5shIywiTZEkSMq12VjonrfWsTVrb2tJ65OFHnnv3nfzKw81aOqzQEr7zvMp9++dMmvqnvg8cqmuoCvw6rRPWCW2MkM5aY41uY0zGmOygZxxjsoM69lycNrMCGQsajybLiTCptSZYWpfBZOBc2rmkEA37S7b99JdXPfxwzsaPinTaKKGs1enW5rx5c58fOqwgvyDpCc+Ada7oGs5aXwoBvy0T0TMXORc3+dW7RozJL/UzPxr5OBGWWTWTcgQAXIzJRDJZuWHTioefePa1V2e/OzP3nRnv5C3Mm79o/qxZ0+a8PeujNQWNjY1a0XJmg3XMZaUH+9zbp2jP7gBMH4usWvHWkT0QY7Ije7fDz20cMlzBrWotp0vOJNRhzygyehhbXl4+adIrdXWV1nrOpjy/rrhk+ydbi3bvPrBhzcb35y9esXT5ex++vyBv4bbCralU0mL1hyOXLXgDhw8d7D/gL8+PGrG5cJvKLtViw5LVV0feJP6mw+/4K3CBGJNf4ocMKDryqVpNIQpNRDqT3dzevfsKCtZMnz7jmmuuKSneb7SwJnDW1zplrALpXCunQZ9T1ggioSOcqZzBy4DIo4W1Qitv4MCHR4wauWvfXuTSMkZKJOdhFdZaq2iLsxB8IYMpxuQX0o3n5ySIOmqpFCcBAIasNUop3/edc83Nrffe269bt29fe+11zkHuWaMAOCuMCaT2jQkAOSW1UU2JllY/HSilIXRDelkENZFEyyefrXniySf63ndfU2ur53ltHbCKKELsjjUmztZztoMhxuTZ9uB5PN5ilYY0QBrrrsATctAht4e+8sorX3/99bKyQ5WVVUGAMIazTisphcduWK19owOt/eKSvRdf+sulK5YrC6npdOhEaKV2WCmilQmSQUJbVVNXM/GVV6+66joWjFkfkoveIB4aL+U66wERY/Ksu/D8nYA0VbACtJbMEGBRWV5+6J577pk4ceL+/fvZsAQNh8iuFm4bTujK/IHAWFFycF/3C7svWpwHCHLCVwGl2GiljJROBNr3lS+13L+v+JUJr/Tu3fvQoUOsIYNES94kQw4ha+NVI2c7IGJMnm0PnsfjETKEJYm8cobsv4KC/PHjx7700qgBAx6uqDhCglSz4ac1EmMRgmjplgms8Q0yeoiDh0q6f6f7gtyFCjhD6MRJ+FeVVoEWwilPB74KEJw0rqK8YsCAAS+++OLu3bsjHMZuni9wGMSY/AI781yfKnJ+khkpCwu3P/nk45df/ut+/fo6x+YlqHBSSqKhh0ppIWD9IW6plVGB0r60fklZcfcLus9f8K6GGkzpPSStZdba19LTMiE95H+lSCcXUL/33nvHjx9/4MABNiMjYzK2J89+EMSYPPs+PG9n4FStQRA00Xb11Ve+/vqr1kljhXXS81JKCY75R0QC4snZQAqs9kAuVymsOHDoQPcLuuctXkQKMHK5amQUwC6+VonAQ7E7rCwxWminEG5RSv35z38ePHgwrR5xgrDOzKHz1h1d5cIxJr/ET5JNuQULFnTv3v2CCy5YvDi3qblewU0Kxrm1UgikOWcN1mDRFdIEaIuQifWMlfjoW7WndP8F3+2++L1F2gilAwuPEZaDIMziQGDXYZgOfCElBzylhMeopqbmxRdfvO2225wDJtmw1HFqkLMeUDEmz7oLz98JrHVvvDFt8OBH8/LycnNza2qqNNKW42WdFDKtVEB2JlIOwBWDoKOSKkB9Ht9aAS+rcGZvWTEwuXihMYEmTKJgCHl5hNHCaBuGCieAB4cqi2Q01pKSkkmTJt1xxx1VVVVRdOT89UcXuXKMyfP8IFn/5Gh75CmJVE1+w6s9Is0w+nXmzJk5OcNzc/MYIrSKijLLKeFCg8zlRO7hAynFAPPIye+qndUhUeVcyaGDPS4k3RUiFHwgYgOFGblqwKbDizIX8NU5/mGtPXjwYE5OzrBhw7Zv384X4jtq+z5qcExbP5PRFmPyTHqpA/dhHFJtHAxdOEmJH9N2TEceFP6yqqoqNzc3Ly/vwQcffO+99zgmweexHB75nEHCQ4cOde/ePS8v70zukyEXYdIYk06n77///tGjR+/YsYNbyM3g9+ybjYB6Jpf4iu8TY/I8DwDGUhR2Z5GSUQ3pH4/pCKjNzc1vv/129+7de/TosWHDhraAVEianFnfyOc5w3v7vJhsK/e4qc65R2irrq6OYMlv2NqMGnaGTfoq7xZj8jw//UgGop4crU7kKlYMNoZZhAFjzIgRI2655ZZm2jzPi0inTHBryzs9c0Xx82Iy4gmwYE+lUtbalpaWUaNGXXcdeHyMwEhCOucifux57u4vw+VjTJ7np9QWb4zP6G9karJC+1+MuSFDhgwbNmzHjh2RKhhJUebTMRiic57hvX1eTLIA5FZxAxhy5eXl06ZNu+aaa6qrq3lOiWRm1M4zbNJXebcYk+f56bfFT1sQMqeUx3pRUdHDDz88aNCgESNGrF+/noUnD/rob6S48kk+1119XkyyPG97aY6OOOcKCgq+9a1vHThwIFJWlcrk7+FvPlfDvpo7x5g8z889wmFkfUUqn5RSCLF79+6XX365V69eN95446ZNm5jnzdpjhApePMWikjHAUD/De/u8mIysX74iTxwMuZ07d956660zZ86srKyM1nDxPX6uJp1hy7vkbjEmz/NjjTDZ1khjk+zIkSNlZWXPPPPMgw8+yNSZyNt5HCoiD5BPGx/ecfZkBHullBCCwRaZss3NzZdeeunbb79dX18f/cq3GTPUz2S0xZg8k17qwH0i3ZUdIawWWmvr6+t/+MMfduvWbdiwYYlEIgIh72+tDYIgkpYsY9nNE+3QcZhkgPHVGf8sKrkZxphEInHLLbeMHDkyis0IIVi/7cCu7CqnjjF5np9kW5U1CusVFhb+7ne/y83NXbNmzcGDByPnagSDSLry4XxgZMJFDIQzvLfPq7tG2GPlmZ1SfHWeEbTWO3bsyMnJGTJkSHRTsT15ho8jxuQZdlT7d4vUtlO/YdqAtbagoOCJJ56YNGlSS0tLdAhfnkd/1JS2MjbCNh/CP0V7HvcmClfwbmVlZT169MjLyzsT0XrcRdteN/qJJ4UNGzY8//zzzzzzDAdLons57k0YhtFJjmvnV/NjjMkOf+6REDvONcpyI/LTKKUWL148c+bM5557bsSIEZGy2hHt47hi1ICysrILLrggLw8cvbNcbNV2RjDGbNmy5aGHHpoyZUp1dTX/xB4svjRPMRFEY2uTn3WMyY4Y88ecM8JkxAo4bnRqrVtbW7dt23bdddf95Cc/GT16tDFGCMHS45hzfUEfIicQllcqdejQoQsuuCA3N1cpXmwJgde+Sx2HdmNMZWXlJZdcMm/evAiWvu9H2vVxsGzfRbvYUTEmz8UDtdZKLHQCtZuDGUIIvjCbiEVFRd/4xjcKCwsj7TSCTUe0ry3fzRhz6NChHj16zJ8/PzJc243JiC4fqaMcEenZs+ewYcMiIRxpB7y2i5WCjrjTL+M5Y0x2+FNjbY3B1jaEGIbhf3lKhwwZ8uMf/7hXr15FRUWe57FJFoUozwYbp7gxFtQ8HVhrS0tLv/vd7y5atCiKZ7T7ulH7WTuITlhSUvLss88OHjyYeyBCLM9Q0cdTtPmr81OMyQ5/1pF6FqmsPAT/a9QOHTp0xIgRM2bMWLx4MUM0sjl5nw5qHAvhSIEsLS1l3bVtU9t3aT5zpK6zPOQvt2/fPmbMmMcee4xdPjzv8LwQ+W/bd9EudlSMyQ5/oJE3MpIhxpja2tpx48Y9/vjjmzZtipAQSZVoz3bLq1PfVYQcniZKS0svvPDCxYsX83VPfeypf43mnQhm0Tda608//fTRRx8dO3ZseXl5hMZogoh9PNy3MSZPPca+gF/bCg1r7b59+/Lz8+fOnduzZ8+SkhIGZOSHbDuUmS7zBbTghFMw9vjSke66ePFiburZIJOPZfswUtr5pvhvRUXFtddeO23atMOHDzNco78dNAGdcPed/YsYkx3+hNhkYpKN1rp///5f//rXL7roItZOtdaCNvav8PtomHZo41hSOecOHjzYvXt3ticjX1T7Lh21PMIhn8f3fSlldM6ePXuOGzeOe6btBBHt8FV+E2Oyw58+D1MWQf369XvppZcKCwv37dsXOTnb6q68ACoilHao6Ii4eMx0b25ujiRnu68bASy660g1ZV2AdyguLn788ceffvrpyKblS3f4w/gyXCDGZPYpYbBQrAIVFjPVqpDk1KnQydApFxobIl8Nam6EoQlRzopGEirAKUsFkpGGyjqjkA4uTJnQNyHX6HAaaVPV0uVLdu3ZzSUEKFmOpDNl2hD5fqKRempsOOTT4dw53HpjQ21Co0O0EBl00D7KdxVqFQodKmRNNrgbJ4yVKAaLDHU2wJ7IUxcYJ1ClB68QiSeRtccYnBZJ0kOnQ3uaiiCMurZ/+b6oiZSmCxeymzZuGvnCiGFDhzqLpdwBvbRz2qA0EJF7kD+PauspZ31nFaps0oszA2WfXFf7H2My+0QxZFCHHEnAXShdmMkk5UTo/NAFLtQ21Cg05awIQ0UpT2nMa2WMQKUNjcz+UlslrU0b16JcQlkkPBYAicWwxvhGakYqTIehGIY624LP/d/SNEH5rGjAO61DqUItnQ0IUajAjOTnyjolnCecr1E0y9rAOmSko8zoTirjWW1Q5cekpE0Jh3kHbeXazE7pEC+L+j8KIG3vBvhJH3WGoA+YTRs2jhk1CtmfnfPD0KNS0gpp3TXmCKqCYp0xNrA2hV6PMIkZsL2N6PTHxZiMHpEjkUVShOSMDh0maQhJ4fBSxklpMeJlGCrIUhKsVmtnpNVK+lTwRlmMMWVcWtqUMqiBrCBf6GxAJsthngIESli1dwNqMjnm2mDSKbQQmEQRHqNA1dFGSyuk9SESjbRBYKz1hfWVVRj0SgfGKqO05+uk77RgTCInLMofUGZJkreU2K697Q0xQwhPawnjklMHaemo2Il0RkDdgGRWUqHqApXyQ0khE5jj5CTn1Wt3Ozr3gTEms88H+ILWBgUVFeEAOVSignCQmMGdNE6qzIjHDvYoJqV0vtEJK9NOaCudxCAXwvrWadRlBWSgG5OCmz0Qp/8CMJk5Nxqjbai00yTOQqsDpwIHOWl9XwBz1pOyKUhWp5uO1LQ01iTTTX6QCgLf85INidb6lmQikVJei8OaSG1p/iAFncoVGB1CEzDuLOSks9bIZDolDAoJKRQJCsg0kMr4ymSWYtJU57SxQmlpLQpNGySqDS06Peq+7JPrav9jTGafKAaCRAbxLCZJdwXtBBVSMYNHmISJqKOxYY12gXRJ51qcaHJS1tUkDpY1tvhWOoskyKgYl9kYk2S5srGmID7bu1ETsqfGf2ASyh5bgzrtjHDWamVTyQAqrE4Wbs0fP/KxQQ/e/L9/+tPbHnr4+YmTXp8xbcrkiVNfnvBgn/uGDM3J37ip0TlKpQ4lm6cp0iRhz0nqi/a2F3JSBZ6yJm1MyhjfaGVE6IKQCkhb65NUNgAsSWdhYPlm9HzYzjEm2933X8IDSeaRPMxikjU2OCCo1hRjUjtFVYwpMzGOId3Keso2WV1jg5rmutqZ0xcMzXl1z8F6AR8FUvvDOIKaSUOK/uED5ORZGkaWXDmZ7kYRdZLuEOA2dDrtdGChtsJkBFZNqqm+ZH3BOzmP3PmPP/z50Ikz1hTt3lGyu7h404E96xfPn/fAgwPufGDw2t2lSeRvhnwnExgS05KPBWUp4Txq50Z+LqGc86zznPOU9PxE6DyrWp1JOBcgybo2BuVMjHWhtC4wzpNaUsboGJPt7Pcv6WEEF2isWZWNfZrk1sSANDaU8Go6gwTipI4Szsgl5DwLTB4x3uF1+avuuuvh3137wCfbyj3kWxXWSIhSgIJQk/ln4EOEA/EsOgzKcCSDyT8FzxRPAaGzQUglQbRCuxUqOrdaWXdo77qhf7n1Z1ff/tbKTdW+9m3a2gqnyirL9j3yyPAf/OKGEVMXNgcBfKMZh6shTEJ3JEy2v8GQt1BHAci0NWnp+0HCmZTVCauTRgck4iHZjVZSSU9KYFIZSXPY0UdCzub2t6NzHxnrrtHzsZkICLn02qTip2EPQUGeSIwLhgLbn+xV9Z1tsbKsoWL76y+Pu/iS637R8+6lH5WkoLf6VgfWKPLaApOkVyoLJxENtLPCpKHyHZH6qql0DxwkcFVZYS2K7WgNTAoVSNGi0zW71y+983e/vOH+Jz7Ysq9BOeHS1h5yurihumzo0PH/8rObHxwysclLKxT4UTBOSVWHW9YZSS7ZqMs+7xtYAgoS2LMmpaWvfa09q5LWpEWQqK+t2buneM/uPaUHSw4c2F9ZXZEKfEEWBaxKeMcyL/Rh13W8xpjMjCsa1+TGJMhxhQxeeQRRxNonozEkpROCT1onXBggUmISMrn/o+Uzx4167rLLbrrokjtnL96e9DXCDqi+2haT2oYwTaG5Qsh93oHdZn93ckyiaTq0KsCwp0gDyXZpdFK0VH6cN/eS7/zjX4aN/3j/4SZjfJs05pCzBysOFT8y+MXv/+KOYa/Obw3SGhUspYU3FK0l1xECr+YsDGCUvZTGOkcTldROWOtZlRJB8khl+ar8/DGjx7806sUZ06e++tqEFauWpYUPm9O5QGul9bGYbL8d3qYHO+PbGJOZp0J+l1NgkjBLuqYlTBI5QFjELb3Q+la2tNYVvTzyP9+bP7vfA0/967/fNmn22oRQVqec9lwbTCKQGUpNmISqdjZD62SYhE8ERm5IUk0bq6VRgQ08ndA60VR5YP6kl//17/7uxcnziirqWzCpeMZUWLF/w9r8u+5+/NKr/vLeppK09tFCKN7ELSCHM5yuZBu3eyDD/kboEW4b5bTUaSGanQvq6qrHTZgw+PEnc3PfT6fTFUcOTZgwevTYUYW7inw0HvFSC+2krZw8m45r9x2ciwNjTB7FJJUUd2DGgLOCEDm9KC5HMk1KRZKNGT8IXSIC6ZLKBA211QVL5q7MnbFz2/bH/zrmBxf/Yfj4t2sTaQ11D47DrC2EkB95T6goK0J/ZzG2iB0EoZgJ42gLXy+co+SaQm1lKlmnApNQts66+kP7Csc//dx3u33nrQUryhtaA6u0SWivoqG8aPjQIbfe8+fnXn27pDkdWAFMAoHwrlA9dWsQ1zkrzoCxoUB8SVvrW5u0tknrukA1z3h7fr/+w54ZPaW0otpYVbRt418e7Pfkk08Ulx4MEHzSFK2kgCUUaa4Yr+xpGEUuw/oB1eBstJFzgcO214gxmcVk9gGSs4cMM4cqjmxGYlAaYr0og3fGWCONDQRYL8lEKrF3176Zr48r37e9vqr22Rcm/fjSGx95ZkJtIiVBkDE2dJjjQVPLMlSIRaAtapS3fR6f7z1Agkp0il4orAxMCmclQjgWLiYw4pxWttW5mjCs27ZhTf8+A7/7dz9/482F6wt37Nq7+9Otn6z7cP5bE8c88/Sw12fN3lh8sMYonwQjiHjYoB6QjxjijfgUn6+Z0d7GhRSxlUYlrW52rk6I8tIje2/p/Z99B46at2RjEsFUUV66b+G8ucuXLmtsbUkZT6G+LdneVmtUniYaA80XmB0/0wCIMRl1/JfzDRuQ9JedPSAJMCbZ7Yi52lolwYxBqE8FxgbS+YFNFR8oXbG0YEneO+nWaj+VGjtu6s9+df39g3Pq0p5vlQDljSMfHN6DxsrMUfXFYDJD0I3YuVAMMXClJkyCreoS1tYaXbd08eKbf9/n0h/d9fb8vPwNGz/esHHtsmXvTnplUO+7x704ev32ojqtqozwnBbkZCbdGpQ2DrQQE7D9nAHtnAfugjbSs7rZ6sqmph15Sxb+4JdXPv7izG2ljWmUsA2sSjslwQ82JqU9aYWhmc0aJQWoeeTjydCNmRt8skEXY/JkvfIl+o7QyCLBgo4awjVKLw1MIt+hk1JD8aThbkA6UcrKpnRz3ntLJ457o6bycEtdeUt99csvT/r5pb+78Z4HDrckEpA5WoYGih/El7CQsyjHqkMjnQAlvN0bBT1B1qOXg5JmqPFgNEjlg1YKpGrrEtpUpxNHZkyZfsXFdw56aMbhmpqUURIoUYlDh2eNHdvvnt4TpkzZ11Bf60wKjHCwJWj2AAufqE3g3uCb9m7K2oTSEL5WO9Wk/YOHyj4aMnzIDy+5buxby0oTJg31w7NwxgKHxPg3UgcG9CRjtBSBh3grzAFi41Kivc9wlMWYbO9z6iTHZTGJuH4bTGbDlZAUCLqDeaJ8q33npDZBazq5+dOiEaMm9r2n/5ix4157bfQr40be8Ydb/vl7P7jqxttK6uqbjEo5E4RagQErCJMKzPAvBJNQ6IhAS96PLP0eLRIAACAASURBVCY5DAp7FbqmMUL52jQ7V19Ts//550b87KKbXn1lU1NrQjojtTO+Ma2JpgP7et/+x9/3uv6VuXNrHEhJPmIgyoI/T45leLMwDbmzmESUc0l4jZwKpE7X2uBgZeXGwU8++vtbHpq5dP1hX7fIALqJSqdbWpobWxMpD6EYTGRkhxuhVQDNHCxeqUGUzYRnTzaKYkyerFe+RN85xDkyo5mWYXFAkgWaA48c8zvRX43vrOec0EY2J9Pv5H2wcOHSHdtKSsrKy47sO1y6463Jr97w+2suvez3e6rr6rRJhNaHSAQ7j0QlMEnGpaUvz8LHQ0YWiXFjiI8OnyaFbUzIxHcERA1cPi1GV+3atfbhQQ///NKbVn7cmPQCWv8RWqVMsrGpdGef22++5LLLnpnwWrUMky5sg0k/RJDfP3tMQipjlRivZms0fmljQ9GsOW9eecsDM5asrdYIjCiTTrfWr1u9es3qj6rrGnwnfe0ZLOACs5+4x6BGQck1ipwAZPOeJKYUY/JLhL+TNZXWIhLzHOofRSSZoMaaIXw8GkxonXI2ZXRCyaQQQcG6DYs+zN+5s1R64PL4LmlU45b8Jf3v6fuDf/23DXsPlgeyyTkPlDSQUckHA4chpC7OTO6fk7XnjL4DAxRTCavZBEgKGjjwxSVYPM4gfGCcSRlRWbDm3d4P3HXF9bcXHlK+hPItQqetkMmqfVtW33TNb3935dVTZy9o1mEa+IN+SRH7wIWBDQWTacnCPKPWnbiTQt+BlAMGsUw5VR34ZQfKSoa+8MqoN+YsLFj7ydZN+QVL1q1etn7N2n17iltSXuC0pz1NM4yzQiufYUl0JdZgP0tUxpg88Ql8qb6BA4+cOhxWoI8Qi+RqDDXMSSV1Uqsmo5uUbEwn6yurKqZMn71u067GRk8Ll4YZ1qp1w95P8of0e/B73f911ZY9B9JBgwvTGNq8xESBTku+QsCJ3Zrt7SiKsPByEGlDiTmETkpC0shQA/06BC9d+jpdOWfOhD/2vvHOh/uXJLCezHc25XRCtB4qLZw2ccSNV//+icf/um3HPs84EqGwgUHKd9KEil4UuTmLsIJyNollm+AaWhVY1WRNnQvlJ5t3zPtg5YLlK9ZuWLds+eJ1+Usry8qFDxYedBJLyz7hG/JFAAoerypnkzL28bR3+HT64yJMUrQPGh/xxsnbA9KdMS7QttWaxsCrbKwv2b1r85w5s0e89Or6rfsTCQXXhDOttqmpvnj9ojmP/OH27/3j999Zun5LZW1lIAiTYNVBo2Tua4ahR0S+9nYOcfwwWRAXV8K0ZEyCL24U2EKUVUBYlw50smbkC49eedNvBozIKaxvqK6tK6ut2l1VtnH3pjnvvnHvnbc8/dhT6z/aoLTDik+4hUgKgeGg6Gywge3ZrfBHLMQ5H55r+Gt00GoUVqFIY30bBpgBdei8UKZCqYwOA2NTTnlOSJAERRtMyuzUSeT0k09tsZxs78DqJMcdi0kIMMYkM1MVXKzJMEyFYWNN9c7chW/ceUev//Z//bcf/aznK1MXlh2qMzJIOVEfVL8/b9LQu2/53fe+/w9/2/0P9z4yfNrbG0pKU6DLkLoKu49NvyxP7yzEzmdgEjakCo0I09oqrNBMujChwiB5//139Ph+96vuvWvQxEkvjnnx2bEjHvjrgOv63nxrnz/Mnzu3pryGlnNaRCDxAiYNnMY6IPZ5BpO2/S3WpDIIJ30htAT9z7mUMUlKlxJSUFVmMIlUBKGvbdJK4ZSvA1pdSdFXUmeMkbE92Umw01HNoKk2UiczbgOWCvQXKiI5+pRSflNT3cEDxTt27NhffKCuvsn3sbYIAXsjW5vrq8vLSnbvKdr+adnhyqr6xpQfsHcoE33n01Eg/uykDjP9iFSUWeqLk2ZPTwQeBGCISm6k0d7hwyU792zfX7q3or6qtq62qrb6cOWRg+WlB0sPNDc1CZ/CgJCFrFPzG3xGTMKAKpG5hfY+BAdCBnzFmUA/WkuLPanZdFXSH+BLxqUwjWFuxCHUKv5Lt0yN5KxD2PfkPp42Uef2tvncHxfzeM60z7k6DclPy6Vvoup0PMJ4B1rhZDidOY+Vkw2XM73oqffLwC+6zNFxCbWNS5NoHWiDAIPSnlRprT3oic5n0hzAQRsnleOsedGN8M3yDlHK1rYpIU/dvPjX9vVAjMkz6rdodBpjpJQMOc74yEOWccH+Bs41DBFAKWfOJSa5GSQ9QL7RWDMZpNKtBw7u27ptQ1X1YaU9pMcC3ZRC99T6qDB7W0wyCKPyHpyvlQtvnVGXxTu1twdiTJ5Rz7H04/LmnD44EpgR8CJpyT/xzjyyz+gan3+nE+VkW0w6ZziwXl5eOnLU82PGjtq5q1Abn16Bc7asrKyqqorbL2kzxrS0tOzevZszQXNS5ijZLJdO6Lgp5vN3QNc8IsbkmT5XFiY8Irl+WxAEbQEppYxkCwvMczB82+itmbd0P9BdNfJLwU+zenX+N7/5zcKirS4kVg9ISFiq0qtXr6FDh0aQ43vJy8vr0aNHQ0NDpBpwB/GvnLn8TLss3q9dPRBj8oy6jRVRpdStt97KtVNZl2McWGu3bNnSs2fP8vJyVmWjX3kon9E12rXTKTAZuWoKClZ/85vfLCrabmEIC0VLK5xzN9xwQ05ODqsAlNsRZnB9ff3KlSsvvvjiLVu28L1waZ22Knq7WhofdKY9EGPyjHrKOVdeXn733Xe/8sor+/fvZzEY2VrW2tWrV3/rW98qLS1lEPJAjwpynNE1vsidICe5kStWLB8wYMCcOXOamhqRBgQJovmv6dWrF9dp5Rkk+ltWVtatW7eCgoIIk2whZ5ylX2Q743OdpAdiTJ6kU078yjlXWFj4jW98Y/v27ZHEYEwyCAsKCrp163bw4EFWX1nxi7yvJ56wg78BJtmLM2HChMsvv5zbE6GOGxlhksEWzSZ1dXVPPvnkyJEjo5tllZWnmLgiXQc/uzDG5Bn1cFVV1Zw5c/7jP/5j3759kZBkcPJQLioquvLKK+fPn19bW8tDnH89Nz6eE+6BYyFu3759o0aNGjRoUBTeIIlnOC7aq1evnJycCK4MOWTaE8Ja27Nnz/Hjx0fOrbbVwU64XPzFF9kDMSYzvfkZhhli157nvfHGG5deemnkueGdOUoZuVtbWlouvPDC3NxcHseR76TjPD2IqnN4/4TWs+7au3fvAQMGsHiM2klLR3AAY5KlfeSd4t201ldfffXYsWOTyaRAVnRskYLwRQ7A+Fwn9ECMyaOYjGQCD0H+wTn36KOPPvTQQ1VVVfz9iX/5wJaWlqgCOYcxoz1P6PYv5gvnQo4oWmt93+fiedwYrqnVp0+fAQMGRGgkcDJtENZmJCejuSaKrFprq6urBw8ePHDgQMYkAzJ78i+m/fFZTtoDMSYz3cJygFEUCQSWdb179+7Tp89Ju4+/5GObmpp69OiRl5fHH/lYxsMpjj2bnxghHMeP7Fi++n9FGgcMGDB69OidO3e29UW1RV2EST4kMhfZyay1HjBgQJ8+ffiQCLcdJ/bPpiu60rExJjNPMxrKkauDbbBJkybl5OTk5eWd+qk755qamrp3756Xl8emF5+H/5762Hb/Gpms7EyKRBlj9Uc/+tGMGTMiREX3FYlWjoXwjfMhkUTlj0uXLn3mmWcmT57cVg+PMdnu53WGB8aYzHQUD822cf/m5ubFixf37ds3Pz//1AORj00mk/fff//LL7+8a9cuIQRbcR3q44mAZK3lACN/09jYmJub27dv35UrV3IxZv4+giVj7MYbb8zJyYm+bKsjRPBevXr1vffeu3Dhwvr6+gi9Zzi24t3a1wMxJo9iMnJOMk1n8+bNX//614uKihhdp+hfHvE8plkhZO8lOzBPjedTnPa0P0U6NmOSpZwxZsuWLV/72tcKCwsjaLFsjGIz3NSbbrrp6aefliha6yJJyKdihPNu27dv/9rXvlZQUMAfO+52Tnu/X5EdYkxmHjTjMDKljDGFhYU8snksnmJA8FHsC7nhhhuGDh3KA72jB3EUNmQJFl2usLDwb/7mb7Zu3RqFbfgntjwZulrr66+/nnk8kS3adnKJNHDuh/z8/AjSp+iK+Kez74EYk5k+ZFzxX6XUqlWr7rvvvry8vJaWltPKSYYEW27XX389k2PYC9rR9iSfP5pKlFL5+fn9+vVbsGBBU1Mj5ZLikI1USqKAHbJLaSkDa83GjRtzcnKef/55KSmpMQGXRWsUq7TWtrS05ObmPvTQQ4sXL+7Q2zn70dw1zhBj8igmo5FtjJk5c+ZFF13U1gw7xfOOdMj/kq6MyUjg8E+nOPZsfuLJgq/Ff7XWM2bMuOiiiwg8tKCZUrzxAhGqhImV2UoJVlZzcnKuv/56lpMRvCPrNBK81torrrhi/PjxLHjPps3xsaftgRiTmS6KtDtjzI4dO8aMGTNo0CAWfadlk0UIZGL3sGHDIkOOT3vax9C+HSJpxqCy1u7YseOll14aOHAgiW4kXOSlIW3fULYErAL9r/vKycnp1atXZIhGAY+2cRHWAoYOHfrCCy9s3bq1fU2NjzrzHuhamARnDIVWj26UHwNuiaNfZd+d8BWblFVVVYMHDx40aJBSmmmjGapM9lTZ44/9zwktrH3ggQeGDx9eW1vLQiy7OOPYnY/9dOZP67g9I+RHQpIjilk9HMu1GIERJin3FxZwcRNITl5HCRNwl9k248eIzYv3tDh74MCBffr0QV9ma+LwSbhVx97TZ3467hbijyf2QBfDpEV+YypWhSyIKDEnTYgcZ8hIjORzyIwjkYVbIC0qyi1jvGmNGmyMn2uvvXb06DGtrSmlkA2KqmphN040R+m422IB7zlZDNURMalUKicn5/bbb4cqiLFP9ZmPH6L0SyYVTftzLrOjOBJuzrmBAwf27t277TfHXzn7mWqqq6eHPt2r1/UAoxWUdQqHamT0oqImKIzCRRWEM3rAgP69e/e2n4FJ7hQ6PafYOenf9t/siWO3q37T9TAZMCYpM7+hMo9HMUmSEPnLDZVSBDIxHgmaGFMIGVx22WXEvcY4DYSUCthCbiYSwSfFpKGs3JS0CWOSFUKGuMYEkRFKWTjw/2jItn+YZk6UTUcycODAkSNH7t27lw3CUwQtcCByxenhOcNvvvkmY5TSgdYCRRMMMjcqTCW4IaONEopmLLN//76xY8f1u/8BF4ZCiLZWKEdBKY1WdF8nf9NVgfQF3lfXw6SkJIg0ngA31JCEnATiLPkeJeo1ORRqUhADqKhjNODY2Fj/+OOPjxw5cuvWbVpjUEqF/5kUopksN5xD7Rh8kepI1b1JxzvGSCOhfczeyGQFPTH7OitMwmOTTdtx2WWXjR07ll017PX9rIECAYvqYGZ4zvAbb7yRygpJkpO4X62tcUYDn1QeRWirFfrI6F27do968aUBAweWl5dHNidrvPioNUr7ZW+NqwdGH/nNZzUp/j7qgS6FSRr6VAgtkzzVWORM1qjT5oAZChtaY1GIR6E0o5NaocqVNqWlZa+/Pqlfv3579+6lxDPQZbPjC7orG1GRtRr1INVXx/qMaJlIW0zSIkagri0soxxWdIX2p0tl3ZWTA8yZM6d///5Lly5lqLRt3onvI5LA8OHP3HjjTVSNA05aw7WsqGwravph48KwwD6lunNbt23/2t98raioiHkIkR4PZGLnbJ+h1u0xL5K77Z+ATryLrvpNV8MkKYqGXDqUMxmwQqksSqGcyQ6qrRFKCilR6ZVKGVvr8vLyunfv3tzczL7WjGLGBifrthmcH03YGI0JlEw1wCQf9frrr/ft23fPnj30EQ2I9sy+gfMo+2o/JkNauWytLSoq6tatW35+PossTnJ5Ct2Vm2Gte/bZ52666Q/E2qGs5+gNTuPKDtujK8G0lsCcsbt27/nRj3/03nvvNTQ08OUi51AWk5n5J3uz8f/P1wNdC5MZ2DAIowmblhmGcOVQXE4qko1UM1XxoLPWLlq0qHv37o2NjTygkLhGos539DpFMYG26xhZdczNze3evXtTU1MkJ499LF8YJnkGKSws/Pu///u1a9dGUovDG8de9PhPQqghQ57u1evGSG5TNUdCZRuXj4JSgcojlDRE48xhyAT3qK/4cmQwHIXx8deLP59ZD3Q1TGrAkooKU2p90pcAGapVjLkfCWmorFWU3ts6O3PmzAcffHDDhg3MUCWBQJQX+CCxbJj8roYqWGV8H1nFFuKO7UkeoOztyMvLu+CCCxoaGig82FFyEp4aa5cuXXrrrbcuX768ubmZMZmRUyeR6JlBQUovKqsPG5Zz/fU3QEE9Si1QpFMEsKaVkkpz+TxNteUwxSBc637605/OmjWL+XcRY1YKqRV0/mg7s0EY73VMD3QtTLpQwXY0sCFRq1CT+5ALpyqNYsPID0UFfsnJg1I1Rmn1ySefvPfee1B2aSPDCb5UZSQ5TlGwigAJWGbRmHlDFZzhB6KywqT8GZObm9ujR4+mxkYI2g7TXXnoz5w580c/+lFLS0tbIXnMQz7hAzBpmDPwzPXX35jFpITrlYJCzgXGBJRQy2aKP8PohqfHQbe1c+fOHTp06MKFC9l8Zb0d79G72LhtJ1w5/uL0PdClMGldKKkGFio9OokqhxTHgN0YSuUw4KCDoZikVVQHHQXoMkRQKqSVyVxuUANWC2UkKmY5VImkirHHacWAJVUBwHUYkzwiGZPNjU1UZvIYHw89k4zuepY+Hmvt5s2bR44cOWTIkHQ6zZduSyr6rOcPC5BKuC/KXTxh/EQ6BKlfrUVxLvSQC7TyjFHs6IIpSX2G/3D6ILrTu3fv/v37M/wYmXif5U7EsPyszj/t910MkyhfJakalEWMTSHICLKAVU4qi4kfqheiIEYh2AHd1iDYjyJN7Ksgzc0YK7UVLkR8jnVdOIoypXK4KrnmcmskJ6HjchSSgVGwevV//MdvP1n3cTLRmtGfI32Or4p4JyaHk0nRo0/tmIOyH6KfrbVEEugTrbRibfa0eKD7hhKvqIifc1apwFjoERbxD+msr5VvNOxtaW1KBooDrYQ6Tc1++umhjz76aElJCV8u4+8hTLJRnW3vMf+jxsdvPqsHuhYmUZLNQ2E2i4pyIYAildMitAqFoaSWzknhbID6beDhIRgSWqGNJ5VvnQukMBbhE20Dqb0wpPAABSizPWjDULd5QU6a0AmUVSSUIxOOsUaVHiz59re7rV6dT2E7w6EUjcAoezaBSWsEikZ+9tZ2OLMsOs6bOmDAwN69+0S7sZA0uPlTbjCxpVCay79aKxzq2RkUfIYTB3VgQYKCUAz90CVROQ/6BU0jFOol+3Ps2DE9e/YkBzLmOgYncy+YJBzNEdGvp2xW/CN6oGth0lnhggCiEiMoJF4AqnSDRiCt9ZxVOpWwSgTOJrTzAsTGhUwonYLuaZ0XSPj7Q6VRARYVqTguFw160jaPwyTqmArYr4h2AhVaKRmUlR74h3/4fwsKVisNNdlYFwgJawtyE3tBTuKgEz1AR4cmj+lo3WMEOXau3Hdfv5EjXywrO8TN40gMQ4LDIUdPdOw77K8DxIS4gLQWLkgaKWBDEycRVdMzmHRBaFKhEujNo5jkYiQ1NVUlJcXW6ra0HrYthcDSk6jf2PV13IRybKPiT5ke6GKYxPRO8AjhW9XQXTHIUK88SCQqt25as3je7Ccef3LAU8PGvfHWe0uWf/jBgvc/eOett6a9PmnywoUftCYCzw+E8rUNrAuMDVB5MWNk8gAjIMGXpEhamjB0yoUBTFnUaSQVDp6jsrKDf/9//x3JSdhnKAcJuDuwwhFaIDlJ6uIpBiMrhByFYHxGjTHGLFmybNeu3dw63pPFUbTPZ50Zd2KEtMYzxpeB9RPOS9RVVDQ0NnvWpUMjQ4mq65CTVoQmDUwqqvqMkK5zRinB9Uh43QnjkK97XBtIehIdAY/kVBPQZ7X2q/Z9l8KkcyHKiMPNY8npKp1BKWAJvmY6mThUtHnFuzOn/vSnF//s8uuenTht5Zo1K1csXLUq95133hqe8/xdd/85N29FVU2dUIEyvtQp41DPG7ZnxhsJ+QJBgotIknJwqyrnfOs88NkQbCFPkm5oqHvyySeKi4vJzZtxKREytdIIGJDuChPuFGOOhR4LwLZ6ILPMNfRMKIwatEHgPBKkPH981pnpVyWs9cFtCky6WdRWLpg164MPlh5pbmlyOnBwsWYxqdOhFKjEzv2K8A9jkpebECzhso5y/xxtKluopNRSddcYk5/1TI5+39UwCb3ThQYRCxlaFCzPYjLldJVOlOzcsPbyK669/aGn1u+v8IGgOmOafK91xbI1l11x07XX31m0c692WhrPl63SoOo5YZKUTozlLCAzmISTRjmX1roxmRRMoAWLVlpIaCBWG0OyEfRuXiQClMLks3ToqTAZhsjgGuUBiFDHaTgAfzhlEKaI9mFsnAaTWHempaN4iBKyqXr/mlV3XXP1I4MGby05UOuMR2Yv5L41MlReGMhQgKjItiSV64rWSUfuMdaxWWIDn2RgE2sfhgG5wI+OvPjdZ/VAF8MkqYgQPREmIzmZdKpCNe5auWDO5Vdc13/4y/ubdasS1tU712ykt33z7j59H/8f//Nf1368ScHvH2jjJb1GKqIKS4r8/xEmRVZOApPSuRYpymtrfHJUEhudoqMW3HYppVASCh+qJQOfQskg8MmePL3fldVCxhhORQsyWBBR6N9QdBFU3sj/qZT6rOfN39PZYCv7UshEU+PubS8P+svPe3S/t+99H+3aU+VcyjlF3mVrsd7NCz3lAsxvhMlsZS4OykLUM4E2MiA55TTEe/auPV+QNX3qdsW/oge6HiahFxoQXHVI0TaSk1rblAsqgsotU1/M+f3VNw6ZMH1/Uiet9P0Kq+uc9rZs3HnjzX/54U+uWL+pSFmjrC90wkC5C4jC0lZOCrIfA9JdM5hslaqquUmwZCAfj1YCpyFZpowJBOIKTB7ipSYUCzmN7iqEYLBFphrLIoYoIdOB2SAzsjSyPE89ugFmJSggpBK1FTuW5U54+P5Lv3Nhn3v6LN2y7aAxCeeIDYzlzDoUfpjWzsP9QsJbTdXyiCUhMxoB5iyiX2ApTWYpKnxIUqbSvrZOWqzQgfc53k7XA10Mk9Y6HyE3XgwFTEr4XZ3WJu386nT55gF3/+GaXjePnbPwkLIpp7SuMaLGa6p5f+Gyn//iprv7DP501wGooM5XJmlC3zrEJ2ktNANBuTDCZEZESBemrG0VQWBgK0KBBeUFolIruIjgKQHtDJDlBWJY4ih8a06DySiZcluTMpKc5N2BdOQ3R62409FosKeSxtpAeAd2bp0//vkVr425/t9+eustt71b8FGpc63HYjIIk9qlHaK/pC2TZq6zbh4iBWO+EX5w+FD5Bx98sHDhwuUrVqzMz9+6fbtUIAcph4rtUp9GUT/dcP1K/N61MBkaGyZ1qCNMWhtIpyRcnr5J1jTsKuh1yUW33XX3myvzj4Q2CXQ1mKB6z9b1Lw4f85vf9p49b2VlbbMwSlpfu7SyadDvELugYCZQeRwmQTyQLvQc3EGMSa1korW5eO+e1atWFm7btnXr1j1792pjeXk0Rzyh3QnfIkxzKrdHWwOyoqJiE207d+7cvn375s2bjxyp9LyApwres+3fUwUeYE5C6T1y5NDHyxcvnzahcu3Svlf+rte1vSbnvn/QuhZACN5qgBDhpaSGPhtAGqI34FhGvBeLRTKEO+EHOz/d8dasN1977bXFixcvW7588tSpU96YVllT40stYZeDh/GVQNXZ3WTXwSQNTW1tK7hfEATGWWFcWrpAWKG0CJqqi/MX/uqfe/Trd+/cVas/bWw80FhRVbt7X9FH70ye+vTAZ14YM+twrZ9WTliloLWmpU6BD4SRDio6KZ+aLMkAQgMEWhuG+EeKnVagp+nGhsYNn2ycPGnqqBEjcxfOnzpl0jtzZ0OJpTUVIMiDC08GZ5Yon6GHUjIDtD2TPwjeY6N1Oh0cqah7d+H7E199/c03Zy1aNP/V117508P9V6xeU9fUDJ2QmbrWcMlXQhI6gWYS6PHwNZGrl9VneI+NTHupT9ave+/d2fU7N+sDn/a/7earrrpm5KzZ+6xrdjYg9xFEvZOB80h3DZyFd5eo73zNQMmkUSmrZEnxwYmvTP7TXwYuX5Wf8rwjFUcmTnzl0Ucf21603QcNCP4kjSUl8XaaHuhSmAQBRTY5hYg36ZuBcC2BTfraF0Y211evnj3rJ//ff7/vj398/Y1Z81aufWv5B2+9M+nhu+547r4h+e9srFSm0bkEFErtrLAqrUWKPDhEkaVwJC06QTgEUUm8EHpUzga4ZMKpBh20rl710eNPjBr42Mia+lYhWz9atXjp/NkunYLbRGOuICptQFCC+ITTFGuBtXNB6IRBXJXz4QgrEyrwDhyonjTtwz8NHrtpe7HS4vDhPeMmvvh33/2XKQtyy1ta0ySiNQiDQsi0VJgfEJggr65EmBUKPXmTDMIfJgFBaOuO1Ox/f8WS999f5lpbTU3x4Afv/O11Vw+dOn1v6FpCKaG3+8Yp4UIvDBXsQd+FHgm8UIGxqK1Lhq7G6Qo/1fD6lFl39Hvsry++0aydZ8zmTZsfGzDoP+/vV11RbNCvKamlULGcPA0gu5SPh+SkcTbplFGBE9CXfOWSwqS1ldaqqkOlk59/4aJ/+qe3J08pr6qtSHuVXktz8sgnSxa/8KcnHr3vrx/tPVQjTBLuRbhtSVXzjUFCLWk0k3cM1GOiIWQwCY9SYFRaBc4kXLJq58Z1gwc8dsc9DxfurW7xZUPDkReGDX7s4QecFDLlWUpwIBUnH9EKup8wEMsGEXknQ/hWYH1BKhvPqdbairKpU2f+74uumPrO6iO1rVb7FYf2TX7j9R9fftUHH2+s80Wr0ikthZUGIHGLgQAAIABJREFUnhRpQBUMjFGBUb7WvrEC+GE5aYzxlGp1LinT9Qtz3/lwxYramgaXanbNJUMG9b3kt5f9acSLxcCklmFgEXZV0oV+BpOBw5fIHeZLI5C/Jxm6eq2rdhZt6n3vn27r+8jSj3e2gpjn0mmvoba+vrpapBqFrNM2Qc2L5eRXCZPIr2GNkQmE1jQCYspJTNlOWB2YwNtXWNTv1vuuv+ya/KX5zel0swlSzpemqbXi4Dsvv3rX9XfcNWDo3qqmhDLKKmt8Z9IhBQCQOQoUhNDQQjALIYHRf9Tvao1vhNNJ11zx2ohn+95978gJU2p9nTTWFy17dm4q3LwuSLWCe0srmWhxsKT1FViAwoKReGjgtUOtBBlQO5sI/eotHy155JEBP7zkitWFB5s9baTYv6No2PBnb//zk1v2HkhomwLbyEhLrk2sRcbyDshJUheltQA9uY3JAvSsSSnRtHt74bCcZ3KeGzH/nXeXvjtzyZzRd9z06x/8/KJ7nnpmt3DNYNaBw2sdyokEYUhSEbfMarLUIBBrk9C6xk+Xz5s9/eprb3poYM7eIy1J61Lg0mpnnAqCRFONNk3GpakVpx+R8R5fVt2VHRvHPT8YfjKNv7SAUjiISoxYkdaJlk3563550VV/6ffk9m27k8pPmETgElo3u1T9yndm3XLNNf/yiys37C5tCaSy0ti0sylnfeLWWY14OduTcJ22wSRCcxoeEalTDa3FO/78xz/0uatP7sq1jS5MuVDplDNJq1LSp4aRj1TDOysBcxh5xMolBhKt24QmTKtbhLPNtqVk4Ywxf/zjtTff23dHZX3ahNr3NxWsvfuufs9MnLO/oi5tCDfwoMJjBDTqAHoCMl0hpAo9m9xLsCq1NNo3KtXccHjB7IUzZs3NfX/puo/WbFn73uZV0wf95dZ/+9Wvbh0wdGfStWJ1G5RWGwoVWmAysyQVcRzMKZxi0qSEqk4mSieMHdHrhluGj3y5Lm3S1nkK7mcjdaK5pbKi1NpWfId4Tex3PW7MnuRjl8IkfJhakFvQgjjmjDDCmMD6Sb+mauk7ef/0Py9+4YUZxWVVvgt816Jcs1GtsqV60awJ1135659dcfOmPWWtvgBhHa7/lNNpayStHQwNzg6F8igmeQU15ckTSsiG6tJ1q/94ec8/9Xtww6599WGYCkOlklYnyIqT8FkibQ846sYoik8iYAnByJgkGp6y8G9KGzjbaBv2THlx8FVX/vKvLz5X0tzkOZduafnwnYW/6Xnt7A+27jhQWdXQnPACbW0Q+FoLiEYVaOEZJTPri5lqy6Rdo4zyE021hZs/njPj3eKSIx44DF4oq8P07rdmjP7ddTde0/vR7bWwODWcWJ51gcKiEMYk83gccowZ0pKNJ3VDOnVkyusT7rmn77hXprZKTGMwxwNRebhy945dZaXFZMF6SiGbyknGYPzVsT3QpTAJ4UmrlqXWvjbwosBFKKzfWleyZ/qE1/6f//Hvs+auLa9PBE5o12psk5HJwwd2jMp5+LeX/2zQsDEVTV4auit5UklOQtJknK6U/xunBAGdFNdMjjzpbKCFaW3aX7Dytt9c8eTgx/dW1NQ4l8DBfhA0p9NNUvoqm0cDcXcOYPL66tDgjBa8eXiAGJMAZrNrPTBlzOM33PDrV998vay1OWXMkbKyyWNf/sXPrli7rWpJ/vqPN26trK4lt63RKtDSswqarEinODRKblIEMJVE0EIEqQP7ds6Y8uqnW3Y1t6R9rQKVdKra+fuXL5l77U13XnL1A5/s91vhcRLOEiadITnJvB5o3CFhUmiTDlJpv16pxk8+WvXII4NHjX65vLqxobWlubXpyOHDK5atXLQwr6rqiLbQ4q3VSAwWb6frga6HSQwdQ0zOAHkqbDrRoILmPdvXPz340Qv/+VcFW0rrfJN2ItDNMqgXXsukV166/Q+/e+jBu7cXH05rg5X2FN2wNmVMmhZ7UG4Czv8NdVNnMUnLmElOKouQuXeodFDv3kOeHLKtuKxGuyYllPU/3bFlw8Z1tLgJCVA5nm+MSiWSBtlrkE+EUB7Ci0uEbgGXKRy5JlG2eO7EwYPve/2tKRXJ1mbfW77kg/vvuvtXF/9m58HW6W++u7rgo+bWVniONHRXrbAWmY5GnIYo6Zk4C33QDXXVH6/Jn/TyuPraJoH7tEqntVfh9OGVyxddd9Pdv776ga0H/AQSfAhS3aV2rLtiMqK0PTZEfAiT0659u5blv+dc0ku3rFi+YvTYl18cN2HewnemTps8bfobH69b39zUCnqhTUmV0lJi5Wm8na4HvqyYPOl9EWWMll5YIUAzgQlodHrdmg+efvxPv7n0F9/53r/ljJk8ae6CtxbOnzN31ivjR/W77+7nnh26YO7MnTu2NviiyfMF8r6qxsaqffuKnBNK+qCPcVQukys5kpOMSazakmC7B7a54ZPly16bOGnspGkLVq3NXbFy3oK5S5e/v3ffLjQEyyghssjHgySyzEWwCM7DgUTWHyhDJH/J7yqbDh8sfHfetEeeGPTukvfn5i5YsGDu5FfG973nvten5749Z9HGTVvXffzJ23Pe8oMUMAlj0rcqcEoqKZmPHgTgFeAOrHl33tzfXvbre++5c+3aT2qaW3yk1fSbqw8sXfTGoP4PfP+Hv/juD3/zwsTZTYEwWOImkAPFwsdDdEWEV2i9iAitFdo2JFqqGyu0abUmaGpqPHT48MHyQzW1lZWV5RUVR5pbWpDBwRphU9oGoFfFqutJB+6xX3YdTLLXh5J2eEKn4KuHCei0Th0o3rpi6bzZb06ZNmP2so835m8rXF9UuHXr5o8KVs6ZM2v9+nVVFYelEB5CBND/lBXJVFNNzWGowDrQFK6gpUYsHjKYJNsSRqYmTFotnJdM1Nbu3LFrzYYtW/eVbNu7b3PhlpLS/S2tTQAj5Sug5Vfk46EyHfDrcAoQ3IAKnSYxhDolDsGGtB80lh/avyp/xfY9uzfv2L63eEfx/k8L8vM3bNmxb//B6praAwcPbt66keUknK7wAAuHJENYNsLLSjitidG6cPu2qZMnLV604MDBsoZUKoXk58prrdu9vWDJe/OnTpv52vR5S9dtTSJao0KLVZTahgKYJA6Tw/lDBH4Qewmsllj8nbQmS2GCixfZHMhfhQgm/E6wS6XVoC3F22l7oKthMkQKRC9QKWUCSAZkl0kb02phPXraWN9ZxPh4lQdxxEAfNUh3wcQcEOsMrWZ2QimkJoADEZmyWAkkHw/CIcyfYV2WSQoKjBcJn5BwoU+RBKjPlKwHS5ZIrNJiCoUccFiHRZxuSBBrkapEIMAYYh0mMAlXUHZdNZyxToAPAUcPSSnkuczkJoGUhXiH1mpVaFWIKnekrrKTFPiHb4mMTARUlFNpgzRYoA7CM9SiZVJq6RuXVE4QmkgqGk1LUqntYK1ikbPCwlRo8NBilUHaE0FOXQmoWiY5IfxCbXIKPjMET5AAIt5O1wNdB5OZ/P8IJRqJlRLEfIZ5qLQJhA1gocHU1J70BNyzWDJvwTcHt8UDiQ6RAx3Cz8Lxd7IbKXEH4QmXYPDAI6Mokx2kmyaGAQlScirBLkRFBFDkMow8IrZR9jvysipJZB0cDA4gBVfCQIW+CgMdUpCfGXEKkVZDqKC12nAAhWDXguxmEPygZTBHs6pH6dU5yQhKnggBa5eXO3MBBQd4p6XDD8jJB2wHSmMiU9CArbUefGO0zJPy8GQVBExcIqQsuiAZglfI2QFJ4wbpXxCtSMAOR64hYjxh+TbmR6QuirfT9UCXw6TSUmB1FYW2lQg8VAo3IrBKURxRg2qGEQM3ZcqDpwKaFsgBvOBYh0YTJuEBgX+VMQkheRwmGXQRJhEogNQEGEw2y91RTBIgIQ0R+VDCwZoEgok3CjGCSOBnYDKT1yDU5JQNSQYbpCbhCgJYHn3iC/elNJIm01SUTnuci4DWqZjApiVy+Vki7AOTFulOJFX9Q7YwinZa2IAR0ReuLwFGA2HSQE4yJjEv0NREC+MyCscxmMQ5bIzJ08GRfu+CmIQLhepBKa148SElntE+7JyUUq1SJY0BnRpJlYnhAtOItEyCEzBJHCBJ+iRjjRjdlEsSOfFI3nLG15DsSUHeV9ZusStz2egfBBS0yBDLOgEjWHuMSRq25G2F91UqiEqWkwRYShqL7HaUPIHkJAw0WiwmbUgKIcAQzQDZbJec8xLSiWr6AfGU7gCL/xGpJNNQPjXkqekzZn607uNbb72tuvqIUh4q3hGzj1MLQbbhRXp1Jt1JFpNwSpHFGSJHCFI7AKkUIsKeNJeRnNToH9L7kbk6lpOnh2WXwiRltMDEjpTdtERCgFEKyehZu7tk/5CnHmmoL1c6aQxHDgQB2JAZROuQyAbVoVL0olKyGWCRVCOhFmoFzZMY5YAEhcjbYBIKKQptQV8MWaPNCglKWKwkCGuQkxlRQmkMEPUDLAXprkTcy2qFJF1J82YDjUY8K4fEiacy1KA0cL52WlWCGYBeBC9FS/6pfB1S56W9dM5zw599/rlP1m8oOXBw9Ogxgx99pKhoqzaoa0eqA6aXDCYhwzEF0IIY5DZi/gRjUiFrJ7Jvwg1EZi0AiSwhkK+GAHkUk6dMPnT60frV2KPLYZLcJeRvhAgUxvraesYV7t4zZvz4Pz/0QEN9JbFqQM9WyndOf7jkw63btyEgB8sJ45BkBYAHTMLfiNFFzlFgUiOTDdZkUkVjSouFFLImY0CSjUhUPAhYYJJ46ywkIDOdAvbgraGwJ0EHuA+RZSODSST7wYJsyCnADi0grZKWjzAm2E1F9XeiOnykIGP9GBxIPIuQ8o0ym6RUW2erqqunTJ3a78EHNm3ZSpUEXFlZWfce3fPyFoJIyCvdcBcsbdsKSbK4KaQBhza8SZRwEpikLEg4gpVYuhpulpxOrNXTItSvBqzO6i67FCYJDsT/sgiiC4VFT752xeWHX3hp9L339qN8HJxcLhDK44qxPS//9bDhQyhnIpJO0uiHswJyLMOn4+8ovp/BJGDZFpOUGg9yCuhhwUJWK6qXAKCQICS/4LY1oSTLkMasJo4diVYSzm3kJEIRmCRIYmmA2SkS3bhRwJW3LCwZkIRxlllk2dLqY5oLyOtj7erVq7t161ZccgCRUuLfHqk4ctVVV06fPrWmupJ8QXRm5PCi6QBt5/APYI5PHGQCTx0KRZb9S+FgUhAoDyzUBFDsqSdZFaAqnmc1Xr8KB3c1TJLHHSF3FCCwOsDL3t2n74CBg0LygnKWfQQarAqML2zw68t/nTN8SIjcwjKLSRhtEhYSDz8SklbzKDVEY6FSJLgKLXWkTLLkwiCdTVosPvSw9oqsQazzymISV4YpSHlDyM8L9g6JVEXqq8avtOIZoRrGpLGhMHACKQWBTNYqRCjAEw1TlpZcioTcPhnz0lhktWMHj1Jq2bJl3/72tw+VHQJnFcwCQR4ac0Ov63OGDaPwUOa8fDy4DJF2CqkNKYwoq9MqVBqKNIl0+K0z+RhoGiHhToo93wypIDG5Lnpcn/mmy2HSKV+ktMY4M1Z7KlDO3tOnz8D+/S1JTgrZU4UQZ3ynfKeLD+x/dviwxwb2h0OU5CSNMthPhEJM9+TwV4RJGGmZQYZRh59ovRWyQ1Jyc2Q8N2HKIFmGdBAUiLlDt4MmS1F0xqTF2mt4i0hcke7Koxyymoy5rDYNhm1gQk8hpyMwCb0VcpqkMOQvZGVbTCL9AQEHnldkciW7V+m3Zr1526237vx0RzLhoYOgT8DFaozqdX2vnGHDyUBmUU9kXHQCqc9QStGuNpiEEq6zajYWlFNghRfQsJuLlX5yWMHNBZ0h3k7XA10Kkza0MpRSB1J6KErjZHOqedCjj4wcOWLzhg1WgSNHfg4MHzCsHbtf7TPDht/c6wbGJEwguPiPYhIGppZY5YsBCy8i6DbsSwQmISWgr1IwDv4l5PJJmjBpQyxSUbQmGNnZIVsU1nNiaSJpuzgOdhkYCBnHEhmxGUnIZAJDzfFMmGZMKtTTRCGE4zDZFpaQlshei5Q5nGnWaDNl8uQhT/11+dJliPhHKfWwBloYI/NX5Q8f9szL41/B7TpBlciYiEte0yzISKNlOakg0o/FJJw6JMV5d9xH1ttEE81RqX66kfnV/b0zYjLrpuOQG9k0AAOce/hL2ly2viSHBCFqSHbQoEc+biTgKT9yaPS40Y88+siGDet5KT/zNWlFFBCC7AMIl9ulS5YNeeqvM6ZPw4onwAW2IDk0aDhSYXQsbCZMYpDR9VhxJe2MfsqMPtTAYeCRpweRCgU5SQRzKNUZ2wxSFVWG+NYgRE3mxYZixpFKo5qSAEF9VURpoPmA0hgTgxYhVaCExCoZfHC6gOuDbLJQgIPAf+utt5586smFC+dD9cbqTawaA98P/8FrdVYvXbrkqSefmjZtmhckNbgDRDSiEAaVTqc7JtWZDFRNKRfwKEhIYs4hwcgYJpoE/WGHMEE1lpOnn2s6IyYDEMPgTYDuCPcIliqDd4bEEwL6FkIZJmW1T3FCoAI+F1QHgVZKJXMOHzk8feaMa6+7rqq6isJycDGy5wbngyVIL0gcvMvNy73wgu80t7TI0Pm8lhnoz+yJtU4EDtIQGZWI+ZE7h3XH0/f1F74HugfRFYliAiCLS9AAwDANLGjfIPpobRvqW5YuW/7H225/b8l7yvih9Z1CsUpi/UFxoJvLuGpy8xZccGH3lpYm5sqR3o75SfmoxImwj4SLOBubRUAX/UAvmp4yFcSyinTbKvEIlnzhndD1TtgZMSmJ8AmPPke8SGHMUFlgoTlfyrQW6VAhhT5NyhgkWhnpYwEUUr3pMWPH9rz8Mh4ZIerRkSYHJig5MDLuD4iALCYX9eh+QXNLiwhd2oLVAvvJWoXEPooyiUANOxkm27hZzu0AIfGLdf/k2qRMPFYo4yuVViqZFimJ6SvMz1/b7Vt/v63oUxT8s4K4NxKrKUnhlqzf0hJl62Re3sLuPYBJKQOlqIquBjxJN+AoEAB5IibJS80EhqOWLbmEI45RjMkzGh+dEZMG7nXCWia0kIkuYLqmfBka2XJEOhTIAeyQ4QMWGViuac6Kr5QaN27cr3v2lMgm4zJVnyyzs9tiEoV02Ou4ePHi737ne3X1jQJkdBsYHSgcy4IX7pBITsLVkZEMGNVtXZ9n1Odf2E4wQ7OUAOjg0gO7Hil5QJHzkCUIgZeCgjXf7NZtW9EWaXxlULYHTHQUSkAaaFIGMuQ4pfy6+upVq1b88uJfbt6yiR27TM0D9QfZOyhfCcVD2NsTyUmqSE1+oGxshmzH4+RkrLue/ul3RkxSEir2FECoUbwA0TkA0gArxmjPeAmTDuAh4WI0xiLzhY/lfcZMmTp1yJAhS5cupdzjXFSGFj+RvyET1YvYL+S1OHy4fMrkKX3vvXfn3r3w8VBYj1KjEi3NZGKVdGwmNJJR2M4fJuF8RWpHJ6jYDpH2PCs9VNMLkQDSs+GHy1cOHDRo9uw3GxurNQgUAio7pcwC2wmVBLDxxIRSJipIJFrenvN2/4H9l61YjpUpSKMDY5ro6ZCqEbeWj8r+ha+XAiefJSdZYJ5+UH7F9+iMmCQnCzDJqa6oqKumPG4QS4RJ6Zt0GphUqP5NuU1JwRLCmrdmvz1kyJDcRbk4ATlCeCUhTB8aTZlQe+ZfRk46Zw+VlnX7VreVBaszqy0QNuFSWGRXZvgDkJ3Hvs6b7oqIPJZvUIJHo60STvpWokQ8lUtw763IH/bs8xMnvkLVXwWxehUxiqA78FzFb0hPz1iGUPOd/fXll40eNy7QylcSC7HIC4TUl4TJY3sA4pGkY1s0MrKOykkK0MZy8vQTTifHJEIOErF8BOXJAKIVHUYqFB0IJFVG/v/b+/b3quoz3/9gnjPnPOe3eZ45M/Ocmc7YWu30dGp1KlqdqaijrVJqLUhx1EqFALYVEUW8gICAiCB3VAQhqICtIHcQEq5JJBDut0ASck/2Za31va/zfN7v2mvvhEtz2yHoN08IOztrrb32u9dnve/3vXw+6G3FJAjyPL7RQx4f+vm6ddRCoiBTADpEARlWBFuW5ypGJfWcW4xpVVNVfd99985ftPB05TnU2ihjRC3YFN9l9o3SrVlkXrP8PloISZYkQOAuVYDpTatxLoxJSTNh0pS3Zs1GsytYyEl5GuOguIuR86NsF7WkI+WDmWugi/5uRowa9crE1786VE4JaqILADJhUPS1UvhikWlvdFe61shzRst3CnevtKF7PrJAX8QkzS5GNQ9FCjwWkzSDZ4wgxkTMzlKjthaBn/I5CzDqaxISc7pYXQqtGPEYgz4VU8kS+ZksJjOt5ZHTQ6zKA63l7XfePm3mdCjSBZixpOp9DiZRhrjET14jT0kjzUxgNJTBUCRyFVVOcYfSHmeMVsXGKC58Ds4EYJLyYrgfcc6CIFBKQcBLClvjEWA/wZscMXLkrwcP8oldC4y3kvkSY6jIhkelIpgiCj7gKG0OrA26MglY+1fnJ9sY57K/9FlM2hwPpVPQV0nNa1RJR7ecJbLCDZ0pv0nLlDAioUytMAmjfbpekIzkWvo0407YtJjEdUNf7TBJFUdck/3uvH3GzOlIb2gtORELU0U08rG2obUNLK9ZlgckrjwleAuRPoIKweeGQRZIGZVmIsExqg0iAXTrELTwrpXmAbccsxhrQ6hKwTndbMgs9l5kRowsGDzkMZq5hqCe0IIp7gv/Spi0Jmp3nbXF5DWLKdqdVV/+tS9iksagIkzaxjYansIih9DEaAWpQ6mCZFNFyY7Z70x8/KkhL0yaUlrV0KIlNNmoTwVZITTKgF8S8w4514Ptk7ENbO383s5dO54fO2bGzBm22m4bqTHmYH0sfkaRmE11WKdzbT5jLK+T588eWv3J+29MnvjokKd+/8KkRe+vWv3J6nWrl61YueCNN8bPmjVj7559tmrJQUUOVnfiz6OWQMJk1BNBq29sQItLY8zB8vKpU6cWjCywpUlw0wK/0EqhUckoM2TzrFS0RanXmqXd8jJG5rUx1HX1qn0Rk+gEpysdxUM8BF+TRH82yZHb8jT6YThP1leeLJ47+9Uf3/XvD/7mqf3VTU1GpLG4wtWHpCS1jmLdRZeaTUFEfpLQFQ06wisCuXaBVFAwYvBjgynXSJNaFLqibd06FOSO8I1RQ6Le6OXMqz1//IQ+QLKu+vimPxU+N3r03974/UeGP1/4+fad23ft27lxx7ZV8+e8Mfrpp8aOfO744VMpnwVaMtgG2n9x8ElvDlzpyG9TjpkgGfnL0pIDc+a8g11A3EM9EqgoBaRLTw2uyMRhiUldPFRnirwsbmL4GNsmY68rdFybk+2LmAxAA4fBQ+otJc4XYo5ioQ5MKNA8Ru1xPNB+fShPb9384eAnHvvvsRMqkrzJcA+3cxTmNENHKDL9dD0Bb9bREuCzfo+ucQxP4HqFluvCBfPfmjEd7bEhhbA01EScVeA1RfsB6N5kAGo8MJpTz1HvfX5ZTKKWkRReXe2xg9MnvPKv/e9/+f0V59JKYoYkoUVlzemSN54bc+8td5d8WZZIegE4vAIlORinqcWPuuopaZMdgsFaEk0+dkJEglg9It3KaN2GygtJowT3OrSxYnEJoRLK4WZOL5qpjlebFp29Z6br9pX6LCYtgCjtiv5TrkCQCLE1jiZLurkzTyarjTy59P2Jjw977KVZc05x3azQSIDWTyaEHxhtvMAXEkkfdIDbu/8lmLSXIdZLzMeMpZZCMM9LwU0T3RuCvfhaU5AET7MgkCDxkQI0W717AdhTwVlLmRTJ6sr924f96hf3DB4054uNVSIUXJqgyfDzyboT706aNPj+gSqBrCoDvwEpuseYhEWymIxGQJDiFrCD5EoEwk+hsVwJwQJBbRqh8oxmoF2X6D0A354dHxfCY4xODueW4TmILGedZu8a6rp8tb6ISUZ0qTYvg1JIBpOQADChnapATx3zVbKKNR6YNunpMS+O+HD9+krSuMAME0KxyCsywdEUatdIV8akkCIVpGh6PpOJpUNQkgdlkYjxjS4wFOvRzxbHrr2cToyWw2BGkCnVcuHo5jV33PhPgwuGrdq/t9aEUoqgtUbz2ubqEzMmTHjkvoeMD/gKzZkKGA8Eo3cAjqsIkzJEo3yMSQTmlNDR3AeJgpHC9yQn3gNwf3haeEjlSuEFzGMc023U00+8IVEJN4NJ5Hmt4Z0kbEduEn0Rk6Q4ZceF7VyUnTKMBKcgUQ6+Q2QPlVebqtr79JCf/mHMM1/s3XeBY9YCSz2MFqJsyaQAbTBCMcRZ1k9G10c2Z4OnKXYlPjtciwFmmYziklNKhJajVMKDZCTnaE6jriLGA/KrvdlaHSdRaGHNUn7NyaKVi2/+m//9h1de2nTsaLXWAeRhm7VXe7yk6IURIwb0f0D4DM09mjHFoH6J2Q50y0aYpJnlNpiUXHPwqWPwm/uhgm5tQ139zi93LVq4cNMXa1etWLp926ZzlefQDkxr0QAEW1a1HubM8ZMRJum/jlyT3/Rt+iIm0UFHsxr4aKm1MjPBgYGiwGioBWCd44lETfXhnb/of9vQ3wxatHLNn3d9tWP9lsOlB5ubWoRCz6pHcsVE2IT6eBaTmaE+q5ZFlznmvASk4AJNYZuUPJFq3bd/39bt277c+eX+ffuKdxUlWxPgMEf1XPki4AIaCLr36NiygAxD0gkQfsOpisJpk/7xr/9q2px3Squr67T2lDA8kag69cHst54aNGj82HFCCK4Y1wHJ+JEdsAa02l7IwxCBMvwkWgLwg2vhW5kDq3RwsbpmVeHHb745Y/nyjw7s+fLTwmVvzXhz3bp1IFihtlsImGFYM2qdpVwAOOsIn/CTgGkvxxPXJ7r7IibB4IjvLEUiZUdtegXM+z718WiZ9BoqD2z884N33D500JC5S1Z+tGbcPU6tAAAf5UlEQVTLijmLp786efeu3a1pL60xmMRDNGpSi2d2YRPzqUUKdjQSKaClDHE7amcPGhvrNm3Z+PbsWQsWLSwsLFyx/KMJ41+urqqGvwwxM5ZiaaReAc9e0Kax1YR4xgIPoL8g/FNlJZMLRv3dX/2vabNmFx05cqSm6vT5s8fLD2xc+dHLz45+bfz4nUVFkK0Dzy0kA8iOaEEHNYn9NYNJYJR6fCEdjxuapySkt9KJ1lWFhaNGjp4yZVpNTa3iqY3r144eNWLe/PlM4KBE6UW6BZiCJv6eiGzZprIjTGqHyQ7cJvoiJqnfFXyENBOUS/GCBjBuODNMmJRSzc0XT62cs+DBfv2nvT7jzPmLqUDKcw0P33Xf9CnTjp4+08xZGn4VmLT512xuJMNxSJ4BzT0YwcS2PNTciKC1qX7nl9sHPvKLWXNmHz99qjWRLN65a/CvB506cRKHoilCcLSCvACBbgdM3Z1N2gPSeh2pE8Jv3rt565MPP/ZPf/PP416e9MHqNZ9sXP/Zn1e/+9aUJx8a8O7kNw+XH04rlTCmhSavqIYjBUNSht4EKfm1x6TUIk3NF3B+qWTzkYpDAwY8PHLUs8V79kv0ywbTpk4sGPG7VR+vIgYwyrtGbco6Q6gVlzHderJzH32fxSTSq4rm5xEA2fF1rDHxj5kgLRt8UXX+zME/PP7suGEvFW0qxkgvE/JE7QO33vVswbNFBw60KlkbeB6VOIHGTObU5gQtF3AuJpkiVisZSD+1Z9eOgoJnHv7FQ+VHDvuCV56vnD/n3X/42/9Tcegw9EOokwhj1BETeb7v/21CVhQwokaiBhHUf7Zq9d23PTDolyMOlB5JBH6KJ5Op+oaqM8umv/PH3454d8GiMy0tddq0EmbIYUkDEZ6A9KDbYxKEBQg4AwMVkLQQqZrqymnTpv70nv4z33m3pqE5gMhQ4Kea06lWiLwiE25SnPsKcvM+qE4ijaO2rQV23dC5q/ObuXVfxGSIC4IBk6CmIhkPAiPyoAKJPaaCQDd4vLL8qy/7/+i+dybMPfnVCa0YS7c07Tl6140/fHbE6F2lJfWKN2juYWWDmWbkeHLy9O0wSa8FwRyjgosXzs1+e8Yd/X784fKl9U2Nwui05104V7m7qDjR0gpMGs1CxYkPB+SSeV9PtsFkBpBK6fMtzSfnz5l/8413vfba4jPnapkKOOoezdJrrNx7sGDo0z8f+Ot5n6yp0qYRhCYhMlRe2qgAY9uK4X6F1WW0niSeIYtJDxJE2gtYa/mhknv6/+fPBwz4eM2fkgFWz6HySRcEQzdWRiuAKja+GVIAETsz5cwpc4RoNuoe+GbCrFPvui9ikvpFKCOAYgOVNYihgog+0EIjtSdNYzJ1bsfWL777f//towWf1Z1rVMJLttbs+GzrD77zgwkTJh49fTalSPrcZgBpSRmFgOQyo4qHdZ+4YpREHTxtWGJ/0Y4RI4b/sN9P9h8/U+ezNKJfZQRospD+0RDWEUagx4DK6zSp1Cmzd3RjKsIjTYLOBCqxWtEetOLyQPGT504VT3j51X++4Y4PVu680JD0NeM6qU1rKJKpszUjhw679dY7XpwyrVaoVvi+UEglGdPIRhNlF/wm2pBAlpxpbCLM47ajNfP9ZHHRzm/fcEPByJFFxbsZpxsbVW09z/P9wObHbZrHMhjZtFycd830DKBPP6e7saMW+AZu1ycxScpvNNYvKb5idP8lQQ90iUsNLe7G1tbKDes+/9bffW/96qJUE1fcq64+PmnKrLt/+uDSZYXNrSmpDKcpiIjSKnNJWG+Z+5M0uTSWWCJp0g3rVq8cNGTIPb8cfCIhqoVp1SFDdSXAKBi5F7QIKWQ3oiNjejAvX7ZTPKKfy5AbKCU4DzjamE4cKF47fHjB9265f/PusxdTIo3FdkrpRCi9msMnnhg4uN9td8yYPbcl0mNAnIHeG05Z6FwTADJRAikGv1Ii8L3SAyV33N7v1QmvfFVaJsF1hJJmU1PLwYOHTp8+gzUBlvmU1aaew7wY4pt00D6LSbv+yyRTEBNFmFRSSJmQqjGRqN62ZfPNN/xo2xf7g6QOvNavynYO/NXjE16dcvDQEfSXKM04qB0xvRs5hLaXYea3SDDLcMMTOlW/bnXhk08//ethI6tEWKvCBAiPJUu3Vp8/zYKklD7NPTEia7WyW/nCZBhi9INjTJn6/giWnAepVALeLDj9+eoFjw0e8sCA3x46k2hkJqVZoFNCtnrpxo0rVz/0H/cNenTw9uI9KWNauADth4IMIFajmdV1xgbW4Bi8QnuQQFiLewHntTUXJ70+8fVXX9u2ZWtDXX1dbV1dXX1p6VeffPLp7t17LF8uugSi+RLnC7t7/+iTmLSlD1w1OZjUkuYx0IKqVFLIRt9vKCsp+cm/37tl3e50M6urvvDpJx8+8PNHSssq0h4PmGRcaGN8FmAgkKrjOddf9qE1IXGmcsVbDW89UVH2xpTJPxs8tE6FjSZMmDAV+CePlD//x1HV1ZWQcsWFzSnTQljv7qdwlf019T6ANN16S3Tk2i58o0JRNX/26w/97KHnX5pa3eI389BTUoaB5zWWlBQ9cu+DTz36m7Wfrk0xntLApCcV6kvaCCILyZogekSF/qgWgoAZHLFa8YA1Nza9NX3GpNcnLlqw8L3F702bNmPZso/Onj2HVn+s8EmUkwjwrvJO3J86aIE+j8mY9x6YtEEt1BGlbBWitampYfXH6+bNen/BnCWL5r27eOHswxUnkykfvhG9PiLgjBrQgRw73UGzkG2uRmspzGLqwMi04QmWai7es3v85Dcnzlmw/PMvln66Zuny5es++/Tk0cPMT1v9OIkhCbptEIlGB83d2c0U9bjbYJVmNtDyrrVMpRIff1y4eO7r/3XPbd/61r/8avCwmfOWzV+6ct77S96cOfmPz48c9rsnFsycVVK0p6G+0RPSR9LM+Ai4sUS9nJPMNMRlkroRWTPdE5gf1FRV11RVN9Q3NDY21tbWNjU1Wx1BUs7D6IftPQQbvPvqngX6IiaJaCkKpSzHRNx1AxQAX1yrNBpU/XTdxaaK8mMHS8rLy8qOHSlPpdF1hxqZUkzAm2F0AwilKpkdTCJItrMbERoIJDZ4UgWpxsb6soqj2/aXlp86ffD4iUNHKs6dOi6YJ+FicFETe7my3bAQaMzPFzFyoHFICDTHWQ+ptWTMP3bsyFf7Nn++dvnKwpUbt+0qLj2y/+DRA+UHi/cXb9q2YfO2DWdPnEq1JEA2p9H8xDD4AoiDZyCTbmlzcwJSLWkAFpaC0wQJpWUxJULfdmLEUgHau1t8p6NVJY6eH0t8g47aFzFJF0z7KjllIChXCkxa0XOa4aDmLYrmUO4IGKaHhJQBaC+w5Iuv5thT2gux3YesjA4wD8nRvELY4+Athk4l6YBjLkWB1g2O104fgl1EEKlI3nI8BAW07sYRrFUciLKvvFnLJEiXtUlL44ECBE1xgQpkiFsHiDBplgztgpaLmtoUbVGonQXiHI+9A9oVLFEWUC8e5mqwNKccjxEi0pa1UKT8MPI8+bs9XXK2X9sn+iImIwWqnHt4BEiUucDgQejCmDxdMVSPoGlc3MUpnvRZ4AWeVGAZoPYV62EyQwuXo8+RRqcVB4ypJopxLSXRXku9c/C0krHAwzQmXhhy6ygAIOMEpsU8XSAgwYo6SKPFnk35RE+ieONjcQv2OnDycAxyKwZ5TKmo4EF1V8lslhjBAvI7WApfxgjZvCv1WSAasPK66NBHE6FQGIbGF6CeA0v05XPSQchbyJAnC/fBw/ZZTFpw2QvApukzKoh2zhhRnbTpQTBwI/2nUTHEQJ+tt8GdShWQ2DhSiJwHV/kAVBgyq9sDdRthx+rBrQW2LUyYhJJZXS2hTSC1B75xLCnJq+QrdrVZULuSjAPLuFYBDj8oKzNpVID8jRG0YvS1SEpfkcKKCkkHXjPUM9GMClzaGcdLrJHFJOaebTmU0t2WnwERNBeZilLI6CvGNli2OL/kmO6JTlugj2ISna45iQgCA+nSIGgSmTWMXdaRrBVIFbHAidSIQ7CCU2oD0w+KdKOuPr0hifaOwQXDC5CCHSctcbgfEoTEeBaiW6uBCm5GO5ZJSqmdtnwHd6BaAxVCiGYOegFx2wC46RALgOaExk1x4kIhLUZKKqTVpRnTkBgjp05aA0QLEGMp5zwokRx17dllQjRRwwOGkBV8J7gT0pI0mzODnAs5SSo55e/2lHOmX+uHfRmTWVgSwbbEPLOhm71NPBB6wD2ALjBORWvLww0OK4SW2sq6Sgozs+zdmQRH7geLqgu6XZFCgiMm/blAmbTSODjldOC6cSzkncBwamuedO/I14VIRELAAFGVa4gRSUy5UC8B1MOoYRBDHhKkByCDJI0rRZpzlgOAptZUYNl2sBiGSiSR3UZNAnFF0UYlUYRCxaOoiGmV1+0ztMSlWASfSvRl0Wh/yTWre9wFC/RhTMJVRitAqukrg+jSQ4szVpS24KjoGQ/hGIBkLRDFulaXKyKayTSp0NI0vgqz2yvITcWYRGZRh74Kk8p4hEmFVyRVIRL7ghO3O2eEfbpg/L+8C/KY1CMTuyZbcrA5FQnyIHW4vPzDpe956RYg0+A5aGwSdgWSQ+iSk8K3KRo0AVBcGkfCZJC/fCbZDBAs6b7yaIG+icnQKjflYpLCV05esR0mAxMSmtrk/KwoF+DTAUxiHaXAxAYfmJkNizCpyQkjmZTFJOYmegeTNkqPYRkFssjpRB7s+NFj06e++cTQ3yQTTVhOEiah6sf57n17Ky9UCgE6XMKkoFYHxmUU/ebArCNXWLTa7DCGO3JMt81lLHDdYRIxWI6f1JSXQSIHl2+2NtZpTEK6HE3uQBvK5gjwmIYKDqBKhCKxn4zct8185NVPUrAaibAGQUARLBZyVlkgkUiOGjVq2G+fwqqSqGwlHqFqaoz67s03LXlvMeohgkSiiVqTOFopX51TirzMdXGZpxwmL2OUfDzV9zEJmNA7t4o+/HKYJLE7JHliE0XilRknmS2FZ4qf8ZYQpyQnjPwI5TEsJrUGRZ5P+udo64v9JOYnaOXUC5gkzSuwlNulml1Y2jjWGDNw4C+nTp1aV1sjuKdQDUEzA0guua9k8N2bblz83hKkp6GWwrDaBI0RGgeQC3KYzL0E+tLjvohJLBVJdTTDUG4xif4tG11GiCB3SRBFpdDmHjK2tTd1K0J6dUBaTKLQAuFJg/wljS1pSO7BVXLQt2YwaWXA6cQoliX8Zu4amRfvuf/j2JURR2PcK2NLtHfe+ZPp06dLiPwhs8NtRZJ6x43mm7duHP370QsWLLALUlBYAbcZBjIsvuPvjpxxvHH2zteR3dw2nbVAn8Qk4kdwStDAe+wnkWGJnCTQGCf9ogy+7f7KvP/s5FHOldcutUOZIzg7EopCUtdDmEouhAJhqSI2WUt4F/lFjVuD5SfASVjWoMzr9vD/FntxK2ncLtPY2Dhp0qQJE14pLiqC36OeNyZlIIFMxLHSk4YPHvJYwciRGFKWOuCeUJDWEsKXDOXHHMt05LQdJjtipR7Ypm9iMsxg0jIsxViy8Mu6JRvRZX7irzkmaQfL+CA5m2QACVEaYDJJ45rI36LUGSoRcjSpWcI7elnqMYK7DjMisfbSzj1oDz62HTN2GRm3zlRVVb333nsDBw48dOgQJVkpM4WoVfvo/cO4qWQJoYO33p45duy4L3fsElwH3OfS49JjzJMBOX/nJ3vwo+q5Q11fmLQwi0JZKo9FYhQES3sjj22Ti8nLAtL6SW1zswbCqgnq1kbPJnpiwHnHeShIdYpeAa8WCdWCrh9LzMjdxK/asw+sn4wXkMYY3/dXrFjxne98p6WlBRUbWitSpwOSPBBvhZ9khqcEWgXU9Blv33773RRgyECkuEyj7Qkdip31e53dvmct8Q062nWNSepsizRicPUSuuIPr9OYVKZFaw8ZVwpPwWAXCotJatizclpoJyLA9hImbeBqF5bGmBkzZjz66KPnz5+36R/qzkVpBn0DtjcCHH2+kSlpCJPT3+53+900SsOkDpQKtORgsXKYjK+UPvagL2IyWitSXsXGpRmj2WGRy/hJ2sCCMLOtXf1lf8bP5z7ITp9QZ04UKtsToFQTiBOjpCfSv3EnLf3Rbne5tqDc17j6Y2I4hrOVIdgMqMmG+m/Qek4EclqmVZDWPgP9bDD+hXEPPfAzQwhU1LRDnYDY1IbY8PCg1eNQ7FH+1OlT+93RD3Pg0D3HDDKRmKTIwefa8/KnmVkXWIdt7wwux3N5W/XUs30Rkz313q6L4+gQ/F8kQGeQodFCIbmFDh0QBCnlQVGTJXQ6rdJLP3x/wosvFS5bodFkqNHZaqiwQSR8YDBHtAAxOhZqX4Ox58uirS++9PzkNyZePF+DvDJovZgB4WuHoJWDyWyD63Vh2Ov3JB0mr/Fnh+ZVohhCKUZJAUyikIiKopJMSl9JT/Mm1rr68zUFI54pXL4CIldQXlDSYpLyUXC1dmwb5JZKhMZXnGkudLB58/r/+df/o3R/GeTtQJXLTZgmNa2//N5zMRn7yr+8m9uiGxZwmOyG8XpiV2XnNCmpSwSPQhomtO8HSXSoYtJapRSrbqn90W0/2vDFBlKdQ+2fWuExL4luQMq/UPBK3GAG0/5pwXzJpBHFu0EG+cXnmxItKereF8Kku+AnY3z2xPt2x7iiBRwmr2ia3vkDUqZwlMqEIdfK414g0kRDDqGEgAlUFWnypbmliTOmpMZoMVjKGWm7ovfI1nSoKdeqKUMsRxpMiwgpOOeVlZW33dpv6dKPMMmlZZIl4ob9q7/NGIe5D66+i/trNy3gMNlNA3Z7dwVdPg2iTMiPY34aYamnZdLItFDS13BqaTseiokPGuBEIgcCrwIKDlFHkR37JOJ4IBz8sxJkrkqZ5qaWm276/uLF73MlPREE6Le/Un2o/TvKRaN93H4L93uPWsBhskfN2YWDYTVIFVEdkhS7UMpPJ+qOle9dunDWuPEvL1qx6mjNxRTWnUj9SAXlhsBIUA4ZxnMwGYITABPeVo0BHPLAMNynl2YffLBs7AsvFH6yypNBSnod9JPxG8pFZvyke5APCzhM5sOqnTgmqdXmYpIrmU41Vx/au/21MQXfvun7Q3///IFzlUljJNrIaazTqLQOpPCEZiKMmSGRcCWpLG6guQz3KCWoqjVyPnCigx97bHjB8ECzlOg0Jjvxltym3bOAw2T37NftvdESAN4t1CfRI4ccTloHjaLxwo41K/5rwC/HzpxzJghajcEosgCVgGdkGuQe6GiVmPxGQhT1Rkg+khIkegKUwHQzVJAkD0F9qfWLL46bNGUi00zQtFm3z90dIC8WcJjMi1k7flDqrCd1OPQMgOjLKM8ETd7FM8venvzo0P+esfLj86GuNxoEVzIMlEoqweAxPZDvRC0NbTBJEy3AqhAGIgNozjU8QBFUQVAkCBD/dnQ92fH34rbsEQs4TPaIGbt+EBliGIx4/bVAukca6Rm/0btw4vXRo3733Njl23bUo+UPUSiXKq1UChGqNDIgCmbLBwSBThIqR2JV0DfyO+CANIp0bjWmndNSJrhIAsxRe1LEzBlBlCTpUFNxiO36R9rdPR0mu2vBbu5P+qnEhEm0sZA8kGmdrms8Xj70wYfHTpy68eDhJiAV60kudVqrBHXHae5jjWibcFGiVCENuMlQcMMgZQ0yHg2eTcSzknSXW7VqUTIFztoMJrUG9ZZN4aB3DixIDpPd/FS7tbvDZLfM1/2dMUENGCA9SgK4XMkka6k+vmfnnd/7YcHY8Ss2bS0qO1h6oOx0xalUIp3WugWqJkJDa9kS0JGGjhVfQBOPtPLynJgv8TS0dH1jEqFp0rpZiGQqmayoOFJSUnrwYHlFRcXRo0c551iVErcyskPOT3b/o+3qERwmu2q5HtoPBX8UOcAoy7H684RKJOort6z+9Ma/v2HQk8+8OW/h3IVLZk2ZOW/qO8cOHW/losnoJFI2kFgOqaWOqCGR6AEDa6gYOVJuoKcLwGthZMKYxtDUC9HQ2FCzf1/p22/Pnjb9rXnzFy5YsGju3Ll28st2z9lxzR56f+4wnbaAw2SnTdbDOyjKt2LOijPj+ybBTWtt1elFM+fcdnO/WfPeP3uxjvnswpHT//Gvt36w4IOztQ31SqaM4cQ9TZiMCAPAmEJTZCxUfijQEAu6WqVUEIbJMGwIwwYWNBQX7frZA4/MnjPv7LnzaS/YunX78OHD6+rq4nGwHn6D7nCdtIDDZCcN1tObg0WEkRKdCIRJB6aJ65bTx4+MGTHm6SG/31lckg44S3oXK07eeeMPJo5//cCRY3VathDHDi0mswweGAlBuwAEdAPkXEkeBNkfrkSzFLWM1+7cteWPz704ZOizXx2sSHv+8RMnp7457af976mqqrKYtIyyLnbt6c+5E8dzmOyEsfKxKfi3eEjzyIEyrYGuTbPaA7t3D7hv0IzJHxw7eZ4L4Te1nCjed8s/fnvcc+OKyg/VaZnUWmFiOV5PWq69CJPcSGYgZiKhK6YURkySQtTX1J2aOeftex54ZM6itQ1NCal0Y1NzSWnZuvXrWxMJUieywHQ5nnx81B09psNkRy2Vp+2UDqHKJXQomTKNTFe1JM5tWvfF7f92/ycri2outkjJm2uqt3/86f/7h29NfmNK6ZnTdegqMDqlkHe1CilWT4D8JAlpgR4BcazQJMbHtU5z2VS0f9uTI4f/uP+AHWUXvADasPStoQ5G82JOYiBPn3KnDusw2Slz9fzGNNKINE8IwY9aYSobG0+sKfz0lpv779h2ujXBtGLnjlbMmzjxnltuXVlYeDbRUmd0WhuTomwtEkRW+NGWFUH5JxG4cqXRIkSqk0KIJJPNy1cvfXDQr+4b9OSxegTKEo4W0lwBZ4ooT6BM4kRde/5D7twRHSY7Z68e31qEIVehBkMtMKlNVVP9idUffdzvhz8vK61J+1yw5P7tm3874OGJY8aUlR+sl6LemLQyJo3qCYihwW1LPF5Rl50m/8c59yBZB/FzFgQtvmxetnrpo8OefGLMuIsSrCIkJ6kY563JhEA+CKqSDpM9/hF39oAOk521WA9vH5H8oHBv2dxFKpXYumXLvf3vLy+vCPyg6vz5ZUuXDn50UFlJWSqdhmQKOCMlcqpIxeQObNjGV4Ar1qi0As9Wn+tAyYEXx7/09O+eSXqeFThIp9OHDh1avHhxa6LVKqILIXr4HbrDddICDpOdNFhPbx5DKpLKkpIxdubMmXnz5i1ZsuRPn322YvlHSxYt2bBhU3NzK+MSvCAagakvIH95yelkGR9zkIkeACllfX392rVrX3nllcLCwqKioi1btmzYsGHLli379u1LJpO5SkEu73qJYXvvCYfJ3rP1ZV/Jlumt6ICVzZJSep538uTJ9evXb9m8edOGjXt27wkCprBAtPKSwGQAT3k1TFJAK8lPonXOao1cuHBh+/bt69at27t3765du3bu3Hn48OF0Om1Vli2RrP152bN1T/aCBRwme8HIV3sJi0m7kIsxaQPLqC5B/0W0y8SDJUgimtTFroZJBfLlSDQ+091KY13URhDLHNhXMcZYWMa/Xu2k3d/yaQGHyXxatwPHjmV5LIcypOGpQcd6NvurECIIAtKGN1KjY05Y+dqr+kmZUVzXWsXHtLeAIAgs/i3ULWLtmdjGOhe7duCjy9cmDpP5smwHjxtHldZT2cK9dZuxdI8FklBSol0O+u2xwNglr9JmPQl1dcEofJWxlKU9WvxCnPN4LsTGtxailxzZPdFLFnCY7CVDX+VlcsPX+HE7/4nnLS8dEKbQaUCiDJccNotJ8OEpITGWFanK2rg0I2qAxE+sC2SftAGtTTtdcmT3RC9ZwGGylwx9pZeJ128xHqyzyuRjSdNVCqp9oPgB1ivMemR0adsftw0mLSxJDA95V/tasTO03tjC0nrRGLQudm1v11783WGyF419uZeK29ksJi1g4kWdrWcoLRl65BToCKhdJ8IkeF3bfWUxaXM8GVeJweUYhDY6jX/lnFvEWi9tZynbHdf92msWcJjsNVN36IVsUocaCaynpI5WIt0hWKL+Yb1l1DKQFSmy+MyqidmVpG0eiNK26IBFughEz8QzYCPkjE9u83+HTtdtlAcLOEzmwajdOGQEC9LWzEKkfbMOIGX9ZXZSK/KZsVRWdu+cR1GLTybyzfnLJQ+78Sbcrt2ygMNkt8yXj52zqCIVvUvDU8CH3GVbDclLN7z07LKRbfcU+i49snumxyzgMNljpuzqgWy0mUWUw2RXLfk12c9h8pp/kLHvsmBss0CMnmp7js5PtrXH1+03h8lr/onGmNQ2Vu2Qn6Tw1cWu1/zDy8cJOEzmw6qdOmYuJgHLjmISc1q5+2aj3yu/fGe3v/KR3F/yZgGHybyZtqMHBk5sHTKaroLIa4RMetAebFGKVDtMdtTE19d2DpPX/PO6FJOW+goLSx1epl/HrSev+WeW1xNwmMyreTty8Cwm7cSjBjkPRF0dJjtivq/fNg6T1/wztZhE+JrBZAf8pMvxXPPPLW8n4DCZN9O6AzsLdMkCDpNdMpvbyVkgbxZwmMybad2BnQW6ZAGHyS6Zze3kLJA3CzhM5s207sDOAl2ygMNkl8zmdnIWyJsFHCbzZlp3YGeBLlnAYbJLZnM7OQvkzQIOk3kzrTuws0CXLOAw2SWzuZ2cBfJmAYfJvJnWHdhZoEsWcJjsktncTs4CebOAw2TeTOsO7CzQJQs4THbJbG4nZ4G8WcBhMm+mdQd2FuiSBRwmu2Q2t5OzQN4s4DCZN9O6AzsLdMkCDpNdMpvbyVkgbxZwmMybad2BnQW6ZAGHyS6Zze3kLJA3C/x/mXATyWYMa9kAAAAASUVORK5CYII=)"
   ]
  },
  {
   "cell_type": "markdown",
   "metadata": {
    "id": "9lzHz2DYdYJV"
   },
   "source": [
    "**Exercício 14:**\n",
    "\n",
    "Considere uma gramática, de símbolo inicial $S$, com as seguintes produções:\n",
    "1. $S\\rightarrow aAb$\n",
    "1. $A\\rightarrow aA$\n",
    "1. $A\\rightarrow bA$\n",
    "1. $A\\rightarrow \\lambda$\n",
    "\n",
    "Construa árvores de derivação das palavras terminais $abab$ e $aabb$."
   ]
  },
  {
   "cell_type": "markdown",
   "metadata": {
    "id": "CLvQF7PKdYJV"
   },
   "source": [
    "**Definição 14:**\n",
    "\n",
    "Dada uma gramática $G=(\\Sigma,V,P,S)$ e duas palavras $w_0,w_1\\in (\\Sigma\\cup V)^\\ast$, diz-se que $w_1$ deriva de $w_0$ por uma derivação, se existe uma produção $p\\in P$ tal que, quando aplicada a $w_0$, a transforma em $w_1$, neste caso escrevemos\n",
    "\n",
    "$$\n",
    "w_0\\Rightarrow_p w_1.\n",
    "$$\n",
    "\n",
    "Caso exista uma sequência de produções $p_1,p_2,\\ldots,p_n$ tal que\n",
    "\n",
    "$$\n",
    "w_0\\Rightarrow_{p_1} w_1\\Rightarrow_{p_2} w_2\\Rightarrow_{p_3}\\ldots\\Rightarrow_{p_n} w_n\n",
    "$$\n",
    "\n",
    "escrevemos\n",
    "\n",
    "$$\n",
    "w_0\\Rightarrow^* w_n\n",
    "$$"
   ]
  },
  {
   "cell_type": "markdown",
   "metadata": {
    "id": "P-_yemcfdYJW"
   },
   "source": [
    "**Exemplo 14:**\n",
    "\n",
    "Assim do exemplo anterior escrevemos\n",
    "$$\n",
    " S\\Rightarrow^\\ast bccabcccc,\n",
    "$$\n",
    " para indicar que do símbolo $S$ se pode derivar $bccabcccc$, mediante a aplicação de uma sequência de produções."
   ]
  },
  {
   "cell_type": "markdown",
   "metadata": {
    "id": "ZRYL9HIsdYJW"
   },
   "source": [
    "**Definição 15:**\n",
    "\n",
    "A linguagem $L(G)$ gerada pela gramática $G=(\\Sigma,V,P,S)$ contém todas as palavras terminais geradas a partir do símbolo inicial $S$,\n",
    "\n",
    "$$\n",
    "L(G)=\\{w\\in\\Sigma^\\ast:\\;S\\Rightarrow^\\ast w\\}.\n",
    "$$"
   ]
  },
  {
   "cell_type": "markdown",
   "metadata": {
    "id": "oiAXnirvdYJW"
   },
   "source": [
    "Definimos uma linguagem regular, como uma linguagem que pode ser descrita por uma expressão regular. Outra forma de caracterizar a sintaxe de linguagens regulares é através de gramáticas regulares.\n"
   ]
  },
  {
   "cell_type": "markdown",
   "metadata": {
    "id": "SVBGkJ-OdYJW"
   },
   "source": [
    "**Definição 16:** Gramáticas regulares\n",
    "\n",
    "Uma gramática $G=(\\Sigma,V,P,S)$ diz-se regular (mais precisamente regular à direita) quanto todas as produções são da forma:\n",
    "1. $A\\rightarrow w$ ou\n",
    "1. $A\\rightarrow wB$,\n",
    "\n",
    "em que $A,B\\in V$ (símbolos não terminais) e $w\\in \\Sigma^\\ast$ (uma palavra terminal). Isto é, todas as produções têm do lado direito, no máximo um símbolo não terminal (e este é o último símbolo do lado direito)."
   ]
  },
  {
   "cell_type": "markdown",
   "metadata": {
    "id": "DIyWYpFqdYJW"
   },
   "source": [
    "**Exercício 15:**\n",
    "\n",
    "Determine as produções em $P$ de uma gramática regular (à direita) $G=(\\Sigma,V,P,S)$, onde $\\Sigma=\\{a,b,c\\}$ e $V=\\{S,A,B,C,D\\}$ tais que a linguagem gerada $L(G)$ seja descrita pelas expressões regulares abaixo:\n",
    "1. $a^\\ast b^\\ast$\n",
    "1. $(a|b)^\\ast(a^\\ast|c)$\n",
    "1. $aba^+c$\n",
    "1. $ab^\\ast$\n",
    "1. $ab^\\ast aba^+c$\n",
    "1. $(ab^*)^*a$"
   ]
  },
  {
   "cell_type": "markdown",
   "metadata": {
    "id": "87AuGVxwdYJW"
   },
   "source": [
    "Genericamente, pode mostrar-se que:\n",
    "\n",
    "**Teorema 2:**\n",
    "\n",
    "Qualquer linguagem regular é gerada por uma gramática regular (no nosso caso, uma gramática regular à direita)."
   ]
  },
  {
   "cell_type": "markdown",
   "metadata": {
    "id": "JtVhCkedMutN"
   },
   "source": [
    "**Exemplo 15:** Gramática para Strings que Terminam com \"ab\"\n",
    "\n",
    "Vamos definir uma gramática regular à direita que gera todas as strings sobre $ \\Sigma = \\{a, b\\} $ que terminam com a substring \"ab\".\n",
    "\n",
    "**Componentes da Gramática:**\n",
    "- **Símbolos terminais ($ \\Sigma $)**: $ \\{a, b\\} $.\n",
    "- **Símbolos não terminais ($ V $)**: $ \\{S, A, B\\} $.\n",
    "- **Símbolo inicial ($ S $)**: $ S $.\n",
    "- **Regras de produção ($ P $)**:\n",
    "  \n",
    "$$\n",
    "\\begin{array}{rcl}\n",
    "S &\\to& aS \\mid bS \\mid aA \\quad \\text{(Gera qualquer combinação de a's e b's, mas eventualmente produz \"aA\")} \\\\\n",
    "A &\\to& bB \\quad \\text{(Após \"a\", força a produção de \"b\")} \\\\\n",
    "B &\\to& \\varepsilon \\quad \\text{(Finaliza a string após \"ab\")}\n",
    "\\end{array}\n",
    "$$\n",
    "\n",
    "\n",
    "**Derivação da String \"aaab\":**\n",
    "1. $ S \\to aS $  \n",
    "2. $ S \\to aS $  \n",
    "3. $ S \\to aA $\n",
    "4. $ A \\to bB $  \n",
    "5. $ B \\to \\varepsilon $  \n",
    "\n",
    "1. **Resultado:** $ aaab $.\n",
    "\n",
    "**Outras Strings Geradas:**\n",
    "- $ ab $: $ S \\to aA \\to bB \\to \\varepsilon $.\n",
    "- $ bab $: $ S \\to bS \\to aA \\to bB \\to \\varepsilon $.\n",
    "- $ abab $ (inválido, pois termina com \"b\"): Não é gerado por esta gramática.\n",
    "\n",
    "2. **Linguagem Gerada**\n",
    "A linguagem $ L(G) $ é o conjunto de todas as strings sobre $ \\{a, b\\} $ que terminam com \"ab\":  \n",
    "\n",
    "$$\n",
    "L(G) = \\{ w \\in \\{a, b\\}^* \\mid w \\text{ termina com \"ab\"} \\}.\n",
    "$$\n"
   ]
  },
  {
   "cell_type": "markdown",
   "metadata": {
    "id": "y_h0ydUVQdoG"
   },
   "source": [
    "Aqui fica uma implementação em Python para verificar se uma palavra pertence à linguagem gerada pela gramática regular à direita que define strings terminadas em \"ab\":"
   ]
  },
  {
   "cell_type": "code",
   "execution_count": 13,
   "metadata": {
    "executionInfo": {
     "elapsed": 50,
     "status": "ok",
     "timestamp": 1743610781100,
     "user": {
      "displayName": "Carlos Leandro",
      "userId": "02142946371031398041"
     },
     "user_tz": -60
    },
    "id": "eFWeOD2_QbUh"
   },
   "outputs": [],
   "source": [
    "def verifica_palavra(palavra):\n",
    "    \"\"\"\n",
    "    Verifica se a palavra termina com \"ab\", seguindo a gramática:\n",
    "    S → aS | bS | aA\n",
    "    A → bB\n",
    "    B → ε\n",
    "    \"\"\"\n",
    "    # Estados possíveis: S, A, B (representados como strings)\n",
    "    estados = {'S', 'A', 'B'}\n",
    "    transicoes = {\n",
    "        'S': {\n",
    "            'a': ['S', 'A'],  # S pode ir para S ou A com 'a'\n",
    "            'b': ['S']        # S vai para S com 'b'\n",
    "        },\n",
    "        'A': {\n",
    "            'b': ['B']        # A vai para B com 'b'\n",
    "        },\n",
    "        'B': {}               # B não tem transições (estado final)\n",
    "    }\n",
    "\n",
    "    estado_atual = {'S'}  # Começa no estado inicial S\n",
    "\n",
    "    for char in palavra:\n",
    "        proximos_estados = set()\n",
    "        for estado in estado_atual:\n",
    "            # Obtém os próximos estados para o caractere atual\n",
    "            if char in transicoes[estado]:\n",
    "                proximos_estados.update(transicoes[estado][char])\n",
    "        estado_atual = proximos_estados\n",
    "        if not estado_atual:\n",
    "            return False  # Não há transições válidas\n",
    "\n",
    "    # A palavra é válida se algum estado final é B\n",
    "    return 'B' in estado_atual"
   ]
  },
  {
   "cell_type": "code",
   "execution_count": 14,
   "metadata": {
    "colab": {
     "base_uri": "https://localhost:8080/"
    },
    "executionInfo": {
     "elapsed": 36,
     "status": "ok",
     "timestamp": 1743610808814,
     "user": {
      "displayName": "Carlos Leandro",
      "userId": "02142946371031398041"
     },
     "user_tz": -60
    },
    "id": "UlYPI1yUTRtt",
    "outputId": "010768c5-3326-4c58-b022-8581740b1d88"
   },
   "outputs": [
    {
     "name": "stdout",
     "output_type": "stream",
     "text": [
      "True\n",
      "True\n",
      "True\n",
      "True\n",
      "False\n",
      "False\n",
      "False\n",
      "False\n"
     ]
    }
   ],
   "source": [
    "# Casos válidos (terminam com \"ab\"):\n",
    "print(verifica_palavra(\"ab\"))      # True\n",
    "print(verifica_palavra(\"aaab\"))    # True\n",
    "print(verifica_palavra(\"bab\"))     # True\n",
    "print(verifica_palavra(\"aab\"))     # True\n",
    "\n",
    "# Casos inválidos (não terminam com \"ab\"):\n",
    "print(verifica_palavra(\"a\"))       # False\n",
    "print(verifica_palavra(\"aba\"))     # False\n",
    "print(verifica_palavra(\"abba\"))    # False\n",
    "print(verifica_palavra(\"b\"))       # False"
   ]
  },
  {
   "cell_type": "markdown",
   "metadata": {
    "id": "gdQml8Y4TgCj"
   },
   "source": [
    "**Funcionamento da Implementação**\n",
    "1. **Inicialização**: Começa no estado `S`.\n",
    "2. **Transições de Estado**:  \n",
    "   - Para cada caractere da palavra, atualiza os estados possíveis de acordo com as regras da gramática.  \n",
    "   - Exemplo: Se o estado atual é `S` e o caractere é `a`, os próximos estados são `S` e `A`.  \n",
    "3. **Estado Final**:  \n",
    "   - A palavra é aceite se, após processar todos os caracteres, o estado `B` está entre os estados possíveis.  \n",
    "\n",
    "\n",
    "**Passo a Passo**\n",
    "Para a palavra `\"aaab\"`:\n",
    "1. Processa `a`: Estados possíveis = `{'S', 'A'}`.  \n",
    "2. Processa `a`: Estados possíveis = `{'S', 'A'}`.  \n",
    "3. Processa `a`: Estados possíveis = `{'S', 'A'}`.  \n",
    "4. Processa `b`:  \n",
    "   - De `S`: Vai para `S`.  \n",
    "   - De `A`: Vai para `B`.  \n",
    "   Estados finais = `{'S', 'B'}`.  \n",
    "5. Resultado: `True` (pois `B` está presente).  "
   ]
  },
  {
   "cell_type": "markdown",
   "metadata": {
    "id": "n6HFxL3ETl3_"
   },
   "source": [
    "No próximo capítulo, demonstraremos que as máquinas de estados são equivalentes às gramáticas regulares e proporcionam uma estrutura eficiente, flexível e teoricamente robusta para o reconhecimento de expressões regulares, constituindo a solução ideal para problemas que envolvem sequências com regras bem definidas."
   ]
  },
  {
   "cell_type": "markdown",
   "metadata": {
    "id": "GGqQu-yhTUpJ"
   },
   "source": [
    "## Referências:\n",
    "\n",
    "1. **\"Introduction to Automata Theory, Languages, and Computation\"**  \n",
    "   **Autores:** John E. Hopcroft, Rajeev Motwani, Jeffrey D. Ullman  \n",
    "   **Descrição:** Considerado uma referência fundamental na teoria de autómatos, este livro explora máquinas de estados finitos, linguagens regulares, gramáticas livres de contexto e máquinas de Turing. Inclui uma abordagem detalhada das propriedades das linguagens formais e sua relevância na computação. \n",
    "   **Tópicos-chave:** Autómatos finitos, linguagens regulares, gramáticas livres de contexto, máquinas de Turing.\n",
    "\n",
    "2. **\"Formal Languages and Compilation\"**  \n",
    "   **Autores:** Stefan Börzsei, György Vaszil, Jürgen Börzsei  \n",
    "   **Descrição:** Este livro fornece uma introdução aos fundamentos das linguagens formais e à compilação, explicando os princípios e algoritmos utilizados para definir a sintaxe das linguagens e implementar tradutores simples. É uma leitura valiosa para compreender a ligação entre teoria das linguagens formais e sua aplicação na compilação.\n",
    "   **Tópicos-chave:** Linguagens formais, compilação, sintaxe de linguagens, tradutores.\n",
    "\n",
    "3. **\"Finite Automata and Regular Expressions: Problems and Solutions\"**  \n",
    "   **Autores:** John E. Hopcroft, Jeffrey D. Ullman  \n",
    "   **Descrição:** Focado na resolução de problemas, este livro apresenta uma coleção de exercícios relacionados a autómatos finitos e expressões regulares, acompanhados de soluções detalhadas. É ideal para estudantes que desejam aprofundar a compreensão prática desses conceitos fundamentais.  \n",
    "   **Tópicos-chave:** Autómatos finitos, expressões regulares, resolução de problemas.\n",
    "\n"
   ]
  },
  {
   "cell_type": "code",
   "execution_count": null,
   "metadata": {},
   "outputs": [],
   "source": []
  }
 ],
 "metadata": {
  "colab": {
   "provenance": []
  },
  "kernelspec": {
   "display_name": "Python 3 (ipykernel)",
   "language": "python",
   "name": "python3"
  },
  "language_info": {
   "codemirror_mode": {
    "name": "ipython",
    "version": 3
   },
   "file_extension": ".py",
   "mimetype": "text/x-python",
   "name": "python",
   "nbconvert_exporter": "python",
   "pygments_lexer": "ipython3",
   "version": "3.10.12"
  }
 },
 "nbformat": 4,
 "nbformat_minor": 4
}
