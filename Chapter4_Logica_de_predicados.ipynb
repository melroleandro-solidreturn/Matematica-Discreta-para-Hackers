{
 "cells": [
  {
   "cell_type": "markdown",
   "metadata": {
    "id": "9vjRzyEgK8Tp"
   },
   "source": [
    "\n",
    "# Lógica de Predicados\n",
    "\n",
    "\n",
    "\n",
    "[Abrir no Colab este ficheiro para o poder executar](https://colab.research.google.com/github/melroleandro-solidreturn/Matematica-Discreta-para-Hackers/blob/main/Chapter4_Logica_de_predicados.ipynb)\n"
   ]
  },
  {
   "cell_type": "markdown",
   "metadata": {
    "id": "mpC7XzT2Rx9G"
   },
   "source": [
    "\n",
    "## Conjuntos em Python\n",
    "Em Python, um conjunto (set) é uma coleção não ordenada de elementos únicos. Ele é semelhante a uma lista, mas com algumas diferenças importantes, como a falta de ordenação e a exclusividade dos elementos.\n",
    "\n",
    "Os conjuntos são definidos usando chaves {} e contêm elementos separados por vírgulas."
   ]
  },
  {
   "cell_type": "code",
   "execution_count": 31,
   "metadata": {
    "id": "P9ud-BKQR41d"
   },
   "outputs": [
    {
     "name": "stdout",
     "output_type": "stream",
     "text": [
      "{1, 2, 3, 4, 5}\n"
     ]
    }
   ],
   "source": [
    "# Definindo um conjunto\n",
    "meu_conjunto = {1, 2, 3, 4, 5}\n",
    "print(meu_conjunto)  # Saída: {1, 2, 3, 4, 5}"
   ]
  },
  {
   "cell_type": "markdown",
   "metadata": {
    "id": "qUWvGhU_R9H3"
   },
   "source": [
    "### Criando um Conjunto\n",
    "Também podemos criar um conjunto a partir de uma lista usando a função set()."
   ]
  },
  {
   "cell_type": "code",
   "execution_count": 32,
   "metadata": {
    "id": "xQecJfvZSClW"
   },
   "outputs": [
    {
     "name": "stdout",
     "output_type": "stream",
     "text": [
      "{1, 2, 3, 4, 5}\n"
     ]
    }
   ],
   "source": [
    "# Criando um conjunto a partir de uma lista\n",
    "lista = [1, 2, 2, 3, 4, 4, 5]\n",
    "conjunto = set(lista)\n",
    "print(conjunto)  # Saída: {1, 2, 3, 4, 5}"
   ]
  },
  {
   "cell_type": "markdown",
   "metadata": {
    "id": "HvgMcFNcSI30"
   },
   "source": [
    "### Adicionando e Removendo Elementos\n",
    "Para adicionar um elemento a um conjunto, usamos o método add(). Para remover um elemento, usamos o método remove() ou discard()."
   ]
  },
  {
   "cell_type": "code",
   "execution_count": 33,
   "metadata": {
    "id": "l7OKpzQLSNMP"
   },
   "outputs": [
    {
     "name": "stdout",
     "output_type": "stream",
     "text": [
      "{1, 2, 3, 4, 5, 6}\n",
      "{1, 2, 3, 4, 5}\n",
      "{1, 2, 3, 4}\n"
     ]
    }
   ],
   "source": [
    "# Adicionando elementos\n",
    "meu_conjunto.add(6)\n",
    "print(meu_conjunto)  # Saída: {1, 2, 3, 4, 5, 6}\n",
    "\n",
    "# Removendo elementos\n",
    "meu_conjunto.remove(6)\n",
    "print(meu_conjunto)  # Saída: {1, 2, 3, 4, 5}\n",
    "\n",
    "meu_conjunto.discard(5)\n",
    "print(meu_conjunto)  # Saída: {1, 2, 3, 4}"
   ]
  },
  {
   "cell_type": "markdown",
   "metadata": {
    "id": "m8Ukm1cxSSRV"
   },
   "source": [
    "### Verificando a Existência de Elementos\n",
    "Podemos verificar a existência de um elemento em um conjunto usando o operador in."
   ]
  },
  {
   "cell_type": "code",
   "execution_count": 34,
   "metadata": {
    "id": "e8twUp_KSb4G"
   },
   "outputs": [
    {
     "name": "stdout",
     "output_type": "stream",
     "text": [
      "True\n",
      "False\n"
     ]
    }
   ],
   "source": [
    "# Verificando a existência de elementos\n",
    "print(3 in meu_conjunto)  # Saída: True\n",
    "print(6 in meu_conjunto)  # Saída: False"
   ]
  },
  {
   "cell_type": "markdown",
   "metadata": {
    "id": "YGe74ZMWSY2l"
   },
   "source": [
    "### Operações com Conjuntos\n",
    "Os conjuntos em Python suportam várias operações, como união, interseção, diferença e diferença simétrica."
   ]
  },
  {
   "cell_type": "code",
   "execution_count": 35,
   "metadata": {
    "id": "LgwV-4AgSt8U"
   },
   "outputs": [
    {
     "name": "stdout",
     "output_type": "stream",
     "text": [
      "{1, 2, 3, 4, 5, 6}\n",
      "{3, 4}\n",
      "{1, 2}\n",
      "{1, 2, 5, 6}\n"
     ]
    }
   ],
   "source": [
    "conjunto_a = {1, 2, 3, 4}\n",
    "conjunto_b = {3, 4, 5, 6}\n",
    "\n",
    "# União\n",
    "print(conjunto_a.union(conjunto_b))  # Saída: {1, 2, 3, 4, 5, 6}\n",
    "\n",
    "# Interseção\n",
    "print(conjunto_a.intersection(conjunto_b))  # Saída: {3, 4}\n",
    "\n",
    "# Diferença\n",
    "print(conjunto_a.difference(conjunto_b))  # Saída: {1, 2}\n",
    "\n",
    "# Diferença simétrica\n",
    "print(conjunto_a.symmetric_difference(conjunto_b))  # Saída: {1, 2, 5, 6}"
   ]
  },
  {
   "cell_type": "markdown",
   "metadata": {
    "id": "6ZqAArziSiUN"
   },
   "source": [
    "**Exercício 1:** \n",
    "Remoção de Duplicatas\n",
    "\n",
    "Escreva uma função em Python que receba uma lista como entrada e retorne um conjunto contendo os elementos únicos da lista.\n",
    "\n",
    "\n",
    "\n",
    "```\n",
    ">>> remover_duplicatas([1, 2, 2, 3, 4, 4, 5])\n",
    "{1, 2, 3, 4, 5}\n",
    "```\n",
    "\n"
   ]
  },
  {
   "cell_type": "code",
   "execution_count": null,
   "metadata": {
    "id": "o_hAF2tCTxVb"
   },
   "outputs": [],
   "source": []
  },
  {
   "cell_type": "markdown",
   "metadata": {
    "id": "L8FW1iC0Tx-z"
   },
   "source": [
    "**Exercício 2:**  Verificar Pertinência\n",
    "\n",
    "Escreva uma função em Python que receba um número e um conjunto como entrada e retorne True se o número estiver no conjunto e False caso contrário.\n",
    "\n",
    "\n",
    "```\n",
    ">>> verificar_pertinencia(3, {1, 2, 3, 4, 5})\n",
    "True\n",
    ">>> verificar_pertinencia(6, {1, 2, 3, 4, 5})\n",
    "False\n",
    "```\n"
   ]
  },
  {
   "cell_type": "code",
   "execution_count": null,
   "metadata": {
    "id": "Ihzj12eWUHra"
   },
   "outputs": [],
   "source": []
  },
  {
   "cell_type": "markdown",
   "metadata": {
    "id": "Rp9AQuNlUIMC"
   },
   "source": [
    "**Exercício 3:**  Verificar Pertinência\n",
    "\n",
    "Escreva uma função em Python que receba um número e um conjunto como entrada e retorne True se o número estiver no conjunto e False caso contrário.\n",
    "\n",
    "\n",
    "```\n",
    ">>> verificar_pertinencia(3, {1, 2, 3, 4, 5})\n",
    "True\n",
    ">>> verificar_pertinencia(6, {1, 2, 3, 4, 5})\n",
    "False\n",
    "```"
   ]
  },
  {
   "cell_type": "code",
   "execution_count": null,
   "metadata": {
    "id": "gc_6YtlIU-2B"
   },
   "outputs": [],
   "source": []
  },
  {
   "cell_type": "markdown",
   "metadata": {
    "id": "tqF9Q-pkU_R5"
   },
   "source": [
    "**Exercício 4:**  Verificar Pertinência\n",
    "\n",
    "Escreva uma função em Python que receba um número e um conjunto como entrada e retorne True se o número estiver no conjunto e False caso contrário.\n",
    "\n",
    "\n",
    "```\n",
    ">>> verificar_pertinencia(3, {1, 2, 3, 4, 5})\n",
    "True\n",
    ">>> verificar_pertinencia(6, {1, 2, 3, 4, 5})\n",
    "False\n",
    "```"
   ]
  },
  {
   "cell_type": "code",
   "execution_count": null,
   "metadata": {
    "id": "0IguWNLCVPoR"
   },
   "outputs": [],
   "source": []
  },
  {
   "cell_type": "markdown",
   "metadata": {
    "id": "pQU3zCrwVQKh"
   },
   "source": [
    "**Exercício 5:**  Verificar Subconjunto\n",
    "\n",
    "Escreva uma função em Python que receba dois conjuntos como entrada e retorne True se o primeiro conjunto for um subconjunto do segundo conjunto e False caso contrário.\n",
    "\n",
    "\n",
    "```\n",
    ">>> verificar_subconjunto({1, 2}, {1, 2, 3, 4, 5})\n",
    "True\n",
    ">>> verificar_subconjunto({1, 2, 7}, {1, 2, 3, 4, 5})\n",
    "False\n",
    "```"
   ]
  },
  {
   "cell_type": "markdown",
   "metadata": {
    "id": "gDli6RYgK8Tu"
   },
   "source": [
    "Existem muitas afirmações que se fazem em Matemática que não podem ser simbolizadas e analisadas em termos de cálculo proposicional. Para além da complexidade externa introduzida pelas diferentes conectivas, uma afirmação pode conter complexidades internas que advém de palavras tais como ''todo'', ''cada'', ''algum'', etc. as quais requerem uma análise lógica que está para além do cálculo proposicional. Tal análise é o objecto da chamada **Lógica de Predicados**."
   ]
  },
  {
   "cell_type": "markdown",
   "metadata": {
    "id": "O9evftlbK8Tu"
   },
   "source": [
    "## Variáveis\n",
    "No desenvolvimento de qualquer teoria, aparecem muitas vezes afirmações sobre objectos genéricos da teoria, que são representados por letras designadas de **variáveis**.\n",
    "\n",
    "## Predicado\n",
    "Representando por *x* um número inteiro genérico, pode ser necessário analisar (sob o ponto de vista lógico) afirmações do tipo\n",
    "\n",
    "> \"*x* é maior que 3\"\n",
    "\n",
    "Como já foi referido, tal afirmação não é uma proposição: o seu valor lógico tanto pode ser verdade ou falso. Uma afirmação deste tipo denota-se genericamente por *P(x)* para mostrar que $P$ depende da variável $x$, obtendo-se assim, uma **fórmula** com uma **variável livre** *x*. Para evidenciar isso muitas vezes escrevemos:\n",
    "\n",
    "> \"*P(x):x* é maior que 3\"\n",
    "\n",
    "Substituindo *x* em *P(x)* por um dado valor, 6 por exemplo, obtém-se *P(6)* que é uma proposição: *P(6)* é uma proposição verdadeira; *P(2)*, no entanto, é uma proposição falsa. Neste sentido, *P* é designada por **função proposicional** ou **predicado**, e *P(x)* é designada de **expressão proposicional** ou **condição**.\n"
   ]
  },
  {
   "cell_type": "markdown",
   "metadata": {
    "id": "KtcNG9zxWjJg"
   },
   "source": [
    "Exemplo de uma função em Python que avalia a condições \"x é um número par\", onde x é um inteiro."
   ]
  },
  {
   "cell_type": "code",
   "execution_count": 36,
   "metadata": {
    "id": "mwUblh_tWtAm"
   },
   "outputs": [
    {
     "name": "stdout",
     "output_type": "stream",
     "text": [
      "O número 4 é par? True\n",
      "O número 7 é par? False\n"
     ]
    }
   ],
   "source": [
    "def eh_par(x):\n",
    "    \"\"\"\n",
    "    Verifica se um número inteiro x é par.\n",
    "\n",
    "    Parâmetros:\n",
    "    x (int): Número inteiro a ser verificado.\n",
    "\n",
    "    Retorna:\n",
    "    bool: True se x é par, False caso contrário.\n",
    "    \"\"\"\n",
    "    return x % 2 == 0\n",
    "\n",
    "# Exemplo de uso da função\n",
    "numero = 4\n",
    "\n",
    "resultado = eh_par(numero)\n",
    "print(f\"O número {numero} é par? {resultado}\")  # Saída: O número 4 é par? True\n",
    "\n",
    "numero = 7\n",
    "\n",
    "resultado = eh_par(numero)\n",
    "print(f\"O número {numero} é par? {resultado}\")  # Saída: O número 7 é par? False"
   ]
  },
  {
   "cell_type": "markdown",
   "metadata": {
    "id": "9tgMVIypWycH"
   },
   "source": [
    "Neste exemplo, a função eh_par recebe um número inteiro *x* como argumento e verifica se *x* é par. A função retorna True se *x* for par e False caso contrário."
   ]
  },
  {
   "cell_type": "markdown",
   "metadata": {
    "id": "HoE72kmlK8Tv"
   },
   "source": [
    "## Conjuntos de verdade\n",
    "Quando se estudam proposições - fórmulas sem variáveis livres - pode falar-se no seu valor lógico de verdade ou falsidade. Mas se uma fórmula contiver variáveis livres (uma ou mais) então não poderá falar-se no seu valor lógico e dizer simplesmente que tal fórmula é verdadeira ou falsa. O seu valor lógico depende do valor atribuído à variável (ou variáveis). A tais predicados associam-se então os chamados **conjuntos de verdade** que são os conjuntos de valores para os quais *p(x)* é verdadeira. Escreve-se com este sentido\n",
    "\n",
    "$$\n",
    "A=\\{x:P(x)\\}\n",
    "$$\n",
    "\n",
    "o que se lê da seguinte forma: *A* é o conjunto cujos elementos satisfazem *P(x)* ou para os quais *P(x)* é verdadeira. Observe-se que, reciprocamente, dado um conjunto *A* qualquer, pode sempre definir-se uma fórmula com variáveis livres que tem *A* por conjunto de verdade. Isso pode ser feito, por exemplo, pelo predicado\n",
    "\n",
    "$$\n",
    "P_A(x):''x\\in A''\n",
    "$$\n",
    "\n",
    "e portanto\n",
    "\n",
    "$$\n",
    "A=\\{x:P_A(x)\\}.\n",
    "$$"
   ]
  },
  {
   "cell_type": "markdown",
   "metadata": {
    "id": "9n2lF3_aXgBW"
   },
   "source": [
    "## Conjuntos Definidos por Compreensão em Python\n",
    "Em Python, os conjuntos definidos por compreensão permitem criar conjuntos de forma concisa usando uma expressão e um ou mais iteradores. A sintaxe básica para definir um conjunto por compreensão é:\n",
    "\n",
    "\n",
    "\n",
    "```\n",
    "{expressão for iterador in iterable}\n",
    "```\n",
    "\n",
    "Onde:\n",
    "\n",
    "- expressão é o valor a ser adicionado ao conjunto.\n",
    "- iterador é uma variável que assume cada valor do iterable.\n",
    "- iterable é uma sequência de elementos (como uma lista, uma tupla, ou um intervalo).\n",
    "\n",
    "**Exemplo 1:** Criando um conjunto de números quadrados"
   ]
  },
  {
   "cell_type": "code",
   "execution_count": 37,
   "metadata": {
    "id": "hGt8A-e0XCgn"
   },
   "outputs": [
    {
     "name": "stdout",
     "output_type": "stream",
     "text": [
      "{0, 1, 64, 4, 36, 9, 16, 49, 81, 25}\n"
     ]
    }
   ],
   "source": [
    "quadrados = {x * x for x in range(10)}\n",
    "print(quadrados)  # Saída: {0, 1, 4, 9, 16, 25, 36, 49, 64, 81}"
   ]
  },
  {
   "cell_type": "markdown",
   "metadata": {
    "id": "4PKK00tcXyaY"
   },
   "source": [
    "Neste exemplo, estamos criando um conjunto quadrados que contém os quadrados dos números de 0 a 9.\n",
    "\n",
    "**Exemplo 2:** Criando um conjunto de vogais em uma string"
   ]
  },
  {
   "cell_type": "code",
   "execution_count": 38,
   "metadata": {
    "id": "ZthYiTarX1FP"
   },
   "outputs": [
    {
     "name": "stdout",
     "output_type": "stream",
     "text": [
      "{'u', 'i', 'a', 'e', 'o'}\n"
     ]
    }
   ],
   "source": [
    "frase = \"Python é uma linguagem de programação\"\n",
    "vogais = {letra for letra in frase if letra in 'aeiouAEIOU'}\n",
    "print(vogais)  # Saída: {'a', 'e', 'i', 'o', 'u'}"
   ]
  },
  {
   "cell_type": "markdown",
   "metadata": {
    "id": "lkSc1RC_X392"
   },
   "source": [
    "Neste exemplo, estamos criando um conjunto vogais que contém as vogais presentes na string frase.\n",
    "\n",
    "**Exemplo 3:** Criando um conjunto de números pares em uma lista"
   ]
  },
  {
   "cell_type": "code",
   "execution_count": 39,
   "metadata": {
    "id": "uYI47A-QX68Y"
   },
   "outputs": [
    {
     "name": "stdout",
     "output_type": "stream",
     "text": [
      "{2, 4, 6, 8, 10}\n"
     ]
    }
   ],
   "source": [
    "numeros = [1, 2, 3, 4, 5, 6, 7, 8, 9, 10]\n",
    "pares = {x for x in numeros if x % 2 == 0}\n",
    "print(pares)  # Saída: {2, 4, 6, 8, 10}"
   ]
  },
  {
   "cell_type": "markdown",
   "metadata": {
    "id": "aWdGHZLgX9oI"
   },
   "source": [
    "Neste exemplo, estamos criando um conjunto pares que contém os números pares da lista numeros."
   ]
  },
  {
   "cell_type": "markdown",
   "metadata": {
    "id": "DDuGfOJYK8Tw"
   },
   "source": [
    "### Paradoxo de Russel\n",
    "\n",
    "Neste contexto a existência dum **conjunto universal** $\\{x: x=x\\}$ e dum **conjunto vazio** $\\{x:x\\neq x\\}$ intuitivamente podem parecer razoáveis. No entanto, podem conduzir a situações paradoxais, como deu conta Bertrand Russel, por volta de 1901.\n",
    "\n",
    "Russel começou por notar que se se adoptar a concepção intuitiva de conjunto, pode dizer-se que alguns conjuntos são membros de si próprios enquanto outros não o são. Um conjunto de cadeiras, por exemplo não é uma cadeira, não sendo assim um elemento de si próprio; no entanto, o conjunto de todas as ideias abstractas é, ele próprio, uma ideia abstracta, pelo que pertence a si própria. As propriedades \"ser elemento de si próprio\" e \"não ser membro de si próprio\" parecem assim ser propriedades perfeitamente adequadas para definir conjuntos.\n",
    "\n",
    "Seja $R$ o conjunto de todos os conjuntos que não estão contidos em si próprio. Formalmente seja\n",
    "\n",
    "$$\n",
    "R=\\{x:x\\not\\in x\\}.\n",
    "$$\n",
    "\n",
    "Os problemas surgem quando nos questionamos se $R$ é elemento ou não de $R$. Porque:\n",
    "1. Supondo que $R\\in R$ temos por definição de $R$ que $R\\not \\in R$,\n",
    "1. Supondo que $R\\not \\in R$ temos por definição de $R$ que $R \\in R$.\n",
    "Assim, a proposição $R \\in R$ não tem valor lógico definido na Lógica Clássica contradizendo o *Princípio do terceiro excluído*.\n",
    "\n",
    "Para evitar este tipo de problema vamos supor que todos os conjuntos considerados são constituídos por elementos de um conjunto $ U$ suficientemente grande, chamado **conjunto universal** ou **universo de discurso**. Neste sentido, um conjunto é uma entidade do tipo\n",
    "\n",
    "$$\n",
    "\\{x\\in U:P(x)\\}\n",
    "$$\n",
    "\n",
    "onde supomos que o predicado *P* está definido para todo o valor de *x* em $U$.\n",
    "\n",
    "A ideia de um conjunto universal estará sempre presente, mesmo quando não seja explicitamente mencionado.\n"
   ]
  },
  {
   "cell_type": "markdown",
   "metadata": {
    "id": "J7qe0wpaK8Tw"
   },
   "source": [
    "## Universo de discurso\n",
    "A atribuição de valores às variáveis duma condição $P(x_1,x_2,\\ldots,x_n)$ permite definir proposições. No entanto\n",
    "esta atribuição é limitada a um conjunto de valores do **universo de discurso** do predicado.\n",
    "\n",
    "**Exemplo 4:**\n",
    "Temos por exemplo:\n",
    "1. $x=x$ tem por exemplos de universo de discurso: $\\mathbb{R},\\mathbb{N},\\mathbb{Q}$ ou $\\mathbb{C}$.\n",
    "1. $\\sqrt{y}\\geq 4$ tem por exemplos de universo de discurso: $\\mathbb{Q}^+,\\mathbb{R}^+$\n",
    "1. $\\frac{1}{x}>3$ tem como possível universo de discurso por exemplo o conjunto dos reais diferentes de zero."
   ]
  },
  {
   "cell_type": "markdown",
   "metadata": {
    "id": "8EDUMMXKYd_E"
   },
   "source": [
    "No exemplo 3, o universo de discurso do predicado é o conjunto dos números inteiros contidos na lista numeros, que é:\n",
    "\n",
    "\n",
    "\n",
    "```\n",
    "{1, 2, 3, 4, 5, 6, 7, 8, 9, 10}\n",
    "```\n",
    "\n",
    "No contexto do predicado \"*x* é um número par\", o universo de discurso é o conjunto de todos os números inteiros na lista numeros."
   ]
  },
  {
   "cell_type": "markdown",
   "metadata": {
    "id": "lL7Tcu49K8Tw"
   },
   "source": [
    "## Predicados impossíveis, possíveis e universais\n",
    "Podemos assim classificar as expressões proposicionais em\n",
    "1. \\textbf{Impossíveis}, se não existem valores da variável, ou variáveis, no universo, ou universos, que a transformam numa proposição verdadeira.\n",
    "+ \\textbf{Possíveis}, se existem valores das variáveis no universo de discurso que a transformam numa proposição verdadeira. Podemos assim distinguir entre proposições:\n",
    "     1. **Universais**, se são predicados verificados para todos os valores que as variáveis podem assumir no universo,\n",
    "     1.  **Contingentes (ou não universais)**, se não são predicados verificadas para todos os valores das variáveis.\n",
    "\n",
    "**Exemplo 5:**\n",
    "Temos por exemplo:\n",
    "1. $x^2+y^2>-4$, com $x\\in \\mathbb{R}$ e $y\\in \\mathbb{R}$, é condição universal;\n",
    "1. $2n+1>0$ é condição universal em $\\mathbb{N}$;\n",
    "1. $|x|+|y|>0$, com $x$ e $y$ reais, é condição contingente, pois não é satisfeita com $x=0$ e $y=0$;\n",
    "1. $n^2>5$ é condição contingente em $\\mathbb{N}$, pois é condição possível não universal."
   ]
  },
  {
   "cell_type": "markdown",
   "metadata": {
    "id": "m5zRmjJsK8Tx"
   },
   "source": [
    "## Conjuntos de verdade e conectivas lógicas\n",
    "uponha-se que $A$ é o conjunto de verdade da expressão proposicional $P(x)$ e $B$ é o conjunto de verdade da expressão proposicional $Q(x)$ no universo de discurso $U$. Então\n",
    "\n",
    "$$\n",
    "A=\\{x\\in U:P(x)\\}\n",
    "$$\n",
    "\n",
    "$$\n",
    "B=\\{x\\in U:Q(x)\\}\n",
    "$$\n",
    "\n",
    "O conjunto de verdade da fórmula $P(x)\\wedge Q(x)$ é tal que\n",
    "\n",
    "$$\n",
    "\\{x\\in U:P(x)\\wedge Q(x)\\}=A\\cap B\n",
    "$$\n",
    "\n",
    "De modo semelhante,\n",
    "\n",
    "$$\n",
    "\\{x\\in U:P(x)\\vee Q(x)\\}=A\\cup B\n",
    "$$\n",
    "\n",
    "**Exemplo 6:**\n",
    "Sendo $A=\\{x\\in U:P(x)\\}$ e $B=\\{x\\in U:Q(x)\\}$.\n",
    "Determine os conjuntos de verdade das expressões proposicionais:\n",
    "1. $\\neg P(x)$\n",
    "1. $\\neg Q(x)$\n",
    "1. $P(x)\\wedge (\\neg Q(x))$\n",
    "1. $P(x)\\rightarrow Q(x)$\n",
    "1. $P(x)\\leftrightarrow Q(x)$\n"
   ]
  },
  {
   "cell_type": "markdown",
   "metadata": {
    "collapsed": true,
    "id": "LxjQ02zVK8Tx",
    "jupyter": {
     "outputs_hidden": true
    }
   },
   "source": [
    "## O quantificador universal\n",
    "\n",
    "Como se referiu acima, uma fórmula $P(x)$, contendo uma variável $x$, pode ser verdadeira para alguns valores de $x$ pertencentes ao universo do discurso, e falsa para outros. Por vezes pretende-se dizer que uma dada fórmula $P(x)$ se verifica para todos os elementos $x$ do universo, i.e. $\\{x\\in U:P(x)\\}=U$. Escreve-se então\n",
    "\n",
    "\"para todo o $x$, $P(x)$\"\n",
    "\n",
    "o que se representa, simbolicamente, por\n",
    "\n",
    "$$\n",
    "\\forall x\\; P(x).\n",
    "$$\n",
    "\n",
    "O símbolo $\\forall$ é designado por quantificador universal. A fórmula anterior diz que $P(x)$ se verifica para todo o elemento $x$ ou que $P(x)$ se verifica universalmente. Sendo $U$ o universo de discurso, escrever $\\forall x\\; P(x)$ é equivalente a\n",
    "\n",
    "$$\n",
    "\\forall x[x\\in U\\rightarrow P(x)].\n",
    "$$\n",
    "\n",
    "A quantificação universal pode ser feita apenas sobre uma parte de $U$. Assim, se $D$ designar um subconjunto próprio de $U$ e $P(x)$ for uma fórmula com uma variável cujo domínio é $D$, então\n",
    "\n",
    "$$\n",
    "\\forall x\\in D: P(x) \\text{ ou } \\forall x\\;[x\\in D\\rightarrow P(x)]\n",
    "$$\n",
    "\n",
    "afirma que $P(x)$ se verifica para todo o $x\\in D$."
   ]
  },
  {
   "cell_type": "markdown",
   "metadata": {
    "id": "C7khtvWvK8Tx"
   },
   "source": [
    "**Exemplo 7:**\n",
    "Podemos assim avaliar as proposições abaixo:\n",
    " - $\\forall x(x=x)$ é verdade em $\\mathbb{R}$;\n",
    " - $\\forall x\\in \\mathbb{R}\\forall y\\in \\mathbb{R}:x^2+y^2>-4$ é verdadeira;\n",
    " - $\\forall n\\in \\mathbb{N}:2n+1>0$ é verdadeira;\n",
    " - $\\forall x\\forall y(|x|+|y|>0)$, é falsa no universo dos reais, pois não é satisfeita com $x=0$ e $y=0$;\n",
    " - $\\forall n\\in \\mathbb{N}:n^2>5$ é falsa.\n",
    "  \n",
    "Note que, caso $D$ seja um conjunto finito, por exemplo\n",
    "\n",
    "$$\n",
    "D=\\{a_1,a_2,\\ldots,a_n\\}\n",
    "$$\n",
    "\n",
    "escrever\n",
    "\n",
    "$$ \n",
    "\\forall x\\in D: P(x)\n",
    "$$\n",
    "\n",
    "é logicamente equivalente à conjunção\n",
    "\n",
    "$$\n",
    "P(a_1)\\wedge P(a_2)\\wedge\\ldots\\wedge P(a_n)\n",
    "$$\n",
    "\n",
    "o que mostra que a proposição não tem variáveis livres, tratando-se, portanto duma proposição. O mesmo significado pode ser dado no caso em que $D$ é um conjunto infinito correspondendo, neste caso, a um número infinito de conjunções.\n",
    "\n",
    "**Exemplo 8:**\n",
    "Note-se que a proposição\n",
    "$\\forall x\\in \\{2,6,12,34\\}:\\;x\\;$é um número par,\n",
    "é uma proposição verdadeira e equivalente a escrever\n",
    "(2 é um número par)$\\wedge$(6 é um número par)$\\wedge$(12 é um número par)$\\wedge$(34 é um número par)"
   ]
  },
  {
   "cell_type": "markdown",
   "metadata": {
    "id": "U95BmAB5K8Ty"
   },
   "source": [
    "## O quantificador existencial\n",
    "Por outro lado, escreve-se\n",
    "\n",
    "$$\n",
    "\\exists x\\; P(x)\n",
    "$$\n",
    "\n",
    "para significar que existe (no universo do discurso) pelo menos um elemento $x$ para o qual $P(x)$ se verifica, i.e. $\\{x\\in U:P(x)\\}\\neq\\emptyset$, o que se pode ler:\n",
    "\n",
    "\"existe pelo menos um $x$ tal que $P(x)$\".\n",
    "\n",
    "A fórmula $\\exists x\\; P(x)$ é uma abreviatura (usada normalmente) para a expressão\n",
    "\n",
    "$$\n",
    "\\exists x\\;[x\\in U \\wedge P(x)],\n",
    "$$\n",
    "\n",
    "onde $U$ designa o universo do discurso. O símbolo $\\exists$ é chamado de \\textbf{quantificador existencial}.\n",
    "\n",
    "Se $D$ for um subconjunto de $U$ e $P(x)$ for uma fórmula com uma variável cujo domínio é $D$, então escrevemos\n",
    "\n",
    "$$\n",
    "\\exists x\\in D: P(x)\\text{ ou }\\exists x\\;[x\\in D \\wedge P(x)].\n",
    "$$\n",
    "\n",
    "Supondo que $D$ é o conjunto finito,\n",
    "\n",
    "$$\n",
    "D=\\{a_1,a_2,\\ldots,a_n\\},\n",
    "$$\n",
    "\n",
    "escrever\n",
    "\n",
    "$$\n",
    "\\exists x\\in D: P(x),\n",
    "$$\n",
    "\n",
    "é logicamente equivalente à disjunção\n",
    "\n",
    "$$\n",
    "P(a_1)\\vee P(a_2)\\vee\\ldots\\vee P(a_n),\n",
    "$$\n",
    "\n",
    "o que mostra que tal fórmula não tem variáveis livres, sendo, portanto, uma proposição. O mesmo significado pode ser dado no caso em que $D$ é um conjunto infinito, envolvendo neste caso infinitas disjunções.\n",
    "**Exemplo 9:**\n",
    "Assim, as fórmulas abaixo são proposições\n",
    "1.  $\\exists x(x^2=4)$ é verdade em $\\mathbb{R}$;\n",
    "1. $\\exists x\\in \\mathbb{R}\\exists y\\in \\mathbb{R}:x^2+y^2=0$ é verdadeira;\n",
    "1. $\\exists n\\in \\mathbb{N}:2n+1>0$ é verdadeira;\n",
    "1. $\\exists y\\forall x(|x|+|y|>0)$, é verdadeira em $\\mathbb{R}$;\n",
    "1. $\\exists x\\in \\mathbb{R}:x^2=-4$ é falsa.\n",
    "\n",
    "**Exemplo 10:**\n",
    "Note-se que a proposição:\n",
    "$\\exists x\\in \\{2,6,11,34\\}:\\;x\\;$é ímpar,\n",
    "é uma proposição verdadeira e equivalente a escrever:\n",
    "(2 é ímpar)$\\vee$(6 é ímpar)$\\vee$(11 é ímpar)$\\vee$(34 é ímpar).\n"
   ]
  },
  {
   "cell_type": "markdown",
   "metadata": {
    "id": "aC0MT0lCK8Ty"
   },
   "source": [
    "## O universo vazio\n",
    "Por uma questão de generalidade interessa considerar também o caso em que o domínio da variável da fórmula proposicional $P(x)$ é o conjunto vazio. Que valor lógico terão expressões da forma\n",
    "\n",
    "$$\n",
    "\\forall x\\;[x\\in \\emptyset\\rightarrow P(x)]\\text{ e } \\exists x\\;[x\\in \\emptyset\\wedge P(x)]?\n",
    "$$\n",
    "\n",
    "Na primeira expressão a implicação é sempre verdadeira quando o antecedente é falso: é o que acontece aqui. Visto que $x\\in \\emptyset$ é sempre falso, então\n",
    "\n",
    "$$\n",
    "\\forall x\\;[x\\in \\emptyset\\rightarrow P(x)]\n",
    "$$\n",
    "\n",
    "é uma proposição sempre verdadeira. Quando à segunda expressão ela tem a forma de uma conjunção de proposições, das quais uma é sempre falsa. Então,\n",
    "\n",
    "$$\n",
    "\\exists x\\;[x\\in \\emptyset\\wedge P(x)]\n",
    "$$\n",
    "\n",
    "é uma proposição sempre falsa.\n",
    "\n",
    "**Exemplo 11:**\n",
    "Note-se que assim a proposição\n",
    "\n",
    "$$\n",
    "\\exists x\\in \\{\\}:\\;x\\;\\text{é ímpar},\n",
    "$$\n",
    "\n",
    "é uma proposição falsa, e\n",
    "\n",
    "$$\n",
    "\\forall x\\in \\{\\}:\\;x\\;\\text{é ímpar},\n",
    "$$\n",
    "\n",
    "é uma proposição verdadeira.\n",
    "\n",
    "\n",
    "\n",
    "\n"
   ]
  },
  {
   "cell_type": "markdown",
   "metadata": {
    "id": "p3veyNpCK8Ty"
   },
   "source": [
    "## Existe um e um só $\\ldots$\n",
    "Por vezes emprega-se o quantificador existencial numa situação simultânea de unicidade e existência, ou seja, quer afirmar se não só que\n",
    "\n",
    "$$\n",
    "\\exists x\\; P(x)\n",
    "$$\n",
    "\n",
    "mas ainda que a fórmula $P(x)$ se transforma numa proposição verdadeira para um e só para um elemento do domínio de quantificação, i.e. $\\sharp\\{x\\in U:P(x)\\}=1$. Neste caso empregam-se as abreviaturas\n",
    "\n",
    "$$\n",
    "\\exists! x\\; P(x) \\text{ ou }\\exists^1 x\\; P(x)\n",
    "$$\n",
    "\n",
    "que significa\n",
    "\n",
    "\n",
    "''**existe um e um só** $x$ tal que $P(x)$''.\n",
    "\n",
    "**Exemplo 12:**\n",
    "Assim\n",
    "1. $\\exists^1x\\in \\mathbb{N}:x^2=4$ é uma proposição verdadeira;\n",
    "1. $\\exists^1x\\in \\mathbb{Z}:x^2=4$ é uma proposição falsa;\n",
    "\n",
    "**Exemplo 13:**\n",
    "Assim a proposição\n",
    "\n",
    "$$\n",
    "\\exists^1 x\\in \\{1,2,3,4,5\\}:\\;x\\;\\text{é ímpar},\n",
    "$$\n",
    "\n",
    "é uma proposição falsa, e\n",
    "\n",
    "$$\n",
    "\\exists^1 x\\in \\{2,3,4\\}:\\;x\\;\\text{é ímpar},\n",
    "$$\n",
    "\n",
    "é uma proposição verdadeira."
   ]
  },
  {
   "cell_type": "markdown",
   "metadata": {
    "id": "hil3_nqfK8Ty"
   },
   "source": [
    "## Variáveis ligadas\n",
    "Observe-se que enquanto a fórmula $P(x)$ tem uma variável livre, $x$, as fórmulas $\\forall x\\; P(x)$ e $\\exists x\\; P(x)$ não têm qualquer variável livre: nestas fórmulas $x$ é sempre uma *variável ligada* (ou *muda*). Trata-se então de proposições, relativamente às quais se pode afirmar que são verdadeiras ou falsas (mas não ambas as coisas).\n",
    "\n",
    "**Exemplo 14:**\n",
    "Seja $\\mathbb{N}=\\{1,2,3,4,\\ldots\\}$, $P(x)$ a afirmação ''$x$ é par'', $Q(x)$ a afirmação ''$x$ é divisível por 3'' e $R(x)$ a afirmação ''$x$ é divisível por 4''. Expressar em linguagem corrente cada uma das proposições que se seguem e determinar o seu valor lógico.\n",
    "1. $\\forall x\\in \\mathbb{N}:P(x)$\n",
    "1. $\\forall x\\in \\mathbb{N}:P(x)\\vee Q(x)$\n",
    "1. $\\forall x\\in \\mathbb{N}:P(x)\\rightarrow Q(x)$\n",
    "1. $\\forall x\\in \\mathbb{N}:P(x)\\vee R(x)$\n",
    "\n",
    "**Exemplo 15:**\n",
    "Indicar se as proposições são sempre, às vezes ou nunca verdadeiras.\n",
    "1. $(\\forall x\\in D:P(x))\\Rightarrow (\\exists x\\in D:P(x))$\n",
    "1. $(\\exists x\\in D:P(x))\\Rightarrow (\\forall x\\in D:P(x))$\n",
    "1. $(\\forall x\\in D:\\neg P(x))\\Rightarrow \\neg(\\forall x\\in D:P(x))$"
   ]
  },
  {
   "cell_type": "markdown",
   "metadata": {
    "id": "-qZyh6DuK8Tz"
   },
   "source": [
    "## Quantificadores múltiplos\n",
    "\n",
    "Uma fórmula matemática pode ter mais de que uma variável. Considere-se, por exemplo, a afirmação:\n",
    "\n",
    "''para cada número inteiro par $n$ existe um número inteiro $k$ para o qual se verifica a igualdade $n=2k$''\n",
    "\n",
    "Denotando por $P(n,k)$ a fórmula $n=2k$ e por $\\mathbb{P}$ o conjunto dos números inteiros pares, a afirmação pode ser assim apresentada simbolicamente por\n",
    "\n",
    "$$\n",
    "\\forall n\\in \\mathbb{P}\\exists k\\in \\mathbb{Z}:P(n,k)\n",
    "$$\n",
    "\n",
    "ou\n",
    "\n",
    "$$\n",
    "\\forall n[n\\in \\mathbb{P}\\rightarrow \\exists k[k\\in \\mathbb{Z}\\wedge P(n,k)]]\n",
    "$$\n",
    "\n",
    "que constitui uma proposição verdadeira. Outro exemplo de uma proposição com dois quantificadores é\n",
    "\n",
    "$$\n",
    "\\forall x \\exists y\\; x+y=0\n",
    "$$\n",
    "\n",
    "onde o domínio de quantificação é o conjunto dos números reais. Em linguagem corrente, escrever-se-ia\n",
    "\n",
    "''para todo o número real $x$ existe um número real $y$ tal que $x+y=0$''\n",
    "\n",
    "que constitui uma proposição verdadeira (sendo $y=-x$ para cada $x\\in\\mathbb{R}$). Se trocarmos os quantificadores obter-se-á\n",
    "\n",
    "$$\n",
    "\\exists y \\forall x \\; x+y=0\n",
    "$$\n",
    "\n",
    "que significa:\n",
    "\n",
    "''existe um número real $y$ tal que para todo o número real $x$ se tem $x+y=0$''\n",
    "\n",
    "Esta proposição é falsa pois não existe número real $y$, sempre o mesmo, para o qual todo o número real $x$ satisfaz a equação dada.\n",
    "\n",
    "Estes exemplos ilustram a *não comutatividade* dos quantificadores universal, $\\forall$, e existencial, $\\exists$.\n",
    "\n",
    "É importante notar que a *ordem* dos quantificadores é\n",
    "relevante:\n",
    "\n",
    "\n",
    " Proposição | É verdadeira se: | É falsa se:\n",
    " -----------|------------------|-------------\n",
    "$\\forall x\\forall yP(x,y)$ | $P(x,y)$ é verdadeira para  todo o par $x,y$.| Existe um par $x,y$ para o qual $P(x,y)$ é falso.\n",
    "$\\forall x\\exists yP(x,y)$ | Para todo $x$ existe um $y$ para o qual $P(x,y)$ é verdadeira. | Existe um $x$ tal que $P(x,y)$ é falso para todo $y$.\n",
    "$\\exists x\\forall yP(x,y)$ | Existe um $x$ para o qual $P(x,y)$ é verdadeira para todo $y$.| Para todo $x$ existe um $y$ tal que $P(x,y)$ é falso.\n",
    "$\\exists x\\exists yP(x,y)$ | Existe um par $x,y$ para o qual $P(x,y)$ | $P(x,y)$ é falso para todo o par $x,y$.\n",
    "\n",
    "Mais geralmente, uma fórmula pode ter $n$ variáveis\n",
    "\n",
    "$$\n",
    "P(x_1,x_2,\\ldots,x_n).\n",
    "$$\n",
    "\n",
    "Para transformar uma fórmula deste tipo numa proposição são necessários $n$ quantificadores. Denotando um quantificador genérico (universal ou existencial) por $Q$, então\n",
    "\n",
    "$$\n",
    "Qx_1Qx_2\\ldots Qx_nP(x_1,x_2,\\ldots,x_n\n",
    "$$\n",
    "\n",
    "é uma proposição. **Dois quantificadores da mesma espécie são sempre comutativos enquanto que dois quantificadores de espécies diferentes são geralmente não comutativos.**\n",
    "\n",
    "**Exercício 6:** \n",
    "Seja $Q(x,y,z)$ a expressão \"$x+y=z$\". Determine o valor de verdade\n",
    "das proposições no conjunto dos números inteiros:\n",
    "1. $\\forall x\\forall y \\exists zQ(x,y,z)$\n",
    "1. $\\exists z\\forall x\\forall yQ(x,y,z)$\n"
   ]
  },
  {
   "cell_type": "markdown",
   "metadata": {
    "id": "qJnYinr1K8Tz"
   },
   "source": [
    "## Negação de proposições Quantificadas (Segundas Leis de De Morgan)\n",
    "Resumindo:\n",
    "\n",
    "Proposição | Quando é verdadeira? | Quando é falsa?\n",
    "------------|--------------------|-----------------\n",
    "$\\forall xP(x)$ | $P(x)$ é verdadeiro para todo o $x$ | Existe um $x$ para o qual $P(x)$ é falso\n",
    "$\\exists xP(x)$ | Existe um $x$ para o qual $P(x)$ é verdadeiro | $P(x)$ é falso para todo o $x$\n",
    "\n",
    "Dadas as proposições com quantificadores\n",
    "\n",
    "$$\n",
    "\\forall x[x\\in U\\rightarrow P(x)]\\text{ e } \\exists x [x\\in U\\wedge P(x)]\n",
    "$$\n",
    "\n",
    "pode ser necessário analisar (logicamente) as proposições\n",
    "\n",
    "$$\n",
    "\\neg(\\forall x[x\\in U\\rightarrow P(x)])\\text{ e } \\neg(\\exists x [x\\in U\\wedge P(x)])\n",
    "$$\n",
    "\n",
    "Tendo em conta que $p\\rightarrow \\neg q$ é equivalente a $\\neg(p\\wedge q)$, então\n",
    "\n",
    "$$\n",
    "\\neg(\\exists x [x\\in U\\wedge P(x)])\\Leftrightarrow \\forall x\\;\\neg[x\\in U\\wedge P(x)]\\Leftrightarrow \\forall x\\; [x\\in U\\Rightarrow \\neg P(x)]\n",
    "$$\n",
    "\n",
    "De modo semelhante, pode verificar-se que\n",
    "\n",
    "$$\n",
    "\\neg(\\forall x[x\\in U\\rightarrow P(x)])\n",
    "$$\n",
    "\n",
    "equivale a\n",
    "\n",
    "$$\n",
    "\\exists x \\neg[x\\in U\\rightarrow P(x)]\\Leftrightarrow \\exists x [x\\in U\\wedge \\neg P(x)]\n",
    "$$\n",
    "\n",
    "Em resumo, de um modo genérico, têm-se as equivalências\n",
    "\n",
    "$$\n",
    "\\neg(\\forall x\\; P(x))\\Leftrightarrow \\exists x\\; \\neg P(x)\n",
    "$$\n",
    "\n",
    "$$\n",
    "\\neg(\\exists x\\; P(x))\\Leftrightarrow \\forall x\\; \\neg P(x)\n",
    "$$\n",
    "\n",
    "conhecidas por **Segundas Leis De Morgan**.\n",
    "\n",
    "**Exemplo 16:**\n",
    "Usando estas propriedades temos por exemplo:\n",
    "1. $\\neg\\neg \\forall x P(x)\\Leftrightarrow \\neg \\exists x (\\neg P(x))\\Leftrightarrow \\forall x (\\neg\\neg P(x)) \\Leftrightarrow \\forall x P(x)$;\n",
    "1. $\\neg\\neg \\exists x P(x)\\Leftrightarrow \\neg \\forall x (\\neg P(x))\\Leftrightarrow \\exists x (\\neg\\neg P(x)) \\Leftrightarrow \\exists x P(x)$;\n",
    "1. $\\neg\\forall x\\forall y P(x,y)\\Leftrightarrow \\exists x\\neg\\forall y P(x,y)\\Leftrightarrow \\exists x\\exists y (\\neg P(x,y))$;\n",
    "1. $\\neg\\exists x\\forall y P(x,y)\\Leftrightarrow \\forall x\\neg\\forall y P(x,y)\\Leftrightarrow \\forall x\\exists y (\\neg P(x,y))$.\n",
    "\n"
   ]
  },
  {
   "cell_type": "markdown",
   "metadata": {
    "collapsed": true,
    "id": "5Vsa4IayK8Tz",
    "jupyter": {
     "outputs_hidden": true
    }
   },
   "source": [
    "## Exercícios de Python"
   ]
  },
  {
   "cell_type": "markdown",
   "metadata": {
    "id": "iUB-gKPcK8Tz"
   },
   "source": [
    "**Exercício 7:** \n",
    "Apresente um script em python que liste os números entre 0 e 100:\n",
    "1. divisíveis por 3;\n",
    "2. ímpares;\n",
    "3. múltiplos de 4;\n",
    "4. cuja soma por 3 é múltipla de 3;\n",
    "5. cuja soma por 2 é divisível por 3;"
   ]
  },
  {
   "cell_type": "markdown",
   "metadata": {
    "id": "nvBcroIvK8Tz"
   },
   "source": [
    "**Exercício 8:** \n",
    "Apresente um script em python que liste os números entre 0 e 100:\n",
    "1. não são divisíveis por 7 ou 3 ou 2;\n",
    "2. não são divisíveis por 7 ou 5 ou 3;\n",
    "3. não são divisíveis por 5 ou 3 ou 2;"
   ]
  },
  {
   "cell_type": "markdown",
   "metadata": {
    "id": "mtLQ9adSK8Tz"
   },
   "source": [
    "**Exercício 9:** \n",
    "Apresente um script em python que liste os números entre 0 e 100:\n",
    "1. múltiplos de 4 que não são divisíveis por 3 ou 5;\n",
    "2. múltiplos de 2 que não são divisíveis por 3 ou 5;\n",
    "3. múltiplos de 3 que não são divisíveis por 2 ou 5;"
   ]
  },
  {
   "cell_type": "markdown",
   "metadata": {
    "id": "xQkJpXpNK8T0"
   },
   "source": [
    "**Exercício 10:** \n",
    "São exemplos de palavras simétricas 'abba','a','aa','aba' ou 'aabbaa', não são palavras simétricas 'ab','abca'.\n",
    "1. Crie uma função booleana sim(str)-> bool que devolve True se a string define uma palavra simétrica.\n",
    "2. Crie uma função booleana notsim(str)-> bool que devolve True se a string define uma palavra não simétrica de comprimento ímpar.\n",
    "3. Crie uma função inteira psim(stri)-> int que devolve o índice do caracter que define a posição de simetria. Por exemplo psim('abbba') == 2, psim('abbxhxba') == 4, mas que para palavras pares ou não simétricas devolve -1, ou seja psim('abba') == -1, e psim('abbca') == -1.\n"
   ]
  },
  {
   "cell_type": "markdown",
   "metadata": {
    "id": "IBBPA7r8K8T0"
   },
   "source": [
    "**Exercício 11:** \n",
    "Crie funções $sopa(str)->$, poe cada alínea, que dada uma string imprima uma tabela como descrita abaixo:\n",
    "1. Dada a palavra faça o shift para a direita\n",
    "```python\n",
    "     >>>  sopa('abcdef')\n",
    "     abcdef\n",
    "     bcdefa\n",
    "     cdefab\n",
    "     defabc\n",
    "     efabcd\n",
    "     fabcde\n",
    "```    \n",
    "2. Para palavras de comprimento par, faça shift ao centro\n",
    "```python\n",
    "     >>>  sopa('abcdef')\n",
    "     abcdef\n",
    "     bcafde\n",
    "     cabefd\n",
    "```        \n",
    "3. Para palavras de comprimento par, inverte no centro\n",
    "```python\n",
    "    >>>  sopa('abcdef')\n",
    "    abcdef\n",
    "    bcfade\n",
    "    cfebad\n",
    "    fedcba\n",
    "```"
   ]
  },
  {
   "cell_type": "markdown",
   "metadata": {
    "id": "w3a8Uok4K8T0"
   },
   "source": [
    "**Exercício 12:** \n",
    "\n",
    "Os gráficos tartaruga são uma forma comum de iniciar as crianças na programação. Foi parte da linguagem de programação Logo, desenvolvida por Wally Feurzig e Seymour Papert em 1966. Em Python este fragmento da linguagem Logo pode ser usada recorrendo ao modulo **turtle**.\n",
    "\n",
    "Imagine um robot tartaruga, que está posicionado no plano cartesiano na posição de coordenadas $(0,0)$. Através do comando  turtle.fd(15) a tartaruga move-se para a frente 15 pontos, deixando como rasto uma linha. O comando turtle.lt(90) faz com que a tartaruga rode para a esquerda 90 grau, já turtle.rt(50) faz com que ela rode para a direita 50 graus.\n",
    "\n",
    "Por exemplo:\n",
    "```python\n",
    "# Install ColabTurtle package\n",
    "!pip3 install ColabTurtle\n",
    "\n",
    "# Import ColabTurtle module\n",
    "import ColabTurtle.Turtle as turtle\n",
    "\n",
    "# Initialize turtle\n",
    "turtle.initializeTurtle()\n",
    "\n",
    "# Move the turtle forward by 100 units\n",
    "turtle.fd(100)\n",
    "\n",
    "# Turn the turtle left by 90 degrees\n",
    "turtle.lt(90)\n",
    "\n",
    "# Move the turtle forward by 100 units\n",
    "turtle.fd(100)\n",
    "\n",
    "# Turn the turtle left by 90 degrees\n",
    "turtle.lt(90)\n",
    "\n",
    "# Move the turtle forward by 100 units\n",
    "turtle.fd(100)\n",
    "\n",
    "# Turn the turtle left by 90 degrees\n",
    "turtle.lt(90)\n",
    "\n",
    "# Move the turtle forward by 100 units\n",
    "turtle.fd(100)\n",
    "\n",
    "```"
   ]
  },
  {
   "cell_type": "markdown",
   "metadata": {
    "id": "d_uYWivwK8T0"
   },
   "source": [
    "(O teste corre numa janela diferente)"
   ]
  },
  {
   "cell_type": "code",
   "execution_count": 40,
   "metadata": {
    "colab": {
     "base_uri": "https://localhost:8080/",
     "height": 539
    },
    "executionInfo": {
     "elapsed": 10047,
     "status": "ok",
     "timestamp": 1714254572571,
     "user": {
      "displayName": "Carlos Leandro",
      "userId": "02142946371031398041"
     },
     "user_tz": -60
    },
    "id": "Ni6w90PsK8T0",
    "outputId": "6fc14c61-6656-4698-8a8d-175262fe85fc"
   },
   "outputs": [
    {
     "name": "stdout",
     "output_type": "stream",
     "text": [
      "Requirement already satisfied: ColabTurtle in /media/leandro/hypatia/DataChalanges/env-security/lib/python3.10/site-packages (2.1.0)\n"
     ]
    },
    {
     "data": {
      "text/html": [
       "\n",
       "      <svg width=\"800\" height=\"500\">\n",
       "        <rect width=\"100%\" height=\"100%\" fill=\"black\"/>\n",
       "        <line x1=\"400\" y1=\"250\" x2=\"400.0\" y2=\"150.0\" stroke-linecap=\"round\" style=\"stroke:white;stroke-width:4\"/><line x1=\"400.0\" y1=\"150.0\" x2=\"300.0\" y2=\"150.0\" stroke-linecap=\"round\" style=\"stroke:white;stroke-width:4\"/><line x1=\"300.0\" y1=\"150.0\" x2=\"300.0\" y2=\"250.0\" stroke-linecap=\"round\" style=\"stroke:white;stroke-width:4\"/><line x1=\"300.0\" y1=\"250.0\" x2=\"400.0\" y2=\"250.0\" stroke-linecap=\"round\" style=\"stroke:white;stroke-width:4\"/>\n",
       "        <g visibility=visible transform=\"rotate(90,400.0,250.0) translate(382.0, 232.0)\">\n",
       "<path style=\" stroke:none;fill-rule:evenodd;fill:white;fill-opacity:1;\" d=\"M 18.214844 0.632812 C 16.109375 1.800781 15.011719 4.074219 15.074219 7.132812 L 15.085938 7.652344 L 14.785156 7.496094 C 13.476562 6.824219 11.957031 6.671875 10.40625 7.066406 C 8.46875 7.550781 6.515625 9.15625 4.394531 11.992188 C 3.0625 13.777344 2.679688 14.636719 3.042969 15.027344 L 3.15625 15.152344 L 3.519531 15.152344 C 4.238281 15.152344 4.828125 14.886719 8.1875 13.039062 C 9.386719 12.378906 10.371094 11.839844 10.378906 11.839844 C 10.386719 11.839844 10.355469 11.929688 10.304688 12.035156 C 9.832031 13.09375 9.257812 14.820312 8.96875 16.078125 C 7.914062 20.652344 8.617188 24.53125 11.070312 27.660156 C 11.351562 28.015625 11.363281 27.914062 10.972656 28.382812 C 8.925781 30.84375 7.945312 33.28125 8.238281 35.1875 C 8.289062 35.527344 8.28125 35.523438 8.917969 35.523438 C 10.941406 35.523438 13.074219 34.207031 15.136719 31.6875 C 15.359375 31.417969 15.328125 31.425781 15.5625 31.574219 C 16.292969 32.042969 18.023438 32.964844 18.175781 32.964844 C 18.335938 32.964844 19.941406 32.210938 20.828125 31.71875 C 20.996094 31.625 21.136719 31.554688 21.136719 31.558594 C 21.203125 31.664062 21.898438 32.414062 22.222656 32.730469 C 23.835938 34.300781 25.5625 35.132812 27.582031 35.300781 C 27.90625 35.328125 27.9375 35.308594 28.007812 34.984375 C 28.382812 33.242188 27.625 30.925781 25.863281 28.425781 L 25.542969 27.96875 L 25.699219 27.785156 C 28.945312 23.960938 29.132812 18.699219 26.257812 11.96875 L 26.207031 11.84375 L 27.945312 12.703125 C 31.53125 14.476562 32.316406 14.800781 33.03125 14.800781 C 33.976562 14.800781 33.78125 13.9375 32.472656 12.292969 C 28.519531 7.355469 25.394531 5.925781 21.921875 7.472656 L 21.558594 7.636719 L 21.578125 7.542969 C 21.699219 6.992188 21.761719 5.742188 21.699219 5.164062 C 21.496094 3.296875 20.664062 1.964844 19.003906 0.855469 C 18.480469 0.503906 18.457031 0.5 18.214844 0.632812\"/>\n",
       "</g>\n",
       "      </svg>\n",
       "    "
      ],
      "text/plain": [
       "<IPython.core.display.HTML object>"
      ]
     },
     "metadata": {},
     "output_type": "display_data"
    }
   ],
   "source": [
    "!pip3 install ColabTurtle\n",
    "import ColabTurtle.Turtle as turtle\n",
    "turtle.initializeTurtle()\n",
    "\n",
    "turtle.fd(100)\n",
    "turtle.lt(90)\n",
    "turtle.fd(100)\n",
    "turtle.lt(90)\n",
    "turtle.fd(100)\n",
    "turtle.lt(90)\n",
    "turtle.fd(100)"
   ]
  },
  {
   "cell_type": "markdown",
   "metadata": {
    "id": "shSKKK3OK8T1"
   },
   "source": [
    "Este script abre uma janela gráfica e desenha um quadrado de lados definidos por 100 pontos.\n",
    "\n",
    "Podemos imaginar que a tartaruga desloca no ventre uma caneta, que pode ser baixada turtle.pd(), ou levantada turtle.pu(), permitindo deixar ou anular o rasto. A tartaruga pode ser posta em qualquer ponto do plano de coordenadas $(x,y)$ através do comando turtle.goto(x,y). Por exemplo, assumindo que já se importou o módulo **turtle**:\n",
    "```python\n",
    "    >>> turtle.pu()          # levanta a caneta\n",
    "    >>> turtle.goto(50,100)  # posiciona a tartaruga\n",
    "    >>> turtle.pd()          # baixa a caneta\n",
    "    >>> turtle.fd(10)        # avança 10 pontos\n",
    "    >>> turtle.pu()          # levanta a caneta\n",
    "    >>> turtle.fd(10)        # avança 10 pontos\n",
    "    >>> turtle.pd()          # baixa a caneta\n",
    "    >>> turtle.fd(10)        # avança 10 pontos\n",
    "```\n",
    "O script traça uma linha tracejada a partir do ponto de coordenadas *x=50* e *y=100*.\n",
    "\n",
    "Outro comando útil é *turtle.clearscreen()* que permite limpar a janela (para mais comandos use *help(turtle)*).\n",
    "\n",
    "Use os comandos apresentados para controlar a tartaruga:\n",
    "1. Defina uma função $poly(n,m)$ que desenhe na posição da tartaruga um polígono com $n$ faces e lados de comprimento $m$ pontos. Por exemplo:\n",
    "```python\n",
    "    >>> poly(10,30)\n",
    "```\n",
    "![polyPy.png](data:image/png;base64,iVBORw0KGgoAAAANSUhEUgAAALgAAACRCAIAAAD/8uVuAAAAAXNSR0IArs4c6QAAAARnQU1BAACxjwv8YQUAAAAJcEhZcwAADsMAAA7DAcdvqGQAAAUOSURBVHhe7ZpJduMwDAVz/0unO0+JW+14AIdPAl+VVRYQRBSKoGT745M/CAQIfARiCIHAJ6IgQYgAooQwEYQoOBAigCghTAQhCg6ECCBKCBNBiIIDIQKIEsJEEKLgQIgAooQwEYQoOBAigCghTAQhCg6ECCBKCBNBiIIDIQKIEsJEUD1RPpR/CPGMQCVRDkOkvVxwC+n6dcm13CeuW63Ieakr7zURkTRVDVHWd279HaVtHk+eXZSNZ8HGW4/3dXqG1KJk2NYZ1jC96x0Jk4qSajenWkxHj6dcklGUnJs456qmSBBJkkuU5Hs3+fIi/e6OSSRKlS1bZZ3dTjy8MIsotejXWu0UY/aLUnSeF112tzSbRam+NauvP+7NNlFsdqRNIa+l2SOK30b0q+jOmw2iuDJ1reswZqko9lPauMB1onhvOPtfKSBK/ME/Gmm5JRaJYsnuhTh+9SJKdE40xSFKE65/wX7g3nzqIP5tb2cbBi5bMVGuZsn3+6SXK4gysMteXmq2PRAFUUIE5KKYbawQ1J8gp9oRpan1bcGI0sDLCVZD2cf3I0bPs9qJ4kSq1RKzdx9E6RMgepXNVkGUaMv74hDlPTcbRu9LvcAHKsKJgihOjykqUbDkPGUMaCDK4MESuhxRnmIyQBNSIBZkQEMyUQy4xARoiKrOBFEamj0SiigP6FWHMiLEs2urM5k/UaoTUVhi8J6MKDox7jOX3kKIgighApNFKb1pQsDGguryQZSxzjdejSjfwOqCaOx4Z3hdPjMnSl0KnW3vuqwoJUTp6vbARYhi9RPRARPeXIooX4CKUtBpcZe5Lp+ZRw+ivBUOUXjreStJ7Yk7eaIwVF74UnecfLU1tBFagkrjaCm0ObY0GURp7nffBaUtkUwUTp+HJiHKAyzVofTNjNdXVWcy/+g5eFXnMtcVAxqIMleJx9kQ5SllAzQTDTKgoZoonD43zwwsUb318JhynkaI8mY2ewAaP4A8OAiPHk4fJwKIMj4yXmXwGCfaZxSn/dRtE6JE0dmQihZ8inOqXXv0XHyoIErD7nKC1VC23ZcY8oly2aFitkMQpWlMNAQjSgMss4+x45WbWSJ/PUaUuFvJI1ccPRd8TGGi9Hvvx+4ZC8tKF02USw0VROkfJ7cfHlhCPD+KuRa4bqLYP9i6KvK9yUenRNf1fkz9Krpr7IaJYnYM/VXE3pJ1n6O4viBcQZGdR8/Zm7qs666843lh29Fz50ot6Bc5bv7rUYdcokuquFJlnXPblGKiFHpzvqYl+x9mf1ufdqqnXdjcyfH0tWPNbVrvkm3jZltPK8/x+FxHT863ISzJePTcPo47vkfc26TtCxifBLMyJJ0oR4cOS3a5suu+s1o7N09SUW7j5GzM3MpfZ8OSOz5lRFl2Ciy70Urvx++VV5TfQ2VBCxkkxV6Pb4+0t6NnzT/jO881AxPFtbOT68oryu8RMrl00rUQqCFKS0XESggkFWXXW7GEsUXSvKJY4PUpIqkoPoBdKkEUl06K60AUMWCX9Iji0klxHYgiBuySHlFcOimuA1HEgF3SI4pLJ8V1IIoYsEt6RHHppLgORBEDdkmPKC6dFNeBKGLALukRxaWT4joQRQzYJT2iuHRSXAeiiAG7pEcUl06K60AUMWCX9Iji0klxHYgiBuySHlFcOimuA1HEgF3SI4pLJ8V1IIoYsEt6RHHppLgORBEDdkmPKC6dFNeBKGLALun/AHf9zg0A9Co2AAAAAElFTkSuQmCC)\n",
    "\n",
    "2. Defina uma função *raio(x,y,n,m)* que desenha $n$ raios de comprimento $m$ a partir da posição $(x,y)$.\n",
    "```python\n",
    "    >>> raio(0,0,30,100)\n",
    "```\n",
    "![raiosPy.png](data:image/png;base64,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)\n"
   ]
  },
  {
   "cell_type": "markdown",
   "metadata": {
    "collapsed": true,
    "id": "kWm9SkIKK8T1",
    "jupyter": {
     "outputs_hidden": true
    }
   },
   "source": [
    "## Exercícios de Revisão\n",
    "\n",
    "**Exercício 13:**  Notação Lógica para Gatos e Bolo\n",
    "\n",
    "Escreva as frases abaixo em notação lógica, onde $x$ é um gato e $P(x)$: \"x gosta de bolo\":\n",
    "\n",
    "1. Todos os gatos gostam de bolo.  \n",
    "2. Nenhum gato gosta de bolo.  \n",
    "3. Um gato gosta de bolo.  \n",
    "4. Alguns gatos não gostam de bolo.  \n",
    "\n",
    "**Exercício 14:**  Análise Lógica de Inclusão de Conjuntos\n",
    "\n",
    "Analise a proposição:  \n",
    "*\"Se $A \\subseteq B$, então $A$ e $C \\setminus B$ são disjuntos\"* usando quantificadores.\n",
    "\n",
    "\n",
    "**Exercício 15:**  Tradução para Linguagem Simbólica\n",
    "\n",
    "Traduza para lógica simbólica (escolha domínios apropriados):\n",
    "\n",
    "1. Existe um inteiro $x$ tal que $2 = x + 1$.  \n",
    "\n",
    "2. Para todos os inteiros $x$, $2 = x + 1$.  \n",
    "\n",
    "3. Todos que entendem Lógica gostam dela.  \n",
    "\n",
    "4. $x^2 - 4 = 0$ tem uma raiz positiva.  \n",
    "\n",
    "5. Toda solução de $x^2 - 4 = 0$ é positiva.  \n",
    "\n",
    "6. Nenhuma solução de $x^2 - 4 = 0$ é positiva.  \n",
    "\n",
    "**Exercício 16:**  Quantificação sobre $\\mathbb{N}$\n",
    "\n",
    "Interprete e determine o valor lógico (domínio: $\\mathbb{N}$):\n",
    "\n",
    "1. $\\forall x\\, \\exists y\\, (x < y)$  \n",
    "\n",
    "2. $\\exists y\\, \\forall x\\, (x < y)$  \n",
    "\n",
    "3. $\\exists x\\, \\forall y\\, (x < y)$  \n",
    "\n",
    "4. $\\forall y\\, \\exists x\\, (x < y)$  \n",
    "\n",
    "5. $\\exists x\\, \\exists y\\, (x < y)$  \n",
    "\n",
    "6. $\\forall x\\, \\forall y\\, (x < y)$  \n",
    "\n",
    "\n",
    "**Exercício 17:**  Afirmações sobre $\\mathbb{R}$\n",
    "\n",
    "Traduza para símbolos (domínio: $\\mathbb{R}$):\n",
    "\n",
    "1. A identidade da adição é 0.  \n",
    "\n",
    "2. Todo real tem simétrico.  \n",
    "\n",
    "3. Números negativos não têm raízes quadradas.  \n",
    "\n",
    "4. Todo positivo tem exatamente duas raízes quadradas.  \n",
    "\n",
    "**Exercício 18:**  Proposições sobre $\\mathbb{N}$  \n",
    "\n",
    "Seja $\\mathbb{N} = \\{1,2,3,\\dots\\}$, $P(x)$: \"x é par\", $Q(x)$: \"x é divisível por 3\", $R(x)$: \"x é divisível por 4\".\n",
    "\n",
    "Traduza e determine o valor lógico:\n",
    "\n",
    "1. $\\forall x \\in \\mathbb{N}: P(x) \\land Q(x)$  \n",
    "2. $\\exists x \\in \\mathbb{N}: R(x)$  \n",
    "3. $\\exists x \\in \\mathbb{N}: P(x) \\land Q(x)$  \n",
    "4. $\\exists x \\in \\mathbb{N}: P(x) \\rightarrow Q(x)$  \n",
    "5. $\\exists x \\in \\mathbb{N}: Q(x) \\land Q(x+1)$  "
   ]
  },
  {
   "cell_type": "markdown",
   "metadata": {},
   "source": [
    "## Referências \n",
    "\n",
    "1. **\"Introduction to Logic: Predicate Logic\"**\n",
    "   - **Autor:** Howard Pospesel\n",
    "   - **Descrição:** Este livro oferece uma introdução clara à lógica de predicados, abordando temas como simbolização, provas, contraexemplos e árvores de verdade. Os tópicos são apresentados em etapas graduais, começando com a simbolização de proposições categóricas e concluindo com as propriedades das relações.\n",
    "   - **Tópicos-chave:** Simbolização, provas, contraexemplos, árvores de verdade, propriedades das relações.\n",
    "\n",
    "2. **\"First-Order Logic\"**\n",
    "   - **Autor:** Raymond Smullyan\n",
    "   - **Descrição:** Este estudo autossuficiente é amplamente considerado um dos melhores livros na área, servindo tanto como uma introdução à teoria da quantificação quanto como uma exposição de novos resultados e técnicas em métodos \"analíticos\" ou \"livres de cortes\". O autor foca na simplicidade e elegância matemática do ponto de vista do tableau.\n",
    "   - **Tópicos-chave:** Teoria da quantificação, métodos analíticos, tableaux, lógica de primeira ordem.\n",
    "\n",
    "3. **\"An Introduction to Formal Logic\"**\n",
    "   - **Autor:** Peter Smith\n",
    "   - **Descrição:** Este livro fornece uma visão abrangente da lógica sentencial e da lógica de primeira ordem. Começa introduzindo noções básicas, como a natureza dos argumentos e a validade dedutiva, e continua com a linguagem da lógica sentencial, tabelas de verdade, linguagem da lógica quantificada, semântica formal e um sistema de dedução natural. \n",
    "   - **Tópicos-chave:** Lógica sentencial, lógica de primeira ordem, semântica formal, dedução natural.\n",
    "\n",
    "4. **\"First-Order Logic: A Concise Introduction\"**\n",
    "   - **Autor:** John Heil\n",
    "   - **Descrição:** Este texto conciso oferece mais detalhes e exemplos matematicamente relevantes do que os disponíveis em livros elementares sobre lógica. Ideal para um curso de um semestre, aborda a lógica matemática de maneira acessível e direta. \n",
    "   - **Tópicos-chave:** Lógica de primeira ordem, exemplos matemáticos, introdução concisa.\n",
    "\n",
    "5. **\"First Order Mathematical Logic\"**\n",
    "   - **Autor:** Angus J. Macintyre\n",
    "   - **Descrição:** Este texto conciso é ideal para um curso de um semestre, oferecendo mais detalhes e exemplos matematicamente relevantes do que os disponíveis em livros elementares sobre lógica.\n",
    "   - **Tópicos-chave:** Lógica matemática, lógica de primeira ordem, exemplos matemáticos.\n",
    "\n",
    "\n"
   ]
  }
 ],
 "metadata": {
  "colab": {
   "provenance": []
  },
  "kernelspec": {
   "display_name": "Python 3 (ipykernel)",
   "language": "python",
   "name": "python3"
  },
  "language_info": {
   "codemirror_mode": {
    "name": "ipython",
    "version": 3
   },
   "file_extension": ".py",
   "mimetype": "text/x-python",
   "name": "python",
   "nbconvert_exporter": "python",
   "pygments_lexer": "ipython3",
   "version": "3.10.12"
  }
 },
 "nbformat": 4,
 "nbformat_minor": 4
}
