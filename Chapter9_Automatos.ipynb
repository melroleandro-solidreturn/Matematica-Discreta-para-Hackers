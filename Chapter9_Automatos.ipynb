{
 "cells": [
  {
   "cell_type": "markdown",
   "metadata": {
    "id": "BEsJr0jwPJky"
   },
   "source": [
    "Autómatos\n",
    "=====\n",
    "\n",
    "[Abrir no Colab este ficheiro para o poder executar](https://colab.research.google.com/github/melroleandro-solidreturn/Matematica-Discreta-para-Hackers/blob/main/Chapter9_Automatos.ipynb)\n"
   ]
  },
  {
   "cell_type": "markdown",
   "metadata": {
    "id": "QZOz6278Pqih"
   },
   "source": [
    "Para além das gramáticas regulares e expressões regulares, a sintaxe de uma linguagem regular, pode ser caracterizada por autómatos finitos.\n",
    "\n",
    "Os autómatos finitos podem ser entendidos como a idealização de um computador que tem acesso apenas a uma quantidade limitada de memória. Computadores deste tipo podem ser utilizados para controlar um elevador, as portas automáticas de um banco ou o dispositivo de injecção de um motor de combustão interna. O capítulo termina com uma secção dedicada a autómatos celulares, que estendem o conceito das máquinas de estados finitos para sistemas distribuídos. \n",
    "\n",
    "Nesta secção, damos preferência a representações gráficas de autómatos finitos, por meio de diagramas. Limitamos no entanto a exposição a autómatos finitos deterministas. Abaixo apresentamos o exemplo dum diagrama que representa um autómato deste tipo. Estas representações gráficas são usualmente designadas de diagramas de estados.\n",
    "\n"
   ]
  },
  {
   "cell_type": "markdown",
   "metadata": {},
   "source": [
    "## Autómatos finitos"
   ]
  },
  {
   "cell_type": "markdown",
   "metadata": {},
   "source": [
    "![image](images/auto1.png)"
   ]
  },
  {
   "cell_type": "markdown",
   "metadata": {
    "id": "Oggyn1_6PJkz"
   },
   "source": [
    "\n",
    "Um autómato é definido por vários estados, representado por círculos, no exemplo os estados são $q_1,q_2,q_3,q_4$. Um dos estados é identificado como estado inicial, no exemplo $q_1$. Associado a um autómato está sempre um alfabeto $\\Sigma$, no exemplo $\\Sigma=\\{0,1\\}$. Os símbolos do alfabeto são usados para rotular os arcos (setas) do autómato. Dado um estado tem de haver sempre uma transição para outro estado (possivelmente ele próprio) associada a cada elemento um dos símbolos em $\\Sigma$.  No nosso exemplo, para cada estado, existe sempre duas transições, uma associada ao símbolo 0 e a outra ao símbolo 1. Todas as possíveis transições devem estar definidas, podendo um arco ter associado mais do que um símbolo.\n",
    "\n",
    "O input para um autómato de alfabeto $\\Sigma$ é uma palavra em $\\Sigma^\\ast$, que é aceite ou rejeitada pelo autómato. Supondo que o input, no exemplo é, $w=0110$. Inicialmente a computação tem início no estado $q_1$. O autómato lê o primeiro símbolo, que é 0. A regra de transição determina que, caso esteja em $q_1$ e se esteja a ler um 0, o estado do autómato deve continuar a ser $q_1$. Lendo depois o próximo símbolo da palavra, que é um 1. A regra de transição determina que, caso esteja em $q_1$ e se esteja a ler um 1, o estado do autómato deve passar a ser $q_2$. Lendo depois o próximo símbolo da palavra, que é outro 1. A regra de transição determina que, caso esteja em $q_2$ e se esteja a ler um 1, o estado do autómato passa a ser $q_3$. O próximo símbolo é um 0, a regra de transição determina que, o estado do autómato deve continuar a ser $q_3$. Como não existem mais símbolos na palavra para serem lidos a computação termina, no estado $q_3$.\n",
    "\n",
    "Uma palavra é **aceite** pelo autómato caso a computação termine num estado terminal. No diagrama de estado identificamos estados terminais por um duplo ciclo. No exemplo, o autómato só tem um estado terminal $q_4$, como a computação da palavra $w=0110$ não termina num estado terminal, diz-se que $w$ não é **aceite** ou **reconhecida** pelo autómato.\n"
   ]
  },
  {
   "cell_type": "markdown",
   "metadata": {
    "id": "zYql9fG7PJk0"
   },
   "source": [
    "Descrevemos abaixo a computação, agora da palavra $w=011011$, através duma tabela. A primeira coluna representa o estado do autómato, num dado momento, e o símbolo da coluna da direita é o símbolo que está a ser lido:\n",
    "\n",
    "Estado | Símbolo\n",
    "-------|--------\n",
    "$q_1$ | 0\n",
    "$q_1$ | 1\n",
    "$q_2$ | 1\n",
    "$q_3$ | 0\n",
    "$q_3$ | 1\n",
    "$q_4$ | 1\n",
    "$q_5$ | Termina\n",
    "\n",
    "A computação tem assim início no estado $q_1$, a leitura progressiva de símbolos $0,1,1,0,1$ e $1$, faz com que o autómato assuma progressivamente os estados $q_1,q_2,q_3,q_3,q_4,$ e $q_5$, terminando a computação no estado $q_5$, por falta de mais símbolos para ler. Como $q_5$ é estado terminal a palavra $011011$ diz-se reconhecida pelo autómato."
   ]
  },
  {
   "cell_type": "markdown",
   "metadata": {
    "id": "GENp5oWXPJk1"
   },
   "source": [
    "Podemos assim diz-se que, as palavras reconhecidas por um autómato definem caminhos no diagrama de estados, que partindo do estado inicial, permitem chegar a um dos estados terminais.\n",
    "\n",
    "Devemos notar ainda que a relação de transição num autómato finito pode ser sempre descrita por uma aplicação $t$. Identificando por $E$ o conjunto de estados e por $\\Sigma$ o alfabeto, a relação de transição é uma aplicação:\n",
    "\n",
    "$$\n",
    "t:E\\times \\Sigma\\rightarrow E.\n",
    "$$\n",
    "\n",
    "No exemplo apresentado acima, esta aplicação pode ser descrita pela tabela abaixo:\n",
    "\n",
    "$t$ | 0 | 1\n",
    "------|-------|------\n",
    "$q_1$ | $q_1$ | $q_2$\n",
    "$q_2$ | $q_2$ | $q_3$\n",
    "$q_3$ | $q_3$ | $q_4$\n",
    "$q_4$ | $q_4$ | $q_4$\n",
    "\n",
    "Que indica que, quando no estado $q_2$, por exemplo, caso esteja a ler um 0 passa para o estado $q_2$, caso esteja a ler um 1 passa para o estado $q_3$.\n"
   ]
  },
  {
   "cell_type": "markdown",
   "metadata": {
    "collapsed": true,
    "executionInfo": {
     "elapsed": 30,
     "status": "ok",
     "timestamp": 1743610764725,
     "user": {
      "displayName": "Carlos Leandro",
      "userId": "02142946371031398041"
     },
     "user_tz": -60
    },
    "id": "jz4sq7KkPJk1",
    "jupyter": {
     "outputs_hidden": true
    }
   },
   "source": [
    "**Exercício 1:**\n",
    "\n",
    "Dado o diagrama de estados que descreve um autómato finito:\n",
    "\n",
    "![image](images/auto2.png)\n",
    "\n",
    "\n",
    "Responda às seguintes questões:\n",
    "\n",
    "1. Quais são os estados do autómato?\n",
    "2. Qual é o alfabeto do autómato?\n",
    "3. Qual é o estado inicial do autómato?\n",
    "4. Quais são os estados terminais?\n",
    "5. Qual é a sequência de estados percorrida para o input `0001011`?\n",
    "6. O autómato aceita a palavra `01011`?\n",
    "7. O autómato aceita a palavra vazia (λ)? E a palavra `010110`?\n",
    "8. Codifique a relação de transição do autómato através de uma tabela de dupla entrada.\n",
    "9. O autómato pode terminar a sua computação no estado `s₃`? Justifique.\n"
   ]
  },
  {
   "cell_type": "markdown",
   "metadata": {
    "id": "G-zmISB-Q1j-"
   },
   "source": [
    "Quando se pretende ser mais formal, representamos os autómatos através de uma estrutura algébrica:\n",
    "\n",
    "**Definição 1:** Autómato\n",
    "\n",
    "Um autómato $A$ é definido por um tuplo:\n",
    "\n",
    "$$\n",
    "A = (\\Sigma, E, t, q, F)\n",
    "$$\n",
    "\n",
    "onde:\n",
    "\n",
    "1. $ \\Sigma$ é um alfabeto;\n",
    "2. $ E $ é um conjunto, designado de **conjunto de estados**;\n",
    "3. $ t $ é uma função, designada de **função de transição**:\n",
    "\n",
    "   $$\n",
    "   t : E \\times \\Sigma \\rightarrow E\n",
    "   $$\n",
    "\n",
    "4. $ q \\in E $ é um estado, designado de **estado inicial**;\n",
    "5. $ F \\subseteq E $ é um subconjunto de estados, designado de **estados terminais**.\n"
   ]
  },
  {
   "cell_type": "markdown",
   "metadata": {},
   "source": [
    "**Exemplo 1:**\n",
    "\n",
    "Seja $ A = (\\Sigma, E, t, s_0, F) $ o autómato finito com:\n",
    "\n",
    "- alfabeto $\\Sigma = \\{a, b\\} $,\n",
    "- conjunto de estados $ E = \\{s_0, s_1, s_2\\} $,\n",
    "- estado inicial $ s_0 $,\n",
    "- conjunto de estados terminais $ F = \\{s_0, s_1\\} $,\n",
    "\n",
    "e cuja função de transição $ t : E \\times \\Sigma \\rightarrow E $ é descrita pela seguinte tabela de dupla entrada:\n",
    "\n",
    "| $ t $   | $ a $   | $ b $   |\n",
    "|----------|-----------|-----------|\n",
    "| $ s_0 $ | $ s_2 $ | $ s_1 $ |\n",
    "| $ s_1 $ | $ s_1 $ | $ s_1 $ |\n",
    "| $ s_2 $ | $ s_1 $ | $ s_2 $ |\n",
    "\n",
    "O autómato assim definido, de forma algébrica, tem o seguinte diagrama de estados:\n"
   ]
  },
  {
   "cell_type": "markdown",
   "metadata": {},
   "source": [
    "![image](images/auto3.png)\n"
   ]
  },
  {
   "cell_type": "markdown",
   "metadata": {},
   "source": [
    "Usando esta notação, podemos definir formalmente:\n",
    "\n",
    "**Definição 2:** Palavra aceite por um autómato\n",
    "\n",
    "Seja $ A = (\\Sigma, E, t, q, F) $ um autómato finito e seja $ w = w_1 w_2 \\ldots w_k $ uma palavra sobre o alfabeto $ \\Sigma $.\n",
    "\n",
    "Diz-se que **o autómato $ A $ aceita a palavra $ w $** se existir uma sequência de estados $ r_1, r_2, \\ldots, r_{k+1} $ tal que:\n",
    "\n",
    "1. $ r_1 = q $;\n",
    "2. $ t(r_i, w_i) = r_{i+1} $, para todo $ i = 1, \\ldots, k $;\n",
    "3. $ r_{k+1} \\in F $.\n",
    "\n",
    "Esta definição formaliza o facto de que a iteração da função de transição, aplicada aos símbolos da palavra a partir do estado inicial, deve conduzir o autómato a um estado terminal, de forma a que a palavra seja reconhecida.\n",
    "\n",
    "**Definição 3:** Linguagem reconhecida por um autómato\n",
    "\n",
    "Diz-se que o autómato finito  $A = (\\Sigma, E, t, q, F) $  **reconhece a linguagem** $ L(A) $ se:\n",
    "\n",
    "$$\n",
    "L(A) = \\{ w \\in \\Sigma^\\ast \\mid \\text{o autómato } A \\text{ aceita a palavra } w \\}.\n",
    "$$\n",
    "\n"
   ]
  },
  {
   "cell_type": "markdown",
   "metadata": {},
   "source": [
    "**Exemplo 2:**\n",
    "\n",
    "1. No autómato:"
   ]
  },
  {
   "cell_type": "markdown",
   "metadata": {},
   "source": [
    "![image](images/auto4.png)"
   ]
  },
  {
   "cell_type": "markdown",
   "metadata": {},
   "source": [
    "   O único estado terminal é $ s_0 $. As palavras que levam o estado $ s_0 $ de volta a si próprio têm de ser formadas por zero ou mais 1's consecutivos. Assim:\n",
    "\n",
    "   $$\n",
    "   L(A) = \\{ 1^n : n \\geq 0 \\}\n",
    "   $$\n",
    "\n",
    "   que é a linguagem associada à expressão regular $1^\\ast $.\n",
    "\n",
    "\n",
    "2. No autómato:"
   ]
  },
  {
   "cell_type": "markdown",
   "metadata": {},
   "source": [
    "![image](images/auto5.png)"
   ]
  },
  {
   "cell_type": "markdown",
   "metadata": {},
   "source": [
    "   O único estado terminal é $ s_2 $. As palavras que levam o estado $ s_0 $ a $ s_2 $ são `1` e `01`. Assim:\n",
    "\n",
    "   $$\n",
    "   L(A) = \\{1, 01\\}\n",
    "   $$\n",
    "\n",
    "   que é a linguagem associada à expressão regular $ 1 \\;|\\; 01 $.\n",
    "\n",
    "\n",
    "\n",
    "3. O autómato:"
   ]
  },
  {
   "cell_type": "markdown",
   "metadata": {},
   "source": [
    "![image](images/auto6.png)"
   ]
  },
  {
   "cell_type": "markdown",
   "metadata": {},
   "source": [
    "   tem como estados terminais $ s_0 $ e $s_3$. As palavras que levam $ s_0 $ a si próprio são $\\lambda, 0, 00, \\ldots $, ou seja, qualquer palavra formada por zero ou mais 0's consecutivos.\n",
    "\n",
    "   As palavras que levam $ s_0 $ a $ s_3 $ são palavras do tipo: zero ou mais 0's seguidos de `10`, seguidos de qualquer sequência de 0's e 1's. Assim:\n",
    "\n",
    "   $$\n",
    "   L(A) = \\{ 0^n, \\; 0^n10(0|1)^\\ast : n \\geq 0 \\}\n",
    "   $$\n",
    "\n",
    "   que é a linguagem associada à expressão regular:\n",
    "\n",
    "   $$\n",
    "   0^\\ast \\;|\\; 0^\\ast 10 (0|1)^\\ast\n",
    "   $$\n",
    "\n",
    "\n",
    "4. O autómato:"
   ]
  },
  {
   "cell_type": "markdown",
   "metadata": {},
   "source": [
    "![image](images/auto1.png)"
   ]
  },
  {
   "cell_type": "markdown",
   "metadata": {},
   "source": [
    "   aceita a linguagem:\n",
    "\n",
    "   $$\n",
    "   L = \\{ w \\in \\{0,1\\}^\\ast : w \\text{ contém pelo menos três 1's} \\}\n",
    "   $$\n",
    "\n",
    "   Note que esta linguagem é regular e está associada à expressão regular:\n",
    "\n",
    "   $$\n",
    "   0^\\ast 1 0^\\ast 1 0^\\ast 1 (0|1)^\\ast\n",
    "   $$\n",
    "\n",
    "\n",
    "5. O autómato:"
   ]
  },
  {
   "cell_type": "markdown",
   "metadata": {},
   "source": [
    "![image](images/auto3.png)"
   ]
  },
  {
   "cell_type": "markdown",
   "metadata": {},
   "source": [
    "   reconhece a linguagem regular associada à expressão:\n",
    "\n",
    "   $$\n",
    "   \\lambda \\;|\\; b(a|b)^\\ast \\;|\\; ab^\\ast a (a|b)^\\ast\n",
    "   $$"
   ]
  },
  {
   "cell_type": "markdown",
   "metadata": {},
   "source": [
    "**Exemplo 3:**\n",
    "\n",
    "Pretende-se agora construir autómatos finitos que reconheçam uma linguagem dada.\n",
    "\n",
    "1. **O conjunto de palavras binárias que começam com dois 0's**\n",
    "\n",
    "   A palavra mais pequena nesta linguagem é `00`. Fixando $ s_0 $ como estado inicial, utiliza-se um estado auxiliar $ s_1 $, para o qual o autómato deve transitar sempre que o primeiro símbolo for `0`. Introduz-se um estado terminal $ s_2 $, atingido após a leitura de `00`.\n",
    "\n",
    "   Após a leitura de `00`, qualquer símbolo adicional deve manter o autómato no estado terminal $ s_2 $. Palavras que não comecem com `00` devem conduzir o autómato para um estado não terminal $ s_3 $."
   ]
  },
  {
   "cell_type": "markdown",
   "metadata": {},
   "source": [
    "   \n",
    "![image](images/auto7.png)"
   ]
  },
  {
   "cell_type": "markdown",
   "metadata": {},
   "source": [
    "2. **O conjunto de palavras que contêm dois 0's seguidos**\n",
    "\n",
    "   A palavra mais pequena nesta linguagem é `00`. Utilizam-se três estados $ s_0, s_1 $ e $ s_2 $, sendo $ s_0 $ o estado inicial e $ s_2 $ o estado terminal.\n",
    "\n",
    "   - O autómato transita de $ s_0 $ para $ s_1 $ com a leitura de `0`.\n",
    "   - De $ s_1 $ para $ s_2 $ com a leitura de outro `0`.\n",
    "   - Se a palavra começar com uma cadeia de `1`'s, o autómato permanece em $ s_0 $, na expectativa de encontrar `00`.\n",
    "   - Se, após a leitura do primeiro `0`, surgir um `1`, o autómato regressa a $ s_0 $.\n",
    "   - Depois de reconhecer `00`, qualquer símbolo posterior mantém o autómato em $ s_2 $."
   ]
  },
  {
   "cell_type": "markdown",
   "metadata": {},
   "source": [
    "![image](images/auto8.png)"
   ]
  },
  {
   "cell_type": "markdown",
   "metadata": {},
   "source": [
    "3. **O conjunto de palavras que **não contêm** dois 0's seguidos**\n",
    "\n",
    "   Considerando o autómato anterior, verifica-se que:\n",
    "\n",
    "   - Se a computação termina em $ s_0 $ ou $ s_1 $, então a palavra **não** contém a subpalavra `00`.\n",
    "   - Se termina em $ s_2 $, então contém `00`.\n",
    "\n",
    "   Assim, a linguagem das palavras que"
   ]
  },
  {
   "cell_type": "markdown",
   "metadata": {},
   "source": [
    "Abaixo pode encontrar um exemplo em Python que define 4 autómatos finitos simples usando dicionários. Cada autómato é especificado com o conjunto de estados, alfabeto, estado inicial, estados finais e uma função de transição (representada como dicionário aninhado). Também incluí funções para simular o autómato e para verificar se uma palavra é aceite."
   ]
  },
  {
   "cell_type": "code",
   "execution_count": 26,
   "metadata": {},
   "outputs": [],
   "source": [
    "# Função que simula o autómato: dado um autómato (definido em dicionário) e uma palavra,\n",
    "# retorna o estado final atingido.\n",
    "def simulate(automata, word):\n",
    "    state = automata['initial']\n",
    "    for symbol in word:\n",
    "        # Obtemos a transição para o símbolo atual; se não existir, retornamos None.\n",
    "        state = automata['transitions'].get(state, {}).get(symbol)\n",
    "        if state is None:\n",
    "            return None\n",
    "    return state"
   ]
  },
  {
   "cell_type": "code",
   "execution_count": 27,
   "metadata": {},
   "outputs": [],
   "source": [
    "# Função que verifica se o autómato aceita a palavra:\n",
    "# retorna True se o estado final estiver entre os estados finais, False caso contrário.\n",
    "def accepts(automata, word):\n",
    "    final_state = simulate(automata, word)\n",
    "    return final_state in automata['final']"
   ]
  },
  {
   "cell_type": "code",
   "execution_count": 28,
   "metadata": {},
   "outputs": [
    {
     "name": "stdout",
     "output_type": "stream",
     "text": [
      "Exemplo 1: Strings que terminam com 0\n",
      "Input: '110' -> True\n",
      "Input: '111' -> False\n"
     ]
    }
   ],
   "source": [
    "# -----------------------------------------------------------------\n",
    "# Exemplo 1: Autómato que aceita strings que terminam com 0.\n",
    "automata1 = {\n",
    "    'states': {'q0', 'q1'},\n",
    "    'alphabet': {'0', '1'},\n",
    "    'initial': 'q0',\n",
    "    'final': {'q1'},\n",
    "    'transitions': {\n",
    "        'q0': {'0': 'q1', '1': 'q0'},\n",
    "        'q1': {'0': 'q1', '1': 'q0'}\n",
    "    }\n",
    "}\n",
    "\n",
    "print(\"Exemplo 1: Strings que terminam com 0\")\n",
    "print(\"Input: '110' ->\", accepts(automata1, \"110\"))  # Espera-se True (termina com 0)\n",
    "print(\"Input: '111' ->\", accepts(automata1, \"111\"))  # Espera-se False\n"
   ]
  },
  {
   "cell_type": "code",
   "execution_count": 29,
   "metadata": {},
   "outputs": [
    {
     "name": "stdout",
     "output_type": "stream",
     "text": [
      "\n",
      "Exemplo 2: Strings que contêm '01'\n",
      "Input: '001' -> True\n",
      "Input: '111' -> False\n"
     ]
    }
   ],
   "source": [
    "# -----------------------------------------------------------------\n",
    "# Exemplo 2: Autómato que aceita strings que contêm a subpalavra \"01\".\n",
    "automata2 = {\n",
    "    'states': {'q0', 'q1', 'q2'},\n",
    "    'alphabet': {'0', '1'},\n",
    "    'initial': 'q0',\n",
    "    'final': {'q2'},\n",
    "    'transitions': {\n",
    "        'q0': {'0': 'q1', '1': 'q0'},\n",
    "        'q1': {'0': 'q1', '1': 'q2'},\n",
    "        'q2': {'0': 'q2', '1': 'q2'}  # Estado absorvente, uma vez alcançado\n",
    "    }\n",
    "}\n",
    "\n",
    "print(\"\\nExemplo 2: Strings que contêm '01'\")\n",
    "print(\"Input: '001' ->\", accepts(automata2, \"001\"))  # Espera-se True (contém \"01\")\n",
    "print(\"Input: '111' ->\", accepts(automata2, \"111\"))  # Espera-se False"
   ]
  },
  {
   "cell_type": "code",
   "execution_count": 30,
   "metadata": {},
   "outputs": [
    {
     "name": "stdout",
     "output_type": "stream",
     "text": [
      "\n",
      "Exemplo 3: Strings que começam com 1 e terminam com 0\n",
      "Input: '1010' -> True\n",
      "Input: '1001' -> False\n"
     ]
    }
   ],
   "source": [
    "# -----------------------------------------------------------------\n",
    "# Exemplo 3: Autómato que aceita strings que começam com 1 e terminam com 0.\n",
    "# O autómato rejeita se o primeiro símbolo não for 1 e só é aceite se o último símbolo for 0.\n",
    "automata3 = {\n",
    "    'states': {'q0', 'q1', 'q2', 'q_dead'},\n",
    "    'alphabet': {'0', '1'},\n",
    "    'initial': 'q0',\n",
    "    'final': {'q2'},\n",
    "    'transitions': {\n",
    "        'q0': {'1': 'q1', '0': 'q_dead'},\n",
    "        'q1': {'1': 'q1', '0': 'q2'},\n",
    "        'q2': {'1': 'q1', '0': 'q2'},\n",
    "        'q_dead': {'0': 'q_dead', '1': 'q_dead'}\n",
    "    }\n",
    "}\n",
    "\n",
    "print(\"\\nExemplo 3: Strings que começam com 1 e terminam com 0\")\n",
    "print(\"Input: '1010' ->\", accepts(automata3, \"1010\"))  # Espera-se True\n",
    "print(\"Input: '1001' ->\", accepts(automata3, \"1001\"))  # Espera-se False"
   ]
  },
  {
   "cell_type": "code",
   "execution_count": 31,
   "metadata": {},
   "outputs": [
    {
     "name": "stdout",
     "output_type": "stream",
     "text": [
      "\n",
      "Exemplo 4: Strings com número par de 0's\n",
      "Input: '1010' -> True\n",
      "Input: '101'  -> False\n"
     ]
    }
   ],
   "source": [
    "# -----------------------------------------------------------------\n",
    "# Exemplo 4: Autómato que aceita strings com número par de 0's.\n",
    "automata4 = {\n",
    "    'states': {'q_even', 'q_odd'},\n",
    "    'alphabet': {'0', '1'},\n",
    "    'initial': 'q_even',\n",
    "    'final': {'q_even'},\n",
    "    'transitions': {\n",
    "        'q_even': {'0': 'q_odd', '1': 'q_even'},\n",
    "        'q_odd': {'0': 'q_even', '1': 'q_odd'}\n",
    "    }\n",
    "}\n",
    "\n",
    "print(\"\\nExemplo 4: Strings com número par de 0's\")\n",
    "print(\"Input: '1010' ->\", accepts(automata4, \"1010\"))  # Espera-se True (2 zeros)\n",
    "print(\"Input: '101'  ->\", accepts(automata4, \"101\"))   # Espera-se False (1 zero)"
   ]
  },
  {
   "cell_type": "markdown",
   "metadata": {},
   "source": [
    "**Exercício 2:**\n",
    "\n",
    "Cada uma das expressões regulares abaixo define uma linguagem sobre o alfabeto $ \\{a, b, c\\} $.  \n",
    "Para cada uma delas, apresenta um exemplo de um autómato que reconheça a linguagem correspondente.\n",
    "\n",
    "1. $ a \\;|\\; b $\n",
    "2. $ a^\\ast \\;|\\; ab \\;|\\; ac $\n",
    "3. $ a^+ \\;|\\; ab^\\ast $\n",
    "4. $ a^\\ast bc^\\ast b $\n",
    "5. $ (a \\;|\\; b)^\\ast c(a \\;|\\; b) $"
   ]
  },
  {
   "cell_type": "code",
   "execution_count": null,
   "metadata": {},
   "outputs": [],
   "source": []
  },
  {
   "cell_type": "markdown",
   "metadata": {},
   "source": [
    "Podemos demonstrar que:\n",
    "\n",
    "**Teorema :**\n",
    "\n",
    "Uma linguagem é regular **se, e só se**, pode ser reconhecida por um autómato finito.\n",
    "\n",
    "Neste sentido, toda a linguagem associada a uma expressão regular, ou gerada por uma gramática regular, pode ser reconhecida por um autómato finito.\n",
    "\n",
    "O processo de determinação da estrutura que reconhece uma determinada linguagem pode não ser trivial — especialmente quando se pretende obter diretamente um **autómato finito determinista**.\n",
    "\n",
    "No exercício seguinte, poderá praticar com linguagens regulares de *estrutura simples*.\n"
   ]
  },
  {
   "cell_type": "markdown",
   "metadata": {},
   "source": [
    "**Exercício 3:**\n",
    "\n",
    "Dá exemplos de autómatos que reconheçam as seguintes linguagens regulares (em todos os casos o alfabeto é $ \\{0,1\\} $:\n",
    "\n",
    "1. $ A = \\{ w \\in \\{0,1\\}^\\ast : w \\text{ começa por um 1 e termina com um 0} \\} $\n",
    "2. $ B = \\{ w \\in \\{0,1\\}^\\ast : w \\text{ começa por três 1's} \\} $\n",
    "3. $ C = \\{ w \\in \\{0,1\\}^\\ast : w \\text{ contém a subpalavra } 0101 \\} $\n",
    "4. $ D = \\{ w \\in \\{0,1\\}^\\ast : \\text{ ou } w \\text{ começa por 0 e } |w| \\text{ é ímpar, ou } w \\text{ começa por 1 e } |w| \\text{ é par} \\} $\n",
    "5. $ E = \\{ w \\in \\{0,1\\}^\\ast : w \\text{ não contém a subpalavra } 0101 \\} $\n",
    "6. $ F = \\{ w \\in \\{0,1\\}^\\ast : w \\text{ não começa por três 1's} \\} $\n",
    "7. $ G = \\{ w \\in \\{0,1\\}^\\ast : |w| \\leq 5 \\} $\n",
    "8. $ H = \\{ w \\in \\{0,1\\}^\\ast : |w| > 5 \\} $\n"
   ]
  },
  {
   "cell_type": "markdown",
   "metadata": {},
   "source": [
    "## Autómatos Celulares\n",
    "\n",
    "Os **autómatos celulares** são uma extensão do conceito de máquinas de estados finitos para sistemas distribuídos. Consistem numa grelha de células, onde cada célula tem um estado finito (por exemplo, 0 ou 1) e actualiza o seu estado com base numa regra que depende dos estados das células vizinhas. Cada célula pode ser vista como um autómato finito individual, mas o sistema como um todo opera em paralelo.\n",
    "\n",
    "Um exemplo clássico é a **Regra 90**, um autómato celular elementar unidimensional. Aqui, cada célula tem dois vizinhos (esquerda e direita), e a regra define que o próximo estado da célula é 1 se exactamente um dos vizinhos for 1 (isto é, os pares (0,1) ou (1,0)), caso contrário, é 0. Formalmente, para uma célula:\n",
    "\n",
    "- **Estados**: {0, 1},\n",
    "- **Entrada**: estados dos vizinhos, como (0,0), (0,1), (1,0), (1,1),\n",
    "- **Função de transição**: \n",
    "  - (0,1) ou (1,0) → 1,\n",
    "  - (0,0) ou (1,1) → 0.\n",
    "\n",
    "Por exemplo, numa grelha inicial [0, 1, 0], a célula central (1) tem vizinhos (0, 0), logo torna-se 0 na próxima geração. Este processo paralelo diferencia os autómatos celulares dos autómatos finitos tradicionais, que processam entradas sequencialmente.\n",
    "\n",
    "Outro exemplo famoso é o **Jogo da Vida** de Conway, um autómato celular bidimensional onde cada célula (viva = 1, morta = 0) se actualiza com base no número de vizinhos vivos entre os oito adjacentes. Aqui, cada célula é uma máquina de estados finitos com uma regra de transição baseada na vizinhança.\n",
    "\n"
   ]
  },
  {
   "cell_type": "markdown",
   "metadata": {},
   "source": [
    "Vamos implementar a **Regra 90** para autômatos celulares em um anel, seguindo sua definição formal. Cada célula tem dois vizinhos (esquerda e direita), e seu novo estadoé determinado pelo par de vizinhos, tratado como \"símbolo de entrada\" de uma uma máquina de estados finitos."
   ]
  },
  {
   "cell_type": "markdown",
   "metadata": {},
   "source": [
    "#### Formalização do Problema:\n",
    "1. **Estados Possíveis:** `0` ou `1`.\n",
    "2. **Regra de Transição:**  \n",
    "   Novo estado da célula = `1` se os vizinhos são diferentes (`0,1` ou `1,0`), `0` se são iguais (`0,0` ou `1,1`).\n",
    "3. **Anel de Células:**  \n",
    "   - Primeira célula: vizinhos são a segunda e a última.  \n",
    "   - Última célula: vizinhos são a penúltima e a primeira.  \n",
    "4. **Estado Inicial:** Todas as células começam com o mesmo estado (ex: `0`).\n",
    "\n",
    "\n",
    "#### Implementação em Python:"
   ]
  },
  {
   "cell_type": "code",
   "execution_count": 46,
   "metadata": {},
   "outputs": [
    {
     "name": "stdout",
     "output_type": "stream",
     "text": [
      "Evolução do Sistema (Regra 90):\n",
      "----------------------------------------x---------------------------------------\n",
      "---------------------------------------x-x--------------------------------------\n",
      "--------------------------------------x---x-------------------------------------\n",
      "-------------------------------------x-x-x-x------------------------------------\n",
      "------------------------------------x-------x-----------------------------------\n",
      "-----------------------------------x-x-----x-x----------------------------------\n",
      "----------------------------------x---x---x---x---------------------------------\n",
      "---------------------------------x-x-x-x-x-x-x-x--------------------------------\n",
      "--------------------------------x---------------x-------------------------------\n",
      "-------------------------------x-x-------------x-x------------------------------\n",
      "------------------------------x---x-----------x---x-----------------------------\n",
      "-----------------------------x-x-x-x---------x-x-x-x----------------------------\n",
      "----------------------------x-------x-------x-------x---------------------------\n",
      "---------------------------x-x-----x-x-----x-x-----x-x--------------------------\n",
      "--------------------------x---x---x---x---x---x---x---x-------------------------\n",
      "-------------------------x-x-x-x-x-x-x-x-x-x-x-x-x-x-x-x------------------------\n",
      "------------------------x-------------------------------x-----------------------\n",
      "-----------------------x-x-----------------------------x-x----------------------\n",
      "----------------------x---x---------------------------x---x---------------------\n",
      "---------------------x-x-x-x-------------------------x-x-x-x--------------------\n",
      "--------------------x-------x-----------------------x-------x-------------------\n",
      "-------------------x-x-----x-x---------------------x-x-----x-x------------------\n",
      "------------------x---x---x---x-------------------x---x---x---x-----------------\n",
      "-----------------x-x-x-x-x-x-x-x-----------------x-x-x-x-x-x-x-x----------------\n",
      "----------------x---------------x---------------x---------------x---------------\n",
      "---------------x-x-------------x-x-------------x-x-------------x-x--------------\n",
      "--------------x---x-----------x---x-----------x---x-----------x---x-------------\n",
      "-------------x-x-x-x---------x-x-x-x---------x-x-x-x---------x-x-x-x------------\n",
      "------------x-------x-------x-------x-------x-------x-------x-------x-----------\n",
      "-----------x-x-----x-x-----x-x-----x-x-----x-x-----x-x-----x-x-----x-x----------\n",
      "----------x---x---x---x---x---x---x---x---x---x---x---x---x---x---x---x---------\n",
      "---------x-x-x-x-x-x-x-x-x-x-x-x-x-x-x-x-x-x-x-x-x-x-x-x-x-x-x-x-x-x-x-x--------\n",
      "--------x---------------------------------------------------------------x-------\n",
      "-------x-x-------------------------------------------------------------x-x------\n",
      "------x---x-----------------------------------------------------------x---x-----\n",
      "-----x-x-x-x---------------------------------------------------------x-x-x-x----\n",
      "----x-------x-------------------------------------------------------x-------x---\n",
      "---x-x-----x-x-----------------------------------------------------x-x-----x-x--\n",
      "--x---x---x---x---------------------------------------------------x---x---x---x-\n",
      "-x-x-x-x-x-x-x-x-------------------------------------------------x-x-x-x-x-x-x-x\n",
      "----------------x-----------------------------------------------x---------------\n",
      "---------------x-x---------------------------------------------x-x--------------\n",
      "--------------x---x-------------------------------------------x---x-------------\n",
      "-------------x-x-x-x-----------------------------------------x-x-x-x------------\n",
      "------------x-------x---------------------------------------x-------x-----------\n",
      "-----------x-x-----x-x-------------------------------------x-x-----x-x----------\n",
      "----------x---x---x---x-----------------------------------x---x---x---x---------\n",
      "---------x-x-x-x-x-x-x-x---------------------------------x-x-x-x-x-x-x-x--------\n",
      "--------x---------------x-------------------------------x---------------x-------\n",
      "-------x-x-------------x-x-----------------------------x-x-------------x-x------\n",
      "------x---x-----------x---x---------------------------x---x-----------x---x-----\n",
      "-----x-x-x-x---------x-x-x-x-------------------------x-x-x-x---------x-x-x-x----\n",
      "----x-------x-------x-------x-----------------------x-------x-------x-------x---\n",
      "---x-x-----x-x-----x-x-----x-x---------------------x-x-----x-x-----x-x-----x-x--\n",
      "--x---x---x---x---x---x---x---x-------------------x---x---x---x---x---x---x---x-\n",
      "-x-x-x-x-x-x-x-x-x-x-x-x-x-x-x-x-----------------x-x-x-x-x-x-x-x-x-x-x-x-x-x-x-x\n",
      "--------------------------------x---------------x-------------------------------\n",
      "-------------------------------x-x-------------x-x------------------------------\n",
      "------------------------------x---x-----------x---x-----------------------------\n",
      "-----------------------------x-x-x-x---------x-x-x-x----------------------------\n",
      "----------------------------x-------x-------x-------x---------------------------\n",
      "---------------------------x-x-----x-x-----x-x-----x-x--------------------------\n",
      "--------------------------x---x---x---x---x---x---x---x-------------------------\n",
      "-------------------------x-x-x-x-x-x-x-x-x-x-x-x-x-x-x-x------------------------\n",
      "------------------------x-------------------------------x-----------------------\n",
      "-----------------------x-x-----------------------------x-x----------------------\n",
      "----------------------x---x---------------------------x---x---------------------\n",
      "---------------------x-x-x-x-------------------------x-x-x-x--------------------\n",
      "--------------------x-------x-----------------------x-------x-------------------\n",
      "-------------------x-x-----x-x---------------------x-x-----x-x------------------\n",
      "------------------x---x---x---x-------------------x---x---x---x-----------------\n",
      "-----------------x-x-x-x-x-x-x-x-----------------x-x-x-x-x-x-x-x----------------\n",
      "----------------x---------------x---------------x---------------x---------------\n",
      "---------------x-x-------------x-x-------------x-x-------------x-x--------------\n",
      "--------------x---x-----------x---x-----------x---x-----------x---x-------------\n",
      "-------------x-x-x-x---------x-x-x-x---------x-x-x-x---------x-x-x-x------------\n",
      "------------x-------x-------x-------x-------x-------x-------x-------x-----------\n",
      "-----------x-x-----x-x-----x-x-----x-x-----x-x-----x-x-----x-x-----x-x----------\n",
      "----------x---x---x---x---x---x---x---x---x---x---x---x---x---x---x---x---------\n",
      "---------x-x-x-x-x-x-x-x-x-x-x-x-x-x-x-x-x-x-x-x-x-x-x-x-x-x-x-x-x-x-x-x--------\n",
      "--------x---------------------------------------------------------------x-------\n",
      "-------x-x-------------------------------------------------------------x-x------\n",
      "------x---x-----------------------------------------------------------x---x-----\n",
      "-----x-x-x-x---------------------------------------------------------x-x-x-x----\n",
      "----x-------x-------------------------------------------------------x-------x---\n",
      "---x-x-----x-x-----------------------------------------------------x-x-----x-x--\n",
      "--x---x---x---x---------------------------------------------------x---x---x---x-\n",
      "-x-x-x-x-x-x-x-x-------------------------------------------------x-x-x-x-x-x-x-x\n",
      "----------------x-----------------------------------------------x---------------\n",
      "---------------x-x---------------------------------------------x-x--------------\n",
      "--------------x---x-------------------------------------------x---x-------------\n",
      "-------------x-x-x-x-----------------------------------------x-x-x-x------------\n",
      "------------x-------x---------------------------------------x-------x-----------\n",
      "-----------x-x-----x-x-------------------------------------x-x-----x-x----------\n",
      "----------x---x---x---x-----------------------------------x---x---x---x---------\n",
      "---------x-x-x-x-x-x-x-x---------------------------------x-x-x-x-x-x-x-x--------\n",
      "--------x---------------x-------------------------------x---------------x-------\n",
      "-------x-x-------------x-x-----------------------------x-x-------------x-x------\n",
      "------x---x-----------x---x---------------------------x---x-----------x---x-----\n",
      "-----x-x-x-x---------x-x-x-x-------------------------x-x-x-x---------x-x-x-x----\n",
      "----x-------x-------x-------x-----------------------x-------x-------x-------x---\n",
      "---x-x-----x-x-----x-x-----x-x---------------------x-x-----x-x-----x-x-----x-x--\n",
      "--x---x---x---x---x---x---x---x-------------------x---x---x---x---x---x---x---x-\n",
      "-x-x-x-x-x-x-x-x-x-x-x-x-x-x-x-x-----------------x-x-x-x-x-x-x-x-x-x-x-x-x-x-x-x\n",
      "--------------------------------x---------------x-------------------------------\n",
      "-------------------------------x-x-------------x-x------------------------------\n",
      "------------------------------x---x-----------x---x-----------------------------\n",
      "-----------------------------x-x-x-x---------x-x-x-x----------------------------\n",
      "----------------------------x-------x-------x-------x---------------------------\n",
      "---------------------------x-x-----x-x-----x-x-----x-x--------------------------\n",
      "--------------------------x---x---x---x---x---x---x---x-------------------------\n",
      "-------------------------x-x-x-x-x-x-x-x-x-x-x-x-x-x-x-x------------------------\n",
      "------------------------x-------------------------------x-----------------------\n",
      "-----------------------x-x-----------------------------x-x----------------------\n",
      "----------------------x---x---------------------------x---x---------------------\n",
      "---------------------x-x-x-x-------------------------x-x-x-x--------------------\n",
      "--------------------x-------x-----------------------x-------x-------------------\n",
      "-------------------x-x-----x-x---------------------x-x-----x-x------------------\n",
      "------------------x---x---x---x-------------------x---x---x---x-----------------\n",
      "-----------------x-x-x-x-x-x-x-x-----------------x-x-x-x-x-x-x-x----------------\n",
      "----------------x---------------x---------------x---------------x---------------\n",
      "---------------x-x-------------x-x-------------x-x-------------x-x--------------\n",
      "--------------x---x-----------x---x-----------x---x-----------x---x-------------\n",
      "-------------x-x-x-x---------x-x-x-x---------x-x-x-x---------x-x-x-x------------\n",
      "------------x-------x-------x-------x-------x-------x-------x-------x-----------\n",
      "-----------x-x-----x-x-----x-x-----x-x-----x-x-----x-x-----x-x-----x-x----------\n",
      "----------x---x---x---x---x---x---x---x---x---x---x---x---x---x---x---x---------\n",
      "---------x-x-x-x-x-x-x-x-x-x-x-x-x-x-x-x-x-x-x-x-x-x-x-x-x-x-x-x-x-x-x-x--------\n",
      "--------x---------------------------------------------------------------x-------\n",
      "-------x-x-------------------------------------------------------------x-x------\n",
      "------x---x-----------------------------------------------------------x---x-----\n",
      "-----x-x-x-x---------------------------------------------------------x-x-x-x----\n",
      "----x-------x-------------------------------------------------------x-------x---\n",
      "---x-x-----x-x-----------------------------------------------------x-x-----x-x--\n",
      "--x---x---x---x---------------------------------------------------x---x---x---x-\n",
      "-x-x-x-x-x-x-x-x-------------------------------------------------x-x-x-x-x-x-x-x\n",
      "----------------x-----------------------------------------------x---------------\n",
      "---------------x-x---------------------------------------------x-x--------------\n",
      "--------------x---x-------------------------------------------x---x-------------\n",
      "-------------x-x-x-x-----------------------------------------x-x-x-x------------\n",
      "------------x-------x---------------------------------------x-------x-----------\n",
      "-----------x-x-----x-x-------------------------------------x-x-----x-x----------\n",
      "----------x---x---x---x-----------------------------------x---x---x---x---------\n",
      "---------x-x-x-x-x-x-x-x---------------------------------x-x-x-x-x-x-x-x--------\n",
      "--------x---------------x-------------------------------x---------------x-------\n",
      "-------x-x-------------x-x-----------------------------x-x-------------x-x------\n",
      "------x---x-----------x---x---------------------------x---x-----------x---x-----\n",
      "-----x-x-x-x---------x-x-x-x-------------------------x-x-x-x---------x-x-x-x----\n",
      "----x-------x-------x-------x-----------------------x-------x-------x-------x---\n",
      "---x-x-----x-x-----x-x-----x-x---------------------x-x-----x-x-----x-x-----x-x--\n",
      "--x---x---x---x---x---x---x---x-------------------x---x---x---x---x---x---x---x-\n",
      "-x-x-x-x-x-x-x-x-x-x-x-x-x-x-x-x-----------------x-x-x-x-x-x-x-x-x-x-x-x-x-x-x-x\n",
      "--------------------------------x---------------x-------------------------------\n",
      "-------------------------------x-x-------------x-x------------------------------\n",
      "------------------------------x---x-----------x---x-----------------------------\n",
      "-----------------------------x-x-x-x---------x-x-x-x----------------------------\n",
      "----------------------------x-------x-------x-------x---------------------------\n",
      "---------------------------x-x-----x-x-----x-x-----x-x--------------------------\n",
      "--------------------------x---x---x---x---x---x---x---x-------------------------\n",
      "-------------------------x-x-x-x-x-x-x-x-x-x-x-x-x-x-x-x------------------------\n",
      "------------------------x-------------------------------x-----------------------\n",
      "-----------------------x-x-----------------------------x-x----------------------\n",
      "----------------------x---x---------------------------x---x---------------------\n",
      "---------------------x-x-x-x-------------------------x-x-x-x--------------------\n",
      "--------------------x-------x-----------------------x-------x-------------------\n",
      "-------------------x-x-----x-x---------------------x-x-----x-x------------------\n",
      "------------------x---x---x---x-------------------x---x---x---x-----------------\n",
      "-----------------x-x-x-x-x-x-x-x-----------------x-x-x-x-x-x-x-x----------------\n",
      "----------------x---------------x---------------x---------------x---------------\n",
      "---------------x-x-------------x-x-------------x-x-------------x-x--------------\n",
      "--------------x---x-----------x---x-----------x---x-----------x---x-------------\n",
      "-------------x-x-x-x---------x-x-x-x---------x-x-x-x---------x-x-x-x------------\n",
      "------------x-------x-------x-------x-------x-------x-------x-------x-----------\n",
      "-----------x-x-----x-x-----x-x-----x-x-----x-x-----x-x-----x-x-----x-x----------\n",
      "----------x---x---x---x---x---x---x---x---x---x---x---x---x---x---x---x---------\n",
      "---------x-x-x-x-x-x-x-x-x-x-x-x-x-x-x-x-x-x-x-x-x-x-x-x-x-x-x-x-x-x-x-x--------\n",
      "--------x---------------------------------------------------------------x-------\n",
      "-------x-x-------------------------------------------------------------x-x------\n",
      "------x---x-----------------------------------------------------------x---x-----\n",
      "-----x-x-x-x---------------------------------------------------------x-x-x-x----\n",
      "----x-------x-------------------------------------------------------x-------x---\n",
      "---x-x-----x-x-----------------------------------------------------x-x-----x-x--\n",
      "--x---x---x---x---------------------------------------------------x---x---x---x-\n",
      "-x-x-x-x-x-x-x-x-------------------------------------------------x-x-x-x-x-x-x-x\n",
      "----------------x-----------------------------------------------x---------------\n",
      "---------------x-x---------------------------------------------x-x--------------\n",
      "--------------x---x-------------------------------------------x---x-------------\n",
      "-------------x-x-x-x-----------------------------------------x-x-x-x------------\n",
      "------------x-------x---------------------------------------x-------x-----------\n",
      "-----------x-x-----x-x-------------------------------------x-x-----x-x----------\n",
      "----------x---x---x---x-----------------------------------x---x---x---x---------\n",
      "---------x-x-x-x-x-x-x-x---------------------------------x-x-x-x-x-x-x-x--------\n",
      "--------x---------------x-------------------------------x---------------x-------\n",
      "-------x-x-------------x-x-----------------------------x-x-------------x-x------\n",
      "------x---x-----------x---x---------------------------x---x-----------x---x-----\n",
      "-----x-x-x-x---------x-x-x-x-------------------------x-x-x-x---------x-x-x-x----\n",
      "----x-------x-------x-------x-----------------------x-------x-------x-------x---\n",
      "---x-x-----x-x-----x-x-----x-x---------------------x-x-----x-x-----x-x-----x-x--\n",
      "--x---x---x---x---x---x---x---x-------------------x---x---x---x---x---x---x---x-\n",
      "-x-x-x-x-x-x-x-x-x-x-x-x-x-x-x-x-----------------x-x-x-x-x-x-x-x-x-x-x-x-x-x-x-x\n",
      "--------------------------------x---------------x-------------------------------\n",
      "-------------------------------x-x-------------x-x------------------------------\n",
      "------------------------------x---x-----------x---x-----------------------------\n",
      "-----------------------------x-x-x-x---------x-x-x-x----------------------------\n",
      "----------------------------x-------x-------x-------x---------------------------\n",
      "---------------------------x-x-----x-x-----x-x-----x-x--------------------------\n",
      "--------------------------x---x---x---x---x---x---x---x-------------------------\n",
      "-------------------------x-x-x-x-x-x-x-x-x-x-x-x-x-x-x-x------------------------\n",
      "------------------------x-------------------------------x-----------------------\n",
      "-----------------------x-x-----------------------------x-x----------------------\n",
      "----------------------x---x---------------------------x---x---------------------\n",
      "---------------------x-x-x-x-------------------------x-x-x-x--------------------\n",
      "--------------------x-------x-----------------------x-------x-------------------\n",
      "-------------------x-x-----x-x---------------------x-x-----x-x------------------\n",
      "------------------x---x---x---x-------------------x---x---x---x-----------------\n",
      "-----------------x-x-x-x-x-x-x-x-----------------x-x-x-x-x-x-x-x----------------\n",
      "----------------x---------------x---------------x---------------x---------------\n",
      "---------------x-x-------------x-x-------------x-x-------------x-x--------------\n",
      "--------------x---x-----------x---x-----------x---x-----------x---x-------------\n",
      "-------------x-x-x-x---------x-x-x-x---------x-x-x-x---------x-x-x-x------------\n",
      "------------x-------x-------x-------x-------x-------x-------x-------x-----------\n",
      "-----------x-x-----x-x-----x-x-----x-x-----x-x-----x-x-----x-x-----x-x----------\n",
      "----------x---x---x---x---x---x---x---x---x---x---x---x---x---x---x---x---------\n",
      "---------x-x-x-x-x-x-x-x-x-x-x-x-x-x-x-x-x-x-x-x-x-x-x-x-x-x-x-x-x-x-x-x--------\n",
      "--------x---------------------------------------------------------------x-------\n",
      "-------x-x-------------------------------------------------------------x-x------\n",
      "------x---x-----------------------------------------------------------x---x-----\n",
      "-----x-x-x-x---------------------------------------------------------x-x-x-x----\n",
      "----x-------x-------------------------------------------------------x-------x---\n",
      "---x-x-----x-x-----------------------------------------------------x-x-----x-x--\n",
      "--x---x---x---x---------------------------------------------------x---x---x---x-\n",
      "-x-x-x-x-x-x-x-x-------------------------------------------------x-x-x-x-x-x-x-x\n",
      "----------------x-----------------------------------------------x---------------\n",
      "---------------x-x---------------------------------------------x-x--------------\n",
      "--------------x---x-------------------------------------------x---x-------------\n",
      "-------------x-x-x-x-----------------------------------------x-x-x-x------------\n",
      "------------x-------x---------------------------------------x-------x-----------\n",
      "-----------x-x-----x-x-------------------------------------x-x-----x-x----------\n",
      "----------x---x---x---x-----------------------------------x---x---x---x---------\n",
      "---------x-x-x-x-x-x-x-x---------------------------------x-x-x-x-x-x-x-x--------\n",
      "--------x---------------x-------------------------------x---------------x-------\n",
      "-------x-x-------------x-x-----------------------------x-x-------------x-x------\n",
      "------x---x-----------x---x---------------------------x---x-----------x---x-----\n",
      "-----x-x-x-x---------x-x-x-x-------------------------x-x-x-x---------x-x-x-x----\n",
      "----x-------x-------x-------x-----------------------x-------x-------x-------x---\n",
      "---x-x-----x-x-----x-x-----x-x---------------------x-x-----x-x-----x-x-----x-x--\n",
      "--x---x---x---x---x---x---x---x-------------------x---x---x---x---x---x---x---x-\n",
      "-x-x-x-x-x-x-x-x-x-x-x-x-x-x-x-x-----------------x-x-x-x-x-x-x-x-x-x-x-x-x-x-x-x\n",
      "--------------------------------x---------------x-------------------------------\n",
      "-------------------------------x-x-------------x-x------------------------------\n",
      "------------------------------x---x-----------x---x-----------------------------\n",
      "-----------------------------x-x-x-x---------x-x-x-x----------------------------\n",
      "----------------------------x-------x-------x-------x---------------------------\n",
      "---------------------------x-x-----x-x-----x-x-----x-x--------------------------\n",
      "--------------------------x---x---x---x---x---x---x---x-------------------------\n",
      "-------------------------x-x-x-x-x-x-x-x-x-x-x-x-x-x-x-x------------------------\n",
      "------------------------x-------------------------------x-----------------------\n",
      "-----------------------x-x-----------------------------x-x----------------------\n",
      "----------------------x---x---------------------------x---x---------------------\n",
      "---------------------x-x-x-x-------------------------x-x-x-x--------------------\n",
      "--------------------x-------x-----------------------x-------x-------------------\n",
      "-------------------x-x-----x-x---------------------x-x-----x-x------------------\n",
      "------------------x---x---x---x-------------------x---x---x---x-----------------\n",
      "-----------------x-x-x-x-x-x-x-x-----------------x-x-x-x-x-x-x-x----------------\n",
      "----------------x---------------x---------------x---------------x---------------\n",
      "---------------x-x-------------x-x-------------x-x-------------x-x--------------\n",
      "--------------x---x-----------x---x-----------x---x-----------x---x-------------\n",
      "-------------x-x-x-x---------x-x-x-x---------x-x-x-x---------x-x-x-x------------\n",
      "------------x-------x-------x-------x-------x-------x-------x-------x-----------\n",
      "-----------x-x-----x-x-----x-x-----x-x-----x-x-----x-x-----x-x-----x-x----------\n",
      "----------x---x---x---x---x---x---x---x---x---x---x---x---x---x---x---x---------\n",
      "---------x-x-x-x-x-x-x-x-x-x-x-x-x-x-x-x-x-x-x-x-x-x-x-x-x-x-x-x-x-x-x-x--------\n",
      "--------x---------------------------------------------------------------x-------\n",
      "-------x-x-------------------------------------------------------------x-x------\n",
      "------x---x-----------------------------------------------------------x---x-----\n",
      "-----x-x-x-x---------------------------------------------------------x-x-x-x----\n",
      "----x-------x-------------------------------------------------------x-------x---\n",
      "---x-x-----x-x-----------------------------------------------------x-x-----x-x--\n",
      "--x---x---x---x---------------------------------------------------x---x---x---x-\n",
      "-x-x-x-x-x-x-x-x-------------------------------------------------x-x-x-x-x-x-x-x\n",
      "----------------x-----------------------------------------------x---------------\n",
      "---------------x-x---------------------------------------------x-x--------------\n",
      "--------------x---x-------------------------------------------x---x-------------\n",
      "-------------x-x-x-x-----------------------------------------x-x-x-x------------\n",
      "------------x-------x---------------------------------------x-------x-----------\n",
      "-----------x-x-----x-x-------------------------------------x-x-----x-x----------\n",
      "----------x---x---x---x-----------------------------------x---x---x---x---------\n",
      "---------x-x-x-x-x-x-x-x---------------------------------x-x-x-x-x-x-x-x--------\n",
      "--------x---------------x-------------------------------x---------------x-------\n",
      "-------x-x-------------x-x-----------------------------x-x-------------x-x------\n",
      "------x---x-----------x---x---------------------------x---x-----------x---x-----\n",
      "-----x-x-x-x---------x-x-x-x-------------------------x-x-x-x---------x-x-x-x----\n",
      "----x-------x-------x-------x-----------------------x-------x-------x-------x---\n",
      "---x-x-----x-x-----x-x-----x-x---------------------x-x-----x-x-----x-x-----x-x--\n",
      "--x---x---x---x---x---x---x---x-------------------x---x---x---x---x---x---x---x-\n",
      "-x-x-x-x-x-x-x-x-x-x-x-x-x-x-x-x-----------------x-x-x-x-x-x-x-x-x-x-x-x-x-x-x-x\n",
      "--------------------------------x---------------x-------------------------------\n",
      "-------------------------------x-x-------------x-x------------------------------\n",
      "------------------------------x---x-----------x---x-----------------------------\n",
      "-----------------------------x-x-x-x---------x-x-x-x----------------------------\n",
      "----------------------------x-------x-------x-------x---------------------------\n",
      "---------------------------x-x-----x-x-----x-x-----x-x--------------------------\n",
      "--------------------------x---x---x---x---x---x---x---x-------------------------\n",
      "-------------------------x-x-x-x-x-x-x-x-x-x-x-x-x-x-x-x------------------------\n",
      "------------------------x-------------------------------x-----------------------\n",
      "-----------------------x-x-----------------------------x-x----------------------\n",
      "----------------------x---x---------------------------x---x---------------------\n",
      "---------------------x-x-x-x-------------------------x-x-x-x--------------------\n",
      "--------------------x-------x-----------------------x-------x-------------------\n",
      "-------------------x-x-----x-x---------------------x-x-----x-x------------------\n",
      "------------------x---x---x---x-------------------x---x---x---x-----------------\n",
      "-----------------x-x-x-x-x-x-x-x-----------------x-x-x-x-x-x-x-x----------------\n",
      "----------------x---------------x---------------x---------------x---------------\n",
      "---------------x-x-------------x-x-------------x-x-------------x-x--------------\n",
      "--------------x---x-----------x---x-----------x---x-----------x---x-------------\n",
      "-------------x-x-x-x---------x-x-x-x---------x-x-x-x---------x-x-x-x------------\n",
      "------------x-------x-------x-------x-------x-------x-------x-------x-----------\n",
      "-----------x-x-----x-x-----x-x-----x-x-----x-x-----x-x-----x-x-----x-x----------\n",
      "----------x---x---x---x---x---x---x---x---x---x---x---x---x---x---x---x---------\n",
      "---------x-x-x-x-x-x-x-x-x-x-x-x-x-x-x-x-x-x-x-x-x-x-x-x-x-x-x-x-x-x-x-x--------\n",
      "--------x---------------------------------------------------------------x-------\n",
      "-------x-x-------------------------------------------------------------x-x------\n",
      "------x---x-----------------------------------------------------------x---x-----\n",
      "-----x-x-x-x---------------------------------------------------------x-x-x-x----\n",
      "----x-------x-------------------------------------------------------x-------x---\n",
      "---x-x-----x-x-----------------------------------------------------x-x-----x-x--\n",
      "--x---x---x---x---------------------------------------------------x---x---x---x-\n",
      "-x-x-x-x-x-x-x-x-------------------------------------------------x-x-x-x-x-x-x-x\n",
      "----------------x-----------------------------------------------x---------------\n",
      "---------------x-x---------------------------------------------x-x--------------\n",
      "--------------x---x-------------------------------------------x---x-------------\n",
      "-------------x-x-x-x-----------------------------------------x-x-x-x------------\n",
      "------------x-------x---------------------------------------x-------x-----------\n",
      "-----------x-x-----x-x-------------------------------------x-x-----x-x----------\n",
      "----------x---x---x---x-----------------------------------x---x---x---x---------\n",
      "---------x-x-x-x-x-x-x-x---------------------------------x-x-x-x-x-x-x-x--------\n",
      "--------x---------------x-------------------------------x---------------x-------\n",
      "-------x-x-------------x-x-----------------------------x-x-------------x-x------\n",
      "------x---x-----------x---x---------------------------x---x-----------x---x-----\n",
      "-----x-x-x-x---------x-x-x-x-------------------------x-x-x-x---------x-x-x-x----\n",
      "----x-------x-------x-------x-----------------------x-------x-------x-------x---\n",
      "---x-x-----x-x-----x-x-----x-x---------------------x-x-----x-x-----x-x-----x-x--\n",
      "--x---x---x---x---x---x---x---x-------------------x---x---x---x---x---x---x---x-\n",
      "-x-x-x-x-x-x-x-x-x-x-x-x-x-x-x-x-----------------x-x-x-x-x-x-x-x-x-x-x-x-x-x-x-x\n",
      "--------------------------------x---------------x-------------------------------\n",
      "-------------------------------x-x-------------x-x------------------------------\n",
      "------------------------------x---x-----------x---x-----------------------------\n",
      "-----------------------------x-x-x-x---------x-x-x-x----------------------------\n",
      "----------------------------x-------x-------x-------x---------------------------\n",
      "---------------------------x-x-----x-x-----x-x-----x-x--------------------------\n",
      "--------------------------x---x---x---x---x---x---x---x-------------------------\n",
      "-------------------------x-x-x-x-x-x-x-x-x-x-x-x-x-x-x-x------------------------\n",
      "------------------------x-------------------------------x-----------------------\n",
      "-----------------------x-x-----------------------------x-x----------------------\n",
      "----------------------x---x---------------------------x---x---------------------\n",
      "---------------------x-x-x-x-------------------------x-x-x-x--------------------\n",
      "--------------------x-------x-----------------------x-------x-------------------\n",
      "-------------------x-x-----x-x---------------------x-x-----x-x------------------\n",
      "------------------x---x---x---x-------------------x---x---x---x-----------------\n",
      "-----------------x-x-x-x-x-x-x-x-----------------x-x-x-x-x-x-x-x----------------\n",
      "----------------x---------------x---------------x---------------x---------------\n",
      "---------------x-x-------------x-x-------------x-x-------------x-x--------------\n",
      "--------------x---x-----------x---x-----------x---x-----------x---x-------------\n",
      "-------------x-x-x-x---------x-x-x-x---------x-x-x-x---------x-x-x-x------------\n",
      "------------x-------x-------x-------x-------x-------x-------x-------x-----------\n",
      "-----------x-x-----x-x-----x-x-----x-x-----x-x-----x-x-----x-x-----x-x----------\n",
      "----------x---x---x---x---x---x---x---x---x---x---x---x---x---x---x---x---------\n",
      "---------x-x-x-x-x-x-x-x-x-x-x-x-x-x-x-x-x-x-x-x-x-x-x-x-x-x-x-x-x-x-x-x--------\n",
      "--------x---------------------------------------------------------------x-------\n",
      "-------x-x-------------------------------------------------------------x-x------\n",
      "------x---x-----------------------------------------------------------x---x-----\n",
      "-----x-x-x-x---------------------------------------------------------x-x-x-x----\n",
      "----x-------x-------------------------------------------------------x-------x---\n",
      "---x-x-----x-x-----------------------------------------------------x-x-----x-x--\n",
      "--x---x---x---x---------------------------------------------------x---x---x---x-\n",
      "-x-x-x-x-x-x-x-x-------------------------------------------------x-x-x-x-x-x-x-x\n",
      "----------------x-----------------------------------------------x---------------\n",
      "---------------x-x---------------------------------------------x-x--------------\n",
      "--------------x---x-------------------------------------------x---x-------------\n",
      "-------------x-x-x-x-----------------------------------------x-x-x-x------------\n",
      "------------x-------x---------------------------------------x-------x-----------\n",
      "-----------x-x-----x-x-------------------------------------x-x-----x-x----------\n",
      "----------x---x---x---x-----------------------------------x---x---x---x---------\n",
      "---------x-x-x-x-x-x-x-x---------------------------------x-x-x-x-x-x-x-x--------\n",
      "--------x---------------x-------------------------------x---------------x-------\n",
      "-------x-x-------------x-x-----------------------------x-x-------------x-x------\n",
      "------x---x-----------x---x---------------------------x---x-----------x---x-----\n",
      "-----x-x-x-x---------x-x-x-x-------------------------x-x-x-x---------x-x-x-x----\n",
      "----x-------x-------x-------x-----------------------x-------x-------x-------x---\n",
      "---x-x-----x-x-----x-x-----x-x---------------------x-x-----x-x-----x-x-----x-x--\n",
      "--x---x---x---x---x---x---x---x-------------------x---x---x---x---x---x---x---x-\n",
      "-x-x-x-x-x-x-x-x-x-x-x-x-x-x-x-x-----------------x-x-x-x-x-x-x-x-x-x-x-x-x-x-x-x\n",
      "--------------------------------x---------------x-------------------------------\n",
      "-------------------------------x-x-------------x-x------------------------------\n",
      "------------------------------x---x-----------x---x-----------------------------\n",
      "-----------------------------x-x-x-x---------x-x-x-x----------------------------\n",
      "----------------------------x-------x-------x-------x---------------------------\n",
      "---------------------------x-x-----x-x-----x-x-----x-x--------------------------\n",
      "--------------------------x---x---x---x---x---x---x---x-------------------------\n",
      "-------------------------x-x-x-x-x-x-x-x-x-x-x-x-x-x-x-x------------------------\n",
      "------------------------x-------------------------------x-----------------------\n",
      "-----------------------x-x-----------------------------x-x----------------------\n",
      "----------------------x---x---------------------------x---x---------------------\n",
      "---------------------x-x-x-x-------------------------x-x-x-x--------------------\n",
      "--------------------x-------x-----------------------x-------x-------------------\n",
      "-------------------x-x-----x-x---------------------x-x-----x-x------------------\n",
      "------------------x---x---x---x-------------------x---x---x---x-----------------\n",
      "-----------------x-x-x-x-x-x-x-x-----------------x-x-x-x-x-x-x-x----------------\n",
      "----------------x---------------x---------------x---------------x---------------\n",
      "---------------x-x-------------x-x-------------x-x-------------x-x--------------\n",
      "--------------x---x-----------x---x-----------x---x-----------x---x-------------\n",
      "-------------x-x-x-x---------x-x-x-x---------x-x-x-x---------x-x-x-x------------\n",
      "------------x-------x-------x-------x-------x-------x-------x-------x-----------\n",
      "-----------x-x-----x-x-----x-x-----x-x-----x-x-----x-x-----x-x-----x-x----------\n",
      "----------x---x---x---x---x---x---x---x---x---x---x---x---x---x---x---x---------\n",
      "---------x-x-x-x-x-x-x-x-x-x-x-x-x-x-x-x-x-x-x-x-x-x-x-x-x-x-x-x-x-x-x-x--------\n",
      "--------x---------------------------------------------------------------x-------\n",
      "-------x-x-------------------------------------------------------------x-x------\n",
      "------x---x-----------------------------------------------------------x---x-----\n",
      "-----x-x-x-x---------------------------------------------------------x-x-x-x----\n",
      "----x-------x-------------------------------------------------------x-------x---\n",
      "---x-x-----x-x-----------------------------------------------------x-x-----x-x--\n",
      "--x---x---x---x---------------------------------------------------x---x---x---x-\n",
      "-x-x-x-x-x-x-x-x-------------------------------------------------x-x-x-x-x-x-x-x\n",
      "----------------x-----------------------------------------------x---------------\n",
      "---------------x-x---------------------------------------------x-x--------------\n",
      "--------------x---x-------------------------------------------x---x-------------\n",
      "-------------x-x-x-x-----------------------------------------x-x-x-x------------\n",
      "------------x-------x---------------------------------------x-------x-----------\n",
      "-----------x-x-----x-x-------------------------------------x-x-----x-x----------\n",
      "----------x---x---x---x-----------------------------------x---x---x---x---------\n",
      "---------x-x-x-x-x-x-x-x---------------------------------x-x-x-x-x-x-x-x--------\n",
      "--------x---------------x-------------------------------x---------------x-------\n",
      "-------x-x-------------x-x-----------------------------x-x-------------x-x------\n",
      "------x---x-----------x---x---------------------------x---x-----------x---x-----\n",
      "-----x-x-x-x---------x-x-x-x-------------------------x-x-x-x---------x-x-x-x----\n",
      "----x-------x-------x-------x-----------------------x-------x-------x-------x---\n",
      "---x-x-----x-x-----x-x-----x-x---------------------x-x-----x-x-----x-x-----x-x--\n",
      "--x---x---x---x---x---x---x---x-------------------x---x---x---x---x---x---x---x-\n",
      "-x-x-x-x-x-x-x-x-x-x-x-x-x-x-x-x-----------------x-x-x-x-x-x-x-x-x-x-x-x-x-x-x-x\n",
      "--------------------------------x---------------x-------------------------------\n"
     ]
    }
   ],
   "source": [
    "rule90_automaton = {\n",
    "    'initial': 0,  # Estado inicial padrão\n",
    "    'transitions': {\n",
    "        # Para cada estado atual (0 ou 1), transições baseadas nos vizinhos (left, right)\n",
    "        0: {\n",
    "            (0, 0): 0,\n",
    "            (0, 1): 1,\n",
    "            (1, 0): 1,\n",
    "            (1, 1): 0,\n",
    "        },\n",
    "        1: {\n",
    "            (0, 0): 0,\n",
    "            (0, 1): 1,\n",
    "            (1, 0): 1,\n",
    "            (1, 1): 0,\n",
    "        },\n",
    "    },\n",
    "}\n",
    "\n",
    "\n",
    "def simulate_step(cells,automata):\n",
    "    n = len(cells)\n",
    "    new_cells = []\n",
    "    for i in range(n):\n",
    "        current_state = cells[i]\n",
    "        left = cells[(i - 1) % n]  # Vizinho esquerdo (anterior)\n",
    "        right = cells[(i + 1) % n] # Vizinho direito (próximo)\n",
    "        # Obter próximo estado usando o autômato (ignora current_state)\n",
    "        next_state = automata['transitions'][current_state][(left, right)]\n",
    "        new_cells.append(next_state)\n",
    "    return new_cells\n",
    "\n",
    "# Exemplo de simulação com 5 células e estado inicial centralizado\n",
    "initial_state = 0\n",
    "num_cells = 90\n",
    "steps = 139\n",
    "automata = rule90_automaton\n",
    "\n",
    "# Configuração inicial: todas 0, exceto a célula do meio como 1\n",
    "cells = [0] * num_cells\n",
    "cells[num_cells // 2] = 1  # Célula central é 1\n",
    "\n",
    "history = [cells.copy()]\n",
    "for _ in range(steps):\n",
    "    cells = simulate_step(cells,automata)\n",
    "    history.append(cells.copy())\n",
    "\n",
    "# Imprimir evolução\n",
    "print(\"Evolução do Sistema (Regra 90):\")\n",
    "for step, cells in enumerate(history):\n",
    "    states = ''.join('x' if num else '-' for num in cells)\n",
    "    print(states)"
   ]
  },
  {
   "cell_type": "markdown",
   "metadata": {},
   "source": [
    "## Exercícios de Revisão\n",
    "\n",
    "**Exercício 4:**\n",
    "\n",
    "Considere uma gramática, com símbolo inicial $ S $, com as seguintes produções:\n",
    "\n",
    "1. $ S \\rightarrow DSD $\n",
    "2. $ S \\rightarrow B $\n",
    "3. $ B \\rightarrow aCb $\n",
    "4. $ B \\rightarrow bCa $\n",
    "5. $ C \\rightarrow DCD $\n",
    "6. $ C \\rightarrow D $\n",
    "7. $ C \\rightarrow \\lambda $\n",
    "8. $ D \\rightarrow a $\n",
    "9. $ D \\rightarrow b $\n",
    "\n",
    "**Questões**\n",
    "\n",
    "1. Dê exemplos de 3 palavras em $ L(G) $.\n",
    "2. Dê exemplos de 3 palavras que não pertencem a $ L(G) $.\n",
    "3. Quais das seguintes afirmações são verdadeiras ou falsas?\n",
    "\n",
    "    - $ C \\Rightarrow aba $\n",
    "    - $ C \\Rightarrow^\\star aba $\n",
    "    - $ C \\Rightarrow C $\n",
    "    - $ C \\Rightarrow^\\ast C $\n",
    "    - $ DDD \\Rightarrow^\\ast aba $\n",
    "    - $ D \\Rightarrow^\\ast aba $\n",
    "    - $ C \\Rightarrow^\\star DD $"
   ]
  },
  {
   "cell_type": "markdown",
   "metadata": {},
   "source": [
    "**Exercício 5:**\n",
    "\n",
    "Para cada expressão regular abaixo, determine as produções em $ P $, de uma gramática regular (à direita) $G = (\\Sigma, V, P, S) $, tal que a expressão descreva a linguagem $ L(G) $ gerada pela gramática.\n",
    "\n",
    "1. $ a^\\ast b^\\ast cc $\n",
    "2. $ c^\\ast (a^+ | c) $\n",
    "3. $ a^+ cccc $\n",
    "4. $ cb^\\ast c $\n",
    "5. $ acb^\\ast a^\\ast b $\n",
    "6. $ ab^\\ast a $"
   ]
  },
  {
   "cell_type": "markdown",
   "metadata": {},
   "source": [
    "**Exercício 6:**\n",
    "\n",
    "Determine as linguagens regulares reconhecidas por cada um dos autómatos abaixo:"
   ]
  },
  {
   "cell_type": "markdown",
   "metadata": {},
   "source": [
    "1.\n",
    "   ![Autómato 1](images/auto10.png)"
   ]
  },
  {
   "cell_type": "markdown",
   "metadata": {},
   "source": [
    "2. ![Autómato 2](images/auto11.png)"
   ]
  },
  {
   "cell_type": "markdown",
   "metadata": {},
   "source": [
    "3. ![Autómato 3](images/auto12.png)"
   ]
  },
  {
   "cell_type": "markdown",
   "metadata": {},
   "source": [
    "4. ![Autómato 4](images/auto13.png)"
   ]
  },
  {
   "cell_type": "markdown",
   "metadata": {},
   "source": [
    "5. ![Autómato 5](images/auto14.png)"
   ]
  },
  {
   "cell_type": "markdown",
   "metadata": {},
   "source": [
    "6. ![Autómato 6](images/auto15.png)"
   ]
  },
  {
   "cell_type": "markdown",
   "metadata": {},
   "source": [
    "**Exercício 7:**\n",
    "\n",
    "Dê exemplos de autómatos que reconheçam cada uma das seguintes linguagens regulares (em todos os casos o alfabeto é $\\{0,1\\}$):\n",
    "\n",
    "1. $ A = \\{ w : w \\text{ o segundo símbolo é 1 e acaba com um 1} \\} $\n",
    "2. $ B = \\{ w : w \\text{ termina com três 1's} \\} $\n",
    "3. $ C = \\{ w : w \\text{ contém a subpalavra 01 ou a subpalavra 11} \\} $\n",
    "4. $ D = \\{ w : \\text{ ou } w \\text{ termina em 0 se começa com 0, ou } w \\text{ termina com 1 se começa com 1} \\} $\n",
    "5. $ E = \\{ w : w \\text{ não contém nem sequências 01, nem 11} \\} $\n",
    "6. $ H = \\{ w : \\text{ se } |w| > 3 \\text{ termina num 1} \\} $"
   ]
  },
  {
   "cell_type": "markdown",
   "metadata": {},
   "source": [
    "**Exercício 8:**\n",
    "\n",
    "Dado o diagrama de estados que descreve um autómato finito:"
   ]
  },
  {
   "cell_type": "markdown",
   "metadata": {},
   "source": [
    "![Diagrama do autómato](images/auto14.png)"
   ]
  },
  {
   "cell_type": "markdown",
   "metadata": {},
   "source": [
    "### Questões:\n",
    "\n",
    "1. Quais são os estados do autómato?\n",
    "2. Qual é o alfabeto do autómato?\n",
    "3. Qual é o estado inicial do autómato?\n",
    "4. Quais são os estados terminais do autómato?\n",
    "5. Qual é a sequência de estados para o input $ 0001011 $?\n",
    "6. Será que o autómato aceita a palavra $ 01011 $?\n",
    "7. Será que o autómato aceita a palavra $ \\lambda $ (vazia)? E a palavra $ 010110 $?\n",
    "8. Codifique a relação de transição do autómato através de uma tabela de dupla entrada.\n",
    "9. O autómato pode terminar a sua computação no estado $ s_1 $? Justifique.\n",
    "10. Codifique o autómato através de um dicionário.\n",
    "11. Implemente uma função `auto(dict, str) -> str`, tal que para um autómato descrito pelo dicionário $ G $ e para uma palavra $ w $, no alfabeto do autómato, `auto(G, w)` determina o estado final do autómato.\n",
    "12. Implemente uma função `aceita(dict, set, str) -> bool`, tal que para um autómato descrito pelo dicionário \\( G \\), de estados terminais no conjunto $ T $ e para uma palavra $ w $, `aceita(G, T, w)` devolve `True` se e só se a palavra $ w $ é aceite pelo autómato."
   ]
  },
  {
   "cell_type": "markdown",
   "metadata": {},
   "source": [
    "## Referências\n",
    "\n",
    "1. **\"Introduction to Automata Theory, Languages, and Computation\"**  \n",
    "**Autores:** John E. Hopcroft, Rajeev Motwani, Jeffrey D. Ullman  \n",
    "**Descrição:** Considerado a \"bíblia\" da teoria dos autômatos, aborda máquinas de estados finitos (DFA/NFA), linguagens regulares, e a hierarquia de Chomsky. Inclui exemplos práticos e problemas resolvidos.  \n",
    "**Tópicos-chave:** Autômatos finitos, expressões regulares, máquinas de Turing, aplicações em compiladores.  \n",
    "\n",
    "\n",
    "2. **\"A New Kind of Science\"**  \n",
    "**Autor:** Stephen Wolfram  \n",
    "**Descrição:** Explora autómatos celulares (como a Regra 110 e o Jogo da Vida) e sua relação com sistemas complexos. Wolfram argumenta que autômatos simples podem gerar comportamentos universais.  \n",
    "**Tópicos-chave:** Regra 90, emergência, sistemas dinâmicos, computação irreducível.  \n",
    "\n",
    "\n",
    "3. **\"Winning Ways for Your Mathematical Plays\" (Vol. 2)**  \n",
    "**Autores:** Elwyn R. Berlekamp, John H. Conway, Richard K. Guy  \n",
    "**Descrição:** Dedicado a jogos matemáticos, inclui uma análise detalhada do **Jogo da Vida de Conway**, suas regras e padrões (como \"gliders\" e \"still lifes\").  \n",
    "**Tópicos-chave:** Jogo da Vida, autômatos celulares, padrões autorreplicantes.  \n",
    "\n",
    "\n",
    "4. **\"Introduction to the Theory of Computation\"**  \n",
    "**Autor:** Michael Sipser  \n",
    "**Descrição:** Focado na interseção entre teoria da computação e linguagens formais. Explica autómatos finitos, máquinas de estados e sua aplicação em problemas de decisão.  \n",
    "**Tópicos-chave:** Linguagens regulares, decidibilidade, redução de estados.  \n",
    "\n"
   ]
  },
  {
   "cell_type": "code",
   "execution_count": null,
   "metadata": {},
   "outputs": [],
   "source": []
  }
 ],
 "metadata": {
  "colab": {
   "provenance": []
  },
  "kernelspec": {
   "display_name": "Python 3 (ipykernel)",
   "language": "python",
   "name": "python3"
  },
  "language_info": {
   "codemirror_mode": {
    "name": "ipython",
    "version": 3
   },
   "file_extension": ".py",
   "mimetype": "text/x-python",
   "name": "python",
   "nbconvert_exporter": "python",
   "pygments_lexer": "ipython3",
   "version": "3.10.12"
  }
 },
 "nbformat": 4,
 "nbformat_minor": 4
}
