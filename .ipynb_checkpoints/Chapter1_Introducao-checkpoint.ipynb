{
 "cells": [
  {
   "cell_type": "markdown",
   "metadata": {
    "id": "StcRlb3noOS9"
   },
   "source": [
    "# Introdução ao Python\n",
    "\n",
    "[Abrir no Colab este ficheiro para o poder executar](https://colab.research.google.com/github/melroleandro-solidreturn/Matematica-Discreta-para-Hackers/blob/main/Chapter1_Introducao.ipynb)"
   ]
  },
  {
   "cell_type": "markdown",
   "metadata": {
    "id": "2l6J6O0PoOS-"
   },
   "source": [
    "## Liguagem de programação\n",
    "\n",
    "\n",
    "\n",
    "Muito se pode dizer sobre as linguagens de programação, sendo a sua história longa e rica. Nesta secção, iremos focar a apresentação no que consideramos essencial para enquadrar a linguagem de programação Python no contexto atual do desenvolvimento tecnológico.\n",
    "\n"
   ]
  },
  {
   "cell_type": "markdown",
   "metadata": {
    "id": "h3jSSBe8oOS-"
   },
   "source": [
    "## Python\n",
    "\n",
    "A linguagem de programação Python é composta por diversas construções sintáticas, uma ampla variedade de funções em bibliotecas e estruturas de dados padrão da linguagem. Formalmente, podemos ignorar grande parte destes atributos para o tipo de aplicações que temos em mente. Pretendemos implementar funções simples ou pequenos programas com o intuito de resolver problemas de matemática discreta e incentivar o estudo mais aprofundado da mesma. A complexidade dos problemas será incrementada progressivamente ao longo dos capítulos. O que inicialmente são pequenos scripts, com meia dúzia de linhas de programação, nos últimos capítulos do livro exigirá a utilização de vários módulos descritos em ficheiros separados.\n",
    "\n",
    "Nesse sentido, na parte inicial ou nos capítulos iniciais, a execução das linhas de comando é feita utilizando Jupyter Notebooks. Adicionalmente, os leitores devem ter em atenção os recursos online disponíveis para a execução deste tipo de ambiente, em particular o Google Colab. Com uma conta Google, é possível aceder gratuitamente ao Colab, que permite criar, editar e executar notebooks com kernel Python diretamente no navegador. A integração com o Google Drive facilita o armazenamento dos ficheiros, a partilha e a colaboração, tornando o processo de experimentação e aprendizagem mais dinâmico e acessível, mesmo sem dispor de um ambiente de desenvolvimento local previamente configurado.\n"
   ]
  },
  {
   "cell_type": "markdown",
   "metadata": {
    "id": "TmsBqBDfoOS-"
   },
   "source": [
    "### Como Criar um Notebook no Google Colab\n",
    "\n",
    "Para os exemplos e experimentar o código, siga os seguintes passos para criar um notebook no Google Colab:\n",
    "\n",
    "1. **Aceda ao Google Colab**  \n",
    "   Abra o seu navegador e vá para [https://colab.research.google.com](https://colab.research.google.com). Se ainda não estiver autenticado, o site solicitará que inicie sessão com a sua conta Google.\n",
    "\n",
    "2. **Crie um Novo Notebook**  \n",
    "   Após iniciar sessão, será apresentada a página inicial do Colab. Para criar um novo notebook, clique no botão **\"Novo Notebook\"** ou selecione **\"Ficheiro\" > \"Novo notebook\"** no menu superior. O novo notebook será aberto com uma célula de código por padrão.\n",
    "\n",
    "3. **Explore a Estrutura do Notebook**  \n",
    "   Um Notebook é composto por uma sequência de células, que se dividem em dois tipos:\n",
    "   - **Células de Texto:** Estas células são utilizadas para inserir explicações, observações e comentários. Pode editá-las clicando duas vezes sobre o seu conteúdo.\n",
    "   - **Células de Código:** Estas células permitem inserir e executar código Python. Basta selecionar a célula e pressionar o botão de execução (ícone de \"play\") ou usar o atalho de teclado (Shift + Enter).\n",
    "\n",
    "4. **Guarde o Seu Trabalho no Google Drive**  \n",
    "   O Colab integra-se automaticamente com o seu Google Drive, garantindo que as alterações são guardadas em tempo real. Pode aceder ao seu ficheiro posteriormente, partilhá-lo com colegas e colaborar em conjunto.\n",
    "\n",
    "5. **Personalize e Experimente**  \n",
    "   Utilize as células de texto para adicionar notas ou comentários adicionais ao material fornecido, e não hesite em experimentar o código presente nas células de execução para ver os resultados na prática.\n",
    "\n",
    "\n",
    "Incentivamos que experimente o código fornecido nos nossos exemplos.\n",
    "\n",
    "Ao criar um notebook, o seu conteúdo inicial consiste normalmente numa única célula vazia, pronta para ser preenchida com código ou texto conforme as suas necessidades."
   ]
  },
  {
   "cell_type": "code",
   "execution_count": null,
   "metadata": {
    "collapsed": true,
    "id": "7d6w7KuLoOS_",
    "jupyter": {
     "outputs_hidden": true
    }
   },
   "outputs": [],
   "source": []
  },
  {
   "cell_type": "markdown",
   "metadata": {
    "id": "ZgdBF6PBoOS_"
   },
   "source": [
    "Neste caso, a célula está vazia, o que significa que não contém código ou programa para ser executado. Para executar uma célula, basta que esta esteja selecionada e pressione simultaneamente as teclas Shift+Return.\n",
    "\n",
    "A execução de uma célula no Jupyter invoca a execução do código pelo interpretador de Python. Para demonstrar isso, podemos começar por usar uma célula para realizar algumas operações aritméticas."
   ]
  },
  {
   "cell_type": "code",
   "execution_count": 83,
   "metadata": {
    "id": "IVzZsAy5oOTA",
    "outputId": "460ce867-296a-4953-e3fe-203c5679f1af"
   },
   "outputs": [
    {
     "data": {
      "text/plain": [
       "5"
      ]
     },
     "execution_count": 83,
     "metadata": {},
     "output_type": "execute_result"
    }
   ],
   "source": [
    "2+3"
   ]
  },
  {
   "cell_type": "markdown",
   "metadata": {
    "id": "m3ULB0M3oOTB"
   },
   "source": [
    "Resumindo: o resultado da avaliação de 2+3 é 5. Fantástico. Ou seja, o código 2+3 é interpretado pelo interpretador de Python como sendo o valor numérico 5.\n",
    "\n",
    "As células são numeradas à medida que são executadas. Com **In[1]**, o sistema identifica a primeira linha de código executada (o primeiro **in**put). Com **Out[1]**, o sistema identifica o resultado ou interpretação (ou **out**put) da execução do primeiro input.\n",
    "\n",
    "Aqui, utilizamos como exemplo o símbolo clássico + para representar a operação de adição. Em Python, também usamos - e / para representar as operações de subtração e divisão, respetivamente. Outras operações têm representações menos imediatas. Por exemplo, usamos 2*3 para descrever $2\\times 3$ (o produto de 2 por 3) e 2**3 para identificar $2^3$ (dois ao cubo). Neste caso, todos os exemplos apresentados são operadores (aritméticos) com dois argumentos numéricos. Em *2+3*, o operador tem como argumentos os números 2 e 3. Neste sentido, **+** é um operador binário, pois utiliza dois argumentos.\n",
    "\n",
    "Experimente alterar o operador, utilizando para isso a sintaxe descrita na tabela que se segue."
   ]
  },
  {
   "cell_type": "code",
   "execution_count": 84,
   "metadata": {
    "id": "2Ek0WMgqoOTB",
    "outputId": "3070a91a-ca15-4cca-ba24-46886725b877"
   },
   "outputs": [
    {
     "data": {
      "text/plain": [
       "5"
      ]
     },
     "execution_count": 84,
     "metadata": {},
     "output_type": "execute_result"
    }
   ],
   "source": [
    "2+3"
   ]
  },
  {
   "cell_type": "markdown",
   "metadata": {
    "id": "QQoo3NbUoOTB"
   },
   "source": [
    "| Operador | Operação                      | Exemplo     | Valor |\n",
    "|----------|-------------------------------|-------------|-------|\n",
    "| **       | potência                      | 2 ** 3      | 8     |\n",
    "| %        | resto da divisão inteira      | 22 % 8      | 6     |\n",
    "| //       | quociente da divisão inteira  | 22 // 8     | 2     |\n",
    "| /        | divisão                       | 22 / 8      | 2.75  |\n",
    "| *        | multiplicação                 | 3 * 5       | 15    |\n",
    "| -        | subtração                     | 5 - 2       | 3     |\n",
    "| +        | adição                        | 2 + 2       | 4     |\n",
    "\n",
    "A ordem das operações, também designada por precedência dos operadores aritméticos, utilizada pelo interpretador de Python é semelhante à que é usada na aritmética. Quando escritos em sequência, os operadores \\*\\* (potência) são avaliados primeiro; os operadores \\*, /, // e % são avaliados em seguida, da esquerda para a direita; por último, são avaliados + e - (também da esquerda para a direita). Naturalmente, podemos usar parênteses para sobrepor a ordem de avaliação desejada.\n",
    "\n",
    "Dado o descrito, a interpretação de 2+2\\*11//+1 é *5*:"
   ]
  },
  {
   "cell_type": "code",
   "execution_count": 85,
   "metadata": {
    "id": "-MZbhBMKoOTC",
    "outputId": "8b9fda7c-498e-4d60-d291-a4cecd5a1b7d"
   },
   "outputs": [
    {
     "data": {
      "text/plain": [
       "5"
      ]
     },
     "execution_count": 85,
     "metadata": {},
     "output_type": "execute_result"
    }
   ],
   "source": [
    "2+2*11//8+1"
   ]
  },
  {
   "cell_type": "markdown",
   "metadata": {
    "id": "ToIW7oCUoOTC"
   },
   "source": [
    "Que tem a mesma interpretação que (2+((2\\*11)//8))+1, primeiro calculamos 2\\*11, depois 22//8, de seguida fazemos 2+2, por fim 2+1."
   ]
  },
  {
   "cell_type": "code",
   "execution_count": 86,
   "metadata": {
    "id": "aH3hV5OGoOTC",
    "outputId": "1d38cb13-193b-4611-d9fe-d9a2041941ce"
   },
   "outputs": [
    {
     "data": {
      "text/plain": [
       "5"
      ]
     },
     "execution_count": 86,
     "metadata": {},
     "output_type": "execute_result"
    }
   ],
   "source": [
    "(2+((2*11)//8))+1"
   ]
  },
  {
   "cell_type": "markdown",
   "metadata": {
    "id": "Bim4cfqroOTC"
   },
   "source": [
    "A interpretação de um pedaço de código pelo interpretador é um processo complexo que envolve duas fases. Na primeira fase, o sistema verifica a sintaxe da expressão, validando se a sequência de símbolos que constituem as linhas de código faz sentido. Na segunda fase, o sistema avalia o código. Genericamente, a avaliação de um pedaço de código leva a uma alteração do estado da memória do computador, podendo resultar na produção de um resultado, como nos exemplos anteriores.\n",
    "\n",
    "Por exemplo, na célula abaixo, temos uma sequência de símbolos que descrevem uma expressão aritmética e que é sintaticamente correta:"
   ]
  },
  {
   "cell_type": "code",
   "execution_count": 87,
   "metadata": {
    "id": "0AgVKSofoOTC",
    "outputId": "2237eaae-47be-4e37-f7ba-b8629990076b"
   },
   "outputs": [
    {
     "data": {
      "text/plain": [
       "16.0"
      ]
     },
     "execution_count": 87,
     "metadata": {},
     "output_type": "execute_result"
    }
   ],
   "source": [
    "(5 - 1) * ((7 + 1) / (3 - 1))"
   ]
  },
  {
   "cell_type": "markdown",
   "metadata": {
    "id": "gdXvgQq1oOTD"
   },
   "source": [
    "Ao tentar avaliar uma expressão, como a mencionada anteriormente, o Python, guiado pela ordem de precedência imposta pelos operadores ou pela parentização, avalia progressivamente subfórmulas até obter um valor único.\n",
    "\n",
    "Resolução da expressão:\n",
    "\n",
    "$$\n",
    "\\begin{array}{cc}\n",
    "  (5 - 1) \\times (7 + 1)/(3 - 1) & \\\\\n",
    "  \\downarrow & \\\\\n",
    "  4 \\times (7 + 1)/(3 - 1) & \\\\\n",
    "  \\downarrow & \\\\\n",
    "  4 \\times 8/(3 - 1) & \\\\\n",
    "  \\downarrow & \\\\\n",
    "  4 \\times 8/2 & \\\\\n",
    "  \\downarrow & \\\\\n",
    "  4 \\times 4.0 & \\\\\n",
    "  \\downarrow & \\\\\n",
    "  16.0 &\n",
    "\\end{array}\n",
    "$$\n",
    "\n",
    "\n",
    "As regras utilizadas para formar expressões que podem ser avaliadas (ou que o interpretador de Python reconheça) descrevem a gramática desta linguagem de programação. Neste livro, não iremos fazer uma descrição detalhada da gramática da linguagem de programação, contudo apresentaremos alguns fragmentos da linguagem. O último capítulo do livro é dedicado a uma descrição formal do que se entende por gramática de uma linguagem.\n",
    "\n",
    "\n",
    "Sempre que solicitamos ao Python para executar uma instrução desconhecida ou que está incorretamente descrita, não respeitando a gramática da linguagem Python, é emitida uma mensagem identificando um erro de sintaxe. Isto impede que o código seja avaliado pelo sistema."
   ]
  },
  {
   "cell_type": "code",
   "execution_count": 88,
   "metadata": {
    "id": "Zj0OTSotoOTD",
    "outputId": "84eb066d-3330-4ccd-f341-41dcff37d006"
   },
   "outputs": [
    {
     "ename": "SyntaxError",
     "evalue": "invalid syntax (4281351646.py, line 1)",
     "output_type": "error",
     "traceback": [
      "\u001b[0;36m  Cell \u001b[0;32mIn[88], line 1\u001b[0;36m\u001b[0m\n\u001b[0;31m    5+\u001b[0m\n\u001b[0m      ^\u001b[0m\n\u001b[0;31mSyntaxError\u001b[0m\u001b[0;31m:\u001b[0m invalid syntax\n"
     ]
    }
   ],
   "source": [
    "5+"
   ]
  },
  {
   "cell_type": "code",
   "execution_count": null,
   "metadata": {
    "id": "qnoIVqpeoOTD",
    "outputId": "4af0d700-6654-452b-8855-a1003d3b1ebe"
   },
   "outputs": [],
   "source": [
    "42 + 5 + * 2"
   ]
  },
  {
   "cell_type": "markdown",
   "metadata": {
    "id": "kkUb-foxoOTD"
   },
   "source": [
    "Acima são apresentados dois exemplos de expressões que, com os nossos conhecimentos de aritmética, não conseguimos avaliar. Da mesma forma, estas expressões não respeitam as regras da linguagem de programação. O interpretador gera, nestes casos, um erro. Este tipo de erro é usualmente designado como **erros de sintaxe**, alertando que o código não pode ser executado."
   ]
  },
  {
   "cell_type": "markdown",
   "metadata": {
    "id": "kYLgYc9YoOTD"
   },
   "source": [
    "Os argumentos dos operadores e o resultado de avaliar as fórmulas anteriores são valores numéricos. Estes valores são representados por cadeias de dígitos, que o sistema (e nós) interpretamos como números. Estas cadeias são, em Python, designadas como **constantes literais**."
   ]
  },
  {
   "cell_type": "markdown",
   "metadata": {
    "id": "5RazH7icoOTD"
   },
   "source": [
    "### Constantes Literais\n",
    "\n",
    "Como exemplos de constantes literais usados anteriormente, temos *2* e *3*. No entanto, também poderíamos ter usado *32*. O mundo não se resume apenas a números; frequentemente, precisamos de palavras para descrever as coisas. Qualquer cadeia de símbolos, como *'Isto é fantástico!'*, que corresponde a uma sequência de palavras em Português, é também considerada pelo interpretador como uma constante literal. Estas cadeias de símbolos em programação são genericamente designadas como **strings**, entendidas como sequências de caracteres.\n",
    "\n",
    "Outros exemplos de constantes literais incluem *1.23* ou *9.25e-3*. Como exemplos de strings, temos *'Isto é uma string'* ou *\"É uma string!\"*. Estas identidades são consideradas constantes porque o seu significado não varia com o contexto da interpretação do código. São constantes literais porque devem ser interpretadas à letra (literalmente) pelo ser humano.\n",
    "\n",
    "Genericamente, as constantes literais são classificadas em duas categorias: ou representam **números**, ou são **strings**.\n"
   ]
  },
  {
   "cell_type": "markdown",
   "metadata": {
    "id": "rl7Ad9wloOTE"
   },
   "source": [
    "### Números\n",
    "\n",
    "Os números em Python podem ser classificados em três tipos: *inteiros*, *ponto flutuante* e *complexos*:\n",
    "\n",
    "1. *2* é um exemplo de inteiro. Os inteiros são elementos do conjunto dos números inteiros. Contudo, existem limitações quanto à magnitude dos inteiros que podemos usar.\n",
    "\n",
    "2. *3.23* e *52.3E-4* são exemplos de números decimais ou no sistema de ponto flutuante (ou floats, para abreviar). No segundo caso, o símbolo **E** indica uma potência de *10*. Assim, *52.3E-4* representa o número *52.3* $\\times$ *10* $^{-4}$. Para simplificar neste livro, este tipo de números será designado como decimal ou float.\n",
    "\n",
    "3. (*-5+4j*) e (*2.3 - 4.6j*) são exemplos de números complexos, que em Matemática são habitualmente representados por *-5+4i* e *2.3 - 4.6i*.\n",
    "\n",
    "Neste curso, não vamos abordar números complexos. Utilizaremos números decimais esporadicamente, principalmente em exemplos que aplicam algumas funções das bibliotecas *standard* do Python. Apesar de serem elementos fundamentais em áreas da Matemática Aplicada, os exemplos deste curso centrar-se-ão em estruturas criadas com base em números inteiros e strings. Estas estruturas serão mais adiante designadas como **Estruturas de Dados**."
   ]
  },
  {
   "cell_type": "markdown",
   "metadata": {
    "id": "oyIuq3FroOTE"
   },
   "source": [
    "### Strings\n",
    "\n",
    "Uma string é uma constante literária composta por uma sequência de símbolos. As strings são frequentemente utilizadas para representar frases que podem incluir símbolos baseados no padrão Unicode, como os usados em idiomas como Chinês ou Japonês. O termo \"carácter\" refere-se aos elementos individuais que compõem uma string, podendo estes ser letras, números, símbolos de pontuação ou quaisquer outros símbolos representáveis e processáveis pelo sistema. Em Python, uma string é definida como uma sequência ordenada de caracteres que pode ser manipulada e processada de várias formas. O Unicode é um sistema de codificação universal que atribui um número único, conhecido como código Unicode, a cada símbolo, independentemente da plataforma, programa ou linguagem utilizada. Além do Unicode, existe outra forma de representação de símbolos na computação: o sistema ASCII, que é o mais antigo e importante.\n",
    "\n",
    "Dada a relevância deste tipo de entidade em Python, as strings podem ser definidas de diversas maneiras na linguagem. Todas estas formas seguem uma estrutura comum: uma string é uma sequência de símbolos onde uma sequência inicial delimita o início da string e uma sequência final indica o seu término. As delimitações da string podem ser feitas utilizando aspas simples, aspas duplas ou até mesmo aspas triplas."
   ]
  },
  {
   "cell_type": "markdown",
   "metadata": {
    "id": "qe5OiTcqoOTE"
   },
   "source": [
    "### Aspas Unitárias\n",
    "Uma string pode ser definida por uma sequência de caracteres delimitada por aspas simples (também conhecidas como apóstrofos), como mostrado abaixo:"
   ]
  },
  {
   "cell_type": "code",
   "execution_count": null,
   "metadata": {
    "id": "M-ZjpXapoOTE",
    "outputId": "8d2b090e-e0f0-4731-ab67-05cb5443b936"
   },
   "outputs": [],
   "source": [
    "'O estudo da lógica remonta à civilização helénica'"
   ]
  },
  {
   "cell_type": "markdown",
   "metadata": {
    "id": "S8WxLjj1oOTE"
   },
   "source": [
    "Este é o processo mais comum para as representar. As outras formas de descrever tentam apenas facilitar o trabalho dum programados."
   ]
  },
  {
   "cell_type": "markdown",
   "metadata": {
    "id": "svIjPtA8oOTE"
   },
   "source": [
    "### Aspas Duplas\n",
    "\n",
    "Assim, as strings também podem ser definidas utilizando aspas duplas, como exemplificado abaixo:"
   ]
  },
  {
   "cell_type": "code",
   "execution_count": null,
   "metadata": {
    "id": "pUSE7lMPoOTE",
    "outputId": "144cba28-c764-4a06-9c32-440eb5dae1dc"
   },
   "outputs": [],
   "source": [
    "\"A arte da argumentação levou à morte de Sócrates.\""
   ]
  },
  {
   "cell_type": "markdown",
   "metadata": {
    "id": "l2Rf2Iv9oOTF"
   },
   "source": [
    "Note que aqui no resultado da interpretação o símbolo \" foi transformado numa aspa simples '."
   ]
  },
  {
   "cell_type": "markdown",
   "metadata": {
    "id": "ldK8Xc_xoOTF"
   },
   "source": [
    "### Aspas Triplas\n",
    "Outra forma a definir strings que ocupam várias linhas é usar aspas triplas (\"\"\" ou '''). Um exemplo:"
   ]
  },
  {
   "cell_type": "code",
   "execution_count": null,
   "metadata": {
    "id": "E4vQI6rpoOTF",
    "outputId": "0ed85ad9-6802-4612-d9bf-b11c73b29e06"
   },
   "outputs": [],
   "source": [
    " '''A palavra \"trivial\" possui uma etimologia fascinante.\n",
    " Deriva da junção de \"tri\" (que significa 'três') e \"via\" (que significa 'caminho').\n",
    " Originalmente, refere-se ao \"trivium\", que são as três áreas fundamentais do\n",
    " 'curriculae': gramática, retórica e lógica.\n",
    " Estas são disciplinas que se deve dominar para aceder ao \"quadrivium\", composto por aritmética, geometria, música e astronomia.'''"
   ]
  },
  {
   "cell_type": "markdown",
   "metadata": {
    "id": "1uIs7pfMoOTF"
   },
   "source": [
    "Note que, ao contrário dos exemplos anteriores, este exemplo estende-se por várias linhas na célula de execução. No entanto, o resultado da interpretação da string é alterado. As aspas e a mudança de linha são agora codificadas como ' e \\n, respectivamente. Podemos compreender estas sequências como representações internas dos elementos do texto original, sendo conhecidas como sequências de escape. A sequência \\n representa a mudança de linha. Como o Python utiliza as aspas simples para representar strings, as aspas que aparecem dentro da string são substituídas por '.\n",
    "\n",
    "É importante notar que as aspas simples ou duplas não reconhecem automaticamente a mudança de linha, como exemplificado a seguir:"
   ]
  },
  {
   "cell_type": "code",
   "execution_count": null,
   "metadata": {
    "id": "iMXpbRVeoOTF",
    "outputId": "5c713d0d-3578-46fe-f3ff-448345f3ae6b"
   },
   "outputs": [],
   "source": [
    "'Isto\n",
    "está\n",
    "mal...'"
   ]
  },
  {
   "cell_type": "markdown",
   "metadata": {
    "id": "cqnYUlcYoOTG"
   },
   "source": [
    "Neste caso, o Python tenta encontrar o símbolo de fim de string. Como não o encontra na linha onde a string começou a ser definida, é gerado um erro de sintaxe.\n",
    "\n",
    "Para visualizar corretamente o conteúdo de uma string que contém sequências de escape, é necessário utilizar o comando print.\n",
    "\n",
    "O comando print pode ser entendido como uma função que imprime uma representação legível para o humano do seu argumento ou argumentos."
   ]
  },
  {
   "cell_type": "code",
   "execution_count": null,
   "metadata": {
    "id": "MWze4goaoOTG",
    "outputId": "cf4521a7-9c61-47ca-e33f-bc74258b4b00"
   },
   "outputs": [],
   "source": [
    "print('A palavra \"trivial\" tem uma etimologia interessante. \\nÉ a conjugação de \"tri\" (significando \\'3\\') e \"via\" (significando caminho).\\nOriginalmente refere-se ao \"trivium\", as três áreas fundamentais do\\n\\'curriculae\\': gramática, retórica e lógica.\\nAssuntos que se tem de dominar para aceder ao \"quadrivium\", que\\nconsiste na aritmética, geometria, música e astronomia.\\n')"
   ]
  },
  {
   "cell_type": "markdown",
   "metadata": {
    "id": "--5huS88oOTG"
   },
   "source": [
    "Note que agora, as sequência de escape são representados pelo seu significado. Neste contexto, o texto devolvido não é identificado pelo Jupyter como o resultado da interpretação do código. O texto é agora o resultado de executar o comando *print*.\n",
    "\n",
    "Assim podemos produzir o significado original:"
   ]
  },
  {
   "cell_type": "code",
   "execution_count": null,
   "metadata": {
    "id": "RYwEHuDjoOTG",
    "outputId": "c4756062-3bf1-47f6-8fa3-b2510adbd91b"
   },
   "outputs": [],
   "source": [
    "print( '''A palavra \"trivial\" tem uma etimologia interessante.\n",
    " É a conjugação de \"tri\" (significando '3') e \"via\" (significando caminho).\n",
    " Originalmente refere-se ao \"trivium\", as três áreas fundamentais do\n",
    " 'curriculae': gramática, retórica e lógica.\n",
    " Assuntos que se tem de dominar para aceder ao \"quadrivium\", que\n",
    " consiste na aritmética, geometria, música e astronomia.''')"
   ]
  },
  {
   "cell_type": "markdown",
   "metadata": {
    "id": "aD7XUFKQoOTG"
   },
   "source": [
    "A função print é bastante versátil. Para explorar as suas capacidades, experimente com os exemplos abaixo:"
   ]
  },
  {
   "cell_type": "code",
   "execution_count": null,
   "metadata": {
    "id": "EcdlSpfboOTH",
    "outputId": "24b19a8c-3b20-4a4c-b3dc-c61faa4273ef"
   },
   "outputs": [],
   "source": [
    "print(2+3)"
   ]
  },
  {
   "cell_type": "code",
   "execution_count": null,
   "metadata": {
    "id": "eYVWO0KxoOTH",
    "outputId": "7af34764-0673-4c8f-9be9-074cf630c27e"
   },
   "outputs": [],
   "source": [
    "print('A','String','está','partida','!')"
   ]
  },
  {
   "cell_type": "code",
   "execution_count": null,
   "metadata": {
    "id": "gSBZJE1OoOTI",
    "outputId": "99b33c37-6cd5-4211-8848-18781a92a7d8",
    "scrolled": true
   },
   "outputs": [],
   "source": [
    "print('2+3 =',2+3)"
   ]
  },
  {
   "cell_type": "markdown",
   "metadata": {
    "id": "OhrTFWrSoOTI"
   },
   "source": [
    "Em cada um dos exemplos abaixo, ao executar a célula, será apresentada uma representação das avaliações dos argumentos da função print. Como já vimos, esta representação pode diferir da apresentada pelo interpretador."
   ]
  },
  {
   "cell_type": "markdown",
   "metadata": {
    "id": "Qb44r_3loOTI"
   },
   "source": [
    "### Sequências de Escape\n",
    "\n",
    "Existem várias sequências de escape, para além das duas que apresentámos anteriormente.\n",
    "Recordando: Para definir uma string que contenha um apóstrofe ('), podemos fazer:"
   ]
  },
  {
   "cell_type": "code",
   "execution_count": null,
   "metadata": {
    "id": "VnorGGNaoOTI",
    "outputId": "0fe45903-8519-4eec-c408-f6c31ad435b1"
   },
   "outputs": [],
   "source": [
    "print('Why was logic considered to be fundamental to one\\'s education?')"
   ]
  },
  {
   "cell_type": "markdown",
   "metadata": {
    "id": "msYGa17uoOTI"
   },
   "source": [
    "Só assim o apóstrofe interna não entra em conflito com os delimitadores. Caso contrário temos:"
   ]
  },
  {
   "cell_type": "code",
   "execution_count": null,
   "metadata": {
    "id": "Dwc3bZ-AoOTI",
    "outputId": "9980d45b-a621-409c-a4ff-43dcba6b1660"
   },
   "outputs": [],
   "source": [
    "print('Why was logic considered to be fundamental to one's education?')"
   ]
  },
  {
   "cell_type": "markdown",
   "metadata": {
    "id": "KbgOR8_doOTJ"
   },
   "source": [
    "Caso se escolha outro delimitador de string este problema pode ser ultrapassado."
   ]
  },
  {
   "cell_type": "code",
   "execution_count": null,
   "metadata": {
    "id": "UDasgIQIoOTJ",
    "outputId": "9e9a9ce8-01ed-42e0-b8cd-9c9819283fc3"
   },
   "outputs": [],
   "source": [
    "print(\"Why was logic considered to be fundamental to one's education?\")"
   ]
  },
  {
   "cell_type": "markdown",
   "metadata": {
    "id": "NKy3ZsPUoOTJ"
   },
   "source": [
    "Mas para este delimitador, é agora usada uma sequência de escape para inserir aspas duplas no meio da *string*. A própria barra invertida só pode ser inserida na *string* pela sequência de escape $\\setminus\\setminus$, pois caso contrário é assumida como inicio de uma sequência de escape."
   ]
  },
  {
   "cell_type": "code",
   "execution_count": null,
   "metadata": {
    "id": "jia5rUJ5oOTJ",
    "outputId": "367661a6-2b29-4781-9a24-9411ec14e04b"
   },
   "outputs": [],
   "source": [
    "print(\"--\\\"\\\\\\\"...\")"
   ]
  },
  {
   "cell_type": "code",
   "execution_count": null,
   "metadata": {
    "id": "baWedL3ToOTJ",
    "outputId": "59cc4db8-6788-41bf-d550-b9fd9bafea6c"
   },
   "outputs": [],
   "source": [
    "print('A lógica centra-se na razão e na noção de verdade.\\nA retórica fundamenta-se em ideias feitas e populistas.')"
   ]
  },
  {
   "cell_type": "markdown",
   "metadata": {
    "id": "ynT7DJLzoOTJ"
   },
   "source": [
    "\n",
    "Existem outras sequências de escape, sendo apresentadas aqui apenas as mais comumente usadas. Para uma descrição mais detalhada e sistemática, consulte a documentação oficial do interpretador em https://www.python.org/.\n",
    "\n",
    "Ao programar em um editor de texto, frequentemente surge a necessidade de continuar uma string na linha imediatamente abaixo. Para isso, utiliza-se uma única barra invertida no final da linha. Por exemplo, para escrever Looking Glass de Lewis Carroll em uma única instrução print, podemos fazer o seguinte:"
   ]
  },
  {
   "cell_type": "code",
   "execution_count": null,
   "metadata": {
    "id": "U6ryCefWoOTK",
    "outputId": "84282970-dce5-4de3-eb67-32c087aa8333"
   },
   "outputs": [],
   "source": [
    "print(\"\\\"Reciprocamente\\\", continuou Tweedledee, \\\n",
    "\\\"Se é assim, ele pode ser, \\n \\\n",
    "e se não é, será; mas como não é não se preocupa. \\\n",
    "Isto é lógica.\\\" \")"
   ]
  },
  {
   "cell_type": "markdown",
   "metadata": {
    "id": "ORlZEiFkoOTK"
   },
   "source": [
    "Se por algum motivo necessitar que as sequências de escape na definição da string não sejam interpretadas pelo comando print, deve utilizar como prefixo um 'r' ou um 'R'. Por exemplo, considerando a string anterior:"
   ]
  },
  {
   "cell_type": "code",
   "execution_count": null,
   "metadata": {
    "id": "qCPpmgTAoOTK",
    "outputId": "e0ba2de0-0029-4774-d7f3-68ccbfdf8387"
   },
   "outputs": [],
   "source": [
    "print(r\"\\\"Reciprocamente\\\", continuou Tweedledee, \\\n",
    "\\\"Se é assim, ele pode ser, \\n \\\n",
    "e se não é, será; mas como não é não se preocupa. \\\n",
    "Isto é lógica.\\\" \")"
   ]
  },
  {
   "cell_type": "markdown",
   "metadata": {
    "id": "cRDlrD-QoOTK"
   },
   "source": [
    "Já apresentámos operadores que podem ser usados para operar com valores numéricos. Da mesma forma, existem operadores que podemos utilizar com strings.\n",
    "\n",
    "### Concatenação de Literais do Tipo String\n",
    "\n",
    "Quando, numa linha de código, duas strings são colocadas lado a lado, o interpretador realiza a sua concatenação. Ou seja, cria uma nova string formada pela junção sucessiva das várias strings. Por exemplo:"
   ]
  },
  {
   "cell_type": "code",
   "execution_count": null,
   "metadata": {
    "id": "QZcS1PhcoOTK",
    "outputId": "b7e9f856-8a1f-4e6e-aa7d-0deb57595447"
   },
   "outputs": [],
   "source": [
    "print('Originalmente' ' a lógica lidava' ' com linguagem natural')"
   ]
  },
  {
   "cell_type": "markdown",
   "metadata": {
    "id": "4pSo6cFWoOTL"
   },
   "source": [
    "No entanto, esta prática pode tornar-se bastante confusa. De forma mais clara e descritiva, podemos utilizar o operador '+' para a concatenação:"
   ]
  },
  {
   "cell_type": "code",
   "execution_count": null,
   "metadata": {
    "id": "kUIaz1JuoOTL",
    "outputId": "c8df90d5-1f5a-4c7e-a1ce-45940c7795a9"
   },
   "outputs": [],
   "source": [
    "print('Seria útil'+' demonstrar a correcção'+' dum argumento.')"
   ]
  },
  {
   "cell_type": "markdown",
   "metadata": {
    "id": "xiRqC8YCoOTL"
   },
   "source": [
    "\n",
    "Uma forma prática de repetir uma sequência de caracteres é utilizando o operador *. Neste contexto, embora o operador continue a ser binário, o primeiro argumento deve ser um inteiro e o segundo, uma string. Por exemplo, para repetir 50 vezes o padrão definido pela string '---...---', fazemos:"
   ]
  },
  {
   "cell_type": "code",
   "execution_count": null,
   "metadata": {
    "id": "bPR5lYWtoOTL",
    "outputId": "e9503736-faf7-4459-f84f-2ddf2305f2a6"
   },
   "outputs": [],
   "source": [
    "print(50*'---...--- ')"
   ]
  },
  {
   "cell_type": "markdown",
   "metadata": {
    "id": "9VtoQcwcoOTL"
   },
   "source": [
    "## Variáveis\n",
    "\n",
    "Porque um mundo constante não evolui, introduziremos a noção de variável. Esta noção não difere muito do que está habituado na Matemática (como as variáveis de uma equação). Em programação, uma variável só pode ser utilizada quando possui um valor associado."
   ]
  },
  {
   "cell_type": "code",
   "execution_count": null,
   "metadata": {
    "id": "ZeK8SfU8oOTL",
    "outputId": "37953742-ca73-43e2-f862-9263ef50a140"
   },
   "outputs": [],
   "source": [
    "x=2\n",
    "y=3\n",
    "print(x+y)"
   ]
  },
  {
   "cell_type": "markdown",
   "metadata": {
    "id": "jZnu8D3UoOTM"
   },
   "source": [
    "Aqui podemos entender o programa anterior como tendo três linhas de código. Na primeira linha, definimos *x* como sendo *2*. Na segunda linha, definimos *y* como sendo *3*. Na terceira linha, imprimimos o valor da expressão *x+y*.\n",
    "\n",
    "Na maioria das linguagens de programação, a descrição acima é suficiente para se entender as linhas de código. No entanto, em Python, devemos esclarecer que com *x=2*, queremos que *x* refira a constante literal *2*. Neste contexto, *x+y* opera com as constantes referenciadas por *x* e *y*. O operador *=* é designado como operador de atribuição. Devemos notar, no entanto, que o *=* em programação não tem exatamente o mesmo significado que estamos habituados em Matemática. Em Matemática, *=* representa igualdade, ou seja, é uma relação binária. É isso que nos permite afirmar que *2=1* é falso. Contudo, quando escrevemos *x=2* em programação, estamos a dizer que, assumindo a relação verdadeira, o valor da variável *x* é igual a *2*. O que se aproxima do significado de uma atribuição numa linguagem de programação.\n",
    "\n",
    "Executando a próxima célula:"
   ]
  },
  {
   "cell_type": "code",
   "execution_count": null,
   "metadata": {
    "id": "OtbScE8UoOTM",
    "outputId": "d8cd9542-2164-4a9d-c42f-54e430a85319"
   },
   "outputs": [],
   "source": [
    "x+z"
   ]
  },
  {
   "cell_type": "markdown",
   "metadata": {
    "id": "RYhfkfn8oOTM"
   },
   "source": [
    "Como indicado na mensagem de erro, não é possível avaliar a expressão porque *z* não está definido. O interpretador reconhece *x*, porque foi definido na célula anterior, mas *z* é usado pela primeira vez nesta célula.\n",
    "\n",
    "**Muito Importante**: Sempre que define uma variável, ela fica disponível para execução em qualquer célula subsequente.\n"
   ]
  },
  {
   "cell_type": "code",
   "execution_count": null,
   "metadata": {
    "id": "IVh3oUDToOTM",
    "outputId": "787b325e-bfe5-4e81-d886-13538e5d32c1"
   },
   "outputs": [],
   "source": [
    "x+2"
   ]
  },
  {
   "cell_type": "code",
   "execution_count": null,
   "metadata": {
    "id": "YJoNvjQhoOTM",
    "outputId": "7e6c8baa-df18-48de-f2d7-e85ed0d5c32d"
   },
   "outputs": [],
   "source": [
    "3+y"
   ]
  },
  {
   "cell_type": "markdown",
   "metadata": {
    "id": "dJNoubXBoOTM"
   },
   "source": [
    "As variáveis podem ser usadas para referenciar qualquer constante literal, facilitando o seu tratamento e manipulação.\n",
    "\n",
    "De forma genérica, uma variável pode ser entendida como uma referência a uma parte da memória do computador onde está armazenada informação. Ao contrário das constantes literais, o valor de uma variável pode variar durante a execução de um programa."
   ]
  },
  {
   "cell_type": "code",
   "execution_count": null,
   "metadata": {
    "id": "VIBOl082oOTN",
    "outputId": "db18608d-cf21-41aa-816a-2acfa4902aff"
   },
   "outputs": [],
   "source": [
    "x=100\n",
    "print(x+y)"
   ]
  },
  {
   "cell_type": "markdown",
   "metadata": {
    "id": "wRcyn07UoOTN"
   },
   "source": [
    "A partir de agora *x* passa a referenciar a constante literal *100*, deixando de referenciar *2*."
   ]
  },
  {
   "cell_type": "code",
   "execution_count": null,
   "metadata": {
    "id": "OvJoZXOooOTN",
    "outputId": "b770a341-ece0-433b-e71b-4966dbe38fa9"
   },
   "outputs": [],
   "source": [
    "H1 = 'Seria útil '\n",
    "H2 = 'demonstrar a correcção '\n",
    "H3 = 'dum argumento.'\n",
    "print(H1+H2+H3)"
   ]
  },
  {
   "cell_type": "markdown",
   "metadata": {
    "id": "_Iu4Ai_ToOTN"
   },
   "source": [
    "No exemplo, H1, H2 e H3 são usados para identificar três strings, cuja concatenação é impressa na *shell* através do comando *print*.\n",
    "\n",
    "Em Python, as entidades armazenadas em memória e que podem ser referenciadas por variáveis são designadas de **objetos**. Assim, números e strings são objetos. Os números podem ser de três tipos: *inteiros*, *floats* ou *complexos*. As strings são objetos do tipo *string*.\n",
    "\n",
    "O nome dado a uma variável é conhecido como **identificador**, pois é o que permite identificar um objeto em memória.\n",
    "\n",
    "Para formar um identificador, é importante seguir algumas regras:\n",
    "\n",
    "1. O primeiro caractere do identificador deve ser uma letra do alfabeto (maiúsculo ou minúsculo) ou um *'\\_'*.\n",
    "2. O restante do nome do identificador pode consistir em letras (maiúsculas ou minúsculas), *'\\_'* ou dígitos (0-9).\n",
    "3. As letras usadas na construção de um identificador são sensíveis ao caso. Assim, uma maiúscula é diferente de uma minúscula. Por exemplo, *myname* e *myName* são identificadores distintos. Para enfatizar isso, é comum dizer que os identificadores são *case-sensitive*.\n",
    "\n",
    "Exemplos de identificadores válidos são *i*, *\\_\\_my\\_name*, *name\\_23* e *a1b2\\_c3*. Exemplos de identificadores inválidos são *2things* e *my-name*, pois o primeiro caractere do identificador não pode ser um dígito, e *-* não é permitido em identificadores.\n"
   ]
  },
  {
   "cell_type": "code",
   "execution_count": null,
   "metadata": {
    "id": "3rSQAek_oOTN",
    "outputId": "84424060-4d34-4ef2-d3f4-a93e4838ebfb"
   },
   "outputs": [],
   "source": [
    "my-name"
   ]
  },
  {
   "cell_type": "markdown",
   "metadata": {
    "id": "dVJqQLnRoOTO"
   },
   "source": [
    "O código da célula acima é interpretado pelo interpretador como a subtração dos objetos referenciados por *my* e *name*. Como *my* não está definido, é exibida a mensagem de erro."
   ]
  },
  {
   "cell_type": "markdown",
   "metadata": {
    "id": "4-MbLihzoOTO"
   },
   "source": [
    "Aqui vai o nosso maior programa:"
   ]
  },
  {
   "cell_type": "code",
   "execution_count": null,
   "metadata": {
    "id": "2P5DFaDooOTO",
    "outputId": "8bf64953-87b2-4261-a001-c28ef8c1ec6b"
   },
   "outputs": [],
   "source": [
    "\n",
    "i = 5\n",
    "print(i)\n",
    "\n",
    "i = i + 1\n",
    "print(i)\n",
    "\n",
    "s = '''Esta é uma string de múltiplas linhas.\n",
    "Esta é a segunda linha.'''\n",
    "print(s)"
   ]
  },
  {
   "cell_type": "markdown",
   "metadata": {
    "id": "0-yQ_B5YoOTO"
   },
   "source": [
    "No programa, começamos por usar o identificador *i* para referenciar a constante literal *5* através do *operador de atribuição* (=). Em seguida, imprimimos o valor de *i* utilizando o comando *print*.\n",
    "\n",
    "Na instrução seguinte, adicionamos *1* ao valor referenciado por *i*. A partir deste momento, *i* passa a referenciar o objeto *6*. Posteriormente, imprimimos o valor de *i*, que agora é *6*.\n",
    "\n",
    "Como já foi demonstrado na secção anterior, de forma semelhante, referenciamos um objeto *string* pela variável *s*, que depois é impressa.\n",
    "\n",
    "Assim, o resultado de executar a célula resulta na impressão de 4 linhas de texto pelos comandos *print*:\n",
    "\n",
    "```\n",
    "5\n",
    "6\n",
    "Esta é uma string de múltiplas linhas.\n",
    "Esta é a segunda linha.\n",
    "```"
   ]
  },
  {
   "cell_type": "markdown",
   "metadata": {
    "id": "z39KIN78oOTO"
   },
   "source": [
    "## Linhas Lógicas e Físicas\n",
    "\n",
    "As linhas físicas são aquelas que escrevemos em uma única linha ao definir o código de um programa. Uma linha lógica é aquela que o interpretador de Python entende como uma única instrução. O Python implicitamente assume que cada linha física corresponde a uma linha lógica.\n",
    "\n",
    "Um exemplo de uma linha lógica é uma instrução como:\n"
   ]
  },
  {
   "cell_type": "code",
   "execution_count": null,
   "metadata": {
    "id": "ASkcyRkSoOTO",
    "outputId": "0dfcfed9-04d2-45fa-94e2-e3ccba71fec9"
   },
   "outputs": [],
   "source": [
    "print('Sócrates é mortal.')"
   ]
  },
  {
   "cell_type": "markdown",
   "metadata": {
    "id": "QuQbX87soOTP"
   },
   "source": [
    "Como está escrita numa única linha, é entendida como uma linha física.\n",
    "\n",
    "Implicitamente, Python incentiva o uso de uma única instrução por linha, com o propósito de tornar o código mais legível.\n",
    "\n",
    "Se pretende definir mais do que uma linha lógica numa única linha física, então deve separar as linhas lógicas através de um ponto e vírgula (';') para indicar o fim de cada linha lógica ou instrução. Por exemplo,"
   ]
  },
  {
   "cell_type": "code",
   "execution_count": null,
   "metadata": {
    "id": "ZAcrrPsGoOTP",
    "outputId": "7445945d-116d-486e-f0ca-c2009e11ce45"
   },
   "outputs": [],
   "source": [
    "i = 5\n",
    "print(i)"
   ]
  },
  {
   "cell_type": "markdown",
   "metadata": {
    "id": "G8PbKpHdoOTP"
   },
   "source": [
    "é o mesmo que"
   ]
  },
  {
   "cell_type": "code",
   "execution_count": null,
   "metadata": {
    "id": "zfSS659qoOTP",
    "outputId": "1d98ea72-64b4-4b60-bce3-2f66315eed45"
   },
   "outputs": [],
   "source": [
    "i = 5; print(i)"
   ]
  },
  {
   "cell_type": "markdown",
   "metadata": {
    "id": "O1TT3FvFoOTP"
   },
   "source": [
    "Voltando a um exemplo anterior:"
   ]
  },
  {
   "cell_type": "code",
   "execution_count": null,
   "metadata": {
    "id": "fGEG1b7uoOTP",
    "outputId": "7d331e18-e89d-4952-cc86-4d82780d81b8"
   },
   "outputs": [],
   "source": [
    "H=   \"\\\"Reciprocamente\\\", continuou Tweedledee, \\\n",
    "\\\"Se é assim, ele pode ser, \\n \\\n",
    "e se não é, será; mas como não é não se preocupa. \\\n",
    "Isto é lógica.\\\" \"\n",
    "print(H)"
   ]
  },
  {
   "cell_type": "markdown",
   "metadata": {
    "id": "S4MWn9NXoOTQ"
   },
   "source": [
    "O objeto string que passa a ser referenciado por *H* deve ser entendido como definido numa única linha lógica, apesar de ocupar diferentes linhas físicas.\n",
    "\n",
    "Neste sentido, usa-se o ponto e vírgula (;) para separar linhas lógicas na mesma linha física, enquanto o caractere de barra invertida (\\) é utilizado para separar uma linha lógica em diferentes linhas físicas.\n"
   ]
  },
  {
   "cell_type": "markdown",
   "metadata": {
    "id": "6Ieqd_qWoOTQ"
   },
   "source": [
    "## Indentação\n",
    "\n",
    "Os espaços em branco no início de uma instrução são muito importantes no Python. Na verdade, os espaços em branco no início de uma linha definem a estrutura do programa. Como é habitual em qualquer processador de texto, estes espaços são designados por indentação.\n",
    "\n",
    "A indentação do código pode ser feita com espaços ou tabulações. Um grupo de linhas consecutivas com a mesma indentação é designado por **bloco de código**. Os blocos de código são utilizados para identificar um conjunto de instruções que devem ser executadas sequencialmente, mas em conjunto, sendo a sua execução condicionada por uma condição ou num contexto comum. Entendemos que esta definição possa parecer abstrata, por isso vamos concretizá-la brevemente através de exemplos de blocos controlados por condições. Deixaremos os blocos executados no mesmo contexto para o próximo capítulo.\n",
    "\n",
    "Note que uma indentação incorreta pode levar a erros de sintaxe. Por exemplo:"
   ]
  },
  {
   "cell_type": "code",
   "execution_count": null,
   "metadata": {
    "id": "bWqYcPKsoOTQ",
    "outputId": "58af5ecc-5982-4c9f-ff23-82eb68dc6f18"
   },
   "outputs": [],
   "source": [
    "i = 5\n",
    " print('São ', i)\n",
    "print('São,',i,' os macacos.')"
   ]
  },
  {
   "cell_type": "markdown",
   "metadata": {
    "id": "JmF-gxmooOTQ"
   },
   "source": [
    "Note-se que existe um espaço simples no início da segunda linha. O interpretador assume que todas as instruções na célula pertencem ao mesmo bloco. Assim, o início de cada instrução deve estar na primeira coluna, o que não acontece neste caso.\n",
    "\n",
    "A forma como se faz a indentação depende da instrução que precede o bloco. Frequentemente, a indentação é automatizada pelo editor utilizado. No nosso caso, a indentação é automatizada pelo Jupyter. O desafio surge quando precisamos de remover ou ajustar as indentações para voltar à indentação de blocos anteriores. Esta tarefa fica a cargo do programador e é crucial para a estrutura, ou seja, a lógica do programa."
   ]
  },
  {
   "cell_type": "markdown",
   "metadata": {
    "id": "9fIPXqXKoOTQ"
   },
   "source": [
    "## Operadores e Expressões\n",
    "\n",
    "Notemos então que a maioria das instruções (linhas lógicas) que escreve contêm expressões. Um exemplo simples de uma expressão é 2+3. Numa expressão, podemos diferenciar entre operador e argumentos. Os operadores são funções que podem ser identificadas por símbolos, como +, ou por palavras especiais. Em Python, embora os operadores estejam pré-definidos, podem ser redefinidos pelo programador. Podem ser classificados segundo o número de argumentos: dizem-se unários se têm apenas um argumento e binários caso a sua avaliação dependa de dois argumentos.\n",
    "\n",
    "No exemplo 2+3, temos + como único operador, sendo um operador binário com argumentos as expressões 2 e 3, que são constantes literais. Como já tínhamos notado, a interpretação de + depende do tipo dos objetos usados como argumentos. Quando os argumentos são inteiros, é usado o algoritmo da soma para somar os valores, devolvendo um inteiro. Como já vimos, quando os argumentos são duas strings, é feita a sua concatenação, devolvendo uma string. Quando os argumentos são números, mas pelo menos um deles é um float, é devolvido um float como soma dos dois números.\n"
   ]
  },
  {
   "cell_type": "code",
   "execution_count": null,
   "metadata": {
    "id": "oVk7P99ToOTQ",
    "outputId": "14197d11-f03d-4d6c-f3e4-a709beafe8ec"
   },
   "outputs": [],
   "source": [
    "2.9+3"
   ]
  },
  {
   "cell_type": "markdown",
   "metadata": {
    "id": "7k5gXfd5oOTR"
   },
   "source": [
    "Na tabela abaixo temos os operadores binários usado nestes Notebooks."
   ]
  },
  {
   "cell_type": "markdown",
   "metadata": {
    "id": "WJUDSWvBoOTR"
   },
   "source": [
    "## Operadores e Expressões\n",
    "\n",
    "| Operador | Nome             | Explicação                                                                 |\n",
    "|----------|------------------|------------------------------------------------------------------------------|\n",
    "| +        | Adição           | Soma dois objetos                                                            |\n",
    "| -        | Subtração        | Define um número negativo ou realiza a subtração de um número por outro        |\n",
    "| *        | Multiplicação    | Devolve o produto de dois números ou uma string repetida uma certa quantidade de vezes |\n",
    "| **       | Potência         | Retorna x elevado à potência de y                                             |\n",
    "| /        | Divisão          | Divide x por y                                                               |\n",
    "| //       | Divisão Inteira  | Devolve a parte inteira do quociente                                          |\n",
    "| %        | Módulo           | Devolve o resto da divisão inteira                                             |\n",
    "| <        | Menor que        | Compara x a y. Devolve True se x é menor que y, e False caso contrário         |\n",
    "| >        | Maior que        | Devolve True se x é maior que y, e False caso contrário                        |\n",
    "| <=       | Menor ou igual a | Devolve True se x é menor ou igual a y, e False caso contrário                 |\n",
    "| >=       | Maior ou igual a | Devolve True se x é maior ou igual a y, e False caso contrário                 |\n",
    "| ==       | Igual a          | Avalia se os objetos são iguais                                               |\n",
    "| !=       | Diferente de     | Avalia se os objetos são diferentes                                            |\n",
    "| not      | Operador booleano NOT | Se x é True, devolve False. Se x é False, devolve True                     |\n",
    "| and      | Operador booleano AND | Devolve False se x é False, senão devolve a avaliação de y               |\n",
    "| or       | Operador booleano OR  | Se x é True, devolve True, senão devolve a avaliação de y                 |\n"
   ]
  },
  {
   "cell_type": "markdown",
   "metadata": {
    "id": "zX8mbHQdoOTR"
   },
   "source": [
    "Podemos identificar na tabela operadores aritméticos, que podemos usar para fazer \"contas\" quando os argumentos são números. Mas também existem operadores que usamos para definir condições e o resultado é um valor de verdade. É usual dizermos que 3\\<2, é falso. Nestes casos a expressão é avaliada como sendo verdadeira (True) ou falsa (False)."
   ]
  },
  {
   "cell_type": "code",
   "execution_count": null,
   "metadata": {
    "id": "pyWwFdpCoOTR",
    "outputId": "61c8c342-75e2-48bb-ba10-1730402da130"
   },
   "outputs": [],
   "source": [
    "3<2"
   ]
  },
  {
   "cell_type": "code",
   "execution_count": null,
   "metadata": {
    "id": "OdrRgKxAoOTR",
    "outputId": "90f4ff22-b832-4465-fc80-38c4495dc08f"
   },
   "outputs": [],
   "source": [
    "2<3"
   ]
  },
  {
   "cell_type": "markdown",
   "metadata": {
    "id": "p7ghFhJ3oOTR"
   },
   "source": [
    "O valor lógico destas expressões definem uma nova estrutura de dados, nativa do Python, usualmente designados de Booleanos ou Bool (para variar). A propósito: Sempre que quiser saber qual é o tipo dum objecto pode usar o comando **type**."
   ]
  },
  {
   "cell_type": "code",
   "execution_count": null,
   "metadata": {
    "id": "jBvqvrFToOTR",
    "outputId": "161097e5-7d18-47da-dda2-54295b8fe0c0"
   },
   "outputs": [],
   "source": [
    "type(1)"
   ]
  },
  {
   "cell_type": "code",
   "execution_count": null,
   "metadata": {
    "id": "xH90C_jeoOTS",
    "outputId": "15b5d2db-0e01-474c-cc19-7396c131744a"
   },
   "outputs": [],
   "source": [
    "type(1.0)"
   ]
  },
  {
   "cell_type": "code",
   "execution_count": null,
   "metadata": {
    "id": "7pDxO9wfoOTS",
    "outputId": "5bce5393-4d93-47db-92e3-b891aad037f6"
   },
   "outputs": [],
   "source": [
    "type('uma string')"
   ]
  },
  {
   "cell_type": "code",
   "execution_count": null,
   "metadata": {
    "id": "OVEULuHloOTS",
    "outputId": "7a8fadf1-26e1-432f-f90d-adb5e51a53c0"
   },
   "outputs": [],
   "source": [
    "type(True)"
   ]
  },
  {
   "cell_type": "markdown",
   "metadata": {
    "id": "p8eChqQkoOTS"
   },
   "source": [
    "Temos assim as estruturas fundamentais:\n",
    "1. **int** - os números inteiros\n",
    "2. **float** - os números decimais\n",
    "3. **str** - as cadeias de caracteres ou strings\n",
    "4. **bool** - os valores lógicos ou booleanos\n",
    "\n",
    "Os valores lógicos **True** ou **False** também são constantes literais, e não nos é permitido alterar o seu significado. Estes são elementos fundamentais para o controlo do fluxo de execução de um programa.\n",
    "\n",
    "Estas estruturas são utilizadas nestes textos como as estruturas de dados primitivas. Vamos usá-las como bloco fundamental para a construção de estruturas mais complexas.\n"
   ]
  },
  {
   "cell_type": "markdown",
   "metadata": {
    "id": "BZILBdWQoOTS"
   },
   "source": [
    "## Controlo do fluxo de programas\n",
    "\n",
    "Os programas que vimos até aqui são descritos por uma série de declarações, sendo o interpretador de Python responsável por executá-las seguindo a ordem em que são escritas nas células.\n",
    "\n",
    "Como podemos alterar o fluxo de execução? Por exemplo, se pretendemos que o programa tome decisões e execute diferentes ações com base em diferentes situações, como imprimir 'Bom Dia' ou 'Boa Tarde', dependendo da hora do dia.\n",
    "\n",
    "Isto é conseguido utilizando as instruções de controlo de fluxo no Python, como *if*, *for* e *while*, que permitem executar um ou mais blocos de instruções apenas quando uma condição é verdadeira ou enquanto uma condição for verdadeira. Neste capítulo, vamos focar-nos principalmente no comando *if*.\n"
   ]
  },
  {
   "cell_type": "markdown",
   "metadata": {
    "id": "CA_fRPhyoOTS"
   },
   "source": [
    "### Blocos controlados por um *if*\n",
    "\n",
    "A instrução *if* é utilizada para decidir qual bloco de código deve ser executado em seguida. A escolha do bloco a ser executado é determinada pelo valor lógico de uma condição, que é utilizada como argumento do comando. Se a condição for verdadeira, um conjunto de instruções é executado; caso contrário, outro conjunto de instruções é executado. O bloco de código que é executado quando a condição é verdadeira é designado por *bloco-if* (*if-block*), enquanto o bloco que é executado quando a condição é falsa é designado por *bloco-else* (*else-block*).\n",
    "\n",
    "A sintaxe desta instrução é apresentada de seguida. Execute a célula abaixo para diferentes valores de *x*.\n",
    "\n"
   ]
  },
  {
   "cell_type": "code",
   "execution_count": null,
   "metadata": {
    "id": "mPtL4oBNoOTT",
    "outputId": "d8c41501-524c-424e-f136-8a4fbd02ded2"
   },
   "outputs": [],
   "source": [
    "x=2\n",
    "\n",
    "if x>2:\n",
    "    print(10*'.^.')\n",
    "    print('O número é maior que 2.')\n",
    "    print(10*'\\'v\\'')\n",
    "else:\n",
    "    print(10*'-._')\n",
    "    print('O número não é maior que 2.')\n",
    "    print(10*'_.-')"
   ]
  },
  {
   "cell_type": "markdown",
   "metadata": {
    "id": "8A7nqX-woOTT"
   },
   "source": [
    "Note que a linha da instrução *if* termina com ''dois pontos'', indicando que a seguir há um bloco de instruções.\n",
    "\n",
    "Quando a condição x > 2 é verdadeira, é executado o *bloco-if*:\n",
    "```\n",
    "    print(10*'.^.')\n",
    "    print('O número é maior que 2.')\n",
    "    print(10*'\\'v\\'')\n",
    "```\n",
    "Sem que a condição x>2 é falsa é executado o *bloco-else*\n",
    "```\n",
    "    print(10*'-._')\n",
    "    print('O número não é maior que 2.')\n",
    "    print(10*'_.-')\n",
    "```"
   ]
  },
  {
   "cell_type": "markdown",
   "metadata": {
    "id": "dheS1rGioOTT"
   },
   "source": [
    "Altere o conteúdo da célula acima para ver as alterações do resultado da execução. Podemos assim garantir que o código a executar vai depender do valor que for referenciado pela variável *x*.\n",
    "\n",
    "### Como indentar os blocos\n",
    "\n",
    "Evite misturar tabulações com espaços na indentação, já que nem todas as plataformas suportam ambos os métodos. É recomendado o uso de uma tabulação, ou dois espaços, ou quatro espaços para distinguir cada nível de indentação. Escolha um destes estilos de indentação e mantenha-se consistente ao longo de todo o código.\n",
    "\n",
    "Na maioria dos ambientes de programação, como nos Jupyter Notebooks, o sistema tenta ajudar no processo de indentação. Cabe ao programador saber quando deve remover a indentação. Note nos exemplos abaixo que a indentação determina o fluxo de execução.\n"
   ]
  },
  {
   "cell_type": "code",
   "execution_count": null,
   "metadata": {
    "id": "GH3m6gp9oOTT",
    "outputId": "6552b582-e978-4c63-9e63-cb08b46781b6"
   },
   "outputs": [],
   "source": [
    "x=1\n",
    "\n",
    "if x>2:\n",
    "    print(10*'.^.')\n",
    "    print('O número é maior que 2.')\n",
    "print(10*'\\'v\\'')"
   ]
  },
  {
   "cell_type": "markdown",
   "metadata": {
    "id": "oJOeOHe5oOTT"
   },
   "source": [
    "Agora só temos um *bloco-if* com  duas instruções. O último *print* é executado porque a condição só controla a execução das duas intruções que estão no bloco."
   ]
  },
  {
   "cell_type": "code",
   "execution_count": null,
   "metadata": {
    "id": "dO24L8uOoOTT",
    "outputId": "d5d298d6-baf3-4851-eb32-d6473e8fcfc2"
   },
   "outputs": [],
   "source": [
    "x=1\n",
    "\n",
    "if x>2:\n",
    "    print(10*'.^.')\n",
    "print('O número é maior que 2.')\n",
    "print(10*'\\'v\\'')"
   ]
  },
  {
   "cell_type": "markdown",
   "metadata": {
    "id": "uuEKJpYnoOTT"
   },
   "source": [
    "Acima a condição só controla a execução do primeiro *print*. Como a condição é falsa esse *print* é o único a não ser executado."
   ]
  },
  {
   "cell_type": "code",
   "execution_count": null,
   "metadata": {
    "id": "Q2JzsLH4oOTU"
   },
   "outputs": [],
   "source": [
    "x=1\n",
    "\n",
    "if x>2:\n",
    "    print(10*'.^.')\n",
    "    print('O número é maior que 2.')\n",
    "    print(10*'\\'v\\'')"
   ]
  },
  {
   "cell_type": "markdown",
   "metadata": {
    "id": "9J31IAUSoOTU"
   },
   "source": [
    "Agora, como a condição contínua a ser falsa, as três instruções do bloco não são executadas. Neste caso não é produzido nenhum output."
   ]
  },
  {
   "cell_type": "markdown",
   "metadata": {
    "id": "RRM9dYfFoOTU"
   },
   "source": [
    "Um pouco mais abaixo pode encontrar um exemplo mais realista. Chamámos a esse programa \"Descobre o número\". O que ele faz é gerar um número inteiro aleatório e pedir ao utilizador para tentar descobri-lo. A necessidade de interagir com o utilizador durante a execução de um programa exige a introdução de novas funcionalidades. De facto, neste exemplo, poderá facilmente identificar duas novas funções, a utilização de um novo operador relacional e uma nova sintaxe para o comando *if*. As novas funções são **input** e **int**, e o novo operador relacional é **==**.\n",
    "\n",
    "A função **input** recebe como argumento uma *string* e devolve uma *string*. A assinatura da função é, portanto, **input:str->str**, indicando que entra uma string e sai uma string. A *string* usada como argumento serve como *prompt*, ou seja, como uma mensagem ou pergunta apresentada ao utilizador pelo interpretador. A resposta do utilizador, que deve ser uma sequência de símbolos, é aceite pelo sistema quando o utilizador carrega na tecla ENTER (ou RETURN). Esta cadeia é então transformada numa *string* e devolvida como output pela função:"
   ]
  },
  {
   "cell_type": "code",
   "execution_count": null,
   "metadata": {
    "id": "PxufJMYqoOTU",
    "outputId": "17ed9740-14f2-47c0-c9ea-612f75d58931"
   },
   "outputs": [],
   "source": [
    "valor = input(\"Qual é o seu nome? \")"
   ]
  },
  {
   "cell_type": "markdown",
   "metadata": {
    "id": "7W7TdEwvoOTU"
   },
   "source": [
    "A variável *valor* passa a referênciar a cadeia de símbolos que usa para escrever o seu nome."
   ]
  },
  {
   "cell_type": "code",
   "execution_count": null,
   "metadata": {
    "id": "KQG-XkH0oOTU",
    "outputId": "830f1085-d10e-44ff-cd47-0c6fd0165201"
   },
   "outputs": [],
   "source": [
    "input(\"Qual é o número? \")"
   ]
  },
  {
   "cell_type": "markdown",
   "metadata": {
    "id": "tAljmr8MoOTV"
   },
   "source": [
    "Apesar de o utilizador escrever uma sequência de dígitos, é devolvida essa sequência como sendo uma *string*.\n",
    "\n",
    "Nestes casos, quando temos de tratar um objeto de um tipo como se fosse de outro, devemos recorrer a uma função de conversão. Para a conversão de strings em números, podemos usar as funções **int** ou **float**. A função **int** converte o objeto para um número inteiro, enquanto a função **float** converte o objeto para um número decimal. Quando os objetos de *input* são strings, a assinatura das funções é **int:str->int** e **float:str->float**."
   ]
  },
  {
   "cell_type": "code",
   "execution_count": null,
   "metadata": {
    "id": "xwaB4IWFoOTV",
    "outputId": "39348988-bf74-40c2-e857-fb6ee0b689af"
   },
   "outputs": [],
   "source": [
    "int('0012300')"
   ]
  },
  {
   "cell_type": "code",
   "execution_count": null,
   "metadata": {
    "id": "QnDexjUpoOTV",
    "outputId": "e1adda89-ecba-4174-8e02-a0b9bb779500"
   },
   "outputs": [],
   "source": [
    "float('001.2300')"
   ]
  },
  {
   "cell_type": "markdown",
   "metadata": {
    "id": "BPzRKxT5oOTV"
   },
   "source": [
    "É obvio que uma mensagem de erro é devolvida caso a conversão não possa ser resolvida. Abaixo apresentamos a avaliação da área de um triângulo genérico (aqui tem mesmo de executar a célula para pode ver este comportamento):"
   ]
  },
  {
   "cell_type": "code",
   "execution_count": null,
   "metadata": {
    "id": "ujx1GzzIoOTV",
    "outputId": "5caf9d0b-b455-4514-9fd8-c225472ed442"
   },
   "outputs": [],
   "source": [
    "h=input('Qual é a altura? h=')\n",
    "l=input('Qual é a base? b=')\n",
    "area=float(h)*float(l)/2\n",
    "print(\"A área do triângulo é \",area,\".\")"
   ]
  },
  {
   "cell_type": "markdown",
   "metadata": {
    "id": "7zzPXDxeoOTV"
   },
   "source": [
    "Como já tínhamos referido, comparamos objetos usando operadores relacionais. Já utilizámos os operadores *<* e *>*, que são familiares da matemática e que interpretamos como *menor* e *maior*. Com *<=* e *>=*, o interpretador identifica *menor ou igual* e *maior ou igual*. A igualdade entre objetos é representada por *==*, de modo a distinguir do operador de atribuição. A relação de diferença é codificada por *!=* ou *<>*."
   ]
  },
  {
   "cell_type": "code",
   "execution_count": null,
   "metadata": {
    "id": "PNAbvtA_oOTV",
    "outputId": "623dd325-d659-4fe4-816a-6d5e49b1184b"
   },
   "outputs": [],
   "source": [
    "print(2==2+1)\n",
    "print(2==2+0)\n",
    "print(2<=2+1)\n",
    "print(2<=2+0)\n",
    "print(2>=2+1)\n",
    "print(2>=2+0)\n",
    "print(2!=2+1)\n",
    "print(2!=2+0)"
   ]
  },
  {
   "cell_type": "markdown",
   "metadata": {
    "id": "C_4vyCcCoOTW"
   },
   "source": [
    "Estas relações podem ser aplicadas aos mais diversos objetos. Para uma descrição sistemática, consulte a documentação oficial do interpretador em https://www.python.org/. Aqui, vamos restringir as comparações a objetos numéricos, fazendo apenas exceção para a igualdade de strings."
   ]
  },
  {
   "cell_type": "code",
   "execution_count": null,
   "metadata": {
    "id": "yWNmA8WMoOTW",
    "outputId": "e1664317-7ada-4de5-c3a1-d853595dd504"
   },
   "outputs": [],
   "source": [
    "print('ab'=='a'+'b')\n",
    "print('ab'=='a'+'c')\n",
    "print('ab'!='a'+'b')\n",
    "print('ab'!='a'+'c')"
   ]
  },
  {
   "cell_type": "markdown",
   "metadata": {
    "id": "ixuk1eOioOTW"
   },
   "source": [
    "Aqui fica o exemplo mais completo. Note que na célula existem linhas com texto que começam com # (cardinal). O texto que precede # é usualmente designado por comentário e não é executado pelo interpretador. Os comentários têm como principal objetivo tornar a implementação mais clara.\n"
   ]
  },
  {
   "cell_type": "code",
   "execution_count": null,
   "metadata": {
    "id": "el7f1m_yoOTW",
    "outputId": "6e8a09f1-8273-4f8d-f728-c38c78709725"
   },
   "outputs": [],
   "source": [
    "#\n",
    "# Programa descobe o número que está referênciado em memória\n",
    "#\n",
    "\n",
    "numero = 23 # este é o número que tentamos descobrir\n",
    "\n",
    "hipotese = int(input('Qual é o número inteiro? '))\n",
    "\n",
    "if hipotese == numero:\n",
    "    print('Parabéns, você acertou.') # Novo bloco começa aqui\n",
    "    print('Tenha um bom dia...') # Novo bloco termina aqui\n",
    "elif hipotese < numero:\n",
    "    print('Não, é maior que isso.')  # Outro bloco\n",
    "    # O bloco pode conter uma ou mais linhas ...\n",
    "else:\n",
    "    print('Não, é menor que isso.')\n",
    "\n",
    "print('Adeus.')\n",
    "# Esta última instrução é sempre executada, depois da instrução if\n",
    "# ser executada"
   ]
  },
  {
   "cell_type": "markdown",
   "metadata": {
    "id": "YV3bzqXyoOTW"
   },
   "source": [
    "Neste programa, é solicitado ao utilizador um número inteiro e é verificado se este é igual a um número escondido.\n",
    "\n",
    "É óbvio que o exemplo é simplista. Já conhecemos o número e, no caso de termos má memória, só temos uma tentativa. Na realidade, fora do Jupyter, o utilizador não tem acesso direto ao código, o que torna o exemplo mais \"realista\". Terá de executar o programa várias vezes até resolver o puzzle.\n",
    "\n",
    "No programa são usadas duas variáveis: *numero* e *hipotese*. Utiliza-se a variável *numero* para referenciar o inteiro a adivinhar, neste caso *numero = 23*. O utilizador tem apenas uma tentativa para adivinhar o número. A hipótese do utilizador é introduzida através da função *input()*, que acabamos de descrever. Essa entrada é armazenada na variável *hipotese*. Para isso, a função **input** cria um *prompt* e espera que o utilizador escreva uma sequência de caracteres e pressione ENTER (ou RETURN). A *string* fornecida pelo utilizador é usada como valor retornado pela função. A função **int** converte essa *string* para um inteiro, que passa a ser referenciado pela variável *hipotese*.\n",
    "\n",
    "Em seguida, é comparado o inteiro referenciado pela variável *hipotese* com o número referenciado por *numero*. Se forem iguais, imprime-se uma mensagem a felicitar o utilizador. Note que são usados níveis de indentação para informar o interpretador Python que a sequência de instruções pertence a um bloco.\n",
    "\n",
    "Caso a tentativa do utilizador seja menor que o número referenciado pela variável *numero*, informa-se para tentar na próxima execução um número maior que o número da presente tentativa. Utiliza-se aqui uma cláusula **elif** para reduzir a quantidade de indentação requerida por estas duas condições. É neste sentido que dizemos que o comando **if** controla três blocos de execução: um **bloco-if** que descreve o que fazer quando os números são iguais; um **bloco-elif** que diz o que fazer quando o número é maior; e um **bloco-else** que indica o que fazer caso contrário.\n",
    "\n",
    "Após ser executada a instrução de um dos blocos (e apenas um), a execução passa para o próximo bloco de instruções. Neste caso, volta ao bloco principal onde se encontra a instrução **print('Adeus.')**. Após executar esta linha de código, o interpretador termina a execução do programa.\n",
    "\n",
    "Na verdade, não é muito prático ter de executar o programa sempre que se quer fazer uma nova tentativa. Vamos abordar este problema no próximo capítulo com a introdução dos ciclos **while**.\n",
    "\n",
    "Devemos realçar que as partes **elif** e **else** são opcionais. Uma instrução **if** mínima válida assume a forma:"
   ]
  },
  {
   "cell_type": "code",
   "execution_count": null,
   "metadata": {
    "id": "WtZQGwGToOTW"
   },
   "outputs": [],
   "source": [
    "if True:\n",
    "    print('Sim, é verdade')"
   ]
  },
  {
   "cell_type": "markdown",
   "metadata": {
    "id": "sHx2_hJgoOTX"
   },
   "source": [
    "Não existe um limite para o número de **elif**s. O bloco controlado por um **elif** só é executado se a sua cláusula for verdadeira e as condições acima dele forem falsas."
   ]
  },
  {
   "cell_type": "code",
   "execution_count": null,
   "metadata": {
    "id": "T_zZFAfWoOTX",
    "outputId": "e5ab1a7f-c120-4686-91ce-cdf2746d3955"
   },
   "outputs": [],
   "source": [
    "x = 1\n",
    "\n",
    "if x == 0:\n",
    "    print('zero')\n",
    "elif x==1:\n",
    "    print('um')\n",
    "elif x==2:\n",
    "    print('dois')\n",
    "else:\n",
    "    print('Não é nem zero, nem um, nem dois.')"
   ]
  },
  {
   "cell_type": "markdown",
   "metadata": {
    "id": "0dyrKU1goOTX"
   },
   "source": [
    "## Listas, Índices e Slices em Python\n",
    "\n",
    "### Listas\n",
    "\n",
    "Em Python, uma lista é uma coleção ordenada de valores. Os valores em uma lista são chamados de elementos ou, às vezes, de itens. Assim como uma string, uma lista é uma sequência de elementos. Em uma string, os valores são caracteres; em uma lista, eles podem ser de qualquer tipo. Existem várias maneiras de criar uma nova lista; a mais simples é colocar os elementos entre colchetes ([ e ]):\n",
    "\n",
    "```\n",
    "[10,20,30,40]\n",
    "['sapo crocante','bexiga de carneiro','vômito de cotovia']\n",
    "```\n",
    "\n",
    "O primeiro exemplo é uma lista de quatro inteiros. O segundo é uma lista de três strings. Os elementos de uma lista não precisam ser do mesmo tipo. A lista a seguir contém uma string, um float, um inteiro e (olha só!) outra lista:\n",
    "\n",
    "```\n",
    "['spam',2.0,5,[10,20]]\n",
    "```\n",
    "\n",
    "Uma lista dentro de outra lista é aninhada.\n",
    "\n",
    "Uma lista que não contém elementos é chamada de lista vazia; você pode criar uma com colchetes vazios, [].\n",
    "\n",
    "Como você pode esperar, você pode atribuir valores de lista a variáveis:"
   ]
  },
  {
   "cell_type": "code",
   "execution_count": null,
   "metadata": {
    "id": "Oyv24WZLoOTX"
   },
   "outputs": [],
   "source": [
    "queijos =['Cheddar','Edam','Gouda']\n",
    "números =[42,123]\n",
    "vazio =[]\n",
    "print(queijos, números, vazio)"
   ]
  },
  {
   "cell_type": "markdown",
   "metadata": {
    "id": "REkv4gY248Ok"
   },
   "source": [
    "### Índices\n",
    "Em Python, os elementos de uma lista são acessados através de índices. O índice de um elemento na lista é a sua posição, começando do índice 0 para o primeiro elemento."
   ]
  },
  {
   "cell_type": "code",
   "execution_count": null,
   "metadata": {
    "id": "hfpU2oG14_hX"
   },
   "outputs": [],
   "source": [
    "frutas = ['maçã', 'banana', 'cereja', 'damasco', 'uva']"
   ]
  },
  {
   "cell_type": "code",
   "execution_count": null,
   "metadata": {
    "id": "33gXk-Me6epB"
   },
   "outputs": [],
   "source": [
    "# Acessando o primeiro elemento\n",
    "print(frutas[0])  # Output: maçã"
   ]
  },
  {
   "cell_type": "code",
   "execution_count": null,
   "metadata": {
    "id": "6LNmUEju6ePO"
   },
   "outputs": [],
   "source": [
    "# Acessando o terceiro elemento\n",
    "print(frutas[2])  # Output: cereja"
   ]
  },
  {
   "cell_type": "code",
   "execution_count": null,
   "metadata": {
    "id": "c_zwdRlK6dfi"
   },
   "outputs": [],
   "source": [
    "# Acessando o último elemento\n",
    "print(frutas[-1])  # Output: uva"
   ]
  },
  {
   "cell_type": "markdown",
   "metadata": {
    "id": "2BcBH4Y_5Jlz"
   },
   "source": [
    "### Slices\n",
    "O slice permite que você selecione uma parte da lista. A sintaxe básica para um slice é lista[início:fim], onde início é o índice do primeiro elemento a ser incluído e fim é o índice do primeiro elemento a ser excluído."
   ]
  },
  {
   "cell_type": "code",
   "execution_count": null,
   "metadata": {
    "id": "nIicR1j45HtJ"
   },
   "outputs": [],
   "source": [
    "frutas = ['maçã', 'banana', 'cereja', 'damasco', 'uva']"
   ]
  },
  {
   "cell_type": "code",
   "execution_count": null,
   "metadata": {
    "id": "4PTirEln6T33"
   },
   "outputs": [],
   "source": [
    "# Selecionando os dois primeiros elementos\n",
    "print(frutas[0:2])  # Output: ['maçã', 'banana']"
   ]
  },
  {
   "cell_type": "code",
   "execution_count": null,
   "metadata": {
    "id": "9wNtPMOe6TsQ"
   },
   "outputs": [],
   "source": [
    "# Selecionando os três últimos elementos\n",
    "print(frutas[-3:])  # Output: ['cereja', 'damasco', 'uva']"
   ]
  },
  {
   "cell_type": "code",
   "execution_count": null,
   "metadata": {
    "id": "Ym5JbJbv6Tfe"
   },
   "outputs": [],
   "source": [
    "# Selecionando do segundo ao quarto elemento\n",
    "print(frutas[1:4])  # Output: ['banana', 'cereja', 'damasco']"
   ]
  },
  {
   "cell_type": "code",
   "execution_count": null,
   "metadata": {
    "id": "YEkmYtRB6Sia"
   },
   "outputs": [],
   "source": [
    "# Selecionando todos os elementos pulando de dois em dois\n",
    "print(frutas[::2])  # Output: ['maçã', 'cereja', 'uva']"
   ]
  },
  {
   "cell_type": "markdown",
   "metadata": {
    "id": "RrO5fruD5Sbw"
   },
   "source": [
    "### Modificando Elementos da Lista\n",
    "Podemos modificar os elementos de uma lista através de seus índices:"
   ]
  },
  {
   "cell_type": "code",
   "execution_count": null,
   "metadata": {
    "id": "rM5kjvnx5RZg"
   },
   "outputs": [],
   "source": [
    "frutas = ['maçã', 'banana', 'cereja', 'damasco', 'uva']"
   ]
  },
  {
   "cell_type": "code",
   "execution_count": null,
   "metadata": {
    "id": "72I8C2Fx6Inu"
   },
   "outputs": [],
   "source": [
    "# Modificando o segundo elemento\n",
    "frutas[1] = 'laranja'\n",
    "print(frutas)  # Output: ['maçã', 'laranja', 'cereja', 'damasco', 'uva']"
   ]
  },
  {
   "cell_type": "code",
   "execution_count": null,
   "metadata": {
    "id": "-EniLsrr6IaW"
   },
   "outputs": [],
   "source": [
    "# Modificando uma porção da lista\n",
    "frutas[1:3] = ['abacaxi', 'melancia']\n",
    "print(frutas)  # Output: ['maçã', 'abacaxi', 'melancia', 'damasco', 'uva']"
   ]
  },
  {
   "cell_type": "markdown",
   "metadata": {
    "id": "6thv7ojc5rY2"
   },
   "source": [
    "### Adicionando e Removendo Elementos\n",
    "Podemos adicionar e remover elementos de uma lista usando métodos como append(), insert(), remove() e pop():"
   ]
  },
  {
   "cell_type": "code",
   "execution_count": null,
   "metadata": {
    "id": "LxTgG0gd509f"
   },
   "outputs": [],
   "source": [
    "frutas = ['maçã', 'banana', 'cereja']"
   ]
  },
  {
   "cell_type": "code",
   "execution_count": null,
   "metadata": {
    "id": "Y-NX4AbF57wX"
   },
   "outputs": [],
   "source": [
    "# Adicionando um elemento ao final da lista\n",
    "frutas.append('uva')\n",
    "print(frutas)  # Output: ['maçã', 'banana', 'cereja', 'uva']"
   ]
  },
  {
   "cell_type": "code",
   "execution_count": null,
   "metadata": {
    "id": "y04mKYbi57jB"
   },
   "outputs": [],
   "source": [
    "# Inserindo um elemento em uma posição específica\n",
    "frutas.insert(1, 'laranja')\n",
    "print(frutas)  # Output: ['maçã', 'laranja', 'banana', 'cereja', 'uva']"
   ]
  },
  {
   "cell_type": "code",
   "execution_count": null,
   "metadata": {
    "id": "IkjGMvYf57Us"
   },
   "outputs": [],
   "source": [
    "# Removendo um elemento específico\n",
    "frutas.remove('banana')\n",
    "print(frutas)  # Output: ['maçã', 'laranja', 'cereja', 'uva']"
   ]
  },
  {
   "cell_type": "code",
   "execution_count": null,
   "metadata": {
    "id": "dduDs0m3567v"
   },
   "outputs": [],
   "source": [
    "# Removendo e retornando o último elemento\n",
    "fruta_removida = frutas.pop()\n",
    "print(fruta_removida)  # Output: uva\n",
    "print(frutas)          # Output: ['maçã', 'laranja', 'cereja']"
   ]
  },
  {
   "cell_type": "markdown",
   "metadata": {
    "id": "IDmFxT2k0Yhk"
   },
   "source": [
    "## Ciclos for em Python e Listas\n",
    "\n",
    "Em Python, os ciclos for são usados para iterar sobre uma sequência (que pode ser uma lista, uma tupla, um dicionário, um conjunto ou uma string) e executar um bloco de código para cada elemento da sequência. O ciclo for em Python é especialmente útil em combinação com listas, permitindo processar cada elemento da lista de forma sistemática.\n",
    "\n",
    "### Iterando sobre uma lista\n",
    "Para iterar sobre os elementos de uma lista, podemos usar o ciclo for da seguinte forma:"
   ]
  },
  {
   "cell_type": "code",
   "execution_count": null,
   "metadata": {
    "id": "Py0889zk0Xvh"
   },
   "outputs": [],
   "source": [
    "queijos = ['Cheddar', 'Edam', 'Gouda']\n",
    "for queijo in queijos:\n",
    "    print(queijo)"
   ]
  },
  {
   "cell_type": "markdown",
   "metadata": {
    "id": "yTtRQ-RK0s8x"
   },
   "source": [
    "Neste exemplo, o ciclo for itera sobre cada elemento da lista queijos e imprime o valor de cada elemento.\n",
    "\n",
    "### Iterando sobre uma lista numérica\n",
    "Também podemos usar o ciclo for para iterar sobre uma lista numérica. Por exemplo:"
   ]
  },
  {
   "cell_type": "code",
   "execution_count": null,
   "metadata": {
    "id": "z8oCokRF1J65"
   },
   "outputs": [],
   "source": [
    "números = [42, 123, 7, 9, 13]\n",
    "soma = 0\n",
    "for número in números:\n",
    "    soma += número\n",
    "print(f'A soma dos números é: {soma}')"
   ]
  },
  {
   "cell_type": "markdown",
   "metadata": {
    "id": "EaFHA1ju1Tym"
   },
   "source": [
    "Neste exemplo, o ciclo for itera sobre cada número na lista números e calcula a soma de todos os números.\n",
    "\n",
    "### Iterando com índices\n",
    "\n",
    "Em algumas situações, pode ser útil iterar sobre os índices de uma lista, além dos valores. Podemos usar a função range() para gerar uma sequência de índices e usar esses índices para acessar os elementos da lista:"
   ]
  },
  {
   "cell_type": "code",
   "execution_count": null,
   "metadata": {
    "id": "7df0QMM21id_"
   },
   "outputs": [],
   "source": [
    "queijos = ['Cheddar', 'Edam', 'Gouda']\n",
    "for i in range(len(queijos)):\n",
    "    print(f'Índice {i}: {queijos[i]}')\n"
   ]
  },
  {
   "cell_type": "markdown",
   "metadata": {
    "id": "OnBMSYuD2BGY"
   },
   "source": [
    "Neste exemplo, o ciclo for itera sobre os índices da lista queijos e imprime o índice e o valor correspondente.\n",
    "\n",
    "### Utilizando a list comprehension\n",
    "Uma técnica muito útil em Python é a list comprehension, que permite criar listas de forma concisa e eficiente. Por exemplo:"
   ]
  },
  {
   "cell_type": "code",
   "execution_count": null,
   "metadata": {
    "id": "yCA_kiqr2Aeu"
   },
   "outputs": [],
   "source": [
    "quadrados = [x ** 2 for x in range(10)]\n",
    "print(quadrados)\n"
   ]
  },
  {
   "cell_type": "markdown",
   "metadata": {
    "id": "BGz6tKwm2Svw"
   },
   "source": [
    "Neste exemplo, a list comprehension é usada para criar uma lista quadrados contendo os quadrados dos números de 0 a 9."
   ]
  },
  {
   "cell_type": "markdown",
   "metadata": {
    "id": "NBT0Uv1tE2Cw"
   },
   "source": [
    "## Strings, Índices e Slices em Python\n",
    "\n",
    "### Strings\n",
    "\n",
    "\n",
    "#### len()\n",
    "Retorna o comprimento (número de caracteres) de uma string."
   ]
  },
  {
   "cell_type": "code",
   "execution_count": null,
   "metadata": {
    "id": "8yOLk8geE1Qa"
   },
   "outputs": [],
   "source": [
    "rase = \"Olá, mundo!\"\n",
    "print(len(frase))  # Output: 11"
   ]
  },
  {
   "cell_type": "code",
   "execution_count": null,
   "metadata": {},
   "outputs": [],
   "source": [
    "Métodos Básicos de Strings"
   ]
  },
  {
   "cell_type": "markdown",
   "metadata": {
    "id": "nfG8e_yxFCWV"
   },
   "source": [
    "#### lower()\n",
    "Converte todos os caracteres de uma string para minúsculas."
   ]
  },
  {
   "cell_type": "code",
   "execution_count": null,
   "metadata": {
    "id": "dHbUijJ9FR6V"
   },
   "outputs": [],
   "source": [
    "frase = \"Olá, Mundo!\"\n",
    "print(frase.lower())  # Output: olá, mundo!"
   ]
  },
  {
   "cell_type": "markdown",
   "metadata": {
    "id": "jKmj-30YFWGj"
   },
   "source": [
    "#### upper()\n",
    "Converte todos os caracteres de uma string para maiúsculas."
   ]
  },
  {
   "cell_type": "code",
   "execution_count": null,
   "metadata": {
    "id": "RxLKa_LmFVGT"
   },
   "outputs": [],
   "source": [
    "frase = \"Olá, Mundo!\"\n",
    "print(frase.upper())  # Output: OLÁ, MUNDO!"
   ]
  },
  {
   "cell_type": "markdown",
   "metadata": {
    "id": "1iXRvZMkFc8k"
   },
   "source": [
    "#### capitalize()\n",
    "Converte o primeiro caractere de uma string para maiúscula e os demais para minúsculas."
   ]
  },
  {
   "cell_type": "code",
   "execution_count": null,
   "metadata": {
    "id": "K_sL0hzMFh-q"
   },
   "outputs": [],
   "source": [
    "frase = \"olá, mundo!\"\n",
    "print(frase.capitalize())  # Output: Olá, mundo!"
   ]
  },
  {
   "cell_type": "markdown",
   "metadata": {
    "id": "gGEKQQWBFzqc"
   },
   "source": [
    "#### replace()\n",
    "Substitui uma substring por outra em uma string."
   ]
  },
  {
   "cell_type": "code",
   "execution_count": null,
   "metadata": {
    "id": "TSXu05i2FzUq"
   },
   "outputs": [],
   "source": [
    "frase = \"Olá, Mundo!\"\n",
    "print(frase.replace(\"Mundo\", \"Python\"))  # Output: Olá, Python!"
   ]
  },
  {
   "cell_type": "markdown",
   "metadata": {
    "id": "fVObVFTHF8KQ"
   },
   "source": [
    "#### split()\n",
    "Divide uma string em uma lista de substrings com base em um delimitador."
   ]
  },
  {
   "cell_type": "code",
   "execution_count": null,
   "metadata": {
    "id": "sJpZsM45GAxY"
   },
   "outputs": [],
   "source": [
    "frase = \"Python é uma linguagem de programação\"\n",
    "palavras = frase.split(\" \")\n",
    "print(palavras)  # Output: ['Python', 'é', 'uma', 'linguagem', 'de', 'programação']"
   ]
  },
  {
   "cell_type": "markdown",
   "metadata": {
    "id": "rMbAthpgGFji"
   },
   "source": [
    " #### join()\n",
    "Junta os elementos de uma lista em uma única string."
   ]
  },
  {
   "cell_type": "code",
   "execution_count": null,
   "metadata": {
    "id": "HMFX7vfHGSpr"
   },
   "outputs": [],
   "source": [
    "palavras = ['Python', 'é', 'uma', 'linguagem', 'de', 'programação']\n",
    "frase = \" \".join(palavras)\n",
    "print(frase)  # Output: Python é uma linguagem de programação"
   ]
  },
  {
   "cell_type": "markdown",
   "metadata": {
    "id": "heClDwtqGNDO"
   },
   "source": [
    "#### ASCII em Python\n",
    "O código ASCII (American Standard Code for Information Interchange) é um conjunto de códigos numéricos que representam caracteres.\n",
    "\n",
    "##### ord()\n",
    "Retorna o valor ASCII de um caractere."
   ]
  },
  {
   "cell_type": "code",
   "execution_count": null,
   "metadata": {
    "id": "YN9_xdeoGciq"
   },
   "outputs": [],
   "source": [
    "print(ord('A'))  # Output: 65"
   ]
  },
  {
   "cell_type": "markdown",
   "metadata": {
    "id": "b71HUjVUGpj-"
   },
   "source": [
    "##### chr()\n",
    "Retorna o caractere representado pelo valor ASCII fornecido."
   ]
  },
  {
   "cell_type": "code",
   "execution_count": null,
   "metadata": {
    "id": "q04gVYc4GuaQ"
   },
   "outputs": [],
   "source": [
    "print(chr(65))  # Output: A"
   ]
  },
  {
   "cell_type": "markdown",
   "metadata": {
    "id": "dZvVZFia7MMx"
   },
   "source": [
    "### Índices\n",
    "Em Python, os caracteres de uma string são acessados através de índices. O índice de um caractere na string é a sua posição, começando do índice 0 para o primeiro caractere."
   ]
  },
  {
   "cell_type": "code",
   "execution_count": null,
   "metadata": {
    "id": "jRooI0597U9z"
   },
   "outputs": [],
   "source": [
    "frase = \"Olá, mundo!\""
   ]
  },
  {
   "cell_type": "code",
   "execution_count": null,
   "metadata": {
    "id": "1j0UROzf8pXJ"
   },
   "outputs": [],
   "source": [
    "# Acessando o primeiro caractere\n",
    "print(frase[0])  # Output: O"
   ]
  },
  {
   "cell_type": "code",
   "execution_count": null,
   "metadata": {
    "id": "9t2UoRyP8oeh"
   },
   "outputs": [],
   "source": [
    "# Acessando o terceiro caractere\n",
    "print(frase[2])  # Output: á"
   ]
  },
  {
   "cell_type": "code",
   "execution_count": null,
   "metadata": {
    "id": "QPjZVWrc8oTM"
   },
   "outputs": [],
   "source": [
    "# Acessando o último caractere\n",
    "print(frase[-1])  # Output: !"
   ]
  },
  {
   "cell_type": "code",
   "execution_count": null,
   "metadata": {
    "id": "iZakUkDC8oGy"
   },
   "outputs": [],
   "source": [
    "# Acessando o penúltimo caractere\n",
    "print(frase[-2])  # Output: o"
   ]
  },
  {
   "cell_type": "markdown",
   "metadata": {
    "id": "lfUUTF9g7aaq"
   },
   "source": [
    "### Slices de Strings\n",
    "O slice permite que você selecione uma parte da string. A sintaxe básica para um slice é string[início:fim], onde início é o índice do primeiro caractere a ser incluído e fim é o índice do primeiro caractere a ser excluído."
   ]
  },
  {
   "cell_type": "code",
   "execution_count": null,
   "metadata": {
    "id": "kZP5YKhb7eKD"
   },
   "outputs": [],
   "source": [
    "frase = \"Olá, mundo!\"\n"
   ]
  },
  {
   "cell_type": "code",
   "execution_count": null,
   "metadata": {
    "id": "F4Jr6uBq8iAA"
   },
   "outputs": [],
   "source": [
    "# Selecionando os primeiros cinco caracteres\n",
    "print(frase[0:5])  # Output: Olá,"
   ]
  },
  {
   "cell_type": "code",
   "execution_count": null,
   "metadata": {
    "id": "VBDiojHw8dxk"
   },
   "outputs": [],
   "source": [
    "# Selecionando os três últimos caracteres\n",
    "print(frase[-3:])  # Output: do!"
   ]
  },
  {
   "cell_type": "code",
   "execution_count": null,
   "metadata": {
    "id": "UBN2wUQL8dmk"
   },
   "outputs": [],
   "source": [
    "# Selecionando do segundo ao quarto caractere\n",
    "print(frase[1:4])  # Output: lá,"
   ]
  },
  {
   "cell_type": "code",
   "execution_count": null,
   "metadata": {
    "id": "1fWVB26B8dbz"
   },
   "outputs": [],
   "source": [
    "# Selecionando todos os caracteres pulando de dois em dois\n",
    "print(frase[::2])  # Output: Oá ud"
   ]
  },
  {
   "cell_type": "markdown",
   "metadata": {
    "id": "amqi4Qwx7jGC"
   },
   "source": [
    "### Modificando Caracteres da String\n",
    "As strings em Python são imutáveis, o que significa que não podemos modificar seus caracteres diretamente. No entanto, podemos criar uma nova string com as modificações desejadas:"
   ]
  },
  {
   "cell_type": "code",
   "execution_count": null,
   "metadata": {
    "id": "7StsXWj27pnh"
   },
   "outputs": [],
   "source": [
    "frase = \"Olá, mundo!\""
   ]
  },
  {
   "cell_type": "code",
   "execution_count": null,
   "metadata": {
    "id": "SsFuJ2UK8XO2"
   },
   "outputs": [],
   "source": [
    "# Substituindo um caractere\n",
    "nova_frase = frase.replace('á', 'a')\n",
    "print(nova_frase)  # Output: Ola, mundo!"
   ]
  },
  {
   "cell_type": "code",
   "execution_count": null,
   "metadata": {
    "id": "gTu6URK-8XDA"
   },
   "outputs": [],
   "source": [
    "\n",
    "# Convertendo para maiúsculas\n",
    "frase_maiuscula = frase.upper()\n",
    "print(frase_maiuscula)  # Output: OLÁ, MUNDO!"
   ]
  },
  {
   "cell_type": "markdown",
   "metadata": {
    "id": "PDKAnPRn7ta6"
   },
   "source": [
    "### Concatenando Strings\n",
    "Podemos concatenar strings usando o operador +:"
   ]
  },
  {
   "cell_type": "code",
   "execution_count": null,
   "metadata": {
    "id": "jIR38W5A724b"
   },
   "outputs": [],
   "source": [
    "nome = \"João\"\n",
    "sobrenome = \"Silva\"\n",
    "\n",
    "# Concatenando as strings\n",
    "nome_completo = nome + \" \" + sobrenome\n",
    "print(nome_completo)  # Output: João Silva"
   ]
  },
  {
   "cell_type": "markdown",
   "metadata": {
    "id": "YluOHS8u7-8h"
   },
   "source": [
    "### Convertendo Strings para Listas e Vice-Versa\n",
    "Podemos converter uma string em uma lista de caracteres e vice-versa:"
   ]
  },
  {
   "cell_type": "code",
   "execution_count": null,
   "metadata": {
    "id": "4Cgbo-Yp8GVr"
   },
   "outputs": [],
   "source": [
    "frase = \"Olá, mundo!\"\n"
   ]
  },
  {
   "cell_type": "code",
   "execution_count": null,
   "metadata": {
    "id": "wpFqw9KU8O7A"
   },
   "outputs": [],
   "source": [
    "# Convertendo a string em uma lista de caracteres\n",
    "lista_caracteres = list(frase)\n",
    "print(lista_caracteres)  # Output: ['O', 'l', 'á', ',', ' ', 'm', 'u', 'n', 'd', 'o', '!']"
   ]
  },
  {
   "cell_type": "code",
   "execution_count": null,
   "metadata": {
    "id": "kwgFHrQ88OsY"
   },
   "outputs": [],
   "source": [
    "# Convertendo uma lista de caracteres em uma string\n",
    "nova_frase = ''.join(lista_caracteres)\n",
    "print(nova_frase)  # Output: Olá, mundo!"
   ]
  },
  {
   "cell_type": "markdown",
   "metadata": {
    "id": "7GfjETAa3dYr"
   },
   "source": [
    "## Ciclos for e Strings\n",
    "### Iterando sobre os caracteres de uma string\n",
    "Podemos usar o ciclo for para iterar sobre cada caractere de uma string:"
   ]
  },
  {
   "cell_type": "code",
   "execution_count": null,
   "metadata": {
    "id": "CLHky3y82X37"
   },
   "outputs": [],
   "source": [
    "frase = \"Olá, mundo!\"\n",
    "for caractere in frase:\n",
    "    print(caractere)"
   ]
  },
  {
   "cell_type": "markdown",
   "metadata": {
    "id": "-fyn2QTA3s_K"
   },
   "source": [
    "Neste exemplo, o ciclo for itera sobre cada caractere da string frase e imprime cada caractere individualmente.\n",
    "\n",
    "### Contando vogais em uma string\n",
    "Vamos usar o ciclo for para contar o número de vogais em uma string:"
   ]
  },
  {
   "cell_type": "code",
   "execution_count": null,
   "metadata": {
    "id": "YCscfV0t3sb3"
   },
   "outputs": [],
   "source": [
    "texto = \"Python é uma linguagem de programação fantástica!\"\n",
    "vogais = 'aeiouAEIOU'\n",
    "contagem = 0\n",
    "\n",
    "for caractere in texto:\n",
    "    if caractere in vogais:\n",
    "        contagem += 1\n",
    "\n",
    "print(f'O texto tem {contagem} vogais.')"
   ]
  },
  {
   "cell_type": "markdown",
   "metadata": {
    "id": "JTpZK0K233Zb"
   },
   "source": [
    "Neste exemplo, o ciclo for itera sobre cada caractere da string texto e verifica se o caractere é uma vogal. Se for, incrementamos a variável contagem.\n",
    "\n",
    "### Convertendo uma string para maiúsculas\n",
    "Podemos usar o ciclo for para converter todos os caracteres de uma string para maiúsculas:"
   ]
  },
  {
   "cell_type": "code",
   "execution_count": null,
   "metadata": {
    "id": "McZR5OqY37o6"
   },
   "outputs": [],
   "source": [
    "frase = \"Olá, mundo!\"\n",
    "frase_maiuscula = ''\n",
    "\n",
    "for caractere in frase:\n",
    "    if 'a' <= caractere <= 'z':\n",
    "        # Converte para maiúscula\n",
    "        caractere = chr(ord(caractere) - 32)\n",
    "    frase_maiuscula += caractere\n",
    "\n",
    "print(frase_maiuscula)"
   ]
  },
  {
   "cell_type": "markdown",
   "metadata": {
    "id": "x7u_XY054BCK"
   },
   "source": [
    "Neste exemplo, o ciclo for itera sobre cada caractere da string frase e verifica se o caractere é uma letra minúscula. Se for, convertemos para maiúscula e adicionamos ao frase_maiuscula.\n",
    "\n",
    "### Invertendo uma string\n",
    "Podemos usar o ciclo for para inverter uma string:"
   ]
  },
  {
   "cell_type": "code",
   "execution_count": null,
   "metadata": {
    "id": "ndrJpPMT4FIp"
   },
   "outputs": [],
   "source": [
    "frase = \"Python\"\n",
    "frase_invertida = ''\n",
    "\n",
    "for i in range(len(frase) - 1, -1, -1):\n",
    "    frase_invertida += frase[i]\n",
    "\n",
    "print(frase_invertida)"
   ]
  },
  {
   "cell_type": "markdown",
   "metadata": {
    "id": "PYQ5B6Lc4NM7"
   },
   "source": [
    "Neste exemplo, o ciclo for itera sobre os índices da string frase de trás para frente e constrói a string frase_invertida caractere por caractere."
   ]
  },
  {
   "cell_type": "markdown",
   "metadata": {
    "id": "Ib8nMLjsoOTX"
   },
   "source": [
    "## Definição de Funções em Python\n",
    "\n",
    "Funções desempenham um papel crucial na programação, permitindo-nos organizar e reutilizar blocos de código. Em Python, a definição de uma função é uma tarefa simples e poderosa. Ela permite encapsular um conjunto de instruções em um único bloco, facilitando sua execução repetida e promovendo a modularidade do código.\n",
    "\n",
    "### Estrutura Básica de uma Função\n",
    "\n",
    "A estrutura básica de uma função em Python é definida pela palavra-chave **def**, seguida pelo nome da função e, opcionalmente, por parâmetros entre parênteses. A execução do bloco de código da função é determinada pela indentação, que é uma característica fundamental da linguagem Python.\n",
    "\n",
    "Aqui está um exemplo simples de como definir uma função que imprime uma mensagem:\n",
    "\n",
    "```\n",
    "def saudacao():\n",
    "    print(\"Olá, mundo!\")\n",
    "\n",
    "```\n",
    "\n",
    "Após definir uma função, podemos chamá-la quantas vezes quisermos no nosso programa. Para chamar uma função, basta escrever o nome da função seguido por parênteses:\n",
    "\n",
    "```\n",
    "saudacao()  # Esta linha irá imprimir: Olá, mundo!\n",
    "```\n",
    "\n",
    "### Parâmetros e Retorno\n",
    "Além de executar um conjunto de instruções, as funções podem receber parâmetros e retornar valores. Os parâmetros são variáveis que aceitam argumentos fornecidos quando a função é chamada, enquanto o valor de retorno é o resultado produzido pela função.\n",
    "\n",
    "Vamos considerar um exemplo que aceita um nome como parâmetro e retorna uma saudação personalizada:\n",
    "\n",
    "```\n",
    "def saudacao_personalizada(nome):\n",
    "    return f\"Olá, {nome}!\"\n",
    "\n",
    "mensagem = saudacao_personalizada(\"Ana\")\n",
    "print(mensagem)  # Esta linha irá imprimir: Olá, Ana!\n",
    "```\n",
    "\n"
   ]
  },
  {
   "cell_type": "markdown",
   "metadata": {
    "id": "BrkgPvqSoOTX"
   },
   "source": [
    "## Exercícios de Python"
   ]
  },
  {
   "cell_type": "markdown",
   "metadata": {
    "id": "ouDr4pJ-oOTX"
   },
   "source": [
    "É importante tentar resolver os exercícios seguintes. Alguns podem parecer dificeis, leia com atenção o enunciado, recorde os  anteriores e exprimente, exprimente...."
   ]
  },
  {
   "cell_type": "markdown",
   "metadata": {
    "id": "KhsOIwuXoOTX"
   },
   "source": [
    "**Exercício 1:** \n",
    "Escreva a função abaixo a função:\n",
    "\n",
    "    def mod3(n):\n",
    "        return n % 3\n",
    "\n",
    "e execute-a para diferentes argumentos inteiros. Qual a interpretação para o operador % em Python? Qual o comportamento da função para números negativos?"
   ]
  },
  {
   "cell_type": "code",
   "execution_count": null,
   "metadata": {
    "id": "mtPpEAc6oOTY"
   },
   "outputs": [],
   "source": [
    "def mod3(n):\n",
    "    return n % 3"
   ]
  },
  {
   "cell_type": "code",
   "execution_count": null,
   "metadata": {
    "id": "Pt6VJ0yPoOTY"
   },
   "outputs": [],
   "source": [
    "mod3(3)"
   ]
  },
  {
   "cell_type": "markdown",
   "metadata": {
    "id": "TDTDUj1YoOTY"
   },
   "source": [
    "**Exercício 2:** \n",
    "Defina a função incrementaUmaUnidade, que tenha por argumento $x$ e devolva $x+1$. Teste a sua função para $x=3$, $x=5$ e $x=1.5$."
   ]
  },
  {
   "cell_type": "code",
   "execution_count": null,
   "metadata": {
    "collapsed": true,
    "id": "8D7TQVOtoOTY",
    "jupyter": {
     "outputs_hidden": true
    }
   },
   "outputs": [],
   "source": []
  },
  {
   "cell_type": "markdown",
   "metadata": {
    "id": "vQzvuKX7oOTY"
   },
   "source": [
    "**Exercício 3:** \n",
    "Defina a função somaDe1AteN(n), que devolve $1+2+\\ldots+n$ usando a fórmula $1+2+\\ldots+n=\\frac{n(n+1)}{2}$. Teste a função para vários valores de $n$."
   ]
  },
  {
   "cell_type": "code",
   "execution_count": null,
   "metadata": {
    "id": "XFF7rvxm9lI3"
   },
   "outputs": [],
   "source": []
  },
  {
   "cell_type": "markdown",
   "metadata": {
    "id": "wS2Cg1E4oOTY"
   },
   "source": [
    "**Exercício 4:** \n",
    "Defina a função inverso(x), que devolve $1/x$. Aplique a função para $x=0$. Como é que o Python trata o domínio natural duma função?\\label{inverso}"
   ]
  },
  {
   "cell_type": "code",
   "execution_count": null,
   "metadata": {
    "id": "LTRsHTHd9mUj"
   },
   "outputs": [],
   "source": []
  },
  {
   "cell_type": "markdown",
   "metadata": {
    "id": "NNSTQmoKoOTY"
   },
   "source": [
    "**Exercício 5:** \n",
    "Assumindo definida a função duplica(x), que devolve $2x$, e a função incrementaUmaUnidade(x), dum exercício anterior. Qual é o resultado de duplica(incrementaUmaUnidade(6))? Qual é o resultado de incrementaUmaUnidade(duplica(6))}? Explique esses resultados."
   ]
  },
  {
   "cell_type": "code",
   "execution_count": null,
   "metadata": {
    "id": "w-FArnct9nYg"
   },
   "outputs": [],
   "source": []
  },
  {
   "cell_type": "markdown",
   "metadata": {
    "id": "4SAaaMz-oOTZ"
   },
   "source": [
    "**Exercício 6:** \n",
    "Tente executar incrementaUmaUnidade, dum exercício anterior com argumento '123'. Podemos adicionar um número a uma string em Python?"
   ]
  },
  {
   "cell_type": "code",
   "execution_count": null,
   "metadata": {
    "id": "Td2AXoHc9oSE"
   },
   "outputs": [],
   "source": []
  },
  {
   "cell_type": "markdown",
   "metadata": {
    "id": "F1k82OJdoOTZ"
   },
   "source": [
    "**Exercício 7:** \n",
    "Tente executar duplica, dum exercício anterior com argumento '123'. Qual o comportamento do operador $\\ast$ quando tem por operandos um inteiro e uma string?"
   ]
  },
  {
   "cell_type": "code",
   "execution_count": null,
   "metadata": {
    "id": "MbP3Clpe9pRV"
   },
   "outputs": [],
   "source": []
  },
  {
   "cell_type": "markdown",
   "metadata": {
    "id": "krcbQsGDoOTZ"
   },
   "source": [
    "**Exercício 8:** \n",
    "No Python, se s é uma string, s[0] identifica o primeiro caracter. Defina e teste uma função que quando aplicada a uma string devolva o seu primeiro caracter."
   ]
  },
  {
   "cell_type": "code",
   "execution_count": null,
   "metadata": {
    "id": "fGylbiQo9qG0"
   },
   "outputs": [],
   "source": []
  },
  {
   "cell_type": "markdown",
   "metadata": {
    "id": "dl8VXBExoOTZ"
   },
   "source": [
    "**Exercício 9:** \n",
    "No Python, [a, b, c, $\\ldots$, x] representa uma lista de objectos. Por exemplo [1, 5, 2] representa a lista com três números: 1, 5 e 2. Qual é o comportamento da função dum exercício anterior quando tem por argumento uma lista?"
   ]
  },
  {
   "cell_type": "code",
   "execution_count": null,
   "metadata": {
    "id": "9_c7CtjL9rqg"
   },
   "outputs": [],
   "source": []
  },
  {
   "cell_type": "markdown",
   "metadata": {
    "id": "nj7XjtmGoOTZ"
   },
   "source": [
    "**Exercício 10:** \n",
    "Qual o resultado de aplicar as funções $sum$, $min$ e $max$ (funções pré-definidas) a uma lista de números?"
   ]
  },
  {
   "cell_type": "markdown",
   "metadata": {
    "id": "JFo7gzyDoOTZ"
   },
   "source": [
    "**Exercício 11:** \n",
    "Qual o resultado de executar $min(range(n))$ e $max(range(n))$, quando $n$ é um inteiro positivo?"
   ]
  },
  {
   "cell_type": "code",
   "execution_count": null,
   "metadata": {
    "id": "UjcZmS-Q9zNt"
   },
   "outputs": [],
   "source": []
  },
  {
   "cell_type": "markdown",
   "metadata": {
    "id": "lxoDSfGwoOTZ"
   },
   "source": [
    "**Exercício 12:** \n",
    "Reescreva a função somaDe1AteN do exercício anterior por forma a usar funções apresentadas nos exercícios sum e range."
   ]
  },
  {
   "cell_type": "code",
   "execution_count": null,
   "metadata": {
    "id": "bZyjhncQ91mN"
   },
   "outputs": [],
   "source": []
  },
  {
   "cell_type": "markdown",
   "metadata": {
    "id": "7JYDziN5oOTZ"
   },
   "source": [
    "**Exercício 13:** \n",
    "Explique o resultado da execução de 2+-2 e 2++2."
   ]
  },
  {
   "cell_type": "code",
   "execution_count": null,
   "metadata": {
    "id": "HsIt7u8HoOTZ"
   },
   "outputs": [],
   "source": [
    "2+-2"
   ]
  },
  {
   "cell_type": "code",
   "execution_count": null,
   "metadata": {
    "id": "aYAyFPT8oOTa"
   },
   "outputs": [],
   "source": [
    "2++2"
   ]
  },
  {
   "cell_type": "markdown",
   "metadata": {
    "id": "xcYdR9rqoOTa"
   },
   "source": [
    "**Exercício 14:** \n",
    "Experimente 2+++2. Explique o resultado."
   ]
  },
  {
   "cell_type": "code",
   "execution_count": null,
   "metadata": {
    "collapsed": true,
    "id": "8-TnkrOvoOTa",
    "jupyter": {
     "outputs_hidden": true
    }
   },
   "outputs": [],
   "source": []
  },
  {
   "cell_type": "markdown",
   "metadata": {
    "id": "AQQ9ecIkoOTa"
   },
   "source": [
    "**Exercício 15:** \n",
    "Experimente 2**3 e 2**4. Descreva o comportamento do operador **."
   ]
  },
  {
   "cell_type": "code",
   "execution_count": null,
   "metadata": {
    "collapsed": true,
    "id": "lCShP6_7oOTa",
    "jupyter": {
     "outputs_hidden": true
    }
   },
   "outputs": [],
   "source": []
  },
  {
   "cell_type": "markdown",
   "metadata": {
    "id": "kIUgamkqoOTa"
   },
   "source": [
    "**Exercício 16:** \n",
    "Experimente \"abc\" + \"def\" e 'abc' + 'def'. Descreva o comportamento do operador + quando aplicado a strings."
   ]
  },
  {
   "cell_type": "code",
   "execution_count": null,
   "metadata": {
    "collapsed": true,
    "id": "s5JybspKoOTa",
    "jupyter": {
     "outputs_hidden": true
    }
   },
   "outputs": [],
   "source": []
  },
  {
   "cell_type": "markdown",
   "metadata": {
    "id": "MTnntgzkoOTa"
   },
   "source": [
    "**Exercício 17:** \n",
    "O operador * pode ser aplicado a strings? Experimente $3\\ast$'12' e explique o resultado."
   ]
  },
  {
   "cell_type": "code",
   "execution_count": null,
   "metadata": {
    "collapsed": true,
    "id": "BBxZE2NHoOTa",
    "jupyter": {
     "outputs_hidden": true
    }
   },
   "outputs": [],
   "source": []
  },
  {
   "cell_type": "markdown",
   "metadata": {
    "id": "X1MeKLgIoOTa"
   },
   "source": [
    "**Exercício 18:** \n",
    "Execute 9-8*2+6 e (5-1)*(1+2)**3. Qual a ordem de precedência dos operadores usados nas expressões?"
   ]
  },
  {
   "cell_type": "code",
   "execution_count": null,
   "metadata": {
    "collapsed": true,
    "id": "1HzE9Bl-oOTb",
    "jupyter": {
     "outputs_hidden": true
    }
   },
   "outputs": [],
   "source": []
  },
  {
   "cell_type": "markdown",
   "metadata": {
    "id": "YtD8RBNGoOTb"
   },
   "source": [
    "**Exercício 19:** \n",
    "Definindo a função:\n",
    "\n",
    "    def inverso(x):\n",
    "        return 1/x\n",
    "\n",
    "Qual o resultado de executar"
   ]
  },
  {
   "cell_type": "code",
   "execution_count": null,
   "metadata": {
    "id": "9uYdeQOHoOTb"
   },
   "outputs": [],
   "source": [
    "def inverso(x):\n",
    "        return 1/x"
   ]
  },
  {
   "cell_type": "code",
   "execution_count": null,
   "metadata": {
    "id": "EHWrI5SgoOTb"
   },
   "outputs": [],
   "source": [
    "1 + inverso(2*5)"
   ]
  },
  {
   "cell_type": "markdown",
   "metadata": {
    "id": "QQH8priaoOTb"
   },
   "source": [
    "Como é feita a avaliação quando um dos operadores é uma função? Como é feita a avaliação quando uma função é aplicada a uma expressão?"
   ]
  },
  {
   "cell_type": "code",
   "execution_count": null,
   "metadata": {
    "collapsed": true,
    "id": "eBhcL4CLoOTb",
    "jupyter": {
     "outputs_hidden": true
    }
   },
   "outputs": [],
   "source": []
  },
  {
   "cell_type": "markdown",
   "metadata": {
    "id": "v7zvBP5koOTb"
   },
   "source": [
    "**Exercício 20:** \n",
    "A função abaixo devolve o primeiro caracter duma \\emph{string}:"
   ]
  },
  {
   "cell_type": "code",
   "execution_count": null,
   "metadata": {
    "id": "Xt8IbxUNoOTc"
   },
   "outputs": [],
   "source": [
    "def primeiro(s):\n",
    "    return s[0]"
   ]
  },
  {
   "cell_type": "markdown",
   "metadata": {
    "id": "ygv9QXkcoOTc"
   },
   "source": [
    "Adicione à função uma \\emph{string} de documentação. Execute:"
   ]
  },
  {
   "cell_type": "code",
   "execution_count": null,
   "metadata": {
    "id": "eK0FNi6AoOTc"
   },
   "outputs": [],
   "source": [
    "primeiro('Bom dia')"
   ]
  },
  {
   "cell_type": "markdown",
   "metadata": {
    "id": "tOs_03gVoOTc"
   },
   "source": [
    "e de executar"
   ]
  },
  {
   "cell_type": "code",
   "execution_count": null,
   "metadata": {
    "id": "tfSngB9hoOTc"
   },
   "outputs": [],
   "source": [
    "primeiro.__doc__"
   ]
  },
  {
   "cell_type": "markdown",
   "metadata": {
    "id": "s3s8RVRzoOTc"
   },
   "source": [
    "**Exercício 21:** \n",
    "Identifique os erros de sintaxe na definição da função abaixo:"
   ]
  },
  {
   "cell_type": "code",
   "execution_count": null,
   "metadata": {
    "id": "y1-jacM0oOTd"
   },
   "outputs": [],
   "source": [
    "def codigoErrado(x):\n",
    "    Return X**2 - 1"
   ]
  },
  {
   "cell_type": "markdown",
   "metadata": {
    "id": "aDiqC4ODoOTd"
   },
   "source": [
    "**Exercício 22:** \n",
    "No Python, *s[-1]* identifica a último caracter duma string *s* (ou o último elemento duma lista *s*). Escreva uma função em que, de uma string *s* construa uma nova string contendo dois caracteres: o primeiro e o último caracter em *s*. Introduza um string de documentação no seu código."
   ]
  },
  {
   "cell_type": "code",
   "execution_count": null,
   "metadata": {
    "collapsed": true,
    "id": "A6ZrUS1RoOTd",
    "jupyter": {
     "outputs_hidden": true
    }
   },
   "outputs": [],
   "source": []
  },
  {
   "cell_type": "markdown",
   "metadata": {
    "id": "gwH-K-YS-FiD"
   },
   "source": [
    "Escreva uma função que conte o número de vogais (a, e, i, o, u) em uma string fornecida pelo usuário.\n",
    "\n",
    "\n",
    "```\n",
    ">>> contar_vogais(\"Olá, mundo!\")\n",
    "3\n",
    "```\n"
   ]
  },
  {
   "cell_type": "code",
   "execution_count": null,
   "metadata": {
    "collapsed": true,
    "id": "uuCp0IlIoOTd",
    "jupyter": {
     "outputs_hidden": true
    }
   },
   "outputs": [],
   "source": []
  },
  {
   "cell_type": "markdown",
   "metadata": {
    "id": "MRUOsuXD-Sog"
   },
   "source": [
    "Escreva umd função que verifique se uma string fornecida pelo usuário é um palíndromo (uma palavra, frase ou qualquer outra sequência de unidades que tenha a propriedade de poder ser lida tanto da direita para a esquerda como da esquerda para a direita).\n",
    "\n",
    "\n",
    "\n",
    "```\n",
    ">>> verificar_palindromo(\"arara\")\n",
    "True\n",
    ">>> verificar_palindromo(\"python\")\n",
    "False\n",
    "```\n",
    "\n"
   ]
  },
  {
   "cell_type": "code",
   "execution_count": null,
   "metadata": {
    "id": "UnI4uv8R-bCY"
   },
   "outputs": [],
   "source": []
  },
  {
   "cell_type": "markdown",
   "metadata": {
    "id": "rgvf_isJ-bhA"
   },
   "source": [
    "Escreva uma função que substitua todas as ocorrências de um caractere por outro em uma string fornecida pelo usuário.\n",
    "\n",
    "\n",
    "```\n",
    ">>> substituir_caractere(\"banana\", \"a\", \"o\")\n",
    "\"bonono\"\n",
    "```\n",
    "\n"
   ]
  },
  {
   "cell_type": "code",
   "execution_count": null,
   "metadata": {
    "id": "jnKrEdix-_CV"
   },
   "outputs": [],
   "source": []
  },
  {
   "cell_type": "markdown",
   "metadata": {
    "id": "QFe92Tq_-6jN"
   },
   "source": [
    "Escreva uma função que converta a primeira letra de cada palavra em maiúscula em uma string fornecida pelo usuário.\n",
    "\n",
    "\n",
    "```\n",
    ">>> capitalizar_palavras(\"python é uma linguagem de programação\")\n",
    "\"Python É Uma Linguagem De Programação\"\n",
    "```\n",
    "\n"
   ]
  },
  {
   "cell_type": "code",
   "execution_count": null,
   "metadata": {
    "id": "mnHFXLs--_hd"
   },
   "outputs": [],
   "source": []
  },
  {
   "cell_type": "markdown",
   "metadata": {
    "id": "5naHIYlA_AeS"
   },
   "source": [
    "Escreva uma função que conte o número de palavras em uma string fornecida pelo usuário.\n",
    "\n",
    "\n",
    "```\n",
    ">>> contar_palavras(\"Python é uma linguagem de programação\")\n",
    "5\n",
    "```\n",
    "\n"
   ]
  },
  {
   "cell_type": "code",
   "execution_count": null,
   "metadata": {
    "id": "zn3mEqz1_AEi"
   },
   "outputs": [],
   "source": []
  },
  {
   "cell_type": "markdown",
   "metadata": {
    "id": "mLEjrwf6_aNl"
   },
   "source": [
    "Escreva uma função que calcule a média dos números em uma lista fornecida pelo usuário.\n",
    "\n",
    "\n",
    "```\n",
    ">>> calcular_media([10, 20, 30, 40, 50])\n",
    "30.0\n",
    "```\n",
    "\n"
   ]
  },
  {
   "cell_type": "code",
   "execution_count": null,
   "metadata": {
    "id": "sg1Hi-q7_ex4"
   },
   "outputs": [],
   "source": []
  },
  {
   "cell_type": "markdown",
   "metadata": {
    "id": "au0si6pE_fbn"
   },
   "source": [
    "Escreva uma função que encontre o maior e o menor número de uma lista fornecida pelo usuário.\n",
    "\n",
    "\n",
    "```\n",
    ">>> encontrar_maior_menor([15, 7, 22, 13, 45])\n",
    "(45, 7)\n",
    "```\n",
    "\n"
   ]
  },
  {
   "cell_type": "code",
   "execution_count": null,
   "metadata": {
    "id": "sy0B_i2U_pVf"
   },
   "outputs": [],
   "source": []
  },
  {
   "cell_type": "markdown",
   "metadata": {
    "id": "9wlu6sSd_p0w"
   },
   "source": [
    "Escreva uma função que crie e imprima uma nova lista contendo os elementos da lista original em ordem inversa.\n",
    "\n",
    "\n",
    "```\n",
    ">>> inverter_lista([1, 2, 3, 4, 5])\n",
    "[5, 4, 3, 2, 1]\n",
    "```\n",
    "\n"
   ]
  },
  {
   "cell_type": "code",
   "execution_count": null,
   "metadata": {
    "id": "vQ6oh74r_we0"
   },
   "outputs": [],
   "source": []
  },
  {
   "cell_type": "markdown",
   "metadata": {
    "id": "TP8lfq8X_zP2"
   },
   "source": [
    "Escreva uma função que remova os elementos duplicados de uma lista fornecida pelo usuário.\n",
    "\n",
    "\n",
    "```\n",
    ">>> remover_duplicatas([1, 2, 3, 2, 4, 1, 5])\n",
    "[1, 2, 3, 4, 5]\n",
    "```"
   ]
  },
  {
   "cell_type": "code",
   "execution_count": null,
   "metadata": {
    "id": "8QYN8P2F__fH"
   },
   "outputs": [],
   "source": []
  },
  {
   "cell_type": "markdown",
   "metadata": {
    "id": "NI2jHpRQ__8H"
   },
   "source": [
    "Escreva uma função que concatene duas listas fornecidas pelo usuário e imprima a lista resultante.\n",
    "\n",
    "\n",
    "```\n",
    ">>> concatenar_listas([1, 2, 3], [4, 5, 6])\n",
    "[1, 2, 3, 4, 5, 6]\n",
    "```\n",
    "\n"
   ]
  },
  {
   "cell_type": "code",
   "execution_count": null,
   "metadata": {
    "id": "Tq9mD5aXAJB6"
   },
   "outputs": [],
   "source": []
  },
  {
   "cell_type": "markdown",
   "metadata": {
    "id": "e5SUDebOoOTd"
   },
   "source": [
    "## Referências\n",
    "\n",
    "\n",
    "1. Al Sweigart, 2015 [Automate the Boring Stuff with Python: Practical Programming for Total Beginners](https://automatetheboringstuff.com/).\n",
    "2.  Swaroop C. H. [A Byte of Python](http://www.swaroopch.com/notes/python/). "
   ]
  },
  {
   "cell_type": "code",
   "execution_count": null,
   "metadata": {},
   "outputs": [],
   "source": []
  }
 ],
 "metadata": {
  "anaconda-cloud": {},
  "colab": {
   "provenance": []
  },
  "kernelspec": {
   "display_name": "Python 3 (ipykernel)",
   "language": "python",
   "name": "python3"
  },
  "language_info": {
   "codemirror_mode": {
    "name": "ipython",
    "version": 3
   },
   "file_extension": ".py",
   "mimetype": "text/x-python",
   "name": "python",
   "nbconvert_exporter": "python",
   "pygments_lexer": "ipython3",
   "version": "3.10.12"
  }
 },
 "nbformat": 4,
 "nbformat_minor": 4
}
